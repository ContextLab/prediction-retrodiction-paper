{
 "cells": [
  {
   "cell_type": "code",
   "execution_count": 1,
   "metadata": {},
   "outputs": [],
   "source": [
    "import numpy as np\n",
    "import pandas as pd\n",
    "from scipy.spatial import distance\n",
    "\n",
    "def to_str(num):\n",
    "    if num < 10:\n",
    "        return '0'+str(num)\n",
    "    else:\n",
    "        return str(num)"
   ]
  },
  {
   "cell_type": "code",
   "execution_count": 2,
   "metadata": {},
   "outputs": [],
   "source": [
    "info = pd.read_excel('../data/rep/TheChair.xlsx', sheet_name='info')\n",
    "df = pd.read_csv('../data/rep/rep.csv', index_col='no')\n",
    "\n",
    "# add fields\n",
    "df['segment'] = df.apply(\n",
    "    lambda row: '3_' + to_str(row['segment_num']), axis=1)\n",
    "\n",
    "df['cond_direction'] = np.where(df['group']=='prediction', 'f', 'b')\n",
    "df.loc[df['condition'].isin(['p0','r0']), 'cond_amount'] = 'p0/r0'\n",
    "df.loc[df['condition'].isin(['p','r']), 'cond_amount'] = 'p/r'\n",
    "\n",
    "# add 'base_segment' (last watched)\n",
    "df.loc[df['condition'].isin(['p0','p']), 'base_segment'] = df.apply(\n",
    "    lambda row: str(row['story']) + '_' + to_str(row['segment_num']-1), axis=1)\n",
    "df.loc[df['condition'].isin(['r0','r']), 'base_segment'] = df.apply(\n",
    "    lambda row: str(row['story']) + '_' + to_str(row['segment_num']+1), axis=1)\n",
    "\n",
    "df['base_seg_num'] = df['base_segment'].apply(lambda x: int(x[-2:]))\n",
    "\n",
    "# add 'segment_pair' (from .. to ..)\n",
    "df.loc[df['condition'].isin(['p0','p']), 'segment_pair'] = df.apply(\n",
    "    lambda row: str(row['story']) + '_' + to_str(row['segment_num']-1) + '-' + to_str(row['segment_num']), axis=1)\n",
    "df.loc[df['condition'].isin(['r0','r']), 'segment_pair'] = df.apply(\n",
    "    lambda row: str(row['story']) + '_' + to_str(row['segment_num']) + '-' + to_str(row['segment_num']+1), axis=1)\n",
    "\n",
    "# add 'segment_count' (how many segments passed)\n",
    "df.loc[df['cond_direction']=='f', 'segment_count'] = df.loc[df['cond_direction']=='f', 'segment_num'] - 1\n",
    "df.loc[df['cond_direction']=='b', 'segment_count'] = 13 - df.loc[df['cond_direction']=='b', 'segment_num']\n",
    "\n",
    "# add columns for res_1_simi\n",
    "for i, col in enumerate(['res_1_simi_info', 'res_1_simi_info_z',\n",
    "                         'res_1_MD','res_1_MD_z',\n",
    "                         'res_1_MD_sub','res_1_MD_sub_z']):\n",
    "    df.insert(df.columns.get_loc('segment')+i+1, col, np.nan) \n"
   ]
  },
  {
   "cell_type": "code",
   "execution_count": 3,
   "metadata": {},
   "outputs": [
    {
     "name": "stdout",
     "output_type": "stream",
     "text": [
      "(888, 26)\n",
      "(880, 26)\n",
      "(878, 26)\n"
     ]
    }
   ],
   "source": [
    "print(df.shape)\n",
    "\n",
    "df = df.query(\"no_char !=1 \")\n",
    "print(df.shape)\n",
    "\n",
    "df = df.query(\"flag != 1\")\n",
    "print(df.shape)"
   ]
  },
  {
   "cell_type": "code",
   "execution_count": 4,
   "metadata": {},
   "outputs": [],
   "source": [
    "def jaccard(res1, res2, mode=\"matched only\"):\n",
    "    list1 = res1.split()\n",
    "    list2 = res2.split()\n",
    "\n",
    "    if mode==\"matched only\":\n",
    "        list1 = [e for e in list1 if e not in ['0','1','2','3']]\n",
    "        list2 = [e for e in list2 if e not in ['0','1','2','3']]\n",
    "    set1 = set(list1)\n",
    "    set2 = set(list2)\n",
    "    intersection = len(set1.intersection(set2))\n",
    "    union = len(set1.union(set2))\n",
    "\n",
    "    return intersection, union"
   ]
  },
  {
   "cell_type": "code",
   "execution_count": 5,
   "metadata": {},
   "outputs": [],
   "source": [
    "def add_jaccard(row, scenes1, scenes2):\n",
    "    row['intersection'], row['union'] = jaccard(row[scenes1], row[scenes2])\n",
    "    return row"
   ]
  },
  {
   "cell_type": "code",
   "execution_count": 6,
   "metadata": {},
   "outputs": [
    {
     "data": {
      "text/plain": [
       "0.42178447276940906"
      ]
     },
     "execution_count": 6,
     "metadata": {},
     "output_type": "execute_result"
    }
   ],
   "source": [
    "df = df.apply(add_jaccard, scenes1='scenes_xx', scenes2='scenes_xz', axis=1)\n",
    "df['intersection'].sum()/df['union'].sum()"
   ]
  },
  {
   "attachments": {},
   "cell_type": "markdown",
   "metadata": {},
   "source": [
    "## add similarity score"
   ]
  },
  {
   "cell_type": "code",
   "execution_count": 7,
   "metadata": {
    "execution": {
     "iopub.execute_input": "2020-09-06T02:36:21.574317Z",
     "iopub.status.busy": "2020-09-06T02:36:21.573990Z",
     "iopub.status.idle": "2020-09-06T02:36:21.585281Z",
     "shell.execute_reply": "2020-09-06T02:36:21.584668Z",
     "shell.execute_reply.started": "2020-09-06T02:36:21.574286Z"
    }
   },
   "outputs": [],
   "source": [
    "# USE\n",
    "info_embeds = np.load('../data/rep/info_embeds2.npy')\n",
    "exp_embeds = np.load('../data/rep/exp_embeds2.npy')"
   ]
  },
  {
   "cell_type": "code",
   "execution_count": 8,
   "metadata": {
    "execution": {
     "iopub.execute_input": "2020-09-06T15:52:28.696423Z",
     "iopub.status.busy": "2020-09-06T15:52:28.696226Z",
     "iopub.status.idle": "2020-09-06T15:52:52.596128Z",
     "shell.execute_reply": "2020-09-06T15:52:52.595535Z",
     "shell.execute_reply.started": "2020-09-06T15:52:28.696403Z"
    },
    "tags": [
     "run"
    ]
   },
   "outputs": [
    {
     "name": "stderr",
     "output_type": "stream",
     "text": [
      "/var/folders/0g/q20l1c3x7lzg7f953lmgnqs00000gn/T/ipykernel_7285/2708342960.py:19: RuntimeWarning: divide by zero encountered in arctanh\n",
      "  row['res_1_MD'] = np.tanh(np.mean(np.arctanh(pairwise_values)))\n",
      "/var/folders/0g/q20l1c3x7lzg7f953lmgnqs00000gn/T/ipykernel_7285/2708342960.py:20: RuntimeWarning: divide by zero encountered in arctanh\n",
      "  row['res_1_MD_z'] = np.mean(np.arctanh(pairwise_values))\n",
      "/var/folders/0g/q20l1c3x7lzg7f953lmgnqs00000gn/T/ipykernel_7285/2708342960.py:22: RuntimeWarning: divide by zero encountered in arctanh\n",
      "  row['res_1_MD_sub'] = np.tanh(np.mean(np.arctanh(pairwise_values_other)))\n",
      "/var/folders/0g/q20l1c3x7lzg7f953lmgnqs00000gn/T/ipykernel_7285/2708342960.py:23: RuntimeWarning: divide by zero encountered in arctanh\n",
      "  row['res_1_MD_sub_z'] = np.mean(np.arctanh(pairwise_values_other))\n"
     ]
    },
    {
     "data": {
      "text/html": [
       "<div>\n",
       "<style scoped>\n",
       "    .dataframe tbody tr th:only-of-type {\n",
       "        vertical-align: middle;\n",
       "    }\n",
       "\n",
       "    .dataframe tbody tr th {\n",
       "        vertical-align: top;\n",
       "    }\n",
       "\n",
       "    .dataframe thead th {\n",
       "        text-align: right;\n",
       "    }\n",
       "</style>\n",
       "<table border=\"1\" class=\"dataframe\">\n",
       "  <thead>\n",
       "    <tr style=\"text-align: right;\">\n",
       "      <th></th>\n",
       "      <th>sub</th>\n",
       "      <th>story</th>\n",
       "      <th>cond</th>\n",
       "      <th>res</th>\n",
       "      <th>res_corrected</th>\n",
       "      <th>scenes_xx</th>\n",
       "      <th>scenes_xz</th>\n",
       "      <th>scenes_final</th>\n",
       "      <th>group</th>\n",
       "      <th>segment_num</th>\n",
       "      <th>...</th>\n",
       "      <th>res_1_MD_sub</th>\n",
       "      <th>res_1_MD_sub_z</th>\n",
       "      <th>cond_direction</th>\n",
       "      <th>cond_amount</th>\n",
       "      <th>base_segment</th>\n",
       "      <th>base_seg_num</th>\n",
       "      <th>segment_pair</th>\n",
       "      <th>segment_count</th>\n",
       "      <th>intersection</th>\n",
       "      <th>union</th>\n",
       "    </tr>\n",
       "    <tr>\n",
       "      <th>no</th>\n",
       "      <th></th>\n",
       "      <th></th>\n",
       "      <th></th>\n",
       "      <th></th>\n",
       "      <th></th>\n",
       "      <th></th>\n",
       "      <th></th>\n",
       "      <th></th>\n",
       "      <th></th>\n",
       "      <th></th>\n",
       "      <th></th>\n",
       "      <th></th>\n",
       "      <th></th>\n",
       "      <th></th>\n",
       "      <th></th>\n",
       "      <th></th>\n",
       "      <th></th>\n",
       "      <th></th>\n",
       "      <th></th>\n",
       "      <th></th>\n",
       "      <th></th>\n",
       "    </tr>\n",
       "  </thead>\n",
       "  <tbody>\n",
       "    <tr>\n",
       "      <th>0</th>\n",
       "      <td>0522-1</td>\n",
       "      <td>3</td>\n",
       "      <td>1_r0</td>\n",
       "      <td>Segment one is Jiyoon preparing for her first ...</td>\n",
       "      <td>Jiyoon preparing for her first department meet...</td>\n",
       "      <td>1</td>\n",
       "      <td>103</td>\n",
       "      <td>1</td>\n",
       "      <td>retrodiction</td>\n",
       "      <td>1</td>\n",
       "      <td>...</td>\n",
       "      <td>0.305836</td>\n",
       "      <td>0.315945</td>\n",
       "      <td>b</td>\n",
       "      <td>p0/r0</td>\n",
       "      <td>3_02</td>\n",
       "      <td>2</td>\n",
       "      <td>3_01-02</td>\n",
       "      <td>12.0</td>\n",
       "      <td>0</td>\n",
       "      <td>1</td>\n",
       "    </tr>\n",
       "  </tbody>\n",
       "</table>\n",
       "<p>1 rows × 28 columns</p>\n",
       "</div>"
      ],
      "text/plain": [
       "       sub  story  cond                                                res  \\\n",
       "no                                                                           \n",
       "0   0522-1      3  1_r0  Segment one is Jiyoon preparing for her first ...   \n",
       "\n",
       "                                        res_corrected scenes_xx scenes_xz  \\\n",
       "no                                                                          \n",
       "0   Jiyoon preparing for her first department meet...         1       103   \n",
       "\n",
       "   scenes_final         group  segment_num  ... res_1_MD_sub  res_1_MD_sub_z  \\\n",
       "no                                          ...                                \n",
       "0             1  retrodiction            1  ...     0.305836        0.315945   \n",
       "\n",
       "    cond_direction cond_amount  base_segment  base_seg_num  segment_pair  \\\n",
       "no                                                                         \n",
       "0                b       p0/r0          3_02             2       3_01-02   \n",
       "\n",
       "    segment_count  intersection  union  \n",
       "no                                      \n",
       "0            12.0             0      1  \n",
       "\n",
       "[1 rows x 28 columns]"
      ]
     },
     "execution_count": 8,
     "metadata": {},
     "output_type": "execute_result"
    }
   ],
   "source": [
    "def add_scores(row, df=df):\n",
    "    \n",
    "    # print(row.name)\n",
    "    res_embed = [exp_embeds[row.name]]\n",
    "    # print(row.name, row['segment'], row['condition'])\n",
    "    \n",
    "# info\n",
    "    info_embed = info_embeds[info['segment'] == row['segment']]\n",
    "    row['res_1_simi_info'] = 1 - distance.cosine(res_embed, info_embed)\n",
    "    row['res_1_simi_info_z'] = np.arctanh(row['res_1_simi_info'])\n",
    "\n",
    "# same cond median absolute difference (MAD)\n",
    "    same_cond_embeds = exp_embeds[ df[((df['segment']==row['segment']) & (df['condition']==row['condition']))].index ]\n",
    "    same_cond_other_embeds = exp_embeds[ df[((df['segment']==row['segment']) & (df['condition']==row['condition']) & (df['sub']!=row['sub']))].index ]\n",
    "        \n",
    "    pairwise_values = 1 - (distance.pdist(same_cond_embeds, 'cosine'))\n",
    "    pairwise_values_other = 1 - (distance.cdist(res_embed, same_cond_other_embeds, 'cosine'))\n",
    "        \n",
    "    row['res_1_MD'] = np.tanh(np.mean(np.arctanh(pairwise_values)))\n",
    "    row['res_1_MD_z'] = np.mean(np.arctanh(pairwise_values))\n",
    "    \n",
    "    row['res_1_MD_sub'] = np.tanh(np.mean(np.arctanh(pairwise_values_other)))\n",
    "    row['res_1_MD_sub_z'] = np.mean(np.arctanh(pairwise_values_other))\n",
    "\n",
    "#     print(row.name)\n",
    "    return row\n",
    "\n",
    "df = df.apply(add_scores, axis=1)\n",
    "df.head(1)"
   ]
  },
  {
   "cell_type": "code",
   "execution_count": 9,
   "metadata": {},
   "outputs": [],
   "source": [
    "df.to_csv('../data/rep/exp_embed_use_large.csv', index=True, index_label='no')"
   ]
  },
  {
   "attachments": {},
   "cell_type": "markdown",
   "metadata": {},
   "source": []
  }
 ],
 "metadata": {
  "interpreter": {
   "hash": "173ed6709bddaf01d536de92c1f0563b6cc14ff0514f5f446f45ae7c7254209a"
  },
  "kernelspec": {
   "display_name": "Python 3.8.12 ('tf')",
   "language": "python",
   "name": "python3"
  },
  "language_info": {
   "codemirror_mode": {
    "name": "ipython",
    "version": 3
   },
   "file_extension": ".py",
   "mimetype": "text/x-python",
   "name": "python",
   "nbconvert_exporter": "python",
   "pygments_lexer": "ipython3",
   "version": "3.8.12"
  }
 },
 "nbformat": 4,
 "nbformat_minor": 4
}
