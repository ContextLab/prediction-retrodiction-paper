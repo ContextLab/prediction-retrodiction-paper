{
 "cells": [
  {
   "cell_type": "code",
   "execution_count": null,
   "metadata": {
    "vscode": {
     "languageId": "r"
    }
   },
   "outputs": [],
   "source": [
    "install.packages(c(\"tidyverse\", \"afex\", \"emmeans\"))"
   ]
  },
  {
   "cell_type": "code",
   "execution_count": null,
   "metadata": {
    "execution": {
     "iopub.execute_input": "2020-10-17T04:12:49.992671Z",
     "iopub.status.busy": "2020-10-17T04:12:49.978895Z",
     "iopub.status.idle": "2020-10-17T04:12:51.615543Z"
    },
    "vscode": {
     "languageId": "r"
    }
   },
   "outputs": [],
   "source": [
    "library('afex')\n",
    "library(\"tidyverse\")\n",
    "library('emmeans')\n",
    "set_sum_contrasts()\n",
    "\n",
    "require(parallel)\n",
    "(nc <- detectCores()) # number of cores\n",
    "cl <- makeCluster(rep(\"localhost\", nc))\n"
   ]
  },
  {
   "cell_type": "markdown",
   "metadata": {},
   "source": [
    "# figure 4"
   ]
  },
  {
   "cell_type": "code",
   "execution_count": 4,
   "metadata": {
    "vscode": {
     "languageId": "r"
    }
   },
   "outputs": [
    {
     "name": "stdout",
     "output_type": "stream",
     "text": [
      "'data.frame':\t1360 obs. of  21 variables:\n",
      " $ sub                 : Factor w/ 36 levels \"0116-1\",\"0116-2\",..: 1 1 1 1 1 1 1 1 1 1 ...\n",
      " $ story               : Factor w/ 2 levels \"1\",\"2\": 1 1 1 1 1 1 1 1 1 1 ...\n",
      " $ segment             : Factor w/ 22 levels \"1_01\",\"1_02\",..: 1 2 2 2 3 4 4 4 5 6 ...\n",
      " $ segment_count       : num  0 1 1 1 2 3 3 3 4 5 ...\n",
      " $ segment_num         : int  1 2 2 2 3 4 4 4 5 6 ...\n",
      " $ base_segment        : Factor w/ 22 levels \"1_01\",\"1_02\",..: 1 1 1 1 3 3 3 3 5 5 ...\n",
      " $ segment_pair        : Factor w/ 21 levels \"1_01-02\",\"1_02-03\",..: 21 1 1 21 21 3 3 21 21 5 ...\n",
      " $ condition           : Factor w/ 8 levels \"p\",\"p0\",\"p_r\",..: 4 2 1 3 4 2 1 3 4 2 ...\n",
      " $ cond_direction      : Factor w/ 2 levels \"b\",\"f\": 2 2 2 2 2 2 2 2 2 2 ...\n",
      " $ cond_amount         : Factor w/ 4 levels \"p/r\",\"p0/r0\",..: 4 2 1 3 4 2 1 3 4 2 ...\n",
      " $ target_points       : num  4 7.5 7.5 7.5 6 8.5 8.5 8.5 8 7 ...\n",
      " $ e_total             : num  2 4.5 3.5 4.5 4 1 1.5 3.5 4 1 ...\n",
      " $ e_target            : num  2 1.5 1.5 1.5 4 0 0.5 2.5 4 0 ...\n",
      " $ res_1_simi_self_z   : num  NA 0.876 0.879 0.905 NA ...\n",
      " $ res_1_simi_other_z  : num  1.181 0.837 0.868 0.774 1.065 ...\n",
      " $ res_1_MAD_z         : num  1.168 0.953 0.95 1.01 1.087 ...\n",
      " $ res_1_MAD_sub_z     : num  1.181 0.991 1.076 1.023 1.065 ...\n",
      " $ res_1_MD_z          : num  1.185 0.942 0.943 1.01 1.102 ...\n",
      " $ res_1_MD_sub_z      : num  1.17 1.018 1.076 0.993 1.083 ...\n",
      " $ segment_count_demean: num  -5.5 -4.5 -4.5 -4.5 -3.5 -2.5 -2.5 -2.5 -1.5 -0.5 ...\n",
      " $ segment_num_demean  : int  -5 -4 -4 -4 -3 -2 -2 -2 -1 0 ...\n"
     ]
    }
   ],
   "source": [
    "df_pr_recall <- read.csv(file = 'data/R/df_pr_recall_for_R.csv', stringsAsFactors = TRUE)\n",
    "df_pr_recall$story <- factor(df_pr_recall$story)\n",
    "str(df_pr_recall)\n",
    "\n",
    "df_p0r0 <- dplyr::filter(df_pr_recall, cond_amount=='p0/r0')\n",
    "df_cpr <- dplyr::filter(df_pr_recall, cond_amount=='p/r')\n",
    "df_recall <- dplyr::filter(df_pr_recall, cond_amount=='p_recall/r_recall')"
   ]
  },
  {
   "cell_type": "markdown",
   "metadata": {},
   "source": [
    "## target event hit rate"
   ]
  },
  {
   "cell_type": "code",
   "execution_count": null,
   "metadata": {
    "vscode": {
     "languageId": "r"
    }
   },
   "outputs": [],
   "source": [
    "# pr_recall_hit_ac proportion\n",
    "pr_recall_hit_ac <- mixed(cbind(e_target, target_points - e_target) ~ \n",
    "                   cond_direction*cond_amount*segment_count_demean*story + \n",
    "                  (cond_direction*cond_amount|segment) + \n",
    "                  (cond_direction*cond_amount*segment_count_demean|sub), \n",
    "                df_pr_recall, family = binomial, method = \"LRT\", cl=cl)\n",
    "pr_recall_hit_ac\n",
    "saveRDS(pr_recall_hit_ac, \"../pr_recall_hit_ac.rds\")"
   ]
  },
  {
   "cell_type": "code",
   "execution_count": null,
   "metadata": {
    "vscode": {
     "languageId": "r"
    }
   },
   "outputs": [],
   "source": [
    "# hit_ac proportion seperate\n",
    "p0r0_hit_ac <- mixed(cbind(e_target, target_points - e_target) ~ \n",
    "                   cond_direction*segment_count_demean*story + \n",
    "                  (cond_direction|segment) + \n",
    "                  (cond_direction*segment_count_demean|sub), \n",
    "                df_p0r0, family = binomial, method = \"LRT\", cl=cl)\n",
    "p0r0_hit_ac\n",
    "saveRDS(p0r0_hit_ac, \"../p0r0_hit_ac.rds\")\n",
    "\n",
    "cpr_hit_ac <- mixed(cbind(e_target, target_points - e_target) ~ \n",
    "                   cond_direction*segment_count_demean*story + \n",
    "                  (cond_direction|segment) + \n",
    "                  (cond_direction*segment_count_demean|sub), \n",
    "                df_cpr, family = binomial, method = \"LRT\", cl=cl)\n",
    "cpr_hit_ac\n",
    "saveRDS(cpr_hit_ac, \"../cpr_hit_ac.rds\")\n",
    "\n",
    "recall_hit_ac <- mixed(cbind(e_target, target_points - e_target) ~ \n",
    "                   cond_direction*segment_count_demean*story + \n",
    "                  (cond_direction|segment) + \n",
    "                  (cond_direction*segment_count_demean|sub), \n",
    "                df_recall, family = binomial, method = \"LRT\", cl=cl)\n",
    "recall_hit_ac\n",
    "saveRDS(recall_hit_ac, \"../recall_hit_ac.rds\")"
   ]
  },
  {
   "cell_type": "markdown",
   "metadata": {},
   "source": [
    "## precision"
   ]
  },
  {
   "cell_type": "code",
   "execution_count": 24,
   "metadata": {
    "vscode": {
     "languageId": "r"
    }
   },
   "outputs": [
    {
     "name": "stdout",
     "output_type": "stream",
     "text": [
      "'data.frame':\t981 obs. of  24 variables:\n",
      " $ sub                 : Factor w/ 36 levels \"0116-1\",\"0116-2\",..: 1 1 1 1 1 1 1 1 1 1 ...\n",
      " $ story               : Factor w/ 2 levels \"1\",\"2\": 1 1 1 1 1 1 1 1 1 1 ...\n",
      " $ segment             : Factor w/ 22 levels \"1_01\",\"1_02\",..: 2 2 2 4 4 4 6 6 6 8 ...\n",
      " $ segment_count       : num  1 1 1 3 3 3 5 5 5 7 ...\n",
      " $ segment_num         : int  2 2 2 4 4 4 6 6 6 8 ...\n",
      " $ base_segment        : Factor w/ 22 levels \"1_01\",\"1_02\",..: 1 1 1 3 3 3 5 5 5 7 ...\n",
      " $ segment_pair        : Factor w/ 21 levels \"1_01-02\",\"1_02-03\",..: 1 1 21 3 3 21 5 5 21 7 ...\n",
      " $ condition           : Factor w/ 6 levels \"p\",\"p0\",\"p_r\",..: 2 1 3 2 1 3 2 1 3 2 ...\n",
      " $ cond_direction      : Factor w/ 2 levels \"b\",\"f\": 2 2 2 2 2 2 2 2 2 2 ...\n",
      " $ cond_amount         : Factor w/ 3 levels \"p/r\",\"p0/r0\",..: 2 1 3 2 1 3 2 1 3 2 ...\n",
      " $ target_points       : num  7.5 7.5 7.5 8.5 8.5 8.5 7 7 7 5.5 ...\n",
      " $ e_total             : num  4.5 3.5 4.5 1 1.5 3.5 1 1 2 2 ...\n",
      " $ e_target            : num  1.5 1.5 1.5 0 0.5 2.5 0 0 0 2 ...\n",
      " $ res_1_simi_self_z   : num  0.876 0.879 0.905 0.859 0.946 ...\n",
      " $ res_1_simi_other_z  : num  0.837 0.868 0.774 0.637 0.894 ...\n",
      " $ res_1_MAD_z         : num  0.953 0.95 1.01 0.845 0.829 ...\n",
      " $ res_1_MAD_sub_z     : num  0.991 1.076 1.023 0.843 0.858 ...\n",
      " $ res_1_MD_z          : num  0.942 0.943 1.01 0.839 0.849 ...\n",
      " $ res_1_MD_sub_z      : num  1.018 1.076 0.993 0.837 0.912 ...\n",
      " $ segment_count_demean: num  -4.5 -4.5 -4.5 -2.5 -2.5 -2.5 -0.5 -0.5 -0.5 1.5 ...\n",
      " $ segment_num_demean  : int  -4 -4 -4 -2 -2 -2 0 0 0 2 ...\n",
      " $ e_target_2          : num  3 3 3 0 1 5 0 0 0 4 ...\n",
      " $ e_total_2           : num  9 7 9 2 3 7 2 2 4 4 ...\n",
      " $ target_points_2     : num  15 15 15 17 17 17 14 14 14 11 ...\n"
     ]
    }
   ],
   "source": [
    "# df_pr\n",
    "df_pr <- read.csv(file = 'data/R/df_pr_for_R.csv', stringsAsFactors = TRUE)\n",
    "df_pr$story <- factor(df_pr$story)\n",
    "str(df_pr)"
   ]
  },
  {
   "cell_type": "code",
   "execution_count": null,
   "metadata": {
    "vscode": {
     "languageId": "r"
    }
   },
   "outputs": [],
   "source": [
    "# pr_simi_other\n",
    "pr_simi_other <- mixed(res_1_simi_other_z ~ cond_direction*cond_amount*segment_count_demean*story + \n",
    "                  (cond_direction*cond_amount|segment) + \n",
    "                  (cond_direction*cond_amount*segment_count_demean|sub), \n",
    "                  df_pr, method='S')\n",
    "pr_simi_other\n",
    "saveRDS(pr_simi_other, \"../stats_models/pr_simi_other.rds\")"
   ]
  },
  {
   "cell_type": "code",
   "execution_count": null,
   "metadata": {
    "vscode": {
     "languageId": "r"
    }
   },
   "outputs": [],
   "source": [
    "# simi_other seperate\n",
    "p0r0_simi_other <- mixed(res_1_simi_other_z ~ cond_direction*segment_count_demean*story + \n",
    "                  (cond_direction|segment) + \n",
    "                  (cond_direction*segment_count_demean|sub), \n",
    "                  df_p0r0, method='S')\n",
    "p0r0_simi_other\n",
    "saveRDS(p0r0_simi_other, \"../p0r0_simi_other.rds\")\n",
    "\n",
    "cpr_simi_other <- mixed(res_1_simi_other_z ~ cond_direction*segment_count_demean*story + \n",
    "                  (cond_direction|segment) + \n",
    "                  (cond_direction*segment_count_demean|sub), \n",
    "                  df_cpr, method='S')\n",
    "cpr_simi_other\n",
    "saveRDS(cpr_simi_other, \"../cpr_simi_other.rds\")"
   ]
  },
  {
   "cell_type": "markdown",
   "metadata": {},
   "source": [
    "## convergence"
   ]
  },
  {
   "cell_type": "code",
   "execution_count": null,
   "metadata": {
    "vscode": {
     "languageId": "r"
    }
   },
   "outputs": [],
   "source": [
    "# pr_recall_MD\n",
    "pr_recall_MD <- mixed(res_1_MD_sub_z ~ cond_direction*cond_amount*segment_count_demean*story + \n",
    "                     (cond_direction*cond_amount|segment) + \n",
    "                     (cond_direction*cond_amount*segment_count_demean|sub), \n",
    "                     df_pr_recall, method='S')\n",
    "pr_recall_MD\n",
    "saveRDS(pr_recall_MD, \"../pr_recall_MD.rds\")"
   ]
  },
  {
   "cell_type": "code",
   "execution_count": null,
   "metadata": {
    "vscode": {
     "languageId": "r"
    }
   },
   "outputs": [],
   "source": [
    "# consistency seperate\n",
    "p0r0_MD <- mixed(res_1_MD_sub_z ~ cond_direction*segment_count_demean*story + \n",
    "                  (cond_direction|segment) + \n",
    "                  (cond_direction*segment_count_demean|sub), \n",
    "                  df_p0r0, method='S')\n",
    "p0r0_MD\n",
    "saveRDS(p0r0_MD, \"../p0r0_MD.rds\")\n",
    "\n",
    "cpr_MD <- mixed(res_1_MD_sub_z ~ cond_direction*segment_count_demean*story + \n",
    "                  (cond_direction|segment) + \n",
    "                  (cond_direction*segment_count_demean|sub), \n",
    "                  df_cpr, method='S')\n",
    "cpr_MD\n",
    "saveRDS(cpr_MD, \"../cpr_MD.rds\")\n",
    "\n",
    "recall_MD <- mixed(res_1_MD_sub_z ~ cond_direction*segment_count_demean*story + \n",
    "                  (cond_direction|segment) + \n",
    "                  (cond_direction*segment_count_demean|sub), \n",
    "                  df_recall, method='S')\n",
    "recall_MD\n",
    "saveRDS(recall_MD, \"../recall_MD.rds\")"
   ]
  },
  {
   "cell_type": "markdown",
   "metadata": {},
   "source": [
    "# figure 5"
   ]
  },
  {
   "cell_type": "code",
   "execution_count": null,
   "metadata": {
    "collapsed": true,
    "execution": {
     "iopub.execute_input": "2020-10-13T15:28:04.763468Z",
     "iopub.status.busy": "2020-10-13T15:28:04.708294Z",
     "iopub.status.idle": "2020-10-13T16:06:57.436944Z"
    },
    "jupyter": {
     "outputs_hidden": true
    },
    "vscode": {
     "languageId": "r"
    }
   },
   "outputs": [],
   "source": [
    "# p0r0_hit_econd_total poisson\n",
    "df_p0r0$e_total_2 <- df_p0r0$e_total*2 # integers required\n",
    "\n",
    "p0r0_hit_econd_total <- mixed(e_total_2 ~ cond_direction*segment_count_demean*story + \n",
    "                      (cond_direction|segment) + \n",
    "                      (cond_direction*segment_count_demean|sub), \n",
    "                    df_p0r0, family = poisson, method = \"LRT\", cl=cl)\n",
    "p0r0_hit_econd_total\n",
    "saveRDS(p0r0_hit_econd_total, \"../p0r0_hit_econd_total.rds\")"
   ]
  },
  {
   "cell_type": "code",
   "execution_count": 25,
   "metadata": {
    "execution": {
     "iopub.execute_input": "2020-10-16T12:42:20.585184Z",
     "iopub.status.busy": "2020-10-16T12:42:20.566300Z",
     "iopub.status.idle": "2020-10-16T12:42:20.749558Z"
    },
    "vscode": {
     "languageId": "r"
    }
   },
   "outputs": [
    {
     "name": "stdout",
     "output_type": "stream",
     "text": [
      "'data.frame':\t3924 obs. of  15 variables:\n",
      " $ sub                 : Factor w/ 36 levels \"0116-1\",\"0116-2\",..: 1 1 1 1 1 1 1 1 1 1 ...\n",
      " $ story               : Factor w/ 2 levels \"1\",\"2\": 1 1 1 1 1 1 1 1 1 1 ...\n",
      " $ segment             : Factor w/ 22 levels \"1_01\",\"1_02\",..: 2 2 2 4 4 4 6 6 6 8 ...\n",
      " $ segment_count       : num  1 1 1 3 3 3 5 5 5 7 ...\n",
      " $ segment_num         : int  2 2 2 4 4 4 6 6 6 8 ...\n",
      " $ base_segment        : Factor w/ 22 levels \"1_01\",\"1_02\",..: 1 1 1 3 3 3 5 5 5 7 ...\n",
      " $ segment_pair        : Factor w/ 21 levels \"1_01-02\",\"1_02-03\",..: 1 1 21 3 3 21 5 5 21 7 ...\n",
      " $ condition           : Factor w/ 6 levels \"p\",\"p0\",\"p_r\",..: 2 1 3 2 1 3 2 1 3 2 ...\n",
      " $ cond_direction      : Factor w/ 2 levels \"b\",\"f\": 2 2 2 2 2 2 2 2 2 2 ...\n",
      " $ cond_amount         : Factor w/ 3 levels \"p/r\",\"p0/r0\",..: 2 1 3 2 1 3 2 1 3 2 ...\n",
      " $ e_cond              : Factor w/ 4 levels \"e_ahead\",\"e_gap\",..: 3 3 3 3 3 3 3 3 3 3 ...\n",
      " $ n_hits              : num  1.5 1.5 1.5 0 0.5 2.5 0 0 0 2 ...\n",
      " $ segment_count_demean: num  -4.5 -4.5 -4.5 -2.5 -2.5 -2.5 -0.5 -0.5 -0.5 1.5 ...\n",
      " $ segment_num_demean  : int  -4 -4 -4 -2 -2 -2 0 0 0 2 ...\n",
      " $ n_hits_2            : num  3 3 3 0 1 5 0 0 0 4 ...\n"
     ]
    }
   ],
   "source": [
    "df_pr_econd <- read.csv(file = 'data/R/df_pr_econd_for_R.csv', stringsAsFactors = TRUE)\n",
    "df_pr_econd$n_hits_2 <- df_pr_econd$n_hits*2 # integers required\n",
    "df_pr_econd$story <- factor(df_pr_econd$story)\n",
    "str(df_pr_econd)\n",
    "\n",
    "df_p0r0_econd <- dplyr::filter(df_pr_econd, cond_amount=='p0/r0')\n",
    "df_cpr_econd <- dplyr::filter(df_pr_econd, cond_amount=='p/r')"
   ]
  },
  {
   "cell_type": "code",
   "execution_count": null,
   "metadata": {
    "vscode": {
     "languageId": "r"
    }
   },
   "outputs": [],
   "source": [
    "p0r0_hit_econd <- mixed(n_hits_2 ~ cond_direction*segment_count_demean*story*e_cond + \n",
    "                  (cond_direction*e_cond|segment) + \n",
    "                  (cond_direction*segment_count_demean*e_cond|sub), \n",
    "                df_p0r0_econd, family = poisson, method = \"LRT\", cl=cl)\n",
    "p0r0_hit_econd\n",
    "saveRDS(p0r0_hit_econd, \"../p0r0_hit_econd.rds\")"
   ]
  },
  {
   "cell_type": "markdown",
   "metadata": {},
   "source": [
    "## step plot"
   ]
  },
  {
   "cell_type": "code",
   "execution_count": 26,
   "metadata": {
    "execution": {
     "iopub.execute_input": "2020-10-17T09:53:11.832444Z",
     "iopub.status.busy": "2020-10-17T09:53:11.821330Z",
     "iopub.status.idle": "2020-10-17T09:53:13.543419Z"
    },
    "vscode": {
     "languageId": "r"
    }
   },
   "outputs": [
    {
     "name": "stdout",
     "output_type": "stream",
     "text": [
      "'data.frame':\t3800 obs. of  14 variables:\n",
      " $ condition           : Factor w/ 2 levels \"p0\",\"r0\": 2 2 2 2 2 2 2 2 2 2 ...\n",
      " $ story               : Factor w/ 2 levels \"1\",\"2\": 2 2 2 2 2 1 1 1 1 1 ...\n",
      " $ sub                 : Factor w/ 36 levels \"0116-1\",\"0116-2\",..: 1 1 1 1 1 2 2 2 2 2 ...\n",
      " $ segment_count       : num  1 3 5 7 9 1 3 5 7 9 ...\n",
      " $ segment_count_demean: num  -4.5 -2.5 -0.5 1.5 3.5 -4.5 -2.5 -0.5 1.5 3.5 ...\n",
      " $ main_or_gap         : Factor w/ 2 levels \"gap\",\"main\": 2 2 2 2 2 2 2 2 2 2 ...\n",
      " $ base_segment        : Factor w/ 22 levels \"1_01\",\"1_02\",..: 22 20 18 16 14 11 9 7 5 3 ...\n",
      " $ step_abs            : num  10 8 6 4 2 10 8 6 4 2 ...\n",
      " $ step_abs_demean     : num  6.75 4.75 2.75 0.75 -1.25 6.75 4.75 2.75 0.75 -1.25 ...\n",
      " $ refer_seg           : Factor w/ 42 levels \"1_1.0\",\"1_1.5\",..: 22 22 22 22 22 1 1 1 1 1 ...\n",
      " $ base_refer_seg_pair : Factor w/ 440 levels \"1_01_1_1.5\",\"1_01_1_10.0\",..: 421 381 341 301 261 201 161 121 81 41 ...\n",
      " $ refer_seg_e         : num  0 0 0 0 0 0 0 0 0 0 ...\n",
      " $ refer_seg_points    : num  3.5 3.5 3.5 3.5 3.5 4 4 4 4 4 ...\n",
      " $ refer_seg_e_2       : num  0 0 0 0 0 0 0 0 0 0 ...\n"
     ]
    }
   ],
   "source": [
    "df_refer_long_p0r0 <- read.csv(file = 'data/R/df_refer_long_p0r0_for_R.csv', stringsAsFactors = TRUE)\n",
    "df_refer_long_p0r0$refer_seg_e_2 <- df_refer_long_p0r0$refer_seg_e*2 # integers required\n",
    "df_refer_long_p0r0$story <- factor(df_refer_long_p0r0$story)\n",
    "str(df_refer_long_p0r0)"
   ]
  },
  {
   "cell_type": "code",
   "execution_count": null,
   "metadata": {
    "vscode": {
     "languageId": "r"
    }
   },
   "outputs": [],
   "source": [
    "p0_r0_hit_refer_step_2 <- mixed(refer_seg_e_2 ~ condition*main_or_gap*step_abs_demean*story + \n",
    "                           (condition|base_segment) + \n",
    "                           (1|base_refer_seg_pair) +\n",
    "                           (condition*main_or_gap*step_abs_demean*story|sub), \n",
    "                       df_refer_long_p0r0, family = poisson, method = \"LRT\", cl=cl)\n",
    "p0_r0_hit_refer_step_2\n",
    "saveRDS(p0_r0_hit_refer_step_2, \"../p0_r0_hit_refer_step_2.rds\")"
   ]
  },
  {
   "cell_type": "markdown",
   "metadata": {},
   "source": [
    "# figure 6"
   ]
  },
  {
   "cell_type": "code",
   "execution_count": 27,
   "metadata": {
    "execution": {
     "iopub.execute_input": "2020-10-18T08:54:52.432042Z",
     "iopub.status.busy": "2020-10-18T08:54:52.429960Z",
     "iopub.status.idle": "2020-10-18T08:54:54.066210Z"
    },
    "vscode": {
     "languageId": "r"
    }
   },
   "outputs": [
    {
     "name": "stdout",
     "output_type": "stream",
     "text": [
      "'data.frame':\t4415 obs. of  19 variables:\n",
      " $ sub                     : Factor w/ 36 levels \"0116-1\",\"0116-2\",..: 1 1 1 1 1 1 1 1 1 1 ...\n",
      " $ condition               : Factor w/ 2 levels \"p0\",\"r0\": 1 1 1 1 1 1 1 1 1 1 ...\n",
      " $ story                   : Factor w/ 2 levels \"1\",\"2\": 1 1 1 1 1 1 1 1 1 1 ...\n",
      " $ segment                 : Factor w/ 22 levels \"1_01\",\"1_02\",..: 2 2 2 2 2 2 2 2 2 2 ...\n",
      " $ segment_count           : num  1 1 1 1 1 1 1 1 1 1 ...\n",
      " $ base_seg_num            : int  1 1 1 1 1 1 1 1 1 1 ...\n",
      " $ base_segment            : Factor w/ 22 levels \"1_01\",\"1_02\",..: 1 1 1 1 1 1 1 1 1 1 ...\n",
      " $ ref_seg_num             : num  1.5 1.5 2 2 2.5 3 3.5 4 4.5 5 ...\n",
      " $ ref_step_base           : num  0.5 0.5 1 1 1.5 2 2.5 3 3.5 4 ...\n",
      " $ ref_step_base_abs       : num  0.5 0.5 1 1 1.5 2 2.5 3 3.5 4 ...\n",
      " $ ref_seg_type            : Factor w/ 4 levels \"ahead_gap\",\"ahead_main\",..: 3 3 4 4 1 2 1 2 1 2 ...\n",
      " $ main_or_gap             : Factor w/ 2 levels \"gap\",\"main\": 1 1 2 2 1 2 1 2 1 2 ...\n",
      " $ refer_type_merge        : Factor w/ 2 levels \"none\",\"referred\": 1 2 1 2 1 1 1 1 1 1 ...\n",
      " $ total_count             : int  3 4 7 1 3 6 2 9 1 8 ...\n",
      " $ total_points            : num  3 4 7 0.5 3 6 2 8.5 1 8 ...\n",
      " $ total_hits              : num  2 1 1 0.5 0 0 0 0 0 0 ...\n",
      " $ base_refer_seg_pair     : Factor w/ 440 levels \"1_01_1.5\",\"1_01_10.0\",..: 1 1 5 5 6 7 8 9 10 11 ...\n",
      " $ segment_count_demean    : num  -4.5 -4.5 -4.5 -4.5 -4.5 -4.5 -4.5 -4.5 -4.5 -4.5 ...\n",
      " $ ref_step_base_abs_demean: num  -2.75 -2.75 -2.25 -2.25 -1.75 -1.25 -0.75 -0.25 0.25 0.75 ...\n"
     ]
    }
   ],
   "source": [
    "df_seg_seg_type_p0r0 <- read.csv(file = 'data/R/df_seg_seg_type_p0r0_for_R.csv', stringsAsFactors = TRUE)\n",
    "df_seg_seg_type_p0r0$story <- factor(df_seg_seg_type_p0r0$story)\n",
    "str(df_seg_seg_type_p0r0)"
   ]
  },
  {
   "cell_type": "code",
   "execution_count": null,
   "metadata": {
    "vscode": {
     "languageId": "r"
    }
   },
   "outputs": [],
   "source": [
    "p0_r0_seg_seg_type_1 <- mixed(cbind(total_hits, total_points - total_hits) ~ \n",
    "                              condition*refer_type_merge*main_or_gap + ref_step_base_abs_demean + \n",
    "                              (condition|base_segment) + \n",
    "                              (1|base_refer_seg_pair) +\n",
    "                              (condition*refer_type_merge*main_or_gap + ref_step_base_abs_demean|sub), \n",
    "                          df_seg_seg_type_p0r0, family = binomial, method = \"LRT\", cl=cl)\n",
    "p0_r0_seg_seg_type_1\n",
    "saveRDS(p0_r0_seg_seg_type_1, \"../p0_r0_seg_seg_type_1.rds\")"
   ]
  },
  {
   "cell_type": "markdown",
   "metadata": {},
   "source": [
    "# figure 7"
   ]
  },
  {
   "cell_type": "code",
   "execution_count": 31,
   "metadata": {
    "execution": {
     "iopub.execute_input": "2020-10-18T14:27:23.421458Z",
     "iopub.status.busy": "2020-10-18T14:27:23.418385Z",
     "iopub.status.idle": "2020-10-18T14:27:25.177016Z"
    },
    "vscode": {
     "languageId": "r"
    }
   },
   "outputs": [
    {
     "name": "stdout",
     "output_type": "stream",
     "text": [
      "'data.frame':\t4415 obs. of  20 variables:\n",
      " $ sub                     : Factor w/ 36 levels \"0116-1\",\"0116-2\",..: 1 1 1 1 1 1 1 1 1 1 ...\n",
      " $ condition               : Factor w/ 2 levels \"p0\",\"r0\": 1 1 1 1 1 1 1 1 1 1 ...\n",
      " $ story                   : Factor w/ 2 levels \"1\",\"2\": 1 1 1 1 1 1 1 1 1 1 ...\n",
      " $ segment                 : Factor w/ 22 levels \"1_01\",\"1_02\",..: 2 2 2 2 2 2 2 2 2 2 ...\n",
      " $ segment_count           : num  1 1 1 1 1 1 1 1 1 1 ...\n",
      " $ base_segment            : Factor w/ 22 levels \"1_01\",\"1_02\",..: 1 1 1 1 1 1 1 1 1 1 ...\n",
      " $ base_seg_num            : int  1 1 1 1 1 1 1 1 1 1 ...\n",
      " $ ref_seg_num             : num  1.5 1.5 2 2 2.5 3 3.5 4 4.5 5 ...\n",
      " $ ref_step_base           : num  0.5 0.5 1 1 1.5 2 2.5 3 3.5 4 ...\n",
      " $ ref_step_base_abs       : num  0.5 0.5 1 1 1.5 2 2.5 3 3.5 4 ...\n",
      " $ ref_seg_type            : Factor w/ 4 levels \"ahead_gap\",\"ahead_main\",..: 3 3 4 4 1 2 1 2 1 2 ...\n",
      " $ main_or_gap             : Factor w/ 2 levels \"gap\",\"main\": 1 1 2 2 1 2 1 2 1 2 ...\n",
      " $ refer_boost_type        : Factor w/ 4 levels \"neighbor\",\"none\",..: 3 4 3 4 1 1 2 2 2 2 ...\n",
      " $ refer_boost_type_tri    : Factor w/ 3 levels \"neighbor\",\"none\",..: 3 1 3 1 1 1 2 2 2 2 ...\n",
      " $ total_count             : int  4 3 1 7 3 6 2 9 1 8 ...\n",
      " $ total_points            : num  4 3 0.5 7 3 6 2 8.5 1 8 ...\n",
      " $ total_hits              : num  1 2 0.5 1 0 0 0 0 0 0 ...\n",
      " $ base_refer_seg_pair     : Factor w/ 440 levels \"1_01_1.5\",\"1_01_10.0\",..: 1 1 5 5 6 7 8 9 10 11 ...\n",
      " $ segment_count_demean    : num  -4.5 -4.5 -4.5 -4.5 -4.5 -4.5 -4.5 -4.5 -4.5 -4.5 ...\n",
      " $ ref_step_base_abs_demean: num  -2.75 -2.75 -2.25 -2.25 -1.75 -1.25 -0.75 -0.25 0.25 0.75 ...\n"
     ]
    }
   ],
   "source": [
    "df_seg_seg_boost_type_p0r0 <- read.csv(file = 'data/R/df_seg_seg_boost_type_p0r0_for_R.csv', stringsAsFactors = TRUE)\n",
    "df_seg_seg_boost_type_p0r0$story <- factor(df_seg_seg_boost_type_p0r0$story)\n",
    "str(df_seg_seg_boost_type_p0r0)"
   ]
  },
  {
   "cell_type": "code",
   "execution_count": null,
   "metadata": {
    "vscode": {
     "languageId": "r"
    }
   },
   "outputs": [],
   "source": [
    "p0_r0_seg_seg_boost_type_tri_1 <- mixed(cbind(total_hits, total_points - total_hits) ~ \n",
    "                              condition*refer_boost_type_tri*main_or_gap + ref_step_base_abs_demean + \n",
    "                              (condition|base_segment) + \n",
    "                              (1|base_refer_seg_pair) +\n",
    "                              (condition*refer_boost_type_tri*main_or_gap + ref_step_base_abs_demean|sub), \n",
    "                          df_seg_seg_boost_type_p0r0, family = binomial, method = \"LRT\", cl=cl)\n",
    "p0_r0_seg_seg_boost_type_tri_1\n",
    "saveRDS(p0_r0_seg_seg_boost_type_tri_1, \"../p0_r0_seg_seg_boost_type_tri_1.rds\")"
   ]
  },
  {
   "cell_type": "markdown",
   "metadata": {},
   "source": [
    "## figure 8"
   ]
  },
  {
   "cell_type": "code",
   "execution_count": 4,
   "metadata": {
    "vscode": {
     "languageId": "r"
    }
   },
   "outputs": [
    {
     "name": "stdout",
     "output_type": "stream",
     "text": [
      "'data.frame':\t2496 obs. of  19 variables:\n",
      " $ sub                     : Factor w/ 36 levels \"0116-1\",\"0116-2\",..: 1 1 1 1 1 1 1 1 1 1 ...\n",
      " $ condition               : Factor w/ 2 levels \"p0\",\"r0\": 1 1 1 1 1 1 1 1 1 1 ...\n",
      " $ story                   : Factor w/ 2 levels \"1\",\"2\": 1 1 1 1 1 1 1 1 1 1 ...\n",
      " $ segment                 : Factor w/ 22 levels \"1_01\",\"1_02\",..: 2 2 2 2 2 2 2 2 2 2 ...\n",
      " $ segment_count           : int  1 1 1 1 1 1 1 1 1 1 ...\n",
      " $ base_seg_num            : int  1 1 1 1 1 1 1 1 1 1 ...\n",
      " $ base_segment            : Factor w/ 22 levels \"1_01\",\"1_02\",..: 1 1 1 1 1 1 1 1 1 1 ...\n",
      " $ ref_seg_num             : num  2 2 3 4 5 6 7 8 9 10 ...\n",
      " $ ref_step_base           : num  1 1 2 3 4 5 6 7 8 9 ...\n",
      " $ ref_step_base_abs       : num  1 1 2 3 4 5 6 7 8 9 ...\n",
      " $ ref_seg_type            : Factor w/ 2 levels \"ahead_main\",\"target\": 2 2 1 1 1 1 1 1 1 1 ...\n",
      " $ main_or_gap             : Factor w/ 1 level \"main\": 1 1 1 1 1 1 1 1 1 1 ...\n",
      " $ rr_type                 : Factor w/ 3 levels \"none\",\"referred\",..: 1 2 1 1 1 1 1 1 1 1 ...\n",
      " $ total_count             : int  7 1 6 9 8 8 6 7 6 4 ...\n",
      " $ total_points            : num  7 0.5 6 8.5 8 7 5.5 5.5 5 3.5 ...\n",
      " $ total_hits              : num  1 0.5 0 0 0 0 0 0 0 0 ...\n",
      " $ base_refer_seg_pair     : Factor w/ 220 levels \"1_01_10.0\",\"1_01_11.0\",..: 3 3 4 5 6 7 8 9 10 1 ...\n",
      " $ segment_count_demean    : num  -4.5 -4.5 -4.5 -4.5 -4.5 -4.5 -4.5 -4.5 -4.5 -4.5 ...\n",
      " $ ref_step_base_abs_demean: num  -2.25 -2.25 -1.25 -0.25 0.75 1.75 2.75 3.75 4.75 5.75 ...\n"
     ]
    }
   ],
   "source": [
    "df_seg_seg_rr_type_p0r0_main <- read.csv(file = '../data/R/df_seg_seg_rr_type_p0r0_main_for_R.csv', stringsAsFactors = TRUE)\n",
    "df_seg_seg_rr_type_p0r0_main$story <- factor(df_seg_seg_rr_type_p0r0_main$story)\n",
    "str(df_seg_seg_rr_type_p0r0_main)"
   ]
  },
  {
   "cell_type": "code",
   "execution_count": null,
   "metadata": {
    "vscode": {
     "languageId": "r"
    }
   },
   "outputs": [],
   "source": [
    "p0_r0_seg_seg_rr_type_1 <- mixed(cbind(total_hits, total_points - total_hits) ~ \n",
    "                               condition*rr_type + ref_step_base_abs_demean + \n",
    "                              (condition|base_segment) + \n",
    "                              (1|base_refer_seg_pair) +\n",
    "                              (condition*rr_type + ref_step_base_abs_demean|sub), \n",
    "                              df_seg_seg_rr_type_p0r0_main, family = binomial, method = \"LRT\", cl=cl)\n",
    "p0_r0_seg_seg_rr_type_1\n",
    "saveRDS(p0_r0_seg_seg_rr_type_1, \"../p0_r0_seg_seg_rr_type_1.rds\")"
   ]
  }
 ],
 "metadata": {
  "kernelspec": {
   "display_name": "R",
   "language": "R",
   "name": "ir"
  },
  "language_info": {
   "codemirror_mode": "r",
   "file_extension": ".r",
   "mimetype": "text/x-r-source",
   "name": "R",
   "pygments_lexer": "r",
   "version": "4.1.2"
  },
  "toc-autonumbering": false
 },
 "nbformat": 4,
 "nbformat_minor": 4
}
