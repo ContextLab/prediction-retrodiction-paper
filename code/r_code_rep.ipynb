{
 "cells": [
  {
   "cell_type": "code",
   "execution_count": 1,
   "metadata": {
    "vscode": {
     "languageId": "r"
    }
   },
   "outputs": [
    {
     "name": "stderr",
     "output_type": "stream",
     "text": [
      "Loading required package: Matrix\n",
      "\n",
      "************\n",
      "Welcome to afex. For support visit: http://afex.singmann.science/\n",
      "\n",
      "- Functions for ANOVAs: aov_car(), aov_ez(), and aov_4()\n",
      "- Methods for calculating p-values with mixed(): 'S', 'KR', 'LRT', and 'PB'\n",
      "- 'afex_aov' and 'mixed' objects can be passed to emmeans() for follow-up tests\n",
      "- Get and set global package options with: afex_options()\n",
      "- Set sum-to-zero contrasts globally: set_sum_contrasts()\n",
      "- For example analyses see: browseVignettes(\"afex\")\n",
      "************\n",
      "\n",
      "\n",
      "Attaching package: 'afex'\n",
      "\n",
      "\n",
      "The following object is masked from 'package:lme4':\n",
      "\n",
      "    lmer\n",
      "\n",
      "\n",
      "\n",
      "Attaching package: 'dplyr'\n",
      "\n",
      "\n",
      "The following objects are masked from 'package:stats':\n",
      "\n",
      "    filter, lag\n",
      "\n",
      "\n",
      "The following objects are masked from 'package:base':\n",
      "\n",
      "    intersect, setdiff, setequal, union\n",
      "\n",
      "\n",
      "setting contr.sum globally: options(contrasts=c('contr.sum', 'contr.poly'))\n",
      "\n",
      "Loading required package: parallel\n",
      "\n"
     ]
    },
    {
     "data": {
      "text/html": [
       "10"
      ],
      "text/latex": [
       "10"
      ],
      "text/markdown": [
       "10"
      ],
      "text/plain": [
       "[1] 10"
      ]
     },
     "metadata": {},
     "output_type": "display_data"
    }
   ],
   "source": [
    "library(\"lme4\")\n",
    "library('afex')\n",
    "library(\"dplyr\")\n",
    "library('emmeans')\n",
    "set_sum_contrasts()\n",
    "\n",
    "require(parallel)\n",
    "(nc <- detectCores()) # number of cores\n",
    "cl <- makeCluster(rep(\"localhost\", nc))"
   ]
  },
  {
   "attachments": {},
   "cell_type": "markdown",
   "metadata": {},
   "source": [
    "# figure 1"
   ]
  },
  {
   "cell_type": "code",
   "execution_count": 2,
   "metadata": {
    "vscode": {
     "languageId": "r"
    }
   },
   "outputs": [
    {
     "name": "stdout",
     "output_type": "stream",
     "text": [
      "'data.frame':\t878 obs. of  17 variables:\n",
      " $ sub                 : Factor w/ 37 levels \"0522-1\",\"0522-2\",..: 1 1 3 3 5 5 7 7 9 9 ...\n",
      " $ story               : int  3 3 3 3 3 3 3 3 3 3 ...\n",
      " $ segment             : Factor w/ 13 levels \"3_01\",\"3_02\",..: 1 1 1 1 1 1 1 1 1 1 ...\n",
      " $ segment_count       : num  12 12 12 12 12 12 12 12 12 12 ...\n",
      " $ segment_num         : int  1 1 1 1 1 1 1 1 1 1 ...\n",
      " $ base_segment        : Factor w/ 13 levels \"3_01\",\"3_02\",..: 2 2 2 2 2 2 2 2 2 2 ...\n",
      " $ segment_pair        : Factor w/ 12 levels \"3_01-02\",\"3_02-03\",..: 1 1 1 1 1 1 1 1 1 1 ...\n",
      " $ condition           : Factor w/ 4 levels \"p\",\"p0\",\"r\",\"r0\": 4 3 4 3 4 3 4 3 4 3 ...\n",
      " $ cond_direction      : Factor w/ 2 levels \"b\",\"f\": 1 1 1 1 1 1 1 1 1 1 ...\n",
      " $ cond_amount         : Factor w/ 2 levels \"p/r\",\"p0/r0\": 2 1 2 1 2 1 2 1 2 1 ...\n",
      " $ target_points       : num  15 15 15 15 15 15 15 15 15 15 ...\n",
      " $ e_total             : num  1 4 1 4.5 1 2.5 2 2 1 2.5 ...\n",
      " $ e_target            : num  0 4 0 3.5 0 2.5 1 1 0 1.5 ...\n",
      " $ res_1_simi_info_z   : num  0.473 0.822 0.4 0.674 0.268 ...\n",
      " $ res_1_MD_sub_z      : num  0.316 0.79 0.648 0.786 0.57 ...\n",
      " $ segment_count_demean: num  5.5 5.5 5.5 5.5 5.5 5.5 5.5 5.5 5.5 5.5 ...\n",
      " $ segment_num_demean  : int  -6 -6 -6 -6 -6 -6 -6 -6 -6 -6 ...\n"
     ]
    }
   ],
   "source": [
    "df_pr <- read.csv(file = '../data/rep/R/df_pr_for_R.csv', stringsAsFactors = TRUE)\n",
    "\n",
    "str(df_pr)\n",
    "\n",
    "df_p0r0 <- dplyr::filter(df_pr, cond_amount=='p0/r0')\n",
    "df_cpr <- dplyr::filter(df_pr, cond_amount=='p/r')"
   ]
  },
  {
   "cell_type": "code",
   "execution_count": 35,
   "metadata": {
    "vscode": {
     "languageId": "r"
    }
   },
   "outputs": [
    {
     "name": "stderr",
     "output_type": "stream",
     "text": [
      "Numerical variables NOT centered on 0: segment_count_demean\n",
      "If in interactions, interpretation of lower order (e.g., main) effects difficult.\n",
      "\n",
      "Warning message:\n",
      "\"lme4 reported (at least) the following warnings for 'full':\n",
      "  * failure to converge in 10000 evaluations\n",
      "  * Model failed to converge with max|grad| = 1.41794 (tol = 0.002, component 1)\"\n",
      "Warning message:\n",
      "\"lme4 reported (at least) the following warnings for 'cond_direction':\n",
      "  * failure to converge in 10000 evaluations\n",
      "  * Model failed to converge with max|grad| = 0.843627 (tol = 0.002, component 1)\"\n",
      "Warning message:\n",
      "\"lme4 reported (at least) the following warnings for 'cond_amount':\n",
      "  * failure to converge in 10000 evaluations\n",
      "  * unable to evaluate scaled gradient\n",
      "  * Model failed to converge: degenerate  Hessian with 1 negative eigenvalues\"\n",
      "Warning message:\n",
      "\"lme4 reported (at least) the following warnings for 'segment_count_demean':\n",
      "  * failure to converge in 10000 evaluations\n",
      "  * Model failed to converge with max|grad| = 0.756759 (tol = 0.002, component 1)\"\n",
      "Warning message:\n",
      "\"lme4 reported (at least) the following warnings for 'cond_direction:cond_amount':\n",
      "  * failure to converge in 10000 evaluations\n",
      "  * Model failed to converge with max|grad| = 0.340568 (tol = 0.002, component 1)\"\n",
      "Warning message:\n",
      "\"lme4 reported (at least) the following warnings for 'cond_direction:segment_count_demean':\n",
      "  * failure to converge in 10000 evaluations\n",
      "  * Model failed to converge with max|grad| = 0.411432 (tol = 0.002, component 1)\"\n",
      "Warning message:\n",
      "\"lme4 reported (at least) the following warnings for 'cond_amount:segment_count_demean':\n",
      "  * failure to converge in 10000 evaluations\n",
      "  * Model failed to converge with max|grad| = 0.918886 (tol = 0.002, component 1)\"\n",
      "Warning message:\n",
      "\"lme4 reported (at least) the following warnings for 'cond_direction:cond_amount:segment_count_demean':\n",
      "  * failure to converge in 10000 evaluations\n",
      "  * Model failed to converge with max|grad| = 0.479034 (tol = 0.002, component 1)\"\n"
     ]
    },
    {
     "data": {
      "text/plain": [
       "Mixed Model Anova Table (Type 3 tests, LRT-method)\n",
       "\n",
       "Model: cbind(e_target, target_points - e_target) ~ cond_direction * \n",
       "Model:     cond_amount * segment_count_demean + (cond_direction * cond_amount | \n",
       "Model:     segment) + (cond_amount * segment_count_demean | sub)\n",
       "Data: df_pr\n",
       "Df full model: 28\n",
       "                                           Effect df     Chisq p.value\n",
       "1                                  cond_direction  1      1.94    .163\n",
       "2                                     cond_amount  1 27.42 ***   <.001\n",
       "3                            segment_count_demean  1    6.42 *    .011\n",
       "4                      cond_direction:cond_amount  1   8.35 **    .004\n",
       "5             cond_direction:segment_count_demean  1    4.73 *    .030\n",
       "6                cond_amount:segment_count_demean  1      0.29    .589\n",
       "7 cond_direction:cond_amount:segment_count_demean  1   8.68 **    .003\n",
       "---\n",
       "Signif. codes:  0 '***' 0.001 '**' 0.01 '*' 0.05 '+' 0.1 ' ' 1"
      ]
     },
     "metadata": {},
     "output_type": "display_data"
    }
   ],
   "source": [
    "# pr_hit_ac proportion\n",
    "pr_hit_ac <- mixed(cbind(e_target, target_points - e_target) ~ \n",
    "                   cond_direction*cond_amount*segment_count_demean + \n",
    "                  (cond_direction*cond_amount|segment) + \n",
    "                  (cond_amount*segment_count_demean|sub), \n",
    "                df_pr, family = binomial, method = \"LRT\", cl=cl)\n",
    "pr_hit_ac\n",
    "saveRDS(pr_hit_ac, \"../stats_models/rep/pr_hit_ac.rds\")"
   ]
  },
  {
   "cell_type": "code",
   "execution_count": 36,
   "metadata": {
    "vscode": {
     "languageId": "r"
    }
   },
   "outputs": [
    {
     "name": "stderr",
     "output_type": "stream",
     "text": [
      "Numerical variables NOT centered on 0: segment_count_demean\n",
      "If in interactions, interpretation of lower order (e.g., main) effects difficult.\n",
      "\n",
      "Warning message:\n",
      "\"lme4 reported (at least) the following warnings for 'full':\n",
      "  * Model failed to converge with max|grad| = 0.0263624 (tol = 0.002, component 1)\"\n",
      "Warning message:\n",
      "\"lme4 reported (at least) the following warnings for 'cond_direction':\n",
      "  * boundary (singular) fit: see help('isSingular')\"\n",
      "Warning message:\n",
      "\"lme4 reported (at least) the following warnings for 'segment_count_demean':\n",
      "  * Model failed to converge with max|grad| = 0.150668 (tol = 0.002, component 1)\"\n",
      "Warning message:\n",
      "\"lme4 reported (at least) the following warnings for 'cond_direction:segment_count_demean':\n",
      "  * Model failed to converge with max|grad| = 0.0709186 (tol = 0.002, component 1)\"\n"
     ]
    },
    {
     "data": {
      "text/plain": [
       "Mixed Model Anova Table (Type 3 tests, LRT-method)\n",
       "\n",
       "Model: cbind(e_target, target_points - e_target) ~ cond_direction * \n",
       "Model:     segment_count_demean + (cond_direction | segment) + (segment_count_demean | \n",
       "Model:     sub)\n",
       "Data: df_p0r0\n",
       "Df full model: 10\n",
       "                               Effect df     Chisq p.value\n",
       "1                      cond_direction  1    5.73 *    .017\n",
       "2                segment_count_demean  1    3.25 +    .072\n",
       "3 cond_direction:segment_count_demean  1 11.42 ***   <.001\n",
       "---\n",
       "Signif. codes:  0 '***' 0.001 '**' 0.01 '*' 0.05 '+' 0.1 ' ' 1"
      ]
     },
     "metadata": {},
     "output_type": "display_data"
    }
   ],
   "source": [
    "p0r0_hit_ac <- mixed(cbind(e_target, target_points - e_target) ~ \n",
    "                   cond_direction*segment_count_demean + \n",
    "                  (cond_direction|segment) + \n",
    "                  (segment_count_demean|sub), \n",
    "                df_p0r0, family = binomial, method = \"LRT\", cl=cl)\n",
    "p0r0_hit_ac\n",
    "saveRDS(p0r0_hit_ac, \"../stats_models/rep/p0r0_hit_ac.rds\")"
   ]
  },
  {
   "cell_type": "code",
   "execution_count": 37,
   "metadata": {
    "vscode": {
     "languageId": "r"
    }
   },
   "outputs": [
    {
     "name": "stderr",
     "output_type": "stream",
     "text": [
      "Numerical variables NOT centered on 0: segment_count_demean\n",
      "If in interactions, interpretation of lower order (e.g., main) effects difficult.\n",
      "\n",
      "Warning message:\n",
      "\"lme4 reported (at least) the following warnings for 'full':\n",
      "  * Model failed to converge with max|grad| = 0.294395 (tol = 0.002, component 1)\"\n",
      "Warning message:\n",
      "\"lme4 reported (at least) the following warnings for 'cond_direction':\n",
      "  * Model failed to converge with max|grad| = 0.308889 (tol = 0.002, component 1)\"\n",
      "Warning message:\n",
      "\"lme4 reported (at least) the following warnings for 'segment_count_demean':\n",
      "  * Model failed to converge with max|grad| = 0.00481637 (tol = 0.002, component 1)\"\n",
      "Warning message:\n",
      "\"lme4 reported (at least) the following warnings for 'cond_direction:segment_count_demean':\n",
      "  * Model failed to converge with max|grad| = 0.011799 (tol = 0.002, component 1)\"\n"
     ]
    },
    {
     "data": {
      "text/plain": [
       "Mixed Model Anova Table (Type 3 tests, LRT-method)\n",
       "\n",
       "Model: cbind(e_target, target_points - e_target) ~ cond_direction * \n",
       "Model:     segment_count_demean + (cond_direction | segment) + (segment_count_demean | \n",
       "Model:     sub)\n",
       "Data: df_cpr\n",
       "Df full model: 10\n",
       "                               Effect df  Chisq p.value\n",
       "1                      cond_direction  1   0.32    .569\n",
       "2                segment_count_demean  1 4.82 *    .028\n",
       "3 cond_direction:segment_count_demean  1   0.39    .532\n",
       "---\n",
       "Signif. codes:  0 '***' 0.001 '**' 0.01 '*' 0.05 '+' 0.1 ' ' 1"
      ]
     },
     "metadata": {},
     "output_type": "display_data"
    }
   ],
   "source": [
    "cpr_hit_ac <- mixed(cbind(e_target, target_points - e_target) ~ \n",
    "                   cond_direction*segment_count_demean + \n",
    "                  (cond_direction|segment) + \n",
    "                  (segment_count_demean|sub), \n",
    "                df_cpr, family = binomial, method = \"LRT\", cl=cl)\n",
    "cpr_hit_ac\n",
    "saveRDS(cpr_hit_ac, \"../stats_models/rep/cpr_hit_ac.rds\")"
   ]
  },
  {
   "cell_type": "code",
   "execution_count": 38,
   "metadata": {
    "vscode": {
     "languageId": "r"
    }
   },
   "outputs": [
    {
     "name": "stderr",
     "output_type": "stream",
     "text": [
      "Numerical variables NOT centered on 0: segment_count_demean\n",
      "If in interactions, interpretation of lower order (e.g., main) effects difficult.\n",
      "\n",
      "boundary (singular) fit: see help('isSingular')\n",
      "\n",
      "Warning message:\n",
      "\"lme4 reported (at least) the following warnings for 'full':\n",
      "  * boundary (singular) fit: see help('isSingular')\"\n"
     ]
    },
    {
     "data": {
      "text/plain": [
       "Mixed Model Anova Table (Type 3 tests, S-method)\n",
       "\n",
       "Model: res_1_simi_info_z ~ cond_direction * cond_amount * segment_count_demean + \n",
       "Model:     (cond_direction * cond_amount | segment) + (cond_amount * \n",
       "Model:     segment_count_demean | sub)\n",
       "Data: df_pr\n",
       "                                           Effect       df         F p.value\n",
       "1                                  cond_direction 1, 25.03    5.72 *    .025\n",
       "2                                     cond_amount 1, 12.13 98.21 ***   <.001\n",
       "3                            segment_count_demean 1, 13.27      0.23    .642\n",
       "4                      cond_direction:cond_amount 1, 16.51      0.27    .612\n",
       "5             cond_direction:segment_count_demean 1, 11.73      0.19    .667\n",
       "6                cond_amount:segment_count_demean 1, 15.92      1.88    .189\n",
       "7 cond_direction:cond_amount:segment_count_demean 1, 12.39    3.94 +    .070\n",
       "---\n",
       "Signif. codes:  0 '***' 0.001 '**' 0.01 '*' 0.05 '+' 0.1 ' ' 1"
      ]
     },
     "metadata": {},
     "output_type": "display_data"
    }
   ],
   "source": [
    "# pr_simi_info\n",
    "pr_simi_info <- mixed(res_1_simi_info_z ~ cond_direction*cond_amount*segment_count_demean + \n",
    "                  (cond_direction*cond_amount|segment) + \n",
    "                  (cond_amount*segment_count_demean|sub), \n",
    "                  df_pr, method='S')\n",
    "pr_simi_info\n",
    "saveRDS(pr_simi_info, \"../stats_models/rep/pr_simi_info.rds\")"
   ]
  },
  {
   "cell_type": "code",
   "execution_count": 39,
   "metadata": {
    "vscode": {
     "languageId": "r"
    }
   },
   "outputs": [
    {
     "name": "stderr",
     "output_type": "stream",
     "text": [
      "Numerical variables NOT centered on 0: segment_count_demean\n",
      "If in interactions, interpretation of lower order (e.g., main) effects difficult.\n",
      "\n",
      "boundary (singular) fit: see help('isSingular')\n",
      "\n",
      "Warning message:\n",
      "\"lme4 reported (at least) the following warnings for 'full':\n",
      "  * boundary (singular) fit: see help('isSingular')\"\n"
     ]
    },
    {
     "data": {
      "text/plain": [
       "Mixed Model Anova Table (Type 3 tests, S-method)\n",
       "\n",
       "Model: res_1_simi_info_z ~ cond_direction * segment_count_demean + (cond_direction | \n",
       "Model:     segment) + (segment_count_demean | sub)\n",
       "Data: df_p0r0\n",
       "                               Effect       df      F p.value\n",
       "1                      cond_direction 1, 16.85 3.46 +    .081\n",
       "2                segment_count_demean 1, 11.82   0.02    .904\n",
       "3 cond_direction:segment_count_demean 1, 12.80   0.41    .534\n",
       "---\n",
       "Signif. codes:  0 '***' 0.001 '**' 0.01 '*' 0.05 '+' 0.1 ' ' 1"
      ]
     },
     "metadata": {},
     "output_type": "display_data"
    }
   ],
   "source": [
    "p0r0_simi_info <- mixed(res_1_simi_info_z ~ cond_direction*segment_count_demean + \n",
    "                  (cond_direction|segment) + \n",
    "                  (segment_count_demean|sub), \n",
    "                  df_p0r0, method='S')\n",
    "p0r0_simi_info\n",
    "saveRDS(p0r0_simi_info, \"../stats_models/rep/p0r0_simi_info.rds\")"
   ]
  },
  {
   "cell_type": "code",
   "execution_count": 41,
   "metadata": {
    "vscode": {
     "languageId": "r"
    }
   },
   "outputs": [
    {
     "name": "stderr",
     "output_type": "stream",
     "text": [
      "Numerical variables NOT centered on 0: segment_count_demean\n",
      "If in interactions, interpretation of lower order (e.g., main) effects difficult.\n",
      "\n",
      "boundary (singular) fit: see help('isSingular')\n",
      "\n",
      "Warning message:\n",
      "\"lme4 reported (at least) the following warnings for 'full':\n",
      "  * boundary (singular) fit: see help('isSingular')\"\n"
     ]
    },
    {
     "data": {
      "text/plain": [
       "Mixed Model Anova Table (Type 3 tests, S-method)\n",
       "\n",
       "Model: res_1_simi_info_z ~ cond_direction * segment_count_demean + (cond_direction | \n",
       "Model:     segment) + (segment_count_demean | sub)\n",
       "Data: df_cpr\n",
       "                               Effect       df      F p.value\n",
       "1                      cond_direction 1, 25.09 5.22 *    .031\n",
       "2                segment_count_demean  1, 9.94 3.35 +    .097\n",
       "3 cond_direction:segment_count_demean 1, 11.43   1.52    .242\n",
       "---\n",
       "Signif. codes:  0 '***' 0.001 '**' 0.01 '*' 0.05 '+' 0.1 ' ' 1"
      ]
     },
     "metadata": {},
     "output_type": "display_data"
    }
   ],
   "source": [
    "cpr_simi_info <- mixed(res_1_simi_info_z ~ cond_direction*segment_count_demean + \n",
    "                  (cond_direction|segment) + \n",
    "                  (segment_count_demean|sub), \n",
    "                  df_cpr, method='S')\n",
    "cpr_simi_info\n",
    "saveRDS(cpr_simi_info, \"../stats_models/rep/cpr_simi_info.rds\")"
   ]
  },
  {
   "cell_type": "code",
   "execution_count": 42,
   "metadata": {
    "vscode": {
     "languageId": "r"
    }
   },
   "outputs": [
    {
     "name": "stderr",
     "output_type": "stream",
     "text": [
      "Numerical variables NOT centered on 0: segment_count_demean\n",
      "If in interactions, interpretation of lower order (e.g., main) effects difficult.\n",
      "\n",
      "boundary (singular) fit: see help('isSingular')\n",
      "\n",
      "Warning message:\n",
      "\"lme4 reported (at least) the following warnings for 'full':\n",
      "  * boundary (singular) fit: see help('isSingular')\"\n"
     ]
    },
    {
     "data": {
      "text/plain": [
       "Mixed Model Anova Table (Type 3 tests, S-method)\n",
       "\n",
       "Model: res_1_MD_sub_z ~ cond_direction * cond_amount * segment_count_demean + \n",
       "Model:     (cond_direction * cond_amount | segment) + (cond_amount * \n",
       "Model:     segment_count_demean | sub)\n",
       "Data: df_pr\n",
       "                                           Effect       df         F p.value\n",
       "1                                  cond_direction 1, 11.56      2.53    .139\n",
       "2                                     cond_amount  1, 8.77 81.08 ***   <.001\n",
       "3                            segment_count_demean 1, 11.23      0.00    .990\n",
       "4                      cond_direction:cond_amount  1, 8.87      0.13    .723\n",
       "5             cond_direction:segment_count_demean 1, 10.67      1.94    .192\n",
       "6                cond_amount:segment_count_demean  1, 9.52      1.75    .217\n",
       "7 cond_direction:cond_amount:segment_count_demean  1, 9.32      0.16    .697\n",
       "---\n",
       "Signif. codes:  0 '***' 0.001 '**' 0.01 '*' 0.05 '+' 0.1 ' ' 1"
      ]
     },
     "metadata": {},
     "output_type": "display_data"
    }
   ],
   "source": [
    "# pr_MD\n",
    "pr_MD <- mixed(res_1_MD_sub_z ~ cond_direction*cond_amount*segment_count_demean + \n",
    "                     (cond_direction*cond_amount|segment) + \n",
    "                     (cond_amount*segment_count_demean|sub), \n",
    "                     df_pr, method='S')\n",
    "pr_MD\n",
    "saveRDS(pr_MD, \"../stats_models/rep/pr_MD.rds\")"
   ]
  },
  {
   "cell_type": "code",
   "execution_count": 43,
   "metadata": {
    "vscode": {
     "languageId": "r"
    }
   },
   "outputs": [
    {
     "name": "stderr",
     "output_type": "stream",
     "text": [
      "Numerical variables NOT centered on 0: segment_count_demean\n",
      "If in interactions, interpretation of lower order (e.g., main) effects difficult.\n",
      "\n"
     ]
    },
    {
     "data": {
      "text/plain": [
       "Mixed Model Anova Table (Type 3 tests, S-method)\n",
       "\n",
       "Model: res_1_MD_sub_z ~ cond_direction * segment_count_demean + (cond_direction | \n",
       "Model:     segment) + (segment_count_demean | sub)\n",
       "Data: df_p0r0\n",
       "                               Effect       df    F p.value\n",
       "1                      cond_direction 1, 11.38 0.31    .590\n",
       "2                segment_count_demean 1, 11.46 1.05    .327\n",
       "3 cond_direction:segment_count_demean 1, 10.95 1.83    .203\n",
       "---\n",
       "Signif. codes:  0 '***' 0.001 '**' 0.01 '*' 0.05 '+' 0.1 ' ' 1"
      ]
     },
     "metadata": {},
     "output_type": "display_data"
    }
   ],
   "source": [
    "p0r0_MD <- mixed(res_1_MD_sub_z ~ cond_direction*segment_count_demean + \n",
    "                  (cond_direction|segment) + \n",
    "                  (segment_count_demean|sub), \n",
    "                  df_p0r0, method='S')\n",
    "p0r0_MD\n",
    "saveRDS(p0r0_MD, \"../stats_models/rep/p0r0_MD.rds\")\n"
   ]
  },
  {
   "cell_type": "code",
   "execution_count": 44,
   "metadata": {
    "vscode": {
     "languageId": "r"
    }
   },
   "outputs": [
    {
     "name": "stderr",
     "output_type": "stream",
     "text": [
      "Numerical variables NOT centered on 0: segment_count_demean\n",
      "If in interactions, interpretation of lower order (e.g., main) effects difficult.\n",
      "\n",
      "boundary (singular) fit: see help('isSingular')\n",
      "\n",
      "Warning message:\n",
      "\"lme4 reported (at least) the following warnings for 'full':\n",
      "  * boundary (singular) fit: see help('isSingular')\"\n"
     ]
    },
    {
     "data": {
      "text/plain": [
       "Mixed Model Anova Table (Type 3 tests, S-method)\n",
       "\n",
       "Model: res_1_MD_sub_z ~ cond_direction * segment_count_demean + (cond_direction | \n",
       "Model:     segment) + (segment_count_demean | sub)\n",
       "Data: df_cpr\n",
       "                               Effect       df      F p.value\n",
       "1                      cond_direction 1, 12.49 3.21 +    .098\n",
       "2                segment_count_demean  1, 9.87   2.33    .158\n",
       "3 cond_direction:segment_count_demean 1, 10.67   1.11    .316\n",
       "---\n",
       "Signif. codes:  0 '***' 0.001 '**' 0.01 '*' 0.05 '+' 0.1 ' ' 1"
      ]
     },
     "metadata": {},
     "output_type": "display_data"
    }
   ],
   "source": [
    "\n",
    "cpr_MD <- mixed(res_1_MD_sub_z ~ cond_direction*segment_count_demean + \n",
    "                  (cond_direction|segment) + \n",
    "                  (segment_count_demean|sub), \n",
    "                  df_cpr, method='S')\n",
    "cpr_MD\n",
    "saveRDS(cpr_MD, \"../stats_models/rep/cpr_MD.rds\")"
   ]
  },
  {
   "attachments": {},
   "cell_type": "markdown",
   "metadata": {},
   "source": [
    "# figure 2"
   ]
  },
  {
   "cell_type": "code",
   "execution_count": 47,
   "metadata": {
    "vscode": {
     "languageId": "r"
    }
   },
   "outputs": [
    {
     "name": "stderr",
     "output_type": "stream",
     "text": [
      "Numerical variables NOT centered on 0: segment_count_demean\n",
      "If in interactions, interpretation of lower order (e.g., main) effects difficult.\n",
      "\n",
      "Warning message:\n",
      "\"lme4 reported (at least) the following warnings for 'full':\n",
      "  * boundary (singular) fit: see help('isSingular')\"\n",
      "Warning message:\n",
      "\"lme4 reported (at least) the following warnings for 'cond_direction':\n",
      "  * boundary (singular) fit: see help('isSingular')\"\n",
      "Warning message:\n",
      "\"lme4 reported (at least) the following warnings for 'segment_count_demean':\n",
      "  * Model failed to converge with max|grad| = 0.0123628 (tol = 0.002, component 1)\"\n",
      "Warning message:\n",
      "\"lme4 reported (at least) the following warnings for 'cond_direction:segment_count_demean':\n",
      "  * boundary (singular) fit: see help('isSingular')\"\n"
     ]
    },
    {
     "data": {
      "text/plain": [
       "Mixed Model Anova Table (Type 3 tests, LRT-method)\n",
       "\n",
       "Model: e_total_2 ~ cond_direction * segment_count_demean + (cond_direction | \n",
       "Model:     segment) + (segment_count_demean | sub)\n",
       "Data: df_p0r0\n",
       "Df full model: 10\n",
       "                               Effect df   Chisq p.value\n",
       "1                      cond_direction  1    0.45    .502\n",
       "2                segment_count_demean  1 9.74 **    .002\n",
       "3 cond_direction:segment_count_demean  1    2.21    .137\n",
       "---\n",
       "Signif. codes:  0 '***' 0.001 '**' 0.01 '*' 0.05 '+' 0.1 ' ' 1"
      ]
     },
     "metadata": {},
     "output_type": "display_data"
    }
   ],
   "source": [
    "# p0r0_hit_econd_total poisson\n",
    "df_p0r0$e_total_2 <- df_p0r0$e_total*2 # integers required\n",
    "\n",
    "p0r0_hit_econd_total <- mixed(e_total_2 ~ cond_direction*segment_count_demean + \n",
    "                      (cond_direction|segment) + \n",
    "                      (segment_count_demean|sub), \n",
    "                    df_p0r0, family = poisson, method = \"LRT\", cl=cl)\n",
    "p0r0_hit_econd_total\n",
    "saveRDS(p0r0_hit_econd_total, \"../stats_models/rep/p0r0_hit_econd_total.rds\")"
   ]
  },
  {
   "cell_type": "code",
   "execution_count": 4,
   "metadata": {
    "vscode": {
     "languageId": "r"
    }
   },
   "outputs": [
    {
     "name": "stdout",
     "output_type": "stream",
     "text": [
      "'data.frame':\t1756 obs. of  15 variables:\n",
      " $ sub                 : Factor w/ 37 levels \"0522-1\",\"0522-2\",..: 1 1 3 3 5 5 7 7 9 9 ...\n",
      " $ story               : int  3 3 3 3 3 3 3 3 3 3 ...\n",
      " $ segment             : Factor w/ 13 levels \"3_01\",\"3_02\",..: 1 1 1 1 1 1 1 1 1 1 ...\n",
      " $ segment_count       : num  12 12 12 12 12 12 12 12 12 12 ...\n",
      " $ segment_num         : int  1 1 1 1 1 1 1 1 1 1 ...\n",
      " $ base_segment        : Factor w/ 13 levels \"3_01\",\"3_02\",..: 2 2 2 2 2 2 2 2 2 2 ...\n",
      " $ segment_count_demean: num  5.5 5.5 5.5 5.5 5.5 5.5 5.5 5.5 5.5 5.5 ...\n",
      " $ segment_num_demean  : int  -6 -6 -6 -6 -6 -6 -6 -6 -6 -6 ...\n",
      " $ segment_pair        : Factor w/ 12 levels \"3_01-02\",\"3_02-03\",..: 1 1 1 1 1 1 1 1 1 1 ...\n",
      " $ condition           : Factor w/ 4 levels \"p\",\"p0\",\"r\",\"r0\": 4 3 4 3 4 3 4 3 4 3 ...\n",
      " $ cond_direction      : Factor w/ 2 levels \"b\",\"f\": 1 1 1 1 1 1 1 1 1 1 ...\n",
      " $ cond_amount         : Factor w/ 2 levels \"p/r\",\"p0/r0\": 2 1 2 1 2 1 2 1 2 1 ...\n",
      " $ e_cond_bin          : Factor w/ 2 levels \"e_match\",\"e_unmatch\": 1 1 1 1 1 1 1 1 1 1 ...\n",
      " $ n_hits              : num  0 4 1 3.5 1 2.5 2 1 1 1.5 ...\n",
      " $ n_hits_2            : num  0 8 2 7 2 5 4 2 2 3 ...\n"
     ]
    }
   ],
   "source": [
    "df_pr_econd_bin <- read.csv(file = '../data/rep/R/df_pr_econd_bin_for_R.csv', stringsAsFactors = TRUE)\n",
    "df_pr_econd_bin$n_hits_2 <- df_pr_econd_bin$n_hits*2 # integers required\n",
    "str(df_pr_econd_bin)\n",
    "\n",
    "df_p0r0_econd_bin <- dplyr::filter(df_pr_econd_bin, cond_amount=='p0/r0')\n",
    "df_cpr_econd_bin <- dplyr::filter(df_pr_econd_bin, cond_amount=='p/r')"
   ]
  },
  {
   "cell_type": "code",
   "execution_count": null,
   "metadata": {
    "vscode": {
     "languageId": "r"
    }
   },
   "outputs": [],
   "source": [
    "p0r0_hit_econd_bin <- mixed(n_hits_2 ~ \n",
    "                   cond_direction*segment_count_demean*e_cond_bin + \n",
    "                  (cond_direction*e_cond_bin|segment) + \n",
    "                  (segment_count_demean*e_cond_bin|sub), \n",
    "                df_p0r0_econd_bin, family = poisson, method = \"LRT\", cl=cl)\n",
    "p0r0_hit_econd_bin\n",
    "saveRDS(p0r0_hit_econd_bin, \"../stats_models/rep/p0r0_hit_econd_bin.rds\")"
   ]
  },
  {
   "cell_type": "code",
   "execution_count": 3,
   "metadata": {
    "vscode": {
     "languageId": "r"
    }
   },
   "outputs": [
    {
     "name": "stdout",
     "output_type": "stream",
     "text": [
      "'data.frame':\t3512 obs. of  15 variables:\n",
      " $ sub                 : Factor w/ 37 levels \"0522-1\",\"0522-2\",..: 1 1 3 3 5 5 7 7 9 9 ...\n",
      " $ story               : int  3 3 3 3 3 3 3 3 3 3 ...\n",
      " $ segment             : Factor w/ 13 levels \"3_01\",\"3_02\",..: 1 1 1 1 1 1 1 1 1 1 ...\n",
      " $ segment_count       : num  12 12 12 12 12 12 12 12 12 12 ...\n",
      " $ segment_num         : int  1 1 1 1 1 1 1 1 1 1 ...\n",
      " $ base_segment        : Factor w/ 13 levels \"3_01\",\"3_02\",..: 2 2 2 2 2 2 2 2 2 2 ...\n",
      " $ segment_count_demean: num  5.5 5.5 5.5 5.5 5.5 5.5 5.5 5.5 5.5 5.5 ...\n",
      " $ segment_num_demean  : int  -6 -6 -6 -6 -6 -6 -6 -6 -6 -6 ...\n",
      " $ segment_pair        : Factor w/ 12 levels \"3_01-02\",\"3_02-03\",..: 1 1 1 1 1 1 1 1 1 1 ...\n",
      " $ condition           : Factor w/ 4 levels \"p\",\"p0\",\"r\",\"r0\": 4 3 4 3 4 3 4 3 4 3 ...\n",
      " $ cond_direction      : Factor w/ 2 levels \"b\",\"f\": 1 1 1 1 1 1 1 1 1 1 ...\n",
      " $ cond_amount         : Factor w/ 2 levels \"p/r\",\"p0/r0\": 2 1 2 1 2 1 2 1 2 1 ...\n",
      " $ e_cond              : Factor w/ 4 levels \"e_ahead\",\"e_gap\",..: 3 3 3 3 3 3 3 3 3 3 ...\n",
      " $ n_hits              : num  0 4 0 3.5 0 2.5 1 1 0 1.5 ...\n",
      " $ n_hits_2            : num  0 8 0 7 0 5 2 2 0 3 ...\n"
     ]
    }
   ],
   "source": [
    "df_pr_econd <- read.csv(file = '../data/rep/R/df_pr_econd_for_R.csv', stringsAsFactors = TRUE)\n",
    "df_pr_econd$n_hits_2 <- df_pr_econd$n_hits*2 # integers required\n",
    "str(df_pr_econd)\n",
    "\n",
    "df_p0r0_econd <- dplyr::filter(df_pr_econd, cond_amount=='p0/r0')\n",
    "df_cpr_econd <- dplyr::filter(df_pr_econd, cond_amount=='p/r')"
   ]
  },
  {
   "cell_type": "code",
   "execution_count": 49,
   "metadata": {
    "vscode": {
     "languageId": "r"
    }
   },
   "outputs": [
    {
     "name": "stderr",
     "output_type": "stream",
     "text": [
      "Numerical variables NOT centered on 0: segment_count_demean\n",
      "If in interactions, interpretation of lower order (e.g., main) effects difficult.\n",
      "\n",
      "Warning message in mixed(n_hits_2 ~ cond_direction * segment_count_demean * e_cond + :\n",
      "\"Following nested model(s) provide better fit than full model: segment_count_demean, segment_count_demean:e_cond \n",
      "  Results cannot be trusted. Try all_fit=TRUE or reduce random effect structure!\"\n",
      "Warning message:\n",
      "\"Following nested model(s) provide better fit than full model: segment_count_demean, segment_count_demean:e_cond \n",
      "  Results cannot be trusted. Try all_fit=TRUE!\"\n",
      "Warning message:\n",
      "\"lme4 reported (at least) the following warnings for 'full':\n",
      "  * failure to converge in 10000 evaluations\n",
      "  * unable to evaluate scaled gradient\n",
      "  * Model failed to converge: degenerate  Hessian with 6 negative eigenvalues\"\n",
      "Warning message:\n",
      "\"lme4 reported (at least) the following warnings for 'cond_direction':\n",
      "  * failure to converge in 10000 evaluations\n",
      "  * unable to evaluate scaled gradient\n",
      "  * Model failed to converge: degenerate  Hessian with 4 negative eigenvalues\"\n",
      "Warning message:\n",
      "\"lme4 reported (at least) the following warnings for 'segment_count_demean':\n",
      "  * failure to converge in 10000 evaluations\n",
      "  * unable to evaluate scaled gradient\n",
      "  * Model failed to converge: degenerate  Hessian with 3 negative eigenvalues\"\n",
      "Warning message:\n",
      "\"lme4 reported (at least) the following warnings for 'e_cond':\n",
      "  * failure to converge in 10000 evaluations\n",
      "  * unable to evaluate scaled gradient\n",
      "  * Model failed to converge: degenerate  Hessian with 6 negative eigenvalues\"\n",
      "Warning message:\n",
      "\"lme4 reported (at least) the following warnings for 'cond_direction:segment_count_demean':\n",
      "  * failure to converge in 10000 evaluations\n",
      "  * unable to evaluate scaled gradient\n",
      "  * Model failed to converge: degenerate  Hessian with 4 negative eigenvalues\"\n",
      "Warning message:\n",
      "\"lme4 reported (at least) the following warnings for 'cond_direction:e_cond':\n",
      "  * failure to converge in 10000 evaluations\n",
      "  * unable to evaluate scaled gradient\n",
      "  * Model failed to converge: degenerate  Hessian with 9 negative eigenvalues\"\n",
      "Warning message:\n",
      "\"lme4 reported (at least) the following warnings for 'segment_count_demean:e_cond':\n",
      "  * failure to converge in 10000 evaluations\n",
      "  * unable to evaluate scaled gradient\n",
      "  * Model failed to converge: degenerate  Hessian with 1 negative eigenvalues\"\n",
      "Warning message:\n",
      "\"lme4 reported (at least) the following warnings for 'cond_direction:segment_count_demean:e_cond':\n",
      "  * failure to converge in 10000 evaluations\n",
      "  * boundary (singular) fit: see help('isSingular')\"\n"
     ]
    },
    {
     "data": {
      "text/plain": [
       "Mixed Model Anova Table (Type 3 tests, LRT-method)\n",
       "\n",
       "Model: n_hits_2 ~ cond_direction * segment_count_demean * e_cond + (cond_direction * \n",
       "Model:     e_cond | segment) + (segment_count_demean * e_cond | sub)\n",
       "Data: df_p0r0_econd\n",
       "Df full model: 88\n",
       "                                      Effect df     Chisq p.value\n",
       "1                             cond_direction  1    5.42 *    .020\n",
       "2                       segment_count_demean  1      0.00   >.999\n",
       "3                                     e_cond  3 68.88 ***   <.001\n",
       "4        cond_direction:segment_count_demean  1 12.58 ***   <.001\n",
       "5                      cond_direction:e_cond  3 25.10 ***   <.001\n",
       "6                segment_count_demean:e_cond  3      0.00   >.999\n",
       "7 cond_direction:segment_count_demean:e_cond  3  14.65 **    .002\n",
       "---\n",
       "Signif. codes:  0 '***' 0.001 '**' 0.01 '*' 0.05 '+' 0.1 ' ' 1"
      ]
     },
     "metadata": {},
     "output_type": "display_data"
    }
   ],
   "source": [
    "p0r0_hit_econd <- mixed(n_hits_2 ~ \n",
    "                   cond_direction*segment_count_demean*e_cond + \n",
    "                  (cond_direction*e_cond|segment) + \n",
    "                  (segment_count_demean*e_cond|sub), \n",
    "                df_p0r0_econd, family = poisson, method = \"LRT\", cl=cl)\n",
    "p0r0_hit_econd\n",
    "saveRDS(p0r0_hit_econd, \"../stats_models/rep/p0r0_hit_econd.rds\")"
   ]
  },
  {
   "attachments": {},
   "cell_type": "markdown",
   "metadata": {},
   "source": [
    "## step plot"
   ]
  },
  {
   "attachments": {},
   "cell_type": "markdown",
   "metadata": {},
   "source": [
    "### original"
   ]
  },
  {
   "cell_type": "code",
   "execution_count": 6,
   "metadata": {
    "vscode": {
     "languageId": "r"
    }
   },
   "outputs": [
    {
     "name": "stdout",
     "output_type": "stream",
     "text": [
      "'data.frame':\t5982 obs. of  15 variables:\n",
      " $ condition           : Factor w/ 2 levels \"p0\",\"r0\": 2 2 2 2 2 2 2 2 2 2 ...\n",
      " $ story               : int  3 3 3 3 3 3 3 3 3 3 ...\n",
      " $ sub                 : Factor w/ 37 levels \"0522-1\",\"0522-2\",..: 1 3 5 7 9 11 13 15 17 19 ...\n",
      " $ segment_count       : num  12 12 12 12 12 12 12 12 12 12 ...\n",
      " $ segment_count_demean: num  5.5 5.5 5.5 5.5 5.5 5.5 5.5 5.5 5.5 5.5 ...\n",
      " $ main_or_gap         : Factor w/ 2 levels \"gap\",\"main\": 1 1 1 1 1 1 1 1 1 1 ...\n",
      " $ base_segment        : Factor w/ 13 levels \"3_01\",\"3_02\",..: 2 2 2 2 2 2 2 2 2 2 ...\n",
      " $ step_abs            : num  1.5 1.5 1.5 1.5 1.5 1.5 1.5 1.5 1.5 1.5 ...\n",
      " $ step_abs_demean     : num  -4.12 -4.12 -4.12 -4.12 -4.12 ...\n",
      " $ step_abs_demean_old : num  -3.12 -3.12 -3.12 -3.12 -3.12 ...\n",
      " $ refer_seg           : Factor w/ 26 levels \"3_0.5\",\"3_1.0\",..: 1 1 1 1 1 1 1 1 1 1 ...\n",
      " $ base_refer_seg_pair : Factor w/ 324 levels \"3_01_3_1.5\",\"3_01_3_10.0\",..: 25 25 25 25 25 25 25 25 25 25 ...\n",
      " $ refer_seg_e         : num  0 0 0 0 0 0 0 0 0 0 ...\n",
      " $ refer_seg_points    : num  17 17 17 17 17 17 17 17 17 17 ...\n",
      " $ refer_seg_e_2       : num  0 0 0 0 0 0 0 0 0 0 ...\n"
     ]
    }
   ],
   "source": [
    "df_refer_long_p0r0 <- read.csv(file = '../data/rep/R/df_refer_long_p0r0_for_R.csv', stringsAsFactors = TRUE)\n",
    "df_refer_long_p0r0$refer_seg_e_2 <- df_refer_long_p0r0$refer_seg_e*2 # integers required\n",
    "str(df_refer_long_p0r0)"
   ]
  },
  {
   "cell_type": "code",
   "execution_count": 3,
   "metadata": {
    "vscode": {
     "languageId": "r"
    }
   },
   "outputs": [
    {
     "name": "stderr",
     "output_type": "stream",
     "text": [
      "Numerical variables NOT centered on 0: step_abs_demean\n",
      "If in interactions, interpretation of lower order (e.g., main) effects difficult.\n",
      "\n",
      "Warning message:\n",
      "\"lme4 reported (at least) the following warnings for 'full':\n",
      "  * failure to converge in 10000 evaluations\n",
      "  * unable to evaluate scaled gradient\n",
      "  * Model failed to converge: degenerate  Hessian with 2 negative eigenvalues\"\n",
      "Warning message:\n",
      "\"lme4 reported (at least) the following warnings for 'condition':\n",
      "  * failure to converge in 10000 evaluations\n",
      "  * unable to evaluate scaled gradient\n",
      "  * Model failed to converge: degenerate  Hessian with 1 negative eigenvalues\"\n",
      "Warning message:\n",
      "\"lme4 reported (at least) the following warnings for 'main_or_gap':\n",
      "  * failure to converge in 10000 evaluations\n",
      "  * Model failed to converge with max|grad| = 0.585693 (tol = 0.002, component 1)\"\n",
      "Warning message:\n",
      "\"lme4 reported (at least) the following warnings for 'step_abs_demean':\n",
      "  * failure to converge in 10000 evaluations\n",
      "  * Model failed to converge with max|grad| = 0.968712 (tol = 0.002, component 1)\"\n",
      "Warning message:\n",
      "\"lme4 reported (at least) the following warnings for 'condition:main_or_gap':\n",
      "  * failure to converge in 10000 evaluations\n",
      "  * Model failed to converge with max|grad| = 0.957151 (tol = 0.002, component 1)\"\n",
      "Warning message:\n",
      "\"lme4 reported (at least) the following warnings for 'condition:step_abs_demean':\n",
      "  * Model failed to converge with max|grad| = 0.580987 (tol = 0.002, component 1)\"\n",
      "Warning message:\n",
      "\"lme4 reported (at least) the following warnings for 'main_or_gap:step_abs_demean':\n",
      "  * failure to converge in 10000 evaluations\n",
      "  * unable to evaluate scaled gradient\n",
      "  * Model failed to converge: degenerate  Hessian with 1 negative eigenvalues\"\n",
      "Warning message:\n",
      "\"lme4 reported (at least) the following warnings for 'condition:main_or_gap:step_abs_demean':\n",
      "  * Model failed to converge with max|grad| = 0.275266 (tol = 0.002, component 1)\"\n"
     ]
    },
    {
     "data": {
      "text/plain": [
       "Mixed Model Anova Table (Type 3 tests, LRT-method)\n",
       "\n",
       "Model: refer_seg_e_2 ~ condition * main_or_gap * step_abs_demean + (condition | \n",
       "Model:     base_segment) + (1 | base_refer_seg_pair) + (main_or_gap * \n",
       "Model:     step_abs_demean | sub)\n",
       "Data: df_refer_long_p0r0\n",
       "Df full model: 22\n",
       "                                 Effect df     Chisq p.value\n",
       "1                             condition  1 23.45 ***   <.001\n",
       "2                           main_or_gap  1   7.49 **    .006\n",
       "3                       step_abs_demean  1   8.76 **    .003\n",
       "4                 condition:main_or_gap  1    5.21 *    .023\n",
       "5             condition:step_abs_demean  1    5.58 *    .018\n",
       "6           main_or_gap:step_abs_demean  1      1.95    .163\n",
       "7 condition:main_or_gap:step_abs_demean  1      0.17    .679\n",
       "---\n",
       "Signif. codes:  0 '***' 0.001 '**' 0.01 '*' 0.05 '+' 0.1 ' ' 1"
      ]
     },
     "metadata": {},
     "output_type": "display_data"
    }
   ],
   "source": [
    "p0_r0_hit_refer_step_2 <- mixed(refer_seg_e_2 ~ condition*main_or_gap*step_abs_demean + \n",
    "                           (condition|base_segment) + \n",
    "                           (1|base_refer_seg_pair) +\n",
    "                           (main_or_gap*step_abs_demean|sub), \n",
    "                       df_refer_long_p0r0, family = poisson, method = \"LRT\", cl=cl)\n",
    "p0_r0_hit_refer_step_2\n",
    "saveRDS(p0_r0_hit_refer_step_2, \"../stats_models/rep/p0_r0_hit_refer_step_2.rds\")"
   ]
  },
  {
   "attachments": {},
   "cell_type": "markdown",
   "metadata": {},
   "source": [
    "# figure 3"
   ]
  },
  {
   "cell_type": "code",
   "execution_count": 7,
   "metadata": {
    "vscode": {
     "languageId": "r"
    }
   },
   "outputs": [
    {
     "name": "stdout",
     "output_type": "stream",
     "text": [
      "'data.frame':\t6223 obs. of  19 variables:\n",
      " $ sub                     : Factor w/ 37 levels \"0522-1\",\"0522-2\",..: 1 1 1 1 1 1 1 1 1 1 ...\n",
      " $ condition               : Factor w/ 2 levels \"p0\",\"r0\": 2 2 2 2 2 2 2 2 2 2 ...\n",
      " $ story                   : Factor w/ 1 level \"3\": 1 1 1 1 1 1 1 1 1 1 ...\n",
      " $ segment                 : Factor w/ 13 levels \"3_01\",\"3_02\",..: 1 1 1 1 1 2 2 2 2 2 ...\n",
      " $ segment_count           : num  12 12 12 12 12 11 11 11 11 11 ...\n",
      " $ base_seg_num            : int  2 2 2 2 2 3 3 3 3 3 ...\n",
      " $ base_segment            : Factor w/ 13 levels \"3_01\",\"3_02\",..: 2 2 2 2 2 3 3 3 3 3 ...\n",
      " $ ref_seg_num             : num  0.5 0.5 1 1 1.5 0.5 0.5 1 1 1.5 ...\n",
      " $ ref_step_base           : num  -1.5 -1.5 -1 -1 -0.5 -2.5 -2.5 -2 -2 -1.5 ...\n",
      " $ ref_step_base_abs       : num  1.5 1.5 1 1 0.5 2.5 2.5 2 2 1.5 ...\n",
      " $ ref_seg_type            : Factor w/ 4 levels \"ahead_gap\",\"ahead_main\",..: 1 1 4 4 3 1 1 2 2 1 ...\n",
      " $ main_or_gap             : Factor w/ 2 levels \"gap\",\"main\": 1 1 2 2 1 1 1 2 2 1 ...\n",
      " $ refer_type_merge        : Factor w/ 2 levels \"none\",\"referred\": 1 2 1 2 2 1 2 1 2 1 ...\n",
      " $ total_count             : int  11 9 12 4 1 12 8 12 4 1 ...\n",
      " $ total_points            : num  11 9 12 3 1 12 8 12 3 1 ...\n",
      " $ total_hits              : num  0 0 0 0 0 1 0 1 0 0 ...\n",
      " $ base_refer_seg_pair     : Factor w/ 272 levels \"3_01_1.5\",\"3_01_10.0\",..: 21 21 22 22 23 42 42 43 43 44 ...\n",
      " $ segment_count_demean    : num  5.5 5.5 5.5 5.5 5.5 4.5 4.5 4.5 4.5 4.5 ...\n",
      " $ ref_step_base_abs_demean: num  -4.12 -4.12 -4.62 -4.62 -5.12 ...\n"
     ]
    }
   ],
   "source": [
    "df_seg_seg_type_p0r0 <- read.csv(file = '../data/rep/R/df_seg_seg_type_p0r0_for_R.csv', stringsAsFactors = TRUE)\n",
    "df_seg_seg_type_p0r0$story <- factor(df_seg_seg_type_p0r0$story)\n",
    "str(df_seg_seg_type_p0r0)"
   ]
  },
  {
   "cell_type": "code",
   "execution_count": 11,
   "metadata": {
    "vscode": {
     "languageId": "r"
    }
   },
   "outputs": [
    {
     "name": "stderr",
     "output_type": "stream",
     "text": [
      "Numerical variables NOT centered on 0: ref_step_base_abs_demean\n",
      "If in interactions, interpretation of lower order (e.g., main) effects difficult.\n",
      "\n",
      "Warning message:\n",
      "\"lme4 reported (at least) the following warnings for 'full':\n",
      "  * failure to converge in 10000 evaluations\n",
      "  * Model failed to converge with max|grad| = 0.556195 (tol = 0.002, component 1)\"\n",
      "Warning message:\n",
      "\"lme4 reported (at least) the following warnings for 'condition':\n",
      "  * failure to converge in 10000 evaluations\n",
      "  * Model failed to converge with max|grad| = 0.68736 (tol = 0.002, component 1)\"\n",
      "Warning message:\n",
      "\"lme4 reported (at least) the following warnings for 'refer_type_merge':\n",
      "  * failure to converge in 10000 evaluations\n",
      "  * Model failed to converge with max|grad| = 0.478927 (tol = 0.002, component 1)\"\n",
      "Warning message:\n",
      "\"lme4 reported (at least) the following warnings for 'main_or_gap':\n",
      "  * failure to converge in 10000 evaluations\n",
      "  * Model failed to converge with max|grad| = 0.472882 (tol = 0.002, component 1)\"\n",
      "Warning message:\n",
      "\"lme4 reported (at least) the following warnings for 'ref_step_base_abs_demean':\n",
      "  * failure to converge in 10000 evaluations\n",
      "  * Model failed to converge with max|grad| = 0.514606 (tol = 0.002, component 1)\"\n",
      "Warning message:\n",
      "\"lme4 reported (at least) the following warnings for 'condition:refer_type_merge':\n",
      "  * failure to converge in 10000 evaluations\n",
      "  * Model failed to converge with max|grad| = 0.41605 (tol = 0.002, component 1)\"\n",
      "Warning message:\n",
      "\"lme4 reported (at least) the following warnings for 'condition:main_or_gap':\n",
      "  * failure to converge in 10000 evaluations\n",
      "  * unable to evaluate scaled gradient\n",
      "  * Model failed to converge: degenerate  Hessian with 4 negative eigenvalues\"\n",
      "Warning message:\n",
      "\"lme4 reported (at least) the following warnings for 'refer_type_merge:main_or_gap':\n",
      "  * failure to converge in 10000 evaluations\n",
      "  * unable to evaluate scaled gradient\n",
      "  * Model failed to converge: degenerate  Hessian with 4 negative eigenvalues\"\n",
      "Warning message:\n",
      "\"lme4 reported (at least) the following warnings for 'condition:refer_type_merge:main_or_gap':\n",
      "  * failure to converge in 10000 evaluations\n",
      "  * Model failed to converge with max|grad| = 0.369044 (tol = 0.002, component 1)\"\n"
     ]
    },
    {
     "data": {
      "text/plain": [
       "Mixed Model Anova Table (Type 3 tests, LRT-method)\n",
       "\n",
       "Model: cbind(total_hits, total_points - total_hits) ~ condition * refer_type_merge * \n",
       "Model:     main_or_gap + ref_step_base_abs_demean + (condition | base_segment) + \n",
       "Model:     (1 | base_refer_seg_pair) + (refer_type_merge * main_or_gap + \n",
       "Model:     ref_step_base_abs_demean | sub)\n",
       "Data: df_seg_seg_type_p0r0\n",
       "Df full model: 28\n",
       "                                  Effect df     Chisq p.value\n",
       "1                              condition  1  10.58 **    .001\n",
       "2                       refer_type_merge  1      0.31    .576\n",
       "3                            main_or_gap  1 11.34 ***   <.001\n",
       "4               ref_step_base_abs_demean  1   8.42 **    .004\n",
       "5             condition:refer_type_merge  1      1.48    .223\n",
       "6                  condition:main_or_gap  1 18.30 ***   <.001\n",
       "7           refer_type_merge:main_or_gap  1 12.01 ***   <.001\n",
       "8 condition:refer_type_merge:main_or_gap  1    4.17 *    .041\n",
       "---\n",
       "Signif. codes:  0 '***' 0.001 '**' 0.01 '*' 0.05 '+' 0.1 ' ' 1"
      ]
     },
     "metadata": {},
     "output_type": "display_data"
    }
   ],
   "source": [
    "p0_r0_seg_seg_type_1 <- mixed(cbind(total_hits, total_points - total_hits) ~ \n",
    "                              condition*refer_type_merge*main_or_gap + ref_step_base_abs_demean + \n",
    "                              (condition|base_segment) + \n",
    "                              (1|base_refer_seg_pair) +\n",
    "                              (refer_type_merge*main_or_gap + ref_step_base_abs_demean|sub), \n",
    "                          df_seg_seg_type_p0r0, family = binomial, method = \"LRT\", cl=cl)\n",
    "p0_r0_seg_seg_type_1\n",
    "saveRDS(p0_r0_seg_seg_type_1, \"../stats_models/rep/p0_r0_seg_seg_type_1.rds\")"
   ]
  },
  {
   "attachments": {},
   "cell_type": "markdown",
   "metadata": {},
   "source": [
    "# figure 4"
   ]
  },
  {
   "cell_type": "code",
   "execution_count": 8,
   "metadata": {
    "vscode": {
     "languageId": "r"
    }
   },
   "outputs": [
    {
     "name": "stdout",
     "output_type": "stream",
     "text": [
      "'data.frame':\t6223 obs. of  20 variables:\n",
      " $ sub                     : Factor w/ 37 levels \"0522-1\",\"0522-2\",..: 1 1 1 1 1 1 1 1 1 1 ...\n",
      " $ condition               : Factor w/ 2 levels \"p0\",\"r0\": 2 2 2 2 2 2 2 2 2 2 ...\n",
      " $ story                   : Factor w/ 1 level \"3\": 1 1 1 1 1 1 1 1 1 1 ...\n",
      " $ segment                 : Factor w/ 13 levels \"3_01\",\"3_02\",..: 1 1 1 1 1 2 2 2 2 2 ...\n",
      " $ segment_count           : num  12 12 12 12 12 11 11 11 11 11 ...\n",
      " $ base_segment            : Factor w/ 13 levels \"3_01\",\"3_02\",..: 2 2 2 2 2 3 3 3 3 3 ...\n",
      " $ base_seg_num            : int  2 2 2 2 2 3 3 3 3 3 ...\n",
      " $ ref_seg_num             : num  0.5 0.5 1 1 1.5 0.5 0.5 1 1 1.5 ...\n",
      " $ ref_step_base           : num  -1.5 -1.5 -1 -1 -0.5 -2.5 -2.5 -2 -2 -1.5 ...\n",
      " $ ref_step_base_abs       : num  1.5 1.5 1 1 0.5 2.5 2.5 2 2 1.5 ...\n",
      " $ ref_seg_type            : Factor w/ 4 levels \"ahead_gap\",\"ahead_main\",..: 1 1 4 4 3 1 1 2 2 1 ...\n",
      " $ main_or_gap             : Factor w/ 2 levels \"gap\",\"main\": 1 1 2 2 1 1 1 2 2 1 ...\n",
      " $ refer_boost_type        : Factor w/ 4 levels \"neighbor\",\"none\",..: 3 4 3 4 3 3 4 3 4 1 ...\n",
      " $ refer_boost_type_tri    : Factor w/ 3 levels \"neighbor\",\"none\",..: 3 1 3 1 3 3 1 3 1 1 ...\n",
      " $ total_count             : int  9 11 4 12 1 8 12 4 12 1 ...\n",
      " $ total_points            : num  9 11 3 12 1 8 12 3 12 1 ...\n",
      " $ total_hits              : num  0 0 0 0 0 0 1 0 1 0 ...\n",
      " $ base_refer_seg_pair     : Factor w/ 272 levels \"3_01_1.5\",\"3_01_10.0\",..: 21 21 22 22 23 42 42 43 43 44 ...\n",
      " $ segment_count_demean    : num  5.5 5.5 5.5 5.5 5.5 4.5 4.5 4.5 4.5 4.5 ...\n",
      " $ ref_step_base_abs_demean: num  -4.12 -4.12 -4.62 -4.62 -5.12 ...\n"
     ]
    }
   ],
   "source": [
    "df_seg_seg_boost_type_p0r0 <- read.csv(file = '../data/rep/R/df_seg_seg_boost_type_p0r0_for_R.csv', stringsAsFactors = TRUE)\n",
    "df_seg_seg_boost_type_p0r0$story <- factor(df_seg_seg_boost_type_p0r0$story)\n",
    "str(df_seg_seg_boost_type_p0r0)"
   ]
  },
  {
   "cell_type": "code",
   "execution_count": 18,
   "metadata": {
    "vscode": {
     "languageId": "r"
    }
   },
   "outputs": [
    {
     "name": "stderr",
     "output_type": "stream",
     "text": [
      "Numerical variables NOT centered on 0: ref_step_base_abs_demean\n",
      "If in interactions, interpretation of lower order (e.g., main) effects difficult.\n",
      "\n",
      "Warning message:\n",
      "\"lme4 reported (at least) the following warnings for 'full':\n",
      "  * failure to converge in 10000 evaluations\n",
      "  * unable to evaluate scaled gradient\n",
      "  * Model failed to converge: degenerate  Hessian with 2 negative eigenvalues\"\n",
      "Warning message:\n",
      "\"lme4 reported (at least) the following warnings for 'condition':\n",
      "  * failure to converge in 10000 evaluations\n",
      "  * Model failed to converge with max|grad| = 1.04105 (tol = 0.002, component 1)\"\n",
      "Warning message:\n",
      "\"lme4 reported (at least) the following warnings for 'refer_boost_type_tri':\n",
      "  * failure to converge in 10000 evaluations\n",
      "  * unable to evaluate scaled gradient\n",
      "  * Model failed to converge: degenerate  Hessian with 2 negative eigenvalues\"\n",
      "Warning message:\n",
      "\"lme4 reported (at least) the following warnings for 'main_or_gap':\n",
      "  * failure to converge in 10000 evaluations\n",
      "  * unable to evaluate scaled gradient\n",
      "  * Model failed to converge: degenerate  Hessian with 2 negative eigenvalues\"\n",
      "Warning message:\n",
      "\"lme4 reported (at least) the following warnings for 'ref_step_base_abs_demean':\n",
      "  * failure to converge in 10000 evaluations\n",
      "  * unable to evaluate scaled gradient\n",
      "  * Model failed to converge: degenerate  Hessian with 1 negative eigenvalues\"\n",
      "Warning message:\n",
      "\"lme4 reported (at least) the following warnings for 'condition:refer_boost_type_tri':\n",
      "  * failure to converge in 10000 evaluations\n",
      "  * unable to evaluate scaled gradient\n",
      "  * Model failed to converge: degenerate  Hessian with 1 negative eigenvalues\"\n",
      "Warning message:\n",
      "\"lme4 reported (at least) the following warnings for 'condition:main_or_gap':\n",
      "  * failure to converge in 10000 evaluations\n",
      "  * Model failed to converge with max|grad| = 3.15083 (tol = 0.002, component 1)\"\n",
      "Warning message:\n",
      "\"lme4 reported (at least) the following warnings for 'refer_boost_type_tri:main_or_gap':\n",
      "  * failure to converge in 10000 evaluations\n",
      "  * unable to evaluate scaled gradient\n",
      "  * Model failed to converge: degenerate  Hessian with 1 negative eigenvalues\"\n",
      "Warning message:\n",
      "\"lme4 reported (at least) the following warnings for 'condition:refer_boost_type_tri:main_or_gap':\n",
      "  * failure to converge in 10000 evaluations\n",
      "  * Model failed to converge with max|grad| = 0.585022 (tol = 0.002, component 1)\"\n"
     ]
    },
    {
     "data": {
      "text/plain": [
       "Mixed Model Anova Table (Type 3 tests, LRT-method)\n",
       "\n",
       "Model: cbind(total_hits, total_points - total_hits) ~ condition * refer_boost_type_tri * \n",
       "Model:     main_or_gap + ref_step_base_abs_demean + (condition | base_segment) + \n",
       "Model:     (1 | base_refer_seg_pair) + (refer_boost_type_tri * main_or_gap + \n",
       "Model:     ref_step_base_abs_demean | sub)\n",
       "Data: df_seg_seg_boost_type_p0r0\n",
       "Df full model: 45\n",
       "                                      Effect df     Chisq p.value\n",
       "1                                  condition  1    6.42 *    .011\n",
       "2                       refer_boost_type_tri  2      2.69    .260\n",
       "3                                main_or_gap  1    3.84 +    .050\n",
       "4                   ref_step_base_abs_demean  1  10.19 **    .001\n",
       "5             condition:refer_boost_type_tri  2      1.84    .399\n",
       "6                      condition:main_or_gap  1    3.09 +    .079\n",
       "7           refer_boost_type_tri:main_or_gap  2 23.14 ***   <.001\n",
       "8 condition:refer_boost_type_tri:main_or_gap  2    7.29 *    .026\n",
       "---\n",
       "Signif. codes:  0 '***' 0.001 '**' 0.01 '*' 0.05 '+' 0.1 ' ' 1"
      ]
     },
     "metadata": {},
     "output_type": "display_data"
    },
    {
     "name": "stderr",
     "output_type": "stream",
     "text": [
      "Warning message in gzfile(file, mode):\n",
      "\"cannot open compressed file './stats_models/p0_r0_seg_seg_boost_type_tri_1.rds', probable reason 'No such file or directory'\"\n"
     ]
    },
    {
     "ename": "ERROR",
     "evalue": "Error in gzfile(file, mode): cannot open the connection\n",
     "output_type": "error",
     "traceback": [
      "Error in gzfile(file, mode): cannot open the connection\nTraceback:\n",
      "1. saveRDS(p0_r0_seg_seg_boost_type_tri_1, \"./stats_models/p0_r0_seg_seg_boost_type_tri_1.rds\")",
      "2. gzfile(file, mode)"
     ]
    }
   ],
   "source": [
    "p0_r0_seg_seg_boost_type_tri_1 <- mixed(cbind(total_hits, total_points - total_hits) ~ \n",
    "                              condition*refer_boost_type_tri*main_or_gap + ref_step_base_abs_demean + \n",
    "                              (condition|base_segment) + \n",
    "                              (1|base_refer_seg_pair) +\n",
    "                              (refer_boost_type_tri*main_or_gap + ref_step_base_abs_demean|sub), \n",
    "                          df_seg_seg_boost_type_p0r0, family = binomial, method = \"LRT\", cl=cl)\n",
    "p0_r0_seg_seg_boost_type_tri_1\n",
    "saveRDS(p0_r0_seg_seg_boost_type_tri_1, \"../stats_models/rep/p0_r0_seg_seg_boost_type_tri_1.rds\")"
   ]
  },
  {
   "attachments": {},
   "cell_type": "markdown",
   "metadata": {},
   "source": [
    "### storyline"
   ]
  },
  {
   "cell_type": "code",
   "execution_count": 9,
   "metadata": {
    "vscode": {
     "languageId": "r"
    }
   },
   "outputs": [
    {
     "name": "stdout",
     "output_type": "stream",
     "text": [
      "'data.frame':\t7434 obs. of  19 variables:\n",
      " $ sub                     : Factor w/ 37 levels \"0522-1\",\"0522-2\",..: 1 1 1 1 1 1 1 1 1 1 ...\n",
      " $ condition               : Factor w/ 2 levels \"p0\",\"r0\": 2 2 2 2 2 2 2 2 2 2 ...\n",
      " $ story                   : Factor w/ 1 level \"3\": 1 1 1 1 1 1 1 1 1 1 ...\n",
      " $ segment                 : Factor w/ 13 levels \"3_01\",\"3_02\",..: 1 1 1 1 1 2 2 2 2 2 ...\n",
      " $ segment_count           : num  12 12 12 12 12 11 11 11 11 11 ...\n",
      " $ base_segment            : Factor w/ 13 levels \"3_01\",\"3_02\",..: 2 2 2 2 2 3 3 3 3 3 ...\n",
      " $ base_seg_num            : int  2 2 2 2 2 3 3 3 3 3 ...\n",
      " $ ref_seg_num             : num  0.5 0.5 1 1 1.5 0.5 0.5 1 1 1.5 ...\n",
      " $ ref_step_base           : num  -1.5 -1.5 -1 -1 -0.5 -2.5 -2.5 -2 -2 -1.5 ...\n",
      " $ ref_step_base_abs       : num  1.5 1.5 1 1 0.5 2.5 2.5 2 2 1.5 ...\n",
      " $ ref_seg_type            : Factor w/ 4 levels \"ahead_gap\",\"ahead_main\",..: 1 1 4 4 3 1 1 2 2 1 ...\n",
      " $ main_or_gap             : Factor w/ 2 levels \"gap\",\"main\": 1 1 2 2 1 1 1 2 2 1 ...\n",
      " $ refer_boost_type_sl     : Factor w/ 3 levels \"neighbor\",\"none\",..: 1 3 1 3 3 1 3 1 3 1 ...\n",
      " $ total_count             : int  11 9 12 4 1 12 8 12 4 1 ...\n",
      " $ total_points            : num  11 9 12 3 1 12 8 12 3 1 ...\n",
      " $ total_hits              : num  0 0 0 0 0 1 0 1 0 0 ...\n",
      " $ base_refer_seg_pair     : Factor w/ 272 levels \"3_01_1.5\",\"3_01_10.0\",..: 21 21 22 22 23 42 42 43 43 44 ...\n",
      " $ segment_count_demean    : num  5.5 5.5 5.5 5.5 5.5 4.5 4.5 4.5 4.5 4.5 ...\n",
      " $ ref_step_base_abs_demean: num  -3.12 -3.12 -3.62 -3.62 -4.12 ...\n"
     ]
    }
   ],
   "source": [
    "df_seg_seg_boost_type_sl_p0r0_for_R <- read.csv(file = '../data/rep/R/df_seg_seg_boost_type_sl_p0r0_for_R.csv', stringsAsFactors = TRUE)\n",
    "df_seg_seg_boost_type_sl_p0r0_for_R$story <- factor(df_seg_seg_boost_type_sl_p0r0_for_R$story)\n",
    "str(df_seg_seg_boost_type_sl_p0r0_for_R)"
   ]
  },
  {
   "cell_type": "code",
   "execution_count": 27,
   "metadata": {
    "vscode": {
     "languageId": "r"
    }
   },
   "outputs": [
    {
     "name": "stderr",
     "output_type": "stream",
     "text": [
      "Numerical variables NOT centered on 0: ref_step_base_abs_demean\n",
      "If in interactions, interpretation of lower order (e.g., main) effects difficult.\n",
      "\n",
      "Warning message:\n",
      "\"lme4 reported (at least) the following warnings for 'full':\n",
      "  * failure to converge in 10000 evaluations\n",
      "  * Model failed to converge with max|grad| = 0.350211 (tol = 0.002, component 1)\n",
      "  * Model is nearly unidentifiable: large eigenvalue ratio\n",
      " - Rescale variables?\"\n",
      "Warning message:\n",
      "\"lme4 reported (at least) the following warnings for 'condition':\n",
      "  * failure to converge in 10000 evaluations\n",
      "  * Model failed to converge with max|grad| = 0.351364 (tol = 0.002, component 1)\"\n",
      "Warning message:\n",
      "\"lme4 reported (at least) the following warnings for 'refer_boost_type_sl':\n",
      "  * failure to converge in 10000 evaluations\n",
      "  * unable to evaluate scaled gradient\n",
      "  * Model failed to converge: degenerate  Hessian with 1 negative eigenvalues\"\n",
      "Warning message:\n",
      "\"lme4 reported (at least) the following warnings for 'main_or_gap':\n",
      "  * failure to converge in 10000 evaluations\n",
      "  * unable to evaluate scaled gradient\n",
      "  * Model failed to converge: degenerate  Hessian with 1 negative eigenvalues\"\n",
      "Warning message:\n",
      "\"lme4 reported (at least) the following warnings for 'ref_step_base_abs_demean':\n",
      "  * failure to converge in 10000 evaluations\n",
      "  * boundary (singular) fit: see help('isSingular')\"\n",
      "Warning message:\n",
      "\"lme4 reported (at least) the following warnings for 'condition:refer_boost_type_sl':\n",
      "  * failure to converge in 10000 evaluations\n",
      "  * Model failed to converge with max|grad| = 0.6069 (tol = 0.002, component 1)\"\n",
      "Warning message:\n",
      "\"lme4 reported (at least) the following warnings for 'condition:main_or_gap':\n",
      "  * failure to converge in 10000 evaluations\n",
      "  * unable to evaluate scaled gradient\n",
      "  * Model failed to converge: degenerate  Hessian with 1 negative eigenvalues\"\n",
      "Warning message:\n",
      "\"lme4 reported (at least) the following warnings for 'refer_boost_type_sl:main_or_gap':\n",
      "  * failure to converge in 10000 evaluations\n",
      "  * Model failed to converge with max|grad| = 0.200279 (tol = 0.002, component 1)\"\n",
      "Warning message:\n",
      "\"lme4 reported (at least) the following warnings for 'condition:refer_boost_type_sl:main_or_gap':\n",
      "  * failure to converge in 10000 evaluations\n",
      "  * Model failed to converge with max|grad| = 0.213395 (tol = 0.002, component 1)\"\n"
     ]
    },
    {
     "data": {
      "text/plain": [
       "Mixed Model Anova Table (Type 3 tests, LRT-method)\n",
       "\n",
       "Model: cbind(total_hits, total_points - total_hits) ~ condition * refer_boost_type_sl * \n",
       "Model:     main_or_gap + ref_step_base_abs_demean + (condition | base_segment) + \n",
       "Model:     (1 | base_refer_seg_pair) + (refer_boost_type_sl * main_or_gap + \n",
       "Model:     ref_step_base_abs_demean | sub)\n",
       "Data: df_seg_seg_boost_type_sl_p0r0_for_R\n",
       "Df full model: 45\n",
       "                                     Effect df    Chisq p.value\n",
       "1                                 condition  1   6.42 *    .011\n",
       "2                       refer_boost_type_sl  2     2.44    .296\n",
       "3                               main_or_gap  1   3.43 +    .064\n",
       "4                  ref_step_base_abs_demean  1   3.32 +    .069\n",
       "5             condition:refer_boost_type_sl  2     1.26    .534\n",
       "6                     condition:main_or_gap  1   6.12 *    .013\n",
       "7           refer_boost_type_sl:main_or_gap  2 11.91 **    .003\n",
       "8 condition:refer_boost_type_sl:main_or_gap  2 10.72 **    .005\n",
       "---\n",
       "Signif. codes:  0 '***' 0.001 '**' 0.01 '*' 0.05 '+' 0.1 ' ' 1"
      ]
     },
     "metadata": {},
     "output_type": "display_data"
    }
   ],
   "source": [
    "p0_r0_seg_seg_boost_type_sl_tri_1 <- mixed(cbind(total_hits, total_points - total_hits) ~ \n",
    "                              condition*refer_boost_type_sl*main_or_gap + ref_step_base_abs_demean + \n",
    "                              (condition|base_segment) + \n",
    "                              (1|base_refer_seg_pair) +\n",
    "                              (refer_boost_type_sl*main_or_gap + ref_step_base_abs_demean|sub), \n",
    "                          df_seg_seg_boost_type_sl_p0r0_for_R, family = binomial, method = \"LRT\", cl=cl)\n",
    "p0_r0_seg_seg_boost_type_sl_tri_1\n",
    "saveRDS(p0_r0_seg_seg_boost_type_sl_tri_1, \"../stats_models/rep/p0_r0_seg_seg_boost_type_sl_tri_1.rds\")"
   ]
  },
  {
   "attachments": {},
   "cell_type": "markdown",
   "metadata": {},
   "source": [
    "# figure 5"
   ]
  },
  {
   "cell_type": "code",
   "execution_count": 10,
   "metadata": {
    "vscode": {
     "languageId": "r"
    }
   },
   "outputs": [
    {
     "name": "stdout",
     "output_type": "stream",
     "text": [
      "'data.frame':\t4073 obs. of  19 variables:\n",
      " $ sub                     : Factor w/ 37 levels \"0522-1\",\"0522-2\",..: 1 1 1 1 1 1 1 1 1 1 ...\n",
      " $ condition               : Factor w/ 2 levels \"p0\",\"r0\": 2 2 2 2 2 2 2 2 2 2 ...\n",
      " $ story                   : Factor w/ 1 level \"3\": 1 1 1 1 1 1 1 1 1 1 ...\n",
      " $ segment                 : Factor w/ 13 levels \"3_01\",\"3_02\",..: 1 1 2 2 2 3 3 3 3 3 ...\n",
      " $ segment_count           : num  12 12 11 11 11 10 10 10 10 10 ...\n",
      " $ base_seg_num            : int  2 2 3 3 3 4 4 4 4 4 ...\n",
      " $ base_segment            : Factor w/ 13 levels \"3_01\",\"3_02\",..: 2 2 3 3 3 4 4 4 4 4 ...\n",
      " $ ref_seg_num             : num  1 1 1 1 2 1 1 2 3 3 ...\n",
      " $ ref_step_base           : num  -1 -1 -2 -2 -1 -3 -3 -2 -1 -1 ...\n",
      " $ ref_step_base_abs       : num  1 1 2 2 1 3 3 2 1 1 ...\n",
      " $ ref_seg_type            : Factor w/ 2 levels \"ahead_main\",\"target\": 2 2 1 1 2 1 1 1 2 2 ...\n",
      " $ main_or_gap             : Factor w/ 1 level \"main\": 1 1 1 1 1 1 1 1 1 1 ...\n",
      " $ rr_type                 : Factor w/ 3 levels \"none\",\"referred\",..: 1 2 1 2 1 1 2 1 1 2 ...\n",
      " $ total_count             : int  12 4 12 4 5 12 4 5 3 5 ...\n",
      " $ total_points            : num  12 3 12 3 4 12 3 4 3 4.5 ...\n",
      " $ total_hits              : num  0 0 1 0 0 0 0 0 0 0 ...\n",
      " $ base_refer_seg_pair     : Factor w/ 156 levels \"3_01_10.0\",\"3_01_11.0\",..: 13 13 25 25 30 37 37 42 43 43 ...\n",
      " $ segment_count_demean    : num  5.5 5.5 4.5 4.5 4.5 3.5 3.5 3.5 3.5 3.5 ...\n",
      " $ ref_step_base_abs_demean: num  -4.62 -4.62 -3.62 -3.62 -4.62 ...\n"
     ]
    }
   ],
   "source": [
    "df_seg_seg_rr_type_p0r0_main <- read.csv(file = '../data/rep/R/df_seg_seg_rr_type_p0r0_main_for_R.csv', stringsAsFactors = TRUE)\n",
    "df_seg_seg_rr_type_p0r0_main$story <- factor(df_seg_seg_rr_type_p0r0_main$story)\n",
    "str(df_seg_seg_rr_type_p0r0_main)"
   ]
  },
  {
   "cell_type": "code",
   "execution_count": 27,
   "metadata": {
    "vscode": {
     "languageId": "r"
    }
   },
   "outputs": [
    {
     "name": "stderr",
     "output_type": "stream",
     "text": [
      "Numerical variables NOT centered on 0: ref_step_base_abs_demean\n",
      "If in interactions, interpretation of lower order (e.g., main) effects difficult.\n",
      "\n",
      "Warning message:\n",
      "\"lme4 reported (at least) the following warnings for 'full':\n",
      "  * boundary (singular) fit: see help('isSingular')\"\n",
      "Warning message:\n",
      "\"lme4 reported (at least) the following warnings for 'condition':\n",
      "  * failure to converge in 10000 evaluations\n",
      "  * unable to evaluate scaled gradient\n",
      "  * Model failed to converge: degenerate  Hessian with 2 negative eigenvalues\"\n",
      "Warning message:\n",
      "\"lme4 reported (at least) the following warnings for 'rr_type':\n",
      "  * Model failed to converge with max|grad| = 0.0800653 (tol = 0.002, component 1)\n",
      "  * Model is nearly unidentifiable: very large eigenvalue\n",
      " - Rescale variables?\"\n",
      "Warning message:\n",
      "\"lme4 reported (at least) the following warnings for 'ref_step_base_abs_demean':\n",
      "  * boundary (singular) fit: see help('isSingular')\"\n",
      "Warning message:\n",
      "\"lme4 reported (at least) the following warnings for 'condition:rr_type':\n",
      "  * failure to converge in 10000 evaluations\n",
      "  * boundary (singular) fit: see help('isSingular')\"\n"
     ]
    },
    {
     "data": {
      "text/plain": [
       "Mixed Model Anova Table (Type 3 tests, LRT-method)\n",
       "\n",
       "Model: cbind(total_hits, total_points - total_hits) ~ condition * rr_type + \n",
       "Model:     ref_step_base_abs_demean + (condition | base_segment) + (1 | \n",
       "Model:     base_refer_seg_pair) + (rr_type + ref_step_base_abs_demean | \n",
       "Model:     sub)\n",
       "Data: df_seg_seg_rr_type_p0r0_main\n",
       "Df full model: 21\n",
       "                    Effect df     Chisq p.value\n",
       "1                condition  1      0.07    .797\n",
       "2                  rr_type  2 27.90 ***   <.001\n",
       "3 ref_step_base_abs_demean  1 12.17 ***   <.001\n",
       "4        condition:rr_type  2      0.42    .813\n",
       "---\n",
       "Signif. codes:  0 '***' 0.001 '**' 0.01 '*' 0.05 '+' 0.1 ' ' 1"
      ]
     },
     "metadata": {},
     "output_type": "display_data"
    }
   ],
   "source": [
    "p0_r0_seg_seg_rr_type_1 <- mixed(cbind(total_hits, total_points - total_hits) ~ \n",
    "                               condition*rr_type + ref_step_base_abs_demean + \n",
    "                              (condition|base_segment) + \n",
    "                              (1|base_refer_seg_pair) +\n",
    "                              (rr_type + ref_step_base_abs_demean|sub), \n",
    "                              df_seg_seg_rr_type_p0r0_main, family = binomial, method = \"LRT\", cl=cl)\n",
    "p0_r0_seg_seg_rr_type_1\n",
    "saveRDS(p0_r0_seg_seg_rr_type_1, \"../stats_models/rep/p0_r0_seg_seg_rr_type_1.rds\")"
   ]
  },
  {
   "attachments": {},
   "cell_type": "markdown",
   "metadata": {},
   "source": [
    "# social"
   ]
  },
  {
   "cell_type": "code",
   "execution_count": 11,
   "metadata": {
    "vscode": {
     "languageId": "r"
    }
   },
   "outputs": [
    {
     "name": "stdout",
     "output_type": "stream",
     "text": [
      "'data.frame':\t3768 obs. of  19 variables:\n",
      " $ sub                     : Factor w/ 37 levels \"0522-1\",\"0522-2\",..: 1 1 1 1 1 1 1 1 1 1 ...\n",
      " $ condition               : Factor w/ 2 levels \"p0\",\"r0\": 2 2 2 2 2 2 2 2 2 2 ...\n",
      " $ story                   : int  3 3 3 3 3 3 3 3 3 3 ...\n",
      " $ segment                 : Factor w/ 13 levels \"3_01\",\"3_02\",..: 1 1 2 2 2 3 3 3 3 4 ...\n",
      " $ segment_count           : num  12 12 11 11 11 10 10 10 10 9 ...\n",
      " $ base_seg_num            : int  2 2 3 3 3 4 4 4 4 5 ...\n",
      " $ base_segment            : Factor w/ 13 levels \"3_01\",\"3_02\",..: 2 2 3 3 3 4 4 4 4 5 ...\n",
      " $ ref_seg_num             : num  1 1 1 1 2 1 1 2 3 1 ...\n",
      " $ ref_step_base           : num  -1 -1 -2 -2 -1 -3 -3 -2 -1 -4 ...\n",
      " $ ref_step_base_abs       : num  1 1 2 2 1 3 3 2 1 4 ...\n",
      " $ ref_seg_type            : Factor w/ 2 levels \"ahead_main\",\"target\": 2 2 1 1 2 1 1 1 2 1 ...\n",
      " $ main_or_gap             : Factor w/ 1 level \"main\": 1 1 1 1 1 1 1 1 1 1 ...\n",
      " $ social.non.social       : Factor w/ 2 levels \"n\",\"s\": 1 2 1 2 2 1 2 2 2 1 ...\n",
      " $ total_count             : int  5 11 5 11 5 5 11 5 8 5 ...\n",
      " $ total_points            : num  5 10 5 10 4 5 10 4 7.5 5 ...\n",
      " $ total_hits              : num  0 0 1 0 0 0 0 0 0 0 ...\n",
      " $ base_refer_seg_pair     : Factor w/ 156 levels \"3_01_10.0\",\"3_01_11.0\",..: 13 13 25 25 30 37 37 42 43 49 ...\n",
      " $ segment_count_demean    : num  5.5 5.5 4.5 4.5 4.5 3.5 3.5 3.5 3.5 2.5 ...\n",
      " $ ref_step_base_abs_demean: num  -4.62 -4.62 -3.62 -3.62 -4.62 ...\n"
     ]
    }
   ],
   "source": [
    "df_seg_seg_social_p0r0_main <- read.csv(file = '../data/rep/R/df_seg_seg_social_p0r0_main_for_R.csv', stringsAsFactors = TRUE)\n",
    "str(df_seg_seg_social_p0r0_main)"
   ]
  },
  {
   "cell_type": "code",
   "execution_count": 40,
   "metadata": {
    "vscode": {
     "languageId": "r"
    }
   },
   "outputs": [
    {
     "name": "stderr",
     "output_type": "stream",
     "text": [
      "Numerical variables NOT centered on 0: ref_step_base_abs_demean\n",
      "If in interactions, interpretation of lower order (e.g., main) effects difficult.\n",
      "\n",
      "Warning message:\n",
      "\"lme4 reported (at least) the following warnings for 'full':\n",
      "  * Model failed to converge with max|grad| = 0.386246 (tol = 0.002, component 1)\n",
      "  * Model is nearly unidentifiable: large eigenvalue ratio\n",
      " - Rescale variables?\"\n",
      "Warning message:\n",
      "\"lme4 reported (at least) the following warnings for 'condition':\n",
      "  * Model failed to converge with max|grad| = 0.121678 (tol = 0.002, component 1)\"\n",
      "Warning message:\n",
      "\"lme4 reported (at least) the following warnings for 'social':\n",
      "  * Model failed to converge with max|grad| = 0.213942 (tol = 0.002, component 1)\"\n",
      "Warning message:\n",
      "\"lme4 reported (at least) the following warnings for 'ref_step_base_abs_demean':\n",
      "  * Model failed to converge with max|grad| = 0.0879 (tol = 0.002, component 1)\n",
      "  * Model is nearly unidentifiable: large eigenvalue ratio\n",
      " - Rescale variables?\"\n",
      "Warning message:\n",
      "\"lme4 reported (at least) the following warnings for 'condition:social':\n",
      "  * Model failed to converge with max|grad| = 0.197329 (tol = 0.002, component 1)\"\n"
     ]
    },
    {
     "data": {
      "text/plain": [
       "Mixed Model Anova Table (Type 3 tests, LRT-method)\n",
       "\n",
       "Model: cbind(total_hits, total_points - total_hits) ~ condition * social + \n",
       "Model:     ref_step_base_abs_demean + (condition | base_segment) + (1 | \n",
       "Model:     base_refer_seg_pair) + (social + ref_step_base_abs_demean | \n",
       "Model:     sub)\n",
       "Data: df_seg_seg_social_p0r0_main\n",
       "Df full model: 15\n",
       "                    Effect df     Chisq p.value\n",
       "1                condition  1    6.46 *    .011\n",
       "2                   social  1    3.49 +    .062\n",
       "3 ref_step_base_abs_demean  1 12.27 ***   <.001\n",
       "4         condition:social  1    4.72 *    .030\n",
       "---\n",
       "Signif. codes:  0 '***' 0.001 '**' 0.01 '*' 0.05 '+' 0.1 ' ' 1"
      ]
     },
     "metadata": {},
     "output_type": "display_data"
    }
   ],
   "source": [
    "p0_r0_seg_seg_social_1 <- mixed(cbind(total_hits, total_points - total_hits) ~ \n",
    "                               condition*social + ref_step_base_abs_demean + \n",
    "                              (condition|base_segment) + \n",
    "                              (1|base_refer_seg_pair) +\n",
    "                              (social + ref_step_base_abs_demean|sub), \n",
    "                              df_seg_seg_social_p0r0_main, family = binomial, method = \"LRT\", cl=cl)\n",
    "p0_r0_seg_seg_social_1\n",
    "saveRDS(p0_r0_seg_seg_social_1, \"../stats_models/rep/p0_r0_seg_seg_social_1.rds\")"
   ]
  }
 ],
 "metadata": {
  "kernelspec": {
   "display_name": "R",
   "language": "R",
   "name": "ir"
  },
  "language_info": {
   "codemirror_mode": "r",
   "file_extension": ".r",
   "mimetype": "text/x-r-source",
   "name": "R",
   "pygments_lexer": "r",
   "version": "4.4.0"
  },
  "orig_nbformat": 4
 },
 "nbformat": 4,
 "nbformat_minor": 2
}
