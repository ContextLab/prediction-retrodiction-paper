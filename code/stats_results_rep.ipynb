{
 "cells": [
  {
   "cell_type": "code",
   "execution_count": 1,
   "metadata": {
    "vscode": {
     "languageId": "r"
    }
   },
   "outputs": [
    {
     "name": "stderr",
     "output_type": "stream",
     "text": [
      "Loading required package: Matrix\n",
      "\n",
      "************\n",
      "Welcome to afex. For support visit: http://afex.singmann.science/\n",
      "\n",
      "- Functions for ANOVAs: aov_car(), aov_ez(), and aov_4()\n",
      "- Methods for calculating p-values with mixed(): 'S', 'KR', 'LRT', and 'PB'\n",
      "- 'afex_aov' and 'mixed' objects can be passed to emmeans() for follow-up tests\n",
      "- Get and set global package options with: afex_options()\n",
      "- Set sum-to-zero contrasts globally: set_sum_contrasts()\n",
      "- For example analyses see: browseVignettes(\"afex\")\n",
      "************\n",
      "\n",
      "\n",
      "Attaching package: 'afex'\n",
      "\n",
      "\n",
      "The following object is masked from 'package:lme4':\n",
      "\n",
      "    lmer\n",
      "\n",
      "\n",
      "\n",
      "Attaching package: 'dplyr'\n",
      "\n",
      "\n",
      "The following objects are masked from 'package:stats':\n",
      "\n",
      "    filter, lag\n",
      "\n",
      "\n",
      "The following objects are masked from 'package:base':\n",
      "\n",
      "    intersect, setdiff, setequal, union\n",
      "\n",
      "\n",
      "setting contr.sum globally: options(contrasts=c('contr.sum', 'contr.poly'))\n",
      "\n"
     ]
    }
   ],
   "source": [
    "library(\"lme4\")\n",
    "library('afex')\n",
    "library(\"dplyr\")\n",
    "library('emmeans')\n",
    "set_sum_contrasts()\n",
    "options(repr.matrix.max.rows=60, repr.matrix.max.cols=40)"
   ]
  },
  {
   "attachments": {},
   "cell_type": "markdown",
   "metadata": {},
   "source": [
    "# figure 1"
   ]
  },
  {
   "attachments": {},
   "cell_type": "markdown",
   "metadata": {},
   "source": [
    "## proportion of target events hit"
   ]
  },
  {
   "cell_type": "code",
   "execution_count": 3,
   "metadata": {
    "vscode": {
     "languageId": "r"
    }
   },
   "outputs": [],
   "source": [
    "pr_hit_ac <- readRDS(\"../stats_models/rep/pr_hit_ac.rds\")\n",
    "p0r0_hit_ac <- readRDS(\"../stats_models/rep/p0r0_hit_ac.rds\")\n",
    "cpr_hit_ac <- readRDS(\"../stats_models/rep/cpr_hit_ac.rds\")"
   ]
  },
  {
   "cell_type": "code",
   "execution_count": 24,
   "metadata": {
    "vscode": {
     "languageId": "r"
    }
   },
   "outputs": [
    {
     "name": "stderr",
     "output_type": "stream",
     "text": [
      "NOTE: Results may be misleading due to involvement in interactions\n",
      "\n"
     ]
    },
    {
     "data": {
      "text/html": [
       "<dl>\n",
       "\t<dt>$emmeans</dt>\n",
       "\t\t<dd><table class=\"dataframe\">\n",
       "<caption>A summary_emm: 4 × 10</caption>\n",
       "<thead>\n",
       "\t<tr><th></th><th scope=col>cond_direction</th><th scope=col>cond_amount</th><th scope=col>prob</th><th scope=col>SE</th><th scope=col>df</th><th scope=col>asymp.LCL</th><th scope=col>asymp.UCL</th><th scope=col>null</th><th scope=col>z.ratio</th><th scope=col>p.value</th></tr>\n",
       "\t<tr><th></th><th scope=col>&lt;fct&gt;</th><th scope=col>&lt;fct&gt;</th><th scope=col>&lt;dbl&gt;</th><th scope=col>&lt;dbl&gt;</th><th scope=col>&lt;dbl&gt;</th><th scope=col>&lt;dbl&gt;</th><th scope=col>&lt;dbl&gt;</th><th scope=col>&lt;dbl&gt;</th><th scope=col>&lt;dbl&gt;</th><th scope=col>&lt;dbl&gt;</th></tr>\n",
       "</thead>\n",
       "<tbody>\n",
       "\t<tr><th scope=row>1</th><td>b</td><td>p/r  </td><td>0.0590225432</td><td>0.013052877</td><td>Inf</td><td>3.806561e-02</td><td>0.09043259</td><td>0.5</td><td>-11.781858</td><td>4.841384e-32</td></tr>\n",
       "\t<tr><th scope=row>2</th><td>f</td><td>p/r  </td><td>0.0376068378</td><td>0.017139104</td><td>Inf</td><td>1.521136e-02</td><td>0.08996274</td><td>0.5</td><td> -6.846617</td><td>7.561707e-12</td></tr>\n",
       "\t<tr><th scope=row>3</th><td>b</td><td>p0/r0</td><td>0.0009179763</td><td>0.001157545</td><td>Inf</td><td>7.742236e-05</td><td>0.01078577</td><td>0.5</td><td> -5.540158</td><td>3.021996e-08</td></tr>\n",
       "\t<tr><th scope=row>4</th><td>f</td><td>p0/r0</td><td>0.0076242172</td><td>0.004122970</td><td>Inf</td><td>2.633484e-03</td><td>0.02186557</td><td>0.5</td><td> -8.934715</td><td>4.082301e-19</td></tr>\n",
       "</tbody>\n",
       "</table>\n",
       "</dd>\n",
       "\t<dt>$contrasts</dt>\n",
       "\t\t<dd><table class=\"dataframe\">\n",
       "<caption>A summary_emm: 2 × 10</caption>\n",
       "<thead>\n",
       "\t<tr><th></th><th scope=col>contrast</th><th scope=col>cond_amount</th><th scope=col>odds.ratio</th><th scope=col>SE</th><th scope=col>df</th><th scope=col>asymp.LCL</th><th scope=col>asymp.UCL</th><th scope=col>null</th><th scope=col>z.ratio</th><th scope=col>p.value</th></tr>\n",
       "\t<tr><th></th><th scope=col>&lt;fct&gt;</th><th scope=col>&lt;fct&gt;</th><th scope=col>&lt;dbl&gt;</th><th scope=col>&lt;dbl&gt;</th><th scope=col>&lt;dbl&gt;</th><th scope=col>&lt;dbl&gt;</th><th scope=col>&lt;dbl&gt;</th><th scope=col>&lt;dbl&gt;</th><th scope=col>&lt;dbl&gt;</th><th scope=col>&lt;dbl&gt;</th></tr>\n",
       "</thead>\n",
       "<tbody>\n",
       "\t<tr><th scope=row>1</th><td>b / f</td><td>p/r  </td><td>1.6051825</td><td>0.7938054</td><td>Inf</td><td>0.608951372</td><td>4.231226</td><td>1</td><td> 0.9569505</td><td>0.3385923</td></tr>\n",
       "\t<tr><th scope=row>2</th><td>b / f</td><td>p0/r0</td><td>0.1195945</td><td>0.1645782</td><td>Inf</td><td>0.008060145</td><td>1.774515</td><td>1</td><td>-1.5431975</td><td>0.1227829</td></tr>\n",
       "</tbody>\n",
       "</table>\n",
       "</dd>\n",
       "</dl>\n"
      ],
      "text/latex": [
       "\\begin{description}\n",
       "\\item[\\$emmeans] A summary\\_emm: 4 × 10\n",
       "\\begin{tabular}{r|llllllllll}\n",
       "  & cond\\_direction & cond\\_amount & prob & SE & df & asymp.LCL & asymp.UCL & null & z.ratio & p.value\\\\\n",
       "  & <fct> & <fct> & <dbl> & <dbl> & <dbl> & <dbl> & <dbl> & <dbl> & <dbl> & <dbl>\\\\\n",
       "\\hline\n",
       "\t1 & b & p/r   & 0.0590225432 & 0.013052877 & Inf & 3.806561e-02 & 0.09043259 & 0.5 & -11.781858 & 4.841384e-32\\\\\n",
       "\t2 & f & p/r   & 0.0376068378 & 0.017139104 & Inf & 1.521136e-02 & 0.08996274 & 0.5 &  -6.846617 & 7.561707e-12\\\\\n",
       "\t3 & b & p0/r0 & 0.0009179763 & 0.001157545 & Inf & 7.742236e-05 & 0.01078577 & 0.5 &  -5.540158 & 3.021996e-08\\\\\n",
       "\t4 & f & p0/r0 & 0.0076242172 & 0.004122970 & Inf & 2.633484e-03 & 0.02186557 & 0.5 &  -8.934715 & 4.082301e-19\\\\\n",
       "\\end{tabular}\n",
       "\n",
       "\\item[\\$contrasts] A summary\\_emm: 2 × 10\n",
       "\\begin{tabular}{r|llllllllll}\n",
       "  & contrast & cond\\_amount & odds.ratio & SE & df & asymp.LCL & asymp.UCL & null & z.ratio & p.value\\\\\n",
       "  & <fct> & <fct> & <dbl> & <dbl> & <dbl> & <dbl> & <dbl> & <dbl> & <dbl> & <dbl>\\\\\n",
       "\\hline\n",
       "\t1 & b / f & p/r   & 1.6051825 & 0.7938054 & Inf & 0.608951372 & 4.231226 & 1 &  0.9569505 & 0.3385923\\\\\n",
       "\t2 & b / f & p0/r0 & 0.1195945 & 0.1645782 & Inf & 0.008060145 & 1.774515 & 1 & -1.5431975 & 0.1227829\\\\\n",
       "\\end{tabular}\n",
       "\n",
       "\\end{description}\n"
      ],
      "text/markdown": [
       "$emmeans\n",
       ":   \n",
       "A summary_emm: 4 × 10\n",
       "\n",
       "| <!--/--> | cond_direction &lt;fct&gt; | cond_amount &lt;fct&gt; | prob &lt;dbl&gt; | SE &lt;dbl&gt; | df &lt;dbl&gt; | asymp.LCL &lt;dbl&gt; | asymp.UCL &lt;dbl&gt; | null &lt;dbl&gt; | z.ratio &lt;dbl&gt; | p.value &lt;dbl&gt; |\n",
       "|---|---|---|---|---|---|---|---|---|---|---|\n",
       "| 1 | b | p/r   | 0.0590225432 | 0.013052877 | Inf | 3.806561e-02 | 0.09043259 | 0.5 | -11.781858 | 4.841384e-32 |\n",
       "| 2 | f | p/r   | 0.0376068378 | 0.017139104 | Inf | 1.521136e-02 | 0.08996274 | 0.5 |  -6.846617 | 7.561707e-12 |\n",
       "| 3 | b | p0/r0 | 0.0009179763 | 0.001157545 | Inf | 7.742236e-05 | 0.01078577 | 0.5 |  -5.540158 | 3.021996e-08 |\n",
       "| 4 | f | p0/r0 | 0.0076242172 | 0.004122970 | Inf | 2.633484e-03 | 0.02186557 | 0.5 |  -8.934715 | 4.082301e-19 |\n",
       "\n",
       "\n",
       "$contrasts\n",
       ":   \n",
       "A summary_emm: 2 × 10\n",
       "\n",
       "| <!--/--> | contrast &lt;fct&gt; | cond_amount &lt;fct&gt; | odds.ratio &lt;dbl&gt; | SE &lt;dbl&gt; | df &lt;dbl&gt; | asymp.LCL &lt;dbl&gt; | asymp.UCL &lt;dbl&gt; | null &lt;dbl&gt; | z.ratio &lt;dbl&gt; | p.value &lt;dbl&gt; |\n",
       "|---|---|---|---|---|---|---|---|---|---|---|\n",
       "| 1 | b / f | p/r   | 1.6051825 | 0.7938054 | Inf | 0.608951372 | 4.231226 | 1 |  0.9569505 | 0.3385923 |\n",
       "| 2 | b / f | p0/r0 | 0.1195945 | 0.1645782 | Inf | 0.008060145 | 1.774515 | 1 | -1.5431975 | 0.1227829 |\n",
       "\n",
       "\n",
       "\n",
       "\n"
      ],
      "text/plain": [
       "$emmeans\n",
       "cond_amount = p/r:\n",
       " cond_direction     prob      SE  df asymp.LCL asymp.UCL null z.ratio p.value\n",
       " b              0.059023 0.01305 Inf  3.81e-02    0.0904  0.5 -11.782  <.0001\n",
       " f              0.037607 0.01714 Inf  1.52e-02    0.0900  0.5  -6.847  <.0001\n",
       "\n",
       "cond_amount = p0/r0:\n",
       " cond_direction     prob      SE  df asymp.LCL asymp.UCL null z.ratio p.value\n",
       " b              0.000918 0.00116 Inf  7.74e-05    0.0108  0.5  -5.540  <.0001\n",
       " f              0.007624 0.00412 Inf  2.63e-03    0.0219  0.5  -8.935  <.0001\n",
       "\n",
       "Confidence level used: 0.95 \n",
       "Intervals are back-transformed from the logit scale \n",
       "Tests are performed on the logit scale \n",
       "\n",
       "$contrasts\n",
       "cond_amount = p/r:\n",
       " contrast odds.ratio    SE  df asymp.LCL asymp.UCL null z.ratio p.value\n",
       " b / f          1.61 0.794 Inf   0.60895      4.23    1   0.957  0.3386\n",
       "\n",
       "cond_amount = p0/r0:\n",
       " contrast odds.ratio    SE  df asymp.LCL asymp.UCL null z.ratio p.value\n",
       " b / f          0.12 0.165 Inf   0.00806      1.77    1  -1.543  0.1228\n",
       "\n",
       "Confidence level used: 0.95 \n",
       "Intervals are back-transformed from the log odds ratio scale \n",
       "Tests are performed on the log odds ratio scale \n"
      ]
     },
     "metadata": {},
     "output_type": "display_data"
    }
   ],
   "source": [
    "emmeans(pr_hit_ac, pairwise ~ cond_direction|cond_amount, type='response') %>%\n",
    "     summary(infer = TRUE)"
   ]
  },
  {
   "cell_type": "code",
   "execution_count": 25,
   "metadata": {
    "vscode": {
     "languageId": "r"
    }
   },
   "outputs": [
    {
     "name": "stderr",
     "output_type": "stream",
     "text": [
      "NOTE: Results may be misleading due to involvement in interactions\n",
      "\n"
     ]
    },
    {
     "data": {
      "text/html": [
       "<dl>\n",
       "\t<dt>$emmeans</dt>\n",
       "\t\t<dd><table class=\"dataframe\">\n",
       "<caption>A summary_emm: 2 × 9</caption>\n",
       "<thead>\n",
       "\t<tr><th></th><th scope=col>cond_amount</th><th scope=col>prob</th><th scope=col>SE</th><th scope=col>df</th><th scope=col>asymp.LCL</th><th scope=col>asymp.UCL</th><th scope=col>null</th><th scope=col>z.ratio</th><th scope=col>p.value</th></tr>\n",
       "\t<tr><th></th><th scope=col>&lt;fct&gt;</th><th scope=col>&lt;dbl&gt;</th><th scope=col>&lt;dbl&gt;</th><th scope=col>&lt;dbl&gt;</th><th scope=col>&lt;dbl&gt;</th><th scope=col>&lt;dbl&gt;</th><th scope=col>&lt;dbl&gt;</th><th scope=col>&lt;dbl&gt;</th><th scope=col>&lt;dbl&gt;</th></tr>\n",
       "</thead>\n",
       "<tbody>\n",
       "\t<tr><th scope=row>1</th><td>p/r  </td><td>0.047172695</td><td>0.012601718</td><td>Inf</td><td>0.0277837991</td><td>0.07899275</td><td>0.5</td><td>-10.720350</td><td>8.169364e-27</td></tr>\n",
       "\t<tr><th scope=row>2</th><td>p0/r0</td><td>0.002649857</td><td>0.001814777</td><td>Inf</td><td>0.0006911509</td><td>0.01010337</td><td>0.5</td><td> -8.636646</td><td>5.788758e-18</td></tr>\n",
       "</tbody>\n",
       "</table>\n",
       "</dd>\n",
       "\t<dt>$contrasts</dt>\n",
       "\t\t<dd><table class=\"dataframe\">\n",
       "<caption>A summary_emm: 1 × 9</caption>\n",
       "<thead>\n",
       "\t<tr><th></th><th scope=col>contrast</th><th scope=col>odds.ratio</th><th scope=col>SE</th><th scope=col>df</th><th scope=col>asymp.LCL</th><th scope=col>asymp.UCL</th><th scope=col>null</th><th scope=col>z.ratio</th><th scope=col>p.value</th></tr>\n",
       "\t<tr><th></th><th scope=col>&lt;fct&gt;</th><th scope=col>&lt;dbl&gt;</th><th scope=col>&lt;dbl&gt;</th><th scope=col>&lt;dbl&gt;</th><th scope=col>&lt;dbl&gt;</th><th scope=col>&lt;dbl&gt;</th><th scope=col>&lt;dbl&gt;</th><th scope=col>&lt;dbl&gt;</th><th scope=col>&lt;dbl&gt;</th></tr>\n",
       "</thead>\n",
       "<tbody>\n",
       "\t<tr><th scope=row>1</th><td>(p/r) / (p0/r0)</td><td>18.63381</td><td>12.79529</td><td>Inf</td><td>4.850729</td><td>71.5808</td><td>1</td><td>4.259654</td><td>2.047433e-05</td></tr>\n",
       "</tbody>\n",
       "</table>\n",
       "</dd>\n",
       "</dl>\n"
      ],
      "text/latex": [
       "\\begin{description}\n",
       "\\item[\\$emmeans] A summary\\_emm: 2 × 9\n",
       "\\begin{tabular}{r|lllllllll}\n",
       "  & cond\\_amount & prob & SE & df & asymp.LCL & asymp.UCL & null & z.ratio & p.value\\\\\n",
       "  & <fct> & <dbl> & <dbl> & <dbl> & <dbl> & <dbl> & <dbl> & <dbl> & <dbl>\\\\\n",
       "\\hline\n",
       "\t1 & p/r   & 0.047172695 & 0.012601718 & Inf & 0.0277837991 & 0.07899275 & 0.5 & -10.720350 & 8.169364e-27\\\\\n",
       "\t2 & p0/r0 & 0.002649857 & 0.001814777 & Inf & 0.0006911509 & 0.01010337 & 0.5 &  -8.636646 & 5.788758e-18\\\\\n",
       "\\end{tabular}\n",
       "\n",
       "\\item[\\$contrasts] A summary\\_emm: 1 × 9\n",
       "\\begin{tabular}{r|lllllllll}\n",
       "  & contrast & odds.ratio & SE & df & asymp.LCL & asymp.UCL & null & z.ratio & p.value\\\\\n",
       "  & <fct> & <dbl> & <dbl> & <dbl> & <dbl> & <dbl> & <dbl> & <dbl> & <dbl>\\\\\n",
       "\\hline\n",
       "\t1 & (p/r) / (p0/r0) & 18.63381 & 12.79529 & Inf & 4.850729 & 71.5808 & 1 & 4.259654 & 2.047433e-05\\\\\n",
       "\\end{tabular}\n",
       "\n",
       "\\end{description}\n"
      ],
      "text/markdown": [
       "$emmeans\n",
       ":   \n",
       "A summary_emm: 2 × 9\n",
       "\n",
       "| <!--/--> | cond_amount &lt;fct&gt; | prob &lt;dbl&gt; | SE &lt;dbl&gt; | df &lt;dbl&gt; | asymp.LCL &lt;dbl&gt; | asymp.UCL &lt;dbl&gt; | null &lt;dbl&gt; | z.ratio &lt;dbl&gt; | p.value &lt;dbl&gt; |\n",
       "|---|---|---|---|---|---|---|---|---|---|\n",
       "| 1 | p/r   | 0.047172695 | 0.012601718 | Inf | 0.0277837991 | 0.07899275 | 0.5 | -10.720350 | 8.169364e-27 |\n",
       "| 2 | p0/r0 | 0.002649857 | 0.001814777 | Inf | 0.0006911509 | 0.01010337 | 0.5 |  -8.636646 | 5.788758e-18 |\n",
       "\n",
       "\n",
       "$contrasts\n",
       ":   \n",
       "A summary_emm: 1 × 9\n",
       "\n",
       "| <!--/--> | contrast &lt;fct&gt; | odds.ratio &lt;dbl&gt; | SE &lt;dbl&gt; | df &lt;dbl&gt; | asymp.LCL &lt;dbl&gt; | asymp.UCL &lt;dbl&gt; | null &lt;dbl&gt; | z.ratio &lt;dbl&gt; | p.value &lt;dbl&gt; |\n",
       "|---|---|---|---|---|---|---|---|---|---|\n",
       "| 1 | (p/r) / (p0/r0) | 18.63381 | 12.79529 | Inf | 4.850729 | 71.5808 | 1 | 4.259654 | 2.047433e-05 |\n",
       "\n",
       "\n",
       "\n",
       "\n"
      ],
      "text/plain": [
       "$emmeans\n",
       " cond_amount    prob      SE  df asymp.LCL asymp.UCL null z.ratio p.value\n",
       " p/r         0.04717 0.01260 Inf  0.027784    0.0790  0.5 -10.720  <.0001\n",
       " p0/r0       0.00265 0.00181 Inf  0.000691    0.0101  0.5  -8.637  <.0001\n",
       "\n",
       "Results are averaged over the levels of: cond_direction \n",
       "Confidence level used: 0.95 \n",
       "Intervals are back-transformed from the logit scale \n",
       "Tests are performed on the logit scale \n",
       "\n",
       "$contrasts\n",
       " contrast        odds.ratio   SE  df asymp.LCL asymp.UCL null z.ratio p.value\n",
       " (p/r) / (p0/r0)       18.6 12.8 Inf      4.85      71.6    1   4.260  <.0001\n",
       "\n",
       "Results are averaged over the levels of: cond_direction \n",
       "Confidence level used: 0.95 \n",
       "Intervals are back-transformed from the log odds ratio scale \n",
       "Tests are performed on the log odds ratio scale \n"
      ]
     },
     "metadata": {},
     "output_type": "display_data"
    }
   ],
   "source": [
    "emmeans(pr_hit_ac, pairwise ~ cond_amount, type='response') %>%\n",
    "     summary(infer = TRUE)"
   ]
  },
  {
   "cell_type": "code",
   "execution_count": 26,
   "metadata": {
    "vscode": {
     "languageId": "r"
    }
   },
   "outputs": [
    {
     "name": "stderr",
     "output_type": "stream",
     "text": [
      "NOTE: Results may be misleading due to involvement in interactions\n",
      "\n"
     ]
    },
    {
     "data": {
      "text/html": [
       "<dl>\n",
       "\t<dt>$emmeans</dt>\n",
       "\t\t<dd><table class=\"dataframe\">\n",
       "<caption>A summary_emm: 2 × 9</caption>\n",
       "<thead>\n",
       "\t<tr><th></th><th scope=col>cond_direction</th><th scope=col>prob</th><th scope=col>SE</th><th scope=col>df</th><th scope=col>asymp.LCL</th><th scope=col>asymp.UCL</th><th scope=col>null</th><th scope=col>z.ratio</th><th scope=col>p.value</th></tr>\n",
       "\t<tr><th></th><th scope=col>&lt;fct&gt;</th><th scope=col>&lt;dbl&gt;</th><th scope=col>&lt;dbl&gt;</th><th scope=col>&lt;dbl&gt;</th><th scope=col>&lt;dbl&gt;</th><th scope=col>&lt;dbl&gt;</th><th scope=col>&lt;dbl&gt;</th><th scope=col>&lt;dbl&gt;</th><th scope=col>&lt;dbl&gt;</th></tr>\n",
       "</thead>\n",
       "<tbody>\n",
       "\t<tr><th scope=row>1</th><td>b</td><td>0.001120884</td><td>0.001191524</td><td>Inf</td><td>0.0001393561</td><td>0.008953705</td><td>0.5</td><td> -6.382656</td><td>1.740426e-10</td></tr>\n",
       "\t<tr><th scope=row>2</th><td>f</td><td>0.009681672</td><td>0.003838662</td><td>Inf</td><td>0.0044407101</td><td>0.020977724</td><td>0.5</td><td>-11.558968</td><td>6.650317e-31</td></tr>\n",
       "</tbody>\n",
       "</table>\n",
       "</dd>\n",
       "\t<dt>$contrasts</dt>\n",
       "\t\t<dd><table class=\"dataframe\">\n",
       "<caption>A summary_emm: 1 × 9</caption>\n",
       "<thead>\n",
       "\t<tr><th></th><th scope=col>contrast</th><th scope=col>odds.ratio</th><th scope=col>SE</th><th scope=col>df</th><th scope=col>asymp.LCL</th><th scope=col>asymp.UCL</th><th scope=col>null</th><th scope=col>z.ratio</th><th scope=col>p.value</th></tr>\n",
       "\t<tr><th></th><th scope=col>&lt;fct&gt;</th><th scope=col>&lt;dbl&gt;</th><th scope=col>&lt;dbl&gt;</th><th scope=col>&lt;dbl&gt;</th><th scope=col>&lt;dbl&gt;</th><th scope=col>&lt;dbl&gt;</th><th scope=col>&lt;dbl&gt;</th><th scope=col>&lt;dbl&gt;</th><th scope=col>&lt;dbl&gt;</th></tr>\n",
       "</thead>\n",
       "<tbody>\n",
       "\t<tr><th scope=row>1</th><td>b / f</td><td>0.1147815</td><td>0.1290853</td><td>Inf</td><td>0.01266473</td><td>1.040275</td><td>1</td><td>-1.924854</td><td>0.05424763</td></tr>\n",
       "</tbody>\n",
       "</table>\n",
       "</dd>\n",
       "</dl>\n"
      ],
      "text/latex": [
       "\\begin{description}\n",
       "\\item[\\$emmeans] A summary\\_emm: 2 × 9\n",
       "\\begin{tabular}{r|lllllllll}\n",
       "  & cond\\_direction & prob & SE & df & asymp.LCL & asymp.UCL & null & z.ratio & p.value\\\\\n",
       "  & <fct> & <dbl> & <dbl> & <dbl> & <dbl> & <dbl> & <dbl> & <dbl> & <dbl>\\\\\n",
       "\\hline\n",
       "\t1 & b & 0.001120884 & 0.001191524 & Inf & 0.0001393561 & 0.008953705 & 0.5 &  -6.382656 & 1.740426e-10\\\\\n",
       "\t2 & f & 0.009681672 & 0.003838662 & Inf & 0.0044407101 & 0.020977724 & 0.5 & -11.558968 & 6.650317e-31\\\\\n",
       "\\end{tabular}\n",
       "\n",
       "\\item[\\$contrasts] A summary\\_emm: 1 × 9\n",
       "\\begin{tabular}{r|lllllllll}\n",
       "  & contrast & odds.ratio & SE & df & asymp.LCL & asymp.UCL & null & z.ratio & p.value\\\\\n",
       "  & <fct> & <dbl> & <dbl> & <dbl> & <dbl> & <dbl> & <dbl> & <dbl> & <dbl>\\\\\n",
       "\\hline\n",
       "\t1 & b / f & 0.1147815 & 0.1290853 & Inf & 0.01266473 & 1.040275 & 1 & -1.924854 & 0.05424763\\\\\n",
       "\\end{tabular}\n",
       "\n",
       "\\end{description}\n"
      ],
      "text/markdown": [
       "$emmeans\n",
       ":   \n",
       "A summary_emm: 2 × 9\n",
       "\n",
       "| <!--/--> | cond_direction &lt;fct&gt; | prob &lt;dbl&gt; | SE &lt;dbl&gt; | df &lt;dbl&gt; | asymp.LCL &lt;dbl&gt; | asymp.UCL &lt;dbl&gt; | null &lt;dbl&gt; | z.ratio &lt;dbl&gt; | p.value &lt;dbl&gt; |\n",
       "|---|---|---|---|---|---|---|---|---|---|\n",
       "| 1 | b | 0.001120884 | 0.001191524 | Inf | 0.0001393561 | 0.008953705 | 0.5 |  -6.382656 | 1.740426e-10 |\n",
       "| 2 | f | 0.009681672 | 0.003838662 | Inf | 0.0044407101 | 0.020977724 | 0.5 | -11.558968 | 6.650317e-31 |\n",
       "\n",
       "\n",
       "$contrasts\n",
       ":   \n",
       "A summary_emm: 1 × 9\n",
       "\n",
       "| <!--/--> | contrast &lt;fct&gt; | odds.ratio &lt;dbl&gt; | SE &lt;dbl&gt; | df &lt;dbl&gt; | asymp.LCL &lt;dbl&gt; | asymp.UCL &lt;dbl&gt; | null &lt;dbl&gt; | z.ratio &lt;dbl&gt; | p.value &lt;dbl&gt; |\n",
       "|---|---|---|---|---|---|---|---|---|---|\n",
       "| 1 | b / f | 0.1147815 | 0.1290853 | Inf | 0.01266473 | 1.040275 | 1 | -1.924854 | 0.05424763 |\n",
       "\n",
       "\n",
       "\n",
       "\n"
      ],
      "text/plain": [
       "$emmeans\n",
       " cond_direction    prob      SE  df asymp.LCL asymp.UCL null z.ratio p.value\n",
       " b              0.00112 0.00119 Inf  0.000139   0.00895  0.5  -6.383  <.0001\n",
       " f              0.00968 0.00384 Inf  0.004441   0.02098  0.5 -11.559  <.0001\n",
       "\n",
       "Confidence level used: 0.95 \n",
       "Intervals are back-transformed from the logit scale \n",
       "Tests are performed on the logit scale \n",
       "\n",
       "$contrasts\n",
       " contrast odds.ratio    SE  df asymp.LCL asymp.UCL null z.ratio p.value\n",
       " b / f         0.115 0.129 Inf    0.0127      1.04    1  -1.925  0.0542\n",
       "\n",
       "Confidence level used: 0.95 \n",
       "Intervals are back-transformed from the log odds ratio scale \n",
       "Tests are performed on the log odds ratio scale \n"
      ]
     },
     "metadata": {},
     "output_type": "display_data"
    }
   ],
   "source": [
    "emmeans(p0r0_hit_ac, pairwise ~ cond_direction, type='response') %>%\n",
    "     summary(infer = TRUE)"
   ]
  },
  {
   "cell_type": "code",
   "execution_count": 27,
   "metadata": {
    "vscode": {
     "languageId": "r"
    }
   },
   "outputs": [
    {
     "name": "stderr",
     "output_type": "stream",
     "text": [
      "NOTE: Results may be misleading due to involvement in interactions\n",
      "\n"
     ]
    },
    {
     "data": {
      "text/html": [
       "<dl>\n",
       "\t<dt>$emmeans</dt>\n",
       "\t\t<dd><table class=\"dataframe\">\n",
       "<caption>A summary_emm: 2 × 9</caption>\n",
       "<thead>\n",
       "\t<tr><th></th><th scope=col>cond_direction</th><th scope=col>prob</th><th scope=col>SE</th><th scope=col>df</th><th scope=col>asymp.LCL</th><th scope=col>asymp.UCL</th><th scope=col>null</th><th scope=col>z.ratio</th><th scope=col>p.value</th></tr>\n",
       "\t<tr><th></th><th scope=col>&lt;fct&gt;</th><th scope=col>&lt;dbl&gt;</th><th scope=col>&lt;dbl&gt;</th><th scope=col>&lt;dbl&gt;</th><th scope=col>&lt;dbl&gt;</th><th scope=col>&lt;dbl&gt;</th><th scope=col>&lt;dbl&gt;</th><th scope=col>&lt;dbl&gt;</th><th scope=col>&lt;dbl&gt;</th></tr>\n",
       "</thead>\n",
       "<tbody>\n",
       "\t<tr><th scope=row>1</th><td>b</td><td>0.05549488</td><td>0.01329829</td><td>Inf</td><td>0.03450176</td><td>0.08809605</td><td>0.5</td><td>-11.171672</td><td>5.611479e-29</td></tr>\n",
       "\t<tr><th scope=row>2</th><td>f</td><td>0.03983601</td><td>0.01779511</td><td>Inf</td><td>0.01639591</td><td>0.09359799</td><td>0.5</td><td> -6.840157</td><td>7.910636e-12</td></tr>\n",
       "</tbody>\n",
       "</table>\n",
       "</dd>\n",
       "\t<dt>$contrasts</dt>\n",
       "\t\t<dd><table class=\"dataframe\">\n",
       "<caption>A summary_emm: 1 × 9</caption>\n",
       "<thead>\n",
       "\t<tr><th></th><th scope=col>contrast</th><th scope=col>odds.ratio</th><th scope=col>SE</th><th scope=col>df</th><th scope=col>asymp.LCL</th><th scope=col>asymp.UCL</th><th scope=col>null</th><th scope=col>z.ratio</th><th scope=col>p.value</th></tr>\n",
       "\t<tr><th></th><th scope=col>&lt;fct&gt;</th><th scope=col>&lt;dbl&gt;</th><th scope=col>&lt;dbl&gt;</th><th scope=col>&lt;dbl&gt;</th><th scope=col>&lt;dbl&gt;</th><th scope=col>&lt;dbl&gt;</th><th scope=col>&lt;dbl&gt;</th><th scope=col>&lt;dbl&gt;</th><th scope=col>&lt;dbl&gt;</th></tr>\n",
       "</thead>\n",
       "<tbody>\n",
       "\t<tr><th scope=row>1</th><td>b / f</td><td>1.416179</td><td>0.790559</td><td>Inf</td><td>0.4741859</td><td>4.229487</td><td>1</td><td>0.6233274</td><td>0.5330694</td></tr>\n",
       "</tbody>\n",
       "</table>\n",
       "</dd>\n",
       "</dl>\n"
      ],
      "text/latex": [
       "\\begin{description}\n",
       "\\item[\\$emmeans] A summary\\_emm: 2 × 9\n",
       "\\begin{tabular}{r|lllllllll}\n",
       "  & cond\\_direction & prob & SE & df & asymp.LCL & asymp.UCL & null & z.ratio & p.value\\\\\n",
       "  & <fct> & <dbl> & <dbl> & <dbl> & <dbl> & <dbl> & <dbl> & <dbl> & <dbl>\\\\\n",
       "\\hline\n",
       "\t1 & b & 0.05549488 & 0.01329829 & Inf & 0.03450176 & 0.08809605 & 0.5 & -11.171672 & 5.611479e-29\\\\\n",
       "\t2 & f & 0.03983601 & 0.01779511 & Inf & 0.01639591 & 0.09359799 & 0.5 &  -6.840157 & 7.910636e-12\\\\\n",
       "\\end{tabular}\n",
       "\n",
       "\\item[\\$contrasts] A summary\\_emm: 1 × 9\n",
       "\\begin{tabular}{r|lllllllll}\n",
       "  & contrast & odds.ratio & SE & df & asymp.LCL & asymp.UCL & null & z.ratio & p.value\\\\\n",
       "  & <fct> & <dbl> & <dbl> & <dbl> & <dbl> & <dbl> & <dbl> & <dbl> & <dbl>\\\\\n",
       "\\hline\n",
       "\t1 & b / f & 1.416179 & 0.790559 & Inf & 0.4741859 & 4.229487 & 1 & 0.6233274 & 0.5330694\\\\\n",
       "\\end{tabular}\n",
       "\n",
       "\\end{description}\n"
      ],
      "text/markdown": [
       "$emmeans\n",
       ":   \n",
       "A summary_emm: 2 × 9\n",
       "\n",
       "| <!--/--> | cond_direction &lt;fct&gt; | prob &lt;dbl&gt; | SE &lt;dbl&gt; | df &lt;dbl&gt; | asymp.LCL &lt;dbl&gt; | asymp.UCL &lt;dbl&gt; | null &lt;dbl&gt; | z.ratio &lt;dbl&gt; | p.value &lt;dbl&gt; |\n",
       "|---|---|---|---|---|---|---|---|---|---|\n",
       "| 1 | b | 0.05549488 | 0.01329829 | Inf | 0.03450176 | 0.08809605 | 0.5 | -11.171672 | 5.611479e-29 |\n",
       "| 2 | f | 0.03983601 | 0.01779511 | Inf | 0.01639591 | 0.09359799 | 0.5 |  -6.840157 | 7.910636e-12 |\n",
       "\n",
       "\n",
       "$contrasts\n",
       ":   \n",
       "A summary_emm: 1 × 9\n",
       "\n",
       "| <!--/--> | contrast &lt;fct&gt; | odds.ratio &lt;dbl&gt; | SE &lt;dbl&gt; | df &lt;dbl&gt; | asymp.LCL &lt;dbl&gt; | asymp.UCL &lt;dbl&gt; | null &lt;dbl&gt; | z.ratio &lt;dbl&gt; | p.value &lt;dbl&gt; |\n",
       "|---|---|---|---|---|---|---|---|---|---|\n",
       "| 1 | b / f | 1.416179 | 0.790559 | Inf | 0.4741859 | 4.229487 | 1 | 0.6233274 | 0.5330694 |\n",
       "\n",
       "\n",
       "\n",
       "\n"
      ],
      "text/plain": [
       "$emmeans\n",
       " cond_direction   prob     SE  df asymp.LCL asymp.UCL null z.ratio p.value\n",
       " b              0.0555 0.0133 Inf    0.0345    0.0881  0.5 -11.172  <.0001\n",
       " f              0.0398 0.0178 Inf    0.0164    0.0936  0.5  -6.840  <.0001\n",
       "\n",
       "Confidence level used: 0.95 \n",
       "Intervals are back-transformed from the logit scale \n",
       "Tests are performed on the logit scale \n",
       "\n",
       "$contrasts\n",
       " contrast odds.ratio    SE  df asymp.LCL asymp.UCL null z.ratio p.value\n",
       " b / f          1.42 0.791 Inf     0.474      4.23    1   0.623  0.5331\n",
       "\n",
       "Confidence level used: 0.95 \n",
       "Intervals are back-transformed from the log odds ratio scale \n",
       "Tests are performed on the log odds ratio scale \n"
      ]
     },
     "metadata": {},
     "output_type": "display_data"
    }
   ],
   "source": [
    "emmeans(cpr_hit_ac, pairwise ~ cond_direction, type='response') %>%\n",
    "     summary(infer = TRUE)"
   ]
  },
  {
   "attachments": {},
   "cell_type": "markdown",
   "metadata": {},
   "source": [
    "## precision"
   ]
  },
  {
   "cell_type": "code",
   "execution_count": 4,
   "metadata": {
    "vscode": {
     "languageId": "r"
    }
   },
   "outputs": [],
   "source": [
    "pr_simi_info <- readRDS(\"../stats_models/rep/pr_simi_info.rds\")\n",
    "p0r0_simi_info <- readRDS(\"../stats_models/rep/p0r0_simi_info.rds\")\n",
    "cpr_simi_info <- readRDS(\"../stats_models/rep/cpr_simi_info.rds\")"
   ]
  },
  {
   "cell_type": "code",
   "execution_count": 30,
   "metadata": {
    "vscode": {
     "languageId": "r"
    }
   },
   "outputs": [
    {
     "name": "stderr",
     "output_type": "stream",
     "text": [
      "NOTE: Results may be misleading due to involvement in interactions\n",
      "\n"
     ]
    },
    {
     "data": {
      "text/html": [
       "<dl>\n",
       "\t<dt>$emmeans</dt>\n",
       "\t\t<dd><table class=\"dataframe\">\n",
       "<caption>A summary_emm: 2 × 8</caption>\n",
       "<thead>\n",
       "\t<tr><th></th><th scope=col>cond_amount</th><th scope=col>emmean</th><th scope=col>SE</th><th scope=col>df</th><th scope=col>lower.CL</th><th scope=col>upper.CL</th><th scope=col>t.ratio</th><th scope=col>p.value</th></tr>\n",
       "\t<tr><th></th><th scope=col>&lt;fct&gt;</th><th scope=col>&lt;dbl&gt;</th><th scope=col>&lt;dbl&gt;</th><th scope=col>&lt;dbl&gt;</th><th scope=col>&lt;dbl&gt;</th><th scope=col>&lt;dbl&gt;</th><th scope=col>&lt;dbl&gt;</th><th scope=col>&lt;dbl&gt;</th></tr>\n",
       "</thead>\n",
       "<tbody>\n",
       "\t<tr><th scope=row>1</th><td>p/r  </td><td>0.6319285</td><td>0.02861907</td><td>11.62711</td><td>0.5693504</td><td>0.6945066</td><td>22.08068</td><td>7.446197e-11</td></tr>\n",
       "\t<tr><th scope=row>2</th><td>p0/r0</td><td>0.3744261</td><td>0.02387844</td><td>13.76992</td><td>0.3231316</td><td>0.4257207</td><td>15.68051</td><td>3.576432e-10</td></tr>\n",
       "</tbody>\n",
       "</table>\n",
       "</dd>\n",
       "\t<dt>$contrasts</dt>\n",
       "\t\t<dd><table class=\"dataframe\">\n",
       "<caption>A summary_emm: 1 × 8</caption>\n",
       "<thead>\n",
       "\t<tr><th></th><th scope=col>contrast</th><th scope=col>estimate</th><th scope=col>SE</th><th scope=col>df</th><th scope=col>lower.CL</th><th scope=col>upper.CL</th><th scope=col>t.ratio</th><th scope=col>p.value</th></tr>\n",
       "\t<tr><th></th><th scope=col>&lt;chr&gt;</th><th scope=col>&lt;dbl&gt;</th><th scope=col>&lt;dbl&gt;</th><th scope=col>&lt;dbl&gt;</th><th scope=col>&lt;dbl&gt;</th><th scope=col>&lt;dbl&gt;</th><th scope=col>&lt;dbl&gt;</th><th scope=col>&lt;dbl&gt;</th></tr>\n",
       "</thead>\n",
       "<tbody>\n",
       "\t<tr><th scope=row>1</th><td>(p/r) - (p0/r0)</td><td>0.2575024</td><td>0.0260984</td><td>11.69845</td><td>0.2004759</td><td>0.314529</td><td>9.866596</td><td>5.11376e-07</td></tr>\n",
       "</tbody>\n",
       "</table>\n",
       "</dd>\n",
       "</dl>\n"
      ],
      "text/latex": [
       "\\begin{description}\n",
       "\\item[\\$emmeans] A summary\\_emm: 2 × 8\n",
       "\\begin{tabular}{r|llllllll}\n",
       "  & cond\\_amount & emmean & SE & df & lower.CL & upper.CL & t.ratio & p.value\\\\\n",
       "  & <fct> & <dbl> & <dbl> & <dbl> & <dbl> & <dbl> & <dbl> & <dbl>\\\\\n",
       "\\hline\n",
       "\t1 & p/r   & 0.6319285 & 0.02861907 & 11.62711 & 0.5693504 & 0.6945066 & 22.08068 & 7.446197e-11\\\\\n",
       "\t2 & p0/r0 & 0.3744261 & 0.02387844 & 13.76992 & 0.3231316 & 0.4257207 & 15.68051 & 3.576432e-10\\\\\n",
       "\\end{tabular}\n",
       "\n",
       "\\item[\\$contrasts] A summary\\_emm: 1 × 8\n",
       "\\begin{tabular}{r|llllllll}\n",
       "  & contrast & estimate & SE & df & lower.CL & upper.CL & t.ratio & p.value\\\\\n",
       "  & <chr> & <dbl> & <dbl> & <dbl> & <dbl> & <dbl> & <dbl> & <dbl>\\\\\n",
       "\\hline\n",
       "\t1 & (p/r) - (p0/r0) & 0.2575024 & 0.0260984 & 11.69845 & 0.2004759 & 0.314529 & 9.866596 & 5.11376e-07\\\\\n",
       "\\end{tabular}\n",
       "\n",
       "\\end{description}\n"
      ],
      "text/markdown": [
       "$emmeans\n",
       ":   \n",
       "A summary_emm: 2 × 8\n",
       "\n",
       "| <!--/--> | cond_amount &lt;fct&gt; | emmean &lt;dbl&gt; | SE &lt;dbl&gt; | df &lt;dbl&gt; | lower.CL &lt;dbl&gt; | upper.CL &lt;dbl&gt; | t.ratio &lt;dbl&gt; | p.value &lt;dbl&gt; |\n",
       "|---|---|---|---|---|---|---|---|---|\n",
       "| 1 | p/r   | 0.6319285 | 0.02861907 | 11.62711 | 0.5693504 | 0.6945066 | 22.08068 | 7.446197e-11 |\n",
       "| 2 | p0/r0 | 0.3744261 | 0.02387844 | 13.76992 | 0.3231316 | 0.4257207 | 15.68051 | 3.576432e-10 |\n",
       "\n",
       "\n",
       "$contrasts\n",
       ":   \n",
       "A summary_emm: 1 × 8\n",
       "\n",
       "| <!--/--> | contrast &lt;chr&gt; | estimate &lt;dbl&gt; | SE &lt;dbl&gt; | df &lt;dbl&gt; | lower.CL &lt;dbl&gt; | upper.CL &lt;dbl&gt; | t.ratio &lt;dbl&gt; | p.value &lt;dbl&gt; |\n",
       "|---|---|---|---|---|---|---|---|---|\n",
       "| 1 | (p/r) - (p0/r0) | 0.2575024 | 0.0260984 | 11.69845 | 0.2004759 | 0.314529 | 9.866596 | 5.11376e-07 |\n",
       "\n",
       "\n",
       "\n",
       "\n"
      ],
      "text/plain": [
       "$emmeans\n",
       " cond_amount emmean     SE   df lower.CL upper.CL t.ratio p.value\n",
       " p/r          0.632 0.0286 11.6    0.569    0.695  22.081  <.0001\n",
       " p0/r0        0.374 0.0239 13.8    0.323    0.426  15.681  <.0001\n",
       "\n",
       "Results are averaged over the levels of: cond_direction \n",
       "Degrees-of-freedom method: kenward-roger \n",
       "Confidence level used: 0.95 \n",
       "\n",
       "$contrasts\n",
       " contrast        estimate     SE   df lower.CL upper.CL t.ratio p.value\n",
       " (p/r) - (p0/r0)    0.258 0.0261 11.7      0.2    0.315   9.867  <.0001\n",
       "\n",
       "Results are averaged over the levels of: cond_direction \n",
       "Degrees-of-freedom method: kenward-roger \n",
       "Confidence level used: 0.95 \n"
      ]
     },
     "metadata": {},
     "output_type": "display_data"
    }
   ],
   "source": [
    "emmeans(pr_simi_info, pairwise ~ cond_amount, adjust='none') %>%\n",
    "     summary(infer = TRUE)"
   ]
  },
  {
   "cell_type": "code",
   "execution_count": 31,
   "metadata": {
    "vscode": {
     "languageId": "r"
    }
   },
   "outputs": [
    {
     "name": "stderr",
     "output_type": "stream",
     "text": [
      "NOTE: Results may be misleading due to involvement in interactions\n",
      "\n"
     ]
    },
    {
     "data": {
      "text/html": [
       "<dl>\n",
       "\t<dt>$emmeans</dt>\n",
       "\t\t<dd><table class=\"dataframe\">\n",
       "<caption>A summary_emm: 2 × 8</caption>\n",
       "<thead>\n",
       "\t<tr><th></th><th scope=col>cond_direction</th><th scope=col>emmean</th><th scope=col>SE</th><th scope=col>df</th><th scope=col>lower.CL</th><th scope=col>upper.CL</th><th scope=col>t.ratio</th><th scope=col>p.value</th></tr>\n",
       "\t<tr><th></th><th scope=col>&lt;fct&gt;</th><th scope=col>&lt;dbl&gt;</th><th scope=col>&lt;dbl&gt;</th><th scope=col>&lt;dbl&gt;</th><th scope=col>&lt;dbl&gt;</th><th scope=col>&lt;dbl&gt;</th><th scope=col>&lt;dbl&gt;</th><th scope=col>&lt;dbl&gt;</th></tr>\n",
       "</thead>\n",
       "<tbody>\n",
       "\t<tr><th scope=row>1</th><td>b</td><td>0.3442525</td><td>0.02557061</td><td>14.02045</td><td>0.2894165</td><td>0.3990885</td><td>13.46282</td><td>2.070839e-09</td></tr>\n",
       "\t<tr><th scope=row>2</th><td>f</td><td>0.4008102</td><td>0.03056682</td><td>12.98825</td><td>0.3347685</td><td>0.4668519</td><td>13.11259</td><td>7.240942e-09</td></tr>\n",
       "</tbody>\n",
       "</table>\n",
       "</dd>\n",
       "\t<dt>$contrasts</dt>\n",
       "\t\t<dd><table class=\"dataframe\">\n",
       "<caption>A summary_emm: 1 × 8</caption>\n",
       "<thead>\n",
       "\t<tr><th></th><th scope=col>contrast</th><th scope=col>estimate</th><th scope=col>SE</th><th scope=col>df</th><th scope=col>lower.CL</th><th scope=col>upper.CL</th><th scope=col>t.ratio</th><th scope=col>p.value</th></tr>\n",
       "\t<tr><th></th><th scope=col>&lt;chr&gt;</th><th scope=col>&lt;dbl&gt;</th><th scope=col>&lt;dbl&gt;</th><th scope=col>&lt;dbl&gt;</th><th scope=col>&lt;dbl&gt;</th><th scope=col>&lt;dbl&gt;</th><th scope=col>&lt;dbl&gt;</th><th scope=col>&lt;dbl&gt;</th></tr>\n",
       "</thead>\n",
       "<tbody>\n",
       "\t<tr><th scope=row>1</th><td>b - f</td><td>-0.05655766</td><td>0.03053188</td><td>15.8583</td><td>-0.1213294</td><td>0.008214068</td><td>-1.852413</td><td>0.08267221</td></tr>\n",
       "</tbody>\n",
       "</table>\n",
       "</dd>\n",
       "</dl>\n"
      ],
      "text/latex": [
       "\\begin{description}\n",
       "\\item[\\$emmeans] A summary\\_emm: 2 × 8\n",
       "\\begin{tabular}{r|llllllll}\n",
       "  & cond\\_direction & emmean & SE & df & lower.CL & upper.CL & t.ratio & p.value\\\\\n",
       "  & <fct> & <dbl> & <dbl> & <dbl> & <dbl> & <dbl> & <dbl> & <dbl>\\\\\n",
       "\\hline\n",
       "\t1 & b & 0.3442525 & 0.02557061 & 14.02045 & 0.2894165 & 0.3990885 & 13.46282 & 2.070839e-09\\\\\n",
       "\t2 & f & 0.4008102 & 0.03056682 & 12.98825 & 0.3347685 & 0.4668519 & 13.11259 & 7.240942e-09\\\\\n",
       "\\end{tabular}\n",
       "\n",
       "\\item[\\$contrasts] A summary\\_emm: 1 × 8\n",
       "\\begin{tabular}{r|llllllll}\n",
       "  & contrast & estimate & SE & df & lower.CL & upper.CL & t.ratio & p.value\\\\\n",
       "  & <chr> & <dbl> & <dbl> & <dbl> & <dbl> & <dbl> & <dbl> & <dbl>\\\\\n",
       "\\hline\n",
       "\t1 & b - f & -0.05655766 & 0.03053188 & 15.8583 & -0.1213294 & 0.008214068 & -1.852413 & 0.08267221\\\\\n",
       "\\end{tabular}\n",
       "\n",
       "\\end{description}\n"
      ],
      "text/markdown": [
       "$emmeans\n",
       ":   \n",
       "A summary_emm: 2 × 8\n",
       "\n",
       "| <!--/--> | cond_direction &lt;fct&gt; | emmean &lt;dbl&gt; | SE &lt;dbl&gt; | df &lt;dbl&gt; | lower.CL &lt;dbl&gt; | upper.CL &lt;dbl&gt; | t.ratio &lt;dbl&gt; | p.value &lt;dbl&gt; |\n",
       "|---|---|---|---|---|---|---|---|---|\n",
       "| 1 | b | 0.3442525 | 0.02557061 | 14.02045 | 0.2894165 | 0.3990885 | 13.46282 | 2.070839e-09 |\n",
       "| 2 | f | 0.4008102 | 0.03056682 | 12.98825 | 0.3347685 | 0.4668519 | 13.11259 | 7.240942e-09 |\n",
       "\n",
       "\n",
       "$contrasts\n",
       ":   \n",
       "A summary_emm: 1 × 8\n",
       "\n",
       "| <!--/--> | contrast &lt;chr&gt; | estimate &lt;dbl&gt; | SE &lt;dbl&gt; | df &lt;dbl&gt; | lower.CL &lt;dbl&gt; | upper.CL &lt;dbl&gt; | t.ratio &lt;dbl&gt; | p.value &lt;dbl&gt; |\n",
       "|---|---|---|---|---|---|---|---|---|\n",
       "| 1 | b - f | -0.05655766 | 0.03053188 | 15.8583 | -0.1213294 | 0.008214068 | -1.852413 | 0.08267221 |\n",
       "\n",
       "\n",
       "\n",
       "\n"
      ],
      "text/plain": [
       "$emmeans\n",
       " cond_direction emmean     SE df lower.CL upper.CL t.ratio p.value\n",
       " b               0.344 0.0256 14    0.289    0.399  13.463  <.0001\n",
       " f               0.401 0.0306 13    0.335    0.467  13.113  <.0001\n",
       "\n",
       "Degrees-of-freedom method: kenward-roger \n",
       "Confidence level used: 0.95 \n",
       "\n",
       "$contrasts\n",
       " contrast estimate     SE   df lower.CL upper.CL t.ratio p.value\n",
       " b - f     -0.0566 0.0305 15.9   -0.121  0.00821  -1.852  0.0827\n",
       "\n",
       "Degrees-of-freedom method: kenward-roger \n",
       "Confidence level used: 0.95 \n"
      ]
     },
     "metadata": {},
     "output_type": "display_data"
    }
   ],
   "source": [
    "emmeans(p0r0_simi_info, pairwise ~ cond_direction, adjust='none') %>%\n",
    "     summary(infer = TRUE)"
   ]
  },
  {
   "cell_type": "code",
   "execution_count": 32,
   "metadata": {
    "vscode": {
     "languageId": "r"
    }
   },
   "outputs": [
    {
     "name": "stderr",
     "output_type": "stream",
     "text": [
      "NOTE: Results may be misleading due to involvement in interactions\n",
      "\n"
     ]
    },
    {
     "data": {
      "text/html": [
       "<dl>\n",
       "\t<dt>$emmeans</dt>\n",
       "\t\t<dd><table class=\"dataframe\">\n",
       "<caption>A summary_emm: 2 × 8</caption>\n",
       "<thead>\n",
       "\t<tr><th></th><th scope=col>cond_direction</th><th scope=col>emmean</th><th scope=col>SE</th><th scope=col>df</th><th scope=col>lower.CL</th><th scope=col>upper.CL</th><th scope=col>t.ratio</th><th scope=col>p.value</th></tr>\n",
       "\t<tr><th></th><th scope=col>&lt;fct&gt;</th><th scope=col>&lt;dbl&gt;</th><th scope=col>&lt;dbl&gt;</th><th scope=col>&lt;dbl&gt;</th><th scope=col>&lt;dbl&gt;</th><th scope=col>&lt;dbl&gt;</th><th scope=col>&lt;dbl&gt;</th><th scope=col>&lt;dbl&gt;</th></tr>\n",
       "</thead>\n",
       "<tbody>\n",
       "\t<tr><th scope=row>1</th><td>b</td><td>0.6091088</td><td>0.0298049</td><td>12.65619</td><td>0.5445410</td><td>0.6736766</td><td>20.43653</td><td>4.533965e-11</td></tr>\n",
       "\t<tr><th scope=row>2</th><td>f</td><td>0.6536089</td><td>0.0312009</td><td>12.58216</td><td>0.5859752</td><td>0.7212426</td><td>20.94840</td><td>3.691581e-11</td></tr>\n",
       "</tbody>\n",
       "</table>\n",
       "</dd>\n",
       "\t<dt>$contrasts</dt>\n",
       "\t\t<dd><table class=\"dataframe\">\n",
       "<caption>A summary_emm: 1 × 8</caption>\n",
       "<thead>\n",
       "\t<tr><th></th><th scope=col>contrast</th><th scope=col>estimate</th><th scope=col>SE</th><th scope=col>df</th><th scope=col>lower.CL</th><th scope=col>upper.CL</th><th scope=col>t.ratio</th><th scope=col>p.value</th></tr>\n",
       "\t<tr><th></th><th scope=col>&lt;chr&gt;</th><th scope=col>&lt;dbl&gt;</th><th scope=col>&lt;dbl&gt;</th><th scope=col>&lt;dbl&gt;</th><th scope=col>&lt;dbl&gt;</th><th scope=col>&lt;dbl&gt;</th><th scope=col>&lt;dbl&gt;</th><th scope=col>&lt;dbl&gt;</th></tr>\n",
       "</thead>\n",
       "<tbody>\n",
       "\t<tr><th scope=row>1</th><td>b - f</td><td>-0.04450007</td><td>0.01955948</td><td>25.01818</td><td>-0.0847821</td><td>-0.004218047</td><td>-2.275115</td><td>0.03172852</td></tr>\n",
       "</tbody>\n",
       "</table>\n",
       "</dd>\n",
       "</dl>\n"
      ],
      "text/latex": [
       "\\begin{description}\n",
       "\\item[\\$emmeans] A summary\\_emm: 2 × 8\n",
       "\\begin{tabular}{r|llllllll}\n",
       "  & cond\\_direction & emmean & SE & df & lower.CL & upper.CL & t.ratio & p.value\\\\\n",
       "  & <fct> & <dbl> & <dbl> & <dbl> & <dbl> & <dbl> & <dbl> & <dbl>\\\\\n",
       "\\hline\n",
       "\t1 & b & 0.6091088 & 0.0298049 & 12.65619 & 0.5445410 & 0.6736766 & 20.43653 & 4.533965e-11\\\\\n",
       "\t2 & f & 0.6536089 & 0.0312009 & 12.58216 & 0.5859752 & 0.7212426 & 20.94840 & 3.691581e-11\\\\\n",
       "\\end{tabular}\n",
       "\n",
       "\\item[\\$contrasts] A summary\\_emm: 1 × 8\n",
       "\\begin{tabular}{r|llllllll}\n",
       "  & contrast & estimate & SE & df & lower.CL & upper.CL & t.ratio & p.value\\\\\n",
       "  & <chr> & <dbl> & <dbl> & <dbl> & <dbl> & <dbl> & <dbl> & <dbl>\\\\\n",
       "\\hline\n",
       "\t1 & b - f & -0.04450007 & 0.01955948 & 25.01818 & -0.0847821 & -0.004218047 & -2.275115 & 0.03172852\\\\\n",
       "\\end{tabular}\n",
       "\n",
       "\\end{description}\n"
      ],
      "text/markdown": [
       "$emmeans\n",
       ":   \n",
       "A summary_emm: 2 × 8\n",
       "\n",
       "| <!--/--> | cond_direction &lt;fct&gt; | emmean &lt;dbl&gt; | SE &lt;dbl&gt; | df &lt;dbl&gt; | lower.CL &lt;dbl&gt; | upper.CL &lt;dbl&gt; | t.ratio &lt;dbl&gt; | p.value &lt;dbl&gt; |\n",
       "|---|---|---|---|---|---|---|---|---|\n",
       "| 1 | b | 0.6091088 | 0.0298049 | 12.65619 | 0.5445410 | 0.6736766 | 20.43653 | 4.533965e-11 |\n",
       "| 2 | f | 0.6536089 | 0.0312009 | 12.58216 | 0.5859752 | 0.7212426 | 20.94840 | 3.691581e-11 |\n",
       "\n",
       "\n",
       "$contrasts\n",
       ":   \n",
       "A summary_emm: 1 × 8\n",
       "\n",
       "| <!--/--> | contrast &lt;chr&gt; | estimate &lt;dbl&gt; | SE &lt;dbl&gt; | df &lt;dbl&gt; | lower.CL &lt;dbl&gt; | upper.CL &lt;dbl&gt; | t.ratio &lt;dbl&gt; | p.value &lt;dbl&gt; |\n",
       "|---|---|---|---|---|---|---|---|---|\n",
       "| 1 | b - f | -0.04450007 | 0.01955948 | 25.01818 | -0.0847821 | -0.004218047 | -2.275115 | 0.03172852 |\n",
       "\n",
       "\n",
       "\n",
       "\n"
      ],
      "text/plain": [
       "$emmeans\n",
       " cond_direction emmean     SE   df lower.CL upper.CL t.ratio p.value\n",
       " b               0.609 0.0298 12.7    0.545    0.674  20.437  <.0001\n",
       " f               0.654 0.0312 12.6    0.586    0.721  20.948  <.0001\n",
       "\n",
       "Degrees-of-freedom method: kenward-roger \n",
       "Confidence level used: 0.95 \n",
       "\n",
       "$contrasts\n",
       " contrast estimate     SE df lower.CL upper.CL t.ratio p.value\n",
       " b - f     -0.0445 0.0196 25  -0.0848 -0.00422  -2.275  0.0317\n",
       "\n",
       "Degrees-of-freedom method: kenward-roger \n",
       "Confidence level used: 0.95 \n"
      ]
     },
     "metadata": {},
     "output_type": "display_data"
    }
   ],
   "source": [
    "emmeans(cpr_simi_info, pairwise ~ cond_direction, adjust='none') %>%\n",
    "     summary(infer = TRUE)"
   ]
  },
  {
   "attachments": {},
   "cell_type": "markdown",
   "metadata": {},
   "source": [
    "## convergence"
   ]
  },
  {
   "cell_type": "code",
   "execution_count": 5,
   "metadata": {
    "vscode": {
     "languageId": "r"
    }
   },
   "outputs": [],
   "source": [
    "pr_MD <- readRDS(\"../stats_models/rep/pr_MD.rds\")\n",
    "p0r0_MD <- readRDS(\"../stats_models/rep/p0r0_MD.rds\")\n",
    "cpr_MD <- readRDS(\"../stats_models/rep/cpr_MD.rds\")"
   ]
  },
  {
   "cell_type": "code",
   "execution_count": 35,
   "metadata": {
    "vscode": {
     "languageId": "r"
    }
   },
   "outputs": [
    {
     "name": "stderr",
     "output_type": "stream",
     "text": [
      "NOTE: Results may be misleading due to involvement in interactions\n",
      "\n"
     ]
    },
    {
     "data": {
      "text/html": [
       "<dl>\n",
       "\t<dt>$emmeans</dt>\n",
       "\t\t<dd><table class=\"dataframe\">\n",
       "<caption>A summary_emm: 2 × 8</caption>\n",
       "<thead>\n",
       "\t<tr><th></th><th scope=col>cond_amount</th><th scope=col>emmean</th><th scope=col>SE</th><th scope=col>df</th><th scope=col>lower.CL</th><th scope=col>upper.CL</th><th scope=col>t.ratio</th><th scope=col>p.value</th></tr>\n",
       "\t<tr><th></th><th scope=col>&lt;fct&gt;</th><th scope=col>&lt;dbl&gt;</th><th scope=col>&lt;dbl&gt;</th><th scope=col>&lt;dbl&gt;</th><th scope=col>&lt;dbl&gt;</th><th scope=col>&lt;dbl&gt;</th><th scope=col>&lt;dbl&gt;</th><th scope=col>&lt;dbl&gt;</th></tr>\n",
       "</thead>\n",
       "<tbody>\n",
       "\t<tr><th scope=row>1</th><td>p/r  </td><td>0.7211638</td><td>0.02539282</td><td>11.40709</td><td>0.6655170</td><td>0.7768106</td><td>28.40031</td><td>6.068954e-12</td></tr>\n",
       "\t<tr><th scope=row>2</th><td>p0/r0</td><td>0.4734569</td><td>0.01306631</td><td>17.08338</td><td>0.4458996</td><td>0.5010141</td><td>36.23494</td><td>1.339535e-17</td></tr>\n",
       "</tbody>\n",
       "</table>\n",
       "</dd>\n",
       "\t<dt>$contrasts</dt>\n",
       "\t\t<dd><table class=\"dataframe\">\n",
       "<caption>A summary_emm: 1 × 8</caption>\n",
       "<thead>\n",
       "\t<tr><th></th><th scope=col>contrast</th><th scope=col>estimate</th><th scope=col>SE</th><th scope=col>df</th><th scope=col>lower.CL</th><th scope=col>upper.CL</th><th scope=col>t.ratio</th><th scope=col>p.value</th></tr>\n",
       "\t<tr><th></th><th scope=col>&lt;chr&gt;</th><th scope=col>&lt;dbl&gt;</th><th scope=col>&lt;dbl&gt;</th><th scope=col>&lt;dbl&gt;</th><th scope=col>&lt;dbl&gt;</th><th scope=col>&lt;dbl&gt;</th><th scope=col>&lt;dbl&gt;</th><th scope=col>&lt;dbl&gt;</th></tr>\n",
       "</thead>\n",
       "<tbody>\n",
       "\t<tr><th scope=row>1</th><td>(p/r) - (p0/r0)</td><td>0.2477069</td><td>0.02773085</td><td>11.98419</td><td>0.1872777</td><td>0.3081361</td><td>8.932539</td><td>1.207038e-06</td></tr>\n",
       "</tbody>\n",
       "</table>\n",
       "</dd>\n",
       "</dl>\n"
      ],
      "text/latex": [
       "\\begin{description}\n",
       "\\item[\\$emmeans] A summary\\_emm: 2 × 8\n",
       "\\begin{tabular}{r|llllllll}\n",
       "  & cond\\_amount & emmean & SE & df & lower.CL & upper.CL & t.ratio & p.value\\\\\n",
       "  & <fct> & <dbl> & <dbl> & <dbl> & <dbl> & <dbl> & <dbl> & <dbl>\\\\\n",
       "\\hline\n",
       "\t1 & p/r   & 0.7211638 & 0.02539282 & 11.40709 & 0.6655170 & 0.7768106 & 28.40031 & 6.068954e-12\\\\\n",
       "\t2 & p0/r0 & 0.4734569 & 0.01306631 & 17.08338 & 0.4458996 & 0.5010141 & 36.23494 & 1.339535e-17\\\\\n",
       "\\end{tabular}\n",
       "\n",
       "\\item[\\$contrasts] A summary\\_emm: 1 × 8\n",
       "\\begin{tabular}{r|llllllll}\n",
       "  & contrast & estimate & SE & df & lower.CL & upper.CL & t.ratio & p.value\\\\\n",
       "  & <chr> & <dbl> & <dbl> & <dbl> & <dbl> & <dbl> & <dbl> & <dbl>\\\\\n",
       "\\hline\n",
       "\t1 & (p/r) - (p0/r0) & 0.2477069 & 0.02773085 & 11.98419 & 0.1872777 & 0.3081361 & 8.932539 & 1.207038e-06\\\\\n",
       "\\end{tabular}\n",
       "\n",
       "\\end{description}\n"
      ],
      "text/markdown": [
       "$emmeans\n",
       ":   \n",
       "A summary_emm: 2 × 8\n",
       "\n",
       "| <!--/--> | cond_amount &lt;fct&gt; | emmean &lt;dbl&gt; | SE &lt;dbl&gt; | df &lt;dbl&gt; | lower.CL &lt;dbl&gt; | upper.CL &lt;dbl&gt; | t.ratio &lt;dbl&gt; | p.value &lt;dbl&gt; |\n",
       "|---|---|---|---|---|---|---|---|---|\n",
       "| 1 | p/r   | 0.7211638 | 0.02539282 | 11.40709 | 0.6655170 | 0.7768106 | 28.40031 | 6.068954e-12 |\n",
       "| 2 | p0/r0 | 0.4734569 | 0.01306631 | 17.08338 | 0.4458996 | 0.5010141 | 36.23494 | 1.339535e-17 |\n",
       "\n",
       "\n",
       "$contrasts\n",
       ":   \n",
       "A summary_emm: 1 × 8\n",
       "\n",
       "| <!--/--> | contrast &lt;chr&gt; | estimate &lt;dbl&gt; | SE &lt;dbl&gt; | df &lt;dbl&gt; | lower.CL &lt;dbl&gt; | upper.CL &lt;dbl&gt; | t.ratio &lt;dbl&gt; | p.value &lt;dbl&gt; |\n",
       "|---|---|---|---|---|---|---|---|---|\n",
       "| 1 | (p/r) - (p0/r0) | 0.2477069 | 0.02773085 | 11.98419 | 0.1872777 | 0.3081361 | 8.932539 | 1.207038e-06 |\n",
       "\n",
       "\n",
       "\n",
       "\n"
      ],
      "text/plain": [
       "$emmeans\n",
       " cond_amount emmean     SE   df lower.CL upper.CL t.ratio p.value\n",
       " p/r          0.721 0.0254 11.4    0.666    0.777  28.400  <.0001\n",
       " p0/r0        0.473 0.0131 17.1    0.446    0.501  36.235  <.0001\n",
       "\n",
       "Results are averaged over the levels of: cond_direction \n",
       "Degrees-of-freedom method: kenward-roger \n",
       "Confidence level used: 0.95 \n",
       "\n",
       "$contrasts\n",
       " contrast        estimate     SE df lower.CL upper.CL t.ratio p.value\n",
       " (p/r) - (p0/r0)    0.248 0.0277 12    0.187    0.308   8.933  <.0001\n",
       "\n",
       "Results are averaged over the levels of: cond_direction \n",
       "Degrees-of-freedom method: kenward-roger \n",
       "Confidence level used: 0.95 \n"
      ]
     },
     "metadata": {},
     "output_type": "display_data"
    }
   ],
   "source": [
    "emmeans(pr_MD, pairwise ~ cond_amount, adjust='none') %>%\n",
    "     summary(infer = TRUE)"
   ]
  },
  {
   "cell_type": "code",
   "execution_count": 36,
   "metadata": {
    "vscode": {
     "languageId": "r"
    }
   },
   "outputs": [
    {
     "name": "stderr",
     "output_type": "stream",
     "text": [
      "NOTE: Results may be misleading due to involvement in interactions\n",
      "\n"
     ]
    },
    {
     "data": {
      "text/html": [
       "<dl>\n",
       "\t<dt>$emmeans</dt>\n",
       "\t\t<dd><table class=\"dataframe\">\n",
       "<caption>A summary_emm: 2 × 8</caption>\n",
       "<thead>\n",
       "\t<tr><th></th><th scope=col>cond_direction</th><th scope=col>emmean</th><th scope=col>SE</th><th scope=col>df</th><th scope=col>lower.CL</th><th scope=col>upper.CL</th><th scope=col>t.ratio</th><th scope=col>p.value</th></tr>\n",
       "\t<tr><th></th><th scope=col>&lt;fct&gt;</th><th scope=col>&lt;dbl&gt;</th><th scope=col>&lt;dbl&gt;</th><th scope=col>&lt;dbl&gt;</th><th scope=col>&lt;dbl&gt;</th><th scope=col>&lt;dbl&gt;</th><th scope=col>&lt;dbl&gt;</th><th scope=col>&lt;dbl&gt;</th></tr>\n",
       "</thead>\n",
       "<tbody>\n",
       "\t<tr><th scope=row>1</th><td>b</td><td>0.4625401</td><td>0.02794866</td><td>12.14923</td><td>0.4017281</td><td>0.5233522</td><td>16.54963</td><td>1.059704e-09</td></tr>\n",
       "\t<tr><th scope=row>2</th><td>f</td><td>0.4879027</td><td>0.02473149</td><td>12.79734</td><td>0.4343874</td><td>0.5414180</td><td>19.72800</td><td>5.841753e-11</td></tr>\n",
       "</tbody>\n",
       "</table>\n",
       "</dd>\n",
       "\t<dt>$contrasts</dt>\n",
       "\t\t<dd><table class=\"dataframe\">\n",
       "<caption>A summary_emm: 1 × 8</caption>\n",
       "<thead>\n",
       "\t<tr><th></th><th scope=col>contrast</th><th scope=col>estimate</th><th scope=col>SE</th><th scope=col>df</th><th scope=col>lower.CL</th><th scope=col>upper.CL</th><th scope=col>t.ratio</th><th scope=col>p.value</th></tr>\n",
       "\t<tr><th></th><th scope=col>&lt;chr&gt;</th><th scope=col>&lt;dbl&gt;</th><th scope=col>&lt;dbl&gt;</th><th scope=col>&lt;dbl&gt;</th><th scope=col>&lt;dbl&gt;</th><th scope=col>&lt;dbl&gt;</th><th scope=col>&lt;dbl&gt;</th><th scope=col>&lt;dbl&gt;</th></tr>\n",
       "</thead>\n",
       "<tbody>\n",
       "\t<tr><th scope=row>1</th><td>b - f</td><td>-0.02536257</td><td>0.04609852</td><td>12.15003</td><td>-0.1256652</td><td>0.07494008</td><td>-0.550182</td><td>0.5921655</td></tr>\n",
       "</tbody>\n",
       "</table>\n",
       "</dd>\n",
       "</dl>\n"
      ],
      "text/latex": [
       "\\begin{description}\n",
       "\\item[\\$emmeans] A summary\\_emm: 2 × 8\n",
       "\\begin{tabular}{r|llllllll}\n",
       "  & cond\\_direction & emmean & SE & df & lower.CL & upper.CL & t.ratio & p.value\\\\\n",
       "  & <fct> & <dbl> & <dbl> & <dbl> & <dbl> & <dbl> & <dbl> & <dbl>\\\\\n",
       "\\hline\n",
       "\t1 & b & 0.4625401 & 0.02794866 & 12.14923 & 0.4017281 & 0.5233522 & 16.54963 & 1.059704e-09\\\\\n",
       "\t2 & f & 0.4879027 & 0.02473149 & 12.79734 & 0.4343874 & 0.5414180 & 19.72800 & 5.841753e-11\\\\\n",
       "\\end{tabular}\n",
       "\n",
       "\\item[\\$contrasts] A summary\\_emm: 1 × 8\n",
       "\\begin{tabular}{r|llllllll}\n",
       "  & contrast & estimate & SE & df & lower.CL & upper.CL & t.ratio & p.value\\\\\n",
       "  & <chr> & <dbl> & <dbl> & <dbl> & <dbl> & <dbl> & <dbl> & <dbl>\\\\\n",
       "\\hline\n",
       "\t1 & b - f & -0.02536257 & 0.04609852 & 12.15003 & -0.1256652 & 0.07494008 & -0.550182 & 0.5921655\\\\\n",
       "\\end{tabular}\n",
       "\n",
       "\\end{description}\n"
      ],
      "text/markdown": [
       "$emmeans\n",
       ":   \n",
       "A summary_emm: 2 × 8\n",
       "\n",
       "| <!--/--> | cond_direction &lt;fct&gt; | emmean &lt;dbl&gt; | SE &lt;dbl&gt; | df &lt;dbl&gt; | lower.CL &lt;dbl&gt; | upper.CL &lt;dbl&gt; | t.ratio &lt;dbl&gt; | p.value &lt;dbl&gt; |\n",
       "|---|---|---|---|---|---|---|---|---|\n",
       "| 1 | b | 0.4625401 | 0.02794866 | 12.14923 | 0.4017281 | 0.5233522 | 16.54963 | 1.059704e-09 |\n",
       "| 2 | f | 0.4879027 | 0.02473149 | 12.79734 | 0.4343874 | 0.5414180 | 19.72800 | 5.841753e-11 |\n",
       "\n",
       "\n",
       "$contrasts\n",
       ":   \n",
       "A summary_emm: 1 × 8\n",
       "\n",
       "| <!--/--> | contrast &lt;chr&gt; | estimate &lt;dbl&gt; | SE &lt;dbl&gt; | df &lt;dbl&gt; | lower.CL &lt;dbl&gt; | upper.CL &lt;dbl&gt; | t.ratio &lt;dbl&gt; | p.value &lt;dbl&gt; |\n",
       "|---|---|---|---|---|---|---|---|---|\n",
       "| 1 | b - f | -0.02536257 | 0.04609852 | 12.15003 | -0.1256652 | 0.07494008 | -0.550182 | 0.5921655 |\n",
       "\n",
       "\n",
       "\n",
       "\n"
      ],
      "text/plain": [
       "$emmeans\n",
       " cond_direction emmean     SE   df lower.CL upper.CL t.ratio p.value\n",
       " b               0.463 0.0279 12.2    0.402    0.523  16.550  <.0001\n",
       " f               0.488 0.0247 12.8    0.434    0.541  19.728  <.0001\n",
       "\n",
       "Degrees-of-freedom method: kenward-roger \n",
       "Confidence level used: 0.95 \n",
       "\n",
       "$contrasts\n",
       " contrast estimate     SE   df lower.CL upper.CL t.ratio p.value\n",
       " b - f     -0.0254 0.0461 12.2   -0.126   0.0749  -0.550  0.5922\n",
       "\n",
       "Degrees-of-freedom method: kenward-roger \n",
       "Confidence level used: 0.95 \n"
      ]
     },
     "metadata": {},
     "output_type": "display_data"
    }
   ],
   "source": [
    "emmeans(p0r0_MD, pairwise ~ cond_direction, adjust='none') %>%\n",
    "     summary(infer = TRUE)"
   ]
  },
  {
   "cell_type": "code",
   "execution_count": 37,
   "metadata": {
    "vscode": {
     "languageId": "r"
    }
   },
   "outputs": [
    {
     "name": "stderr",
     "output_type": "stream",
     "text": [
      "NOTE: Results may be misleading due to involvement in interactions\n",
      "\n"
     ]
    },
    {
     "data": {
      "text/html": [
       "<dl>\n",
       "\t<dt>$emmeans</dt>\n",
       "\t\t<dd><table class=\"dataframe\">\n",
       "<caption>A summary_emm: 2 × 8</caption>\n",
       "<thead>\n",
       "\t<tr><th></th><th scope=col>cond_direction</th><th scope=col>emmean</th><th scope=col>SE</th><th scope=col>df</th><th scope=col>lower.CL</th><th scope=col>upper.CL</th><th scope=col>t.ratio</th><th scope=col>p.value</th></tr>\n",
       "\t<tr><th></th><th scope=col>&lt;fct&gt;</th><th scope=col>&lt;dbl&gt;</th><th scope=col>&lt;dbl&gt;</th><th scope=col>&lt;dbl&gt;</th><th scope=col>&lt;dbl&gt;</th><th scope=col>&lt;dbl&gt;</th><th scope=col>&lt;dbl&gt;</th><th scope=col>&lt;dbl&gt;</th></tr>\n",
       "</thead>\n",
       "<tbody>\n",
       "\t<tr><th scope=row>1</th><td>b</td><td>0.6946146</td><td>0.03014175</td><td>11.59647</td><td>0.6286870</td><td>0.7605421</td><td>23.04493</td><td>4.788189e-11</td></tr>\n",
       "\t<tr><th scope=row>2</th><td>f</td><td>0.7451592</td><td>0.02822803</td><td>11.85787</td><td>0.6835738</td><td>0.8067447</td><td>26.39785</td><td>6.705294e-12</td></tr>\n",
       "</tbody>\n",
       "</table>\n",
       "</dd>\n",
       "\t<dt>$contrasts</dt>\n",
       "\t\t<dd><table class=\"dataframe\">\n",
       "<caption>A summary_emm: 1 × 8</caption>\n",
       "<thead>\n",
       "\t<tr><th></th><th scope=col>contrast</th><th scope=col>estimate</th><th scope=col>SE</th><th scope=col>df</th><th scope=col>lower.CL</th><th scope=col>upper.CL</th><th scope=col>t.ratio</th><th scope=col>p.value</th></tr>\n",
       "\t<tr><th></th><th scope=col>&lt;chr&gt;</th><th scope=col>&lt;dbl&gt;</th><th scope=col>&lt;dbl&gt;</th><th scope=col>&lt;dbl&gt;</th><th scope=col>&lt;dbl&gt;</th><th scope=col>&lt;dbl&gt;</th><th scope=col>&lt;dbl&gt;</th><th scope=col>&lt;dbl&gt;</th></tr>\n",
       "</thead>\n",
       "<tbody>\n",
       "\t<tr><th scope=row>1</th><td>b - f</td><td>-0.05054467</td><td>0.02838855</td><td>13.68239</td><td>-0.1115649</td><td>0.01047558</td><td>-1.78046</td><td>0.09720666</td></tr>\n",
       "</tbody>\n",
       "</table>\n",
       "</dd>\n",
       "</dl>\n"
      ],
      "text/latex": [
       "\\begin{description}\n",
       "\\item[\\$emmeans] A summary\\_emm: 2 × 8\n",
       "\\begin{tabular}{r|llllllll}\n",
       "  & cond\\_direction & emmean & SE & df & lower.CL & upper.CL & t.ratio & p.value\\\\\n",
       "  & <fct> & <dbl> & <dbl> & <dbl> & <dbl> & <dbl> & <dbl> & <dbl>\\\\\n",
       "\\hline\n",
       "\t1 & b & 0.6946146 & 0.03014175 & 11.59647 & 0.6286870 & 0.7605421 & 23.04493 & 4.788189e-11\\\\\n",
       "\t2 & f & 0.7451592 & 0.02822803 & 11.85787 & 0.6835738 & 0.8067447 & 26.39785 & 6.705294e-12\\\\\n",
       "\\end{tabular}\n",
       "\n",
       "\\item[\\$contrasts] A summary\\_emm: 1 × 8\n",
       "\\begin{tabular}{r|llllllll}\n",
       "  & contrast & estimate & SE & df & lower.CL & upper.CL & t.ratio & p.value\\\\\n",
       "  & <chr> & <dbl> & <dbl> & <dbl> & <dbl> & <dbl> & <dbl> & <dbl>\\\\\n",
       "\\hline\n",
       "\t1 & b - f & -0.05054467 & 0.02838855 & 13.68239 & -0.1115649 & 0.01047558 & -1.78046 & 0.09720666\\\\\n",
       "\\end{tabular}\n",
       "\n",
       "\\end{description}\n"
      ],
      "text/markdown": [
       "$emmeans\n",
       ":   \n",
       "A summary_emm: 2 × 8\n",
       "\n",
       "| <!--/--> | cond_direction &lt;fct&gt; | emmean &lt;dbl&gt; | SE &lt;dbl&gt; | df &lt;dbl&gt; | lower.CL &lt;dbl&gt; | upper.CL &lt;dbl&gt; | t.ratio &lt;dbl&gt; | p.value &lt;dbl&gt; |\n",
       "|---|---|---|---|---|---|---|---|---|\n",
       "| 1 | b | 0.6946146 | 0.03014175 | 11.59647 | 0.6286870 | 0.7605421 | 23.04493 | 4.788189e-11 |\n",
       "| 2 | f | 0.7451592 | 0.02822803 | 11.85787 | 0.6835738 | 0.8067447 | 26.39785 | 6.705294e-12 |\n",
       "\n",
       "\n",
       "$contrasts\n",
       ":   \n",
       "A summary_emm: 1 × 8\n",
       "\n",
       "| <!--/--> | contrast &lt;chr&gt; | estimate &lt;dbl&gt; | SE &lt;dbl&gt; | df &lt;dbl&gt; | lower.CL &lt;dbl&gt; | upper.CL &lt;dbl&gt; | t.ratio &lt;dbl&gt; | p.value &lt;dbl&gt; |\n",
       "|---|---|---|---|---|---|---|---|---|\n",
       "| 1 | b - f | -0.05054467 | 0.02838855 | 13.68239 | -0.1115649 | 0.01047558 | -1.78046 | 0.09720666 |\n",
       "\n",
       "\n",
       "\n",
       "\n"
      ],
      "text/plain": [
       "$emmeans\n",
       " cond_direction emmean     SE   df lower.CL upper.CL t.ratio p.value\n",
       " b               0.695 0.0301 11.6    0.629    0.761  23.045  <.0001\n",
       " f               0.745 0.0282 11.9    0.684    0.807  26.398  <.0001\n",
       "\n",
       "Degrees-of-freedom method: kenward-roger \n",
       "Confidence level used: 0.95 \n",
       "\n",
       "$contrasts\n",
       " contrast estimate     SE   df lower.CL upper.CL t.ratio p.value\n",
       " b - f     -0.0505 0.0284 13.7   -0.112   0.0105  -1.780  0.0972\n",
       "\n",
       "Degrees-of-freedom method: kenward-roger \n",
       "Confidence level used: 0.95 \n"
      ]
     },
     "metadata": {},
     "output_type": "display_data"
    }
   ],
   "source": [
    "emmeans(cpr_MD, pairwise ~ cond_direction, adjust='none') %>%\n",
    "     summary(infer = TRUE)"
   ]
  },
  {
   "attachments": {},
   "cell_type": "markdown",
   "metadata": {},
   "source": [
    "# figure 2"
   ]
  },
  {
   "attachments": {},
   "cell_type": "markdown",
   "metadata": {},
   "source": [
    "## stacked bar plot"
   ]
  },
  {
   "cell_type": "code",
   "execution_count": 2,
   "metadata": {
    "vscode": {
     "languageId": "r"
    }
   },
   "outputs": [],
   "source": [
    "p0r0_hit_econd_total <- readRDS(\"../stats_models/rep/p0r0_hit_econd_total.rds\")\n",
    "p0r0_hit_econd <- readRDS(\"../stats_models/rep/p0r0_hit_econd.rds\")\n",
    "p0r0_hit_econd_bin <- readRDS(\"../stats_models/rep/p0r0_hit_econd_bin.rds\")"
   ]
  },
  {
   "cell_type": "code",
   "execution_count": 3,
   "metadata": {
    "vscode": {
     "languageId": "r"
    }
   },
   "outputs": [
    {
     "name": "stderr",
     "output_type": "stream",
     "text": [
      "NOTE: Results may be misleading due to involvement in interactions\n",
      "\n"
     ]
    },
    {
     "data": {
      "text/html": [
       "<dl>\n",
       "\t<dt>$emmeans</dt>\n",
       "\t\t<dd><table class=\"dataframe\">\n",
       "<caption>A summary_emm: 2 x 9</caption>\n",
       "<thead>\n",
       "\t<tr><th></th><th scope=col>cond_direction</th><th scope=col>rate</th><th scope=col>SE</th><th scope=col>df</th><th scope=col>asymp.LCL</th><th scope=col>asymp.UCL</th><th scope=col>null</th><th scope=col>z.ratio</th><th scope=col>p.value</th></tr>\n",
       "\t<tr><th></th><th scope=col>&lt;fct&gt;</th><th scope=col>&lt;dbl&gt;</th><th scope=col>&lt;dbl&gt;</th><th scope=col>&lt;dbl&gt;</th><th scope=col>&lt;dbl&gt;</th><th scope=col>&lt;dbl&gt;</th><th scope=col>&lt;dbl&gt;</th><th scope=col>&lt;dbl&gt;</th><th scope=col>&lt;dbl&gt;</th></tr>\n",
       "</thead>\n",
       "<tbody>\n",
       "\t<tr><th scope=row>1</th><td>b</td><td>4.131009</td><td>0.2833153</td><td>Inf</td><td>3.611425</td><td>4.725348</td><td>1</td><td>20.68341</td><td>4.886455e-95</td></tr>\n",
       "\t<tr><th scope=row>2</th><td>f</td><td>4.438483</td><td>0.3739887</td><td>Inf</td><td>3.762807</td><td>5.235488</td><td>1</td><td>17.68697</td><td>5.284095e-70</td></tr>\n",
       "</tbody>\n",
       "</table>\n",
       "</dd>\n",
       "\t<dt>$contrasts</dt>\n",
       "\t\t<dd><table class=\"dataframe\">\n",
       "<caption>A summary_emm: 1 x 9</caption>\n",
       "<thead>\n",
       "\t<tr><th></th><th scope=col>contrast</th><th scope=col>ratio</th><th scope=col>SE</th><th scope=col>df</th><th scope=col>asymp.LCL</th><th scope=col>asymp.UCL</th><th scope=col>null</th><th scope=col>z.ratio</th><th scope=col>p.value</th></tr>\n",
       "\t<tr><th></th><th scope=col>&lt;fct&gt;</th><th scope=col>&lt;dbl&gt;</th><th scope=col>&lt;dbl&gt;</th><th scope=col>&lt;dbl&gt;</th><th scope=col>&lt;dbl&gt;</th><th scope=col>&lt;dbl&gt;</th><th scope=col>&lt;dbl&gt;</th><th scope=col>&lt;dbl&gt;</th><th scope=col>&lt;dbl&gt;</th></tr>\n",
       "</thead>\n",
       "<tbody>\n",
       "\t<tr><th scope=row>1</th><td>b / f</td><td>0.9307255</td><td>0.09958153</td><td>Inf</td><td>0.7546553</td><td>1.147875</td><td>1</td><td>-0.6709839</td><td>0.5022308</td></tr>\n",
       "</tbody>\n",
       "</table>\n",
       "</dd>\n",
       "</dl>\n"
      ],
      "text/latex": [
       "\\begin{description}\n",
       "\\item[\\$emmeans] A summary\\_emm: 2 x 9\n",
       "\\begin{tabular}{r|lllllllll}\n",
       "  & cond\\_direction & rate & SE & df & asymp.LCL & asymp.UCL & null & z.ratio & p.value\\\\\n",
       "  & <fct> & <dbl> & <dbl> & <dbl> & <dbl> & <dbl> & <dbl> & <dbl> & <dbl>\\\\\n",
       "\\hline\n",
       "\t1 & b & 4.131009 & 0.2833153 & Inf & 3.611425 & 4.725348 & 1 & 20.68341 & 4.886455e-95\\\\\n",
       "\t2 & f & 4.438483 & 0.3739887 & Inf & 3.762807 & 5.235488 & 1 & 17.68697 & 5.284095e-70\\\\\n",
       "\\end{tabular}\n",
       "\n",
       "\\item[\\$contrasts] A summary\\_emm: 1 x 9\n",
       "\\begin{tabular}{r|lllllllll}\n",
       "  & contrast & ratio & SE & df & asymp.LCL & asymp.UCL & null & z.ratio & p.value\\\\\n",
       "  & <fct> & <dbl> & <dbl> & <dbl> & <dbl> & <dbl> & <dbl> & <dbl> & <dbl>\\\\\n",
       "\\hline\n",
       "\t1 & b / f & 0.9307255 & 0.09958153 & Inf & 0.7546553 & 1.147875 & 1 & -0.6709839 & 0.5022308\\\\\n",
       "\\end{tabular}\n",
       "\n",
       "\\end{description}\n"
      ],
      "text/markdown": [
       "$emmeans\n",
       ":   \n",
       "A summary_emm: 2 x 9\n",
       "\n",
       "| <!--/--> | cond_direction &lt;fct&gt; | rate &lt;dbl&gt; | SE &lt;dbl&gt; | df &lt;dbl&gt; | asymp.LCL &lt;dbl&gt; | asymp.UCL &lt;dbl&gt; | null &lt;dbl&gt; | z.ratio &lt;dbl&gt; | p.value &lt;dbl&gt; |\n",
       "|---|---|---|---|---|---|---|---|---|---|\n",
       "| 1 | b | 4.131009 | 0.2833153 | Inf | 3.611425 | 4.725348 | 1 | 20.68341 | 4.886455e-95 |\n",
       "| 2 | f | 4.438483 | 0.3739887 | Inf | 3.762807 | 5.235488 | 1 | 17.68697 | 5.284095e-70 |\n",
       "\n",
       "\n",
       "$contrasts\n",
       ":   \n",
       "A summary_emm: 1 x 9\n",
       "\n",
       "| <!--/--> | contrast &lt;fct&gt; | ratio &lt;dbl&gt; | SE &lt;dbl&gt; | df &lt;dbl&gt; | asymp.LCL &lt;dbl&gt; | asymp.UCL &lt;dbl&gt; | null &lt;dbl&gt; | z.ratio &lt;dbl&gt; | p.value &lt;dbl&gt; |\n",
       "|---|---|---|---|---|---|---|---|---|---|\n",
       "| 1 | b / f | 0.9307255 | 0.09958153 | Inf | 0.7546553 | 1.147875 | 1 | -0.6709839 | 0.5022308 |\n",
       "\n",
       "\n",
       "\n",
       "\n"
      ],
      "text/plain": [
       "$emmeans\n",
       " cond_direction rate    SE  df asymp.LCL asymp.UCL null z.ratio p.value\n",
       " b              4.13 0.283 Inf      3.61      4.73    1  20.683  <.0001\n",
       " f              4.44 0.374 Inf      3.76      5.24    1  17.687  <.0001\n",
       "\n",
       "Confidence level used: 0.95 \n",
       "Intervals are back-transformed from the log scale \n",
       "Tests are performed on the log scale \n",
       "\n",
       "$contrasts\n",
       " contrast ratio     SE  df asymp.LCL asymp.UCL null z.ratio p.value\n",
       " b / f    0.931 0.0996 Inf     0.755      1.15    1  -0.671  0.5022\n",
       "\n",
       "Confidence level used: 0.95 \n",
       "Intervals are back-transformed from the log scale \n",
       "Tests are performed on the log scale \n"
      ]
     },
     "metadata": {},
     "output_type": "display_data"
    }
   ],
   "source": [
    "emmeans(p0r0_hit_econd_total, pairwise ~ cond_direction, type='response') %>%\n",
    "      summary(infer = TRUE)"
   ]
  },
  {
   "cell_type": "code",
   "execution_count": 4,
   "metadata": {
    "vscode": {
     "languageId": "r"
    }
   },
   "outputs": [
    {
     "name": "stderr",
     "output_type": "stream",
     "text": [
      "NOTE: Results may be misleading due to involvement in interactions\n",
      "\n"
     ]
    },
    {
     "data": {
      "text/html": [
       "<dl>\n",
       "\t<dt>$emmeans</dt>\n",
       "\t\t<dd><table class=\"dataframe\">\n",
       "<caption>A summary_emm: 4 x 10</caption>\n",
       "<thead>\n",
       "\t<tr><th></th><th scope=col>cond_direction</th><th scope=col>e_cond_bin</th><th scope=col>rate</th><th scope=col>SE</th><th scope=col>df</th><th scope=col>asymp.LCL</th><th scope=col>asymp.UCL</th><th scope=col>null</th><th scope=col>z.ratio</th><th scope=col>p.value</th></tr>\n",
       "\t<tr><th></th><th scope=col>&lt;fct&gt;</th><th scope=col>&lt;fct&gt;</th><th scope=col>&lt;dbl&gt;</th><th scope=col>&lt;dbl&gt;</th><th scope=col>&lt;dbl&gt;</th><th scope=col>&lt;dbl&gt;</th><th scope=col>&lt;dbl&gt;</th><th scope=col>&lt;dbl&gt;</th><th scope=col>&lt;dbl&gt;</th><th scope=col>&lt;dbl&gt;</th></tr>\n",
       "</thead>\n",
       "<tbody>\n",
       "\t<tr><th scope=row>1</th><td>b</td><td>e_match  </td><td>1.4637558</td><td>0.2004890</td><td>Inf</td><td>1.1191299</td><td>1.9145062</td><td>1</td><td> 2.781695</td><td>5.407591e-03</td></tr>\n",
       "\t<tr><th scope=row>2</th><td>f</td><td>e_match  </td><td>0.3658513</td><td>0.1130594</td><td>Inf</td><td>0.1996443</td><td>0.6704283</td><td>1</td><td>-3.253810</td><td>1.138685e-03</td></tr>\n",
       "\t<tr><th scope=row>3</th><td>b</td><td>e_unmatch</td><td>1.9513032</td><td>0.2728428</td><td>Inf</td><td>1.4835585</td><td>2.5665210</td><td>1</td><td> 4.780925</td><td>1.744901e-06</td></tr>\n",
       "\t<tr><th scope=row>4</th><td>f</td><td>e_unmatch</td><td>3.7233037</td><td>0.4135511</td><td>Inf</td><td>2.9949160</td><td>4.6288412</td><td>1</td><td>11.835774</td><td>2.549818e-32</td></tr>\n",
       "</tbody>\n",
       "</table>\n",
       "</dd>\n",
       "\t<dt>$contrasts</dt>\n",
       "\t\t<dd><table class=\"dataframe\">\n",
       "<caption>A summary_emm: 2 x 10</caption>\n",
       "<thead>\n",
       "\t<tr><th></th><th scope=col>contrast</th><th scope=col>e_cond_bin</th><th scope=col>ratio</th><th scope=col>SE</th><th scope=col>df</th><th scope=col>asymp.LCL</th><th scope=col>asymp.UCL</th><th scope=col>null</th><th scope=col>z.ratio</th><th scope=col>p.value</th></tr>\n",
       "\t<tr><th></th><th scope=col>&lt;fct&gt;</th><th scope=col>&lt;fct&gt;</th><th scope=col>&lt;dbl&gt;</th><th scope=col>&lt;dbl&gt;</th><th scope=col>&lt;dbl&gt;</th><th scope=col>&lt;dbl&gt;</th><th scope=col>&lt;dbl&gt;</th><th scope=col>&lt;dbl&gt;</th><th scope=col>&lt;dbl&gt;</th><th scope=col>&lt;dbl&gt;</th></tr>\n",
       "</thead>\n",
       "<tbody>\n",
       "\t<tr><th scope=row>1</th><td>b / f</td><td>e_match  </td><td>4.0009583</td><td>1.28160708</td><td>Inf</td><td>2.1355162</td><td>7.4959242</td><td>1</td><td> 4.328522</td><td>1.501134e-05</td></tr>\n",
       "\t<tr><th scope=row>2</th><td>b / f</td><td>e_unmatch</td><td>0.5240784</td><td>0.07876059</td><td>Inf</td><td>0.3903681</td><td>0.7035877</td><td>1</td><td>-4.299287</td><td>1.713487e-05</td></tr>\n",
       "</tbody>\n",
       "</table>\n",
       "</dd>\n",
       "</dl>\n"
      ],
      "text/latex": [
       "\\begin{description}\n",
       "\\item[\\$emmeans] A summary\\_emm: 4 x 10\n",
       "\\begin{tabular}{r|llllllllll}\n",
       "  & cond\\_direction & e\\_cond\\_bin & rate & SE & df & asymp.LCL & asymp.UCL & null & z.ratio & p.value\\\\\n",
       "  & <fct> & <fct> & <dbl> & <dbl> & <dbl> & <dbl> & <dbl> & <dbl> & <dbl> & <dbl>\\\\\n",
       "\\hline\n",
       "\t1 & b & e\\_match   & 1.4637558 & 0.2004890 & Inf & 1.1191299 & 1.9145062 & 1 &  2.781695 & 5.407591e-03\\\\\n",
       "\t2 & f & e\\_match   & 0.3658513 & 0.1130594 & Inf & 0.1996443 & 0.6704283 & 1 & -3.253810 & 1.138685e-03\\\\\n",
       "\t3 & b & e\\_unmatch & 1.9513032 & 0.2728428 & Inf & 1.4835585 & 2.5665210 & 1 &  4.780925 & 1.744901e-06\\\\\n",
       "\t4 & f & e\\_unmatch & 3.7233037 & 0.4135511 & Inf & 2.9949160 & 4.6288412 & 1 & 11.835774 & 2.549818e-32\\\\\n",
       "\\end{tabular}\n",
       "\n",
       "\\item[\\$contrasts] A summary\\_emm: 2 x 10\n",
       "\\begin{tabular}{r|llllllllll}\n",
       "  & contrast & e\\_cond\\_bin & ratio & SE & df & asymp.LCL & asymp.UCL & null & z.ratio & p.value\\\\\n",
       "  & <fct> & <fct> & <dbl> & <dbl> & <dbl> & <dbl> & <dbl> & <dbl> & <dbl> & <dbl>\\\\\n",
       "\\hline\n",
       "\t1 & b / f & e\\_match   & 4.0009583 & 1.28160708 & Inf & 2.1355162 & 7.4959242 & 1 &  4.328522 & 1.501134e-05\\\\\n",
       "\t2 & b / f & e\\_unmatch & 0.5240784 & 0.07876059 & Inf & 0.3903681 & 0.7035877 & 1 & -4.299287 & 1.713487e-05\\\\\n",
       "\\end{tabular}\n",
       "\n",
       "\\end{description}\n"
      ],
      "text/markdown": [
       "$emmeans\n",
       ":   \n",
       "A summary_emm: 4 x 10\n",
       "\n",
       "| <!--/--> | cond_direction &lt;fct&gt; | e_cond_bin &lt;fct&gt; | rate &lt;dbl&gt; | SE &lt;dbl&gt; | df &lt;dbl&gt; | asymp.LCL &lt;dbl&gt; | asymp.UCL &lt;dbl&gt; | null &lt;dbl&gt; | z.ratio &lt;dbl&gt; | p.value &lt;dbl&gt; |\n",
       "|---|---|---|---|---|---|---|---|---|---|---|\n",
       "| 1 | b | e_match   | 1.4637558 | 0.2004890 | Inf | 1.1191299 | 1.9145062 | 1 |  2.781695 | 5.407591e-03 |\n",
       "| 2 | f | e_match   | 0.3658513 | 0.1130594 | Inf | 0.1996443 | 0.6704283 | 1 | -3.253810 | 1.138685e-03 |\n",
       "| 3 | b | e_unmatch | 1.9513032 | 0.2728428 | Inf | 1.4835585 | 2.5665210 | 1 |  4.780925 | 1.744901e-06 |\n",
       "| 4 | f | e_unmatch | 3.7233037 | 0.4135511 | Inf | 2.9949160 | 4.6288412 | 1 | 11.835774 | 2.549818e-32 |\n",
       "\n",
       "\n",
       "$contrasts\n",
       ":   \n",
       "A summary_emm: 2 x 10\n",
       "\n",
       "| <!--/--> | contrast &lt;fct&gt; | e_cond_bin &lt;fct&gt; | ratio &lt;dbl&gt; | SE &lt;dbl&gt; | df &lt;dbl&gt; | asymp.LCL &lt;dbl&gt; | asymp.UCL &lt;dbl&gt; | null &lt;dbl&gt; | z.ratio &lt;dbl&gt; | p.value &lt;dbl&gt; |\n",
       "|---|---|---|---|---|---|---|---|---|---|---|\n",
       "| 1 | b / f | e_match   | 4.0009583 | 1.28160708 | Inf | 2.1355162 | 7.4959242 | 1 |  4.328522 | 1.501134e-05 |\n",
       "| 2 | b / f | e_unmatch | 0.5240784 | 0.07876059 | Inf | 0.3903681 | 0.7035877 | 1 | -4.299287 | 1.713487e-05 |\n",
       "\n",
       "\n",
       "\n",
       "\n"
      ],
      "text/plain": [
       "$emmeans\n",
       "e_cond_bin = e_match:\n",
       " cond_direction  rate    SE  df asymp.LCL asymp.UCL null z.ratio p.value\n",
       " b              1.464 0.200 Inf      1.12      1.91    1   2.782  0.0054\n",
       " f              0.366 0.113 Inf      0.20      0.67    1  -3.254  0.0011\n",
       "\n",
       "e_cond_bin = e_unmatch:\n",
       " cond_direction  rate    SE  df asymp.LCL asymp.UCL null z.ratio p.value\n",
       " b              1.951 0.273 Inf      1.48      2.57    1   4.781  <.0001\n",
       " f              3.723 0.414 Inf      2.99      4.63    1  11.836  <.0001\n",
       "\n",
       "Confidence level used: 0.95 \n",
       "Intervals are back-transformed from the log scale \n",
       "Tests are performed on the log scale \n",
       "\n",
       "$contrasts\n",
       "e_cond_bin = e_match:\n",
       " contrast ratio     SE  df asymp.LCL asymp.UCL null z.ratio p.value\n",
       " b / f    4.001 1.2816 Inf      2.14     7.496    1   4.329  <.0001\n",
       "\n",
       "e_cond_bin = e_unmatch:\n",
       " contrast ratio     SE  df asymp.LCL asymp.UCL null z.ratio p.value\n",
       " b / f    0.524 0.0788 Inf      0.39     0.704    1  -4.299  <.0001\n",
       "\n",
       "Confidence level used: 0.95 \n",
       "Intervals are back-transformed from the log scale \n",
       "Tests are performed on the log scale \n"
      ]
     },
     "metadata": {},
     "output_type": "display_data"
    }
   ],
   "source": [
    "emmeans(p0r0_hit_econd_bin, pairwise ~ cond_direction|e_cond_bin, type='response') %>%\n",
    "      summary(infer = TRUE)"
   ]
  },
  {
   "cell_type": "code",
   "execution_count": 43,
   "metadata": {
    "vscode": {
     "languageId": "r"
    }
   },
   "outputs": [
    {
     "name": "stderr",
     "output_type": "stream",
     "text": [
      "Warning message in vcov.merMod(object, correlation = FALSE):\n",
      "\"variance-covariance matrix computed from finite-difference Hessian is\n",
      "not positive definite or contains NA values: falling back to var-cov estimated from RX\"\n",
      "NOTE: Results may be misleading due to involvement in interactions\n",
      "\n"
     ]
    },
    {
     "data": {
      "text/html": [
       "<dl>\n",
       "\t<dt>$emmeans</dt>\n",
       "\t\t<dd><table class=\"dataframe\">\n",
       "<caption>A summary_emm: 8 × 10</caption>\n",
       "<thead>\n",
       "\t<tr><th></th><th scope=col>cond_direction</th><th scope=col>e_cond</th><th scope=col>rate</th><th scope=col>SE</th><th scope=col>df</th><th scope=col>asymp.LCL</th><th scope=col>asymp.UCL</th><th scope=col>null</th><th scope=col>z.ratio</th><th scope=col>p.value</th></tr>\n",
       "\t<tr><th></th><th scope=col>&lt;fct&gt;</th><th scope=col>&lt;fct&gt;</th><th scope=col>&lt;dbl&gt;</th><th scope=col>&lt;dbl&gt;</th><th scope=col>&lt;dbl&gt;</th><th scope=col>&lt;dbl&gt;</th><th scope=col>&lt;dbl&gt;</th><th scope=col>&lt;dbl&gt;</th><th scope=col>&lt;dbl&gt;</th><th scope=col>&lt;dbl&gt;</th></tr>\n",
       "</thead>\n",
       "<tbody>\n",
       "\t<tr><th scope=row>1</th><td>b</td><td>e_ahead  </td><td>0.796059929</td><td>0.19628518</td><td>Inf</td><td>0.490980533</td><td>1.2907058</td><td>1</td><td>-0.9250112</td><td>3.549601e-01</td></tr>\n",
       "\t<tr><th scope=row>2</th><td>f</td><td>e_ahead  </td><td>0.099732807</td><td>0.04139453</td><td>Inf</td><td>0.044212308</td><td>0.2249743</td><td>1</td><td>-5.5541182</td><td>2.790167e-08</td></tr>\n",
       "\t<tr><th scope=row>3</th><td>b</td><td>e_gap    </td><td>0.068197498</td><td>0.03772875</td><td>Inf</td><td>0.023060045</td><td>0.2016865</td><td>1</td><td>-4.8539638</td><td>1.210178e-06</td></tr>\n",
       "\t<tr><th scope=row>4</th><td>f</td><td>e_gap    </td><td>0.002577316</td><td>0.00319806</td><td>Inf</td><td>0.000226441</td><td>0.0293346</td><td>1</td><td>-4.8039745</td><td>1.555467e-06</td></tr>\n",
       "\t<tr><th scope=row>5</th><td>b</td><td>e_target </td><td>0.046314401</td><td>0.01949958</td><td>Inf</td><td>0.020292606</td><td>0.1057047</td><td>1</td><td>-7.2971746</td><td>2.938733e-13</td></tr>\n",
       "\t<tr><th scope=row>6</th><td>f</td><td>e_target </td><td>0.104299623</td><td>0.05185981</td><td>Inf</td><td>0.039359421</td><td>0.2763865</td><td>1</td><td>-4.5462564</td><td>5.460849e-06</td></tr>\n",
       "\t<tr><th scope=row>7</th><td>b</td><td>e_unmatch</td><td>2.422507856</td><td>0.24911115</td><td>Inf</td><td>1.980316018</td><td>2.9634383</td><td>1</td><td> 8.6043639</td><td>7.674115e-18</td></tr>\n",
       "\t<tr><th scope=row>8</th><td>f</td><td>e_unmatch</td><td>3.672675601</td><td>0.40942489</td><td>Inf</td><td>2.951832959</td><td>4.5695492</td><td>1</td><td>11.6696832</td><td>1.821000e-31</td></tr>\n",
       "</tbody>\n",
       "</table>\n",
       "</dd>\n",
       "\t<dt>$contrasts</dt>\n",
       "\t\t<dd><table class=\"dataframe\">\n",
       "<caption>A summary_emm: 4 × 10</caption>\n",
       "<thead>\n",
       "\t<tr><th></th><th scope=col>contrast</th><th scope=col>e_cond</th><th scope=col>ratio</th><th scope=col>SE</th><th scope=col>df</th><th scope=col>asymp.LCL</th><th scope=col>asymp.UCL</th><th scope=col>null</th><th scope=col>z.ratio</th><th scope=col>p.value</th></tr>\n",
       "\t<tr><th></th><th scope=col>&lt;fct&gt;</th><th scope=col>&lt;fct&gt;</th><th scope=col>&lt;dbl&gt;</th><th scope=col>&lt;dbl&gt;</th><th scope=col>&lt;dbl&gt;</th><th scope=col>&lt;dbl&gt;</th><th scope=col>&lt;dbl&gt;</th><th scope=col>&lt;dbl&gt;</th><th scope=col>&lt;dbl&gt;</th><th scope=col>&lt;dbl&gt;</th></tr>\n",
       "</thead>\n",
       "<tbody>\n",
       "\t<tr><th scope=row>1</th><td>b / f</td><td>e_ahead  </td><td> 7.9819264</td><td> 3.01544214</td><td>Inf</td><td>3.8066032</td><td> 16.7370085</td><td>1</td><td> 5.498330</td><td>3.834047e-08</td></tr>\n",
       "\t<tr><th scope=row>2</th><td>b / f</td><td>e_gap    </td><td>26.4606645</td><td>35.32814344</td><td>Inf</td><td>1.9326141</td><td>362.2899944</td><td>1</td><td> 2.453458</td><td>1.414900e-02</td></tr>\n",
       "\t<tr><th scope=row>3</th><td>b / f</td><td>e_target </td><td> 0.4440515</td><td> 0.26194642</td><td>Inf</td><td>0.1397361</td><td>  1.4111006</td><td>1</td><td>-1.376188</td><td>1.687634e-01</td></tr>\n",
       "\t<tr><th scope=row>4</th><td>b / f</td><td>e_unmatch</td><td> 0.6596030</td><td> 0.08416983</td><td>Inf</td><td>0.5136455</td><td>  0.8470357</td><td>1</td><td>-3.260932</td><td>1.110465e-03</td></tr>\n",
       "</tbody>\n",
       "</table>\n",
       "</dd>\n",
       "</dl>\n"
      ],
      "text/latex": [
       "\\begin{description}\n",
       "\\item[\\$emmeans] A summary\\_emm: 8 × 10\n",
       "\\begin{tabular}{r|llllllllll}\n",
       "  & cond\\_direction & e\\_cond & rate & SE & df & asymp.LCL & asymp.UCL & null & z.ratio & p.value\\\\\n",
       "  & <fct> & <fct> & <dbl> & <dbl> & <dbl> & <dbl> & <dbl> & <dbl> & <dbl> & <dbl>\\\\\n",
       "\\hline\n",
       "\t1 & b & e\\_ahead   & 0.796059929 & 0.19628518 & Inf & 0.490980533 & 1.2907058 & 1 & -0.9250112 & 3.549601e-01\\\\\n",
       "\t2 & f & e\\_ahead   & 0.099732807 & 0.04139453 & Inf & 0.044212308 & 0.2249743 & 1 & -5.5541182 & 2.790167e-08\\\\\n",
       "\t3 & b & e\\_gap     & 0.068197498 & 0.03772875 & Inf & 0.023060045 & 0.2016865 & 1 & -4.8539638 & 1.210178e-06\\\\\n",
       "\t4 & f & e\\_gap     & 0.002577316 & 0.00319806 & Inf & 0.000226441 & 0.0293346 & 1 & -4.8039745 & 1.555467e-06\\\\\n",
       "\t5 & b & e\\_target  & 0.046314401 & 0.01949958 & Inf & 0.020292606 & 0.1057047 & 1 & -7.2971746 & 2.938733e-13\\\\\n",
       "\t6 & f & e\\_target  & 0.104299623 & 0.05185981 & Inf & 0.039359421 & 0.2763865 & 1 & -4.5462564 & 5.460849e-06\\\\\n",
       "\t7 & b & e\\_unmatch & 2.422507856 & 0.24911115 & Inf & 1.980316018 & 2.9634383 & 1 &  8.6043639 & 7.674115e-18\\\\\n",
       "\t8 & f & e\\_unmatch & 3.672675601 & 0.40942489 & Inf & 2.951832959 & 4.5695492 & 1 & 11.6696832 & 1.821000e-31\\\\\n",
       "\\end{tabular}\n",
       "\n",
       "\\item[\\$contrasts] A summary\\_emm: 4 × 10\n",
       "\\begin{tabular}{r|llllllllll}\n",
       "  & contrast & e\\_cond & ratio & SE & df & asymp.LCL & asymp.UCL & null & z.ratio & p.value\\\\\n",
       "  & <fct> & <fct> & <dbl> & <dbl> & <dbl> & <dbl> & <dbl> & <dbl> & <dbl> & <dbl>\\\\\n",
       "\\hline\n",
       "\t1 & b / f & e\\_ahead   &  7.9819264 &  3.01544214 & Inf & 3.8066032 &  16.7370085 & 1 &  5.498330 & 3.834047e-08\\\\\n",
       "\t2 & b / f & e\\_gap     & 26.4606645 & 35.32814344 & Inf & 1.9326141 & 362.2899944 & 1 &  2.453458 & 1.414900e-02\\\\\n",
       "\t3 & b / f & e\\_target  &  0.4440515 &  0.26194642 & Inf & 0.1397361 &   1.4111006 & 1 & -1.376188 & 1.687634e-01\\\\\n",
       "\t4 & b / f & e\\_unmatch &  0.6596030 &  0.08416983 & Inf & 0.5136455 &   0.8470357 & 1 & -3.260932 & 1.110465e-03\\\\\n",
       "\\end{tabular}\n",
       "\n",
       "\\end{description}\n"
      ],
      "text/markdown": [
       "$emmeans\n",
       ":   \n",
       "A summary_emm: 8 × 10\n",
       "\n",
       "| <!--/--> | cond_direction &lt;fct&gt; | e_cond &lt;fct&gt; | rate &lt;dbl&gt; | SE &lt;dbl&gt; | df &lt;dbl&gt; | asymp.LCL &lt;dbl&gt; | asymp.UCL &lt;dbl&gt; | null &lt;dbl&gt; | z.ratio &lt;dbl&gt; | p.value &lt;dbl&gt; |\n",
       "|---|---|---|---|---|---|---|---|---|---|---|\n",
       "| 1 | b | e_ahead   | 0.796059929 | 0.19628518 | Inf | 0.490980533 | 1.2907058 | 1 | -0.9250112 | 3.549601e-01 |\n",
       "| 2 | f | e_ahead   | 0.099732807 | 0.04139453 | Inf | 0.044212308 | 0.2249743 | 1 | -5.5541182 | 2.790167e-08 |\n",
       "| 3 | b | e_gap     | 0.068197498 | 0.03772875 | Inf | 0.023060045 | 0.2016865 | 1 | -4.8539638 | 1.210178e-06 |\n",
       "| 4 | f | e_gap     | 0.002577316 | 0.00319806 | Inf | 0.000226441 | 0.0293346 | 1 | -4.8039745 | 1.555467e-06 |\n",
       "| 5 | b | e_target  | 0.046314401 | 0.01949958 | Inf | 0.020292606 | 0.1057047 | 1 | -7.2971746 | 2.938733e-13 |\n",
       "| 6 | f | e_target  | 0.104299623 | 0.05185981 | Inf | 0.039359421 | 0.2763865 | 1 | -4.5462564 | 5.460849e-06 |\n",
       "| 7 | b | e_unmatch | 2.422507856 | 0.24911115 | Inf | 1.980316018 | 2.9634383 | 1 |  8.6043639 | 7.674115e-18 |\n",
       "| 8 | f | e_unmatch | 3.672675601 | 0.40942489 | Inf | 2.951832959 | 4.5695492 | 1 | 11.6696832 | 1.821000e-31 |\n",
       "\n",
       "\n",
       "$contrasts\n",
       ":   \n",
       "A summary_emm: 4 × 10\n",
       "\n",
       "| <!--/--> | contrast &lt;fct&gt; | e_cond &lt;fct&gt; | ratio &lt;dbl&gt; | SE &lt;dbl&gt; | df &lt;dbl&gt; | asymp.LCL &lt;dbl&gt; | asymp.UCL &lt;dbl&gt; | null &lt;dbl&gt; | z.ratio &lt;dbl&gt; | p.value &lt;dbl&gt; |\n",
       "|---|---|---|---|---|---|---|---|---|---|---|\n",
       "| 1 | b / f | e_ahead   |  7.9819264 |  3.01544214 | Inf | 3.8066032 |  16.7370085 | 1 |  5.498330 | 3.834047e-08 |\n",
       "| 2 | b / f | e_gap     | 26.4606645 | 35.32814344 | Inf | 1.9326141 | 362.2899944 | 1 |  2.453458 | 1.414900e-02 |\n",
       "| 3 | b / f | e_target  |  0.4440515 |  0.26194642 | Inf | 0.1397361 |   1.4111006 | 1 | -1.376188 | 1.687634e-01 |\n",
       "| 4 | b / f | e_unmatch |  0.6596030 |  0.08416983 | Inf | 0.5136455 |   0.8470357 | 1 | -3.260932 | 1.110465e-03 |\n",
       "\n",
       "\n",
       "\n",
       "\n"
      ],
      "text/plain": [
       "$emmeans\n",
       "e_cond = e_ahead:\n",
       " cond_direction    rate     SE  df asymp.LCL asymp.UCL null z.ratio p.value\n",
       " b              0.79606 0.1963 Inf  0.490980    1.2907    1  -0.925  0.3550\n",
       " f              0.09973 0.0414 Inf  0.044212    0.2250    1  -5.554  <.0001\n",
       "\n",
       "e_cond = e_gap:\n",
       " cond_direction    rate     SE  df asymp.LCL asymp.UCL null z.ratio p.value\n",
       " b              0.06820 0.0377 Inf  0.023060    0.2017    1  -4.854  <.0001\n",
       " f              0.00258 0.0032 Inf  0.000226    0.0293    1  -4.804  <.0001\n",
       "\n",
       "e_cond = e_target:\n",
       " cond_direction    rate     SE  df asymp.LCL asymp.UCL null z.ratio p.value\n",
       " b              0.04631 0.0195 Inf  0.020293    0.1057    1  -7.297  <.0001\n",
       " f              0.10430 0.0519 Inf  0.039359    0.2764    1  -4.546  <.0001\n",
       "\n",
       "e_cond = e_unmatch:\n",
       " cond_direction    rate     SE  df asymp.LCL asymp.UCL null z.ratio p.value\n",
       " b              2.42251 0.2491 Inf  1.980316    2.9634    1   8.604  <.0001\n",
       " f              3.67268 0.4094 Inf  2.951833    4.5695    1  11.670  <.0001\n",
       "\n",
       "Confidence level used: 0.95 \n",
       "Intervals are back-transformed from the log scale \n",
       "Tests are performed on the log scale \n",
       "\n",
       "$contrasts\n",
       "e_cond = e_ahead:\n",
       " contrast  ratio      SE  df asymp.LCL asymp.UCL null z.ratio p.value\n",
       " b / f     7.982  3.0154 Inf     3.807    16.737    1   5.498  <.0001\n",
       "\n",
       "e_cond = e_gap:\n",
       " contrast  ratio      SE  df asymp.LCL asymp.UCL null z.ratio p.value\n",
       " b / f    26.461 35.3281 Inf     1.933   362.290    1   2.453  0.0141\n",
       "\n",
       "e_cond = e_target:\n",
       " contrast  ratio      SE  df asymp.LCL asymp.UCL null z.ratio p.value\n",
       " b / f     0.444  0.2620 Inf     0.140     1.411    1  -1.376  0.1688\n",
       "\n",
       "e_cond = e_unmatch:\n",
       " contrast  ratio      SE  df asymp.LCL asymp.UCL null z.ratio p.value\n",
       " b / f     0.660  0.0842 Inf     0.514     0.847    1  -3.261  0.0011\n",
       "\n",
       "Confidence level used: 0.95 \n",
       "Intervals are back-transformed from the log scale \n",
       "Tests are performed on the log scale \n"
      ]
     },
     "metadata": {},
     "output_type": "display_data"
    }
   ],
   "source": [
    "emmeans(p0r0_hit_econd, pairwise ~ cond_direction|e_cond, type='response') %>%\n",
    "      summary(infer = TRUE)"
   ]
  },
  {
   "attachments": {},
   "cell_type": "markdown",
   "metadata": {},
   "source": [
    "## step plot"
   ]
  },
  {
   "cell_type": "code",
   "execution_count": 6,
   "metadata": {
    "vscode": {
     "languageId": "r"
    }
   },
   "outputs": [],
   "source": [
    "p0_r0_hit_refer_step_2 <- readRDS(\"../stats_models/rep/p0_r0_hit_refer_step_2.rds\")"
   ]
  },
  {
   "cell_type": "code",
   "execution_count": 54,
   "metadata": {
    "vscode": {
     "languageId": "r"
    }
   },
   "outputs": [
    {
     "name": "stderr",
     "output_type": "stream",
     "text": [
      "Warning message in vcov.merMod(object, correlation = FALSE):\n",
      "\"variance-covariance matrix computed from finite-difference Hessian is\n",
      "not positive definite or contains NA values: falling back to var-cov estimated from RX\"\n",
      "NOTE: Results may be misleading due to involvement in interactions\n",
      "\n"
     ]
    },
    {
     "data": {
      "text/html": [
       "<dl>\n",
       "\t<dt>$emmeans</dt>\n",
       "\t\t<dd><table class=\"dataframe\">\n",
       "<caption>A summary_emm: 2 × 9</caption>\n",
       "<thead>\n",
       "\t<tr><th></th><th scope=col>condition</th><th scope=col>rate</th><th scope=col>SE</th><th scope=col>df</th><th scope=col>asymp.LCL</th><th scope=col>asymp.UCL</th><th scope=col>null</th><th scope=col>z.ratio</th><th scope=col>p.value</th></tr>\n",
       "\t<tr><th></th><th scope=col>&lt;fct&gt;</th><th scope=col>&lt;dbl&gt;</th><th scope=col>&lt;dbl&gt;</th><th scope=col>&lt;dbl&gt;</th><th scope=col>&lt;dbl&gt;</th><th scope=col>&lt;dbl&gt;</th><th scope=col>&lt;dbl&gt;</th><th scope=col>&lt;dbl&gt;</th><th scope=col>&lt;dbl&gt;</th></tr>\n",
       "</thead>\n",
       "<tbody>\n",
       "\t<tr><th scope=row>1</th><td>p0</td><td>2.220446e-16</td><td>1.977354e-12</td><td>Inf</td><td>2.220446e-16</td><td>       Inf</td><td>1</td><td> -0.004234726</td><td>9.966212e-01</td></tr>\n",
       "\t<tr><th scope=row>2</th><td>r0</td><td>7.798583e-03</td><td>2.199947e-03</td><td>Inf</td><td>4.486373e-03</td><td>0.01355614</td><td>1</td><td>-17.206259435</td><td>2.383381e-66</td></tr>\n",
       "</tbody>\n",
       "</table>\n",
       "</dd>\n",
       "\t<dt>$contrasts</dt>\n",
       "\t\t<dd><table class=\"dataframe\">\n",
       "<caption>A summary_emm: 1 × 9</caption>\n",
       "<thead>\n",
       "\t<tr><th></th><th scope=col>contrast</th><th scope=col>ratio</th><th scope=col>SE</th><th scope=col>df</th><th scope=col>asymp.LCL</th><th scope=col>asymp.UCL</th><th scope=col>null</th><th scope=col>z.ratio</th><th scope=col>p.value</th></tr>\n",
       "\t<tr><th></th><th scope=col>&lt;fct&gt;</th><th scope=col>&lt;dbl&gt;</th><th scope=col>&lt;dbl&gt;</th><th scope=col>&lt;dbl&gt;</th><th scope=col>&lt;dbl&gt;</th><th scope=col>&lt;dbl&gt;</th><th scope=col>&lt;dbl&gt;</th><th scope=col>&lt;dbl&gt;</th><th scope=col>&lt;dbl&gt;</th></tr>\n",
       "</thead>\n",
       "<tbody>\n",
       "\t<tr><th scope=row>1</th><td>r0 / p0</td><td>1.861024e+14</td><td>1.657281e+18</td><td>Inf</td><td>2.220446e-16</td><td>Inf</td><td>1</td><td>0.003689673</td><td>0.9970561</td></tr>\n",
       "</tbody>\n",
       "</table>\n",
       "</dd>\n",
       "</dl>\n"
      ],
      "text/latex": [
       "\\begin{description}\n",
       "\\item[\\$emmeans] A summary\\_emm: 2 × 9\n",
       "\\begin{tabular}{r|lllllllll}\n",
       "  & condition & rate & SE & df & asymp.LCL & asymp.UCL & null & z.ratio & p.value\\\\\n",
       "  & <fct> & <dbl> & <dbl> & <dbl> & <dbl> & <dbl> & <dbl> & <dbl> & <dbl>\\\\\n",
       "\\hline\n",
       "\t1 & p0 & 2.220446e-16 & 1.977354e-12 & Inf & 2.220446e-16 &        Inf & 1 &  -0.004234726 & 9.966212e-01\\\\\n",
       "\t2 & r0 & 7.798583e-03 & 2.199947e-03 & Inf & 4.486373e-03 & 0.01355614 & 1 & -17.206259435 & 2.383381e-66\\\\\n",
       "\\end{tabular}\n",
       "\n",
       "\\item[\\$contrasts] A summary\\_emm: 1 × 9\n",
       "\\begin{tabular}{r|lllllllll}\n",
       "  & contrast & ratio & SE & df & asymp.LCL & asymp.UCL & null & z.ratio & p.value\\\\\n",
       "  & <fct> & <dbl> & <dbl> & <dbl> & <dbl> & <dbl> & <dbl> & <dbl> & <dbl>\\\\\n",
       "\\hline\n",
       "\t1 & r0 / p0 & 1.861024e+14 & 1.657281e+18 & Inf & 2.220446e-16 & Inf & 1 & 0.003689673 & 0.9970561\\\\\n",
       "\\end{tabular}\n",
       "\n",
       "\\end{description}\n"
      ],
      "text/markdown": [
       "$emmeans\n",
       ":   \n",
       "A summary_emm: 2 × 9\n",
       "\n",
       "| <!--/--> | condition &lt;fct&gt; | rate &lt;dbl&gt; | SE &lt;dbl&gt; | df &lt;dbl&gt; | asymp.LCL &lt;dbl&gt; | asymp.UCL &lt;dbl&gt; | null &lt;dbl&gt; | z.ratio &lt;dbl&gt; | p.value &lt;dbl&gt; |\n",
       "|---|---|---|---|---|---|---|---|---|---|\n",
       "| 1 | p0 | 2.220446e-16 | 1.977354e-12 | Inf | 2.220446e-16 |        Inf | 1 |  -0.004234726 | 9.966212e-01 |\n",
       "| 2 | r0 | 7.798583e-03 | 2.199947e-03 | Inf | 4.486373e-03 | 0.01355614 | 1 | -17.206259435 | 2.383381e-66 |\n",
       "\n",
       "\n",
       "$contrasts\n",
       ":   \n",
       "A summary_emm: 1 × 9\n",
       "\n",
       "| <!--/--> | contrast &lt;fct&gt; | ratio &lt;dbl&gt; | SE &lt;dbl&gt; | df &lt;dbl&gt; | asymp.LCL &lt;dbl&gt; | asymp.UCL &lt;dbl&gt; | null &lt;dbl&gt; | z.ratio &lt;dbl&gt; | p.value &lt;dbl&gt; |\n",
       "|---|---|---|---|---|---|---|---|---|---|\n",
       "| 1 | r0 / p0 | 1.861024e+14 | 1.657281e+18 | Inf | 2.220446e-16 | Inf | 1 | 0.003689673 | 0.9970561 |\n",
       "\n",
       "\n",
       "\n",
       "\n"
      ],
      "text/plain": [
       "$emmeans\n",
       " condition   rate     SE  df asymp.LCL asymp.UCL null z.ratio p.value\n",
       " p0        0.0000 0.0000 Inf   0.00000       Inf    1  -0.004  0.9966\n",
       " r0        0.0078 0.0022 Inf   0.00449         0    1 -17.206  <.0001\n",
       "\n",
       "Results are averaged over the levels of: main_or_gap \n",
       "Confidence level used: 0.95 \n",
       "Intervals are back-transformed from the log scale \n",
       "Tests are performed on the log scale \n",
       "\n",
       "$contrasts\n",
       " contrast    ratio       SE  df asymp.LCL asymp.UCL null z.ratio p.value\n",
       " r0 / p0  1.86e+14 1.66e+18 Inf  2.22e-16       Inf    1   0.004  0.9971\n",
       "\n",
       "Results are averaged over the levels of: main_or_gap \n",
       "Confidence level used: 0.95 \n",
       "Intervals are back-transformed from the log scale \n",
       "Tests are performed on the log scale \n"
      ]
     },
     "metadata": {},
     "output_type": "display_data"
    }
   ],
   "source": [
    "emmeans(p0_r0_hit_refer_step_2, revpairwise ~ condition, type='response') %>% summary(infer = TRUE)"
   ]
  },
  {
   "cell_type": "code",
   "execution_count": 56,
   "metadata": {
    "vscode": {
     "languageId": "r"
    }
   },
   "outputs": [
    {
     "name": "stderr",
     "output_type": "stream",
     "text": [
      "Warning message in vcov.merMod(object, correlation = FALSE):\n",
      "\"variance-covariance matrix computed from finite-difference Hessian is\n",
      "not positive definite or contains NA values: falling back to var-cov estimated from RX\"\n",
      "NOTE: Results may be misleading due to involvement in interactions\n",
      "\n"
     ]
    },
    {
     "data": {
      "text/html": [
       "<dl>\n",
       "\t<dt>$emmeans</dt>\n",
       "\t\t<dd><table class=\"dataframe\">\n",
       "<caption>A summary_emm: 4 × 10</caption>\n",
       "<thead>\n",
       "\t<tr><th></th><th scope=col>condition</th><th scope=col>main_or_gap</th><th scope=col>rate</th><th scope=col>SE</th><th scope=col>df</th><th scope=col>asymp.LCL</th><th scope=col>asymp.UCL</th><th scope=col>null</th><th scope=col>z.ratio</th><th scope=col>p.value</th></tr>\n",
       "\t<tr><th></th><th scope=col>&lt;fct&gt;</th><th scope=col>&lt;fct&gt;</th><th scope=col>&lt;dbl&gt;</th><th scope=col>&lt;dbl&gt;</th><th scope=col>&lt;dbl&gt;</th><th scope=col>&lt;dbl&gt;</th><th scope=col>&lt;dbl&gt;</th><th scope=col>&lt;dbl&gt;</th><th scope=col>&lt;dbl&gt;</th><th scope=col>&lt;dbl&gt;</th></tr>\n",
       "</thead>\n",
       "<tbody>\n",
       "\t<tr><th scope=row>1</th><td>p0</td><td>gap </td><td>2.220446e-16</td><td>3.954708e-12</td><td>Inf</td><td>2.220446e-16</td><td>       Inf</td><td>1</td><td> -0.003909154</td><td>9.968810e-01</td></tr>\n",
       "\t<tr><th scope=row>2</th><td>r0</td><td>gap </td><td>5.199450e-03</td><td>2.094669e-03</td><td>Inf</td><td>2.360692e-03</td><td>0.01145184</td><td>1</td><td>-13.054551970</td><td>5.986115e-39</td></tr>\n",
       "\t<tr><th scope=row>3</th><td>p0</td><td>main</td><td>3.031823e-03</td><td>1.857004e-03</td><td>Inf</td><td>9.127238e-04</td><td>0.01007090</td><td>1</td><td> -9.467025033</td><td>2.879271e-21</td></tr>\n",
       "\t<tr><th scope=row>4</th><td>r0</td><td>main</td><td>1.169699e-02</td><td>4.469898e-03</td><td>Inf</td><td>5.530890e-03</td><td>0.02473734</td><td>1</td><td>-11.640793051</td><td>2.556276e-31</td></tr>\n",
       "</tbody>\n",
       "</table>\n",
       "</dd>\n",
       "\t<dt>$contrasts</dt>\n",
       "\t\t<dd><table class=\"dataframe\">\n",
       "<caption>A summary_emm: 2 × 10</caption>\n",
       "<thead>\n",
       "\t<tr><th></th><th scope=col>contrast</th><th scope=col>main_or_gap</th><th scope=col>ratio</th><th scope=col>SE</th><th scope=col>df</th><th scope=col>asymp.LCL</th><th scope=col>asymp.UCL</th><th scope=col>null</th><th scope=col>z.ratio</th><th scope=col>p.value</th></tr>\n",
       "\t<tr><th></th><th scope=col>&lt;fct&gt;</th><th scope=col>&lt;fct&gt;</th><th scope=col>&lt;dbl&gt;</th><th scope=col>&lt;dbl&gt;</th><th scope=col>&lt;dbl&gt;</th><th scope=col>&lt;dbl&gt;</th><th scope=col>&lt;dbl&gt;</th><th scope=col>&lt;dbl&gt;</th><th scope=col>&lt;dbl&gt;</th><th scope=col>&lt;dbl&gt;</th></tr>\n",
       "</thead>\n",
       "<tbody>\n",
       "\t<tr><th scope=row>1</th><td>r0 / p0</td><td>gap </td><td>8.977050e+27</td><td>1.598850e+32</td><td>Inf</td><td>2.220446e-16</td><td>     Inf</td><td>1</td><td>0.003613866</td><td>0.99711656</td></tr>\n",
       "\t<tr><th scope=row>2</th><td>r0 / p0</td><td>main</td><td>3.858071e+00</td><td>2.797638e+00</td><td>Inf</td><td>9.313885e-01</td><td>15.98121</td><td>1</td><td>1.861943050</td><td>0.06261112</td></tr>\n",
       "</tbody>\n",
       "</table>\n",
       "</dd>\n",
       "</dl>\n"
      ],
      "text/latex": [
       "\\begin{description}\n",
       "\\item[\\$emmeans] A summary\\_emm: 4 × 10\n",
       "\\begin{tabular}{r|llllllllll}\n",
       "  & condition & main\\_or\\_gap & rate & SE & df & asymp.LCL & asymp.UCL & null & z.ratio & p.value\\\\\n",
       "  & <fct> & <fct> & <dbl> & <dbl> & <dbl> & <dbl> & <dbl> & <dbl> & <dbl> & <dbl>\\\\\n",
       "\\hline\n",
       "\t1 & p0 & gap  & 2.220446e-16 & 3.954708e-12 & Inf & 2.220446e-16 &        Inf & 1 &  -0.003909154 & 9.968810e-01\\\\\n",
       "\t2 & r0 & gap  & 5.199450e-03 & 2.094669e-03 & Inf & 2.360692e-03 & 0.01145184 & 1 & -13.054551970 & 5.986115e-39\\\\\n",
       "\t3 & p0 & main & 3.031823e-03 & 1.857004e-03 & Inf & 9.127238e-04 & 0.01007090 & 1 &  -9.467025033 & 2.879271e-21\\\\\n",
       "\t4 & r0 & main & 1.169699e-02 & 4.469898e-03 & Inf & 5.530890e-03 & 0.02473734 & 1 & -11.640793051 & 2.556276e-31\\\\\n",
       "\\end{tabular}\n",
       "\n",
       "\\item[\\$contrasts] A summary\\_emm: 2 × 10\n",
       "\\begin{tabular}{r|llllllllll}\n",
       "  & contrast & main\\_or\\_gap & ratio & SE & df & asymp.LCL & asymp.UCL & null & z.ratio & p.value\\\\\n",
       "  & <fct> & <fct> & <dbl> & <dbl> & <dbl> & <dbl> & <dbl> & <dbl> & <dbl> & <dbl>\\\\\n",
       "\\hline\n",
       "\t1 & r0 / p0 & gap  & 8.977050e+27 & 1.598850e+32 & Inf & 2.220446e-16 &      Inf & 1 & 0.003613866 & 0.99711656\\\\\n",
       "\t2 & r0 / p0 & main & 3.858071e+00 & 2.797638e+00 & Inf & 9.313885e-01 & 15.98121 & 1 & 1.861943050 & 0.06261112\\\\\n",
       "\\end{tabular}\n",
       "\n",
       "\\end{description}\n"
      ],
      "text/markdown": [
       "$emmeans\n",
       ":   \n",
       "A summary_emm: 4 × 10\n",
       "\n",
       "| <!--/--> | condition &lt;fct&gt; | main_or_gap &lt;fct&gt; | rate &lt;dbl&gt; | SE &lt;dbl&gt; | df &lt;dbl&gt; | asymp.LCL &lt;dbl&gt; | asymp.UCL &lt;dbl&gt; | null &lt;dbl&gt; | z.ratio &lt;dbl&gt; | p.value &lt;dbl&gt; |\n",
       "|---|---|---|---|---|---|---|---|---|---|---|\n",
       "| 1 | p0 | gap  | 2.220446e-16 | 3.954708e-12 | Inf | 2.220446e-16 |        Inf | 1 |  -0.003909154 | 9.968810e-01 |\n",
       "| 2 | r0 | gap  | 5.199450e-03 | 2.094669e-03 | Inf | 2.360692e-03 | 0.01145184 | 1 | -13.054551970 | 5.986115e-39 |\n",
       "| 3 | p0 | main | 3.031823e-03 | 1.857004e-03 | Inf | 9.127238e-04 | 0.01007090 | 1 |  -9.467025033 | 2.879271e-21 |\n",
       "| 4 | r0 | main | 1.169699e-02 | 4.469898e-03 | Inf | 5.530890e-03 | 0.02473734 | 1 | -11.640793051 | 2.556276e-31 |\n",
       "\n",
       "\n",
       "$contrasts\n",
       ":   \n",
       "A summary_emm: 2 × 10\n",
       "\n",
       "| <!--/--> | contrast &lt;fct&gt; | main_or_gap &lt;fct&gt; | ratio &lt;dbl&gt; | SE &lt;dbl&gt; | df &lt;dbl&gt; | asymp.LCL &lt;dbl&gt; | asymp.UCL &lt;dbl&gt; | null &lt;dbl&gt; | z.ratio &lt;dbl&gt; | p.value &lt;dbl&gt; |\n",
       "|---|---|---|---|---|---|---|---|---|---|---|\n",
       "| 1 | r0 / p0 | gap  | 8.977050e+27 | 1.598850e+32 | Inf | 2.220446e-16 |      Inf | 1 | 0.003613866 | 0.99711656 |\n",
       "| 2 | r0 / p0 | main | 3.858071e+00 | 2.797638e+00 | Inf | 9.313885e-01 | 15.98121 | 1 | 1.861943050 | 0.06261112 |\n",
       "\n",
       "\n",
       "\n",
       "\n"
      ],
      "text/plain": [
       "$emmeans\n",
       "main_or_gap = gap:\n",
       " condition    rate      SE  df asymp.LCL asymp.UCL null z.ratio p.value\n",
       " p0        0.00000 0.00000 Inf  0.000000       Inf    1  -0.004  0.9969\n",
       " r0        0.00520 0.00209 Inf  0.002361         0    1 -13.055  <.0001\n",
       "\n",
       "main_or_gap = main:\n",
       " condition    rate      SE  df asymp.LCL asymp.UCL null z.ratio p.value\n",
       " p0        0.00303 0.00186 Inf  0.000913         0    1  -9.467  <.0001\n",
       " r0        0.01170 0.00447 Inf  0.005531         0    1 -11.641  <.0001\n",
       "\n",
       "Confidence level used: 0.95 \n",
       "Intervals are back-transformed from the log scale \n",
       "Tests are performed on the log scale \n",
       "\n",
       "$contrasts\n",
       "main_or_gap = gap:\n",
       " contrast    ratio      SE  df asymp.LCL asymp.UCL null z.ratio p.value\n",
       " r0 / p0  8.98e+27 1.6e+32 Inf     0.000       Inf    1   0.004  0.9971\n",
       "\n",
       "main_or_gap = main:\n",
       " contrast    ratio      SE  df asymp.LCL asymp.UCL null z.ratio p.value\n",
       " r0 / p0  4.00e+00 3.0e+00 Inf     0.931        16    1   1.862  0.0626\n",
       "\n",
       "Confidence level used: 0.95 \n",
       "Intervals are back-transformed from the log scale \n",
       "Tests are performed on the log scale \n"
      ]
     },
     "metadata": {},
     "output_type": "display_data"
    }
   ],
   "source": [
    "emmeans(p0_r0_hit_refer_step_2, revpairwise ~ condition|main_or_gap, type='response') %>% summary(infer = TRUE)"
   ]
  },
  {
   "attachments": {},
   "cell_type": "markdown",
   "metadata": {},
   "source": [
    "# figure 3"
   ]
  },
  {
   "cell_type": "code",
   "execution_count": 7,
   "metadata": {
    "vscode": {
     "languageId": "r"
    }
   },
   "outputs": [],
   "source": [
    "p0_r0_seg_seg_type_1 <- readRDS(\"../stats_models/rep/p0_r0_seg_seg_type_1.rds\")"
   ]
  },
  {
   "cell_type": "code",
   "execution_count": 65,
   "metadata": {
    "vscode": {
     "languageId": "r"
    }
   },
   "outputs": [
    {
     "name": "stderr",
     "output_type": "stream",
     "text": [
      "NOTE: Results may be misleading due to involvement in interactions\n",
      "\n"
     ]
    },
    {
     "data": {
      "text/html": [
       "<dl>\n",
       "\t<dt>$emmeans</dt>\n",
       "\t\t<dd><table class=\"dataframe\">\n",
       "<caption>A summary_emm: 4 × 10</caption>\n",
       "<thead>\n",
       "\t<tr><th></th><th scope=col>refer_type_merge</th><th scope=col>condition</th><th scope=col>prob</th><th scope=col>SE</th><th scope=col>df</th><th scope=col>asymp.LCL</th><th scope=col>asymp.UCL</th><th scope=col>null</th><th scope=col>z.ratio</th><th scope=col>p.value</th></tr>\n",
       "\t<tr><th></th><th scope=col>&lt;fct&gt;</th><th scope=col>&lt;fct&gt;</th><th scope=col>&lt;dbl&gt;</th><th scope=col>&lt;dbl&gt;</th><th scope=col>&lt;dbl&gt;</th><th scope=col>&lt;dbl&gt;</th><th scope=col>&lt;dbl&gt;</th><th scope=col>&lt;dbl&gt;</th><th scope=col>&lt;dbl&gt;</th><th scope=col>&lt;dbl&gt;</th></tr>\n",
       "</thead>\n",
       "<tbody>\n",
       "\t<tr><th scope=row>1</th><td>none    </td><td>p0</td><td>0.0003811326</td><td>0.0001833677</td><td>Inf</td><td>1.484216e-04</td><td>0.0009783549</td><td>0.5</td><td>-16.355802</td><td> 3.954700e-60</td></tr>\n",
       "\t<tr><th scope=row>2</th><td>referred</td><td>p0</td><td>0.0005869747</td><td>0.0011715707</td><td>Inf</td><td>1.171973e-05</td><td>0.0285909129</td><td>0.5</td><td> -3.725336</td><td> 1.950555e-04</td></tr>\n",
       "\t<tr><th scope=row>3</th><td>none    </td><td>r0</td><td>0.0013967561</td><td>0.0003817022</td><td>Inf</td><td>8.173965e-04</td><td>0.0023857774</td><td>0.5</td><td>-24.015964</td><td>1.894217e-127</td></tr>\n",
       "\t<tr><th scope=row>4</th><td>referred</td><td>r0</td><td>0.0077359027</td><td>0.0026167229</td><td>Inf</td><td>3.980905e-03</td><td>0.0149795422</td><td>0.5</td><td>-14.239370</td><td> 5.219517e-46</td></tr>\n",
       "</tbody>\n",
       "</table>\n",
       "</dd>\n",
       "\t<dt>$contrasts</dt>\n",
       "\t\t<dd><table class=\"dataframe\">\n",
       "<caption>A summary_emm: 2 × 10</caption>\n",
       "<thead>\n",
       "\t<tr><th></th><th scope=col>contrast</th><th scope=col>condition</th><th scope=col>odds.ratio</th><th scope=col>SE</th><th scope=col>df</th><th scope=col>asymp.LCL</th><th scope=col>asymp.UCL</th><th scope=col>null</th><th scope=col>z.ratio</th><th scope=col>p.value</th></tr>\n",
       "\t<tr><th></th><th scope=col>&lt;fct&gt;</th><th scope=col>&lt;fct&gt;</th><th scope=col>&lt;dbl&gt;</th><th scope=col>&lt;dbl&gt;</th><th scope=col>&lt;dbl&gt;</th><th scope=col>&lt;dbl&gt;</th><th scope=col>&lt;dbl&gt;</th><th scope=col>&lt;dbl&gt;</th><th scope=col>&lt;dbl&gt;</th><th scope=col>&lt;dbl&gt;</th></tr>\n",
       "</thead>\n",
       "<tbody>\n",
       "\t<tr><th scope=row>1</th><td>referred / none</td><td>p0</td><td>1.540397</td><td>3.036368</td><td>Inf</td><td>0.03234292</td><td>73.364557</td><td>1</td><td>0.2191809</td><td>8.265091e-01</td></tr>\n",
       "\t<tr><th scope=row>2</th><td>referred / none</td><td>r0</td><td>5.573861</td><td>1.629934</td><td>Inf</td><td>3.14227225</td><td> 9.887088</td><td>1</td><td>5.8753187</td><td>4.220307e-09</td></tr>\n",
       "</tbody>\n",
       "</table>\n",
       "</dd>\n",
       "</dl>\n"
      ],
      "text/latex": [
       "\\begin{description}\n",
       "\\item[\\$emmeans] A summary\\_emm: 4 × 10\n",
       "\\begin{tabular}{r|llllllllll}\n",
       "  & refer\\_type\\_merge & condition & prob & SE & df & asymp.LCL & asymp.UCL & null & z.ratio & p.value\\\\\n",
       "  & <fct> & <fct> & <dbl> & <dbl> & <dbl> & <dbl> & <dbl> & <dbl> & <dbl> & <dbl>\\\\\n",
       "\\hline\n",
       "\t1 & none     & p0 & 0.0003811326 & 0.0001833677 & Inf & 1.484216e-04 & 0.0009783549 & 0.5 & -16.355802 &  3.954700e-60\\\\\n",
       "\t2 & referred & p0 & 0.0005869747 & 0.0011715707 & Inf & 1.171973e-05 & 0.0285909129 & 0.5 &  -3.725336 &  1.950555e-04\\\\\n",
       "\t3 & none     & r0 & 0.0013967561 & 0.0003817022 & Inf & 8.173965e-04 & 0.0023857774 & 0.5 & -24.015964 & 1.894217e-127\\\\\n",
       "\t4 & referred & r0 & 0.0077359027 & 0.0026167229 & Inf & 3.980905e-03 & 0.0149795422 & 0.5 & -14.239370 &  5.219517e-46\\\\\n",
       "\\end{tabular}\n",
       "\n",
       "\\item[\\$contrasts] A summary\\_emm: 2 × 10\n",
       "\\begin{tabular}{r|llllllllll}\n",
       "  & contrast & condition & odds.ratio & SE & df & asymp.LCL & asymp.UCL & null & z.ratio & p.value\\\\\n",
       "  & <fct> & <fct> & <dbl> & <dbl> & <dbl> & <dbl> & <dbl> & <dbl> & <dbl> & <dbl>\\\\\n",
       "\\hline\n",
       "\t1 & referred / none & p0 & 1.540397 & 3.036368 & Inf & 0.03234292 & 73.364557 & 1 & 0.2191809 & 8.265091e-01\\\\\n",
       "\t2 & referred / none & r0 & 5.573861 & 1.629934 & Inf & 3.14227225 &  9.887088 & 1 & 5.8753187 & 4.220307e-09\\\\\n",
       "\\end{tabular}\n",
       "\n",
       "\\end{description}\n"
      ],
      "text/markdown": [
       "$emmeans\n",
       ":   \n",
       "A summary_emm: 4 × 10\n",
       "\n",
       "| <!--/--> | refer_type_merge &lt;fct&gt; | condition &lt;fct&gt; | prob &lt;dbl&gt; | SE &lt;dbl&gt; | df &lt;dbl&gt; | asymp.LCL &lt;dbl&gt; | asymp.UCL &lt;dbl&gt; | null &lt;dbl&gt; | z.ratio &lt;dbl&gt; | p.value &lt;dbl&gt; |\n",
       "|---|---|---|---|---|---|---|---|---|---|---|\n",
       "| 1 | none     | p0 | 0.0003811326 | 0.0001833677 | Inf | 1.484216e-04 | 0.0009783549 | 0.5 | -16.355802 |  3.954700e-60 |\n",
       "| 2 | referred | p0 | 0.0005869747 | 0.0011715707 | Inf | 1.171973e-05 | 0.0285909129 | 0.5 |  -3.725336 |  1.950555e-04 |\n",
       "| 3 | none     | r0 | 0.0013967561 | 0.0003817022 | Inf | 8.173965e-04 | 0.0023857774 | 0.5 | -24.015964 | 1.894217e-127 |\n",
       "| 4 | referred | r0 | 0.0077359027 | 0.0026167229 | Inf | 3.980905e-03 | 0.0149795422 | 0.5 | -14.239370 |  5.219517e-46 |\n",
       "\n",
       "\n",
       "$contrasts\n",
       ":   \n",
       "A summary_emm: 2 × 10\n",
       "\n",
       "| <!--/--> | contrast &lt;fct&gt; | condition &lt;fct&gt; | odds.ratio &lt;dbl&gt; | SE &lt;dbl&gt; | df &lt;dbl&gt; | asymp.LCL &lt;dbl&gt; | asymp.UCL &lt;dbl&gt; | null &lt;dbl&gt; | z.ratio &lt;dbl&gt; | p.value &lt;dbl&gt; |\n",
       "|---|---|---|---|---|---|---|---|---|---|---|\n",
       "| 1 | referred / none | p0 | 1.540397 | 3.036368 | Inf | 0.03234292 | 73.364557 | 1 | 0.2191809 | 8.265091e-01 |\n",
       "| 2 | referred / none | r0 | 5.573861 | 1.629934 | Inf | 3.14227225 |  9.887088 | 1 | 5.8753187 | 4.220307e-09 |\n",
       "\n",
       "\n",
       "\n",
       "\n"
      ],
      "text/plain": [
       "$emmeans\n",
       "condition = p0:\n",
       " refer_type_merge     prob       SE  df asymp.LCL asymp.UCL null z.ratio\n",
       " none             0.000381 0.000183 Inf  1.48e-04  0.000978  0.5 -16.356\n",
       " referred         0.000587 0.001172 Inf  1.17e-05  0.028591  0.5  -3.725\n",
       " p.value\n",
       "  <.0001\n",
       "  0.0002\n",
       "\n",
       "condition = r0:\n",
       " refer_type_merge     prob       SE  df asymp.LCL asymp.UCL null z.ratio\n",
       " none             0.001397 0.000382 Inf  8.17e-04  0.002386  0.5 -24.016\n",
       " referred         0.007736 0.002617 Inf  3.98e-03  0.014980  0.5 -14.239\n",
       " p.value\n",
       "  <.0001\n",
       "  <.0001\n",
       "\n",
       "Results are averaged over the levels of: main_or_gap \n",
       "Confidence level used: 0.95 \n",
       "Intervals are back-transformed from the logit scale \n",
       "Tests are performed on the logit scale \n",
       "\n",
       "$contrasts\n",
       "condition = p0:\n",
       " contrast        odds.ratio   SE  df asymp.LCL asymp.UCL null z.ratio p.value\n",
       " referred / none       1.54 3.04 Inf    0.0323     73.36    1   0.219  0.8265\n",
       "\n",
       "condition = r0:\n",
       " contrast        odds.ratio   SE  df asymp.LCL asymp.UCL null z.ratio p.value\n",
       " referred / none       5.57 1.63 Inf    3.1423      9.89    1   5.875  <.0001\n",
       "\n",
       "Results are averaged over the levels of: main_or_gap \n",
       "Confidence level used: 0.95 \n",
       "Intervals are back-transformed from the log odds ratio scale \n",
       "Tests are performed on the log odds ratio scale \n"
      ]
     },
     "metadata": {},
     "output_type": "display_data"
    }
   ],
   "source": [
    "emmeans(p0_r0_seg_seg_type_1, revpairwise ~ refer_type_merge|condition, \n",
    "              type='response') %>% summary(infer = TRUE)"
   ]
  },
  {
   "cell_type": "code",
   "execution_count": 67,
   "metadata": {
    "vscode": {
     "languageId": "r"
    }
   },
   "outputs": [
    {
     "name": "stderr",
     "output_type": "stream",
     "text": [
      "NOTE: Results may be misleading due to involvement in interactions\n",
      "\n"
     ]
    },
    {
     "data": {
      "text/html": [
       "<dl>\n",
       "\t<dt>$emmeans</dt>\n",
       "\t\t<dd><table class=\"dataframe\">\n",
       "<caption>A summary_emm: 4 × 10</caption>\n",
       "<thead>\n",
       "\t<tr><th></th><th scope=col>condition</th><th scope=col>refer_type_merge</th><th scope=col>prob</th><th scope=col>SE</th><th scope=col>df</th><th scope=col>asymp.LCL</th><th scope=col>asymp.UCL</th><th scope=col>null</th><th scope=col>z.ratio</th><th scope=col>p.value</th></tr>\n",
       "\t<tr><th></th><th scope=col>&lt;fct&gt;</th><th scope=col>&lt;fct&gt;</th><th scope=col>&lt;dbl&gt;</th><th scope=col>&lt;dbl&gt;</th><th scope=col>&lt;dbl&gt;</th><th scope=col>&lt;dbl&gt;</th><th scope=col>&lt;dbl&gt;</th><th scope=col>&lt;dbl&gt;</th><th scope=col>&lt;dbl&gt;</th><th scope=col>&lt;dbl&gt;</th></tr>\n",
       "</thead>\n",
       "<tbody>\n",
       "\t<tr><th scope=row>1</th><td>p0</td><td>none    </td><td>0.0003811326</td><td>0.0001833677</td><td>Inf</td><td>1.484216e-04</td><td>0.0009783549</td><td>0.5</td><td>-16.355802</td><td> 3.954700e-60</td></tr>\n",
       "\t<tr><th scope=row>2</th><td>r0</td><td>none    </td><td>0.0013967561</td><td>0.0003817022</td><td>Inf</td><td>8.173965e-04</td><td>0.0023857774</td><td>0.5</td><td>-24.015964</td><td>1.894217e-127</td></tr>\n",
       "\t<tr><th scope=row>3</th><td>p0</td><td>referred</td><td>0.0005869747</td><td>0.0011715707</td><td>Inf</td><td>1.171973e-05</td><td>0.0285909129</td><td>0.5</td><td> -3.725336</td><td> 1.950555e-04</td></tr>\n",
       "\t<tr><th scope=row>4</th><td>r0</td><td>referred</td><td>0.0077359027</td><td>0.0026167229</td><td>Inf</td><td>3.980905e-03</td><td>0.0149795422</td><td>0.5</td><td>-14.239370</td><td> 5.219517e-46</td></tr>\n",
       "</tbody>\n",
       "</table>\n",
       "</dd>\n",
       "\t<dt>$contrasts</dt>\n",
       "\t\t<dd><table class=\"dataframe\">\n",
       "<caption>A summary_emm: 2 × 10</caption>\n",
       "<thead>\n",
       "\t<tr><th></th><th scope=col>contrast</th><th scope=col>refer_type_merge</th><th scope=col>odds.ratio</th><th scope=col>SE</th><th scope=col>df</th><th scope=col>asymp.LCL</th><th scope=col>asymp.UCL</th><th scope=col>null</th><th scope=col>z.ratio</th><th scope=col>p.value</th></tr>\n",
       "\t<tr><th></th><th scope=col>&lt;fct&gt;</th><th scope=col>&lt;fct&gt;</th><th scope=col>&lt;dbl&gt;</th><th scope=col>&lt;dbl&gt;</th><th scope=col>&lt;dbl&gt;</th><th scope=col>&lt;dbl&gt;</th><th scope=col>&lt;dbl&gt;</th><th scope=col>&lt;dbl&gt;</th><th scope=col>&lt;dbl&gt;</th><th scope=col>&lt;dbl&gt;</th></tr>\n",
       "</thead>\n",
       "<tbody>\n",
       "\t<tr><th scope=row>1</th><td>r0 / p0</td><td>none    </td><td> 3.668479</td><td> 1.82820</td><td>Inf</td><td>1.3812956</td><td>  9.742836</td><td>1</td><td>2.608142</td><td>0.009103518</td></tr>\n",
       "\t<tr><th scope=row>2</th><td>r0 / p0</td><td>referred</td><td>13.274231</td><td>26.67254</td><td>Inf</td><td>0.2586126</td><td>681.348092</td><td>1</td><td>1.286898</td><td>0.198129954</td></tr>\n",
       "</tbody>\n",
       "</table>\n",
       "</dd>\n",
       "</dl>\n"
      ],
      "text/latex": [
       "\\begin{description}\n",
       "\\item[\\$emmeans] A summary\\_emm: 4 × 10\n",
       "\\begin{tabular}{r|llllllllll}\n",
       "  & condition & refer\\_type\\_merge & prob & SE & df & asymp.LCL & asymp.UCL & null & z.ratio & p.value\\\\\n",
       "  & <fct> & <fct> & <dbl> & <dbl> & <dbl> & <dbl> & <dbl> & <dbl> & <dbl> & <dbl>\\\\\n",
       "\\hline\n",
       "\t1 & p0 & none     & 0.0003811326 & 0.0001833677 & Inf & 1.484216e-04 & 0.0009783549 & 0.5 & -16.355802 &  3.954700e-60\\\\\n",
       "\t2 & r0 & none     & 0.0013967561 & 0.0003817022 & Inf & 8.173965e-04 & 0.0023857774 & 0.5 & -24.015964 & 1.894217e-127\\\\\n",
       "\t3 & p0 & referred & 0.0005869747 & 0.0011715707 & Inf & 1.171973e-05 & 0.0285909129 & 0.5 &  -3.725336 &  1.950555e-04\\\\\n",
       "\t4 & r0 & referred & 0.0077359027 & 0.0026167229 & Inf & 3.980905e-03 & 0.0149795422 & 0.5 & -14.239370 &  5.219517e-46\\\\\n",
       "\\end{tabular}\n",
       "\n",
       "\\item[\\$contrasts] A summary\\_emm: 2 × 10\n",
       "\\begin{tabular}{r|llllllllll}\n",
       "  & contrast & refer\\_type\\_merge & odds.ratio & SE & df & asymp.LCL & asymp.UCL & null & z.ratio & p.value\\\\\n",
       "  & <fct> & <fct> & <dbl> & <dbl> & <dbl> & <dbl> & <dbl> & <dbl> & <dbl> & <dbl>\\\\\n",
       "\\hline\n",
       "\t1 & r0 / p0 & none     &  3.668479 &  1.82820 & Inf & 1.3812956 &   9.742836 & 1 & 2.608142 & 0.009103518\\\\\n",
       "\t2 & r0 / p0 & referred & 13.274231 & 26.67254 & Inf & 0.2586126 & 681.348092 & 1 & 1.286898 & 0.198129954\\\\\n",
       "\\end{tabular}\n",
       "\n",
       "\\end{description}\n"
      ],
      "text/markdown": [
       "$emmeans\n",
       ":   \n",
       "A summary_emm: 4 × 10\n",
       "\n",
       "| <!--/--> | condition &lt;fct&gt; | refer_type_merge &lt;fct&gt; | prob &lt;dbl&gt; | SE &lt;dbl&gt; | df &lt;dbl&gt; | asymp.LCL &lt;dbl&gt; | asymp.UCL &lt;dbl&gt; | null &lt;dbl&gt; | z.ratio &lt;dbl&gt; | p.value &lt;dbl&gt; |\n",
       "|---|---|---|---|---|---|---|---|---|---|---|\n",
       "| 1 | p0 | none     | 0.0003811326 | 0.0001833677 | Inf | 1.484216e-04 | 0.0009783549 | 0.5 | -16.355802 |  3.954700e-60 |\n",
       "| 2 | r0 | none     | 0.0013967561 | 0.0003817022 | Inf | 8.173965e-04 | 0.0023857774 | 0.5 | -24.015964 | 1.894217e-127 |\n",
       "| 3 | p0 | referred | 0.0005869747 | 0.0011715707 | Inf | 1.171973e-05 | 0.0285909129 | 0.5 |  -3.725336 |  1.950555e-04 |\n",
       "| 4 | r0 | referred | 0.0077359027 | 0.0026167229 | Inf | 3.980905e-03 | 0.0149795422 | 0.5 | -14.239370 |  5.219517e-46 |\n",
       "\n",
       "\n",
       "$contrasts\n",
       ":   \n",
       "A summary_emm: 2 × 10\n",
       "\n",
       "| <!--/--> | contrast &lt;fct&gt; | refer_type_merge &lt;fct&gt; | odds.ratio &lt;dbl&gt; | SE &lt;dbl&gt; | df &lt;dbl&gt; | asymp.LCL &lt;dbl&gt; | asymp.UCL &lt;dbl&gt; | null &lt;dbl&gt; | z.ratio &lt;dbl&gt; | p.value &lt;dbl&gt; |\n",
       "|---|---|---|---|---|---|---|---|---|---|---|\n",
       "| 1 | r0 / p0 | none     |  3.668479 |  1.82820 | Inf | 1.3812956 |   9.742836 | 1 | 2.608142 | 0.009103518 |\n",
       "| 2 | r0 / p0 | referred | 13.274231 | 26.67254 | Inf | 0.2586126 | 681.348092 | 1 | 1.286898 | 0.198129954 |\n",
       "\n",
       "\n",
       "\n",
       "\n"
      ],
      "text/plain": [
       "$emmeans\n",
       "refer_type_merge = none:\n",
       " condition     prob       SE  df asymp.LCL asymp.UCL null z.ratio p.value\n",
       " p0        0.000381 0.000183 Inf  1.48e-04  0.000978  0.5 -16.356  <.0001\n",
       " r0        0.001397 0.000382 Inf  8.17e-04  0.002386  0.5 -24.016  <.0001\n",
       "\n",
       "refer_type_merge = referred:\n",
       " condition     prob       SE  df asymp.LCL asymp.UCL null z.ratio p.value\n",
       " p0        0.000587 0.001172 Inf  1.17e-05  0.028591  0.5  -3.725  0.0002\n",
       " r0        0.007736 0.002617 Inf  3.98e-03  0.014980  0.5 -14.239  <.0001\n",
       "\n",
       "Results are averaged over the levels of: main_or_gap \n",
       "Confidence level used: 0.95 \n",
       "Intervals are back-transformed from the logit scale \n",
       "Tests are performed on the logit scale \n",
       "\n",
       "$contrasts\n",
       "refer_type_merge = none:\n",
       " contrast odds.ratio    SE  df asymp.LCL asymp.UCL null z.ratio p.value\n",
       " r0 / p0        3.67  1.83 Inf     1.381      9.74    1   2.608  0.0091\n",
       "\n",
       "refer_type_merge = referred:\n",
       " contrast odds.ratio    SE  df asymp.LCL asymp.UCL null z.ratio p.value\n",
       " r0 / p0       13.27 26.67 Inf     0.259    681.35    1   1.287  0.1981\n",
       "\n",
       "Results are averaged over the levels of: main_or_gap \n",
       "Confidence level used: 0.95 \n",
       "Intervals are back-transformed from the log odds ratio scale \n",
       "Tests are performed on the log odds ratio scale \n"
      ]
     },
     "metadata": {},
     "output_type": "display_data"
    }
   ],
   "source": [
    "emmeans(p0_r0_seg_seg_type_1, revpairwise ~ condition|refer_type_merge, type='response') %>% summary(infer = TRUE)"
   ]
  },
  {
   "cell_type": "code",
   "execution_count": 68,
   "metadata": {
    "vscode": {
     "languageId": "r"
    }
   },
   "outputs": [
    {
     "data": {
      "text/html": [
       "<dl>\n",
       "\t<dt>$emmeans</dt>\n",
       "\t\t<dd><table class=\"dataframe\">\n",
       "<caption>A summary_emm: 8 × 11</caption>\n",
       "<thead>\n",
       "\t<tr><th></th><th scope=col>condition</th><th scope=col>refer_type_merge</th><th scope=col>main_or_gap</th><th scope=col>prob</th><th scope=col>SE</th><th scope=col>df</th><th scope=col>asymp.LCL</th><th scope=col>asymp.UCL</th><th scope=col>null</th><th scope=col>z.ratio</th><th scope=col>p.value</th></tr>\n",
       "\t<tr><th></th><th scope=col>&lt;fct&gt;</th><th scope=col>&lt;fct&gt;</th><th scope=col>&lt;fct&gt;</th><th scope=col>&lt;dbl&gt;</th><th scope=col>&lt;dbl&gt;</th><th scope=col>&lt;dbl&gt;</th><th scope=col>&lt;dbl&gt;</th><th scope=col>&lt;dbl&gt;</th><th scope=col>&lt;dbl&gt;</th><th scope=col>&lt;dbl&gt;</th><th scope=col>&lt;dbl&gt;</th></tr>\n",
       "</thead>\n",
       "<tbody>\n",
       "\t<tr><th scope=row>1</th><td>p0</td><td>none    </td><td>gap </td><td>1.687042e-04</td><td>1.377118e-04</td><td>Inf</td><td>3.405955e-05</td><td>0.0008351836</td><td>0.5</td><td>-10.640479</td><td>1.931342e-26</td></tr>\n",
       "\t<tr><th scope=row>2</th><td>r0</td><td>none    </td><td>gap </td><td>2.336677e-03</td><td>8.589587e-04</td><td>Inf</td><td>1.136286e-03</td><td>0.0047990868</td><td>0.5</td><td>-16.437868</td><td>1.024608e-60</td></tr>\n",
       "\t<tr><th scope=row>3</th><td>p0</td><td>referred</td><td>gap </td><td>1.488384e-05</td><td>5.820469e-05</td><td>Inf</td><td>6.981761e-09</td><td>0.0307546939</td><td>0.5</td><td> -2.842290</td><td>4.479067e-03</td></tr>\n",
       "\t<tr><th scope=row>4</th><td>r0</td><td>referred</td><td>gap </td><td>7.103687e-03</td><td>3.319968e-03</td><td>Inf</td><td>2.835856e-03</td><td>0.0176805196</td><td>0.5</td><td>-10.494987</td><td>9.109045e-26</td></tr>\n",
       "\t<tr><th scope=row>5</th><td>p0</td><td>none    </td><td>main</td><td>8.608152e-04</td><td>3.490822e-04</td><td>Inf</td><td>3.887175e-04</td><td>0.0019051830</td><td>0.5</td><td>-17.386581</td><td>1.042717e-67</td></tr>\n",
       "\t<tr><th scope=row>6</th><td>r0</td><td>none    </td><td>main</td><td>8.345991e-04</td><td>3.093865e-04</td><td>Inf</td><td>4.035159e-04</td><td>0.0017254214</td><td>0.5</td><td>-19.103842</td><td>2.345755e-81</td></tr>\n",
       "\t<tr><th scope=row>7</th><td>p0</td><td>referred</td><td>main</td><td>2.265047e-02</td><td>1.664161e-02</td><td>Inf</td><td>5.282555e-03</td><td>0.0918478681</td><td>0.5</td><td> -5.007926</td><td>5.501956e-07</td></tr>\n",
       "\t<tr><th scope=row>8</th><td>r0</td><td>referred</td><td>main</td><td>8.423907e-03</td><td>3.480447e-03</td><td>Inf</td><td>3.740136e-03</td><td>0.0188621107</td><td>0.5</td><td>-11.443558</td><td>2.532802e-30</td></tr>\n",
       "</tbody>\n",
       "</table>\n",
       "</dd>\n",
       "\t<dt>$contrasts</dt>\n",
       "\t\t<dd><table class=\"dataframe\">\n",
       "<caption>A summary_emm: 4 × 11</caption>\n",
       "<thead>\n",
       "\t<tr><th></th><th scope=col>contrast</th><th scope=col>refer_type_merge</th><th scope=col>main_or_gap</th><th scope=col>odds.ratio</th><th scope=col>SE</th><th scope=col>df</th><th scope=col>asymp.LCL</th><th scope=col>asymp.UCL</th><th scope=col>null</th><th scope=col>z.ratio</th><th scope=col>p.value</th></tr>\n",
       "\t<tr><th></th><th scope=col>&lt;fct&gt;</th><th scope=col>&lt;fct&gt;</th><th scope=col>&lt;fct&gt;</th><th scope=col>&lt;dbl&gt;</th><th scope=col>&lt;dbl&gt;</th><th scope=col>&lt;dbl&gt;</th><th scope=col>&lt;dbl&gt;</th><th scope=col>&lt;dbl&gt;</th><th scope=col>&lt;dbl&gt;</th><th scope=col>&lt;dbl&gt;</th><th scope=col>&lt;dbl&gt;</th></tr>\n",
       "</thead>\n",
       "<tbody>\n",
       "\t<tr><th scope=row>1</th><td>r0 / p0</td><td>none    </td><td>gap </td><td> 13.8808285</td><td>  11.9293739</td><td>Inf</td><td>2.5756161</td><td>7.480828e+01</td><td>1</td><td> 3.06081774</td><td>0.002207334</td></tr>\n",
       "\t<tr><th scope=row>2</th><td>r0 / p0</td><td>referred</td><td>gap </td><td>480.6827953</td><td>1887.2188141</td><td>Inf</td><td>0.2187451</td><td>1.056279e+06</td><td>1</td><td> 1.57285208</td><td>0.115753073</td></tr>\n",
       "\t<tr><th scope=row>3</th><td>r0 / p0</td><td>none    </td><td>main</td><td>  0.9695197</td><td>   0.4821229</td><td>Inf</td><td>0.3658229</td><td>2.569463e+00</td><td>1</td><td>-0.06224764</td><td>0.950365622</td></tr>\n",
       "\t<tr><th scope=row>4</th><td>r0 / p0</td><td>referred</td><td>main</td><td>  0.3665727</td><td>   0.3078959</td><td>Inf</td><td>0.0706658</td><td>1.901564e+00</td><td>1</td><td>-1.19480997</td><td>0.232161284</td></tr>\n",
       "</tbody>\n",
       "</table>\n",
       "</dd>\n",
       "</dl>\n"
      ],
      "text/latex": [
       "\\begin{description}\n",
       "\\item[\\$emmeans] A summary\\_emm: 8 × 11\n",
       "\\begin{tabular}{r|lllllllllll}\n",
       "  & condition & refer\\_type\\_merge & main\\_or\\_gap & prob & SE & df & asymp.LCL & asymp.UCL & null & z.ratio & p.value\\\\\n",
       "  & <fct> & <fct> & <fct> & <dbl> & <dbl> & <dbl> & <dbl> & <dbl> & <dbl> & <dbl> & <dbl>\\\\\n",
       "\\hline\n",
       "\t1 & p0 & none     & gap  & 1.687042e-04 & 1.377118e-04 & Inf & 3.405955e-05 & 0.0008351836 & 0.5 & -10.640479 & 1.931342e-26\\\\\n",
       "\t2 & r0 & none     & gap  & 2.336677e-03 & 8.589587e-04 & Inf & 1.136286e-03 & 0.0047990868 & 0.5 & -16.437868 & 1.024608e-60\\\\\n",
       "\t3 & p0 & referred & gap  & 1.488384e-05 & 5.820469e-05 & Inf & 6.981761e-09 & 0.0307546939 & 0.5 &  -2.842290 & 4.479067e-03\\\\\n",
       "\t4 & r0 & referred & gap  & 7.103687e-03 & 3.319968e-03 & Inf & 2.835856e-03 & 0.0176805196 & 0.5 & -10.494987 & 9.109045e-26\\\\\n",
       "\t5 & p0 & none     & main & 8.608152e-04 & 3.490822e-04 & Inf & 3.887175e-04 & 0.0019051830 & 0.5 & -17.386581 & 1.042717e-67\\\\\n",
       "\t6 & r0 & none     & main & 8.345991e-04 & 3.093865e-04 & Inf & 4.035159e-04 & 0.0017254214 & 0.5 & -19.103842 & 2.345755e-81\\\\\n",
       "\t7 & p0 & referred & main & 2.265047e-02 & 1.664161e-02 & Inf & 5.282555e-03 & 0.0918478681 & 0.5 &  -5.007926 & 5.501956e-07\\\\\n",
       "\t8 & r0 & referred & main & 8.423907e-03 & 3.480447e-03 & Inf & 3.740136e-03 & 0.0188621107 & 0.5 & -11.443558 & 2.532802e-30\\\\\n",
       "\\end{tabular}\n",
       "\n",
       "\\item[\\$contrasts] A summary\\_emm: 4 × 11\n",
       "\\begin{tabular}{r|lllllllllll}\n",
       "  & contrast & refer\\_type\\_merge & main\\_or\\_gap & odds.ratio & SE & df & asymp.LCL & asymp.UCL & null & z.ratio & p.value\\\\\n",
       "  & <fct> & <fct> & <fct> & <dbl> & <dbl> & <dbl> & <dbl> & <dbl> & <dbl> & <dbl> & <dbl>\\\\\n",
       "\\hline\n",
       "\t1 & r0 / p0 & none     & gap  &  13.8808285 &   11.9293739 & Inf & 2.5756161 & 7.480828e+01 & 1 &  3.06081774 & 0.002207334\\\\\n",
       "\t2 & r0 / p0 & referred & gap  & 480.6827953 & 1887.2188141 & Inf & 0.2187451 & 1.056279e+06 & 1 &  1.57285208 & 0.115753073\\\\\n",
       "\t3 & r0 / p0 & none     & main &   0.9695197 &    0.4821229 & Inf & 0.3658229 & 2.569463e+00 & 1 & -0.06224764 & 0.950365622\\\\\n",
       "\t4 & r0 / p0 & referred & main &   0.3665727 &    0.3078959 & Inf & 0.0706658 & 1.901564e+00 & 1 & -1.19480997 & 0.232161284\\\\\n",
       "\\end{tabular}\n",
       "\n",
       "\\end{description}\n"
      ],
      "text/markdown": [
       "$emmeans\n",
       ":   \n",
       "A summary_emm: 8 × 11\n",
       "\n",
       "| <!--/--> | condition &lt;fct&gt; | refer_type_merge &lt;fct&gt; | main_or_gap &lt;fct&gt; | prob &lt;dbl&gt; | SE &lt;dbl&gt; | df &lt;dbl&gt; | asymp.LCL &lt;dbl&gt; | asymp.UCL &lt;dbl&gt; | null &lt;dbl&gt; | z.ratio &lt;dbl&gt; | p.value &lt;dbl&gt; |\n",
       "|---|---|---|---|---|---|---|---|---|---|---|---|\n",
       "| 1 | p0 | none     | gap  | 1.687042e-04 | 1.377118e-04 | Inf | 3.405955e-05 | 0.0008351836 | 0.5 | -10.640479 | 1.931342e-26 |\n",
       "| 2 | r0 | none     | gap  | 2.336677e-03 | 8.589587e-04 | Inf | 1.136286e-03 | 0.0047990868 | 0.5 | -16.437868 | 1.024608e-60 |\n",
       "| 3 | p0 | referred | gap  | 1.488384e-05 | 5.820469e-05 | Inf | 6.981761e-09 | 0.0307546939 | 0.5 |  -2.842290 | 4.479067e-03 |\n",
       "| 4 | r0 | referred | gap  | 7.103687e-03 | 3.319968e-03 | Inf | 2.835856e-03 | 0.0176805196 | 0.5 | -10.494987 | 9.109045e-26 |\n",
       "| 5 | p0 | none     | main | 8.608152e-04 | 3.490822e-04 | Inf | 3.887175e-04 | 0.0019051830 | 0.5 | -17.386581 | 1.042717e-67 |\n",
       "| 6 | r0 | none     | main | 8.345991e-04 | 3.093865e-04 | Inf | 4.035159e-04 | 0.0017254214 | 0.5 | -19.103842 | 2.345755e-81 |\n",
       "| 7 | p0 | referred | main | 2.265047e-02 | 1.664161e-02 | Inf | 5.282555e-03 | 0.0918478681 | 0.5 |  -5.007926 | 5.501956e-07 |\n",
       "| 8 | r0 | referred | main | 8.423907e-03 | 3.480447e-03 | Inf | 3.740136e-03 | 0.0188621107 | 0.5 | -11.443558 | 2.532802e-30 |\n",
       "\n",
       "\n",
       "$contrasts\n",
       ":   \n",
       "A summary_emm: 4 × 11\n",
       "\n",
       "| <!--/--> | contrast &lt;fct&gt; | refer_type_merge &lt;fct&gt; | main_or_gap &lt;fct&gt; | odds.ratio &lt;dbl&gt; | SE &lt;dbl&gt; | df &lt;dbl&gt; | asymp.LCL &lt;dbl&gt; | asymp.UCL &lt;dbl&gt; | null &lt;dbl&gt; | z.ratio &lt;dbl&gt; | p.value &lt;dbl&gt; |\n",
       "|---|---|---|---|---|---|---|---|---|---|---|---|\n",
       "| 1 | r0 / p0 | none     | gap  |  13.8808285 |   11.9293739 | Inf | 2.5756161 | 7.480828e+01 | 1 |  3.06081774 | 0.002207334 |\n",
       "| 2 | r0 / p0 | referred | gap  | 480.6827953 | 1887.2188141 | Inf | 0.2187451 | 1.056279e+06 | 1 |  1.57285208 | 0.115753073 |\n",
       "| 3 | r0 / p0 | none     | main |   0.9695197 |    0.4821229 | Inf | 0.3658229 | 2.569463e+00 | 1 | -0.06224764 | 0.950365622 |\n",
       "| 4 | r0 / p0 | referred | main |   0.3665727 |    0.3078959 | Inf | 0.0706658 | 1.901564e+00 | 1 | -1.19480997 | 0.232161284 |\n",
       "\n",
       "\n",
       "\n",
       "\n"
      ],
      "text/plain": [
       "$emmeans\n",
       "refer_type_merge = none, main_or_gap = gap:\n",
       " condition     prob       SE  df asymp.LCL asymp.UCL null z.ratio p.value\n",
       " p0        1.69e-04 1.38e-04 Inf  3.41e-05  0.000835  0.5 -10.640  <.0001\n",
       " r0        2.34e-03 8.59e-04 Inf  1.14e-03  0.004799  0.5 -16.438  <.0001\n",
       "\n",
       "refer_type_merge = referred, main_or_gap = gap:\n",
       " condition     prob       SE  df asymp.LCL asymp.UCL null z.ratio p.value\n",
       " p0        1.49e-05 5.82e-05 Inf  7.00e-09  0.030755  0.5  -2.842  0.0045\n",
       " r0        7.10e-03 3.32e-03 Inf  2.84e-03  0.017681  0.5 -10.495  <.0001\n",
       "\n",
       "refer_type_merge = none, main_or_gap = main:\n",
       " condition     prob       SE  df asymp.LCL asymp.UCL null z.ratio p.value\n",
       " p0        8.61e-04 3.49e-04 Inf  3.89e-04  0.001905  0.5 -17.387  <.0001\n",
       " r0        8.35e-04 3.09e-04 Inf  4.04e-04  0.001725  0.5 -19.104  <.0001\n",
       "\n",
       "refer_type_merge = referred, main_or_gap = main:\n",
       " condition     prob       SE  df asymp.LCL asymp.UCL null z.ratio p.value\n",
       " p0        2.27e-02 1.66e-02 Inf  5.28e-03  0.091848  0.5  -5.008  <.0001\n",
       " r0        8.42e-03 3.48e-03 Inf  3.74e-03  0.018862  0.5 -11.444  <.0001\n",
       "\n",
       "Confidence level used: 0.95 \n",
       "Intervals are back-transformed from the logit scale \n",
       "Tests are performed on the logit scale \n",
       "\n",
       "$contrasts\n",
       "refer_type_merge = none, main_or_gap = gap:\n",
       " contrast odds.ratio       SE  df asymp.LCL asymp.UCL null z.ratio p.value\n",
       " r0 / p0      13.881   11.929 Inf    2.5756  7.48e+01    1   3.061  0.0022\n",
       "\n",
       "refer_type_merge = referred, main_or_gap = gap:\n",
       " contrast odds.ratio       SE  df asymp.LCL asymp.UCL null z.ratio p.value\n",
       " r0 / p0     480.683 1887.219 Inf    0.2187  1.06e+06    1   1.573  0.1158\n",
       "\n",
       "refer_type_merge = none, main_or_gap = main:\n",
       " contrast odds.ratio       SE  df asymp.LCL asymp.UCL null z.ratio p.value\n",
       " r0 / p0       0.970    0.482 Inf    0.3658  2.60e+00    1  -0.062  0.9504\n",
       "\n",
       "refer_type_merge = referred, main_or_gap = main:\n",
       " contrast odds.ratio       SE  df asymp.LCL asymp.UCL null z.ratio p.value\n",
       " r0 / p0       0.367    0.308 Inf    0.0707  1.90e+00    1  -1.195  0.2322\n",
       "\n",
       "Confidence level used: 0.95 \n",
       "Intervals are back-transformed from the log odds ratio scale \n",
       "Tests are performed on the log odds ratio scale \n"
      ]
     },
     "metadata": {},
     "output_type": "display_data"
    }
   ],
   "source": [
    "emmeans(p0_r0_seg_seg_type_1, revpairwise ~ condition|refer_type_merge*main_or_gap, \n",
    "              type='response') %>% summary(infer = TRUE)"
   ]
  },
  {
   "attachments": {},
   "cell_type": "markdown",
   "metadata": {},
   "source": [
    "# figure 4"
   ]
  },
  {
   "attachments": {},
   "cell_type": "markdown",
   "metadata": {},
   "source": [
    "### ori"
   ]
  },
  {
   "cell_type": "code",
   "execution_count": 8,
   "metadata": {
    "vscode": {
     "languageId": "r"
    }
   },
   "outputs": [],
   "source": [
    "p0_r0_seg_seg_boost_type_tri_1 <- readRDS(\"../stats_models/rep/p0_r0_seg_seg_boost_type_tri_1.rds\")"
   ]
  },
  {
   "cell_type": "code",
   "execution_count": 75,
   "metadata": {
    "vscode": {
     "languageId": "r"
    }
   },
   "outputs": [
    {
     "name": "stderr",
     "output_type": "stream",
     "text": [
      "Warning message in vcov.merMod(object, correlation = FALSE):\n",
      "\"variance-covariance matrix computed from finite-difference Hessian is\n",
      "not positive definite or contains NA values: falling back to var-cov estimated from RX\"\n",
      "NOTE: Results may be misleading due to involvement in interactions\n",
      "\n"
     ]
    },
    {
     "data": {
      "text/html": [
       "<dl>\n",
       "\t<dt>$emmeans</dt>\n",
       "\t\t<dd><table class=\"dataframe\">\n",
       "<caption>A summary_emm: 6 × 10</caption>\n",
       "<thead>\n",
       "\t<tr><th></th><th scope=col>refer_boost_type_tri</th><th scope=col>condition</th><th scope=col>prob</th><th scope=col>SE</th><th scope=col>df</th><th scope=col>asymp.LCL</th><th scope=col>asymp.UCL</th><th scope=col>null</th><th scope=col>z.ratio</th><th scope=col>p.value</th></tr>\n",
       "\t<tr><th></th><th scope=col>&lt;fct&gt;</th><th scope=col>&lt;fct&gt;</th><th scope=col>&lt;dbl&gt;</th><th scope=col>&lt;dbl&gt;</th><th scope=col>&lt;dbl&gt;</th><th scope=col>&lt;dbl&gt;</th><th scope=col>&lt;dbl&gt;</th><th scope=col>&lt;dbl&gt;</th><th scope=col>&lt;dbl&gt;</th><th scope=col>&lt;dbl&gt;</th></tr>\n",
       "</thead>\n",
       "<tbody>\n",
       "\t<tr><th scope=row>1</th><td>neighbor</td><td>p0</td><td>3.215633e-04</td><td>0.0002276630</td><td>Inf</td><td>8.026694e-05</td><td>0.001287304</td><td>0.5</td><td>-11.355284695</td><td> 6.981211e-30</td></tr>\n",
       "\t<tr><th scope=row>2</th><td>none    </td><td>p0</td><td>1.695629e-07</td><td>0.0001859058</td><td>Inf</td><td>2.220446e-16</td><td>1.000000000</td><td>0.5</td><td> -0.014219522</td><td> 9.886548e-01</td></tr>\n",
       "\t<tr><th scope=row>3</th><td>referred</td><td>p0</td><td>6.709239e-08</td><td>0.0003462766</td><td>Inf</td><td>2.220446e-16</td><td>1.000000000</td><td>0.5</td><td> -0.003200268</td><td> 9.974466e-01</td></tr>\n",
       "\t<tr><th scope=row>4</th><td>neighbor</td><td>r0</td><td>1.272413e-03</td><td>0.0003634051</td><td>Inf</td><td>7.268584e-04</td><td>0.002226530</td><td>0.5</td><td>-23.308874878</td><td>3.603586e-120</td></tr>\n",
       "\t<tr><th scope=row>5</th><td>none    </td><td>r0</td><td>1.970735e-04</td><td>0.0002284720</td><td>Inf</td><td>2.030920e-05</td><td>0.001909397</td><td>0.5</td><td> -7.357788007</td><td> 1.869827e-13</td></tr>\n",
       "\t<tr><th scope=row>6</th><td>referred</td><td>r0</td><td>9.774208e-03</td><td>0.0031352184</td><td>Inf</td><td>5.204165e-03</td><td>0.018283679</td><td>0.5</td><td>-14.256713319</td><td> 4.071848e-46</td></tr>\n",
       "</tbody>\n",
       "</table>\n",
       "</dd>\n",
       "\t<dt>$contrasts</dt>\n",
       "\t\t<dd><table class=\"dataframe\">\n",
       "<caption>A summary_emm: 6 × 10</caption>\n",
       "<thead>\n",
       "\t<tr><th></th><th scope=col>contrast</th><th scope=col>condition</th><th scope=col>odds.ratio</th><th scope=col>SE</th><th scope=col>df</th><th scope=col>asymp.LCL</th><th scope=col>asymp.UCL</th><th scope=col>null</th><th scope=col>z.ratio</th><th scope=col>p.value</th></tr>\n",
       "\t<tr><th></th><th scope=col>&lt;fct&gt;</th><th scope=col>&lt;fct&gt;</th><th scope=col>&lt;dbl&gt;</th><th scope=col>&lt;dbl&gt;</th><th scope=col>&lt;dbl&gt;</th><th scope=col>&lt;dbl&gt;</th><th scope=col>&lt;dbl&gt;</th><th scope=col>&lt;dbl&gt;</th><th scope=col>&lt;dbl&gt;</th><th scope=col>&lt;dbl&gt;</th></tr>\n",
       "</thead>\n",
       "<tbody>\n",
       "\t<tr><th scope=row>1</th><td>neighbor / none    </td><td>p0</td><td>1.897035e+03</td><td>2.079877e+06</td><td>Inf</td><td>2.220446e-16</td><td>       Inf</td><td>1</td><td> 0.0068844978</td><td>9.945070e-01</td></tr>\n",
       "\t<tr><th scope=row>2</th><td>neighbor / referred</td><td>p0</td><td>4.794384e+03</td><td>2.474473e+07</td><td>Inf</td><td>2.220446e-16</td><td>       Inf</td><td>1</td><td> 0.0016421019</td><td>9.986898e-01</td></tr>\n",
       "\t<tr><th scope=row>3</th><td>none / referred    </td><td>p0</td><td>2.527304e+00</td><td>1.333496e+04</td><td>Inf</td><td>2.220446e-16</td><td>       Inf</td><td>1</td><td> 0.0001757185</td><td>9.998598e-01</td></tr>\n",
       "\t<tr><th scope=row>4</th><td>neighbor / none    </td><td>r0</td><td>6.463491e+00</td><td>7.613772e+00</td><td>Inf</td><td>6.423635e-01</td><td>65.0359487</td><td>1</td><td> 1.5842306623</td><td>1.131412e-01</td></tr>\n",
       "\t<tr><th scope=row>5</th><td>neighbor / referred</td><td>r0</td><td>1.290725e-01</td><td>4.196319e-02</td><td>Inf</td><td>6.824908e-02</td><td> 0.2441016</td><td>1</td><td>-6.2974379326</td><td>3.026055e-10</td></tr>\n",
       "\t<tr><th scope=row>6</th><td>none / referred    </td><td>r0</td><td>1.996947e-02</td><td>2.421133e-02</td><td>Inf</td><td>1.855048e-03</td><td> 0.2149701</td><td>1</td><td>-3.2278908262</td><td>1.247066e-03</td></tr>\n",
       "</tbody>\n",
       "</table>\n",
       "</dd>\n",
       "</dl>\n"
      ],
      "text/latex": [
       "\\begin{description}\n",
       "\\item[\\$emmeans] A summary\\_emm: 6 × 10\n",
       "\\begin{tabular}{r|llllllllll}\n",
       "  & refer\\_boost\\_type\\_tri & condition & prob & SE & df & asymp.LCL & asymp.UCL & null & z.ratio & p.value\\\\\n",
       "  & <fct> & <fct> & <dbl> & <dbl> & <dbl> & <dbl> & <dbl> & <dbl> & <dbl> & <dbl>\\\\\n",
       "\\hline\n",
       "\t1 & neighbor & p0 & 3.215633e-04 & 0.0002276630 & Inf & 8.026694e-05 & 0.001287304 & 0.5 & -11.355284695 &  6.981211e-30\\\\\n",
       "\t2 & none     & p0 & 1.695629e-07 & 0.0001859058 & Inf & 2.220446e-16 & 1.000000000 & 0.5 &  -0.014219522 &  9.886548e-01\\\\\n",
       "\t3 & referred & p0 & 6.709239e-08 & 0.0003462766 & Inf & 2.220446e-16 & 1.000000000 & 0.5 &  -0.003200268 &  9.974466e-01\\\\\n",
       "\t4 & neighbor & r0 & 1.272413e-03 & 0.0003634051 & Inf & 7.268584e-04 & 0.002226530 & 0.5 & -23.308874878 & 3.603586e-120\\\\\n",
       "\t5 & none     & r0 & 1.970735e-04 & 0.0002284720 & Inf & 2.030920e-05 & 0.001909397 & 0.5 &  -7.357788007 &  1.869827e-13\\\\\n",
       "\t6 & referred & r0 & 9.774208e-03 & 0.0031352184 & Inf & 5.204165e-03 & 0.018283679 & 0.5 & -14.256713319 &  4.071848e-46\\\\\n",
       "\\end{tabular}\n",
       "\n",
       "\\item[\\$contrasts] A summary\\_emm: 6 × 10\n",
       "\\begin{tabular}{r|llllllllll}\n",
       "  & contrast & condition & odds.ratio & SE & df & asymp.LCL & asymp.UCL & null & z.ratio & p.value\\\\\n",
       "  & <fct> & <fct> & <dbl> & <dbl> & <dbl> & <dbl> & <dbl> & <dbl> & <dbl> & <dbl>\\\\\n",
       "\\hline\n",
       "\t1 & neighbor / none     & p0 & 1.897035e+03 & 2.079877e+06 & Inf & 2.220446e-16 &        Inf & 1 &  0.0068844978 & 9.945070e-01\\\\\n",
       "\t2 & neighbor / referred & p0 & 4.794384e+03 & 2.474473e+07 & Inf & 2.220446e-16 &        Inf & 1 &  0.0016421019 & 9.986898e-01\\\\\n",
       "\t3 & none / referred     & p0 & 2.527304e+00 & 1.333496e+04 & Inf & 2.220446e-16 &        Inf & 1 &  0.0001757185 & 9.998598e-01\\\\\n",
       "\t4 & neighbor / none     & r0 & 6.463491e+00 & 7.613772e+00 & Inf & 6.423635e-01 & 65.0359487 & 1 &  1.5842306623 & 1.131412e-01\\\\\n",
       "\t5 & neighbor / referred & r0 & 1.290725e-01 & 4.196319e-02 & Inf & 6.824908e-02 &  0.2441016 & 1 & -6.2974379326 & 3.026055e-10\\\\\n",
       "\t6 & none / referred     & r0 & 1.996947e-02 & 2.421133e-02 & Inf & 1.855048e-03 &  0.2149701 & 1 & -3.2278908262 & 1.247066e-03\\\\\n",
       "\\end{tabular}\n",
       "\n",
       "\\end{description}\n"
      ],
      "text/markdown": [
       "$emmeans\n",
       ":   \n",
       "A summary_emm: 6 × 10\n",
       "\n",
       "| <!--/--> | refer_boost_type_tri &lt;fct&gt; | condition &lt;fct&gt; | prob &lt;dbl&gt; | SE &lt;dbl&gt; | df &lt;dbl&gt; | asymp.LCL &lt;dbl&gt; | asymp.UCL &lt;dbl&gt; | null &lt;dbl&gt; | z.ratio &lt;dbl&gt; | p.value &lt;dbl&gt; |\n",
       "|---|---|---|---|---|---|---|---|---|---|---|\n",
       "| 1 | neighbor | p0 | 3.215633e-04 | 0.0002276630 | Inf | 8.026694e-05 | 0.001287304 | 0.5 | -11.355284695 |  6.981211e-30 |\n",
       "| 2 | none     | p0 | 1.695629e-07 | 0.0001859058 | Inf | 2.220446e-16 | 1.000000000 | 0.5 |  -0.014219522 |  9.886548e-01 |\n",
       "| 3 | referred | p0 | 6.709239e-08 | 0.0003462766 | Inf | 2.220446e-16 | 1.000000000 | 0.5 |  -0.003200268 |  9.974466e-01 |\n",
       "| 4 | neighbor | r0 | 1.272413e-03 | 0.0003634051 | Inf | 7.268584e-04 | 0.002226530 | 0.5 | -23.308874878 | 3.603586e-120 |\n",
       "| 5 | none     | r0 | 1.970735e-04 | 0.0002284720 | Inf | 2.030920e-05 | 0.001909397 | 0.5 |  -7.357788007 |  1.869827e-13 |\n",
       "| 6 | referred | r0 | 9.774208e-03 | 0.0031352184 | Inf | 5.204165e-03 | 0.018283679 | 0.5 | -14.256713319 |  4.071848e-46 |\n",
       "\n",
       "\n",
       "$contrasts\n",
       ":   \n",
       "A summary_emm: 6 × 10\n",
       "\n",
       "| <!--/--> | contrast &lt;fct&gt; | condition &lt;fct&gt; | odds.ratio &lt;dbl&gt; | SE &lt;dbl&gt; | df &lt;dbl&gt; | asymp.LCL &lt;dbl&gt; | asymp.UCL &lt;dbl&gt; | null &lt;dbl&gt; | z.ratio &lt;dbl&gt; | p.value &lt;dbl&gt; |\n",
       "|---|---|---|---|---|---|---|---|---|---|---|\n",
       "| 1 | neighbor / none     | p0 | 1.897035e+03 | 2.079877e+06 | Inf | 2.220446e-16 |        Inf | 1 |  0.0068844978 | 9.945070e-01 |\n",
       "| 2 | neighbor / referred | p0 | 4.794384e+03 | 2.474473e+07 | Inf | 2.220446e-16 |        Inf | 1 |  0.0016421019 | 9.986898e-01 |\n",
       "| 3 | none / referred     | p0 | 2.527304e+00 | 1.333496e+04 | Inf | 2.220446e-16 |        Inf | 1 |  0.0001757185 | 9.998598e-01 |\n",
       "| 4 | neighbor / none     | r0 | 6.463491e+00 | 7.613772e+00 | Inf | 6.423635e-01 | 65.0359487 | 1 |  1.5842306623 | 1.131412e-01 |\n",
       "| 5 | neighbor / referred | r0 | 1.290725e-01 | 4.196319e-02 | Inf | 6.824908e-02 |  0.2441016 | 1 | -6.2974379326 | 3.026055e-10 |\n",
       "| 6 | none / referred     | r0 | 1.996947e-02 | 2.421133e-02 | Inf | 1.855048e-03 |  0.2149701 | 1 | -3.2278908262 | 1.247066e-03 |\n",
       "\n",
       "\n",
       "\n",
       "\n"
      ],
      "text/plain": [
       "$emmeans\n",
       "condition = p0:\n",
       " refer_boost_type_tri     prob       SE  df asymp.LCL asymp.UCL null z.ratio\n",
       " neighbor             3.22e-04 0.000228 Inf  8.03e-05   0.00129  0.5 -11.355\n",
       " none                 1.70e-07 0.000186 Inf  0.00e+00   1.00000  0.5  -0.014\n",
       " referred             6.70e-08 0.000346 Inf  0.00e+00   1.00000  0.5  -0.003\n",
       " p.value\n",
       "  <.0001\n",
       "  0.9887\n",
       "  0.9974\n",
       "\n",
       "condition = r0:\n",
       " refer_boost_type_tri     prob       SE  df asymp.LCL asymp.UCL null z.ratio\n",
       " neighbor             1.27e-03 0.000363 Inf  7.27e-04   0.00223  0.5 -23.309\n",
       " none                 1.97e-04 0.000228 Inf  2.03e-05   0.00191  0.5  -7.358\n",
       " referred             9.77e-03 0.003135 Inf  5.20e-03   0.01828  0.5 -14.257\n",
       " p.value\n",
       "  <.0001\n",
       "  <.0001\n",
       "  <.0001\n",
       "\n",
       "Results are averaged over the levels of: main_or_gap \n",
       "Confidence level used: 0.95 \n",
       "Intervals are back-transformed from the logit scale \n",
       "Tests are performed on the logit scale \n",
       "\n",
       "$contrasts\n",
       "condition = p0:\n",
       " contrast            odds.ratio       SE  df asymp.LCL asymp.UCL null z.ratio\n",
       " neighbor / none       1897.035  2079877 Inf   0.00000       Inf    1   0.007\n",
       " neighbor / referred   4794.384 24744730 Inf   0.00000       Inf    1   0.002\n",
       " none / referred          2.527    13335 Inf   0.00000       Inf    1   0.000\n",
       " p.value\n",
       "  0.9945\n",
       "  0.9987\n",
       "  0.9999\n",
       "\n",
       "condition = r0:\n",
       " contrast            odds.ratio       SE  df asymp.LCL asymp.UCL null z.ratio\n",
       " neighbor / none          6.463        8 Inf   0.64236        65    1   1.584\n",
       " neighbor / referred      0.129        0 Inf   0.06825         0    1  -6.297\n",
       " none / referred          0.020        0 Inf   0.00186         0    1  -3.228\n",
       " p.value\n",
       "  0.1131\n",
       "  <.0001\n",
       "  0.0012\n",
       "\n",
       "Results are averaged over the levels of: main_or_gap \n",
       "Confidence level used: 0.95 \n",
       "Intervals are back-transformed from the log odds ratio scale \n",
       "Tests are performed on the log odds ratio scale \n"
      ]
     },
     "metadata": {},
     "output_type": "display_data"
    }
   ],
   "source": [
    "emmeans(p0_r0_seg_seg_boost_type_tri_1, pairwise ~ refer_boost_type_tri|condition, \n",
    "              type='response', adjust='none') %>% summary(infer = TRUE)"
   ]
  },
  {
   "cell_type": "code",
   "execution_count": 13,
   "metadata": {
    "vscode": {
     "languageId": "r"
    }
   },
   "outputs": [
    {
     "name": "stderr",
     "output_type": "stream",
     "text": [
      "Warning message in vcov.merMod(object, correlation = FALSE):\n",
      "\"variance-covariance matrix computed from finite-difference Hessian is\n",
      "not positive definite or contains NA values: falling back to var-cov estimated from RX\"\n",
      "NOTE: Results may be misleading due to involvement in interactions\n",
      "\n"
     ]
    },
    {
     "data": {
      "text/html": [
       "<dl>\n",
       "\t<dt>$emmeans</dt>\n",
       "\t\t<dd><table class=\"dataframe\">\n",
       "<caption>A summary_emm: 6 × 10</caption>\n",
       "<thead>\n",
       "\t<tr><th></th><th scope=col>condition</th><th scope=col>refer_boost_type_tri</th><th scope=col>prob</th><th scope=col>SE</th><th scope=col>df</th><th scope=col>asymp.LCL</th><th scope=col>asymp.UCL</th><th scope=col>null</th><th scope=col>z.ratio</th><th scope=col>p.value</th></tr>\n",
       "\t<tr><th></th><th scope=col>&lt;fct&gt;</th><th scope=col>&lt;fct&gt;</th><th scope=col>&lt;dbl&gt;</th><th scope=col>&lt;dbl&gt;</th><th scope=col>&lt;dbl&gt;</th><th scope=col>&lt;dbl&gt;</th><th scope=col>&lt;dbl&gt;</th><th scope=col>&lt;dbl&gt;</th><th scope=col>&lt;dbl&gt;</th><th scope=col>&lt;dbl&gt;</th></tr>\n",
       "</thead>\n",
       "<tbody>\n",
       "\t<tr><th scope=row>1</th><td>p0</td><td>neighbor</td><td>3.215633e-04</td><td>0.0002276630</td><td>Inf</td><td>8.026694e-05</td><td>0.001287304</td><td>0.5</td><td>-11.355284695</td><td> 6.981211e-30</td></tr>\n",
       "\t<tr><th scope=row>2</th><td>r0</td><td>neighbor</td><td>1.272413e-03</td><td>0.0003634051</td><td>Inf</td><td>7.268584e-04</td><td>0.002226530</td><td>0.5</td><td>-23.308874878</td><td>3.603586e-120</td></tr>\n",
       "\t<tr><th scope=row>3</th><td>p0</td><td>none    </td><td>1.695629e-07</td><td>0.0001859058</td><td>Inf</td><td>2.220446e-16</td><td>1.000000000</td><td>0.5</td><td> -0.014219522</td><td> 9.886548e-01</td></tr>\n",
       "\t<tr><th scope=row>4</th><td>r0</td><td>none    </td><td>1.970735e-04</td><td>0.0002284720</td><td>Inf</td><td>2.030920e-05</td><td>0.001909397</td><td>0.5</td><td> -7.357788007</td><td> 1.869827e-13</td></tr>\n",
       "\t<tr><th scope=row>5</th><td>p0</td><td>referred</td><td>6.709239e-08</td><td>0.0003462766</td><td>Inf</td><td>2.220446e-16</td><td>1.000000000</td><td>0.5</td><td> -0.003200268</td><td> 9.974466e-01</td></tr>\n",
       "\t<tr><th scope=row>6</th><td>r0</td><td>referred</td><td>9.774208e-03</td><td>0.0031352184</td><td>Inf</td><td>5.204165e-03</td><td>0.018283679</td><td>0.5</td><td>-14.256713319</td><td> 4.071848e-46</td></tr>\n",
       "</tbody>\n",
       "</table>\n",
       "</dd>\n",
       "\t<dt>$contrasts</dt>\n",
       "\t\t<dd><table class=\"dataframe\">\n",
       "<caption>A summary_emm: 3 × 10</caption>\n",
       "<thead>\n",
       "\t<tr><th></th><th scope=col>contrast</th><th scope=col>refer_boost_type_tri</th><th scope=col>odds.ratio</th><th scope=col>SE</th><th scope=col>df</th><th scope=col>asymp.LCL</th><th scope=col>asymp.UCL</th><th scope=col>null</th><th scope=col>z.ratio</th><th scope=col>p.value</th></tr>\n",
       "\t<tr><th></th><th scope=col>&lt;fct&gt;</th><th scope=col>&lt;fct&gt;</th><th scope=col>&lt;dbl&gt;</th><th scope=col>&lt;dbl&gt;</th><th scope=col>&lt;dbl&gt;</th><th scope=col>&lt;dbl&gt;</th><th scope=col>&lt;dbl&gt;</th><th scope=col>&lt;dbl&gt;</th><th scope=col>&lt;dbl&gt;</th><th scope=col>&lt;dbl&gt;</th></tr>\n",
       "</thead>\n",
       "<tbody>\n",
       "\t<tr><th scope=row>1</th><td>r0 / p0</td><td>neighbor</td><td>3.960727e+00</td><td>3.126005e+00</td><td>Inf</td><td>8.432648e-01</td><td>18.60313</td><td>1</td><td>1.743968814</td><td>0.08116453</td></tr>\n",
       "\t<tr><th scope=row>2</th><td>r0 / p0</td><td>none    </td><td>1.162474e+03</td><td>1.274517e+06</td><td>Inf</td><td>2.220446e-16</td><td>     Inf</td><td>1</td><td>0.006437807</td><td>0.99486341</td></tr>\n",
       "\t<tr><th scope=row>3</th><td>r0 / p0</td><td>referred</td><td>1.471208e+05</td><td>7.593184e+08</td><td>Inf</td><td>2.220446e-16</td><td>     Inf</td><td>1</td><td>0.002305478</td><td>0.99816050</td></tr>\n",
       "</tbody>\n",
       "</table>\n",
       "</dd>\n",
       "</dl>\n"
      ],
      "text/latex": [
       "\\begin{description}\n",
       "\\item[\\$emmeans] A summary\\_emm: 6 × 10\n",
       "\\begin{tabular}{r|llllllllll}\n",
       "  & condition & refer\\_boost\\_type\\_tri & prob & SE & df & asymp.LCL & asymp.UCL & null & z.ratio & p.value\\\\\n",
       "  & <fct> & <fct> & <dbl> & <dbl> & <dbl> & <dbl> & <dbl> & <dbl> & <dbl> & <dbl>\\\\\n",
       "\\hline\n",
       "\t1 & p0 & neighbor & 3.215633e-04 & 0.0002276630 & Inf & 8.026694e-05 & 0.001287304 & 0.5 & -11.355284695 &  6.981211e-30\\\\\n",
       "\t2 & r0 & neighbor & 1.272413e-03 & 0.0003634051 & Inf & 7.268584e-04 & 0.002226530 & 0.5 & -23.308874878 & 3.603586e-120\\\\\n",
       "\t3 & p0 & none     & 1.695629e-07 & 0.0001859058 & Inf & 2.220446e-16 & 1.000000000 & 0.5 &  -0.014219522 &  9.886548e-01\\\\\n",
       "\t4 & r0 & none     & 1.970735e-04 & 0.0002284720 & Inf & 2.030920e-05 & 0.001909397 & 0.5 &  -7.357788007 &  1.869827e-13\\\\\n",
       "\t5 & p0 & referred & 6.709239e-08 & 0.0003462766 & Inf & 2.220446e-16 & 1.000000000 & 0.5 &  -0.003200268 &  9.974466e-01\\\\\n",
       "\t6 & r0 & referred & 9.774208e-03 & 0.0031352184 & Inf & 5.204165e-03 & 0.018283679 & 0.5 & -14.256713319 &  4.071848e-46\\\\\n",
       "\\end{tabular}\n",
       "\n",
       "\\item[\\$contrasts] A summary\\_emm: 3 × 10\n",
       "\\begin{tabular}{r|llllllllll}\n",
       "  & contrast & refer\\_boost\\_type\\_tri & odds.ratio & SE & df & asymp.LCL & asymp.UCL & null & z.ratio & p.value\\\\\n",
       "  & <fct> & <fct> & <dbl> & <dbl> & <dbl> & <dbl> & <dbl> & <dbl> & <dbl> & <dbl>\\\\\n",
       "\\hline\n",
       "\t1 & r0 / p0 & neighbor & 3.960727e+00 & 3.126005e+00 & Inf & 8.432648e-01 & 18.60313 & 1 & 1.743968814 & 0.08116453\\\\\n",
       "\t2 & r0 / p0 & none     & 1.162474e+03 & 1.274517e+06 & Inf & 2.220446e-16 &      Inf & 1 & 0.006437807 & 0.99486341\\\\\n",
       "\t3 & r0 / p0 & referred & 1.471208e+05 & 7.593184e+08 & Inf & 2.220446e-16 &      Inf & 1 & 0.002305478 & 0.99816050\\\\\n",
       "\\end{tabular}\n",
       "\n",
       "\\end{description}\n"
      ],
      "text/markdown": [
       "$emmeans\n",
       ":   \n",
       "A summary_emm: 6 × 10\n",
       "\n",
       "| <!--/--> | condition &lt;fct&gt; | refer_boost_type_tri &lt;fct&gt; | prob &lt;dbl&gt; | SE &lt;dbl&gt; | df &lt;dbl&gt; | asymp.LCL &lt;dbl&gt; | asymp.UCL &lt;dbl&gt; | null &lt;dbl&gt; | z.ratio &lt;dbl&gt; | p.value &lt;dbl&gt; |\n",
       "|---|---|---|---|---|---|---|---|---|---|---|\n",
       "| 1 | p0 | neighbor | 3.215633e-04 | 0.0002276630 | Inf | 8.026694e-05 | 0.001287304 | 0.5 | -11.355284695 |  6.981211e-30 |\n",
       "| 2 | r0 | neighbor | 1.272413e-03 | 0.0003634051 | Inf | 7.268584e-04 | 0.002226530 | 0.5 | -23.308874878 | 3.603586e-120 |\n",
       "| 3 | p0 | none     | 1.695629e-07 | 0.0001859058 | Inf | 2.220446e-16 | 1.000000000 | 0.5 |  -0.014219522 |  9.886548e-01 |\n",
       "| 4 | r0 | none     | 1.970735e-04 | 0.0002284720 | Inf | 2.030920e-05 | 0.001909397 | 0.5 |  -7.357788007 |  1.869827e-13 |\n",
       "| 5 | p0 | referred | 6.709239e-08 | 0.0003462766 | Inf | 2.220446e-16 | 1.000000000 | 0.5 |  -0.003200268 |  9.974466e-01 |\n",
       "| 6 | r0 | referred | 9.774208e-03 | 0.0031352184 | Inf | 5.204165e-03 | 0.018283679 | 0.5 | -14.256713319 |  4.071848e-46 |\n",
       "\n",
       "\n",
       "$contrasts\n",
       ":   \n",
       "A summary_emm: 3 × 10\n",
       "\n",
       "| <!--/--> | contrast &lt;fct&gt; | refer_boost_type_tri &lt;fct&gt; | odds.ratio &lt;dbl&gt; | SE &lt;dbl&gt; | df &lt;dbl&gt; | asymp.LCL &lt;dbl&gt; | asymp.UCL &lt;dbl&gt; | null &lt;dbl&gt; | z.ratio &lt;dbl&gt; | p.value &lt;dbl&gt; |\n",
       "|---|---|---|---|---|---|---|---|---|---|---|\n",
       "| 1 | r0 / p0 | neighbor | 3.960727e+00 | 3.126005e+00 | Inf | 8.432648e-01 | 18.60313 | 1 | 1.743968814 | 0.08116453 |\n",
       "| 2 | r0 / p0 | none     | 1.162474e+03 | 1.274517e+06 | Inf | 2.220446e-16 |      Inf | 1 | 0.006437807 | 0.99486341 |\n",
       "| 3 | r0 / p0 | referred | 1.471208e+05 | 7.593184e+08 | Inf | 2.220446e-16 |      Inf | 1 | 0.002305478 | 0.99816050 |\n",
       "\n",
       "\n",
       "\n",
       "\n"
      ],
      "text/plain": [
       "$emmeans\n",
       "refer_boost_type_tri = neighbor:\n",
       " condition     prob       SE  df asymp.LCL asymp.UCL null z.ratio p.value\n",
       " p0        3.22e-04 0.000228 Inf  8.03e-05   0.00129  0.5 -11.355  <.0001\n",
       " r0        1.27e-03 0.000363 Inf  7.27e-04   0.00223  0.5 -23.309  <.0001\n",
       "\n",
       "refer_boost_type_tri = none:\n",
       " condition     prob       SE  df asymp.LCL asymp.UCL null z.ratio p.value\n",
       " p0        1.70e-07 0.000186 Inf  0.00e+00   1.00000  0.5  -0.014  0.9887\n",
       " r0        1.97e-04 0.000228 Inf  2.03e-05   0.00191  0.5  -7.358  <.0001\n",
       "\n",
       "refer_boost_type_tri = referred:\n",
       " condition     prob       SE  df asymp.LCL asymp.UCL null z.ratio p.value\n",
       " p0        6.70e-08 0.000346 Inf  0.00e+00   1.00000  0.5  -0.003  0.9974\n",
       " r0        9.77e-03 0.003135 Inf  5.20e-03   0.01828  0.5 -14.257  <.0001\n",
       "\n",
       "Results are averaged over the levels of: main_or_gap \n",
       "Confidence level used: 0.95 \n",
       "Intervals are back-transformed from the logit scale \n",
       "Tests are performed on the logit scale \n",
       "\n",
       "$contrasts\n",
       "refer_boost_type_tri = neighbor:\n",
       " contrast odds.ratio       SE  df asymp.LCL asymp.UCL null z.ratio p.value\n",
       " r0 / p0    3.96e+00 3.00e+00 Inf     0.843        19    1   1.744  0.0812\n",
       "\n",
       "refer_boost_type_tri = none:\n",
       " contrast odds.ratio       SE  df asymp.LCL asymp.UCL null z.ratio p.value\n",
       " r0 / p0    1.16e+03 1.27e+06 Inf     0.000       Inf    1   0.006  0.9949\n",
       "\n",
       "refer_boost_type_tri = referred:\n",
       " contrast odds.ratio       SE  df asymp.LCL asymp.UCL null z.ratio p.value\n",
       " r0 / p0    1.47e+05 7.59e+08 Inf     0.000       Inf    1   0.002  0.9982\n",
       "\n",
       "Results are averaged over the levels of: main_or_gap \n",
       "Confidence level used: 0.95 \n",
       "Intervals are back-transformed from the log odds ratio scale \n",
       "Tests are performed on the log odds ratio scale \n"
      ]
     },
     "metadata": {},
     "output_type": "display_data"
    }
   ],
   "source": [
    "emmeans(p0_r0_seg_seg_boost_type_tri_1, revpairwise ~ condition|refer_boost_type_tri, \n",
    "              type='response') %>% summary(infer = TRUE)"
   ]
  },
  {
   "attachments": {},
   "cell_type": "markdown",
   "metadata": {},
   "source": [
    "### storyline"
   ]
  },
  {
   "cell_type": "code",
   "execution_count": 9,
   "metadata": {
    "vscode": {
     "languageId": "r"
    }
   },
   "outputs": [],
   "source": [
    "p0_r0_seg_seg_boost_type_sl_tri_1 <- readRDS(\"../stats_models/rep/p0_r0_seg_seg_boost_type_sl_tri_1.rds\")"
   ]
  },
  {
   "cell_type": "code",
   "execution_count": 60,
   "metadata": {
    "vscode": {
     "languageId": "r"
    }
   },
   "outputs": [
    {
     "name": "stderr",
     "output_type": "stream",
     "text": [
      "NOTE: Results may be misleading due to involvement in interactions\n",
      "\n"
     ]
    },
    {
     "data": {
      "text/html": [
       "<dl>\n",
       "\t<dt>$emmeans</dt>\n",
       "\t\t<dd><table class=\"dataframe\">\n",
       "<caption>A summary_emm: 6 × 10</caption>\n",
       "<thead>\n",
       "\t<tr><th></th><th scope=col>refer_boost_type_sl</th><th scope=col>condition</th><th scope=col>prob</th><th scope=col>SE</th><th scope=col>df</th><th scope=col>asymp.LCL</th><th scope=col>asymp.UCL</th><th scope=col>null</th><th scope=col>z.ratio</th><th scope=col>p.value</th></tr>\n",
       "\t<tr><th></th><th scope=col>&lt;fct&gt;</th><th scope=col>&lt;fct&gt;</th><th scope=col>&lt;dbl&gt;</th><th scope=col>&lt;dbl&gt;</th><th scope=col>&lt;dbl&gt;</th><th scope=col>&lt;dbl&gt;</th><th scope=col>&lt;dbl&gt;</th><th scope=col>&lt;dbl&gt;</th><th scope=col>&lt;dbl&gt;</th><th scope=col>&lt;dbl&gt;</th></tr>\n",
       "</thead>\n",
       "<tbody>\n",
       "\t<tr><th scope=row>1</th><td>neighbor</td><td>p0</td><td>3.196480e-04</td><td>3.108129e-04</td><td>Inf</td><td>4.751723e-05</td><td>0.0021469230</td><td>0.5</td><td> -8.27409321</td><td>1.294369e-16</td></tr>\n",
       "\t<tr><th scope=row>2</th><td>none    </td><td>p0</td><td>2.717443e-07</td><td>5.473134e-05</td><td>Inf</td><td>2.220446e-16</td><td>1.0000000000</td><td>0.5</td><td> -0.07506373</td><td>9.401640e-01</td></tr>\n",
       "\t<tr><th scope=row>3</th><td>referred</td><td>p0</td><td>3.186344e-04</td><td>1.287136e-03</td><td>Inf</td><td>1.158442e-07</td><td>0.4672281622</td><td>0.5</td><td> -1.99245130</td><td>4.632156e-02</td></tr>\n",
       "\t<tr><th scope=row>4</th><td>neighbor</td><td>r0</td><td>1.821520e-03</td><td>6.123384e-04</td><td>Inf</td><td>9.422077e-04</td><td>0.0035185571</td><td>0.5</td><td>-18.72503239</td><td>3.094832e-78</td></tr>\n",
       "\t<tr><th scope=row>5</th><td>none    </td><td>r0</td><td>2.416516e-04</td><td>1.679240e-04</td><td>Inf</td><td>6.189048e-05</td><td>0.0009430375</td><td>0.5</td><td>-11.98121222</td><td>4.457575e-33</td></tr>\n",
       "\t<tr><th scope=row>6</th><td>referred</td><td>r0</td><td>1.071391e-02</td><td>3.899846e-03</td><td>Inf</td><td>5.237858e-03</td><td>0.0217896265</td><td>0.5</td><td>-12.29938177</td><td>9.127002e-35</td></tr>\n",
       "</tbody>\n",
       "</table>\n",
       "</dd>\n",
       "\t<dt>$contrasts</dt>\n",
       "\t\t<dd><table class=\"dataframe\">\n",
       "<caption>A summary_emm: 6 × 10</caption>\n",
       "<thead>\n",
       "\t<tr><th></th><th scope=col>contrast</th><th scope=col>condition</th><th scope=col>odds.ratio</th><th scope=col>SE</th><th scope=col>df</th><th scope=col>asymp.LCL</th><th scope=col>asymp.UCL</th><th scope=col>null</th><th scope=col>z.ratio</th><th scope=col>p.value</th></tr>\n",
       "\t<tr><th></th><th scope=col>&lt;fct&gt;</th><th scope=col>&lt;fct&gt;</th><th scope=col>&lt;dbl&gt;</th><th scope=col>&lt;dbl&gt;</th><th scope=col>&lt;dbl&gt;</th><th scope=col>&lt;dbl&gt;</th><th scope=col>&lt;dbl&gt;</th><th scope=col>&lt;dbl&gt;</th><th scope=col>&lt;dbl&gt;</th><th scope=col>&lt;dbl&gt;</th></tr>\n",
       "</thead>\n",
       "<tbody>\n",
       "\t<tr><th scope=row>1</th><td>neighbor / none    </td><td>p0</td><td>1.176658e+03</td><td>2.369840e+05</td><td>Inf</td><td>2.220446e-16</td><td>3.208536e+174</td><td>1</td><td> 0.0351056723</td><td>9.719955e-01</td></tr>\n",
       "\t<tr><th scope=row>2</th><td>neighbor / referred</td><td>p0</td><td>1.003182e+00</td><td>4.097942e+00</td><td>Inf</td><td>3.344024e-04</td><td> 3.009471e+03</td><td>1</td><td> 0.0007777442</td><td>9.993794e-01</td></tr>\n",
       "\t<tr><th scope=row>3</th><td>none / referred    </td><td>p0</td><td>8.525689e-04</td><td>1.716235e-01</td><td>Inf</td><td>2.220446e-16</td><td>1.900817e+168</td><td>1</td><td>-0.0351078056</td><td>9.719938e-01</td></tr>\n",
       "\t<tr><th scope=row>4</th><td>neighbor / none    </td><td>r0</td><td>7.549723e+00</td><td>5.210082e+00</td><td>Inf</td><td>1.952157e+00</td><td> 2.919761e+01</td><td>1</td><td> 2.9292911091</td><td>3.397361e-03</td></tr>\n",
       "\t<tr><th scope=row>5</th><td>neighbor / referred</td><td>r0</td><td>1.684999e-01</td><td>5.571324e-02</td><td>Inf</td><td>8.813661e-02</td><td> 3.221389e-01</td><td>1</td><td>-5.3859379522</td><td>7.206782e-08</td></tr>\n",
       "\t<tr><th scope=row>6</th><td>none / referred    </td><td>r0</td><td>2.231869e-02</td><td>1.612134e-02</td><td>Inf</td><td>5.417826e-03</td><td> 9.194167e-02</td><td>1</td><td>-5.2640205997</td><td>1.409386e-07</td></tr>\n",
       "</tbody>\n",
       "</table>\n",
       "</dd>\n",
       "</dl>\n"
      ],
      "text/latex": [
       "\\begin{description}\n",
       "\\item[\\$emmeans] A summary\\_emm: 6 × 10\n",
       "\\begin{tabular}{r|llllllllll}\n",
       "  & refer\\_boost\\_type\\_sl & condition & prob & SE & df & asymp.LCL & asymp.UCL & null & z.ratio & p.value\\\\\n",
       "  & <fct> & <fct> & <dbl> & <dbl> & <dbl> & <dbl> & <dbl> & <dbl> & <dbl> & <dbl>\\\\\n",
       "\\hline\n",
       "\t1 & neighbor & p0 & 3.196480e-04 & 3.108129e-04 & Inf & 4.751723e-05 & 0.0021469230 & 0.5 &  -8.27409321 & 1.294369e-16\\\\\n",
       "\t2 & none     & p0 & 2.717443e-07 & 5.473134e-05 & Inf & 2.220446e-16 & 1.0000000000 & 0.5 &  -0.07506373 & 9.401640e-01\\\\\n",
       "\t3 & referred & p0 & 3.186344e-04 & 1.287136e-03 & Inf & 1.158442e-07 & 0.4672281622 & 0.5 &  -1.99245130 & 4.632156e-02\\\\\n",
       "\t4 & neighbor & r0 & 1.821520e-03 & 6.123384e-04 & Inf & 9.422077e-04 & 0.0035185571 & 0.5 & -18.72503239 & 3.094832e-78\\\\\n",
       "\t5 & none     & r0 & 2.416516e-04 & 1.679240e-04 & Inf & 6.189048e-05 & 0.0009430375 & 0.5 & -11.98121222 & 4.457575e-33\\\\\n",
       "\t6 & referred & r0 & 1.071391e-02 & 3.899846e-03 & Inf & 5.237858e-03 & 0.0217896265 & 0.5 & -12.29938177 & 9.127002e-35\\\\\n",
       "\\end{tabular}\n",
       "\n",
       "\\item[\\$contrasts] A summary\\_emm: 6 × 10\n",
       "\\begin{tabular}{r|llllllllll}\n",
       "  & contrast & condition & odds.ratio & SE & df & asymp.LCL & asymp.UCL & null & z.ratio & p.value\\\\\n",
       "  & <fct> & <fct> & <dbl> & <dbl> & <dbl> & <dbl> & <dbl> & <dbl> & <dbl> & <dbl>\\\\\n",
       "\\hline\n",
       "\t1 & neighbor / none     & p0 & 1.176658e+03 & 2.369840e+05 & Inf & 2.220446e-16 & 3.208536e+174 & 1 &  0.0351056723 & 9.719955e-01\\\\\n",
       "\t2 & neighbor / referred & p0 & 1.003182e+00 & 4.097942e+00 & Inf & 3.344024e-04 &  3.009471e+03 & 1 &  0.0007777442 & 9.993794e-01\\\\\n",
       "\t3 & none / referred     & p0 & 8.525689e-04 & 1.716235e-01 & Inf & 2.220446e-16 & 1.900817e+168 & 1 & -0.0351078056 & 9.719938e-01\\\\\n",
       "\t4 & neighbor / none     & r0 & 7.549723e+00 & 5.210082e+00 & Inf & 1.952157e+00 &  2.919761e+01 & 1 &  2.9292911091 & 3.397361e-03\\\\\n",
       "\t5 & neighbor / referred & r0 & 1.684999e-01 & 5.571324e-02 & Inf & 8.813661e-02 &  3.221389e-01 & 1 & -5.3859379522 & 7.206782e-08\\\\\n",
       "\t6 & none / referred     & r0 & 2.231869e-02 & 1.612134e-02 & Inf & 5.417826e-03 &  9.194167e-02 & 1 & -5.2640205997 & 1.409386e-07\\\\\n",
       "\\end{tabular}\n",
       "\n",
       "\\end{description}\n"
      ],
      "text/markdown": [
       "$emmeans\n",
       ":   \n",
       "A summary_emm: 6 × 10\n",
       "\n",
       "| <!--/--> | refer_boost_type_sl &lt;fct&gt; | condition &lt;fct&gt; | prob &lt;dbl&gt; | SE &lt;dbl&gt; | df &lt;dbl&gt; | asymp.LCL &lt;dbl&gt; | asymp.UCL &lt;dbl&gt; | null &lt;dbl&gt; | z.ratio &lt;dbl&gt; | p.value &lt;dbl&gt; |\n",
       "|---|---|---|---|---|---|---|---|---|---|---|\n",
       "| 1 | neighbor | p0 | 3.196480e-04 | 3.108129e-04 | Inf | 4.751723e-05 | 0.0021469230 | 0.5 |  -8.27409321 | 1.294369e-16 |\n",
       "| 2 | none     | p0 | 2.717443e-07 | 5.473134e-05 | Inf | 2.220446e-16 | 1.0000000000 | 0.5 |  -0.07506373 | 9.401640e-01 |\n",
       "| 3 | referred | p0 | 3.186344e-04 | 1.287136e-03 | Inf | 1.158442e-07 | 0.4672281622 | 0.5 |  -1.99245130 | 4.632156e-02 |\n",
       "| 4 | neighbor | r0 | 1.821520e-03 | 6.123384e-04 | Inf | 9.422077e-04 | 0.0035185571 | 0.5 | -18.72503239 | 3.094832e-78 |\n",
       "| 5 | none     | r0 | 2.416516e-04 | 1.679240e-04 | Inf | 6.189048e-05 | 0.0009430375 | 0.5 | -11.98121222 | 4.457575e-33 |\n",
       "| 6 | referred | r0 | 1.071391e-02 | 3.899846e-03 | Inf | 5.237858e-03 | 0.0217896265 | 0.5 | -12.29938177 | 9.127002e-35 |\n",
       "\n",
       "\n",
       "$contrasts\n",
       ":   \n",
       "A summary_emm: 6 × 10\n",
       "\n",
       "| <!--/--> | contrast &lt;fct&gt; | condition &lt;fct&gt; | odds.ratio &lt;dbl&gt; | SE &lt;dbl&gt; | df &lt;dbl&gt; | asymp.LCL &lt;dbl&gt; | asymp.UCL &lt;dbl&gt; | null &lt;dbl&gt; | z.ratio &lt;dbl&gt; | p.value &lt;dbl&gt; |\n",
       "|---|---|---|---|---|---|---|---|---|---|---|\n",
       "| 1 | neighbor / none     | p0 | 1.176658e+03 | 2.369840e+05 | Inf | 2.220446e-16 | 3.208536e+174 | 1 |  0.0351056723 | 9.719955e-01 |\n",
       "| 2 | neighbor / referred | p0 | 1.003182e+00 | 4.097942e+00 | Inf | 3.344024e-04 |  3.009471e+03 | 1 |  0.0007777442 | 9.993794e-01 |\n",
       "| 3 | none / referred     | p0 | 8.525689e-04 | 1.716235e-01 | Inf | 2.220446e-16 | 1.900817e+168 | 1 | -0.0351078056 | 9.719938e-01 |\n",
       "| 4 | neighbor / none     | r0 | 7.549723e+00 | 5.210082e+00 | Inf | 1.952157e+00 |  2.919761e+01 | 1 |  2.9292911091 | 3.397361e-03 |\n",
       "| 5 | neighbor / referred | r0 | 1.684999e-01 | 5.571324e-02 | Inf | 8.813661e-02 |  3.221389e-01 | 1 | -5.3859379522 | 7.206782e-08 |\n",
       "| 6 | none / referred     | r0 | 2.231869e-02 | 1.612134e-02 | Inf | 5.417826e-03 |  9.194167e-02 | 1 | -5.2640205997 | 1.409386e-07 |\n",
       "\n",
       "\n",
       "\n",
       "\n"
      ],
      "text/plain": [
       "$emmeans\n",
       "condition = p0:\n",
       " refer_boost_type_sl     prob       SE  df asymp.LCL asymp.UCL null z.ratio\n",
       " neighbor            3.20e-04 3.11e-04 Inf  4.75e-05  0.002147  0.5  -8.274\n",
       " none                2.72e-07 5.47e-05 Inf  0.00e+00  1.000000  0.5  -0.075\n",
       " referred            3.19e-04 1.29e-03 Inf  1.16e-07  0.467228  0.5  -1.992\n",
       " p.value\n",
       "  <.0001\n",
       "  0.9402\n",
       "  0.0463\n",
       "\n",
       "condition = r0:\n",
       " refer_boost_type_sl     prob       SE  df asymp.LCL asymp.UCL null z.ratio\n",
       " neighbor            1.82e-03 6.12e-04 Inf  9.42e-04  0.003519  0.5 -18.725\n",
       " none                2.42e-04 1.68e-04 Inf  6.19e-05  0.000943  0.5 -11.981\n",
       " referred            1.07e-02 3.90e-03 Inf  5.24e-03  0.021790  0.5 -12.299\n",
       " p.value\n",
       "  <.0001\n",
       "  <.0001\n",
       "  <.0001\n",
       "\n",
       "Results are averaged over the levels of: main_or_gap \n",
       "Confidence level used: 0.95 \n",
       "Intervals are back-transformed from the logit scale \n",
       "Tests are performed on the logit scale \n",
       "\n",
       "$contrasts\n",
       "condition = p0:\n",
       " contrast            odds.ratio       SE  df asymp.LCL asymp.UCL null z.ratio\n",
       " neighbor / none       1.18e+03 2.37e+05 Inf  0.000000 3.21e+174    1   0.035\n",
       " neighbor / referred   1.00e+00 4.10e+00 Inf  0.000334  3.01e+03    1   0.001\n",
       " none / referred       9.00e-04 1.70e-01 Inf  0.000000 1.90e+168    1  -0.035\n",
       " p.value\n",
       "  0.9720\n",
       "  0.9994\n",
       "  0.9720\n",
       "\n",
       "condition = r0:\n",
       " contrast            odds.ratio       SE  df asymp.LCL asymp.UCL null z.ratio\n",
       " neighbor / none       7.55e+00 5.21e+00 Inf  1.952157  2.90e+01    1   2.929\n",
       " neighbor / referred   1.69e-01 6.00e-02 Inf  0.088137  0.00e+00    1  -5.386\n",
       " none / referred       2.23e-02 2.00e-02 Inf  0.005418  0.00e+00    1  -5.264\n",
       " p.value\n",
       "  0.0034\n",
       "  <.0001\n",
       "  <.0001\n",
       "\n",
       "Results are averaged over the levels of: main_or_gap \n",
       "Confidence level used: 0.95 \n",
       "Intervals are back-transformed from the log odds ratio scale \n",
       "Tests are performed on the log odds ratio scale \n"
      ]
     },
     "metadata": {},
     "output_type": "display_data"
    }
   ],
   "source": [
    "emmeans(p0_r0_seg_seg_boost_type_sl_tri_1, pairwise ~ refer_boost_type_sl|condition, \n",
    "              type='response', adjust='none') %>% summary(infer = TRUE)"
   ]
  },
  {
   "cell_type": "code",
   "execution_count": 62,
   "metadata": {
    "vscode": {
     "languageId": "r"
    }
   },
   "outputs": [
    {
     "name": "stderr",
     "output_type": "stream",
     "text": [
      "NOTE: Results may be misleading due to involvement in interactions\n",
      "\n"
     ]
    },
    {
     "data": {
      "text/html": [
       "<dl>\n",
       "\t<dt>$emmeans</dt>\n",
       "\t\t<dd><table class=\"dataframe\">\n",
       "<caption>A summary_emm: 6 × 10</caption>\n",
       "<thead>\n",
       "\t<tr><th></th><th scope=col>condition</th><th scope=col>refer_boost_type_sl</th><th scope=col>prob</th><th scope=col>SE</th><th scope=col>df</th><th scope=col>asymp.LCL</th><th scope=col>asymp.UCL</th><th scope=col>null</th><th scope=col>z.ratio</th><th scope=col>p.value</th></tr>\n",
       "\t<tr><th></th><th scope=col>&lt;fct&gt;</th><th scope=col>&lt;fct&gt;</th><th scope=col>&lt;dbl&gt;</th><th scope=col>&lt;dbl&gt;</th><th scope=col>&lt;dbl&gt;</th><th scope=col>&lt;dbl&gt;</th><th scope=col>&lt;dbl&gt;</th><th scope=col>&lt;dbl&gt;</th><th scope=col>&lt;dbl&gt;</th><th scope=col>&lt;dbl&gt;</th></tr>\n",
       "</thead>\n",
       "<tbody>\n",
       "\t<tr><th scope=row>1</th><td>p0</td><td>neighbor</td><td>3.196480e-04</td><td>3.108129e-04</td><td>Inf</td><td>4.751723e-05</td><td>0.0021469230</td><td>0.5</td><td> -8.27409321</td><td>1.294369e-16</td></tr>\n",
       "\t<tr><th scope=row>2</th><td>r0</td><td>neighbor</td><td>1.821520e-03</td><td>6.123384e-04</td><td>Inf</td><td>9.422077e-04</td><td>0.0035185571</td><td>0.5</td><td>-18.72503239</td><td>3.094832e-78</td></tr>\n",
       "\t<tr><th scope=row>3</th><td>p0</td><td>none    </td><td>2.717443e-07</td><td>5.473134e-05</td><td>Inf</td><td>2.220446e-16</td><td>1.0000000000</td><td>0.5</td><td> -0.07506373</td><td>9.401640e-01</td></tr>\n",
       "\t<tr><th scope=row>4</th><td>r0</td><td>none    </td><td>2.416516e-04</td><td>1.679240e-04</td><td>Inf</td><td>6.189048e-05</td><td>0.0009430375</td><td>0.5</td><td>-11.98121222</td><td>4.457575e-33</td></tr>\n",
       "\t<tr><th scope=row>5</th><td>p0</td><td>referred</td><td>3.186344e-04</td><td>1.287136e-03</td><td>Inf</td><td>1.158442e-07</td><td>0.4672281622</td><td>0.5</td><td> -1.99245130</td><td>4.632156e-02</td></tr>\n",
       "\t<tr><th scope=row>6</th><td>r0</td><td>referred</td><td>1.071391e-02</td><td>3.899846e-03</td><td>Inf</td><td>5.237858e-03</td><td>0.0217896265</td><td>0.5</td><td>-12.29938177</td><td>9.127002e-35</td></tr>\n",
       "</tbody>\n",
       "</table>\n",
       "</dd>\n",
       "\t<dt>$contrasts</dt>\n",
       "\t\t<dd><table class=\"dataframe\">\n",
       "<caption>A summary_emm: 3 × 10</caption>\n",
       "<thead>\n",
       "\t<tr><th></th><th scope=col>contrast</th><th scope=col>refer_boost_type_sl</th><th scope=col>odds.ratio</th><th scope=col>SE</th><th scope=col>df</th><th scope=col>asymp.LCL</th><th scope=col>asymp.UCL</th><th scope=col>null</th><th scope=col>z.ratio</th><th scope=col>p.value</th></tr>\n",
       "\t<tr><th></th><th scope=col>&lt;fct&gt;</th><th scope=col>&lt;fct&gt;</th><th scope=col>&lt;dbl&gt;</th><th scope=col>&lt;dbl&gt;</th><th scope=col>&lt;dbl&gt;</th><th scope=col>&lt;dbl&gt;</th><th scope=col>&lt;dbl&gt;</th><th scope=col>&lt;dbl&gt;</th><th scope=col>&lt;dbl&gt;</th><th scope=col>&lt;dbl&gt;</th></tr>\n",
       "</thead>\n",
       "<tbody>\n",
       "\t<tr><th scope=row>1</th><td>r0 / p0</td><td>neighbor</td><td>  5.707092</td><td>5.978481e+00</td><td>Inf</td><td>7.323797e-01</td><td> 4.447270e+01</td><td>1</td><td>1.66264614</td><td>0.09638329</td></tr>\n",
       "\t<tr><th scope=row>2</th><td>r0 / p0</td><td>none    </td><td>889.475907</td><td>1.791443e+05</td><td>Inf</td><td>2.220446e-16</td><td>2.425692e+174</td><td>1</td><td>0.03371641</td><td>0.97310329</td></tr>\n",
       "\t<tr><th scope=row>3</th><td>r0 / p0</td><td>referred</td><td> 33.977776</td><td>1.377851e+02</td><td>Inf</td><td>1.200722e-02</td><td> 9.614962e+04</td><td>1</td><td>0.86943860</td><td>0.38460728</td></tr>\n",
       "</tbody>\n",
       "</table>\n",
       "</dd>\n",
       "</dl>\n"
      ],
      "text/latex": [
       "\\begin{description}\n",
       "\\item[\\$emmeans] A summary\\_emm: 6 × 10\n",
       "\\begin{tabular}{r|llllllllll}\n",
       "  & condition & refer\\_boost\\_type\\_sl & prob & SE & df & asymp.LCL & asymp.UCL & null & z.ratio & p.value\\\\\n",
       "  & <fct> & <fct> & <dbl> & <dbl> & <dbl> & <dbl> & <dbl> & <dbl> & <dbl> & <dbl>\\\\\n",
       "\\hline\n",
       "\t1 & p0 & neighbor & 3.196480e-04 & 3.108129e-04 & Inf & 4.751723e-05 & 0.0021469230 & 0.5 &  -8.27409321 & 1.294369e-16\\\\\n",
       "\t2 & r0 & neighbor & 1.821520e-03 & 6.123384e-04 & Inf & 9.422077e-04 & 0.0035185571 & 0.5 & -18.72503239 & 3.094832e-78\\\\\n",
       "\t3 & p0 & none     & 2.717443e-07 & 5.473134e-05 & Inf & 2.220446e-16 & 1.0000000000 & 0.5 &  -0.07506373 & 9.401640e-01\\\\\n",
       "\t4 & r0 & none     & 2.416516e-04 & 1.679240e-04 & Inf & 6.189048e-05 & 0.0009430375 & 0.5 & -11.98121222 & 4.457575e-33\\\\\n",
       "\t5 & p0 & referred & 3.186344e-04 & 1.287136e-03 & Inf & 1.158442e-07 & 0.4672281622 & 0.5 &  -1.99245130 & 4.632156e-02\\\\\n",
       "\t6 & r0 & referred & 1.071391e-02 & 3.899846e-03 & Inf & 5.237858e-03 & 0.0217896265 & 0.5 & -12.29938177 & 9.127002e-35\\\\\n",
       "\\end{tabular}\n",
       "\n",
       "\\item[\\$contrasts] A summary\\_emm: 3 × 10\n",
       "\\begin{tabular}{r|llllllllll}\n",
       "  & contrast & refer\\_boost\\_type\\_sl & odds.ratio & SE & df & asymp.LCL & asymp.UCL & null & z.ratio & p.value\\\\\n",
       "  & <fct> & <fct> & <dbl> & <dbl> & <dbl> & <dbl> & <dbl> & <dbl> & <dbl> & <dbl>\\\\\n",
       "\\hline\n",
       "\t1 & r0 / p0 & neighbor &   5.707092 & 5.978481e+00 & Inf & 7.323797e-01 &  4.447270e+01 & 1 & 1.66264614 & 0.09638329\\\\\n",
       "\t2 & r0 / p0 & none     & 889.475907 & 1.791443e+05 & Inf & 2.220446e-16 & 2.425692e+174 & 1 & 0.03371641 & 0.97310329\\\\\n",
       "\t3 & r0 / p0 & referred &  33.977776 & 1.377851e+02 & Inf & 1.200722e-02 &  9.614962e+04 & 1 & 0.86943860 & 0.38460728\\\\\n",
       "\\end{tabular}\n",
       "\n",
       "\\end{description}\n"
      ],
      "text/markdown": [
       "$emmeans\n",
       ":   \n",
       "A summary_emm: 6 × 10\n",
       "\n",
       "| <!--/--> | condition &lt;fct&gt; | refer_boost_type_sl &lt;fct&gt; | prob &lt;dbl&gt; | SE &lt;dbl&gt; | df &lt;dbl&gt; | asymp.LCL &lt;dbl&gt; | asymp.UCL &lt;dbl&gt; | null &lt;dbl&gt; | z.ratio &lt;dbl&gt; | p.value &lt;dbl&gt; |\n",
       "|---|---|---|---|---|---|---|---|---|---|---|\n",
       "| 1 | p0 | neighbor | 3.196480e-04 | 3.108129e-04 | Inf | 4.751723e-05 | 0.0021469230 | 0.5 |  -8.27409321 | 1.294369e-16 |\n",
       "| 2 | r0 | neighbor | 1.821520e-03 | 6.123384e-04 | Inf | 9.422077e-04 | 0.0035185571 | 0.5 | -18.72503239 | 3.094832e-78 |\n",
       "| 3 | p0 | none     | 2.717443e-07 | 5.473134e-05 | Inf | 2.220446e-16 | 1.0000000000 | 0.5 |  -0.07506373 | 9.401640e-01 |\n",
       "| 4 | r0 | none     | 2.416516e-04 | 1.679240e-04 | Inf | 6.189048e-05 | 0.0009430375 | 0.5 | -11.98121222 | 4.457575e-33 |\n",
       "| 5 | p0 | referred | 3.186344e-04 | 1.287136e-03 | Inf | 1.158442e-07 | 0.4672281622 | 0.5 |  -1.99245130 | 4.632156e-02 |\n",
       "| 6 | r0 | referred | 1.071391e-02 | 3.899846e-03 | Inf | 5.237858e-03 | 0.0217896265 | 0.5 | -12.29938177 | 9.127002e-35 |\n",
       "\n",
       "\n",
       "$contrasts\n",
       ":   \n",
       "A summary_emm: 3 × 10\n",
       "\n",
       "| <!--/--> | contrast &lt;fct&gt; | refer_boost_type_sl &lt;fct&gt; | odds.ratio &lt;dbl&gt; | SE &lt;dbl&gt; | df &lt;dbl&gt; | asymp.LCL &lt;dbl&gt; | asymp.UCL &lt;dbl&gt; | null &lt;dbl&gt; | z.ratio &lt;dbl&gt; | p.value &lt;dbl&gt; |\n",
       "|---|---|---|---|---|---|---|---|---|---|---|\n",
       "| 1 | r0 / p0 | neighbor |   5.707092 | 5.978481e+00 | Inf | 7.323797e-01 |  4.447270e+01 | 1 | 1.66264614 | 0.09638329 |\n",
       "| 2 | r0 / p0 | none     | 889.475907 | 1.791443e+05 | Inf | 2.220446e-16 | 2.425692e+174 | 1 | 0.03371641 | 0.97310329 |\n",
       "| 3 | r0 / p0 | referred |  33.977776 | 1.377851e+02 | Inf | 1.200722e-02 |  9.614962e+04 | 1 | 0.86943860 | 0.38460728 |\n",
       "\n",
       "\n",
       "\n",
       "\n"
      ],
      "text/plain": [
       "$emmeans\n",
       "refer_boost_type_sl = neighbor:\n",
       " condition     prob       SE  df asymp.LCL asymp.UCL null z.ratio p.value\n",
       " p0        3.20e-04 3.11e-04 Inf  4.75e-05  0.002147  0.5  -8.274  <.0001\n",
       " r0        1.82e-03 6.12e-04 Inf  9.42e-04  0.003519  0.5 -18.725  <.0001\n",
       "\n",
       "refer_boost_type_sl = none:\n",
       " condition     prob       SE  df asymp.LCL asymp.UCL null z.ratio p.value\n",
       " p0        2.72e-07 5.47e-05 Inf  0.00e+00  1.000000  0.5  -0.075  0.9402\n",
       " r0        2.42e-04 1.68e-04 Inf  6.19e-05  0.000943  0.5 -11.981  <.0001\n",
       "\n",
       "refer_boost_type_sl = referred:\n",
       " condition     prob       SE  df asymp.LCL asymp.UCL null z.ratio p.value\n",
       " p0        3.19e-04 1.29e-03 Inf  1.16e-07  0.467228  0.5  -1.992  0.0463\n",
       " r0        1.07e-02 3.90e-03 Inf  5.24e-03  0.021790  0.5 -12.299  <.0001\n",
       "\n",
       "Results are averaged over the levels of: main_or_gap \n",
       "Confidence level used: 0.95 \n",
       "Intervals are back-transformed from the logit scale \n",
       "Tests are performed on the logit scale \n",
       "\n",
       "$contrasts\n",
       "refer_boost_type_sl = neighbor:\n",
       " contrast odds.ratio       SE  df asymp.LCL asymp.UCL null z.ratio p.value\n",
       " r0 / p0        5.71 5.98e+00 Inf     0.732  4.40e+01    1   1.663  0.0964\n",
       "\n",
       "refer_boost_type_sl = none:\n",
       " contrast odds.ratio       SE  df asymp.LCL asymp.UCL null z.ratio p.value\n",
       " r0 / p0      889.48 1.79e+05 Inf     0.000 2.43e+174    1   0.034  0.9731\n",
       "\n",
       "refer_boost_type_sl = referred:\n",
       " contrast odds.ratio       SE  df asymp.LCL asymp.UCL null z.ratio p.value\n",
       " r0 / p0       33.98 1.38e+02 Inf     0.012  9.62e+04    1   0.869  0.3846\n",
       "\n",
       "Results are averaged over the levels of: main_or_gap \n",
       "Confidence level used: 0.95 \n",
       "Intervals are back-transformed from the log odds ratio scale \n",
       "Tests are performed on the log odds ratio scale \n"
      ]
     },
     "metadata": {},
     "output_type": "display_data"
    }
   ],
   "source": [
    "emmeans(p0_r0_seg_seg_boost_type_sl_tri_1, revpairwise ~ condition|refer_boost_type_sl, \n",
    "              type='response') %>% summary(infer = TRUE)"
   ]
  },
  {
   "attachments": {},
   "cell_type": "markdown",
   "metadata": {},
   "source": [
    "# figure 5"
   ]
  },
  {
   "cell_type": "code",
   "execution_count": 10,
   "metadata": {
    "vscode": {
     "languageId": "r"
    }
   },
   "outputs": [],
   "source": [
    "p0_r0_seg_seg_rr_type_1 <- readRDS(\"../stats_models/rep/p0_r0_seg_seg_rr_type_1.rds\")"
   ]
  },
  {
   "cell_type": "code",
   "execution_count": 81,
   "metadata": {
    "vscode": {
     "languageId": "r"
    }
   },
   "outputs": [
    {
     "name": "stderr",
     "output_type": "stream",
     "text": [
      "Warning message in vcov.merMod(object, correlation = FALSE):\n",
      "\"variance-covariance matrix computed from finite-difference Hessian is\n",
      "not positive definite or contains NA values: falling back to var-cov estimated from RX\"\n",
      "NOTE: Results may be misleading due to involvement in interactions\n",
      "\n"
     ]
    },
    {
     "data": {
      "text/html": [
       "<dl>\n",
       "\t<dt>$emmeans</dt>\n",
       "\t\t<dd><table class=\"dataframe\">\n",
       "<caption>A summary_emm: 3 × 9</caption>\n",
       "<thead>\n",
       "\t<tr><th></th><th scope=col>rr_type</th><th scope=col>prob</th><th scope=col>SE</th><th scope=col>df</th><th scope=col>asymp.LCL</th><th scope=col>asymp.UCL</th><th scope=col>null</th><th scope=col>z.ratio</th><th scope=col>p.value</th></tr>\n",
       "\t<tr><th></th><th scope=col>&lt;fct&gt;</th><th scope=col>&lt;dbl&gt;</th><th scope=col>&lt;dbl&gt;</th><th scope=col>&lt;dbl&gt;</th><th scope=col>&lt;dbl&gt;</th><th scope=col>&lt;dbl&gt;</th><th scope=col>&lt;dbl&gt;</th><th scope=col>&lt;dbl&gt;</th><th scope=col>&lt;dbl&gt;</th></tr>\n",
       "</thead>\n",
       "<tbody>\n",
       "\t<tr><th scope=row>1</th><td>none     </td><td>9.975174e-04</td><td>2.614026e-04</td><td>Inf</td><td>5.967767e-04</td><td>0.00166691</td><td>0.5</td><td>-2.633951e+01</td><td>6.769617e-153</td></tr>\n",
       "\t<tr><th scope=row>2</th><td>referred </td><td>1.365395e-02</td><td>5.307696e-03</td><td>Inf</td><td>6.353213e-03</td><td>0.02909859</td><td>0.5</td><td>-1.085983e+01</td><td> 1.790729e-27</td></tr>\n",
       "\t<tr><th scope=row>3</th><td>referring</td><td>1.711198e-13</td><td>4.755520e-08</td><td>Inf</td><td>2.220446e-16</td><td>1.00000000</td><td>0.5</td><td>-1.057783e-04</td><td> 9.999156e-01</td></tr>\n",
       "</tbody>\n",
       "</table>\n",
       "</dd>\n",
       "\t<dt>$contrasts</dt>\n",
       "\t\t<dd><table class=\"dataframe\">\n",
       "<caption>A summary_emm: 3 × 9</caption>\n",
       "<thead>\n",
       "\t<tr><th></th><th scope=col>contrast</th><th scope=col>odds.ratio</th><th scope=col>SE</th><th scope=col>df</th><th scope=col>asymp.LCL</th><th scope=col>asymp.UCL</th><th scope=col>null</th><th scope=col>z.ratio</th><th scope=col>p.value</th></tr>\n",
       "\t<tr><th></th><th scope=col>&lt;fct&gt;</th><th scope=col>&lt;dbl&gt;</th><th scope=col>&lt;dbl&gt;</th><th scope=col>&lt;dbl&gt;</th><th scope=col>&lt;dbl&gt;</th><th scope=col>&lt;dbl&gt;</th><th scope=col>&lt;dbl&gt;</th><th scope=col>&lt;dbl&gt;</th><th scope=col>&lt;dbl&gt;</th></tr>\n",
       "</thead>\n",
       "<tbody>\n",
       "\t<tr><th scope=row>1</th><td>referred / none     </td><td>1.386357e+01</td><td>5.100675e+00</td><td>Inf</td><td>6.740650e+00</td><td>28.51337</td><td>1</td><td> 7.146310e+00</td><td>8.914136e-13</td></tr>\n",
       "\t<tr><th scope=row>2</th><td>referring / none    </td><td>1.713745e-10</td><td>4.762600e-05</td><td>Inf</td><td>2.220446e-16</td><td>     Inf</td><td>1</td><td>-8.091647e-05</td><td>9.999354e-01</td></tr>\n",
       "\t<tr><th scope=row>3</th><td>referring / referred</td><td>1.236150e-11</td><td>3.435334e-06</td><td>Inf</td><td>2.220446e-16</td><td>     Inf</td><td>1</td><td>-9.037746e-05</td><td>9.999279e-01</td></tr>\n",
       "</tbody>\n",
       "</table>\n",
       "</dd>\n",
       "</dl>\n"
      ],
      "text/latex": [
       "\\begin{description}\n",
       "\\item[\\$emmeans] A summary\\_emm: 3 × 9\n",
       "\\begin{tabular}{r|lllllllll}\n",
       "  & rr\\_type & prob & SE & df & asymp.LCL & asymp.UCL & null & z.ratio & p.value\\\\\n",
       "  & <fct> & <dbl> & <dbl> & <dbl> & <dbl> & <dbl> & <dbl> & <dbl> & <dbl>\\\\\n",
       "\\hline\n",
       "\t1 & none      & 9.975174e-04 & 2.614026e-04 & Inf & 5.967767e-04 & 0.00166691 & 0.5 & -2.633951e+01 & 6.769617e-153\\\\\n",
       "\t2 & referred  & 1.365395e-02 & 5.307696e-03 & Inf & 6.353213e-03 & 0.02909859 & 0.5 & -1.085983e+01 &  1.790729e-27\\\\\n",
       "\t3 & referring & 1.711198e-13 & 4.755520e-08 & Inf & 2.220446e-16 & 1.00000000 & 0.5 & -1.057783e-04 &  9.999156e-01\\\\\n",
       "\\end{tabular}\n",
       "\n",
       "\\item[\\$contrasts] A summary\\_emm: 3 × 9\n",
       "\\begin{tabular}{r|lllllllll}\n",
       "  & contrast & odds.ratio & SE & df & asymp.LCL & asymp.UCL & null & z.ratio & p.value\\\\\n",
       "  & <fct> & <dbl> & <dbl> & <dbl> & <dbl> & <dbl> & <dbl> & <dbl> & <dbl>\\\\\n",
       "\\hline\n",
       "\t1 & referred / none      & 1.386357e+01 & 5.100675e+00 & Inf & 6.740650e+00 & 28.51337 & 1 &  7.146310e+00 & 8.914136e-13\\\\\n",
       "\t2 & referring / none     & 1.713745e-10 & 4.762600e-05 & Inf & 2.220446e-16 &      Inf & 1 & -8.091647e-05 & 9.999354e-01\\\\\n",
       "\t3 & referring / referred & 1.236150e-11 & 3.435334e-06 & Inf & 2.220446e-16 &      Inf & 1 & -9.037746e-05 & 9.999279e-01\\\\\n",
       "\\end{tabular}\n",
       "\n",
       "\\end{description}\n"
      ],
      "text/markdown": [
       "$emmeans\n",
       ":   \n",
       "A summary_emm: 3 × 9\n",
       "\n",
       "| <!--/--> | rr_type &lt;fct&gt; | prob &lt;dbl&gt; | SE &lt;dbl&gt; | df &lt;dbl&gt; | asymp.LCL &lt;dbl&gt; | asymp.UCL &lt;dbl&gt; | null &lt;dbl&gt; | z.ratio &lt;dbl&gt; | p.value &lt;dbl&gt; |\n",
       "|---|---|---|---|---|---|---|---|---|---|\n",
       "| 1 | none      | 9.975174e-04 | 2.614026e-04 | Inf | 5.967767e-04 | 0.00166691 | 0.5 | -2.633951e+01 | 6.769617e-153 |\n",
       "| 2 | referred  | 1.365395e-02 | 5.307696e-03 | Inf | 6.353213e-03 | 0.02909859 | 0.5 | -1.085983e+01 |  1.790729e-27 |\n",
       "| 3 | referring | 1.711198e-13 | 4.755520e-08 | Inf | 2.220446e-16 | 1.00000000 | 0.5 | -1.057783e-04 |  9.999156e-01 |\n",
       "\n",
       "\n",
       "$contrasts\n",
       ":   \n",
       "A summary_emm: 3 × 9\n",
       "\n",
       "| <!--/--> | contrast &lt;fct&gt; | odds.ratio &lt;dbl&gt; | SE &lt;dbl&gt; | df &lt;dbl&gt; | asymp.LCL &lt;dbl&gt; | asymp.UCL &lt;dbl&gt; | null &lt;dbl&gt; | z.ratio &lt;dbl&gt; | p.value &lt;dbl&gt; |\n",
       "|---|---|---|---|---|---|---|---|---|---|\n",
       "| 1 | referred / none      | 1.386357e+01 | 5.100675e+00 | Inf | 6.740650e+00 | 28.51337 | 1 |  7.146310e+00 | 8.914136e-13 |\n",
       "| 2 | referring / none     | 1.713745e-10 | 4.762600e-05 | Inf | 2.220446e-16 |      Inf | 1 | -8.091647e-05 | 9.999354e-01 |\n",
       "| 3 | referring / referred | 1.236150e-11 | 3.435334e-06 | Inf | 2.220446e-16 |      Inf | 1 | -9.037746e-05 | 9.999279e-01 |\n",
       "\n",
       "\n",
       "\n",
       "\n"
      ],
      "text/plain": [
       "$emmeans\n",
       " rr_type       prob       SE  df asymp.LCL asymp.UCL null z.ratio p.value\n",
       " none      0.000998 2.61e-04 Inf  0.000597   0.00167  0.5 -26.340  <.0001\n",
       " referred  0.013654 5.31e-03 Inf  0.006353   0.02910  0.5 -10.860  <.0001\n",
       " referring 0.000000 4.80e-08 Inf  0.000000   1.00000  0.5   0.000  0.9999\n",
       "\n",
       "Results are averaged over the levels of: condition \n",
       "Confidence level used: 0.95 \n",
       "Intervals are back-transformed from the logit scale \n",
       "Tests are performed on the logit scale \n",
       "\n",
       "$contrasts\n",
       " contrast             odds.ratio      SE  df asymp.LCL asymp.UCL null z.ratio\n",
       " referred / none            13.9 5.1e+00 Inf      6.74        29    1   7.146\n",
       " referring / none            0.0 4.8e-05 Inf      0.00       Inf    1   0.000\n",
       " referring / referred        0.0 3.0e-06 Inf      0.00       Inf    1   0.000\n",
       " p.value\n",
       "  <.0001\n",
       "  0.9999\n",
       "  0.9999\n",
       "\n",
       "Results are averaged over the levels of: condition \n",
       "Confidence level used: 0.95 \n",
       "Intervals are back-transformed from the log odds ratio scale \n",
       "Tests are performed on the log odds ratio scale \n"
      ]
     },
     "metadata": {},
     "output_type": "display_data"
    }
   ],
   "source": [
    "emmeans(p0_r0_seg_seg_rr_type_1, revpairwise ~ rr_type, \n",
    "              type='response', adjust='none') %>% summary(infer = TRUE)"
   ]
  },
  {
   "cell_type": "code",
   "execution_count": 80,
   "metadata": {
    "vscode": {
     "languageId": "r"
    }
   },
   "outputs": [
    {
     "name": "stderr",
     "output_type": "stream",
     "text": [
      "Warning message in vcov.merMod(object, correlation = FALSE):\n",
      "\"variance-covariance matrix computed from finite-difference Hessian is\n",
      "not positive definite or contains NA values: falling back to var-cov estimated from RX\"\n"
     ]
    },
    {
     "data": {
      "text/html": [
       "<dl>\n",
       "\t<dt>$emmeans</dt>\n",
       "\t\t<dd><table class=\"dataframe\">\n",
       "<caption>A summary_emm: 6 × 10</caption>\n",
       "<thead>\n",
       "\t<tr><th></th><th scope=col>rr_type</th><th scope=col>condition</th><th scope=col>prob</th><th scope=col>SE</th><th scope=col>df</th><th scope=col>asymp.LCL</th><th scope=col>asymp.UCL</th><th scope=col>null</th><th scope=col>z.ratio</th><th scope=col>p.value</th></tr>\n",
       "\t<tr><th></th><th scope=col>&lt;fct&gt;</th><th scope=col>&lt;fct&gt;</th><th scope=col>&lt;dbl&gt;</th><th scope=col>&lt;dbl&gt;</th><th scope=col>&lt;dbl&gt;</th><th scope=col>&lt;dbl&gt;</th><th scope=col>&lt;dbl&gt;</th><th scope=col>&lt;dbl&gt;</th><th scope=col>&lt;dbl&gt;</th><th scope=col>&lt;dbl&gt;</th></tr>\n",
       "</thead>\n",
       "<tbody>\n",
       "\t<tr><th scope=row>1</th><td>none     </td><td>p0</td><td>1.029428e-03</td><td>3.951183e-04</td><td>Inf</td><td>4.850482e-04</td><td>0.002183441</td><td>0.5</td><td>-1.790054e+01</td><td> 1.167895e-71</td></tr>\n",
       "\t<tr><th scope=row>2</th><td>referred </td><td>p0</td><td>1.900590e-02</td><td>1.291272e-02</td><td>Inf</td><td>4.960742e-03</td><td>0.070018390</td><td>0.5</td><td>-5.694476e+00</td><td> 1.237511e-08</td></tr>\n",
       "\t<tr><th scope=row>3</th><td>referring</td><td>p0</td><td>9.638880e-13</td><td>1.202734e-08</td><td>Inf</td><td>2.220446e-16</td><td>1.000000000</td><td>0.5</td><td>-2.217337e-03</td><td> 9.982308e-01</td></tr>\n",
       "\t<tr><th scope=row>4</th><td>none     </td><td>r0</td><td>9.665953e-04</td><td>3.048164e-04</td><td>Inf</td><td>5.208969e-04</td><td>0.001792966</td><td>0.5</td><td>-2.198840e+01</td><td>3.718958e-107</td></tr>\n",
       "\t<tr><th scope=row>5</th><td>referred </td><td>r0</td><td>9.794034e-03</td><td>3.372996e-03</td><td>Inf</td><td>4.977619e-03</td><td>0.019181041</td><td>0.5</td><td>-1.327243e+01</td><td> 3.345729e-40</td></tr>\n",
       "\t<tr><th scope=row>6</th><td>referring</td><td>r0</td><td>2.220446e-16</td><td>1.233839e-10</td><td>Inf</td><td>2.220446e-16</td><td>1.000000000</td><td>0.5</td><td>-5.601334e-05</td><td> 9.999553e-01</td></tr>\n",
       "</tbody>\n",
       "</table>\n",
       "</dd>\n",
       "\t<dt>$contrasts</dt>\n",
       "\t\t<dd><table class=\"dataframe\">\n",
       "<caption>A summary_emm: 6 × 10</caption>\n",
       "<thead>\n",
       "\t<tr><th></th><th scope=col>contrast</th><th scope=col>condition</th><th scope=col>odds.ratio</th><th scope=col>SE</th><th scope=col>df</th><th scope=col>asymp.LCL</th><th scope=col>asymp.UCL</th><th scope=col>null</th><th scope=col>z.ratio</th><th scope=col>p.value</th></tr>\n",
       "\t<tr><th></th><th scope=col>&lt;fct&gt;</th><th scope=col>&lt;fct&gt;</th><th scope=col>&lt;dbl&gt;</th><th scope=col>&lt;dbl&gt;</th><th scope=col>&lt;dbl&gt;</th><th scope=col>&lt;dbl&gt;</th><th scope=col>&lt;dbl&gt;</th><th scope=col>&lt;dbl&gt;</th><th scope=col>&lt;dbl&gt;</th><th scope=col>&lt;dbl&gt;</th></tr>\n",
       "</thead>\n",
       "<tbody>\n",
       "\t<tr><th scope=row>1</th><td>referred / none     </td><td>p0</td><td>1.880091e+01</td><td>1.245751e+01</td><td>Inf</td><td>5.130644e+00</td><td>68.89473</td><td>1</td><td> 4.427861e+00</td><td>9.517221e-06</td></tr>\n",
       "\t<tr><th scope=row>2</th><td>referring / none    </td><td>p0</td><td>9.353699e-10</td><td>1.167149e-05</td><td>Inf</td><td>2.220446e-16</td><td>     Inf</td><td>1</td><td>-1.666147e-03</td><td>9.986706e-01</td></tr>\n",
       "\t<tr><th scope=row>3</th><td>referring / referred</td><td>p0</td><td>4.975130e-11</td><td>6.207938e-07</td><td>Inf</td><td>2.220446e-16</td><td>     Inf</td><td>1</td><td>-1.901274e-03</td><td>9.984830e-01</td></tr>\n",
       "\t<tr><th scope=row>4</th><td>referred / none     </td><td>r0</td><td>1.022284e+01</td><td>3.277043e+00</td><td>Inf</td><td>5.453928e+00</td><td>19.16167</td><td>1</td><td> 7.251737e+00</td><td>4.114608e-13</td></tr>\n",
       "\t<tr><th scope=row>5</th><td>referring / none    </td><td>r0</td><td>3.139852e-11</td><td>1.744727e-05</td><td>Inf</td><td>2.220446e-16</td><td>     Inf</td><td>1</td><td>-4.352257e-05</td><td>9.999653e-01</td></tr>\n",
       "\t<tr><th scope=row>6</th><td>referring / referred</td><td>r0</td><td>3.071410e-12</td><td>1.706695e-06</td><td>Inf</td><td>2.220446e-16</td><td>     Inf</td><td>1</td><td>-4.770602e-05</td><td>9.999619e-01</td></tr>\n",
       "</tbody>\n",
       "</table>\n",
       "</dd>\n",
       "</dl>\n"
      ],
      "text/latex": [
       "\\begin{description}\n",
       "\\item[\\$emmeans] A summary\\_emm: 6 × 10\n",
       "\\begin{tabular}{r|llllllllll}\n",
       "  & rr\\_type & condition & prob & SE & df & asymp.LCL & asymp.UCL & null & z.ratio & p.value\\\\\n",
       "  & <fct> & <fct> & <dbl> & <dbl> & <dbl> & <dbl> & <dbl> & <dbl> & <dbl> & <dbl>\\\\\n",
       "\\hline\n",
       "\t1 & none      & p0 & 1.029428e-03 & 3.951183e-04 & Inf & 4.850482e-04 & 0.002183441 & 0.5 & -1.790054e+01 &  1.167895e-71\\\\\n",
       "\t2 & referred  & p0 & 1.900590e-02 & 1.291272e-02 & Inf & 4.960742e-03 & 0.070018390 & 0.5 & -5.694476e+00 &  1.237511e-08\\\\\n",
       "\t3 & referring & p0 & 9.638880e-13 & 1.202734e-08 & Inf & 2.220446e-16 & 1.000000000 & 0.5 & -2.217337e-03 &  9.982308e-01\\\\\n",
       "\t4 & none      & r0 & 9.665953e-04 & 3.048164e-04 & Inf & 5.208969e-04 & 0.001792966 & 0.5 & -2.198840e+01 & 3.718958e-107\\\\\n",
       "\t5 & referred  & r0 & 9.794034e-03 & 3.372996e-03 & Inf & 4.977619e-03 & 0.019181041 & 0.5 & -1.327243e+01 &  3.345729e-40\\\\\n",
       "\t6 & referring & r0 & 2.220446e-16 & 1.233839e-10 & Inf & 2.220446e-16 & 1.000000000 & 0.5 & -5.601334e-05 &  9.999553e-01\\\\\n",
       "\\end{tabular}\n",
       "\n",
       "\\item[\\$contrasts] A summary\\_emm: 6 × 10\n",
       "\\begin{tabular}{r|llllllllll}\n",
       "  & contrast & condition & odds.ratio & SE & df & asymp.LCL & asymp.UCL & null & z.ratio & p.value\\\\\n",
       "  & <fct> & <fct> & <dbl> & <dbl> & <dbl> & <dbl> & <dbl> & <dbl> & <dbl> & <dbl>\\\\\n",
       "\\hline\n",
       "\t1 & referred / none      & p0 & 1.880091e+01 & 1.245751e+01 & Inf & 5.130644e+00 & 68.89473 & 1 &  4.427861e+00 & 9.517221e-06\\\\\n",
       "\t2 & referring / none     & p0 & 9.353699e-10 & 1.167149e-05 & Inf & 2.220446e-16 &      Inf & 1 & -1.666147e-03 & 9.986706e-01\\\\\n",
       "\t3 & referring / referred & p0 & 4.975130e-11 & 6.207938e-07 & Inf & 2.220446e-16 &      Inf & 1 & -1.901274e-03 & 9.984830e-01\\\\\n",
       "\t4 & referred / none      & r0 & 1.022284e+01 & 3.277043e+00 & Inf & 5.453928e+00 & 19.16167 & 1 &  7.251737e+00 & 4.114608e-13\\\\\n",
       "\t5 & referring / none     & r0 & 3.139852e-11 & 1.744727e-05 & Inf & 2.220446e-16 &      Inf & 1 & -4.352257e-05 & 9.999653e-01\\\\\n",
       "\t6 & referring / referred & r0 & 3.071410e-12 & 1.706695e-06 & Inf & 2.220446e-16 &      Inf & 1 & -4.770602e-05 & 9.999619e-01\\\\\n",
       "\\end{tabular}\n",
       "\n",
       "\\end{description}\n"
      ],
      "text/markdown": [
       "$emmeans\n",
       ":   \n",
       "A summary_emm: 6 × 10\n",
       "\n",
       "| <!--/--> | rr_type &lt;fct&gt; | condition &lt;fct&gt; | prob &lt;dbl&gt; | SE &lt;dbl&gt; | df &lt;dbl&gt; | asymp.LCL &lt;dbl&gt; | asymp.UCL &lt;dbl&gt; | null &lt;dbl&gt; | z.ratio &lt;dbl&gt; | p.value &lt;dbl&gt; |\n",
       "|---|---|---|---|---|---|---|---|---|---|---|\n",
       "| 1 | none      | p0 | 1.029428e-03 | 3.951183e-04 | Inf | 4.850482e-04 | 0.002183441 | 0.5 | -1.790054e+01 |  1.167895e-71 |\n",
       "| 2 | referred  | p0 | 1.900590e-02 | 1.291272e-02 | Inf | 4.960742e-03 | 0.070018390 | 0.5 | -5.694476e+00 |  1.237511e-08 |\n",
       "| 3 | referring | p0 | 9.638880e-13 | 1.202734e-08 | Inf | 2.220446e-16 | 1.000000000 | 0.5 | -2.217337e-03 |  9.982308e-01 |\n",
       "| 4 | none      | r0 | 9.665953e-04 | 3.048164e-04 | Inf | 5.208969e-04 | 0.001792966 | 0.5 | -2.198840e+01 | 3.718958e-107 |\n",
       "| 5 | referred  | r0 | 9.794034e-03 | 3.372996e-03 | Inf | 4.977619e-03 | 0.019181041 | 0.5 | -1.327243e+01 |  3.345729e-40 |\n",
       "| 6 | referring | r0 | 2.220446e-16 | 1.233839e-10 | Inf | 2.220446e-16 | 1.000000000 | 0.5 | -5.601334e-05 |  9.999553e-01 |\n",
       "\n",
       "\n",
       "$contrasts\n",
       ":   \n",
       "A summary_emm: 6 × 10\n",
       "\n",
       "| <!--/--> | contrast &lt;fct&gt; | condition &lt;fct&gt; | odds.ratio &lt;dbl&gt; | SE &lt;dbl&gt; | df &lt;dbl&gt; | asymp.LCL &lt;dbl&gt; | asymp.UCL &lt;dbl&gt; | null &lt;dbl&gt; | z.ratio &lt;dbl&gt; | p.value &lt;dbl&gt; |\n",
       "|---|---|---|---|---|---|---|---|---|---|---|\n",
       "| 1 | referred / none      | p0 | 1.880091e+01 | 1.245751e+01 | Inf | 5.130644e+00 | 68.89473 | 1 |  4.427861e+00 | 9.517221e-06 |\n",
       "| 2 | referring / none     | p0 | 9.353699e-10 | 1.167149e-05 | Inf | 2.220446e-16 |      Inf | 1 | -1.666147e-03 | 9.986706e-01 |\n",
       "| 3 | referring / referred | p0 | 4.975130e-11 | 6.207938e-07 | Inf | 2.220446e-16 |      Inf | 1 | -1.901274e-03 | 9.984830e-01 |\n",
       "| 4 | referred / none      | r0 | 1.022284e+01 | 3.277043e+00 | Inf | 5.453928e+00 | 19.16167 | 1 |  7.251737e+00 | 4.114608e-13 |\n",
       "| 5 | referring / none     | r0 | 3.139852e-11 | 1.744727e-05 | Inf | 2.220446e-16 |      Inf | 1 | -4.352257e-05 | 9.999653e-01 |\n",
       "| 6 | referring / referred | r0 | 3.071410e-12 | 1.706695e-06 | Inf | 2.220446e-16 |      Inf | 1 | -4.770602e-05 | 9.999619e-01 |\n",
       "\n",
       "\n",
       "\n",
       "\n"
      ],
      "text/plain": [
       "$emmeans\n",
       "condition = p0:\n",
       " rr_type       prob       SE  df asymp.LCL asymp.UCL null z.ratio p.value\n",
       " none      0.001029 3.95e-04 Inf  0.000485   0.00218  0.5 -17.901  <.0001\n",
       " referred  0.019006 1.29e-02 Inf  0.004961   0.07002  0.5  -5.694  <.0001\n",
       " referring 0.000000 1.20e-08 Inf  0.000000   1.00000  0.5  -0.002  0.9982\n",
       "\n",
       "condition = r0:\n",
       " rr_type       prob       SE  df asymp.LCL asymp.UCL null z.ratio p.value\n",
       " none      0.000967 3.05e-04 Inf  0.000521   0.00179  0.5 -21.988  <.0001\n",
       " referred  0.009794 3.37e-03 Inf  0.004978   0.01918  0.5 -13.272  <.0001\n",
       " referring 0.000000 0.00e+00 Inf  0.000000   1.00000  0.5   0.000  1.0000\n",
       "\n",
       "Confidence level used: 0.95 \n",
       "Intervals are back-transformed from the logit scale \n",
       "Tests are performed on the logit scale \n",
       "\n",
       "$contrasts\n",
       "condition = p0:\n",
       " contrast             odds.ratio       SE  df asymp.LCL asymp.UCL null z.ratio\n",
       " referred / none            18.8 1.25e+01 Inf      5.13        69    1   4.428\n",
       " referring / none            0.0 1.20e-05 Inf      0.00       Inf    1  -0.002\n",
       " referring / referred        0.0 1.00e-06 Inf      0.00       Inf    1  -0.002\n",
       " p.value\n",
       "  <.0001\n",
       "  0.9987\n",
       "  0.9985\n",
       "\n",
       "condition = r0:\n",
       " contrast             odds.ratio       SE  df asymp.LCL asymp.UCL null z.ratio\n",
       " referred / none            10.2 3.28e+00 Inf      5.45        19    1   7.252\n",
       " referring / none            0.0 1.70e-05 Inf      0.00       Inf    1   0.000\n",
       " referring / referred        0.0 2.00e-06 Inf      0.00       Inf    1   0.000\n",
       " p.value\n",
       "  <.0001\n",
       "  1.0000\n",
       "  1.0000\n",
       "\n",
       "Confidence level used: 0.95 \n",
       "Intervals are back-transformed from the log odds ratio scale \n",
       "Tests are performed on the log odds ratio scale \n"
      ]
     },
     "metadata": {},
     "output_type": "display_data"
    }
   ],
   "source": [
    "emmeans(p0_r0_seg_seg_rr_type_1, revpairwise ~ rr_type|condition, \n",
    "              type='response', adjust='none') %>% summary(infer = TRUE)"
   ]
  },
  {
   "attachments": {},
   "cell_type": "markdown",
   "metadata": {},
   "source": [
    "# feature analysis"
   ]
  },
  {
   "attachments": {},
   "cell_type": "markdown",
   "metadata": {},
   "source": [
    "## social / non-social"
   ]
  },
  {
   "cell_type": "code",
   "execution_count": 11,
   "metadata": {
    "vscode": {
     "languageId": "r"
    }
   },
   "outputs": [],
   "source": [
    "p0_r0_seg_seg_social_1 <- readRDS(\"../stats_models/rep/p0_r0_seg_seg_social_1.rds\")"
   ]
  },
  {
   "cell_type": "code",
   "execution_count": 86,
   "metadata": {
    "vscode": {
     "languageId": "r"
    }
   },
   "outputs": [
    {
     "data": {
      "text/plain": [
       " condition social     prob       SE  df asymp.LCL asymp.UCL\n",
       " p0        n      0.000000 0.000000 Inf  0.000000   1.00000\n",
       " r0        n      0.001742 0.001106 Inf  0.000501   0.00603\n",
       " p0        s      0.000758 0.000341 Inf  0.000314   0.00183\n",
       " r0        s      0.001396 0.000539 Inf  0.000655   0.00297\n",
       "\n",
       "Confidence level used: 0.95 \n",
       "Intervals are back-transformed from the logit scale "
      ]
     },
     "metadata": {},
     "output_type": "display_data"
    }
   ],
   "source": [
    "emm = emmeans(p0_r0_seg_seg_social_1, ~ condition*social, type='response')\n",
    "emm"
   ]
  }
 ],
 "metadata": {
  "kernelspec": {
   "display_name": "R",
   "language": "R",
   "name": "ir"
  },
  "language_info": {
   "codemirror_mode": "r",
   "file_extension": ".r",
   "mimetype": "text/x-r-source",
   "name": "R",
   "pygments_lexer": "r",
   "version": "4.4.0"
  },
  "orig_nbformat": 4
 },
 "nbformat": 4,
 "nbformat_minor": 2
}
