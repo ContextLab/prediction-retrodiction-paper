{
 "cells": [
  {
   "cell_type": "code",
   "execution_count": 1,
   "metadata": {},
   "outputs": [
    {
     "name": "stdout",
     "output_type": "stream",
     "text": [
      "Requirement already satisfied: davos in /Users/jmanning/opt/anaconda3/envs/prediction-retrodiction/lib/python3.10/site-packages (0.1.1)\n",
      "Requirement already satisfied: setuptools in /Users/jmanning/opt/anaconda3/envs/prediction-retrodiction/lib/python3.10/site-packages (from davos) (66.0.0)\n",
      "Requirement already satisfied: packaging in /Users/jmanning/opt/anaconda3/envs/prediction-retrodiction/lib/python3.10/site-packages (from davos) (21.3)\n",
      "Requirement already satisfied: pyparsing!=3.0.5,>=2.0.2 in /Users/jmanning/opt/anaconda3/envs/prediction-retrodiction/lib/python3.10/site-packages (from packaging->davos) (3.0.4)\n",
      "Note: you may need to restart the kernel to use updated packages.\n"
     ]
    }
   ],
   "source": [
    "%pip install davos\n",
    "import davos\n",
    "\n",
    "davos.config.suppress_stdout = True"
   ]
  },
  {
   "cell_type": "code",
   "execution_count": 76,
   "metadata": {},
   "outputs": [
    {
     "name": "stderr",
     "output_type": "stream",
     "text": [
      "[nltk_data] Downloading package punkt to /Users/jmanning/nltk_data...\n",
      "[nltk_data]   Package punkt is already up-to-date!\n",
      "[nltk_data] Downloading package averaged_perceptron_tagger to\n",
      "[nltk_data]     /Users/jmanning/nltk_data...\n",
      "[nltk_data]   Package averaged_perceptron_tagger is already up-to-\n",
      "[nltk_data]       date!\n"
     ]
    }
   ],
   "source": [
    "from bs4 smuggle BeautifulSoup     # pip: beautifulsoup4==4.12.2\n",
    "smuggle requests                   # pip: requests==2.28.2\n",
    "smuggle nltk                       # pip: nltk==3.8.1\n",
    "from nltk smuggle tokenize, word_tokenize, pos_tag\n",
    "from tqdm smuggle tqdm             # pip: tqdm==4.65.0\n",
    "smuggle textract                   # pip: textract==1.6.4\n",
    "smuggle Levenshtein                # pip: levenshtein\n",
    "smuggle fuzzywuzzy                 # pip: fuzzywuzzy==0.18.0\n",
    "smuggle unidecode                  # pip: Unidecode==1.3.6\n",
    "smuggle pandas as pd               # pip: pandas==2.0.1\n",
    "smuggle seaborn as sns             # pip: seaborn==0.12.2\n",
    "\n",
    "\n",
    "nltk.download('punkt')\n",
    "nltk.download('averaged_perceptron_tagger')\n",
    "\n",
    "smuggle re\n",
    "smuggle os\n",
    "smuggle urllib\n",
    "smuggle json\n",
    "smuggle string\n",
    "smuggle warnings\n",
    "from glob smuggle glob as lsdir\n",
    "\n",
    "from pathlib smuggle Path\n",
    "\n",
    "from helpers smuggle format_filename, get_soup, get_pdf_text, get_doc_text, get_dialogue"
   ]
  },
  {
   "attachments": {},
   "cell_type": "markdown",
   "metadata": {},
   "source": [
    "# Infer tense from text using NLTK's taggers"
   ]
  },
  {
   "attachments": {},
   "cell_type": "markdown",
   "metadata": {},
   "source": [
    "Single sentence tagging"
   ]
  },
  {
   "cell_type": "code",
   "execution_count": 40,
   "metadata": {},
   "outputs": [],
   "source": [
    "def sentence_tense(x):\n",
    "  # source: https://stackoverflow.com/questions/30016904/determining-tense-of-a-sentence-python\n",
    "  def tense_detect(tagged_sentence):        \n",
    "    verb_tags = ['MD','MDF',\n",
    "                'BE','BEG','BEN','BED','BEDZ','BEZ','BEM','BER',\n",
    "                'DO','DOD','DOZ',\n",
    "                'HV','HVG','HVN','HVD','HVZ',\n",
    "                'VB','VBG','VBN','VBD','VBZ',\n",
    "                'SH',\n",
    "                'TO',                \n",
    "                'JJ']\n",
    "    \n",
    "    verb_phrase = []\n",
    "    for item in tagged_sentence:\n",
    "        if item[1] in verb_tags:\n",
    "            verb_phrase.append(item)\n",
    "\n",
    "    grammar = r'''\n",
    "            future perfect continuous passive:     {<MDF><HV><BEN><BEG><VBN|VBD>+}\n",
    "            conditional perfect continuous passive:{<MD><HV><BEN><BEG><VBN|VBD>+}\n",
    "            future continuous passive:             {<MDF><BE><BEG><VBN|VBD>+}   \n",
    "            conditional continuous passive:        {<MD><BE><BEG><VBN|VBD>+}    \n",
    "            future perfect continuous:             {<MDF><HV><BEN><VBG|HVG|BEG>+}   \n",
    "            conditional perfect continuous:        {<MD><HV><BEN><VBG|HVG|BEG>+}\n",
    "            past perfect continuous passive:       {<HVD><BEN><BEG><VBN|VBD>+}\n",
    "            present perfect continuous passive:    {<HV|HVZ><BEN><BEG><VBN|VBD>+}\n",
    "            future perfect passive:                {<MDF><HV><BEN><VBN|VBD>+}   \n",
    "            conditional perfect passive:           {<MD><HV><BEN><VBN|VBD>+}    \n",
    "            future continuous:                     {<MDF><BE><VBG|HVG|BEG>+ }   \n",
    "            conditional continuous:                {<MD><BE><VBG|HVG|BEG>+  }   \n",
    "            future indefinite passive:             {<MDF><BE><VBN|VBD>+ }\n",
    "            conditional indefinite passive:        {<MD><BE><VBN|VBD>+  }\n",
    "            future perfect:                        {<MDF><HV><HVN|BEN|VBN|VBD>+ }   \n",
    "            conditional perfect:                   {<MD><HV><HVN|BEN|VBN|VBD>+  }   \n",
    "            past continuous passive:               {<BED|BEDZ><BEG><VBN|VBD>+}  \n",
    "            past perfect continuous:               {<HVD><BEN><HVG|BEG|VBG>+}   \n",
    "            past perfect passive:                  {<HVD><BEN><VBN|VBD>+}\n",
    "            present continuous passive:            {<BEM|BER|BEZ><BEG><VBN|VBD>+}   \n",
    "            present perfect continuous:            {<HV|HVZ><BEN><VBG|BEG|HVG>+}    \n",
    "            present perfect passive:               {<HV|HVZ><BEN><VBN|VBD>+}\n",
    "            future indefinite:                     {<MDF><BE|DO|VB|HV>+ }       \n",
    "            conditional indefinite:                {<MD><BE|DO|VB|HV>+  }   \n",
    "            past continuous:                       {<BED|BEDZ><VBG|HVG|BEG>+}           \n",
    "            past perfect:                          {<HVD><BEN|VBN|HVD|HVN>+}\n",
    "            past indefinite passive:               {<BED|BEDZ><VBN|VBD>+}   \n",
    "            present indefinite passive:            {<BEM|BER|BEZ><VBN|VBD>+}            \n",
    "            present continuous:                    {<BEM|BER|BEZ><BEG|VBG|HVG>+}            \n",
    "            present perfect:                       {<HV|HVZ><BEN|HVD|VBN|VBD>+  }       \n",
    "            past indefinite:                       {<DOD><VB|HV|DO>|<BEDZ|BED|HVD|VBN|VBD>+}        \n",
    "            infinitive:                            {<TO><BE|HV|VB>+}\n",
    "            present indefinite:                    {<DO|DOZ><DO|HV|VB>+|<DO|HV|VB|BEZ|DOZ|BER|HVZ|BEM|VBZ>+}    \n",
    "            '''\n",
    "\n",
    "    if len(verb_phrase) > 0:\n",
    "      cp = nltk.RegexpParser(grammar)\n",
    "      result = cp.parse(verb_phrase)\n",
    "    else:\n",
    "      result = []\n",
    "    \n",
    "    tenses_set = set()\n",
    "    for node in result:\n",
    "      if type(node) is nltk.tree.Tree:\n",
    "        tenses_set.add(node.label())\n",
    "    \n",
    "    return tenses_set\n",
    "    \n",
    "  text = word_tokenize(x)\n",
    "  tagged = pos_tag(text)\n",
    "  return tense_detect(tagged)"
   ]
  },
  {
   "attachments": {},
   "cell_type": "markdown",
   "metadata": {},
   "source": [
    "Document-level tagging"
   ]
  },
  {
   "cell_type": "code",
   "execution_count": 36,
   "metadata": {},
   "outputs": [],
   "source": [
    "def tag_document(x):\n",
    "  counts = {}\n",
    "  for s in tokenize.sent_tokenize(x):\n",
    "    if len(s) > 0:\n",
    "      for t in sentence_tense(s):\n",
    "        counts[t] = counts.get(t, 0) + 1\n",
    "    else:\n",
    "      pass\n",
    "  return counts"
   ]
  },
  {
   "attachments": {},
   "cell_type": "markdown",
   "metadata": {},
   "source": [
    "# Download datasets"
   ]
  },
  {
   "attachments": {},
   "cell_type": "markdown",
   "metadata": {},
   "source": [
    "## [Internet Movie Script Database (IMSDb)](https://imsdb.com/)"
   ]
  },
  {
   "cell_type": "code",
   "execution_count": 5,
   "metadata": {},
   "outputs": [],
   "source": [
    "imsdb_dir = str(Path.cwd().parent.joinpath('data').joinpath('imsdb'))\n",
    "if not os.path.exists(imsdb_dir):\n",
    "  os.makedirs(imsdb_dir)"
   ]
  },
  {
   "cell_type": "code",
   "execution_count": 6,
   "metadata": {},
   "outputs": [],
   "source": [
    "def get_imsdb():\n",
    "    ALL_URL = \"https://imsdb.com/all-scripts.html\"\n",
    "    BASE_URL = \"https://imsdb.com\"\n",
    "    SOURCE = \"imsdb\"\n",
    "\n",
    "    def get_script_from_url(script_url):\n",
    "        text = \"\"\n",
    "\n",
    "        try:\n",
    "            if script_url.endswith('.pdf'):\n",
    "                text = get_pdf_text(script_url, os.path.join(SOURCE, file_name))\n",
    "                return text\n",
    "\n",
    "            if script_url.endswith('.html'):\n",
    "                script_soup = get_soup(\n",
    "                    script_url)\n",
    "                if script_soup == None:\n",
    "                    return text\n",
    "                if len(script_soup.find_all('td', class_=\"scrtext\")) < 1:\n",
    "                    return \"\"\n",
    "                script_text = script_soup.find_all(\n",
    "                    'td', class_=\"scrtext\")[0].pre\n",
    "\n",
    "                if script_text:\n",
    "                    script_text = script_soup.find_all(\n",
    "                        'td', class_=\"scrtext\")[0].pre.pre\n",
    "                    if script_text:\n",
    "                        text = script_text.get_text()\n",
    "\n",
    "                    else:\n",
    "                        script_text = script_soup.find_all(\n",
    "                            'td', class_=\"scrtext\")[0].pre\n",
    "                        text = script_text.get_text()\n",
    "        except Exception as err:\n",
    "            # print(script_url)\n",
    "            # print(err)\n",
    "            text = \"\"\n",
    "\n",
    "        return text\n",
    "\n",
    "    def get_script_url(movie):\n",
    "        script_page_url = movie.contents[0].get('href')\n",
    "        name = movie.contents[0].text\n",
    "        movie_name = script_page_url.split(\"/\")[-1].strip('Script.html')\n",
    "\n",
    "        script_page_soup = get_soup(BASE_URL + urllib.parse.quote(script_page_url))\n",
    "        if script_page_soup == None:\n",
    "            return \"\", name\n",
    "        paras = script_page_soup.find_all('p', align=\"center\")\n",
    "        if len(paras) < 1:\n",
    "            return \"\", \"\"\n",
    "        script_url = paras[0].contents[0].get('href')\n",
    "\n",
    "        return script_url, name\n",
    "\n",
    "    soup = get_soup(ALL_URL)\n",
    "    movielist = soup.find_all('p')\n",
    "\n",
    "    for movie in tqdm(movielist, desc=SOURCE):\n",
    "        with warnings.catch_warnings():\n",
    "            warnings.simplefilter(\"ignore\")\n",
    "            script_url, name = get_script_url(movie)\n",
    "    \n",
    "        if script_url == \"\":\n",
    "            continue\n",
    "        \n",
    "        script_url = BASE_URL + urllib.parse.quote(script_url)\n",
    "        file_name = format_filename(name)\n",
    "\n",
    "        if os.path.exists(os.path.join(imsdb_dir, file_name + '.txt')):\n",
    "            continue\n",
    "        \n",
    "        with warnings.catch_warnings():\n",
    "            warnings.simplefilter(\"ignore\")\n",
    "            text = get_script_from_url(script_url)\n",
    "\n",
    "        if text == \"\" or name == \"\":\n",
    "            continue\n",
    "        \n",
    "        with open(os.path.join(imsdb_dir, file_name + '.txt'), 'w', errors=\"ignore\") as out:\n",
    "            out.write(text)"
   ]
  },
  {
   "cell_type": "code",
   "execution_count": 7,
   "metadata": {},
   "outputs": [
    {
     "name": "stderr",
     "output_type": "stream",
     "text": [
      "imsdb: 100%|██████████| 1192/1192 [12:37<00:00,  1.57it/s]\n"
     ]
    }
   ],
   "source": [
    "get_imsdb()"
   ]
  },
  {
   "cell_type": "code",
   "execution_count": 7,
   "metadata": {},
   "outputs": [],
   "source": [
    "fnames = [f for f in os.listdir(imsdb_dir) if f.endswith('.txt')]"
   ]
  },
  {
   "cell_type": "code",
   "execution_count": 20,
   "metadata": {},
   "outputs": [],
   "source": [
    "def add_dict(d1, d2):\n",
    "  for k in d2:\n",
    "    if k in d1:\n",
    "      d1[k] += d2[k]\n",
    "    else:\n",
    "      d1[k] = d2[k]\n",
    "  return d1"
   ]
  },
  {
   "cell_type": "code",
   "execution_count": 50,
   "metadata": {},
   "outputs": [
    {
     "name": "stderr",
     "output_type": "stream",
     "text": [
      "100%|██████████| 1127/1127 [32:25<00:00,  1.73s/it]\n"
     ]
    }
   ],
   "source": [
    "all_tenses = []\n",
    "for f in tqdm(fnames):\n",
    "  tenses = {}\n",
    "  dialogue = get_dialogue(os.path.join(imsdb_dir, f))\n",
    "\n",
    "  if dialogue is None:\n",
    "    continue\n",
    "\n",
    "  for d in dialogue['Character_dialogue'].values:\n",
    "    d = d.strip()\n",
    "    if len(d) > 0:\n",
    "      tenses = add_dict(tenses, tag_document(d))\n",
    "  \n",
    "  all_tenses.append((f[:-4], tenses))\n",
    "  "
   ]
  },
  {
   "cell_type": "code",
   "execution_count": 74,
   "metadata": {},
   "outputs": [],
   "source": [
    "def tenses2df(all_tenses):\n",
    "    keys = set()\n",
    "    for t in all_tenses:\n",
    "        keys = keys.union(set(t[1].keys()))\n",
    "\n",
    "    df = pd.DataFrame(columns=list(keys), index=pd.Index([t[0] for t in all_tenses], name='Film'))\n",
    "    for m, t in all_tenses:\n",
    "        for k in t:\n",
    "            df.loc[m, k] = t[k]\n",
    "\n",
    "    df = df.fillna(0)\n",
    "    df['Total'] = df.sum(axis=1)\n",
    "\n",
    "    for k in keys:\n",
    "        df[k] = df[k] / df['Total']\n",
    "    df.drop('Total', axis=1, inplace=True)\n",
    "    return df.dropna(how='all', axis=0)"
   ]
  },
  {
   "cell_type": "code",
   "execution_count": 77,
   "metadata": {},
   "outputs": [
    {
     "data": {
      "text/html": [
       "<div>\n",
       "<style scoped>\n",
       "    .dataframe tbody tr th:only-of-type {\n",
       "        vertical-align: middle;\n",
       "    }\n",
       "\n",
       "    .dataframe tbody tr th {\n",
       "        vertical-align: top;\n",
       "    }\n",
       "\n",
       "    .dataframe thead th {\n",
       "        text-align: right;\n",
       "    }\n",
       "</style>\n",
       "<table border=\"1\" class=\"dataframe\">\n",
       "  <thead>\n",
       "    <tr style=\"text-align: right;\">\n",
       "      <th></th>\n",
       "      <th>past indefinite</th>\n",
       "      <th>conditional indefinite</th>\n",
       "      <th>infinitive</th>\n",
       "      <th>present indefinite</th>\n",
       "    </tr>\n",
       "    <tr>\n",
       "      <th>Film</th>\n",
       "      <th></th>\n",
       "      <th></th>\n",
       "      <th></th>\n",
       "      <th></th>\n",
       "    </tr>\n",
       "  </thead>\n",
       "  <tbody>\n",
       "    <tr>\n",
       "      <th>Midnight-Express</th>\n",
       "      <td>0.272303</td>\n",
       "      <td>0.061722</td>\n",
       "      <td>0.123963</td>\n",
       "      <td>0.542012</td>\n",
       "    </tr>\n",
       "    <tr>\n",
       "      <th>Big-Eyes</th>\n",
       "      <td>0.284532</td>\n",
       "      <td>0.076048</td>\n",
       "      <td>0.084325</td>\n",
       "      <td>0.555096</td>\n",
       "    </tr>\n",
       "    <tr>\n",
       "      <th>Warrior</th>\n",
       "      <td>0.272794</td>\n",
       "      <td>0.069118</td>\n",
       "      <td>0.137500</td>\n",
       "      <td>0.520588</td>\n",
       "    </tr>\n",
       "    <tr>\n",
       "      <th>Hellraiser-Hellseeker</th>\n",
       "      <td>0.278088</td>\n",
       "      <td>0.088144</td>\n",
       "      <td>0.121043</td>\n",
       "      <td>0.512725</td>\n",
       "    </tr>\n",
       "    <tr>\n",
       "      <th>Hannah-and-Her-Sisters</th>\n",
       "      <td>0.270068</td>\n",
       "      <td>0.087430</td>\n",
       "      <td>0.130989</td>\n",
       "      <td>0.511512</td>\n",
       "    </tr>\n",
       "    <tr>\n",
       "      <th>...</th>\n",
       "      <td>...</td>\n",
       "      <td>...</td>\n",
       "      <td>...</td>\n",
       "      <td>...</td>\n",
       "    </tr>\n",
       "    <tr>\n",
       "      <th>Smashed</th>\n",
       "      <td>0.283108</td>\n",
       "      <td>0.125676</td>\n",
       "      <td>0.142568</td>\n",
       "      <td>0.448649</td>\n",
       "    </tr>\n",
       "    <tr>\n",
       "      <th>Wild-Wild-West</th>\n",
       "      <td>0.240385</td>\n",
       "      <td>0.093483</td>\n",
       "      <td>0.136752</td>\n",
       "      <td>0.529380</td>\n",
       "    </tr>\n",
       "    <tr>\n",
       "      <th>Sessions-The</th>\n",
       "      <td>0.239745</td>\n",
       "      <td>0.115983</td>\n",
       "      <td>0.138614</td>\n",
       "      <td>0.505658</td>\n",
       "    </tr>\n",
       "    <tr>\n",
       "      <th>Silver-Linings-Playbook</th>\n",
       "      <td>0.280183</td>\n",
       "      <td>0.107998</td>\n",
       "      <td>0.130413</td>\n",
       "      <td>0.481406</td>\n",
       "    </tr>\n",
       "    <tr>\n",
       "      <th>Four-Rooms</th>\n",
       "      <td>0.218472</td>\n",
       "      <td>0.090014</td>\n",
       "      <td>0.133615</td>\n",
       "      <td>0.557900</td>\n",
       "    </tr>\n",
       "  </tbody>\n",
       "</table>\n",
       "<p>998 rows × 4 columns</p>\n",
       "</div>"
      ],
      "text/plain": [
       "                         past indefinite  conditional indefinite  infinitive   \n",
       "Film                                                                           \n",
       "Midnight-Express                0.272303                0.061722    0.123963  \\\n",
       "Big-Eyes                        0.284532                0.076048    0.084325   \n",
       "Warrior                         0.272794                0.069118    0.137500   \n",
       "Hellraiser-Hellseeker           0.278088                0.088144    0.121043   \n",
       "Hannah-and-Her-Sisters          0.270068                0.087430    0.130989   \n",
       "...                                  ...                     ...         ...   \n",
       "Smashed                         0.283108                0.125676    0.142568   \n",
       "Wild-Wild-West                  0.240385                0.093483    0.136752   \n",
       "Sessions-The                    0.239745                0.115983    0.138614   \n",
       "Silver-Linings-Playbook         0.280183                0.107998    0.130413   \n",
       "Four-Rooms                      0.218472                0.090014    0.133615   \n",
       "\n",
       "                         present indefinite  \n",
       "Film                                         \n",
       "Midnight-Express                   0.542012  \n",
       "Big-Eyes                           0.555096  \n",
       "Warrior                            0.520588  \n",
       "Hellraiser-Hellseeker              0.512725  \n",
       "Hannah-and-Her-Sisters             0.511512  \n",
       "...                                     ...  \n",
       "Smashed                            0.448649  \n",
       "Wild-Wild-West                     0.529380  \n",
       "Sessions-The                       0.505658  \n",
       "Silver-Linings-Playbook            0.481406  \n",
       "Four-Rooms                         0.557900  \n",
       "\n",
       "[998 rows x 4 columns]"
      ]
     },
     "execution_count": 77,
     "metadata": {},
     "output_type": "execute_result"
    }
   ],
   "source": [
    "df = tenses2df(all_tenses)\n",
    "df"
   ]
  },
  {
   "cell_type": "code",
   "execution_count": 88,
   "metadata": {},
   "outputs": [
    {
     "data": {
      "text/plain": [
       "<Axes: xlabel='Proportion', ylabel='Tense'>"
      ]
     },
     "execution_count": 88,
     "metadata": {},
     "output_type": "execute_result"
    },
    {
     "data": {
      "image/png": "[encoded data removed]",
      "text/plain": [
       "<Figure size 432x288 with 1 Axes>"
      ]
     },
     "metadata": {
      "needs_background": "light"
     },
     "output_type": "display_data"
    }
   ],
   "source": [
    "sns.barplot(data=df.reset_index().melt(id_vars='Film', var_name='Tense', value_name='Proportion'), y='Tense', x='Proportion', orient='h')"
   ]
  }
 ],
 "metadata": {
  "kernelspec": {
   "display_name": "prediction-retrodiction",
   "language": "python",
   "name": "prediction-retrodiction"
  },
  "language_info": {
   "codemirror_mode": {
    "name": "ipython",
    "version": 3
   },
   "file_extension": ".py",
   "mimetype": "text/x-python",
   "name": "python",
   "nbconvert_exporter": "python",
   "pygments_lexer": "ipython3",
   "version": "3.10.11"
  },
  "orig_nbformat": 4
 },
 "nbformat": 4,
 "nbformat_minor": 2
}
