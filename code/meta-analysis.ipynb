{
 "cells": [
  {
   "cell_type": "code",
   "execution_count": 1,
   "metadata": {},
   "outputs": [],
   "source": [
    "try:\n",
    "    import davos\n",
    "except:\n",
    "    %pip install davos\n",
    "davos.config.suppress_stdout = True"
   ]
  },
  {
   "cell_type": "code",
   "execution_count": 234,
   "metadata": {},
   "outputs": [
    {
     "name": "stderr",
     "output_type": "stream",
     "text": [
      "[nltk_data] Downloading package averaged_perceptron_tagger to\n",
      "[nltk_data]     /Users/jmanning/nltk_data...\n",
      "[nltk_data]   Package averaged_perceptron_tagger is already up-to-\n",
      "[nltk_data]       date!\n"
     ]
    }
   ],
   "source": [
    "# from bs4 smuggle BeautifulSoup                              # pip: beautifulsoup4==4.12.2\n",
    "smuggle requests                                            # pip: requests==2.28.2\n",
    "from tqdm smuggle tqdm                                      # pip: tqdm==4.65.0\n",
    "# smuggle textract                                            # pip: textract==1.6.4\n",
    "# smuggle Levenshtein                                         # pip: levenshtein\n",
    "# smuggle fuzzywuzzy                                          # pip: fuzzywuzzy==0.18.0\n",
    "# smuggle unidecode                                           # pip: Unidecode==1.3.6\n",
    "smuggle pandas as pd                                        # pip: pandas==2.0.1\n",
    "smuggle numpy as np                                         # pip: numpy==1.25.2\n",
    "smuggle seaborn as sns                                      # pip: seaborn==0.12.2\n",
    "from matplotlib smuggle pyplot as plt                       # pip: matplotlib==3.7.1\n",
    "from IPython.display import Markdown\n",
    "# smuggle llama_cpp                                           # pip: llama-cpp-python==0.1.83\n",
    "# from langchain.llms smuggle LlamaCpp                        # pip: langchain==0.0.274\n",
    "# from langchain.prompts import PromptTemplate\n",
    "# from langchain.chains import LLMChain\n",
    "# from huggingface_hub smuggle hf_hub_download\n",
    "smuggle openpyxl                                           # pip: openpyxl==3.1.2\n",
    "\n",
    "from nltk.tokenize smuggle word_tokenize, sent_tokenize     # pip: nltk==3.8.1\n",
    "from nltk import pos_tag\n",
    "\n",
    "nltk.download('averaged_perceptron_tagger')\n",
    "\n",
    "smuggle contractions                                       # pip: contractions==0.1.73\n",
    "\n",
    "smuggle re\n",
    "smuggle os\n",
    "smuggle urllib\n",
    "smuggle json\n",
    "smuggle string\n",
    "smuggle warnings\n",
    "smuggle pickle\n",
    "from glob smuggle glob as lsdir\n",
    "from collections import defaultdict\n",
    "\n",
    "from pathlib smuggle Path\n",
    "\n",
    "from helpers smuggle format_filename, get_soup, get_pdf_text, get_doc_text, get_dialogue"
   ]
  },
  {
   "cell_type": "markdown",
   "metadata": {},
   "source": [
    "# Predicting references to past and future events\n",
    "\n",
    "At a high level, the goal of this meta analysis is to predict in-text references to past and future events.  Manually identifying these references is labor and time intensive, so it is impractical to scale up manual tagging to millions of documents.  Instead, we've defined some heuristics for *predicting* when text is referring to real or hypothetical past or future events.  Our approach comprises four main steps:\n",
    "\n",
    "1. First we use the `nltk` package to segment each document into individual sentences. Each sentence is processed independently of the others.\n",
    "2. Next, we handle contractions using the `contractions` package (e.g., \"we'll\" gets split into \"we will,\" and so on).\n",
    "3. Third, we define two sets of \"keywords\" (words and phrases) that tend to be indicative of referring to the past (`past_keywords.txt`) or future (`future_keywords.txt`).  We used ChatGPT (`gpt-4`) to generate each list, with exactly 50 templates per list, using the following prompt:\n",
    "```\n",
    "I'm designing a heuristic algorithm for identifying references (in text) to past and future events. Part of the algorithm will involve looking for specific keywords or phrases that suggest that the text is referring to something that happened (or will happen) in the past and/or future. Could you help me generate a list of 50 keywords or phrases to include in each list (one list for identifying references to the past and a second list for identifying references to the future)? I'd like to be able to paste the lists you generate into two plain text documents with one row per keyword or phrase, and no other content. Please output the lists as a \"code\" block (enclosed by ```...```).\n",
    "```\n",
    "4. Finally, we use part-of-speech tagging (using the `nltk` package) to look for verbs or verb phrases that are in past or future tenses. After the words are tagged with their predicted parts of speech, we use regular expressions (applied to the sequences of tags) to label each verb or verb phrase with a human readable verb form (e.g., \"future perfect continuous passive,\" \"conditional perfect continuous passive,\" and so on).\n",
    "\n",
    "We treat each keyword match (of past or future keywords) as a single \"reference\" (to a past or future event, respectively), and if any past or future verb forms are detected we treat those as (up to) one additional reference.  We then tally up the numbers of past and/or future references across sentences within the document.\n",
    "\n",
    "The `process_folder` function returns two things:\n",
    "  - `df_results` is a DataFrame with one row per document (index), and the following columns:\n",
    "    - `Past`: the number of references to past events identified in the document\n",
    "    - `Future`: the number of references to future events identified in the document\n",
    "  - `sent_results` is a dictionary whose keys are filenames of .txt files in the given folder, and whose values are DataFrames with one row per sentence in the given document.  The per-document DataFrames have the following columns:\n",
    "    - `content`: the text of the given sentence\n",
    "    - `past`: the number of references to past events identified in the given sentence\n",
    "    - `future`: the number of references to future events identified in the given sentence\n",
    "\n",
    "In the metaanalysis reported in our paper, we only use results from the `df_results` DataFrames.  However, the `sent_results` dictionaries are useful for spot-checking how the heuristics are working, and for digging into results for any given document(s).\n",
    "\n",
    "Running the `process_folder` function can take a long time if there are many documents to process.  We save out the results as pickle files after running the function for the first time on a given directory so that the analysis only needs to be run one time per folder."
   ]
  },
  {
   "cell_type": "code",
   "execution_count": 107,
   "metadata": {},
   "outputs": [],
   "source": [
    "def load_keywords(filename):\n",
    "    with open(filename, 'r') as f:\n",
    "        return set(line.strip() for line in f)\n",
    "\n",
    "\n",
    "def handle_contractions(sentence):\n",
    "    return contractions.fix(sentence)\n",
    "\n",
    "\n",
    "def sentence_tense(x):\n",
    "  # source: https://stackoverflow.com/questions/30016904/determining-tense-of-a-sentence-python\n",
    "  def tense_detect(tagged_sentence):        \n",
    "    verb_tags = ['MD','MDF',\n",
    "                'BE','BEG','BEN','BED','BEDZ','BEZ','BEM','BER',\n",
    "                'DO','DOD','DOZ',\n",
    "                'HV','HVG','HVN','HVD','HVZ',\n",
    "                'VB','VBG','VBN','VBD','VBZ',\n",
    "                'SH',\n",
    "                'TO',                \n",
    "                'JJ']\n",
    "    \n",
    "    verb_phrase = []\n",
    "    for item in tagged_sentence:\n",
    "        if item[1] in verb_tags:\n",
    "            verb_phrase.append(item)\n",
    "\n",
    "    grammar = r'''\n",
    "            future perfect continuous passive:     {<MDF><HV><BEN><BEG><VBN|VBD>+}\n",
    "            conditional perfect continuous passive:{<MD><HV><BEN><BEG><VBN|VBD>+}\n",
    "            future continuous passive:             {<MDF><BE><BEG><VBN|VBD>+}   \n",
    "            conditional continuous passive:        {<MD><BE><BEG><VBN|VBD>+}    \n",
    "            future perfect continuous:             {<MDF><HV><BEN><VBG|HVG|BEG>+}   \n",
    "            conditional perfect continuous:        {<MD><HV><BEN><VBG|HVG|BEG>+}\n",
    "            past perfect continuous passive:       {<HVD><BEN><BEG><VBN|VBD>+}\n",
    "            present perfect continuous passive:    {<HV|HVZ><BEN><BEG><VBN|VBD>+}\n",
    "            future perfect passive:                {<MDF><HV><BEN><VBN|VBD>+}   \n",
    "            conditional perfect passive:           {<MD><HV><BEN><VBN|VBD>+}    \n",
    "            future continuous:                     {<MDF><BE><VBG|HVG|BEG>+ }   \n",
    "            conditional continuous:                {<MD><BE><VBG|HVG|BEG>+  }   \n",
    "            future indefinite passive:             {<MDF><BE><VBN|VBD>+ }\n",
    "            conditional indefinite passive:        {<MD><BE><VBN|VBD>+  }\n",
    "            future perfect:                        {<MDF><HV><HVN|BEN|VBN|VBD>+ }   \n",
    "            conditional perfect:                   {<MD><HV><HVN|BEN|VBN|VBD>+  }   \n",
    "            past continuous passive:               {<BED|BEDZ><BEG><VBN|VBD>+}  \n",
    "            past perfect continuous:               {<HVD><BEN><HVG|BEG|VBG>+}   \n",
    "            past perfect passive:                  {<HVD><BEN><VBN|VBD>+}\n",
    "            present continuous passive:            {<BEM|BER|BEZ><BEG><VBN|VBD>+}   \n",
    "            present perfect continuous:            {<HV|HVZ><BEN><VBG|BEG|HVG>+}    \n",
    "            present perfect passive:               {<HV|HVZ><BEN><VBN|VBD>+}\n",
    "            future indefinite:                     {<MDF><BE|DO|VB|HV>+ }       \n",
    "            conditional indefinite:                {<MD><BE|DO|VB|HV>+  }   \n",
    "            past continuous:                       {<BED|BEDZ><VBG|HVG|BEG>+}           \n",
    "            past perfect:                          {<HVD><BEN|VBN|HVD|HVN>+}\n",
    "            past indefinite passive:               {<BED|BEDZ><VBN|VBD>+}   \n",
    "            present indefinite passive:            {<BEM|BER|BEZ><VBN|VBD>+}            \n",
    "            present continuous:                    {<BEM|BER|BEZ><BEG|VBG|HVG>+}            \n",
    "            present perfect:                       {<HV|HVZ><BEN|HVD|VBN|VBD>+  }       \n",
    "            past indefinite:                       {<DOD><VB|HV|DO>|<BEDZ|BED|HVD|VBN|VBD>+}        \n",
    "            infinitive:                            {<TO><BE|HV|VB>+}\n",
    "            present indefinite:                    {<DO|DOZ><DO|HV|VB>+|<DO|HV|VB|BEZ|DOZ|BER|HVZ|BEM|VBZ>+}    \n",
    "            '''\n",
    "\n",
    "    if len(verb_phrase) > 0:\n",
    "      cp = nltk.RegexpParser(grammar)\n",
    "      result = cp.parse(verb_phrase)\n",
    "    else:\n",
    "      result = []\n",
    "    \n",
    "    tenses_set = set()\n",
    "    for node in result:\n",
    "      if type(node) is nltk.tree.Tree:\n",
    "        tenses_set.add(node.label())\n",
    "    \n",
    "    return tenses_set\n",
    "    \n",
    "  text = word_tokenize(x)\n",
    "  tagged = pos_tag(text)\n",
    "  return tense_detect(tagged)\n",
    "\n",
    "\n",
    "def analyze_sentence(sentence, past_keywords, future_keywords):\n",
    "    past_count = 0\n",
    "    future_count = 0\n",
    "\n",
    "    sentence = handle_contractions(sentence)\n",
    "    \n",
    "    # Check for past and future keywords\n",
    "    past_kw_found = any(keyword in sentence for keyword in past_keywords)\n",
    "    future_kw_found = any(keyword in sentence for keyword in future_keywords)\n",
    "\n",
    "    # Count up to one past and/or future reference based on keywords\n",
    "    past_count += int(past_kw_found)\n",
    "    future_count += int(future_kw_found)\n",
    "    \n",
    "    # Also look at tenses\n",
    "    tenses = sentence_tense(sentence)\n",
    "    if any(['past' in x for x in tenses]):\n",
    "        past_count += 1\n",
    "    if any(['future' in x for x in tenses]) or any(['conditional indefinite' in x for x in tenses]):\n",
    "        future_count += 1\n",
    "\n",
    "    return past_count, future_count\n",
    "\n",
    "\n",
    "def process_folder(folder_path, past_keywords, future_keywords):    \n",
    "    # Dictionary to store results\n",
    "    results_dict = defaultdict(lambda: {\"Past\": 0, \"Future\": 0})\n",
    "    sentence_dfs = {}\n",
    "\n",
    "    for file_name in tqdm(os.listdir(folder_path)):\n",
    "        if file_name.endswith(\".txt\"):\n",
    "            with open(os.path.join(folder_path, file_name), 'r', encoding=\"utf-8\") as f:\n",
    "                content = f.read()\n",
    "                sentences = nltk.sent_tokenize(content)\n",
    "\n",
    "                # Dataframe to store results for each sentence in the current file\n",
    "                df = pd.DataFrame(columns=[\"content\", \"past\", \"future\"])\n",
    "\n",
    "                for sentence in sentences:\n",
    "                    past_count, future_count = analyze_sentence(sentence, past_keywords, future_keywords)\n",
    "                    results_dict[file_name][\"Past\"] += past_count\n",
    "                    results_dict[file_name][\"Future\"] += future_count\n",
    "                    df = df._append({\"content\": sentence, \"past\": past_count, \"future\": future_count}, ignore_index=True)\n",
    "\n",
    "                sentence_dfs[file_name] = df\n",
    "\n",
    "    df_results = pd.DataFrame(results_dict).T\n",
    "\n",
    "    return df_results, sentence_dfs"
   ]
  },
  {
   "cell_type": "markdown",
   "metadata": {},
   "source": [
    "## Keywords that reflect past events"
   ]
  },
  {
   "cell_type": "code",
   "execution_count": 229,
   "metadata": {},
   "outputs": [
    {
     "data": {
      "text/markdown": [
       "**Past keywords and phrases:**\n",
       "\n",
       "used to be | historically | in those days | once upon a time | last season | last semester | since | hitherto | last quarter | wrote | before | last year | yesterday | last month | so far | made | had | was | used to | back when | antiquity | formerly | were | last time | concluded | recently | once | up to now | bygone | long ago | previously | yesteryear | terminated | ceased | last night | then | heretofore | expired | last week | in the past | already | ago | olden days | did | elapsed | to date | thus far | earlier | said | final"
      ],
      "text/plain": [
       "<IPython.core.display.Markdown object>"
      ]
     },
     "execution_count": 229,
     "metadata": {},
     "output_type": "execute_result"
    }
   ],
   "source": [
    "past_keywords = load_keywords(str(Path.cwd().parent.joinpath('data', 'past_keywords.txt')))\n",
    "Markdown('**Past keywords and phrases:**\\n\\n' + ' | '.join(past_keywords))"
   ]
  },
  {
   "cell_type": "markdown",
   "metadata": {},
   "source": [
    "## Keywords that reflect future events"
   ]
  },
  {
   "cell_type": "code",
   "execution_count": 230,
   "metadata": {},
   "outputs": [
    {
     "data": {
      "text/markdown": [
       "**Future keywords and phrases:**\n",
       "\n",
       "intend to | in time | imminently | after | hereafter | upcoming | on the horizon | impending | next quarter | eventual | futuristic | looming | may | in the future | next week | subsequent | predicted | soon | might | could | succeeding | later on | next time | next year | next month | scheduled to | next season | will | shall | in the works | eventually | to be | shortly | going to | next semester | can | prospective | tomorrow | anticipated | down the line | later | in the cards | plan to | some day | forthcoming"
      ],
      "text/plain": [
       "<IPython.core.display.Markdown object>"
      ]
     },
     "execution_count": 230,
     "metadata": {},
     "output_type": "execute_result"
    }
   ],
   "source": [
    "future_keywords = load_keywords(str(Path.cwd().parent.joinpath('data', 'future_keywords.txt')))\n",
    "Markdown('**Future keywords and phrases:**\\n\\n' + ' | '.join(future_keywords))"
   ]
  },
  {
   "cell_type": "markdown",
   "metadata": {},
   "source": [
    "# Download the data\n",
    "\n",
    "We'll examine 12 datasets that span several broad categories of documents: *film* (transcripts of movies or excerpts of transcripts from movies), *television* (transcripts of television shows or excerpts of transcripts from television shows), *speech* (transcripts of spoken communication), and *text* (written works or conversations that took place using text-based media).\n",
    "\n",
    "The datasets are summarized in the DataFrame below:"
   ]
  },
  {
   "cell_type": "code",
   "execution_count": 236,
   "metadata": {},
   "outputs": [
    {
     "data": {
      "text/html": [
       "<div>\n",
       "<style scoped>\n",
       "    .dataframe tbody tr th:only-of-type {\n",
       "        vertical-align: middle;\n",
       "    }\n",
       "\n",
       "    .dataframe tbody tr th {\n",
       "        vertical-align: top;\n",
       "    }\n",
       "\n",
       "    .dataframe thead th {\n",
       "        text-align: right;\n",
       "    }\n",
       "</style>\n",
       "<table border=\"1\" class=\"dataframe\">\n",
       "  <thead>\n",
       "    <tr style=\"text-align: right;\">\n",
       "      <th></th>\n",
       "      <th>Dataset</th>\n",
       "      <th>Short name</th>\n",
       "      <th>Data URL</th>\n",
       "      <th>Source URL</th>\n",
       "      <th>Description</th>\n",
       "      <th>Category</th>\n",
       "    </tr>\n",
       "  </thead>\n",
       "  <tbody>\n",
       "    <tr>\n",
       "      <th>0</th>\n",
       "      <td>Internet Movie Script Database</td>\n",
       "      <td>IMSDb</td>\n",
       "      <td>https://www.dropbox.com/scl/fi/ct39vqqq9sjqyyh...</td>\n",
       "      <td>https://imsdb.com</td>\n",
       "      <td>A collection of scripts from roughly 1000 popu...</td>\n",
       "      <td>Film</td>\n",
       "    </tr>\n",
       "    <tr>\n",
       "      <th>1</th>\n",
       "      <td>Movie Dialogues Dataset</td>\n",
       "      <td>Movies</td>\n",
       "      <td>https://www.dropbox.com/s/881yuhil48v6q1n/movi...</td>\n",
       "      <td>https://convokit.cornell.edu/documentation/mov...</td>\n",
       "      <td>A large collection of fictional conversations ...</td>\n",
       "      <td>Film</td>\n",
       "    </tr>\n",
       "    <tr>\n",
       "      <th>2</th>\n",
       "      <td>Switchboard Dialog Act Corpus</td>\n",
       "      <td>Switchboard</td>\n",
       "      <td>https://www.dropbox.com/s/qvx4211u41l2ex4/swit...</td>\n",
       "      <td>https://convokit.cornell.edu/documentation/swi...</td>\n",
       "      <td>A collection of five-minute telephone conversa...</td>\n",
       "      <td>Speech</td>\n",
       "    </tr>\n",
       "    <tr>\n",
       "      <th>3</th>\n",
       "      <td>Supreme Court Corpus</td>\n",
       "      <td>SCOTUS</td>\n",
       "      <td>https://www.dropbox.com/s/icxk3ubo2u2brzq/supr...</td>\n",
       "      <td>https://convokit.cornell.edu/documentation/sup...</td>\n",
       "      <td>A collection of cases from the U.S. Supreme Co...</td>\n",
       "      <td>Speech</td>\n",
       "    </tr>\n",
       "    <tr>\n",
       "      <th>4</th>\n",
       "      <td>Tennis Interviews</td>\n",
       "      <td>Tennis</td>\n",
       "      <td>https://www.dropbox.com/s/q7bfirllnu32mao/tenn...</td>\n",
       "      <td>https://convokit.cornell.edu/documentation/ten...</td>\n",
       "      <td>Transcripts for tennis singles post-match pres...</td>\n",
       "      <td>Speech</td>\n",
       "    </tr>\n",
       "    <tr>\n",
       "      <th>5</th>\n",
       "      <td>Persuasion for Good Corpus</td>\n",
       "      <td>PfG</td>\n",
       "      <td>https://www.dropbox.com/scl/fi/ei7uxv9husg9noj...</td>\n",
       "      <td>https://convokit.cornell.edu/documentation/per...</td>\n",
       "      <td>A collection of online conversations generated...</td>\n",
       "      <td>Speech</td>\n",
       "    </tr>\n",
       "    <tr>\n",
       "      <th>6</th>\n",
       "      <td>Intelligence Squared Debates Corpus</td>\n",
       "      <td>IQ2</td>\n",
       "      <td>https://www.dropbox.com/scl/fi/srg1j0m4rhgoqhl...</td>\n",
       "      <td>https://convokit.cornell.edu/documentation/iq2...</td>\n",
       "      <td>This dataset contains transcripts of debates h...</td>\n",
       "      <td>Speech</td>\n",
       "    </tr>\n",
       "    <tr>\n",
       "      <th>7</th>\n",
       "      <td>Group Affect and Performance Corpus</td>\n",
       "      <td>GAP</td>\n",
       "      <td>https://www.dropbox.com/scl/fi/j1zh1pey7m8kcyr...</td>\n",
       "      <td>https://convokit.cornell.edu/documentation/gap...</td>\n",
       "      <td>Group members completed a Winter Survival Task...</td>\n",
       "      <td>Speech</td>\n",
       "    </tr>\n",
       "    <tr>\n",
       "      <th>8</th>\n",
       "      <td>The Chair</td>\n",
       "      <td>Chair</td>\n",
       "      <td>https://www.dropbox.com/scl/fi/9cpj3t1n1ktxghu...</td>\n",
       "      <td>https://scrapsfromtheloft.com/?s=THE+CHAIR</td>\n",
       "      <td>Scraped transcripts from The Chair, Season 1.</td>\n",
       "      <td>Television</td>\n",
       "    </tr>\n",
       "    <tr>\n",
       "      <th>9</th>\n",
       "      <td>Friends Corpus</td>\n",
       "      <td>Friends</td>\n",
       "      <td>https://www.dropbox.com/s/nfaa6ap0ws1rqjy/frie...</td>\n",
       "      <td>https://convokit.cornell.edu/documentation/fri...</td>\n",
       "      <td>A collection of all the conversations that occ...</td>\n",
       "      <td>Television</td>\n",
       "    </tr>\n",
       "    <tr>\n",
       "      <th>10</th>\n",
       "      <td>Gutenberg Dialogue Dataset</td>\n",
       "      <td>Gutenberg</td>\n",
       "      <td>https://www.dropbox.com/s/84rid3cboynutmr/gute...</td>\n",
       "      <td>https://github.com/ricsinaruto/gutenberg-dialog</td>\n",
       "      <td>Dialogues extracted from the Project Gutenberg...</td>\n",
       "      <td>Text</td>\n",
       "    </tr>\n",
       "    <tr>\n",
       "      <th>11</th>\n",
       "      <td>Reddit Corpus</td>\n",
       "      <td>Reddit</td>\n",
       "      <td>https://www.dropbox.com/s/k7cun7f6x2guwva/redd...</td>\n",
       "      <td>https://convokit.cornell.edu/documentation/sub...</td>\n",
       "      <td>A collection of Corpuses of Reddit data built ...</td>\n",
       "      <td>Text</td>\n",
       "    </tr>\n",
       "  </tbody>\n",
       "</table>\n",
       "</div>"
      ],
      "text/plain": [
       "                                Dataset   Short name   \n",
       "0        Internet Movie Script Database        IMSDb  \\\n",
       "1               Movie Dialogues Dataset       Movies   \n",
       "2         Switchboard Dialog Act Corpus  Switchboard   \n",
       "3                  Supreme Court Corpus       SCOTUS   \n",
       "4                     Tennis Interviews       Tennis   \n",
       "5            Persuasion for Good Corpus          PfG   \n",
       "6   Intelligence Squared Debates Corpus          IQ2   \n",
       "7   Group Affect and Performance Corpus          GAP   \n",
       "8                             The Chair        Chair   \n",
       "9                        Friends Corpus      Friends   \n",
       "10           Gutenberg Dialogue Dataset    Gutenberg   \n",
       "11                        Reddit Corpus       Reddit   \n",
       "\n",
       "                                             Data URL   \n",
       "0   https://www.dropbox.com/scl/fi/ct39vqqq9sjqyyh...  \\\n",
       "1   https://www.dropbox.com/s/881yuhil48v6q1n/movi...   \n",
       "2   https://www.dropbox.com/s/qvx4211u41l2ex4/swit...   \n",
       "3   https://www.dropbox.com/s/icxk3ubo2u2brzq/supr...   \n",
       "4   https://www.dropbox.com/s/q7bfirllnu32mao/tenn...   \n",
       "5   https://www.dropbox.com/scl/fi/ei7uxv9husg9noj...   \n",
       "6   https://www.dropbox.com/scl/fi/srg1j0m4rhgoqhl...   \n",
       "7   https://www.dropbox.com/scl/fi/j1zh1pey7m8kcyr...   \n",
       "8   https://www.dropbox.com/scl/fi/9cpj3t1n1ktxghu...   \n",
       "9   https://www.dropbox.com/s/nfaa6ap0ws1rqjy/frie...   \n",
       "10  https://www.dropbox.com/s/84rid3cboynutmr/gute...   \n",
       "11  https://www.dropbox.com/s/k7cun7f6x2guwva/redd...   \n",
       "\n",
       "                                           Source URL   \n",
       "0                                   https://imsdb.com  \\\n",
       "1   https://convokit.cornell.edu/documentation/mov...   \n",
       "2   https://convokit.cornell.edu/documentation/swi...   \n",
       "3   https://convokit.cornell.edu/documentation/sup...   \n",
       "4   https://convokit.cornell.edu/documentation/ten...   \n",
       "5   https://convokit.cornell.edu/documentation/per...   \n",
       "6   https://convokit.cornell.edu/documentation/iq2...   \n",
       "7   https://convokit.cornell.edu/documentation/gap...   \n",
       "8          https://scrapsfromtheloft.com/?s=THE+CHAIR   \n",
       "9   https://convokit.cornell.edu/documentation/fri...   \n",
       "10    https://github.com/ricsinaruto/gutenberg-dialog   \n",
       "11  https://convokit.cornell.edu/documentation/sub...   \n",
       "\n",
       "                                          Description    Category  \n",
       "0   A collection of scripts from roughly 1000 popu...        Film  \n",
       "1   A large collection of fictional conversations ...        Film  \n",
       "2   A collection of five-minute telephone conversa...      Speech  \n",
       "3   A collection of cases from the U.S. Supreme Co...      Speech  \n",
       "4   Transcripts for tennis singles post-match pres...      Speech  \n",
       "5   A collection of online conversations generated...      Speech  \n",
       "6   This dataset contains transcripts of debates h...      Speech  \n",
       "7   Group members completed a Winter Survival Task...      Speech  \n",
       "8       Scraped transcripts from The Chair, Season 1.  Television  \n",
       "9   A collection of all the conversations that occ...  Television  \n",
       "10  Dialogues extracted from the Project Gutenberg...        Text  \n",
       "11  A collection of Corpuses of Reddit data built ...        Text  "
      ]
     },
     "execution_count": 236,
     "metadata": {},
     "output_type": "execute_result"
    }
   ],
   "source": [
    "data_list = Path.cwd().parent.joinpath('data', 'metaanalysis-datasets.xlsx')\n",
    "data = pd.read_excel(data_list)\n",
    "data"
   ]
  },
  {
   "cell_type": "markdown",
   "metadata": {},
   "source": [
    "# Detect past and future events\n",
    "\n",
    "For each dataset in the `data` DataFrame, we'll:\n",
    "  - Download and extract the dataset if it doesn't already exist locally\n",
    "  - Check to see whether the metaanalysis has already been run on that folder.  If not, we'll run the `process_folder` function on the dataset's directory and save the results"
   ]
  },
  {
   "cell_type": "code",
   "execution_count": 241,
   "metadata": {},
   "outputs": [
    {
     "name": "stdout",
     "output_type": "stream",
     "text": [
      "['https://www.dropbox.com/scl/fi/ct39vqqq9sjqyyhie5tav/imsdb.zip?rlkey=g3hfbe8wl40aczt21lzamm717&dl=1'\n",
      " 'https://www.dropbox.com/s/881yuhil48v6q1n/movie_dialogues.zip?dl=1'\n",
      " 'https://www.dropbox.com/s/qvx4211u41l2ex4/switchboard.zip?dl=1'\n",
      " 'https://www.dropbox.com/s/icxk3ubo2u2brzq/supreme_court_oral_arguments.zip?dl=1'\n",
      " 'https://www.dropbox.com/s/q7bfirllnu32mao/tennis_interviews.zip?dl=1'\n",
      " 'https://www.dropbox.com/scl/fi/ei7uxv9husg9nojzknq4y/persuasion_for_good.zip?rlkey=4scpdku5xaeoca845o5vlrnuz&dl=1'\n",
      " 'https://www.dropbox.com/scl/fi/srg1j0m4rhgoqhlblre71/intelligence_squared.zip?rlkey=nm275vghhfg07pv24jgo0va9x&dl=1'\n",
      " 'https://www.dropbox.com/scl/fi/j1zh1pey7m8kcyryfzsw7/group_affect_and_performance.zip?rlkey=xynn96irg4lpj1bgdu3ncinca&dl=1'\n",
      " 'https://www.dropbox.com/scl/fi/9cpj3t1n1ktxghuuislr7/the_chair.zip?rlkey=br9c8n1tqnhgj69cypp0t42uq&dl=1'\n",
      " 'https://www.dropbox.com/s/nfaa6ap0ws1rqjy/friends_dialogues.zip?dl=1'\n",
      " 'https://www.dropbox.com/s/84rid3cboynutmr/gutenberg_dialogue.zip?dl=1'\n",
      " 'https://www.dropbox.com/s/k7cun7f6x2guwva/reddit.zip?dl=1']\n"
     ]
    }
   ],
   "source": [
    "print(data['Data URL'].values)"
   ]
  },
  {
   "cell_type": "code",
   "execution_count": 242,
   "metadata": {},
   "outputs": [
    {
     "data": {
      "text/plain": [
       "'https://www.dropbox.com/scl/fi/ct39vqqq9sjqyyhie5tav/imsdb.zip?rlkey=g3hfbe8wl40aczt21lzamm717&dl=1'"
      ]
     },
     "execution_count": 242,
     "metadata": {},
     "output_type": "execute_result"
    }
   ],
   "source": [
    "x = data['Data URL'].values[0]\n",
    "x"
   ]
  },
  {
   "cell_type": "code",
   "execution_count": 246,
   "metadata": {},
   "outputs": [
    {
     "data": {
      "text/plain": [
       "'imsdb'"
      ]
     },
     "execution_count": 246,
     "metadata": {},
     "output_type": "execute_result"
    }
   ],
   "source": [
    "[s for s in x.split('/') if '.zip' in s][0].split('?')[0][:-4]"
   ]
  },
  {
   "cell_type": "code",
   "execution_count": 249,
   "metadata": {},
   "outputs": [],
   "source": [
    "def get_folder_name(url):\n",
    "    return [s for s in url.split('/') if '.zip' in s][0].split('?')[0][:-4]\n",
    "\n",
    "def download_dataset(url, outdir):\n",
    "    # Download dataset\n",
    "    filename = get_folder_name(url) + '.zip'\n",
    "    x = requests.get(url)\n",
    "\n",
    "    with open(filename, 'wb') as f:\n",
    "        f.write(x.content)\n",
    "    \n",
    "    # Unzip dataset\n",
    "    with zipfile.ZipFile(filename, 'r') as zip_ref:\n",
    "        zip_ref.extractall(outdir)\n",
    "\n",
    "    # Delete zip file\n",
    "    os.remove(filename)"
   ]
  },
  {
   "cell_type": "code",
   "execution_count": 251,
   "metadata": {},
   "outputs": [
    {
     "name": "stdout",
     "output_type": "stream",
     "text": [
      "Processing dataset: Internet Movie Script Database\n",
      "Processing dataset: Movie Dialogues Dataset\n"
     ]
    },
    {
     "name": "stderr",
     "output_type": "stream",
     "text": [
      "100%|██████████| 304713/304713 [20:30<00:00, 247.67it/s] \n"
     ]
    },
    {
     "name": "stdout",
     "output_type": "stream",
     "text": [
      "Processing dataset: Switchboard Dialog Act Corpus\n"
     ]
    },
    {
     "name": "stderr",
     "output_type": "stream",
     "text": [
      "100%|██████████| 122646/122646 [08:57<00:00, 228.38it/s]\n"
     ]
    },
    {
     "name": "stdout",
     "output_type": "stream",
     "text": [
      "Processing dataset: Supreme Court Corpus\n"
     ]
    },
    {
     "name": "stderr",
     "output_type": "stream",
     "text": [
      " 17%|█▋        | 287413/1700789 [36:11<2:00:56, 194.78it/s]"
     ]
    }
   ],
   "source": [
    "datadir = Path.cwd().parent.joinpath('data')\n",
    "results = {}\n",
    "\n",
    "for i, row in data.iterrows():\n",
    "    print('Processing dataset: ' + row['Dataset'])\n",
    "    results_fname = datadir.joinpath(row['Short name'].lower() + '_results.pkl')\n",
    "    if not results_fname.exists():\n",
    "        # check whether the dataset exists locally and has at least 5 .txt files\n",
    "        next_datadir = datadir.joinpath(get_folder_name(row['Data URL']))\n",
    "        if not (next_datadir.exists() and len(lsdir(str(next_datadir.joinpath('*.txt')))) >= 5):\n",
    "            # download the dataset\n",
    "            download_dataset(row['Data URL'], datadir)\n",
    "        \n",
    "        # process the dataset\n",
    "        df_results, sentence_dfs = process_folder(next_datadir, past_keywords, future_keywords)\n",
    "        with open(results_fname, 'wb') as f:\n",
    "            pickle.dump([df_results, sentence_dfs], f)\n",
    "    \n",
    "    with open(results_fname, 'rb') as f:\n",
    "        results[row['Short name']] = pickle.load(f)[0]"
   ]
  },
  {
   "cell_type": "code",
   "execution_count": 122,
   "metadata": {},
   "outputs": [
    {
     "data": {
      "text/html": [
       "<div>\n",
       "<style scoped>\n",
       "    .dataframe tbody tr th:only-of-type {\n",
       "        vertical-align: middle;\n",
       "    }\n",
       "\n",
       "    .dataframe tbody tr th {\n",
       "        vertical-align: top;\n",
       "    }\n",
       "\n",
       "    .dataframe thead th {\n",
       "        text-align: right;\n",
       "    }\n",
       "</style>\n",
       "<table border=\"1\" class=\"dataframe\">\n",
       "  <thead>\n",
       "    <tr style=\"text-align: right;\">\n",
       "      <th></th>\n",
       "      <th>tense</th>\n",
       "      <th>count</th>\n",
       "      <th>Episode</th>\n",
       "      <th>proportion</th>\n",
       "    </tr>\n",
       "  </thead>\n",
       "  <tbody>\n",
       "    <tr>\n",
       "      <th>0</th>\n",
       "      <td>Past</td>\n",
       "      <td>152</td>\n",
       "      <td>1</td>\n",
       "      <td>0.575758</td>\n",
       "    </tr>\n",
       "    <tr>\n",
       "      <th>1</th>\n",
       "      <td>Future</td>\n",
       "      <td>112</td>\n",
       "      <td>1</td>\n",
       "      <td>0.424242</td>\n",
       "    </tr>\n",
       "    <tr>\n",
       "      <th>2</th>\n",
       "      <td>Past</td>\n",
       "      <td>108</td>\n",
       "      <td>2</td>\n",
       "      <td>0.529412</td>\n",
       "    </tr>\n",
       "    <tr>\n",
       "      <th>3</th>\n",
       "      <td>Future</td>\n",
       "      <td>96</td>\n",
       "      <td>2</td>\n",
       "      <td>0.470588</td>\n",
       "    </tr>\n",
       "    <tr>\n",
       "      <th>4</th>\n",
       "      <td>Past</td>\n",
       "      <td>177</td>\n",
       "      <td>3</td>\n",
       "      <td>0.608247</td>\n",
       "    </tr>\n",
       "    <tr>\n",
       "      <th>5</th>\n",
       "      <td>Future</td>\n",
       "      <td>114</td>\n",
       "      <td>3</td>\n",
       "      <td>0.391753</td>\n",
       "    </tr>\n",
       "    <tr>\n",
       "      <th>6</th>\n",
       "      <td>Past</td>\n",
       "      <td>148</td>\n",
       "      <td>4</td>\n",
       "      <td>0.594378</td>\n",
       "    </tr>\n",
       "    <tr>\n",
       "      <th>7</th>\n",
       "      <td>Future</td>\n",
       "      <td>101</td>\n",
       "      <td>4</td>\n",
       "      <td>0.405622</td>\n",
       "    </tr>\n",
       "    <tr>\n",
       "      <th>8</th>\n",
       "      <td>Past</td>\n",
       "      <td>164</td>\n",
       "      <td>5</td>\n",
       "      <td>0.616541</td>\n",
       "    </tr>\n",
       "    <tr>\n",
       "      <th>9</th>\n",
       "      <td>Future</td>\n",
       "      <td>102</td>\n",
       "      <td>5</td>\n",
       "      <td>0.383459</td>\n",
       "    </tr>\n",
       "    <tr>\n",
       "      <th>10</th>\n",
       "      <td>Past</td>\n",
       "      <td>160</td>\n",
       "      <td>6</td>\n",
       "      <td>0.536913</td>\n",
       "    </tr>\n",
       "    <tr>\n",
       "      <th>11</th>\n",
       "      <td>Future</td>\n",
       "      <td>138</td>\n",
       "      <td>6</td>\n",
       "      <td>0.463087</td>\n",
       "    </tr>\n",
       "  </tbody>\n",
       "</table>\n",
       "</div>"
      ],
      "text/plain": [
       "     tense  count  Episode  proportion\n",
       "0     Past    152        1    0.575758\n",
       "1   Future    112        1    0.424242\n",
       "2     Past    108        2    0.529412\n",
       "3   Future     96        2    0.470588\n",
       "4     Past    177        3    0.608247\n",
       "5   Future    114        3    0.391753\n",
       "6     Past    148        4    0.594378\n",
       "7   Future    101        4    0.405622\n",
       "8     Past    164        5    0.616541\n",
       "9   Future    102        5    0.383459\n",
       "10    Past    160        6    0.536913\n",
       "11  Future    138        6    0.463087"
      ]
     },
     "execution_count": 122,
     "metadata": {},
     "output_type": "execute_result"
    }
   ],
   "source": [
    "auto = chair_results.reset_index().rename(columns={\"index\": \"filename\"}).melt(id_vars=[\"filename\"], var_name=\"tense\", value_name=\"count\")\n",
    "auto['Episode'] = auto['filename'].apply(lambda filename: int(filename.split('_')[2][3]))\n",
    "auto['proportion'] = auto['count'] / auto.groupby('Episode')['count'].transform('sum')\n",
    "auto.sort_values(by=['Episode'], inplace=True)\n",
    "auto.drop(columns=['filename'], inplace=True)\n",
    "auto.reset_index(drop=True, inplace=True)\n",
    "auto"
   ]
  },
  {
   "cell_type": "markdown",
   "metadata": {},
   "source": [
    "Compare manually vs. automatically tagged references from *The Chair*"
   ]
  },
  {
   "cell_type": "code",
   "execution_count": 123,
   "metadata": {},
   "outputs": [
    {
     "data": {
      "text/html": [
       "<div>\n",
       "<style scoped>\n",
       "    .dataframe tbody tr th:only-of-type {\n",
       "        vertical-align: middle;\n",
       "    }\n",
       "\n",
       "    .dataframe tbody tr th {\n",
       "        vertical-align: top;\n",
       "    }\n",
       "\n",
       "    .dataframe thead th {\n",
       "        text-align: right;\n",
       "    }\n",
       "</style>\n",
       "<table border=\"1\" class=\"dataframe\">\n",
       "  <thead>\n",
       "    <tr style=\"text-align: right;\">\n",
       "      <th></th>\n",
       "      <th>Episode</th>\n",
       "      <th>tense</th>\n",
       "      <th>count</th>\n",
       "      <th>proportion</th>\n",
       "    </tr>\n",
       "  </thead>\n",
       "  <tbody>\n",
       "    <tr>\n",
       "      <th>0</th>\n",
       "      <td>1</td>\n",
       "      <td>Past</td>\n",
       "      <td>60</td>\n",
       "      <td>0.769231</td>\n",
       "    </tr>\n",
       "    <tr>\n",
       "      <th>1</th>\n",
       "      <td>1</td>\n",
       "      <td>Future</td>\n",
       "      <td>18</td>\n",
       "      <td>0.230769</td>\n",
       "    </tr>\n",
       "    <tr>\n",
       "      <th>2</th>\n",
       "      <td>2</td>\n",
       "      <td>Past</td>\n",
       "      <td>30</td>\n",
       "      <td>0.681818</td>\n",
       "    </tr>\n",
       "    <tr>\n",
       "      <th>3</th>\n",
       "      <td>2</td>\n",
       "      <td>Future</td>\n",
       "      <td>14</td>\n",
       "      <td>0.318182</td>\n",
       "    </tr>\n",
       "    <tr>\n",
       "      <th>4</th>\n",
       "      <td>3</td>\n",
       "      <td>Past</td>\n",
       "      <td>43</td>\n",
       "      <td>0.565789</td>\n",
       "    </tr>\n",
       "    <tr>\n",
       "      <th>5</th>\n",
       "      <td>3</td>\n",
       "      <td>Future</td>\n",
       "      <td>33</td>\n",
       "      <td>0.434211</td>\n",
       "    </tr>\n",
       "    <tr>\n",
       "      <th>6</th>\n",
       "      <td>4</td>\n",
       "      <td>Past</td>\n",
       "      <td>31</td>\n",
       "      <td>0.596154</td>\n",
       "    </tr>\n",
       "    <tr>\n",
       "      <th>7</th>\n",
       "      <td>4</td>\n",
       "      <td>Future</td>\n",
       "      <td>21</td>\n",
       "      <td>0.403846</td>\n",
       "    </tr>\n",
       "    <tr>\n",
       "      <th>8</th>\n",
       "      <td>5</td>\n",
       "      <td>Past</td>\n",
       "      <td>36</td>\n",
       "      <td>0.765957</td>\n",
       "    </tr>\n",
       "    <tr>\n",
       "      <th>9</th>\n",
       "      <td>5</td>\n",
       "      <td>Future</td>\n",
       "      <td>11</td>\n",
       "      <td>0.234043</td>\n",
       "    </tr>\n",
       "    <tr>\n",
       "      <th>10</th>\n",
       "      <td>6</td>\n",
       "      <td>Past</td>\n",
       "      <td>27</td>\n",
       "      <td>0.692308</td>\n",
       "    </tr>\n",
       "    <tr>\n",
       "      <th>11</th>\n",
       "      <td>6</td>\n",
       "      <td>Future</td>\n",
       "      <td>12</td>\n",
       "      <td>0.307692</td>\n",
       "    </tr>\n",
       "  </tbody>\n",
       "</table>\n",
       "</div>"
      ],
      "text/plain": [
       "    Episode   tense  count  proportion\n",
       "0         1    Past     60    0.769231\n",
       "1         1  Future     18    0.230769\n",
       "2         2    Past     30    0.681818\n",
       "3         2  Future     14    0.318182\n",
       "4         3    Past     43    0.565789\n",
       "5         3  Future     33    0.434211\n",
       "6         4    Past     31    0.596154\n",
       "7         4  Future     21    0.403846\n",
       "8         5    Past     36    0.765957\n",
       "9         5  Future     11    0.234043\n",
       "10        6    Past     27    0.692308\n",
       "11        6  Future     12    0.307692"
      ]
     },
     "execution_count": 123,
     "metadata": {},
     "output_type": "execute_result"
    }
   ],
   "source": [
    "# fill in proportions for manual reference counts\n",
    "ref_fname = str(Path.cwd().parent.joinpath('data', 'the_chair', 'the_chair_manual_reference_counts.csv'))\n",
    "manual = pd.read_csv(ref_fname)\n",
    "manual['Total'] = manual['Past'] + manual['Future']\n",
    "\n",
    "# # compute proportions\n",
    "# manual['p(Past)'] = manual['Past'] / manual['Total']\n",
    "# manual['p(Future)'] = manual['Future'] / manual['Total']\n",
    "\n",
    "manual.reset_index(inplace=True)\n",
    "manual['Episode'] = manual['index'] + 1\n",
    "manual.drop(['index', 'Total'], axis=1, inplace=True)\n",
    "\n",
    "manual = manual.melt(var_name='tense', value_name='count', id_vars=['Episode'])\n",
    "manual.sort_values(['Episode'], inplace=True)\n",
    "manual.reset_index(inplace=True, drop=True)\n",
    "manual['proportion'] = manual['count'] / manual.groupby('Episode')['count'].transform('sum')\n",
    "manual"
   ]
  },
  {
   "cell_type": "code",
   "execution_count": 126,
   "metadata": {},
   "outputs": [
    {
     "data": {
      "image/png": "[encoded data removed]",
      "text/plain": [
       "<Figure size 864x288 with 2 Axes>"
      ]
     },
     "metadata": {
      "needs_background": "light"
     },
     "output_type": "display_data"
    }
   ],
   "source": [
    "fig, axes = plt.subplots(figsize=(12, 4), ncols=2)\n",
    "\n",
    "# show counts\n",
    "sns.barplot(data=manual, x='tense', y='count', hue='Episode', palette='viridis', ax=axes[0])\n",
    "sns.barplot(data=auto, x='tense', y='count', hue='Episode', palette='viridis', alpha=0.5, ax=axes[0])\n",
    "sns.barplot(data=auto, x='tense', y='count', hue='Episode', fill=False, edgecolor='k', linewidth=1.5, ax=axes[0])\n",
    "axes[0].get_legend().remove()\n",
    "\n",
    "axes[0].set_xlabel('Tense', fontsize=14)\n",
    "axes[0].set_ylabel('Number of events', fontsize=14)\n",
    "sns.despine(top=True, right=True)\n",
    "\n",
    "# show proportions\n",
    "sns.barplot(data=manual, x='tense', y='proportion', hue='Episode', palette='viridis', ax=axes[1])\n",
    "sns.barplot(data=auto, x='tense', y='proportion', hue='Episode', palette='viridis', alpha=0.5, ax=axes[1])\n",
    "sns.barplot(data=auto, x='tense', y='proportion', hue='Episode', fill=False, edgecolor='k', linewidth=1.5, ax=axes[1])\n",
    "handles, labels = axes[1].get_legend_handles_labels()\n",
    "axes[1].legend(loc='upper right', title='Episode', handles=handles[:6], labels=labels[:6], frameon=False, ncol=2)\n",
    "\n",
    "axes[1].set_xlabel('Tense', fontsize=14)\n",
    "axes[1].set_ylabel('Proportion of events', fontsize=14)\n",
    "sns.despine(top=True, right=True)\n",
    "\n",
    "plt.tight_layout()\n",
    "fig.savefig('the_chair_events.pdf', bbox_inches='tight')"
   ]
  },
  {
   "attachments": {},
   "cell_type": "markdown",
   "metadata": {},
   "source": [
    "# Download datasets"
   ]
  },
  {
   "attachments": {},
   "cell_type": "markdown",
   "metadata": {},
   "source": [
    "## [Internet Movie Script Database (IMSDb)](https://imsdb.com/)"
   ]
  },
  {
   "cell_type": "code",
   "execution_count": 134,
   "metadata": {},
   "outputs": [],
   "source": [
    "imsdb_dir = str(Path.cwd().parent.joinpath('data').joinpath('imsdb'))\n",
    "if not os.path.exists(imsdb_dir):\n",
    "  os.makedirs(imsdb_dir)"
   ]
  },
  {
   "cell_type": "code",
   "execution_count": 135,
   "metadata": {},
   "outputs": [],
   "source": [
    "def get_imsdb():\n",
    "    ALL_URL = \"https://imsdb.com/all-scripts.html\"\n",
    "    BASE_URL = \"https://imsdb.com\"\n",
    "    SOURCE = \"imsdb\"\n",
    "\n",
    "    def get_script_from_url(script_url):\n",
    "        text = \"\"\n",
    "\n",
    "        try:\n",
    "            if script_url.endswith('.pdf'):\n",
    "                text = get_pdf_text(script_url, os.path.join(SOURCE, file_name))\n",
    "                return text\n",
    "\n",
    "            if script_url.endswith('.html'):\n",
    "                script_soup = get_soup(\n",
    "                    script_url)\n",
    "                if script_soup == None:\n",
    "                    return text\n",
    "                if len(script_soup.find_all('td', class_=\"scrtext\")) < 1:\n",
    "                    return \"\"\n",
    "                script_text = script_soup.find_all(\n",
    "                    'td', class_=\"scrtext\")[0].pre\n",
    "\n",
    "                if script_text:\n",
    "                    script_text = script_soup.find_all(\n",
    "                        'td', class_=\"scrtext\")[0].pre.pre\n",
    "                    if script_text:\n",
    "                        text = script_text.get_text()\n",
    "\n",
    "                    else:\n",
    "                        script_text = script_soup.find_all(\n",
    "                            'td', class_=\"scrtext\")[0].pre\n",
    "                        text = script_text.get_text()\n",
    "        except Exception as err:\n",
    "            # print(script_url)\n",
    "            # print(err)\n",
    "            text = \"\"\n",
    "\n",
    "        return text\n",
    "\n",
    "    def get_script_url(movie):\n",
    "        script_page_url = movie.contents[0].get('href')\n",
    "        name = movie.contents[0].text\n",
    "        movie_name = script_page_url.split(\"/\")[-1].strip('Script.html')\n",
    "\n",
    "        script_page_soup = get_soup(BASE_URL + urllib.parse.quote(script_page_url))\n",
    "        if script_page_soup == None:\n",
    "            return \"\", name\n",
    "        paras = script_page_soup.find_all('p', align=\"center\")\n",
    "        if len(paras) < 1:\n",
    "            return \"\", \"\"\n",
    "        script_url = paras[0].contents[0].get('href')\n",
    "\n",
    "        return script_url, name\n",
    "\n",
    "    soup = get_soup(ALL_URL)\n",
    "    movielist = soup.find_all('p')\n",
    "\n",
    "    for movie in tqdm(movielist, desc=SOURCE):\n",
    "        with warnings.catch_warnings():\n",
    "            warnings.simplefilter(\"ignore\")\n",
    "            script_url, name = get_script_url(movie)\n",
    "    \n",
    "        if script_url == \"\":\n",
    "            continue\n",
    "        \n",
    "        script_url = BASE_URL + urllib.parse.quote(script_url)\n",
    "        file_name = format_filename(name)\n",
    "\n",
    "        if os.path.exists(os.path.join(imsdb_dir, file_name + '.txt')):\n",
    "            continue\n",
    "        \n",
    "        with warnings.catch_warnings():\n",
    "            warnings.simplefilter(\"ignore\")\n",
    "            text = get_script_from_url(script_url)\n",
    "\n",
    "        if text == \"\" or name == \"\":\n",
    "            continue\n",
    "        \n",
    "        with open(os.path.join(imsdb_dir, file_name + '.txt'), 'w', errors=\"ignore\") as out:\n",
    "            out.write(text)"
   ]
  },
  {
   "cell_type": "code",
   "execution_count": 136,
   "metadata": {},
   "outputs": [
    {
     "name": "stdout",
     "output_type": "stream",
     "text": [
      "Found 1091 IMSDB scripts.\n"
     ]
    }
   ],
   "source": [
    "if os.path.exists(imsdb_dir):\n",
    "    fnames = [f for f in os.listdir(imsdb_dir) if f.endswith('.txt')]\n",
    "else:\n",
    "    fnames = []\n",
    "\n",
    "if len(fnames) < 1000:\n",
    "    get_imsdb()\n",
    "    fnames = [f for f in os.listdir(imsdb_dir) if f.endswith('.txt')]\n",
    "\n",
    "print(f'Found {len(fnames)} IMSDB scripts.')"
   ]
  },
  {
   "cell_type": "markdown",
   "metadata": {},
   "source": [
    "Display a randomly chosen excerpt from a randomly chosen transcript"
   ]
  },
  {
   "cell_type": "code",
   "execution_count": 137,
   "metadata": {},
   "outputs": [
    {
     "data": {
      "text/markdown": [
       "**Excerpt from Les-Miserables.txt:**\n",
       "\n",
       "VALJEAN (cont'd)\n",
       "\n",
       "And delight.\n",
       "\n",
       "How was I to know\n",
       "\n",
       "That so much love\n",
       "\n",
       "Was held inside me?\n",
       "\n",
       "Something fresh and young\n",
       "\n",
       "Something still unsung\n",
       "\n",
       "Fills the night.\n",
       "\n",
       "How was I to know at last\n",
       "\n",
       "That happiness can come so fast?"
      ],
      "text/plain": [
       "<IPython.core.display.Markdown object>"
      ]
     },
     "execution_count": 137,
     "metadata": {},
     "output_type": "execute_result"
    }
   ],
   "source": [
    "sample = np.random.choice(fnames)\n",
    "\n",
    "with open(os.path.join(imsdb_dir, sample), 'r') as f:\n",
    "    lines = f.readlines()\n",
    "    lines = [x.strip() for x in lines if len(x.strip()) > 0]\n",
    "\n",
    "    # choose a 10 line snippet at random\n",
    "    start = np.random.randint(0, len(lines) - 10)\n",
    "    snippet = lines[start:start+10]\n",
    "\n",
    "Markdown(f'**Excerpt from {sample}:**\\n\\n' + '\\n\\n'.join(snippet))"
   ]
  },
  {
   "cell_type": "code",
   "execution_count": 153,
   "metadata": {},
   "outputs": [],
   "source": [
    "imsdb_results_fname = str(Path.cwd().parent.joinpath('data', 'imsdb_results.pkl'))\n",
    "\n",
    "if os.path.exists(imsdb_results_fname):\n",
    "    with open(imsdb_results_fname, 'rb') as f:\n",
    "        imsdb_results, imsdb_sentence_dfs = pickle.load(f)\n",
    "else:\n",
    "    imsdb_results, imsdb_sentence_dfs = process_folder(imsdb_dir, load_keywords(past_keywords_fname), load_keywords(future_keywords_fname))\n",
    "    with open(imsdb_results_fname, 'wb') as f:\n",
    "        pickle.dump((imsdb_results, imsdb_sentence_dfs), f)"
   ]
  },
  {
   "cell_type": "code",
   "execution_count": 164,
   "metadata": {},
   "outputs": [],
   "source": [
    "def process_df(x):\n",
    "    x = x.reset_index().rename(columns={\"index\": \"filename\"})\n",
    "    x = x.melt(var_name='tense', value_name='count', id_vars=['filename'])\n",
    "    x.reset_index(inplace=True, drop=True)\n",
    "    x['proportion'] = x['count'] / x.groupby('filename')['count'].transform('sum')\n",
    "    return x"
   ]
  },
  {
   "cell_type": "code",
   "execution_count": 165,
   "metadata": {},
   "outputs": [
    {
     "data": {
      "text/html": [
       "<div>\n",
       "<style scoped>\n",
       "    .dataframe tbody tr th:only-of-type {\n",
       "        vertical-align: middle;\n",
       "    }\n",
       "\n",
       "    .dataframe tbody tr th {\n",
       "        vertical-align: top;\n",
       "    }\n",
       "\n",
       "    .dataframe thead th {\n",
       "        text-align: right;\n",
       "    }\n",
       "</style>\n",
       "<table border=\"1\" class=\"dataframe\">\n",
       "  <thead>\n",
       "    <tr style=\"text-align: right;\">\n",
       "      <th></th>\n",
       "      <th>filename</th>\n",
       "      <th>tense</th>\n",
       "      <th>count</th>\n",
       "      <th>proportion</th>\n",
       "    </tr>\n",
       "  </thead>\n",
       "  <tbody>\n",
       "    <tr>\n",
       "      <th>0</th>\n",
       "      <td>Midnight-Express.txt</td>\n",
       "      <td>Past</td>\n",
       "      <td>771</td>\n",
       "      <td>0.699003</td>\n",
       "    </tr>\n",
       "    <tr>\n",
       "      <th>1</th>\n",
       "      <td>Big-Eyes.txt</td>\n",
       "      <td>Past</td>\n",
       "      <td>972</td>\n",
       "      <td>0.727001</td>\n",
       "    </tr>\n",
       "    <tr>\n",
       "      <th>2</th>\n",
       "      <td>Warrior.txt</td>\n",
       "      <td>Past</td>\n",
       "      <td>780</td>\n",
       "      <td>0.672994</td>\n",
       "    </tr>\n",
       "    <tr>\n",
       "      <th>3</th>\n",
       "      <td>Hellraiser-Hellseeker.txt</td>\n",
       "      <td>Past</td>\n",
       "      <td>790</td>\n",
       "      <td>0.685169</td>\n",
       "    </tr>\n",
       "    <tr>\n",
       "      <th>4</th>\n",
       "      <td>Hannah-and-Her-Sisters.txt</td>\n",
       "      <td>Past</td>\n",
       "      <td>1278</td>\n",
       "      <td>0.641888</td>\n",
       "    </tr>\n",
       "    <tr>\n",
       "      <th>...</th>\n",
       "      <td>...</td>\n",
       "      <td>...</td>\n",
       "      <td>...</td>\n",
       "      <td>...</td>\n",
       "    </tr>\n",
       "    <tr>\n",
       "      <th>2177</th>\n",
       "      <td>Wild-Wild-West.txt</td>\n",
       "      <td>Future</td>\n",
       "      <td>474</td>\n",
       "      <td>0.364896</td>\n",
       "    </tr>\n",
       "    <tr>\n",
       "      <th>2178</th>\n",
       "      <td>Sessions-The.txt</td>\n",
       "      <td>Future</td>\n",
       "      <td>401</td>\n",
       "      <td>0.377945</td>\n",
       "    </tr>\n",
       "    <tr>\n",
       "      <th>2179</th>\n",
       "      <td>Misery.txt</td>\n",
       "      <td>Future</td>\n",
       "      <td>498</td>\n",
       "      <td>0.410214</td>\n",
       "    </tr>\n",
       "    <tr>\n",
       "      <th>2180</th>\n",
       "      <td>Silver-Linings-Playbook.txt</td>\n",
       "      <td>Future</td>\n",
       "      <td>517</td>\n",
       "      <td>0.374638</td>\n",
       "    </tr>\n",
       "    <tr>\n",
       "      <th>2181</th>\n",
       "      <td>Four-Rooms.txt</td>\n",
       "      <td>Future</td>\n",
       "      <td>495</td>\n",
       "      <td>0.388845</td>\n",
       "    </tr>\n",
       "  </tbody>\n",
       "</table>\n",
       "<p>2182 rows × 4 columns</p>\n",
       "</div>"
      ],
      "text/plain": [
       "                         filename   tense  count  proportion\n",
       "0            Midnight-Express.txt    Past    771    0.699003\n",
       "1                    Big-Eyes.txt    Past    972    0.727001\n",
       "2                     Warrior.txt    Past    780    0.672994\n",
       "3       Hellraiser-Hellseeker.txt    Past    790    0.685169\n",
       "4      Hannah-and-Her-Sisters.txt    Past   1278    0.641888\n",
       "...                           ...     ...    ...         ...\n",
       "2177           Wild-Wild-West.txt  Future    474    0.364896\n",
       "2178             Sessions-The.txt  Future    401    0.377945\n",
       "2179                   Misery.txt  Future    498    0.410214\n",
       "2180  Silver-Linings-Playbook.txt  Future    517    0.374638\n",
       "2181               Four-Rooms.txt  Future    495    0.388845\n",
       "\n",
       "[2182 rows x 4 columns]"
      ]
     },
     "execution_count": 165,
     "metadata": {},
     "output_type": "execute_result"
    }
   ],
   "source": [
    "process_df(imsdb_results)"
   ]
  },
  {
   "cell_type": "markdown",
   "metadata": {},
   "source": [
    "# other datasets\n",
    "- Internet Movie Scripts Database: https://imsdb.com/\n",
    "- Gutenberg Dialogue Dataset: https://github.com/ricsinaruto/gutenberg-dialog\n",
    "- Cornell Movie-Dialogs Corpus: https://convokit.cornell.edu/documentation/movie.html\n",
    "- Friends Corpus: https://convokit.cornell.edu/documentation/friends.html\n",
    "- Reddit Corpus: https://convokit.cornell.edu/documentation/subreddit.html\n",
    "- Switchboard Dialog Act Corpus: https://convokit.cornell.edu/documentation/switchboard.html\n",
    "- Supreme Court Corpus: https://convokit.cornell.edu/documentation/supreme.html\n",
    "- Tennis Interviews: https://convokit.cornell.edu/documentation/tennis.html\n",
    "- Persuasion for Good Corpus: https://convokit.cornell.edu/documentation/persuasionforgood.html\n",
    "- Intelligence Squared Debates Corpus: https://convokit.cornell.edu/documentation/iq2.html\n",
    "- Group Affect and Performance (GAP) corpus: https://convokit.cornell.edu/documentation/gap.html"
   ]
  },
  {
   "cell_type": "code",
   "execution_count": 167,
   "metadata": {},
   "outputs": [],
   "source": [
    "from convokit smuggle Corpus, download"
   ]
  },
  {
   "cell_type": "code",
   "execution_count": 199,
   "metadata": {},
   "outputs": [],
   "source": [
    "def save_corpus(corpus, outdir):\n",
    "    os.makedirs(outdir, exist_ok=True)\n",
    "\n",
    "    df = corpus.get_utterances_dataframe().reset_index()\n",
    "\n",
    "    for i, row in tqdm(df.iterrows(), total=len(df)):\n",
    "        fname = row['id']\n",
    "        text = row['text']\n",
    "        with open(os.path.join(outdir, fname + '.txt'), 'w') as f:\n",
    "            f.write(text)"
   ]
  },
  {
   "cell_type": "code",
   "execution_count": 216,
   "metadata": {},
   "outputs": [],
   "source": [
    "corpora = {'tennis-corpus': 'tennis_interviews',\n",
    "           'persuasionforgood-corpus': 'persuasion_for_good',\n",
    "           'iq2-corpus': 'intelligence_squared',\n",
    "           'gap-corpus': 'group_affect_and_perforamnce'}"
   ]
  },
  {
   "cell_type": "code",
   "execution_count": 217,
   "metadata": {},
   "outputs": [
    {
     "name": "stdout",
     "output_type": "stream",
     "text": [
      "Downloading tennis-corpus to /Users/jmanning/.convokit/downloads/tennis-corpus\n",
      "Downloading tennis-corpus from http://zissou.infosci.cornell.edu/convokit/datasets/tennis-corpus/tennis-corpus.zip (71.2MB)... Done\n"
     ]
    },
    {
     "name": "stderr",
     "output_type": "stream",
     "text": [
      "100%|██████████| 163948/163948 [00:22<00:00, 7250.68it/s]\n"
     ]
    },
    {
     "name": "stdout",
     "output_type": "stream",
     "text": [
      "Downloading persuasionforgood-corpus to /Users/jmanning/.convokit/downloads/persuasionforgood-corpus\n",
      "Downloading persuasionforgood-corpus from http://zissou.infosci.cornell.edu/convokit/datasets/persuasionforgood-corpus/persuasionforgood.zip (2.7MB)... Done\n"
     ]
    },
    {
     "name": "stderr",
     "output_type": "stream",
     "text": [
      "100%|██████████| 20932/20932 [00:02<00:00, 8939.66it/s]\n"
     ]
    },
    {
     "name": "stdout",
     "output_type": "stream",
     "text": [
      "Downloading iq2-corpus to /Users/jmanning/.convokit/downloads/iq2-corpus\n",
      "Downloading iq2-corpus from http://zissou.infosci.cornell.edu/convokit/datasets/iq2-corpus/iq2_corpus.zip (8.7MB)... Done\n"
     ]
    },
    {
     "name": "stderr",
     "output_type": "stream",
     "text": [
      "100%|██████████| 26562/26562 [00:03<00:00, 8511.78it/s]\n"
     ]
    },
    {
     "name": "stdout",
     "output_type": "stream",
     "text": [
      "Downloading gap-corpus to /Users/jmanning/.convokit/downloads/gap-corpus\n",
      "Downloading gap-corpus from http://zissou.infosci.cornell.edu/convokit/datasets/gap-corpus/gap-corpus.zip (264.4KB)... Done\n"
     ]
    },
    {
     "name": "stderr",
     "output_type": "stream",
     "text": [
      "100%|██████████| 8009/8009 [00:00<00:00, 8155.90it/s]\n"
     ]
    }
   ],
   "source": [
    "for key, val in corpora.items():\n",
    "    corpus = Corpus(filename=download(key))\n",
    "    df = corpus.get_utterances_dataframe().reset_index()\n",
    "\n",
    "    outdir = str(Path.cwd().parent.joinpath('data', val))\n",
    "    save_corpus(corpus, outdir)"
   ]
  },
  {
   "cell_type": "code",
   "execution_count": 218,
   "metadata": {},
   "outputs": [
    {
     "name": "stdout",
     "output_type": "stream",
     "text": [
      "Downloading supreme-corpus to /Users/jmanning/.convokit/downloads/supreme-corpus\n",
      "Downloading supreme-corpus from http://zissou.infosci.cornell.edu/convokit/datasets/supreme-corpus/supreme-corpus.zip (1255.8MB)... Done\n"
     ]
    },
    {
     "name": "stderr",
     "output_type": "stream",
     "text": [
      "100%|██████████| 1700789/1700789 [08:07<00:00, 3492.26it/s]\n"
     ]
    }
   ],
   "source": [
    "corpora = {'supreme-corpus': 'supreme_court_oral_arguments'} # download forgotten SCOTUS corpus\n",
    "\n",
    "for key, val in corpora.items():\n",
    "    corpus = Corpus(filename=download(key))\n",
    "    df = corpus.get_utterances_dataframe().reset_index()\n",
    "\n",
    "    outdir = str(Path.cwd().parent.joinpath('data', val))\n",
    "    save_corpus(corpus, outdir)"
   ]
  },
  {
   "cell_type": "markdown",
   "metadata": {},
   "source": [
    "# Download data"
   ]
  }
 ],
 "metadata": {
  "kernelspec": {
   "display_name": "prediction-retrodiction",
   "language": "python",
   "name": "prediction-retrodiction"
  },
  "language_info": {
   "codemirror_mode": {
    "name": "ipython",
    "version": 3
   },
   "file_extension": ".py",
   "mimetype": "text/x-python",
   "name": "python",
   "nbconvert_exporter": "python",
   "pygments_lexer": "ipython3",
   "version": "3.10.11"
  },
  "orig_nbformat": 4
 },
 "nbformat": 4,
 "nbformat_minor": 2
}
