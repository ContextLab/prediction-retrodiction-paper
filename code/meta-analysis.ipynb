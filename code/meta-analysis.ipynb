{
 "cells": [
  {
   "cell_type": "code",
   "execution_count": 1,
   "metadata": {},
   "outputs": [
    {
     "name": "stdout",
     "output_type": "stream",
     "text": [
      "Requirement already satisfied: davos in /Users/jmanning/opt/anaconda3/envs/prediction-retrodiction/lib/python3.10/site-packages (0.1.1)\n",
      "Requirement already satisfied: setuptools in /Users/jmanning/opt/anaconda3/envs/prediction-retrodiction/lib/python3.10/site-packages (from davos) (66.0.0)\n",
      "Requirement already satisfied: packaging in /Users/jmanning/opt/anaconda3/envs/prediction-retrodiction/lib/python3.10/site-packages (from davos) (21.3)\n",
      "Requirement already satisfied: pyparsing!=3.0.5,>=2.0.2 in /Users/jmanning/opt/anaconda3/envs/prediction-retrodiction/lib/python3.10/site-packages (from packaging->davos) (3.0.4)\n",
      "Note: you may need to restart the kernel to use updated packages.\n"
     ]
    }
   ],
   "source": [
    "%pip install davos\n",
    "import davos\n",
    "davos.config.suppress_stdout = True"
   ]
  },
  {
   "cell_type": "code",
   "execution_count": 90,
   "metadata": {},
   "outputs": [
    {
     "name": "stderr",
     "output_type": "stream",
     "text": [
      "[nltk_data] Downloading package averaged_perceptron_tagger to\n",
      "[nltk_data]     /Users/jmanning/nltk_data...\n",
      "[nltk_data]   Package averaged_perceptron_tagger is already up-to-\n",
      "[nltk_data]       date!\n",
      "[nltk_data] Downloading package punkt to /Users/jmanning/nltk_data...\n",
      "[nltk_data]   Package punkt is already up-to-date!\n"
     ]
    },
    {
     "data": {
      "text/plain": [
       "True"
      ]
     },
     "execution_count": 90,
     "metadata": {},
     "output_type": "execute_result"
    }
   ],
   "source": [
    "from bs4 smuggle BeautifulSoup     # pip: beautifulsoup4==4.12.2\n",
    "smuggle requests                   # pip: requests==2.28.2\n",
    "smuggle spacy                      # pip: spacy==3.1.3\n",
    "from tqdm smuggle tqdm             # pip: tqdm==4.65.0\n",
    "smuggle textract                   # pip: textract==1.6.4\n",
    "smuggle Levenshtein                # pip: levenshtein\n",
    "smuggle fuzzywuzzy                 # pip: fuzzywuzzy==0.18.0\n",
    "smuggle unidecode                  # pip: Unidecode==1.3.6\n",
    "smuggle pandas as pd               # pip: pandas==2.0.1\n",
    "smuggle numpy as np                # pip: numpy==1.24.3\n",
    "smuggle seaborn as sns             # pip: seaborn==0.12.2\n",
    "from matplotlib smuggle pyplot as plt  # pip: matplotlib==3.7.1\n",
    "from IPython.display import Markdown\n",
    "\n",
    "from nltk.tokenize smuggle word_tokenize, sent_tokenize  # pip: nltk==3.8.1\n",
    "from nltk import pos_tag\n",
    "\n",
    "smuggle re\n",
    "smuggle os\n",
    "smuggle urllib\n",
    "smuggle json\n",
    "smuggle string\n",
    "smuggle warnings\n",
    "from glob smuggle glob as lsdir\n",
    "\n",
    "from pathlib smuggle Path\n",
    "\n",
    "from helpers smuggle format_filename, get_soup, get_pdf_text, get_doc_text, get_dialogue\n",
    "\n",
    "try:\n",
    "    nlp = spacy.load('en_core_web_sm')\n",
    "except:\n",
    "    os.system('python -m spacy download en_core_web_sm')\n",
    "    nlp = spacy.load('en_core_web_sm')\n",
    "\n",
    "nltk.download('averaged_perceptron_tagger')\n",
    "nltk.download('punkt')"
   ]
  },
  {
   "cell_type": "code",
   "execution_count": 104,
   "metadata": {},
   "outputs": [],
   "source": [
    "def count_tenses_in_directory_spacy(directory_path):\n",
    "    # Initialize DataFrame\n",
    "    df = pd.DataFrame(columns=['filename', 'past_tense', 'future_tense'])\n",
    "    \n",
    "    for filename in os.listdir(directory_path):\n",
    "        if filename.endswith('.txt'):\n",
    "            filepath = os.path.join(directory_path, filename)\n",
    "            \n",
    "            with open(filepath, 'r', encoding='utf-8') as f:\n",
    "                text = f.read()\n",
    "            \n",
    "            doc = nlp(text)\n",
    "            past_count = 0\n",
    "            future_count = 0\n",
    "\n",
    "            for sent in doc.sents:\n",
    "                tense = None\n",
    "                \n",
    "                for token in sent:\n",
    "                    # Checking for past tense\n",
    "                    if token.tag_ in ['VBD', 'VBN']:\n",
    "                        tense = 'past'\n",
    "                        break\n",
    "\n",
    "                    # Checking for future tense\n",
    "                    if ('will' in [child.lemma_.lower() for child in token.children] or \\\n",
    "                        ('be' in token.lemma_.lower() and 'to' in [child.lemma_ for child in token.children]) or \\\n",
    "                        token.lemma_ == 'going' and 'to' in [child.lemma_ for child in token.children]):\n",
    "                        tense = 'future'\n",
    "                        break\n",
    "                \n",
    "                if tense == 'past':\n",
    "                    past_count += 1\n",
    "                elif tense == 'future':\n",
    "                    future_count += 1\n",
    "            \n",
    "            # Append the counts for each file to the DataFrame\n",
    "            new_row = {'filename': filename, 'past_tense': past_count, 'future_tense': future_count}\n",
    "            df = df._append(new_row, ignore_index=True)\n",
    "            \n",
    "    return df"
   ]
  },
  {
   "cell_type": "code",
   "execution_count": 93,
   "metadata": {},
   "outputs": [],
   "source": [
    "def count_tenses_in_directory_nltk(directory_path):\n",
    "    df = pd.DataFrame(columns=['filename', 'past_tense', 'future_tense'])\n",
    "    \n",
    "    for filename in os.listdir(directory_path):\n",
    "        if filename.endswith('.txt'):\n",
    "            filepath = os.path.join(directory_path, filename)\n",
    "\n",
    "            with open(filepath, 'r', encoding='utf-8') as f:\n",
    "                text = f.read()\n",
    "\n",
    "            sentences = sent_tokenize(text)\n",
    "            past_count = 0\n",
    "            future_count = 0\n",
    "\n",
    "            for sentence in sentences:\n",
    "                # Expand contractions for better matching\n",
    "                sentence = re.sub(r\"won't\", \"will not\", sentence)\n",
    "                sentence = re.sub(r\"can't\", \"cannot\", sentence)\n",
    "                sentence = re.sub(r\"i'm\", \"i am\", sentence)\n",
    "                sentence = re.sub(r\"ain't\", \"is not\", sentence)\n",
    "                sentence = re.sub(r\"(\\w+)'ll\", \"\\\\1 will\", sentence)\n",
    "                sentence = re.sub(r\"(\\w+)n't\", \"\\\\1 not\", sentence)\n",
    "                sentence = re.sub(r\"(\\w+)'ve\", \"\\\\1 have\", sentence)\n",
    "                sentence = re.sub(r\"(\\w+)'s\", \"\\\\1 is\", sentence)\n",
    "                sentence = re.sub(r\"(\\w+)'re\", \"\\\\1 are\", sentence)\n",
    "\n",
    "                # POS tagging\n",
    "                words = word_tokenize(sentence)\n",
    "                pos_tags = pos_tag(words)\n",
    "\n",
    "                # Check for past tense using POS tags\n",
    "                if any(tag == 'VBD' for word, tag in pos_tags):\n",
    "                    past_count += 1\n",
    "                \n",
    "                # Check for \"have\" or \"has\" followed by a past participle (VBN)\n",
    "                if any(tag == 'VBN' and (pos_tags[i-1][0].lower() == 'have' or pos_tags[i-1][0].lower() == 'has') for i, (word, tag) in enumerate(pos_tags)):\n",
    "                    past_count += 1\n",
    "                \n",
    "                # Check for future tense patterns\n",
    "                if re.search(r'\\bwill\\b|\\bshall\\b|\\bam going to\\b|\\bwill have\\b|\\bshall have\\b|\\bwill be\\b|\\bshall be\\b|\\b(is|are) going to\\b|\\b(is|are|am) about to\\b|\\b(is|are|am) planning to\\b|\\b(is|are|am) looking forward to\\b', sentence, re.IGNORECASE):\n",
    "                    future_count += 1\n",
    "\n",
    "            df = df._append({'filename': filename, 'past_tense': past_count, 'future_tense': future_count}, ignore_index=True)\n",
    "\n",
    "    return df"
   ]
  },
  {
   "cell_type": "code",
   "execution_count": 123,
   "metadata": {},
   "outputs": [],
   "source": [
    "def count_tenses_in_directory(directory_path):\n",
    "    # Initialize DataFrames\n",
    "    count_df = pd.DataFrame(columns=['filename', 'past_tense', 'future_tense'])\n",
    "    sentence_df = pd.DataFrame(columns=['filename', 'sentence_num', 'sentence_text', 'past_references', 'future_references'])\n",
    "    \n",
    "    for filename in os.listdir(directory_path):\n",
    "        if filename.endswith('.txt'):\n",
    "            filepath = os.path.join(directory_path, filename)\n",
    "            \n",
    "            with open(filepath, 'r', encoding='utf-8') as f:\n",
    "                text = f.read()\n",
    "            \n",
    "            doc = nlp(text)\n",
    "            past_count = 0\n",
    "            future_count = 0\n",
    "            sentence_num = 0\n",
    "\n",
    "            for sent in doc.sents:\n",
    "                sentence_num += 1\n",
    "                past_references = False\n",
    "                future_references = False\n",
    "                \n",
    "                # Strip leading and trailing whitespace\n",
    "                stripped_sent = sent.text.strip()\n",
    "                \n",
    "                for token in nlp(stripped_sent):\n",
    "                    # Checking for past tense\n",
    "                    if not past_references and token.tag_ in ['VBD', 'VBN']:\n",
    "                        past_references = True\n",
    "\n",
    "                    # Checking for future tense\n",
    "                    if not future_references and \\\n",
    "                       ('will' in [child.lemma_.lower() for child in token.children] or \\\n",
    "                        ('be' in token.lemma_.lower() and 'to' in [child.lemma_ for child in token.children]) or \\\n",
    "                        token.lemma_ == 'going' and 'to' in [child.lemma_ for child in token.children]):\n",
    "                        future_references = True\n",
    "                \n",
    "                if past_references:\n",
    "                    past_count += 1\n",
    "                if future_references:\n",
    "                    future_count += 1\n",
    "                \n",
    "                # Append sentence-level details\n",
    "                if past_references or future_references:\n",
    "                    new_row = {\n",
    "                        'filename': filename, \n",
    "                        'sentence_num': sentence_num,\n",
    "                        'sentence_text': stripped_sent, \n",
    "                        'past_references': int(past_references),\n",
    "                        'future_references': int(future_references)\n",
    "                    }\n",
    "                    sentence_df = sentence_df._append(new_row, ignore_index=True)\n",
    "                    \n",
    "            # Append the counts for each file to the DataFrame\n",
    "            new_row = {'filename': filename, 'past_tense': past_count, 'future_tense': future_count}\n",
    "            count_df = count_df._append(new_row, ignore_index=True)\n",
    "            \n",
    "    return count_df, sentence_df"
   ]
  },
  {
   "cell_type": "code",
   "execution_count": 124,
   "metadata": {},
   "outputs": [],
   "source": [
    "chair_transcripts_dir = str(Path.cwd().parent.joinpath('data', 'the_chair'))\n",
    "# chair_df_nltk = count_tenses_in_directory_nltk(chair_transcripts_dir)\n",
    "# chair_df_spacy = count_tenses_in_directory_spacy(chair_transcripts_dir)\n",
    "chair_df, chair_sentence_df = count_tenses_in_directory(chair_transcripts_dir)"
   ]
  },
  {
   "cell_type": "code",
   "execution_count": 126,
   "metadata": {},
   "outputs": [
    {
     "data": {
      "text/html": [
       "<div>\n",
       "<style scoped>\n",
       "    .dataframe tbody tr th:only-of-type {\n",
       "        vertical-align: middle;\n",
       "    }\n",
       "\n",
       "    .dataframe tbody tr th {\n",
       "        vertical-align: top;\n",
       "    }\n",
       "\n",
       "    .dataframe thead th {\n",
       "        text-align: right;\n",
       "    }\n",
       "</style>\n",
       "<table border=\"1\" class=\"dataframe\">\n",
       "  <thead>\n",
       "    <tr style=\"text-align: right;\">\n",
       "      <th></th>\n",
       "      <th>filename</th>\n",
       "      <th>past_tense</th>\n",
       "      <th>future_tense</th>\n",
       "    </tr>\n",
       "  </thead>\n",
       "  <tbody>\n",
       "    <tr>\n",
       "      <th>0</th>\n",
       "      <td>the_chair_s1e5_transcript.txt</td>\n",
       "      <td>123</td>\n",
       "      <td>4</td>\n",
       "    </tr>\n",
       "    <tr>\n",
       "      <th>1</th>\n",
       "      <td>the_chair_s1e2_transcript.txt</td>\n",
       "      <td>79</td>\n",
       "      <td>5</td>\n",
       "    </tr>\n",
       "    <tr>\n",
       "      <th>2</th>\n",
       "      <td>the_chair_s1e3_transcript.txt</td>\n",
       "      <td>119</td>\n",
       "      <td>10</td>\n",
       "    </tr>\n",
       "    <tr>\n",
       "      <th>3</th>\n",
       "      <td>the_chair_s1e4_transcript.txt</td>\n",
       "      <td>112</td>\n",
       "      <td>11</td>\n",
       "    </tr>\n",
       "    <tr>\n",
       "      <th>4</th>\n",
       "      <td>the_chair_s1e6_transcript.txt</td>\n",
       "      <td>125</td>\n",
       "      <td>20</td>\n",
       "    </tr>\n",
       "    <tr>\n",
       "      <th>5</th>\n",
       "      <td>the_chair_s1e1_transcript.txt</td>\n",
       "      <td>107</td>\n",
       "      <td>8</td>\n",
       "    </tr>\n",
       "  </tbody>\n",
       "</table>\n",
       "</div>"
      ],
      "text/plain": [
       "                        filename past_tense future_tense\n",
       "0  the_chair_s1e5_transcript.txt        123            4\n",
       "1  the_chair_s1e2_transcript.txt         79            5\n",
       "2  the_chair_s1e3_transcript.txt        119           10\n",
       "3  the_chair_s1e4_transcript.txt        112           11\n",
       "4  the_chair_s1e6_transcript.txt        125           20\n",
       "5  the_chair_s1e1_transcript.txt        107            8"
      ]
     },
     "execution_count": 126,
     "metadata": {},
     "output_type": "execute_result"
    }
   ],
   "source": [
    "chair_df"
   ]
  },
  {
   "cell_type": "code",
   "execution_count": 121,
   "metadata": {},
   "outputs": [],
   "source": [
    "from IPython.display import display, Markdown\n",
    "\n",
    "def display_sentences_in_markdown(df):\n",
    "    for idx, row in df.iterrows():\n",
    "        markdown_text = f\"### File: {row['filename']}\\n\\n\"\n",
    "        markdown_text += f\"**Sentence Number:** {row['sentence_num']}\\n\\n\"\n",
    "        markdown_text += f\"**Sentence:** {row['sentence_text']}\\n\\n\"\n",
    "        markdown_text += f\"**Past References:** {row['past_references']}\\n\\n\"\n",
    "        markdown_text += f\"**Future References:** {row['future_references']}\\n\\n\"\n",
    "        markdown_text += \"---\"\n",
    "        display(Markdown(markdown_text))"
   ]
  },
  {
   "cell_type": "code",
   "execution_count": 127,
   "metadata": {},
   "outputs": [
    {
     "data": {
      "text/markdown": [
       "### File: the_chair_s1e5_transcript.txt\n",
       "\n",
       "**Sentence Number:** 1\n",
       "\n",
       "**Sentence:** [Larson] Did you at any point threaten Bill’s TA?\n",
       "\n",
       "**Past References:** 1\n",
       "\n",
       "**Future References:** 0\n",
       "\n",
       "---"
      ],
      "text/plain": [
       "<IPython.core.display.Markdown object>"
      ]
     },
     "metadata": {},
     "output_type": "display_data"
    },
    {
     "data": {
      "text/markdown": [
       "### File: the_chair_s1e5_transcript.txt\n",
       "\n",
       "**Sentence Number:** 6\n",
       "\n",
       "**Sentence:** Did you say she could get hurt if she talked to the student newspaper?\n",
       "\n",
       "**Past References:** 1\n",
       "\n",
       "**Future References:** 0\n",
       "\n",
       "---"
      ],
      "text/plain": [
       "<IPython.core.display.Markdown object>"
      ]
     },
     "metadata": {},
     "output_type": "display_data"
    },
    {
     "data": {
      "text/markdown": [
       "### File: the_chair_s1e5_transcript.txt\n",
       "\n",
       "**Sentence Number:** 11\n",
       "\n",
       "**Sentence:** I mentioned that the… the department could get hurt if we…\n",
       "\n",
       "Pembroke Daily is running an article suggesting you issued a gag order.\n",
       "\n",
       "**Past References:** 1\n",
       "\n",
       "**Future References:** 0\n",
       "\n",
       "---"
      ],
      "text/plain": [
       "<IPython.core.display.Markdown object>"
      ]
     },
     "metadata": {},
     "output_type": "display_data"
    },
    {
     "data": {
      "text/markdown": [
       "### File: the_chair_s1e5_transcript.txt\n",
       "\n",
       "**Sentence Number:** 13\n",
       "\n",
       "**Sentence:** Did you have a conversation with Bill’s TA\n",
       "\n",
       "in which you asked her not to discuss Bill’s incident?\n",
       "\n",
       "**Past References:** 1\n",
       "\n",
       "**Future References:** 0\n",
       "\n",
       "---"
      ],
      "text/plain": [
       "<IPython.core.display.Markdown object>"
      ]
     },
     "metadata": {},
     "output_type": "display_data"
    },
    {
     "data": {
      "text/markdown": [
       "### File: the_chair_s1e5_transcript.txt\n",
       "\n",
       "**Sentence Number:** 16\n",
       "\n",
       "**Sentence:** That is certainly not what I meant to convey.\n",
       "\n",
       "**Past References:** 1\n",
       "\n",
       "**Future References:** 0\n",
       "\n",
       "---"
      ],
      "text/plain": [
       "<IPython.core.display.Markdown object>"
      ]
     },
     "metadata": {},
     "output_type": "display_data"
    },
    {
     "data": {
      "text/markdown": [
       "### File: the_chair_s1e5_transcript.txt\n",
       "\n",
       "**Sentence Number:** 17\n",
       "\n",
       "**Sentence:** Students are already mobilized,\n",
       "\n",
       "and we’re concerned that this is going to exacerbate things on campus.\n",
       "\n",
       "**Past References:** 1\n",
       "\n",
       "**Future References:** 0\n",
       "\n",
       "---"
      ],
      "text/plain": [
       "<IPython.core.display.Markdown object>"
      ]
     },
     "metadata": {},
     "output_type": "display_data"
    },
    {
     "data": {
      "text/markdown": [
       "### File: the_chair_s1e5_transcript.txt\n",
       "\n",
       "**Sentence Number:** 24\n",
       "\n",
       "**Sentence:** I’ve drafted a letter from both you and Dean Larson\n",
       "\n",
       "**Past References:** 1\n",
       "\n",
       "**Future References:** 0\n",
       "\n",
       "---"
      ],
      "text/plain": [
       "<IPython.core.display.Markdown object>"
      ]
     },
     "metadata": {},
     "output_type": "display_data"
    },
    {
     "data": {
      "text/markdown": [
       "### File: the_chair_s1e5_transcript.txt\n",
       "\n",
       "**Sentence Number:** 25\n",
       "\n",
       "**Sentence:** alerting Professor Dobson that next week’s hearing\n",
       "\n",
       "will be on termination for cause.\n",
       "\n",
       "**Past References:** 0\n",
       "\n",
       "**Future References:** 1\n",
       "\n",
       "---"
      ],
      "text/plain": [
       "<IPython.core.display.Markdown object>"
      ]
     },
     "metadata": {},
     "output_type": "display_data"
    },
    {
     "data": {
      "text/markdown": [
       "### File: the_chair_s1e5_transcript.txt\n",
       "\n",
       "**Sentence Number:** 31\n",
       "\n",
       "**Sentence:** In order to fire a tenured professor, don’t you have…\n",
       "\n",
       "Tenure is not a blank check anymore.\n",
       "\n",
       "**Past References:** 1\n",
       "\n",
       "**Future References:** 0\n",
       "\n",
       "---"
      ],
      "text/plain": [
       "<IPython.core.display.Markdown object>"
      ]
     },
     "metadata": {},
     "output_type": "display_data"
    },
    {
     "data": {
      "text/markdown": [
       "### File: the_chair_s1e5_transcript.txt\n",
       "\n",
       "**Sentence Number:** 34\n",
       "\n",
       "**Sentence:** And we heard about him lecturing hungover and showing nude photos in class.\n",
       "\n",
       "**Past References:** 1\n",
       "\n",
       "**Future References:** 0\n",
       "\n",
       "---"
      ],
      "text/plain": [
       "<IPython.core.display.Markdown object>"
      ]
     },
     "metadata": {},
     "output_type": "display_data"
    },
    {
     "data": {
      "text/markdown": [
       "### File: the_chair_s1e5_transcript.txt\n",
       "\n",
       "**Sentence Number:** 35\n",
       "\n",
       "**Sentence:** Or nude videos, I think it was.\n",
       "\n",
       "**Past References:** 1\n",
       "\n",
       "**Future References:** 0\n",
       "\n",
       "---"
      ],
      "text/plain": [
       "<IPython.core.display.Markdown object>"
      ]
     },
     "metadata": {},
     "output_type": "display_data"
    },
    {
     "data": {
      "text/markdown": [
       "### File: the_chair_s1e5_transcript.txt\n",
       "\n",
       "**Sentence Number:** 37\n",
       "\n",
       "**Sentence:** That was…\n",
       "\n",
       "Getting rides from female students.\n",
       "\n",
       "**Past References:** 1\n",
       "\n",
       "**Future References:** 0\n",
       "\n",
       "---"
      ],
      "text/plain": [
       "<IPython.core.display.Markdown object>"
      ]
     },
     "metadata": {},
     "output_type": "display_data"
    },
    {
     "data": {
      "text/markdown": [
       "### File: the_chair_s1e5_transcript.txt\n",
       "\n",
       "**Sentence Number:** 38\n",
       "\n",
       "**Sentence:** That happened once.\n",
       "\n",
       "**Past References:** 1\n",
       "\n",
       "**Future References:** 0\n",
       "\n",
       "---"
      ],
      "text/plain": [
       "<IPython.core.display.Markdown object>"
      ]
     },
     "metadata": {},
     "output_type": "display_data"
    },
    {
     "data": {
      "text/markdown": [
       "### File: the_chair_s1e5_transcript.txt\n",
       "\n",
       "**Sentence Number:** 43\n",
       "\n",
       "**Sentence:** So you knew about him with a coed?\n",
       "\n",
       "**Past References:** 1\n",
       "\n",
       "**Future References:** 0\n",
       "\n",
       "---"
      ],
      "text/plain": [
       "<IPython.core.display.Markdown object>"
      ]
     },
     "metadata": {},
     "output_type": "display_data"
    },
    {
     "data": {
      "text/markdown": [
       "### File: the_chair_s1e5_transcript.txt\n",
       "\n",
       "**Sentence Number:** 44\n",
       "\n",
       "**Sentence:** I mean, did she complain?\n",
       "\n",
       "**Past References:** 1\n",
       "\n",
       "**Future References:** 0\n",
       "\n",
       "---"
      ],
      "text/plain": [
       "<IPython.core.display.Markdown object>"
      ]
     },
     "metadata": {},
     "output_type": "display_data"
    },
    {
     "data": {
      "text/markdown": [
       "### File: the_chair_s1e5_transcript.txt\n",
       "\n",
       "**Sentence Number:** 50\n",
       "\n",
       "**Sentence:** His wife died a year ago.\n",
       "\n",
       "**Past References:** 1\n",
       "\n",
       "**Future References:** 0\n",
       "\n",
       "---"
      ],
      "text/plain": [
       "<IPython.core.display.Markdown object>"
      ]
     },
     "metadata": {},
     "output_type": "display_data"
    },
    {
     "data": {
      "text/markdown": [
       "### File: the_chair_s1e5_transcript.txt\n",
       "\n",
       "**Sentence Number:** 53\n",
       "\n",
       "**Sentence:** If I were a man, would you ask me that?\n",
       "\n",
       "**Past References:** 1\n",
       "\n",
       "**Future References:** 0\n",
       "\n",
       "---"
      ],
      "text/plain": [
       "<IPython.core.display.Markdown object>"
      ]
     },
     "metadata": {},
     "output_type": "display_data"
    },
    {
     "data": {
      "text/markdown": [
       "### File: the_chair_s1e5_transcript.txt\n",
       "\n",
       "**Sentence Number:** 55\n",
       "\n",
       "**Sentence:** The three of you left campus yesterday in the same car.\n",
       "\n",
       "**Past References:** 1\n",
       "\n",
       "**Future References:** 0\n",
       "\n",
       "---"
      ],
      "text/plain": [
       "<IPython.core.display.Markdown object>"
      ]
     },
     "metadata": {},
     "output_type": "display_data"
    },
    {
     "data": {
      "text/markdown": [
       "### File: the_chair_s1e5_transcript.txt\n",
       "\n",
       "**Sentence Number:** 56\n",
       "\n",
       "**Sentence:** Only because his was in the shop.\n",
       "\n",
       "**Past References:** 1\n",
       "\n",
       "**Future References:** 0\n",
       "\n",
       "---"
      ],
      "text/plain": [
       "<IPython.core.display.Markdown object>"
      ]
     },
     "metadata": {},
     "output_type": "display_data"
    },
    {
     "data": {
      "text/markdown": [
       "### File: the_chair_s1e5_transcript.txt\n",
       "\n",
       "**Sentence Number:** 57\n",
       "\n",
       "**Sentence:** If you are romantically involved, you need to declare it,\n",
       "\n",
       "or you yourself are in violation of university policy.\n",
       "\n",
       "**Past References:** 1\n",
       "\n",
       "**Future References:** 0\n",
       "\n",
       "---"
      ],
      "text/plain": [
       "<IPython.core.display.Markdown object>"
      ]
     },
     "metadata": {},
     "output_type": "display_data"
    },
    {
     "data": {
      "text/markdown": [
       "### File: the_chair_s1e5_transcript.txt\n",
       "\n",
       "**Sentence Number:** 64\n",
       "\n",
       "**Sentence:** You’ve managed to do the opposite.\n",
       "\n",
       "**Past References:** 1\n",
       "\n",
       "**Future References:** 0\n",
       "\n",
       "---"
      ],
      "text/plain": [
       "<IPython.core.display.Markdown object>"
      ]
     },
     "metadata": {},
     "output_type": "display_data"
    },
    {
     "data": {
      "text/markdown": [
       "### File: the_chair_s1e5_transcript.txt\n",
       "\n",
       "**Sentence Number:** 84\n",
       "\n",
       "**Sentence:** I told you it can’t happen today.\n",
       "\n",
       "**Past References:** 1\n",
       "\n",
       "**Future References:** 0\n",
       "\n",
       "---"
      ],
      "text/plain": [
       "<IPython.core.display.Markdown object>"
      ]
     },
     "metadata": {},
     "output_type": "display_data"
    },
    {
     "data": {
      "text/markdown": [
       "### File: the_chair_s1e5_transcript.txt\n",
       "\n",
       "**Sentence Number:** 106\n",
       "\n",
       "**Sentence:** Duly fucking noted.\n",
       "\n",
       "**Past References:** 1\n",
       "\n",
       "**Future References:** 0\n",
       "\n",
       "---"
      ],
      "text/plain": [
       "<IPython.core.display.Markdown object>"
      ]
     },
     "metadata": {},
     "output_type": "display_data"
    },
    {
     "data": {
      "text/markdown": [
       "### File: the_chair_s1e5_transcript.txt\n",
       "\n",
       "**Sentence Number:** 110\n",
       "\n",
       "**Sentence:** There was a mishap at Bill’s.\n",
       "\n",
       "**Past References:** 1\n",
       "\n",
       "**Future References:** 0\n",
       "\n",
       "---"
      ],
      "text/plain": [
       "<IPython.core.display.Markdown object>"
      ]
     },
     "metadata": {},
     "output_type": "display_data"
    },
    {
     "data": {
      "text/markdown": [
       "### File: the_chair_s1e5_transcript.txt\n",
       "\n",
       "**Sentence Number:** 120\n",
       "\n",
       "**Sentence:** [in Korean] I thought this promotion means you don’t have to work so much.\n",
       "\n",
       "**Past References:** 1\n",
       "\n",
       "**Future References:** 0\n",
       "\n",
       "---"
      ],
      "text/plain": [
       "<IPython.core.display.Markdown object>"
      ]
     },
     "metadata": {},
     "output_type": "display_data"
    },
    {
     "data": {
      "text/markdown": [
       "### File: the_chair_s1e5_transcript.txt\n",
       "\n",
       "**Sentence Number:** 133\n",
       "\n",
       "**Sentence:** She’s mad at me because she was supposed to work on her Mexico presentation\n",
       "\n",
       "this morning with Bill.\n",
       "\n",
       "**Past References:** 1\n",
       "\n",
       "**Future References:** 0\n",
       "\n",
       "---"
      ],
      "text/plain": [
       "<IPython.core.display.Markdown object>"
      ]
     },
     "metadata": {},
     "output_type": "display_data"
    },
    {
     "data": {
      "text/markdown": [
       "### File: the_chair_s1e5_transcript.txt\n",
       "\n",
       "**Sentence Number:** 159\n",
       "\n",
       "**Sentence:** I didn’t know anybody was here.\n",
       "\n",
       "**Past References:** 1\n",
       "\n",
       "**Future References:** 0\n",
       "\n",
       "---"
      ],
      "text/plain": [
       "<IPython.core.display.Markdown object>"
      ]
     },
     "metadata": {},
     "output_type": "display_data"
    },
    {
     "data": {
      "text/markdown": [
       "### File: the_chair_s1e5_transcript.txt\n",
       "\n",
       "**Sentence Number:** 164\n",
       "\n",
       "**Sentence:** The, uh… The door was open.\n",
       "\n",
       "**Past References:** 1\n",
       "\n",
       "**Future References:** 0\n",
       "\n",
       "---"
      ],
      "text/plain": [
       "<IPython.core.display.Markdown object>"
      ]
     },
     "metadata": {},
     "output_type": "display_data"
    },
    {
     "data": {
      "text/markdown": [
       "### File: the_chair_s1e5_transcript.txt\n",
       "\n",
       "**Sentence Number:** 166\n",
       "\n",
       "**Sentence:** Never had a problem before.\n",
       "\n",
       "**Past References:** 1\n",
       "\n",
       "**Future References:** 0\n",
       "\n",
       "---"
      ],
      "text/plain": [
       "<IPython.core.display.Markdown object>"
      ]
     },
     "metadata": {},
     "output_type": "display_data"
    },
    {
     "data": {
      "text/markdown": [
       "### File: the_chair_s1e5_transcript.txt\n",
       "\n",
       "**Sentence Number:** 177\n",
       "\n",
       "**Sentence:** For a second, I thought you were naked.\n",
       "\n",
       "**Past References:** 1\n",
       "\n",
       "**Future References:** 0\n",
       "\n",
       "---"
      ],
      "text/plain": [
       "<IPython.core.display.Markdown object>"
      ]
     },
     "metadata": {},
     "output_type": "display_data"
    },
    {
     "data": {
      "text/markdown": [
       "### File: the_chair_s1e5_transcript.txt\n",
       "\n",
       "**Sentence Number:** 203\n",
       "\n",
       "**Sentence:** [smacks lips]\n",
       "\n",
       "Will there be cake?\n",
       "\n",
       "**Past References:** 0\n",
       "\n",
       "**Future References:** 1\n",
       "\n",
       "---"
      ],
      "text/plain": [
       "<IPython.core.display.Markdown object>"
      ]
     },
     "metadata": {},
     "output_type": "display_data"
    },
    {
     "data": {
      "text/markdown": [
       "### File: the_chair_s1e5_transcript.txt\n",
       "\n",
       "**Sentence Number:** 205\n",
       "\n",
       "**Sentence:** You left this at the copier.\n",
       "\n",
       "**Past References:** 1\n",
       "\n",
       "**Future References:** 0\n",
       "\n",
       "---"
      ],
      "text/plain": [
       "<IPython.core.display.Markdown object>"
      ]
     },
     "metadata": {},
     "output_type": "display_data"
    },
    {
     "data": {
      "text/markdown": [
       "### File: the_chair_s1e5_transcript.txt\n",
       "\n",
       "**Sentence Number:** 206\n",
       "\n",
       "**Sentence:** Uh, you’re not supposed to read this.\n",
       "\n",
       "**Past References:** 1\n",
       "\n",
       "**Future References:** 0\n",
       "\n",
       "---"
      ],
      "text/plain": [
       "<IPython.core.display.Markdown object>"
      ]
     },
     "metadata": {},
     "output_type": "display_data"
    },
    {
     "data": {
      "text/markdown": [
       "### File: the_chair_s1e5_transcript.txt\n",
       "\n",
       "**Sentence Number:** 207\n",
       "\n",
       "**Sentence:** I only glanced at the first few sentences to see what it was.\n",
       "\n",
       "**Past References:** 1\n",
       "\n",
       "**Future References:** 0\n",
       "\n",
       "---"
      ],
      "text/plain": [
       "<IPython.core.display.Markdown object>"
      ]
     },
     "metadata": {},
     "output_type": "display_data"
    },
    {
     "data": {
      "text/markdown": [
       "### File: the_chair_s1e5_transcript.txt\n",
       "\n",
       "**Sentence Number:** 210\n",
       "\n",
       "**Sentence:** Okay, let’s move on from the argument\n",
       "\n",
       "about whether or not I should’ve looked at it,\n",
       "\n",
       "and just get to the real argument here.\n",
       "\n",
       "**Past References:** 1\n",
       "\n",
       "**Future References:** 0\n",
       "\n",
       "---"
      ],
      "text/plain": [
       "<IPython.core.display.Markdown object>"
      ]
     },
     "metadata": {},
     "output_type": "display_data"
    },
    {
     "data": {
      "text/markdown": [
       "### File: the_chair_s1e5_transcript.txt\n",
       "\n",
       "**Sentence Number:** 213\n",
       "\n",
       "**Sentence:** I offered a positive assessment of your scholarship.\n",
       "\n",
       "**Past References:** 1\n",
       "\n",
       "**Future References:** 0\n",
       "\n",
       "---"
      ],
      "text/plain": [
       "<IPython.core.display.Markdown object>"
      ]
     },
     "metadata": {},
     "output_type": "display_data"
    },
    {
     "data": {
      "text/markdown": [
       "### File: the_chair_s1e5_transcript.txt\n",
       "\n",
       "**Sentence Number:** 226\n",
       "\n",
       "**Sentence:** Ji-Yoon came to me and begged me to co-teach with you\n",
       "\n",
       "because your enrollments were so low.\n",
       "\n",
       "**Past References:** 1\n",
       "\n",
       "**Future References:** 0\n",
       "\n",
       "---"
      ],
      "text/plain": [
       "<IPython.core.display.Markdown object>"
      ]
     },
     "metadata": {},
     "output_type": "display_data"
    },
    {
     "data": {
      "text/markdown": [
       "### File: the_chair_s1e5_transcript.txt\n",
       "\n",
       "**Sentence Number:** 229\n",
       "\n",
       "**Sentence:** [Yaz] You were on a list.\n",
       "\n",
       "**Past References:** 1\n",
       "\n",
       "**Future References:** 0\n",
       "\n",
       "---"
      ],
      "text/plain": [
       "<IPython.core.display.Markdown object>"
      ]
     },
     "metadata": {},
     "output_type": "display_data"
    },
    {
     "data": {
      "text/markdown": [
       "### File: the_chair_s1e5_transcript.txt\n",
       "\n",
       "**Sentence Number:** 230\n",
       "\n",
       "**Sentence:** They were gonna force you to retire.\n",
       "\n",
       "**Past References:** 1\n",
       "\n",
       "**Future References:** 0\n",
       "\n",
       "---"
      ],
      "text/plain": [
       "<IPython.core.display.Markdown object>"
      ]
     },
     "metadata": {},
     "output_type": "display_data"
    },
    {
     "data": {
      "text/markdown": [
       "### File: the_chair_s1e5_transcript.txt\n",
       "\n",
       "**Sentence Number:** 232\n",
       "\n",
       "**Sentence:** So she merged us so that you could piggyback on my enrollments.\n",
       "\n",
       "**Past References:** 1\n",
       "\n",
       "**Future References:** 0\n",
       "\n",
       "---"
      ],
      "text/plain": [
       "<IPython.core.display.Markdown object>"
      ]
     },
     "metadata": {},
     "output_type": "display_data"
    },
    {
     "data": {
      "text/markdown": [
       "### File: the_chair_s1e5_transcript.txt\n",
       "\n",
       "**Sentence Number:** 243\n",
       "\n",
       "**Sentence:** [gasps]\n",
       "\n",
       "Have you heard about a list?\n",
       "\n",
       "**Past References:** 1\n",
       "\n",
       "**Future References:** 0\n",
       "\n",
       "---"
      ],
      "text/plain": [
       "<IPython.core.display.Markdown object>"
      ]
     },
     "metadata": {},
     "output_type": "display_data"
    },
    {
     "data": {
      "text/markdown": [
       "### File: the_chair_s1e5_transcript.txt\n",
       "\n",
       "**Sentence Number:** 245\n",
       "\n",
       "**Sentence:** We gotta band together.\n",
       "\n",
       "**Past References:** 1\n",
       "\n",
       "**Future References:** 0\n",
       "\n",
       "---"
      ],
      "text/plain": [
       "<IPython.core.display.Markdown object>"
      ]
     },
     "metadata": {},
     "output_type": "display_data"
    },
    {
     "data": {
      "text/markdown": [
       "### File: the_chair_s1e5_transcript.txt\n",
       "\n",
       "**Sentence Number:** 248\n",
       "\n",
       "**Sentence:** [farts]\n",
       "\n",
       "Was that you or me?\n",
       "\n",
       "**Past References:** 1\n",
       "\n",
       "**Future References:** 0\n",
       "\n",
       "---"
      ],
      "text/plain": [
       "<IPython.core.display.Markdown object>"
      ]
     },
     "metadata": {},
     "output_type": "display_data"
    },
    {
     "data": {
      "text/markdown": [
       "### File: the_chair_s1e5_transcript.txt\n",
       "\n",
       "**Sentence Number:** 250\n",
       "\n",
       "**Sentence:** For the Distinguished Lectureship,\n",
       "\n",
       "I was thinking of presenting my Yale dissertation.\n",
       "\n",
       "**Past References:** 1\n",
       "\n",
       "**Future References:** 0\n",
       "\n",
       "---"
      ],
      "text/plain": [
       "<IPython.core.display.Markdown object>"
      ]
     },
     "metadata": {},
     "output_type": "display_data"
    },
    {
     "data": {
      "text/markdown": [
       "### File: the_chair_s1e5_transcript.txt\n",
       "\n",
       "**Sentence Number:** 252\n",
       "\n",
       "**Sentence:** I only wrote the one chapter.\n",
       "\n",
       "**Past References:** 1\n",
       "\n",
       "**Future References:** 0\n",
       "\n",
       "---"
      ],
      "text/plain": [
       "<IPython.core.display.Markdown object>"
      ]
     },
     "metadata": {},
     "output_type": "display_data"
    },
    {
     "data": {
      "text/markdown": [
       "### File: the_chair_s1e5_transcript.txt\n",
       "\n",
       "**Sentence Number:** 256\n",
       "\n",
       "**Sentence:** Did you use really big font?\n",
       "\n",
       "**Past References:** 1\n",
       "\n",
       "**Future References:** 0\n",
       "\n",
       "---"
      ],
      "text/plain": [
       "<IPython.core.display.Markdown object>"
      ]
     },
     "metadata": {},
     "output_type": "display_data"
    },
    {
     "data": {
      "text/markdown": [
       "### File: the_chair_s1e5_transcript.txt\n",
       "\n",
       "**Sentence Number:** 259\n",
       "\n",
       "**Sentence:** I got sidetracked for a few decades,\n",
       "\n",
       "**Past References:** 1\n",
       "\n",
       "**Future References:** 0\n",
       "\n",
       "---"
      ],
      "text/plain": [
       "<IPython.core.display.Markdown object>"
      ]
     },
     "metadata": {},
     "output_type": "display_data"
    },
    {
     "data": {
      "text/markdown": [
       "### File: the_chair_s1e5_transcript.txt\n",
       "\n",
       "**Sentence Number:** 261\n",
       "\n",
       "**Sentence:** I’ve been thinking recently about finishing it and filing for my PhD.\n",
       "\n",
       "Dr. David Duchovny.\n",
       "\n",
       "**Past References:** 1\n",
       "\n",
       "**Future References:** 0\n",
       "\n",
       "---"
      ],
      "text/plain": [
       "<IPython.core.display.Markdown object>"
      ]
     },
     "metadata": {},
     "output_type": "display_data"
    },
    {
     "data": {
      "text/markdown": [
       "### File: the_chair_s1e5_transcript.txt\n",
       "\n",
       "**Sentence Number:** 271\n",
       "\n",
       "**Sentence:** I think it’s pronounced “prescient,” unless we’re English.\n",
       "\n",
       "**Past References:** 1\n",
       "\n",
       "**Future References:** 0\n",
       "\n",
       "---"
      ],
      "text/plain": [
       "<IPython.core.display.Markdown object>"
      ]
     },
     "metadata": {},
     "output_type": "display_data"
    },
    {
     "data": {
      "text/markdown": [
       "### File: the_chair_s1e5_transcript.txt\n",
       "\n",
       "**Sentence Number:** 273\n",
       "\n",
       "**Sentence:** I mean, maybe you chose the wrong department.\n",
       "\n",
       "**Past References:** 1\n",
       "\n",
       "**Future References:** 0\n",
       "\n",
       "---"
      ],
      "text/plain": [
       "<IPython.core.display.Markdown object>"
      ]
     },
     "metadata": {},
     "output_type": "display_data"
    },
    {
     "data": {
      "text/markdown": [
       "### File: the_chair_s1e5_transcript.txt\n",
       "\n",
       "**Sentence Number:** 274\n",
       "\n",
       "**Sentence:** Maybe you’re better suited for the schiences.\n",
       "\n",
       "**Past References:** 1\n",
       "\n",
       "**Future References:** 0\n",
       "\n",
       "---"
      ],
      "text/plain": [
       "<IPython.core.display.Markdown object>"
      ]
     },
     "metadata": {},
     "output_type": "display_data"
    },
    {
     "data": {
      "text/markdown": [
       "### File: the_chair_s1e5_transcript.txt\n",
       "\n",
       "**Sentence Number:** 288\n",
       "\n",
       "**Sentence:** [David] Have you been to the farmers’ market here?\n",
       "\n",
       "**Past References:** 1\n",
       "\n",
       "**Future References:** 1\n",
       "\n",
       "---"
      ],
      "text/plain": [
       "<IPython.core.display.Markdown object>"
      ]
     },
     "metadata": {},
     "output_type": "display_data"
    },
    {
     "data": {
      "text/markdown": [
       "### File: the_chair_s1e5_transcript.txt\n",
       "\n",
       "**Sentence Number:** 292\n",
       "\n",
       "**Sentence:** I used to think this town was devoid of culture,\n",
       "\n",
       "**Past References:** 1\n",
       "\n",
       "**Future References:** 0\n",
       "\n",
       "---"
      ],
      "text/plain": [
       "<IPython.core.display.Markdown object>"
      ]
     },
     "metadata": {},
     "output_type": "display_data"
    },
    {
     "data": {
      "text/markdown": [
       "### File: the_chair_s1e5_transcript.txt\n",
       "\n",
       "**Sentence Number:** 293\n",
       "\n",
       "**Sentence:** but I stand corrected.\n",
       "\n",
       "**Past References:** 1\n",
       "\n",
       "**Future References:** 0\n",
       "\n",
       "---"
      ],
      "text/plain": [
       "<IPython.core.display.Markdown object>"
      ]
     },
     "metadata": {},
     "output_type": "display_data"
    },
    {
     "data": {
      "text/markdown": [
       "### File: the_chair_s1e5_transcript.txt\n",
       "\n",
       "**Sentence Number:** 305\n",
       "\n",
       "**Sentence:** Why didn’t she adopt a baby from South Korea?\n",
       "\n",
       "**Past References:** 1\n",
       "\n",
       "**Future References:** 0\n",
       "\n",
       "---"
      ],
      "text/plain": [
       "<IPython.core.display.Markdown object>"
      ]
     },
     "metadata": {},
     "output_type": "display_data"
    },
    {
     "data": {
      "text/markdown": [
       "### File: the_chair_s1e5_transcript.txt\n",
       "\n",
       "**Sentence Number:** 309\n",
       "\n",
       "**Sentence:** She was closed out from international adoption\n",
       "\n",
       "because she’s single.\n",
       "\n",
       "**Past References:** 1\n",
       "\n",
       "**Future References:** 0\n",
       "\n",
       "---"
      ],
      "text/plain": [
       "<IPython.core.display.Markdown object>"
      ]
     },
     "metadata": {},
     "output_type": "display_data"
    },
    {
     "data": {
      "text/markdown": [
       "### File: the_chair_s1e5_transcript.txt\n",
       "\n",
       "**Sentence Number:** 311\n",
       "\n",
       "**Sentence:** and she was able to adopt.\n",
       "\n",
       "**Past References:** 1\n",
       "\n",
       "**Future References:** 0\n",
       "\n",
       "---"
      ],
      "text/plain": [
       "<IPython.core.display.Markdown object>"
      ]
     },
     "metadata": {},
     "output_type": "display_data"
    },
    {
     "data": {
      "text/markdown": [
       "### File: the_chair_s1e5_transcript.txt\n",
       "\n",
       "**Sentence Number:** 357\n",
       "\n",
       "**Sentence:** A lot has happened in the last 30 years.\n",
       "\n",
       "**Past References:** 1\n",
       "\n",
       "**Future References:** 0\n",
       "\n",
       "---"
      ],
      "text/plain": [
       "<IPython.core.display.Markdown object>"
      ]
     },
     "metadata": {},
     "output_type": "display_data"
    },
    {
     "data": {
      "text/markdown": [
       "### File: the_chair_s1e5_transcript.txt\n",
       "\n",
       "**Sentence Number:** 360\n",
       "\n",
       "**Sentence:** When’s the last time you picked up an academic journal?\n",
       "\n",
       "**Past References:** 1\n",
       "\n",
       "**Future References:** 0\n",
       "\n",
       "---"
      ],
      "text/plain": [
       "<IPython.core.display.Markdown object>"
      ]
     },
     "metadata": {},
     "output_type": "display_data"
    },
    {
     "data": {
      "text/markdown": [
       "### File: the_chair_s1e5_transcript.txt\n",
       "\n",
       "**Sentence Number:** 363\n",
       "\n",
       "**Sentence:** I’ve been on tour with my band.\n",
       "\n",
       "**Past References:** 1\n",
       "\n",
       "**Future References:** 0\n",
       "\n",
       "---"
      ],
      "text/plain": [
       "<IPython.core.display.Markdown object>"
      ]
     },
     "metadata": {},
     "output_type": "display_data"
    },
    {
     "data": {
      "text/markdown": [
       "### File: the_chair_s1e5_transcript.txt\n",
       "\n",
       "**Sentence Number:** 377\n",
       "\n",
       "**Sentence:** Is this hostility because Pembroke\n",
       "\n",
       "is like this lower-tier Ivy, and I went to Princeton?\n",
       "\n",
       "**Past References:** 1\n",
       "\n",
       "**Future References:** 0\n",
       "\n",
       "---"
      ],
      "text/plain": [
       "<IPython.core.display.Markdown object>"
      ]
     },
     "metadata": {},
     "output_type": "display_data"
    },
    {
     "data": {
      "text/markdown": [
       "### File: the_chair_s1e5_transcript.txt\n",
       "\n",
       "**Sentence Number:** 386\n",
       "\n",
       "**Sentence:** This is hostility\n",
       "\n",
       "because I promised this Distinguished Lectureship\n",
       "\n",
       "to someone who deserves it.\n",
       "\n",
       "**Past References:** 1\n",
       "\n",
       "**Future References:** 0\n",
       "\n",
       "---"
      ],
      "text/plain": [
       "<IPython.core.display.Markdown object>"
      ]
     },
     "metadata": {},
     "output_type": "display_data"
    },
    {
     "data": {
      "text/markdown": [
       "### File: the_chair_s1e5_transcript.txt\n",
       "\n",
       "**Sentence Number:** 390\n",
       "\n",
       "**Sentence:** The discipline has moved forward,\n",
       "\n",
       "and you’re still stuck back in a different era.\n",
       "\n",
       "**Past References:** 1\n",
       "\n",
       "**Future References:** 0\n",
       "\n",
       "---"
      ],
      "text/plain": [
       "<IPython.core.display.Markdown object>"
      ]
     },
     "metadata": {},
     "output_type": "display_data"
    },
    {
     "data": {
      "text/markdown": [
       "### File: the_chair_s1e5_transcript.txt\n",
       "\n",
       "**Sentence Number:** 397\n",
       "\n",
       "**Sentence:** No, it’s been so long since they broke up.\n",
       "\n",
       "**Past References:** 1\n",
       "\n",
       "**Future References:** 0\n",
       "\n",
       "---"
      ],
      "text/plain": [
       "<IPython.core.display.Markdown object>"
      ]
     },
     "metadata": {},
     "output_type": "display_data"
    },
    {
     "data": {
      "text/markdown": [
       "### File: the_chair_s1e5_transcript.txt\n",
       "\n",
       "**Sentence Number:** 406\n",
       "\n",
       "**Sentence:** Habi said they picked him up off the street.\n",
       "\n",
       "**Past References:** 1\n",
       "\n",
       "**Future References:** 0\n",
       "\n",
       "---"
      ],
      "text/plain": [
       "<IPython.core.display.Markdown object>"
      ]
     },
     "metadata": {},
     "output_type": "display_data"
    },
    {
     "data": {
      "text/markdown": [
       "### File: the_chair_s1e5_transcript.txt\n",
       "\n",
       "**Sentence Number:** 410\n",
       "\n",
       "**Sentence:** [David singing indistinctly]\n",
       "\n",
       "Only song I’ve ever heard quote Wallace Stevens.\n",
       "\n",
       "**Past References:** 1\n",
       "\n",
       "**Future References:** 0\n",
       "\n",
       "---"
      ],
      "text/plain": [
       "<IPython.core.display.Markdown object>"
      ]
     },
     "metadata": {},
     "output_type": "display_data"
    },
    {
     "data": {
      "text/markdown": [
       "### File: the_chair_s1e5_transcript.txt\n",
       "\n",
       "**Sentence Number:** 417\n",
       "\n",
       "**Sentence:** Was there someone else before me?\n",
       "\n",
       "**Past References:** 1\n",
       "\n",
       "**Future References:** 0\n",
       "\n",
       "---"
      ],
      "text/plain": [
       "<IPython.core.display.Markdown object>"
      ]
     },
     "metadata": {},
     "output_type": "display_data"
    },
    {
     "data": {
      "text/markdown": [
       "### File: the_chair_s1e5_transcript.txt\n",
       "\n",
       "**Sentence Number:** 421\n",
       "\n",
       "**Sentence:** Did Pembroke offer this position to someone else first?\n",
       "\n",
       "**Past References:** 1\n",
       "\n",
       "**Future References:** 0\n",
       "\n",
       "---"
      ],
      "text/plain": [
       "<IPython.core.display.Markdown object>"
      ]
     },
     "metadata": {},
     "output_type": "display_data"
    },
    {
     "data": {
      "text/markdown": [
       "### File: the_chair_s1e5_transcript.txt\n",
       "\n",
       "**Sentence Number:** 424\n",
       "\n",
       "**Sentence:** There was talk of James Franco a while back.\n",
       "\n",
       "**Past References:** 1\n",
       "\n",
       "**Future References:** 0\n",
       "\n",
       "---"
      ],
      "text/plain": [
       "<IPython.core.display.Markdown object>"
      ]
     },
     "metadata": {},
     "output_type": "display_data"
    },
    {
     "data": {
      "text/markdown": [
       "### File: the_chair_s1e5_transcript.txt\n",
       "\n",
       "**Sentence Number:** 428\n",
       "\n",
       "**Sentence:** Well, he got his PhD from Yale.\n",
       "\n",
       "**Past References:** 1\n",
       "\n",
       "**Future References:** 0\n",
       "\n",
       "---"
      ],
      "text/plain": [
       "<IPython.core.display.Markdown object>"
      ]
     },
     "metadata": {},
     "output_type": "display_data"
    },
    {
     "data": {
      "text/markdown": [
       "### File: the_chair_s1e5_transcript.txt\n",
       "\n",
       "**Sentence Number:** 430\n",
       "\n",
       "**Sentence:** Oh, did he?\n",
       "\n",
       "**Past References:** 1\n",
       "\n",
       "**Future References:** 0\n",
       "\n",
       "---"
      ],
      "text/plain": [
       "<IPython.core.display.Markdown object>"
      ]
     },
     "metadata": {},
     "output_type": "display_data"
    },
    {
     "data": {
      "text/markdown": [
       "### File: the_chair_s1e5_transcript.txt\n",
       "\n",
       "**Sentence Number:** 432\n",
       "\n",
       "**Sentence:** Oh, he got it?\n",
       "\n",
       "**Past References:** 1\n",
       "\n",
       "**Future References:** 0\n",
       "\n",
       "---"
      ],
      "text/plain": [
       "<IPython.core.display.Markdown object>"
      ]
     },
     "metadata": {},
     "output_type": "display_data"
    },
    {
     "data": {
      "text/markdown": [
       "### File: the_chair_s1e5_transcript.txt\n",
       "\n",
       "**Sentence Number:** 437\n",
       "\n",
       "**Sentence:** He did.\n",
       "\n",
       "**Past References:** 1\n",
       "\n",
       "**Future References:** 0\n",
       "\n",
       "---"
      ],
      "text/plain": [
       "<IPython.core.display.Markdown object>"
      ]
     },
     "metadata": {},
     "output_type": "display_data"
    },
    {
     "data": {
      "text/markdown": [
       "### File: the_chair_s1e5_transcript.txt\n",
       "\n",
       "**Sentence Number:** 438\n",
       "\n",
       "**Sentence:** He did.\n",
       "\n",
       "**Past References:** 1\n",
       "\n",
       "**Future References:** 0\n",
       "\n",
       "---"
      ],
      "text/plain": [
       "<IPython.core.display.Markdown object>"
      ]
     },
     "metadata": {},
     "output_type": "display_data"
    },
    {
     "data": {
      "text/markdown": [
       "### File: the_chair_s1e5_transcript.txt\n",
       "\n",
       "**Sentence Number:** 439\n",
       "\n",
       "**Sentence:** They might’ve invited Ethan Hawke, but he was shooting in Bulgaria.\n",
       "\n",
       "**Past References:** 1\n",
       "\n",
       "**Future References:** 0\n",
       "\n",
       "---"
      ],
      "text/plain": [
       "<IPython.core.display.Markdown object>"
      ]
     },
     "metadata": {},
     "output_type": "display_data"
    },
    {
     "data": {
      "text/markdown": [
       "### File: the_chair_s1e5_transcript.txt\n",
       "\n",
       "**Sentence Number:** 440\n",
       "\n",
       "**Sentence:** What was he shootin’?\n",
       "\n",
       "**Past References:** 1\n",
       "\n",
       "**Future References:** 0\n",
       "\n",
       "---"
      ],
      "text/plain": [
       "<IPython.core.display.Markdown object>"
      ]
     },
     "metadata": {},
     "output_type": "display_data"
    },
    {
     "data": {
      "text/markdown": [
       "### File: the_chair_s1e5_transcript.txt\n",
       "\n",
       "**Sentence Number:** 448\n",
       "\n",
       "**Sentence:** I don’t know what he was shooting.\n",
       "\n",
       "**Past References:** 1\n",
       "\n",
       "**Future References:** 0\n",
       "\n",
       "---"
      ],
      "text/plain": [
       "<IPython.core.display.Markdown object>"
      ]
     },
     "metadata": {},
     "output_type": "display_data"
    },
    {
     "data": {
      "text/markdown": [
       "### File: the_chair_s1e5_transcript.txt\n",
       "\n",
       "**Sentence Number:** 452\n",
       "\n",
       "**Sentence:** [exhales]\n",
       "\n",
       "Look, so I did all that work at Yale on Beckett, right?\n",
       "\n",
       "**Past References:** 1\n",
       "\n",
       "**Future References:** 0\n",
       "\n",
       "---"
      ],
      "text/plain": [
       "<IPython.core.display.Markdown object>"
      ]
     },
     "metadata": {},
     "output_type": "display_data"
    },
    {
     "data": {
      "text/markdown": [
       "### File: the_chair_s1e5_transcript.txt\n",
       "\n",
       "**Sentence Number:** 461\n",
       "\n",
       "**Sentence:** Um, whose… Who… Who wore that?\n",
       "\n",
       "**Past References:** 1\n",
       "\n",
       "**Future References:** 0\n",
       "\n",
       "---"
      ],
      "text/plain": [
       "<IPython.core.display.Markdown object>"
      ]
     },
     "metadata": {},
     "output_type": "display_data"
    },
    {
     "data": {
      "text/markdown": [
       "### File: the_chair_s1e5_transcript.txt\n",
       "\n",
       "**Sentence Number:** 463\n",
       "\n",
       "**Sentence:** Oh, it’s mine.\n",
       "\n",
       "**Past References:** 1\n",
       "\n",
       "**Future References:** 0\n",
       "\n",
       "---"
      ],
      "text/plain": [
       "<IPython.core.display.Markdown object>"
      ]
     },
     "metadata": {},
     "output_type": "display_data"
    },
    {
     "data": {
      "text/markdown": [
       "### File: the_chair_s1e5_transcript.txt\n",
       "\n",
       "**Sentence Number:** 469\n",
       "\n",
       "**Sentence:** You got Murphy, Molloy, Malone Dies…\n",
       "\n",
       "The students bought the other books.\n",
       "\n",
       "**Past References:** 1\n",
       "\n",
       "**Future References:** 0\n",
       "\n",
       "---"
      ],
      "text/plain": [
       "<IPython.core.display.Markdown object>"
      ]
     },
     "metadata": {},
     "output_type": "display_data"
    },
    {
     "data": {
      "text/markdown": [
       "### File: the_chair_s1e5_transcript.txt\n",
       "\n",
       "**Sentence Number:** 472\n",
       "\n",
       "**Sentence:** I’m a grossly overpaid actor/musician/novelist,\n",
       "\n",
       "**Past References:** 1\n",
       "\n",
       "**Future References:** 0\n",
       "\n",
       "---"
      ],
      "text/plain": [
       "<IPython.core.display.Markdown object>"
      ]
     },
     "metadata": {},
     "output_type": "display_data"
    },
    {
     "data": {
      "text/markdown": [
       "### File: the_chair_s1e5_transcript.txt\n",
       "\n",
       "**Sentence Number:** 473\n",
       "\n",
       "**Sentence:** and they’re students burdened with student debt.\n",
       "\n",
       "**Past References:** 1\n",
       "\n",
       "**Future References:** 0\n",
       "\n",
       "---"
      ],
      "text/plain": [
       "<IPython.core.display.Markdown object>"
      ]
     },
     "metadata": {},
     "output_type": "display_data"
    },
    {
     "data": {
      "text/markdown": [
       "### File: the_chair_s1e5_transcript.txt\n",
       "\n",
       "**Sentence Number:** 474\n",
       "\n",
       "**Sentence:** I will unburden them.\n",
       "\n",
       "**Past References:** 0\n",
       "\n",
       "**Future References:** 1\n",
       "\n",
       "---"
      ],
      "text/plain": [
       "<IPython.core.display.Markdown object>"
      ]
     },
     "metadata": {},
     "output_type": "display_data"
    },
    {
     "data": {
      "text/markdown": [
       "### File: the_chair_s1e5_transcript.txt\n",
       "\n",
       "**Sentence Number:** 481\n",
       "\n",
       "**Sentence:** If you really wanna make a contribution to the field,\n",
       "\n",
       "tell them you’ve changed your mind.\n",
       "\n",
       "**Past References:** 1\n",
       "\n",
       "**Future References:** 0\n",
       "\n",
       "---"
      ],
      "text/plain": [
       "<IPython.core.display.Markdown object>"
      ]
     },
     "metadata": {},
     "output_type": "display_data"
    },
    {
     "data": {
      "text/markdown": [
       "### File: the_chair_s1e5_transcript.txt\n",
       "\n",
       "**Sentence Number:** 542\n",
       "\n",
       "**Sentence:** [all cheering]\n",
       "\n",
       "That lady right there, she rigged it.\n",
       "\n",
       "**Past References:** 1\n",
       "\n",
       "**Future References:** 0\n",
       "\n",
       "---"
      ],
      "text/plain": [
       "<IPython.core.display.Markdown object>"
      ]
     },
     "metadata": {},
     "output_type": "display_data"
    },
    {
     "data": {
      "text/markdown": [
       "### File: the_chair_s1e5_transcript.txt\n",
       "\n",
       "**Sentence Number:** 545\n",
       "\n",
       "**Sentence:** She rigged the process.\n",
       "\n",
       "**Past References:** 1\n",
       "\n",
       "**Future References:** 0\n",
       "\n",
       "---"
      ],
      "text/plain": [
       "<IPython.core.display.Markdown object>"
      ]
     },
     "metadata": {},
     "output_type": "display_data"
    },
    {
     "data": {
      "text/markdown": [
       "### File: the_chair_s1e5_transcript.txt\n",
       "\n",
       "**Sentence Number:** 548\n",
       "\n",
       "**Sentence:** She wanted the paintbrush.\n",
       "\n",
       "**Past References:** 1\n",
       "\n",
       "**Future References:** 0\n",
       "\n",
       "---"
      ],
      "text/plain": [
       "<IPython.core.display.Markdown object>"
      ]
     },
     "metadata": {},
     "output_type": "display_data"
    },
    {
     "data": {
      "text/markdown": [
       "### File: the_chair_s1e5_transcript.txt\n",
       "\n",
       "**Sentence Number:** 556\n",
       "\n",
       "**Sentence:** She wanted the paintbrush.\n",
       "\n",
       "**Past References:** 1\n",
       "\n",
       "**Future References:** 0\n",
       "\n",
       "---"
      ],
      "text/plain": [
       "<IPython.core.display.Markdown object>"
      ]
     },
     "metadata": {},
     "output_type": "display_data"
    },
    {
     "data": {
      "text/markdown": [
       "### File: the_chair_s1e5_transcript.txt\n",
       "\n",
       "**Sentence Number:** 562\n",
       "\n",
       "**Sentence:** I mean, one of the reasons I went into this\n",
       "\n",
       "was that you don’t age out.\n",
       "\n",
       "**Past References:** 1\n",
       "\n",
       "**Future References:** 0\n",
       "\n",
       "---"
      ],
      "text/plain": [
       "<IPython.core.display.Markdown object>"
      ]
     },
     "metadata": {},
     "output_type": "display_data"
    },
    {
     "data": {
      "text/markdown": [
       "### File: the_chair_s1e5_transcript.txt\n",
       "\n",
       "**Sentence Number:** 565\n",
       "\n",
       "**Sentence:** I never thought I’d retire.\n",
       "\n",
       "**Past References:** 1\n",
       "\n",
       "**Future References:** 0\n",
       "\n",
       "---"
      ],
      "text/plain": [
       "<IPython.core.display.Markdown object>"
      ]
     },
     "metadata": {},
     "output_type": "display_data"
    },
    {
     "data": {
      "text/markdown": [
       "### File: the_chair_s1e5_transcript.txt\n",
       "\n",
       "**Sentence Number:** 572\n",
       "\n",
       "**Sentence:** You got your glucose tablets?\n",
       "\n",
       "**Past References:** 1\n",
       "\n",
       "**Future References:** 0\n",
       "\n",
       "---"
      ],
      "text/plain": [
       "<IPython.core.display.Markdown object>"
      ]
     },
     "metadata": {},
     "output_type": "display_data"
    },
    {
     "data": {
      "text/markdown": [
       "### File: the_chair_s1e5_transcript.txt\n",
       "\n",
       "**Sentence Number:** 581\n",
       "\n",
       "**Sentence:** I, um…\n",
       "\n",
       "I’ve been, uh…\n",
       "\n",
       "I’ve been here for what, 32 years, was chair for six of those,\n",
       "\n",
       "and nothing like this ever happened.\n",
       "\n",
       "**Past References:** 1\n",
       "\n",
       "**Future References:** 0\n",
       "\n",
       "---"
      ],
      "text/plain": [
       "<IPython.core.display.Markdown object>"
      ]
     },
     "metadata": {},
     "output_type": "display_data"
    },
    {
     "data": {
      "text/markdown": [
       "### File: the_chair_s1e5_transcript.txt\n",
       "\n",
       "**Sentence Number:** 584\n",
       "\n",
       "**Sentence:** Well, she wanted me to doctor my tenure letter for Yaz\n",
       "\n",
       "in exchange for co-teacher.\n",
       "\n",
       "**Past References:** 1\n",
       "\n",
       "**Future References:** 0\n",
       "\n",
       "---"
      ],
      "text/plain": [
       "<IPython.core.display.Markdown object>"
      ]
     },
     "metadata": {},
     "output_type": "display_data"
    },
    {
     "data": {
      "text/markdown": [
       "### File: the_chair_s1e5_transcript.txt\n",
       "\n",
       "**Sentence Number:** 585\n",
       "\n",
       "**Sentence:** I get put on a list.\n",
       "\n",
       "**Past References:** 1\n",
       "\n",
       "**Future References:** 0\n",
       "\n",
       "---"
      ],
      "text/plain": [
       "<IPython.core.display.Markdown object>"
      ]
     },
     "metadata": {},
     "output_type": "display_data"
    },
    {
     "data": {
      "text/markdown": [
       "### File: the_chair_s1e5_transcript.txt\n",
       "\n",
       "**Sentence Number:** 589\n",
       "\n",
       "**Sentence:** [chuckling] I can’t take you seriously\n",
       "\n",
       "when you look like you just stuck your head in a beehive.\n",
       "\n",
       "**Past References:** 1\n",
       "\n",
       "**Future References:** 0\n",
       "\n",
       "---"
      ],
      "text/plain": [
       "<IPython.core.display.Markdown object>"
      ]
     },
     "metadata": {},
     "output_type": "display_data"
    },
    {
     "data": {
      "text/markdown": [
       "### File: the_chair_s1e5_transcript.txt\n",
       "\n",
       "**Sentence Number:** 595\n",
       "\n",
       "**Sentence:** Now, if one of us had stepped out of line,\n",
       "\n",
       "she would not be going to the mat like this.\n",
       "\n",
       "**Past References:** 1\n",
       "\n",
       "**Future References:** 0\n",
       "\n",
       "---"
      ],
      "text/plain": [
       "<IPython.core.display.Markdown object>"
      ]
     },
     "metadata": {},
     "output_type": "display_data"
    },
    {
     "data": {
      "text/markdown": [
       "### File: the_chair_s1e5_transcript.txt\n",
       "\n",
       "**Sentence Number:** 598\n",
       "\n",
       "**Sentence:** Well, we elected her.\n",
       "\n",
       "**Past References:** 1\n",
       "\n",
       "**Future References:** 0\n",
       "\n",
       "---"
      ],
      "text/plain": [
       "<IPython.core.display.Markdown object>"
      ]
     },
     "metadata": {},
     "output_type": "display_data"
    },
    {
     "data": {
      "text/markdown": [
       "### File: the_chair_s1e5_transcript.txt\n",
       "\n",
       "**Sentence Number:** 601\n",
       "\n",
       "**Sentence:** She’s only protected his.\n",
       "\n",
       "**Past References:** 1\n",
       "\n",
       "**Future References:** 0\n",
       "\n",
       "---"
      ],
      "text/plain": [
       "<IPython.core.display.Markdown object>"
      ]
     },
     "metadata": {},
     "output_type": "display_data"
    },
    {
     "data": {
      "text/markdown": [
       "### File: the_chair_s1e5_transcript.txt\n",
       "\n",
       "**Sentence Number:** 603\n",
       "\n",
       "**Sentence:** We gotta do something.\n",
       "\n",
       "**Past References:** 1\n",
       "\n",
       "**Future References:** 0\n",
       "\n",
       "---"
      ],
      "text/plain": [
       "<IPython.core.display.Markdown object>"
      ]
     },
     "metadata": {},
     "output_type": "display_data"
    },
    {
     "data": {
      "text/markdown": [
       "### File: the_chair_s1e5_transcript.txt\n",
       "\n",
       "**Sentence Number:** 608\n",
       "\n",
       "**Sentence:** I’ve got great news.\n",
       "\n",
       "**Past References:** 1\n",
       "\n",
       "**Future References:** 0\n",
       "\n",
       "---"
      ],
      "text/plain": [
       "<IPython.core.display.Markdown object>"
      ]
     },
     "metadata": {},
     "output_type": "display_data"
    },
    {
     "data": {
      "text/markdown": [
       "### File: the_chair_s1e5_transcript.txt\n",
       "\n",
       "**Sentence Number:** 609\n",
       "\n",
       "**Sentence:** David Duchovny’s not giving the Distinguished Lectureship,\n",
       "\n",
       "you are.\n",
       "\n",
       "**Past References:** 1\n",
       "\n",
       "**Future References:** 0\n",
       "\n",
       "---"
      ],
      "text/plain": [
       "<IPython.core.display.Markdown object>"
      ]
     },
     "metadata": {},
     "output_type": "display_data"
    },
    {
     "data": {
      "text/markdown": [
       "### File: the_chair_s1e5_transcript.txt\n",
       "\n",
       "**Sentence Number:** 611\n",
       "\n",
       "**Sentence:** I already agreed to give it somewhere else.\n",
       "\n",
       "**Past References:** 1\n",
       "\n",
       "**Future References:** 0\n",
       "\n",
       "---"
      ],
      "text/plain": [
       "<IPython.core.display.Markdown object>"
      ]
     },
     "metadata": {},
     "output_type": "display_data"
    },
    {
     "data": {
      "text/markdown": [
       "### File: the_chair_s1e5_transcript.txt\n",
       "\n",
       "**Sentence Number:** 618\n",
       "\n",
       "**Sentence:** They’ve invited me to apply for a position.\n",
       "\n",
       "**Past References:** 1\n",
       "\n",
       "**Future References:** 0\n",
       "\n",
       "---"
      ],
      "text/plain": [
       "<IPython.core.display.Markdown object>"
      ]
     },
     "metadata": {},
     "output_type": "display_data"
    },
    {
     "data": {
      "text/markdown": [
       "### File: the_chair_s1e5_transcript.txt\n",
       "\n",
       "**Sentence Number:** 619\n",
       "\n",
       "**Sentence:** Why didn’t you tell me?\n",
       "\n",
       "**Past References:** 1\n",
       "\n",
       "**Future References:** 0\n",
       "\n",
       "---"
      ],
      "text/plain": [
       "<IPython.core.display.Markdown object>"
      ]
     },
     "metadata": {},
     "output_type": "display_data"
    },
    {
     "data": {
      "text/markdown": [
       "### File: the_chair_s1e5_transcript.txt\n",
       "\n",
       "**Sentence Number:** 620\n",
       "\n",
       "**Sentence:** [breathes deeply]\n",
       "\n",
       "Look, I know it’s been a mess around here.\n",
       "\n",
       "**Past References:** 1\n",
       "\n",
       "**Future References:** 0\n",
       "\n",
       "---"
      ],
      "text/plain": [
       "<IPython.core.display.Markdown object>"
      ]
     },
     "metadata": {},
     "output_type": "display_data"
    },
    {
     "data": {
      "text/markdown": [
       "### File: the_chair_s1e5_transcript.txt\n",
       "\n",
       "**Sentence Number:** 622\n",
       "\n",
       "**Sentence:** I mean, I’ve been a mess.\n",
       "\n",
       "**Past References:** 1\n",
       "\n",
       "**Future References:** 0\n",
       "\n",
       "---"
      ],
      "text/plain": [
       "<IPython.core.display.Markdown object>"
      ]
     },
     "metadata": {},
     "output_type": "display_data"
    },
    {
     "data": {
      "text/markdown": [
       "### File: the_chair_s1e5_transcript.txt\n",
       "\n",
       "**Sentence Number:** 630\n",
       "\n",
       "**Sentence:** Seeded by benefactors who got rich off of sugar\n",
       "\n",
       "**Past References:** 1\n",
       "\n",
       "**Future References:** 0\n",
       "\n",
       "---"
      ],
      "text/plain": [
       "<IPython.core.display.Markdown object>"
      ]
     },
     "metadata": {},
     "output_type": "display_data"
    },
    {
     "data": {
      "text/markdown": [
       "### File: the_chair_s1e5_transcript.txt\n",
       "\n",
       "**Sentence Number:** 641\n",
       "\n",
       "**Sentence:** You think that’s how I got here?\n",
       "\n",
       "**Past References:** 1\n",
       "\n",
       "**Future References:** 0\n",
       "\n",
       "---"
      ],
      "text/plain": [
       "<IPython.core.display.Markdown object>"
      ]
     },
     "metadata": {},
     "output_type": "display_data"
    },
    {
     "data": {
      "text/markdown": [
       "### File: the_chair_s1e5_transcript.txt\n",
       "\n",
       "**Sentence Number:** 643\n",
       "\n",
       "**Sentence:** Is that how you think I fucking got here?\n",
       "\n",
       "**Past References:** 1\n",
       "\n",
       "**Future References:** 0\n",
       "\n",
       "---"
      ],
      "text/plain": [
       "<IPython.core.display.Markdown object>"
      ]
     },
     "metadata": {},
     "output_type": "display_data"
    },
    {
     "data": {
      "text/markdown": [
       "### File: the_chair_s1e5_transcript.txt\n",
       "\n",
       "**Sentence Number:** 646\n",
       "\n",
       "**Sentence:** You are gonna be the first tenured Black woman in the department.\n",
       "\n",
       "**Past References:** 1\n",
       "\n",
       "**Future References:** 0\n",
       "\n",
       "---"
      ],
      "text/plain": [
       "<IPython.core.display.Markdown object>"
      ]
     },
     "metadata": {},
     "output_type": "display_data"
    },
    {
     "data": {
      "text/markdown": [
       "### File: the_chair_s1e5_transcript.txt\n",
       "\n",
       "**Sentence Number:** 650\n",
       "\n",
       "**Sentence:** Pembroke said and did all the right things to keep me here.\n",
       "\n",
       "**Past References:** 1\n",
       "\n",
       "**Future References:** 0\n",
       "\n",
       "---"
      ],
      "text/plain": [
       "<IPython.core.display.Markdown object>"
      ]
     },
     "metadata": {},
     "output_type": "display_data"
    },
    {
     "data": {
      "text/markdown": [
       "### File: the_chair_s1e5_transcript.txt\n",
       "\n",
       "**Sentence Number:** 652\n",
       "\n",
       "**Sentence:** But you know the real reason I stayed?\n",
       "\n",
       "**Past References:** 1\n",
       "\n",
       "**Future References:** 0\n",
       "\n",
       "---"
      ],
      "text/plain": [
       "<IPython.core.display.Markdown object>"
      ]
     },
     "metadata": {},
     "output_type": "display_data"
    },
    {
     "data": {
      "text/markdown": [
       "### File: the_chair_s1e5_transcript.txt\n",
       "\n",
       "**Sentence Number:** 654\n",
       "\n",
       "**Sentence:** It was because of Joan,\n",
       "\n",
       "and Bill,\n",
       "\n",
       "and this dazzling new hire named Yaz.\n",
       "\n",
       "**Past References:** 1\n",
       "\n",
       "**Future References:** 0\n",
       "\n",
       "---"
      ],
      "text/plain": [
       "<IPython.core.display.Markdown object>"
      ]
     },
     "metadata": {},
     "output_type": "display_data"
    },
    {
     "data": {
      "text/markdown": [
       "### File: the_chair_s1e5_transcript.txt\n",
       "\n",
       "**Sentence Number:** 667\n",
       "\n",
       "**Sentence:** [inhales deeply]\n",
       "\n",
       "Expedited tenure and an endowed professorship.\n",
       "\n",
       "**Past References:** 1\n",
       "\n",
       "**Future References:** 0\n",
       "\n",
       "---"
      ],
      "text/plain": [
       "<IPython.core.display.Markdown object>"
      ]
     },
     "metadata": {},
     "output_type": "display_data"
    },
    {
     "data": {
      "text/markdown": [
       "### File: the_chair_s1e5_transcript.txt\n",
       "\n",
       "**Sentence Number:** 675\n",
       "\n",
       "**Sentence:** You didn’t have to do that.\n",
       "\n",
       "**Past References:** 1\n",
       "\n",
       "**Future References:** 0\n",
       "\n",
       "---"
      ],
      "text/plain": [
       "<IPython.core.display.Markdown object>"
      ]
     },
     "metadata": {},
     "output_type": "display_data"
    },
    {
     "data": {
      "text/markdown": [
       "### File: the_chair_s1e5_transcript.txt\n",
       "\n",
       "**Sentence Number:** 695\n",
       "\n",
       "**Sentence:** How long ago did he lose his wife?\n",
       "\n",
       "**Past References:** 1\n",
       "\n",
       "**Future References:** 0\n",
       "\n",
       "---"
      ],
      "text/plain": [
       "<IPython.core.display.Markdown object>"
      ]
     },
     "metadata": {},
     "output_type": "display_data"
    },
    {
     "data": {
      "text/markdown": [
       "### File: the_chair_s1e5_transcript.txt\n",
       "\n",
       "**Sentence Number:** 697\n",
       "\n",
       "**Sentence:** It’s been about a year.\n",
       "\n",
       "**Past References:** 1\n",
       "\n",
       "**Future References:** 0\n",
       "\n",
       "---"
      ],
      "text/plain": [
       "<IPython.core.display.Markdown object>"
      ]
     },
     "metadata": {},
     "output_type": "display_data"
    },
    {
     "data": {
      "text/markdown": [
       "### File: the_chair_s1e5_transcript.txt\n",
       "\n",
       "**Sentence Number:** 702\n",
       "\n",
       "**Sentence:** And he wrote a book, maybe two?\n",
       "\n",
       "**Past References:** 1\n",
       "\n",
       "**Future References:** 0\n",
       "\n",
       "---"
      ],
      "text/plain": [
       "<IPython.core.display.Markdown object>"
      ]
     },
     "metadata": {},
     "output_type": "display_data"
    },
    {
     "data": {
      "text/markdown": [
       "### File: the_chair_s1e5_transcript.txt\n",
       "\n",
       "**Sentence Number:** 705\n",
       "\n",
       "**Sentence:** I hope I didn’t mess it up.\n",
       "\n",
       "**Past References:** 1\n",
       "\n",
       "**Future References:** 0\n",
       "\n",
       "---"
      ],
      "text/plain": [
       "<IPython.core.display.Markdown object>"
      ]
     },
     "metadata": {},
     "output_type": "display_data"
    },
    {
     "data": {
      "text/markdown": [
       "### File: the_chair_s1e5_transcript.txt\n",
       "\n",
       "**Sentence Number:** 719\n",
       "\n",
       "**Sentence:** If only there were a good Korean woman in his life.\n",
       "\n",
       "**Past References:** 1\n",
       "\n",
       "**Future References:** 0\n",
       "\n",
       "---"
      ],
      "text/plain": [
       "<IPython.core.display.Markdown object>"
      ]
     },
     "metadata": {},
     "output_type": "display_data"
    },
    {
     "data": {
      "text/markdown": [
       "### File: the_chair_s1e5_transcript.txt\n",
       "\n",
       "**Sentence Number:** 723\n",
       "\n",
       "**Sentence:** Not bad-looking if he’d only shave.\n",
       "\n",
       "**Past References:** 1\n",
       "\n",
       "**Future References:** 0\n",
       "\n",
       "---"
      ],
      "text/plain": [
       "<IPython.core.display.Markdown object>"
      ]
     },
     "metadata": {},
     "output_type": "display_data"
    },
    {
     "data": {
      "text/markdown": [
       "### File: the_chair_s1e5_transcript.txt\n",
       "\n",
       "**Sentence Number:** 725\n",
       "\n",
       "**Sentence:** And he’s good with kids.\n",
       "\n",
       "**Past References:** 1\n",
       "\n",
       "**Future References:** 0\n",
       "\n",
       "---"
      ],
      "text/plain": [
       "<IPython.core.display.Markdown object>"
      ]
     },
     "metadata": {},
     "output_type": "display_data"
    },
    {
     "data": {
      "text/markdown": [
       "### File: the_chair_s1e5_transcript.txt\n",
       "\n",
       "**Sentence Number:** 736\n",
       "\n",
       "**Sentence:** Ju Ju, your mom got home early.\n",
       "\n",
       "**Past References:** 1\n",
       "\n",
       "**Future References:** 0\n",
       "\n",
       "---"
      ],
      "text/plain": [
       "<IPython.core.display.Markdown object>"
      ]
     },
     "metadata": {},
     "output_type": "display_data"
    },
    {
     "data": {
      "text/markdown": [
       "### File: the_chair_s1e5_transcript.txt\n",
       "\n",
       "**Sentence Number:** 748\n",
       "\n",
       "**Sentence:** Um, what did Ji-Yoon pick for her Dol ceremony?\n",
       "\n",
       "**Past References:** 1\n",
       "\n",
       "**Future References:** 0\n",
       "\n",
       "---"
      ],
      "text/plain": [
       "<IPython.core.display.Markdown object>"
      ]
     },
     "metadata": {},
     "output_type": "display_data"
    },
    {
     "data": {
      "text/markdown": [
       "### File: the_chair_s1e5_transcript.txt\n",
       "\n",
       "**Sentence Number:** 751\n",
       "\n",
       "**Sentence:** Yeah, she picked a pencil.\n",
       "\n",
       "**Past References:** 1\n",
       "\n",
       "**Future References:** 0\n",
       "\n",
       "---"
      ],
      "text/plain": [
       "<IPython.core.display.Markdown object>"
      ]
     },
     "metadata": {},
     "output_type": "display_data"
    },
    {
     "data": {
      "text/markdown": [
       "### File: the_chair_s1e2_transcript.txt\n",
       "\n",
       "**Sentence Number:** 3\n",
       "\n",
       "**Sentence:** His wife died.\n",
       "\n",
       "**Past References:** 1\n",
       "\n",
       "**Future References:** 0\n",
       "\n",
       "---"
      ],
      "text/plain": [
       "<IPython.core.display.Markdown object>"
      ]
     },
     "metadata": {},
     "output_type": "display_data"
    },
    {
     "data": {
      "text/markdown": [
       "### File: the_chair_s1e2_transcript.txt\n",
       "\n",
       "**Sentence Number:** 12\n",
       "\n",
       "**Sentence:** You just gave your pie to a Nazi.\n",
       "\n",
       "**Past References:** 1\n",
       "\n",
       "**Future References:** 0\n",
       "\n",
       "---"
      ],
      "text/plain": [
       "<IPython.core.display.Markdown object>"
      ]
     },
     "metadata": {},
     "output_type": "display_data"
    },
    {
     "data": {
      "text/markdown": [
       "### File: the_chair_s1e2_transcript.txt\n",
       "\n",
       "**Sentence Number:** 13\n",
       "\n",
       "**Sentence:** [classical music playing]\n",
       "\n",
       "I left her dinner in the fridge.\n",
       "\n",
       "**Past References:** 1\n",
       "\n",
       "**Future References:** 0\n",
       "\n",
       "---"
      ],
      "text/plain": [
       "<IPython.core.display.Markdown object>"
      ]
     },
     "metadata": {},
     "output_type": "display_data"
    },
    {
     "data": {
      "text/markdown": [
       "### File: the_chair_s1e2_transcript.txt\n",
       "\n",
       "**Sentence Number:** 22\n",
       "\n",
       "**Sentence:** I gotta go.\n",
       "\n",
       "**Past References:** 1\n",
       "\n",
       "**Future References:** 0\n",
       "\n",
       "---"
      ],
      "text/plain": [
       "<IPython.core.display.Markdown object>"
      ]
     },
     "metadata": {},
     "output_type": "display_data"
    },
    {
     "data": {
      "text/markdown": [
       "### File: the_chair_s1e2_transcript.txt\n",
       "\n",
       "**Sentence Number:** 31\n",
       "\n",
       "**Sentence:** [sighs] That, you heard.\n",
       "\n",
       "**Past References:** 1\n",
       "\n",
       "**Future References:** 0\n",
       "\n",
       "---"
      ],
      "text/plain": [
       "<IPython.core.display.Markdown object>"
      ]
     },
     "metadata": {},
     "output_type": "display_data"
    },
    {
     "data": {
      "text/markdown": [
       "### File: the_chair_s1e2_transcript.txt\n",
       "\n",
       "**Sentence Number:** 37\n",
       "\n",
       "**Sentence:** She’ll make an appearance as soon as I’m gone.\n",
       "\n",
       "**Past References:** 1\n",
       "\n",
       "**Future References:** 0\n",
       "\n",
       "---"
      ],
      "text/plain": [
       "<IPython.core.display.Markdown object>"
      ]
     },
     "metadata": {},
     "output_type": "display_data"
    },
    {
     "data": {
      "text/markdown": [
       "### File: the_chair_s1e2_transcript.txt\n",
       "\n",
       "**Sentence Number:** 43\n",
       "\n",
       "**Sentence:** That’s what the girl I stole it from said.\n",
       "\n",
       "**Past References:** 1\n",
       "\n",
       "**Future References:** 0\n",
       "\n",
       "---"
      ],
      "text/plain": [
       "<IPython.core.display.Markdown object>"
      ]
     },
     "metadata": {},
     "output_type": "display_data"
    },
    {
     "data": {
      "text/markdown": [
       "### File: the_chair_s1e2_transcript.txt\n",
       "\n",
       "**Sentence Number:** 46\n",
       "\n",
       "**Sentence:** [Ju Ju in high-pitched voice]\n",
       "\n",
       "**Past References:** 1\n",
       "\n",
       "**Future References:** 0\n",
       "\n",
       "---"
      ],
      "text/plain": [
       "<IPython.core.display.Markdown object>"
      ]
     },
     "metadata": {},
     "output_type": "display_data"
    },
    {
     "data": {
      "text/markdown": [
       "### File: the_chair_s1e2_transcript.txt\n",
       "\n",
       "**Sentence Number:** 67\n",
       "\n",
       "**Sentence:** What happened?\n",
       "\n",
       "**Past References:** 1\n",
       "\n",
       "**Future References:** 0\n",
       "\n",
       "---"
      ],
      "text/plain": [
       "<IPython.core.display.Markdown object>"
      ]
     },
     "metadata": {},
     "output_type": "display_data"
    },
    {
     "data": {
      "text/markdown": [
       "### File: the_chair_s1e2_transcript.txt\n",
       "\n",
       "**Sentence Number:** 70\n",
       "\n",
       "**Sentence:** What did she do?\n",
       "\n",
       "**Past References:** 1\n",
       "\n",
       "**Future References:** 0\n",
       "\n",
       "---"
      ],
      "text/plain": [
       "<IPython.core.display.Markdown object>"
      ]
     },
     "metadata": {},
     "output_type": "display_data"
    },
    {
     "data": {
      "text/markdown": [
       "### File: the_chair_s1e2_transcript.txt\n",
       "\n",
       "**Sentence Number:** 73\n",
       "\n",
       "**Sentence:** [Vicky sighs]\n",
       "\n",
       "I don’t wanna say that I was triggered by your daughter,\n",
       "\n",
       "**Past References:** 1\n",
       "\n",
       "**Future References:** 0\n",
       "\n",
       "---"
      ],
      "text/plain": [
       "<IPython.core.display.Markdown object>"
      ]
     },
     "metadata": {},
     "output_type": "display_data"
    },
    {
     "data": {
      "text/markdown": [
       "### File: the_chair_s1e2_transcript.txt\n",
       "\n",
       "**Sentence Number:** 89\n",
       "\n",
       "**Sentence:** Didn’t you get a raise recently?\n",
       "\n",
       "**Past References:** 1\n",
       "\n",
       "**Future References:** 0\n",
       "\n",
       "---"
      ],
      "text/plain": [
       "<IPython.core.display.Markdown object>"
      ]
     },
     "metadata": {},
     "output_type": "display_data"
    },
    {
     "data": {
      "text/markdown": [
       "### File: the_chair_s1e2_transcript.txt\n",
       "\n",
       "**Sentence Number:** 91\n",
       "\n",
       "**Sentence:** [in English] I had one.\n",
       "\n",
       "**Past References:** 1\n",
       "\n",
       "**Future References:** 0\n",
       "\n",
       "---"
      ],
      "text/plain": [
       "<IPython.core.display.Markdown object>"
      ]
     },
     "metadata": {},
     "output_type": "display_data"
    },
    {
     "data": {
      "text/markdown": [
       "### File: the_chair_s1e2_transcript.txt\n",
       "\n",
       "**Sentence Number:** 92\n",
       "\n",
       "**Sentence:** She had to cancel at the last minute.\n",
       "\n",
       "**Past References:** 1\n",
       "\n",
       "**Future References:** 0\n",
       "\n",
       "---"
      ],
      "text/plain": [
       "<IPython.core.display.Markdown object>"
      ]
     },
     "metadata": {},
     "output_type": "display_data"
    },
    {
     "data": {
      "text/markdown": [
       "### File: the_chair_s1e2_transcript.txt\n",
       "\n",
       "**Sentence Number:** 105\n",
       "\n",
       "**Sentence:** Oh, did you bake this yourself?\n",
       "\n",
       "**Past References:** 1\n",
       "\n",
       "**Future References:** 0\n",
       "\n",
       "---"
      ],
      "text/plain": [
       "<IPython.core.display.Markdown object>"
      ]
     },
     "metadata": {},
     "output_type": "display_data"
    },
    {
     "data": {
      "text/markdown": [
       "### File: the_chair_s1e2_transcript.txt\n",
       "\n",
       "**Sentence Number:** 120\n",
       "\n",
       "**Sentence:** I did not dare to eat it.\n",
       "\n",
       "**Past References:** 1\n",
       "\n",
       "**Future References:** 0\n",
       "\n",
       "---"
      ],
      "text/plain": [
       "<IPython.core.display.Markdown object>"
      ]
     },
     "metadata": {},
     "output_type": "display_data"
    },
    {
     "data": {
      "text/markdown": [
       "### File: the_chair_s1e2_transcript.txt\n",
       "\n",
       "**Sentence Number:** 131\n",
       "\n",
       "**Sentence:** Where’s she supposed to sleep?\n",
       "\n",
       "**Past References:** 1\n",
       "\n",
       "**Future References:** 0\n",
       "\n",
       "---"
      ],
      "text/plain": [
       "<IPython.core.display.Markdown object>"
      ]
     },
     "metadata": {},
     "output_type": "display_data"
    },
    {
     "data": {
      "text/markdown": [
       "### File: the_chair_s1e2_transcript.txt\n",
       "\n",
       "**Sentence Number:** 149\n",
       "\n",
       "**Sentence:** [Yaz sighs]\n",
       "\n",
       "[indistinct chatter]\n",
       "\n",
       "I got your email about Fre… Fr…\n",
       "\n",
       "Yasmin McKay.\n",
       "\n",
       "**Past References:** 1\n",
       "\n",
       "**Future References:** 0\n",
       "\n",
       "---"
      ],
      "text/plain": [
       "<IPython.core.display.Markdown object>"
      ]
     },
     "metadata": {},
     "output_type": "display_data"
    },
    {
     "data": {
      "text/markdown": [
       "### File: the_chair_s1e2_transcript.txt\n",
       "\n",
       "**Sentence Number:** 170\n",
       "\n",
       "**Sentence:** For the last five years,\n",
       "\n",
       "you’ve put the same picture of me on our recruitment brochure.\n",
       "\n",
       "**Past References:** 1\n",
       "\n",
       "**Future References:** 0\n",
       "\n",
       "---"
      ],
      "text/plain": [
       "<IPython.core.display.Markdown object>"
      ]
     },
     "metadata": {},
     "output_type": "display_data"
    },
    {
     "data": {
      "text/markdown": [
       "### File: the_chair_s1e2_transcript.txt\n",
       "\n",
       "**Sentence Number:** 173\n",
       "\n",
       "**Sentence:** As soon as one of them retires,\n",
       "\n",
       "gets kicked out,\n",
       "\n",
       "or dies.\n",
       "\n",
       "**Past References:** 1\n",
       "\n",
       "**Future References:** 0\n",
       "\n",
       "---"
      ],
      "text/plain": [
       "<IPython.core.display.Markdown object>"
      ]
     },
     "metadata": {},
     "output_type": "display_data"
    },
    {
     "data": {
      "text/markdown": [
       "### File: the_chair_s1e2_transcript.txt\n",
       "\n",
       "**Sentence Number:** 178\n",
       "\n",
       "**Sentence:** Well, if it were up to them,\n",
       "\n",
       "we’d all be teaching at home in our skivvies.\n",
       "\n",
       "**Past References:** 1\n",
       "\n",
       "**Future References:** 0\n",
       "\n",
       "---"
      ],
      "text/plain": [
       "<IPython.core.display.Markdown object>"
      ]
     },
     "metadata": {},
     "output_type": "display_data"
    },
    {
     "data": {
      "text/markdown": [
       "### File: the_chair_s1e2_transcript.txt\n",
       "\n",
       "**Sentence Number:** 179\n",
       "\n",
       "**Sentence:** [McHale chuckles] Speaking of which, how did your colonoscopy go?\n",
       "\n",
       "**Past References:** 1\n",
       "\n",
       "**Future References:** 0\n",
       "\n",
       "---"
      ],
      "text/plain": [
       "<IPython.core.display.Markdown object>"
      ]
     },
     "metadata": {},
     "output_type": "display_data"
    },
    {
     "data": {
      "text/markdown": [
       "### File: the_chair_s1e2_transcript.txt\n",
       "\n",
       "**Sentence Number:** 205\n",
       "\n",
       "**Sentence:** I spent half of grad school in there.\n",
       "\n",
       "**Past References:** 1\n",
       "\n",
       "**Future References:** 0\n",
       "\n",
       "---"
      ],
      "text/plain": [
       "<IPython.core.display.Markdown object>"
      ]
     },
     "metadata": {},
     "output_type": "display_data"
    },
    {
     "data": {
      "text/markdown": [
       "### File: the_chair_s1e2_transcript.txt\n",
       "\n",
       "**Sentence Number:** 227\n",
       "\n",
       "**Sentence:** You’re over-enrolled, right?\n",
       "\n",
       "**Past References:** 1\n",
       "\n",
       "**Future References:** 0\n",
       "\n",
       "---"
      ],
      "text/plain": [
       "<IPython.core.display.Markdown object>"
      ]
     },
     "metadata": {},
     "output_type": "display_data"
    },
    {
     "data": {
      "text/markdown": [
       "### File: the_chair_s1e2_transcript.txt\n",
       "\n",
       "**Sentence Number:** 228\n",
       "\n",
       "**Sentence:** “Professor Dobson’s class\n",
       "\n",
       "is like the limp-dicked version of his pretentious writing.”\n",
       "\n",
       "**Past References:** 1\n",
       "\n",
       "**Future References:** 0\n",
       "\n",
       "---"
      ],
      "text/plain": [
       "<IPython.core.display.Markdown object>"
      ]
     },
     "metadata": {},
     "output_type": "display_data"
    },
    {
     "data": {
      "text/markdown": [
       "### File: the_chair_s1e2_transcript.txt\n",
       "\n",
       "**Sentence Number:** 230\n",
       "\n",
       "**Sentence:** So they read your book.\n",
       "\n",
       "**Past References:** 1\n",
       "\n",
       "**Future References:** 0\n",
       "\n",
       "---"
      ],
      "text/plain": [
       "<IPython.core.display.Markdown object>"
      ]
     },
     "metadata": {},
     "output_type": "display_data"
    },
    {
     "data": {
      "text/markdown": [
       "### File: the_chair_s1e2_transcript.txt\n",
       "\n",
       "**Sentence Number:** 233\n",
       "\n",
       "**Sentence:** Hey, I called you earlier.\n",
       "\n",
       "**Past References:** 1\n",
       "\n",
       "**Future References:** 0\n",
       "\n",
       "---"
      ],
      "text/plain": [
       "<IPython.core.display.Markdown object>"
      ]
     },
     "metadata": {},
     "output_type": "display_data"
    },
    {
     "data": {
      "text/markdown": [
       "### File: the_chair_s1e2_transcript.txt\n",
       "\n",
       "**Sentence Number:** 235\n",
       "\n",
       "**Sentence:** Yeah, I left the phone at home.\n",
       "\n",
       "**Past References:** 1\n",
       "\n",
       "**Future References:** 0\n",
       "\n",
       "---"
      ],
      "text/plain": [
       "<IPython.core.display.Markdown object>"
      ]
     },
     "metadata": {},
     "output_type": "display_data"
    },
    {
     "data": {
      "text/markdown": [
       "### File: the_chair_s1e2_transcript.txt\n",
       "\n",
       "**Sentence Number:** 236\n",
       "\n",
       "**Sentence:** Doodles said I’m texting too much, so…\n",
       "\n",
       "**Past References:** 1\n",
       "\n",
       "**Future References:** 0\n",
       "\n",
       "---"
      ],
      "text/plain": [
       "<IPython.core.display.Markdown object>"
      ]
     },
     "metadata": {},
     "output_type": "display_data"
    },
    {
     "data": {
      "text/markdown": [
       "### File: the_chair_s1e2_transcript.txt\n",
       "\n",
       "**Sentence Number:** 244\n",
       "\n",
       "**Sentence:** Wish I had done that.\n",
       "\n",
       "**Past References:** 1\n",
       "\n",
       "**Future References:** 0\n",
       "\n",
       "---"
      ],
      "text/plain": [
       "<IPython.core.display.Markdown object>"
      ]
     },
     "metadata": {},
     "output_type": "display_data"
    },
    {
     "data": {
      "text/markdown": [
       "### File: the_chair_s1e2_transcript.txt\n",
       "\n",
       "**Sentence Number:** 245\n",
       "\n",
       "**Sentence:** Back when I was cute,\n",
       "\n",
       "my head was buried in Piers Plowman and Dream of the Rood.\n",
       "\n",
       "**Past References:** 1\n",
       "\n",
       "**Future References:** 0\n",
       "\n",
       "---"
      ],
      "text/plain": [
       "<IPython.core.display.Markdown object>"
      ]
     },
     "metadata": {},
     "output_type": "display_data"
    },
    {
     "data": {
      "text/markdown": [
       "### File: the_chair_s1e2_transcript.txt\n",
       "\n",
       "**Sentence Number:** 251\n",
       "\n",
       "**Sentence:** Deftly done.\n",
       "\n",
       "**Past References:** 1\n",
       "\n",
       "**Future References:** 0\n",
       "\n",
       "---"
      ],
      "text/plain": [
       "<IPython.core.display.Markdown object>"
      ]
     },
     "metadata": {},
     "output_type": "display_data"
    },
    {
     "data": {
      "text/markdown": [
       "### File: the_chair_s1e2_transcript.txt\n",
       "\n",
       "**Sentence Number:** 305\n",
       "\n",
       "**Sentence:** …then you will have successfully checked every box\n",
       "\n",
       "in the disaffected middle-aged white-male-professor cliché.\n",
       "\n",
       "**Past References:** 1\n",
       "\n",
       "**Future References:** 1\n",
       "\n",
       "---"
      ],
      "text/plain": [
       "<IPython.core.display.Markdown object>"
      ]
     },
     "metadata": {},
     "output_type": "display_data"
    },
    {
     "data": {
      "text/markdown": [
       "### File: the_chair_s1e2_transcript.txt\n",
       "\n",
       "**Sentence Number:** 341\n",
       "\n",
       "**Sentence:** I’m excited to have you bring fresh ideas\n",
       "\n",
       "into one of our most venerated departments.\n",
       "\n",
       "**Past References:** 1\n",
       "\n",
       "**Future References:** 0\n",
       "\n",
       "---"
      ],
      "text/plain": [
       "<IPython.core.display.Markdown object>"
      ]
     },
     "metadata": {},
     "output_type": "display_data"
    },
    {
     "data": {
      "text/markdown": [
       "### File: the_chair_s1e2_transcript.txt\n",
       "\n",
       "**Sentence Number:** 347\n",
       "\n",
       "**Sentence:** I just gotta…\n",
       "\n",
       "[all applauding]\n",
       "\n",
       "**Past References:** 1\n",
       "\n",
       "**Future References:** 0\n",
       "\n",
       "---"
      ],
      "text/plain": [
       "<IPython.core.display.Markdown object>"
      ]
     },
     "metadata": {},
     "output_type": "display_data"
    },
    {
     "data": {
      "text/markdown": [
       "### File: the_chair_s1e2_transcript.txt\n",
       "\n",
       "**Sentence Number:** 349\n",
       "\n",
       "**Sentence:** You got this.\n",
       "\n",
       "**Past References:** 1\n",
       "\n",
       "**Future References:** 0\n",
       "\n",
       "---"
      ],
      "text/plain": [
       "<IPython.core.display.Markdown object>"
      ]
     },
     "metadata": {},
     "output_type": "display_data"
    },
    {
     "data": {
      "text/markdown": [
       "### File: the_chair_s1e2_transcript.txt\n",
       "\n",
       "**Sentence Number:** 362\n",
       "\n",
       "**Sentence:** You know, I have been thinking a lot about this generation of students,\n",
       "\n",
       "and… and, you know, why they’re not interested in literature.\n",
       "\n",
       "**Past References:** 1\n",
       "\n",
       "**Future References:** 0\n",
       "\n",
       "---"
      ],
      "text/plain": [
       "<IPython.core.display.Markdown object>"
      ]
     },
     "metadata": {},
     "output_type": "display_data"
    },
    {
     "data": {
      "text/markdown": [
       "### File: the_chair_s1e2_transcript.txt\n",
       "\n",
       "**Sentence Number:** 366\n",
       "\n",
       "**Sentence:** They must think, “Why am I scanning this sonnet\n",
       "\n",
       "when there are so many things to be worried about?”\n",
       "\n",
       "**Past References:** 0\n",
       "\n",
       "**Future References:** 1\n",
       "\n",
       "---"
      ],
      "text/plain": [
       "<IPython.core.display.Markdown object>"
      ]
     },
     "metadata": {},
     "output_type": "display_data"
    },
    {
     "data": {
      "text/markdown": [
       "### File: the_chair_s1e2_transcript.txt\n",
       "\n",
       "**Sentence Number:** 381\n",
       "\n",
       "**Sentence:** The Distinguished Lectureship this year will be given by Professor Yasmin McKay,\n",
       "\n",
       "the first woman of color to receive this honor in Pembroke’s entire history.\n",
       "\n",
       "**Past References:** 1\n",
       "\n",
       "**Future References:** 1\n",
       "\n",
       "---"
      ],
      "text/plain": [
       "<IPython.core.display.Markdown object>"
      ]
     },
     "metadata": {},
     "output_type": "display_data"
    },
    {
     "data": {
      "text/markdown": [
       "### File: the_chair_s1e2_transcript.txt\n",
       "\n",
       "**Sentence Number:** 408\n",
       "\n",
       "**Sentence:** Joan, I see you’ve introduced yourself to the bar.\n",
       "\n",
       "**Past References:** 1\n",
       "\n",
       "**Future References:** 0\n",
       "\n",
       "---"
      ],
      "text/plain": [
       "<IPython.core.display.Markdown object>"
      ]
     },
     "metadata": {},
     "output_type": "display_data"
    },
    {
     "data": {
      "text/markdown": [
       "### File: the_chair_s1e2_transcript.txt\n",
       "\n",
       "**Sentence Number:** 419\n",
       "\n",
       "**Sentence:** Was just selected the best essay of the year in PMLA.\n",
       "\n",
       "**Past References:** 1\n",
       "\n",
       "**Future References:** 0\n",
       "\n",
       "---"
      ],
      "text/plain": [
       "<IPython.core.display.Markdown object>"
      ]
     },
     "metadata": {},
     "output_type": "display_data"
    },
    {
     "data": {
      "text/markdown": [
       "### File: the_chair_s1e2_transcript.txt\n",
       "\n",
       "**Sentence Number:** 426\n",
       "\n",
       "**Sentence:** Back when I was 32, my…\n",
       "\n",
       "**Past References:** 1\n",
       "\n",
       "**Future References:** 0\n",
       "\n",
       "---"
      ],
      "text/plain": [
       "<IPython.core.display.Markdown object>"
      ]
     },
     "metadata": {},
     "output_type": "display_data"
    },
    {
     "data": {
      "text/markdown": [
       "### File: the_chair_s1e2_transcript.txt\n",
       "\n",
       "**Sentence Number:** 431\n",
       "\n",
       "**Sentence:** I will be right back.\n",
       "\n",
       "**Past References:** 0\n",
       "\n",
       "**Future References:** 1\n",
       "\n",
       "---"
      ],
      "text/plain": [
       "<IPython.core.display.Markdown object>"
      ]
     },
     "metadata": {},
     "output_type": "display_data"
    },
    {
     "data": {
      "text/markdown": [
       "### File: the_chair_s1e2_transcript.txt\n",
       "\n",
       "**Sentence Number:** 436\n",
       "\n",
       "**Sentence:** I gotta go.\n",
       "\n",
       "**Past References:** 1\n",
       "\n",
       "**Future References:** 0\n",
       "\n",
       "---"
      ],
      "text/plain": [
       "<IPython.core.display.Markdown object>"
      ]
     },
     "metadata": {},
     "output_type": "display_data"
    },
    {
     "data": {
      "text/markdown": [
       "### File: the_chair_s1e2_transcript.txt\n",
       "\n",
       "**Sentence Number:** 444\n",
       "\n",
       "**Sentence:** No, you smoked the whole thing.\n",
       "\n",
       "**Past References:** 1\n",
       "\n",
       "**Future References:** 0\n",
       "\n",
       "---"
      ],
      "text/plain": [
       "<IPython.core.display.Markdown object>"
      ]
     },
     "metadata": {},
     "output_type": "display_data"
    },
    {
     "data": {
      "text/markdown": [
       "### File: the_chair_s1e2_transcript.txt\n",
       "\n",
       "**Sentence Number:** 448\n",
       "\n",
       "**Sentence:** [softly] You smoked the whole thing.\n",
       "\n",
       "**Past References:** 1\n",
       "\n",
       "**Future References:** 0\n",
       "\n",
       "---"
      ],
      "text/plain": [
       "<IPython.core.display.Markdown object>"
      ]
     },
     "metadata": {},
     "output_type": "display_data"
    },
    {
     "data": {
      "text/markdown": [
       "### File: the_chair_s1e2_transcript.txt\n",
       "\n",
       "**Sentence Number:** 459\n",
       "\n",
       "**Sentence:** [Habi] This time she went out the window.\n",
       "\n",
       "**Past References:** 1\n",
       "\n",
       "**Future References:** 0\n",
       "\n",
       "---"
      ],
      "text/plain": [
       "<IPython.core.display.Markdown object>"
      ]
     },
     "metadata": {},
     "output_type": "display_data"
    },
    {
     "data": {
      "text/markdown": [
       "### File: the_chair_s1e2_transcript.txt\n",
       "\n",
       "**Sentence Number:** 462\n",
       "\n",
       "**Sentence:** This has happened before?\n",
       "\n",
       "**Past References:** 1\n",
       "\n",
       "**Future References:** 0\n",
       "\n",
       "---"
      ],
      "text/plain": [
       "<IPython.core.display.Markdown object>"
      ]
     },
     "metadata": {},
     "output_type": "display_data"
    },
    {
     "data": {
      "text/markdown": [
       "### File: the_chair_s1e2_transcript.txt\n",
       "\n",
       "**Sentence Number:** 468\n",
       "\n",
       "**Sentence:** Did she say anything?\n",
       "\n",
       "**Past References:** 1\n",
       "\n",
       "**Future References:** 0\n",
       "\n",
       "---"
      ],
      "text/plain": [
       "<IPython.core.display.Markdown object>"
      ]
     },
     "metadata": {},
     "output_type": "display_data"
    },
    {
     "data": {
      "text/markdown": [
       "### File: the_chair_s1e2_transcript.txt\n",
       "\n",
       "**Sentence Number:** 471\n",
       "\n",
       "**Sentence:** She just talked about Hello Kitty.\n",
       "\n",
       "**Past References:** 1\n",
       "\n",
       "**Future References:** 0\n",
       "\n",
       "---"
      ],
      "text/plain": [
       "<IPython.core.display.Markdown object>"
      ]
     },
     "metadata": {},
     "output_type": "display_data"
    },
    {
     "data": {
      "text/markdown": [
       "### File: the_chair_s1e2_transcript.txt\n",
       "\n",
       "**Sentence Number:** 475\n",
       "\n",
       "**Sentence:** She had to leave him at home\n",
       "\n",
       "because my dad hasn’t recovered from the Japanese occupation.\n",
       "\n",
       "**Past References:** 1\n",
       "\n",
       "**Future References:** 0\n",
       "\n",
       "---"
      ],
      "text/plain": [
       "<IPython.core.display.Markdown object>"
      ]
     },
     "metadata": {},
     "output_type": "display_data"
    },
    {
     "data": {
      "text/markdown": [
       "### File: the_chair_s1e2_transcript.txt\n",
       "\n",
       "**Sentence Number:** 478\n",
       "\n",
       "**Sentence:** Um…\n",
       "\n",
       "Maybe she went home.\n",
       "\n",
       "**Past References:** 1\n",
       "\n",
       "**Future References:** 0\n",
       "\n",
       "---"
      ],
      "text/plain": [
       "<IPython.core.display.Markdown object>"
      ]
     },
     "metadata": {},
     "output_type": "display_data"
    },
    {
     "data": {
      "text/markdown": [
       "### File: the_chair_s1e2_transcript.txt\n",
       "\n",
       "**Sentence Number:** 483\n",
       "\n",
       "**Sentence:** [in Korean] Ann Arbor was ranked No. 1\n",
       "\n",
       "on WalletHub’s latest list of best college towns.\n",
       "\n",
       "**Past References:** 1\n",
       "\n",
       "**Future References:** 0\n",
       "\n",
       "---"
      ],
      "text/plain": [
       "<IPython.core.display.Markdown object>"
      ]
     },
     "metadata": {},
     "output_type": "display_data"
    },
    {
     "data": {
      "text/markdown": [
       "### File: the_chair_s1e2_transcript.txt\n",
       "\n",
       "**Sentence Number:** 484\n",
       "\n",
       "**Sentence:** Appa…\n",
       "\n",
       "You could be in Michigan married to Peter Seung right now with a real family,\n",
       "\n",
       "and not pining for this crumpled man.\n",
       "\n",
       "**Past References:** 1\n",
       "\n",
       "**Future References:** 0\n",
       "\n",
       "---"
      ],
      "text/plain": [
       "<IPython.core.display.Markdown object>"
      ]
     },
     "metadata": {},
     "output_type": "display_data"
    },
    {
     "data": {
      "text/markdown": [
       "### File: the_chair_s1e2_transcript.txt\n",
       "\n",
       "**Sentence Number:** 485\n",
       "\n",
       "**Sentence:** I have a real family, and Bill’s not crumpled up.\n",
       "\n",
       "**Past References:** 1\n",
       "\n",
       "**Future References:** 0\n",
       "\n",
       "---"
      ],
      "text/plain": [
       "<IPython.core.display.Markdown object>"
      ]
     },
     "metadata": {},
     "output_type": "display_data"
    },
    {
     "data": {
      "text/markdown": [
       "### File: the_chair_s1e2_transcript.txt\n",
       "\n",
       "**Sentence Number:** 528\n",
       "\n",
       "**Sentence:** Last time I saw you, you were this big, and now you’re like this giant…\n",
       "\n",
       "Listen, that is your one and only halahbojee.\n",
       "\n",
       "**Past References:** 1\n",
       "\n",
       "**Future References:** 0\n",
       "\n",
       "---"
      ],
      "text/plain": [
       "<IPython.core.display.Markdown object>"
      ]
     },
     "metadata": {},
     "output_type": "display_data"
    },
    {
     "data": {
      "text/markdown": [
       "### File: the_chair_s1e2_transcript.txt\n",
       "\n",
       "**Sentence Number:** 529\n",
       "\n",
       "**Sentence:** He is all we’ve got.\n",
       "\n",
       "**Past References:** 1\n",
       "\n",
       "**Future References:** 0\n",
       "\n",
       "---"
      ],
      "text/plain": [
       "<IPython.core.display.Markdown object>"
      ]
     },
     "metadata": {},
     "output_type": "display_data"
    },
    {
     "data": {
      "text/markdown": [
       "### File: the_chair_s1e2_transcript.txt\n",
       "\n",
       "**Sentence Number:** 530\n",
       "\n",
       "**Sentence:** When I was a kid, never in a million…\n",
       "\n",
       "**Past References:** 1\n",
       "\n",
       "**Future References:** 0\n",
       "\n",
       "---"
      ],
      "text/plain": [
       "<IPython.core.display.Markdown object>"
      ]
     },
     "metadata": {},
     "output_type": "display_data"
    },
    {
     "data": {
      "text/markdown": [
       "### File: the_chair_s1e2_transcript.txt\n",
       "\n",
       "**Sentence Number:** 537\n",
       "\n",
       "**Sentence:** Did… Did someone say that to you again?\n",
       "\n",
       "**Past References:** 1\n",
       "\n",
       "**Future References:** 0\n",
       "\n",
       "---"
      ],
      "text/plain": [
       "<IPython.core.display.Markdown object>"
      ]
     },
     "metadata": {},
     "output_type": "display_data"
    },
    {
     "data": {
      "text/markdown": [
       "### File: the_chair_s1e2_transcript.txt\n",
       "\n",
       "**Sentence Number:** 538\n",
       "\n",
       "**Sentence:** Was it what’s-her-name?\n",
       "\n",
       "**Past References:** 1\n",
       "\n",
       "**Future References:** 0\n",
       "\n",
       "---"
      ],
      "text/plain": [
       "<IPython.core.display.Markdown object>"
      ]
     },
     "metadata": {},
     "output_type": "display_data"
    },
    {
     "data": {
      "text/markdown": [
       "### File: the_chair_s1e2_transcript.txt\n",
       "\n",
       "**Sentence Number:** 539\n",
       "\n",
       "**Sentence:** Know what I’d like to do to that fucking kid?\n",
       "\n",
       "**Past References:** 1\n",
       "\n",
       "**Future References:** 0\n",
       "\n",
       "---"
      ],
      "text/plain": [
       "<IPython.core.display.Markdown object>"
      ]
     },
     "metadata": {},
     "output_type": "display_data"
    },
    {
     "data": {
      "text/markdown": [
       "### File: the_chair_s1e2_transcript.txt\n",
       "\n",
       "**Sentence Number:** 540\n",
       "\n",
       "**Sentence:** I’d like… [breathes deeply]\n",
       "\n",
       "**Past References:** 1\n",
       "\n",
       "**Future References:** 0\n",
       "\n",
       "---"
      ],
      "text/plain": [
       "<IPython.core.display.Markdown object>"
      ]
     },
     "metadata": {},
     "output_type": "display_data"
    },
    {
     "data": {
      "text/markdown": [
       "### File: the_chair_s1e2_transcript.txt\n",
       "\n",
       "**Sentence Number:** 544\n",
       "\n",
       "**Sentence:** You guys like fried chicken?\n",
       "\n",
       "**Past References:** 1\n",
       "\n",
       "**Future References:** 0\n",
       "\n",
       "---"
      ],
      "text/plain": [
       "<IPython.core.display.Markdown object>"
      ]
     },
     "metadata": {},
     "output_type": "display_data"
    },
    {
     "data": {
      "text/markdown": [
       "### File: the_chair_s1e2_transcript.txt\n",
       "\n",
       "**Sentence Number:** 555\n",
       "\n",
       "**Sentence:** [Bill] We did the party.\n",
       "\n",
       "**Past References:** 1\n",
       "\n",
       "**Future References:** 0\n",
       "\n",
       "---"
      ],
      "text/plain": [
       "<IPython.core.display.Markdown object>"
      ]
     },
     "metadata": {},
     "output_type": "display_data"
    },
    {
     "data": {
      "text/markdown": [
       "### File: the_chair_s1e2_transcript.txt\n",
       "\n",
       "**Sentence Number:** 557\n",
       "\n",
       "**Sentence:** You gave a very memorable speech.\n",
       "\n",
       "**Past References:** 1\n",
       "\n",
       "**Future References:** 0\n",
       "\n",
       "---"
      ],
      "text/plain": [
       "<IPython.core.display.Markdown object>"
      ]
     },
     "metadata": {},
     "output_type": "display_data"
    },
    {
     "data": {
      "text/markdown": [
       "### File: the_chair_s1e2_transcript.txt\n",
       "\n",
       "**Sentence Number:** 575\n",
       "\n",
       "**Sentence:** [Bill] Yeah, I think I got it.\n",
       "\n",
       "**Past References:** 1\n",
       "\n",
       "**Future References:** 0\n",
       "\n",
       "---"
      ],
      "text/plain": [
       "<IPython.core.display.Markdown object>"
      ]
     },
     "metadata": {},
     "output_type": "display_data"
    },
    {
     "data": {
      "text/markdown": [
       "### File: the_chair_s1e2_transcript.txt\n",
       "\n",
       "**Sentence Number:** 581\n",
       "\n",
       "**Sentence:** I didn’t bring it.\n",
       "\n",
       "**Past References:** 1\n",
       "\n",
       "**Future References:** 0\n",
       "\n",
       "---"
      ],
      "text/plain": [
       "<IPython.core.display.Markdown object>"
      ]
     },
     "metadata": {},
     "output_type": "display_data"
    },
    {
     "data": {
      "text/markdown": [
       "### File: the_chair_s1e2_transcript.txt\n",
       "\n",
       "**Sentence Number:** 584\n",
       "\n",
       "**Sentence:** I got everything I need right here.\n",
       "\n",
       "**Past References:** 1\n",
       "\n",
       "**Future References:** 0\n",
       "\n",
       "---"
      ],
      "text/plain": [
       "<IPython.core.display.Markdown object>"
      ]
     },
     "metadata": {},
     "output_type": "display_data"
    },
    {
     "data": {
      "text/markdown": [
       "### File: the_chair_s1e2_transcript.txt\n",
       "\n",
       "**Sentence Number:** 585\n",
       "\n",
       "**Sentence:** I got fries, I got a beer,\n",
       "\n",
       "I got a beautiful and talented bowling companion and her mother.\n",
       "\n",
       "**Past References:** 1\n",
       "\n",
       "**Future References:** 0\n",
       "\n",
       "---"
      ],
      "text/plain": [
       "<IPython.core.display.Markdown object>"
      ]
     },
     "metadata": {},
     "output_type": "display_data"
    },
    {
     "data": {
      "text/markdown": [
       "### File: the_chair_s1e2_transcript.txt\n",
       "\n",
       "**Sentence Number:** 627\n",
       "\n",
       "**Sentence:** You know, for two years, I was like…\n",
       "\n",
       "“What if I don’t get a baby?”\n",
       "\n",
       "**Past References:** 1\n",
       "\n",
       "**Future References:** 0\n",
       "\n",
       "---"
      ],
      "text/plain": [
       "<IPython.core.display.Markdown object>"
      ]
     },
     "metadata": {},
     "output_type": "display_data"
    },
    {
     "data": {
      "text/markdown": [
       "### File: the_chair_s1e2_transcript.txt\n",
       "\n",
       "**Sentence Number:** 629\n",
       "\n",
       "**Sentence:** “What if I don’t get a… What if I don’t match with anyone?”\n",
       "\n",
       "[inhales deeply]\n",
       "\n",
       "It never occurred to me… [chuckles]\n",
       "\n",
       "…how it would actually be when I…\n",
       "\n",
       "All the other moms in Mommy and Me\n",
       "\n",
       "were just whipping out their boobs and, like…\n",
       "\n",
       "**Past References:** 1\n",
       "\n",
       "**Future References:** 0\n",
       "\n",
       "---"
      ],
      "text/plain": [
       "<IPython.core.display.Markdown object>"
      ]
     },
     "metadata": {},
     "output_type": "display_data"
    },
    {
     "data": {
      "text/markdown": [
       "### File: the_chair_s1e2_transcript.txt\n",
       "\n",
       "**Sentence Number:** 630\n",
       "\n",
       "**Sentence:** They all seemed so ready…\n",
       "\n",
       "so natural, whereas I was like…\n",
       "\n",
       "[chuckles]\n",
       "\n",
       "Remember when you had to make that little book for the adoption agency?\n",
       "\n",
       "**Past References:** 1\n",
       "\n",
       "**Future References:** 0\n",
       "\n",
       "---"
      ],
      "text/plain": [
       "<IPython.core.display.Markdown object>"
      ]
     },
     "metadata": {},
     "output_type": "display_data"
    },
    {
     "data": {
      "text/markdown": [
       "### File: the_chair_s1e2_transcript.txt\n",
       "\n",
       "**Sentence Number:** 635\n",
       "\n",
       "**Sentence:** You’re a fucking menace when it comes to anything that needs to be heated.\n",
       "\n",
       "**Past References:** 1\n",
       "\n",
       "**Future References:** 0\n",
       "\n",
       "---"
      ],
      "text/plain": [
       "<IPython.core.display.Markdown object>"
      ]
     },
     "metadata": {},
     "output_type": "display_data"
    },
    {
     "data": {
      "text/markdown": [
       "### File: the_chair_s1e2_transcript.txt\n",
       "\n",
       "**Sentence Number:** 636\n",
       "\n",
       "**Sentence:** Why did she pick me?\n",
       "\n",
       "**Past References:** 1\n",
       "\n",
       "**Future References:** 0\n",
       "\n",
       "---"
      ],
      "text/plain": [
       "<IPython.core.display.Markdown object>"
      ]
     },
     "metadata": {},
     "output_type": "display_data"
    },
    {
     "data": {
      "text/markdown": [
       "### File: the_chair_s1e2_transcript.txt\n",
       "\n",
       "**Sentence Number:** 638\n",
       "\n",
       "**Sentence:** How did I match with her?\n",
       "\n",
       "**Past References:** 1\n",
       "\n",
       "**Future References:** 0\n",
       "\n",
       "---"
      ],
      "text/plain": [
       "<IPython.core.display.Markdown object>"
      ]
     },
     "metadata": {},
     "output_type": "display_data"
    },
    {
     "data": {
      "text/markdown": [
       "### File: the_chair_s1e2_transcript.txt\n",
       "\n",
       "**Sentence Number:** 642\n",
       "\n",
       "**Sentence:** I mean, to be her father.\n",
       "\n",
       "**Past References:** 0\n",
       "\n",
       "**Future References:** 1\n",
       "\n",
       "---"
      ],
      "text/plain": [
       "<IPython.core.display.Markdown object>"
      ]
     },
     "metadata": {},
     "output_type": "display_data"
    },
    {
     "data": {
      "text/markdown": [
       "### File: the_chair_s1e2_transcript.txt\n",
       "\n",
       "**Sentence Number:** 648\n",
       "\n",
       "**Sentence:** Well, maybe Ju Ju’s birth mother\n",
       "\n",
       "was raised by a really strong single mom,\n",
       "\n",
       "and saw the pictures of you, and was like,\n",
       "\n",
       "“She’s the one.”\n",
       "\n",
       "**Past References:** 1\n",
       "\n",
       "**Future References:** 0\n",
       "\n",
       "---"
      ],
      "text/plain": [
       "<IPython.core.display.Markdown object>"
      ]
     },
     "metadata": {},
     "output_type": "display_data"
    },
    {
     "data": {
      "text/markdown": [
       "### File: the_chair_s1e2_transcript.txt\n",
       "\n",
       "**Sentence Number:** 657\n",
       "\n",
       "**Sentence:** [Bill exhales]\n",
       "\n",
       "[tugging seatbelt]\n",
       "\n",
       "Oh God, it’s stuck.\n",
       "\n",
       "**Past References:** 1\n",
       "\n",
       "**Future References:** 0\n",
       "\n",
       "---"
      ],
      "text/plain": [
       "<IPython.core.display.Markdown object>"
      ]
     },
     "metadata": {},
     "output_type": "display_data"
    },
    {
     "data": {
      "text/markdown": [
       "### File: the_chair_s1e2_transcript.txt\n",
       "\n",
       "**Sentence Number:** 747\n",
       "\n",
       "**Sentence:** If we got together, no one is gonna take me seriously.\n",
       "\n",
       "**Past References:** 1\n",
       "\n",
       "**Future References:** 0\n",
       "\n",
       "---"
      ],
      "text/plain": [
       "<IPython.core.display.Markdown object>"
      ]
     },
     "metadata": {},
     "output_type": "display_data"
    },
    {
     "data": {
      "text/markdown": [
       "### File: the_chair_s1e2_transcript.txt\n",
       "\n",
       "**Sentence Number:** 774\n",
       "\n",
       "**Sentence:** You did it.\n",
       "\n",
       "**Past References:** 1\n",
       "\n",
       "**Future References:** 0\n",
       "\n",
       "---"
      ],
      "text/plain": [
       "<IPython.core.display.Markdown object>"
      ]
     },
     "metadata": {},
     "output_type": "display_data"
    },
    {
     "data": {
      "text/markdown": [
       "### File: the_chair_s1e2_transcript.txt\n",
       "\n",
       "**Sentence Number:** 776\n",
       "\n",
       "**Sentence:** You ascended the ranks of your profession.\n",
       "\n",
       "**Past References:** 1\n",
       "\n",
       "**Future References:** 0\n",
       "\n",
       "---"
      ],
      "text/plain": [
       "<IPython.core.display.Markdown object>"
      ]
     },
     "metadata": {},
     "output_type": "display_data"
    },
    {
     "data": {
      "text/markdown": [
       "### File: the_chair_s1e2_transcript.txt\n",
       "\n",
       "**Sentence Number:** 781\n",
       "\n",
       "**Sentence:** Value added?\n",
       "\n",
       "**Past References:** 1\n",
       "\n",
       "**Future References:** 0\n",
       "\n",
       "---"
      ],
      "text/plain": [
       "<IPython.core.display.Markdown object>"
      ]
     },
     "metadata": {},
     "output_type": "display_data"
    },
    {
     "data": {
      "text/markdown": [
       "### File: the_chair_s1e3_transcript.txt\n",
       "\n",
       "**Sentence Number:** 5\n",
       "\n",
       "**Sentence:** I will not embarrass the Fatherland.\n",
       "\n",
       "**Past References:** 0\n",
       "\n",
       "**Future References:** 1\n",
       "\n",
       "---"
      ],
      "text/plain": [
       "<IPython.core.display.Markdown object>"
      ]
     },
     "metadata": {},
     "output_type": "display_data"
    },
    {
     "data": {
      "text/markdown": [
       "### File: the_chair_s1e3_transcript.txt\n",
       "\n",
       "**Sentence Number:** 8\n",
       "\n",
       "**Sentence:** Know how many times I’ve been in trouble for real shit?\n",
       "\n",
       "**Past References:** 1\n",
       "\n",
       "**Future References:** 0\n",
       "\n",
       "---"
      ],
      "text/plain": [
       "<IPython.core.display.Markdown object>"
      ]
     },
     "metadata": {},
     "output_type": "display_data"
    },
    {
     "data": {
      "text/markdown": [
       "### File: the_chair_s1e3_transcript.txt\n",
       "\n",
       "**Sentence Number:** 16\n",
       "\n",
       "**Sentence:** I told you to pull it together.\n",
       "\n",
       "**Past References:** 1\n",
       "\n",
       "**Future References:** 0\n",
       "\n",
       "---"
      ],
      "text/plain": [
       "<IPython.core.display.Markdown object>"
      ]
     },
     "metadata": {},
     "output_type": "display_data"
    },
    {
     "data": {
      "text/markdown": [
       "### File: the_chair_s1e3_transcript.txt\n",
       "\n",
       "**Sentence Number:** 17\n",
       "\n",
       "**Sentence:** I left it crooked ’cause I like it when you fix me up.\n",
       "\n",
       "**Past References:** 1\n",
       "\n",
       "**Future References:** 0\n",
       "\n",
       "---"
      ],
      "text/plain": [
       "<IPython.core.display.Markdown object>"
      ]
     },
     "metadata": {},
     "output_type": "display_data"
    },
    {
     "data": {
      "text/markdown": [
       "### File: the_chair_s1e3_transcript.txt\n",
       "\n",
       "**Sentence Number:** 27\n",
       "\n",
       "**Sentence:** No, but that does remind me of this time when two Nazis walked into a bar…\n",
       "\n",
       "[laughs]\n",
       "\n",
       "We have a straightforward protocol for this sort of situation.\n",
       "\n",
       "**Past References:** 1\n",
       "\n",
       "**Future References:** 0\n",
       "\n",
       "---"
      ],
      "text/plain": [
       "<IPython.core.display.Markdown object>"
      ]
     },
     "metadata": {},
     "output_type": "display_data"
    },
    {
     "data": {
      "text/markdown": [
       "### File: the_chair_s1e3_transcript.txt\n",
       "\n",
       "**Sentence Number:** 53\n",
       "\n",
       "**Sentence:** I’m tenured.\n",
       "\n",
       "**Past References:** 1\n",
       "\n",
       "**Future References:** 0\n",
       "\n",
       "---"
      ],
      "text/plain": [
       "<IPython.core.display.Markdown object>"
      ]
     },
     "metadata": {},
     "output_type": "display_data"
    },
    {
     "data": {
      "text/markdown": [
       "### File: the_chair_s1e3_transcript.txt\n",
       "\n",
       "**Sentence Number:** 55\n",
       "\n",
       "**Sentence:** Universities are supposed to encourage dissent.\n",
       "\n",
       "**Past References:** 1\n",
       "\n",
       "**Future References:** 0\n",
       "\n",
       "---"
      ],
      "text/plain": [
       "<IPython.core.display.Markdown object>"
      ]
     },
     "metadata": {},
     "output_type": "display_data"
    },
    {
     "data": {
      "text/markdown": [
       "### File: the_chair_s1e3_transcript.txt\n",
       "\n",
       "**Sentence Number:** 59\n",
       "\n",
       "**Sentence:** In fact, when I was an undergrad,\n",
       "\n",
       "I sat bare-ass on that very desk for South African divestment.\n",
       "\n",
       "**Past References:** 1\n",
       "\n",
       "**Future References:** 0\n",
       "\n",
       "---"
      ],
      "text/plain": [
       "<IPython.core.display.Markdown object>"
      ]
     },
     "metadata": {},
     "output_type": "display_data"
    },
    {
     "data": {
      "text/markdown": [
       "### File: the_chair_s1e3_transcript.txt\n",
       "\n",
       "**Sentence Number:** 69\n",
       "\n",
       "**Sentence:** If it’s not resolved immediately,\n",
       "\n",
       "I wouldn’t be surprised if he asks for Bill’s resignation.\n",
       "\n",
       "**Past References:** 1\n",
       "\n",
       "**Future References:** 0\n",
       "\n",
       "---"
      ],
      "text/plain": [
       "<IPython.core.display.Markdown object>"
      ]
     },
     "metadata": {},
     "output_type": "display_data"
    },
    {
     "data": {
      "text/markdown": [
       "### File: the_chair_s1e3_transcript.txt\n",
       "\n",
       "**Sentence Number:** 75\n",
       "\n",
       "**Sentence:** Well, I can guarantee that after our next conversation,\n",
       "\n",
       "he will be filled with remorse.\n",
       "\n",
       "**Past References:** 1\n",
       "\n",
       "**Future References:** 1\n",
       "\n",
       "---"
      ],
      "text/plain": [
       "<IPython.core.display.Markdown object>"
      ]
     },
     "metadata": {},
     "output_type": "display_data"
    },
    {
     "data": {
      "text/markdown": [
       "### File: the_chair_s1e3_transcript.txt\n",
       "\n",
       "**Sentence Number:** 80\n",
       "\n",
       "**Sentence:** You should’ve seen your face in there.\n",
       "\n",
       "**Past References:** 1\n",
       "\n",
       "**Future References:** 0\n",
       "\n",
       "---"
      ],
      "text/plain": [
       "<IPython.core.display.Markdown object>"
      ]
     },
     "metadata": {},
     "output_type": "display_data"
    },
    {
     "data": {
      "text/markdown": [
       "### File: the_chair_s1e3_transcript.txt\n",
       "\n",
       "**Sentence Number:** 99\n",
       "\n",
       "**Sentence:** This little streak of arrogance you got going on here.\n",
       "\n",
       "**Past References:** 1\n",
       "\n",
       "**Future References:** 0\n",
       "\n",
       "---"
      ],
      "text/plain": [
       "<IPython.core.display.Markdown object>"
      ]
     },
     "metadata": {},
     "output_type": "display_data"
    },
    {
     "data": {
      "text/markdown": [
       "### File: the_chair_s1e3_transcript.txt\n",
       "\n",
       "**Sentence Number:** 101\n",
       "\n",
       "**Sentence:** Am I not allowed…\n",
       "\n",
       "This is not about whether you’re a Nazi.\n",
       "\n",
       "**Past References:** 1\n",
       "\n",
       "**Future References:** 0\n",
       "\n",
       "---"
      ],
      "text/plain": [
       "<IPython.core.display.Markdown object>"
      ]
     },
     "metadata": {},
     "output_type": "display_data"
    },
    {
     "data": {
      "text/markdown": [
       "### File: the_chair_s1e3_transcript.txt\n",
       "\n",
       "**Sentence Number:** 106\n",
       "\n",
       "**Sentence:** Yaz hit 8,000 Twitter followers,\n",
       "\n",
       "so I posted that to the department’s website.\n",
       "\n",
       "**Past References:** 1\n",
       "\n",
       "**Future References:** 0\n",
       "\n",
       "---"
      ],
      "text/plain": [
       "<IPython.core.display.Markdown object>"
      ]
     },
     "metadata": {},
     "output_type": "display_data"
    },
    {
     "data": {
      "text/markdown": [
       "### File: the_chair_s1e3_transcript.txt\n",
       "\n",
       "**Sentence Number:** 108\n",
       "\n",
       "**Sentence:** You posted she won the NEH Fellowship?\n",
       "\n",
       "**Past References:** 1\n",
       "\n",
       "**Future References:** 0\n",
       "\n",
       "---"
      ],
      "text/plain": [
       "<IPython.core.display.Markdown object>"
      ]
     },
     "metadata": {},
     "output_type": "display_data"
    },
    {
     "data": {
      "text/markdown": [
       "### File: the_chair_s1e3_transcript.txt\n",
       "\n",
       "**Sentence Number:** 112\n",
       "\n",
       "**Sentence:** There’s gotta be something we can do.\n",
       "\n",
       "**Past References:** 1\n",
       "\n",
       "**Future References:** 0\n",
       "\n",
       "---"
      ],
      "text/plain": [
       "<IPython.core.display.Markdown object>"
      ]
     },
     "metadata": {},
     "output_type": "display_data"
    },
    {
     "data": {
      "text/markdown": [
       "### File: the_chair_s1e3_transcript.txt\n",
       "\n",
       "**Sentence Number:** 117\n",
       "\n",
       "**Sentence:** I know it seems like I have been ignoring you,\n",
       "\n",
       "**Past References:** 1\n",
       "\n",
       "**Future References:** 0\n",
       "\n",
       "---"
      ],
      "text/plain": [
       "<IPython.core.display.Markdown object>"
      ]
     },
     "metadata": {},
     "output_type": "display_data"
    },
    {
     "data": {
      "text/markdown": [
       "### File: the_chair_s1e3_transcript.txt\n",
       "\n",
       "**Sentence Number:** 118\n",
       "\n",
       "**Sentence:** but it’s just been chaos.\n",
       "\n",
       "**Past References:** 1\n",
       "\n",
       "**Future References:** 0\n",
       "\n",
       "---"
      ],
      "text/plain": [
       "<IPython.core.display.Markdown object>"
      ]
     },
     "metadata": {},
     "output_type": "display_data"
    },
    {
     "data": {
      "text/markdown": [
       "### File: the_chair_s1e3_transcript.txt\n",
       "\n",
       "**Sentence Number:** 131\n",
       "\n",
       "**Sentence:** My friend Sarah at Wisconsin, her adviser got accused of harassment,\n",
       "\n",
       "and his recommendation ended up being worthless.\n",
       "\n",
       "**Past References:** 1\n",
       "\n",
       "**Future References:** 0\n",
       "\n",
       "---"
      ],
      "text/plain": [
       "<IPython.core.display.Markdown object>"
      ]
     },
     "metadata": {},
     "output_type": "display_data"
    },
    {
     "data": {
      "text/markdown": [
       "### File: the_chair_s1e3_transcript.txt\n",
       "\n",
       "**Sentence Number:** 135\n",
       "\n",
       "**Sentence:** It was a bad joke, and he is about to apologize.\n",
       "\n",
       "**Past References:** 1\n",
       "\n",
       "**Future References:** 0\n",
       "\n",
       "---"
      ],
      "text/plain": [
       "<IPython.core.display.Markdown object>"
      ]
     },
     "metadata": {},
     "output_type": "display_data"
    },
    {
     "data": {
      "text/markdown": [
       "### File: the_chair_s1e3_transcript.txt\n",
       "\n",
       "**Sentence Number:** 136\n",
       "\n",
       "**Sentence:** People have been calling me.\n",
       "\n",
       "**Past References:** 1\n",
       "\n",
       "**Future References:** 0\n",
       "\n",
       "---"
      ],
      "text/plain": [
       "<IPython.core.display.Markdown object>"
      ]
     },
     "metadata": {},
     "output_type": "display_data"
    },
    {
     "data": {
      "text/markdown": [
       "### File: the_chair_s1e3_transcript.txt\n",
       "\n",
       "**Sentence Number:** 147\n",
       "\n",
       "**Sentence:** [Rentz] Moby-Dick was a failure, of course.\n",
       "\n",
       "**Past References:** 1\n",
       "\n",
       "**Future References:** 0\n",
       "\n",
       "---"
      ],
      "text/plain": [
       "<IPython.core.display.Markdown object>"
      ]
     },
     "metadata": {},
     "output_type": "display_data"
    },
    {
     "data": {
      "text/markdown": [
       "### File: the_chair_s1e3_transcript.txt\n",
       "\n",
       "**Sentence Number:** 148\n",
       "\n",
       "**Sentence:** Critics hated it, and Melville died in obscurity,\n",
       "\n",
       "as he himself had predicted in letters to his friend, Nathaniel Hawthorne,\n",
       "\n",
       "to whom he dedicated the book.\n",
       "\n",
       "**Past References:** 1\n",
       "\n",
       "**Future References:** 0\n",
       "\n",
       "---"
      ],
      "text/plain": [
       "<IPython.core.display.Markdown object>"
      ]
     },
     "metadata": {},
     "output_type": "display_data"
    },
    {
     "data": {
      "text/markdown": [
       "### File: the_chair_s1e3_transcript.txt\n",
       "\n",
       "**Sentence Number:** 149\n",
       "\n",
       "**Sentence:** Not until the 1920s was it reappraised as the seminal master…\n",
       "\n",
       "**Past References:** 1\n",
       "\n",
       "**Future References:** 0\n",
       "\n",
       "---"
      ],
      "text/plain": [
       "<IPython.core.display.Markdown object>"
      ]
     },
     "metadata": {},
     "output_type": "display_data"
    },
    {
     "data": {
      "text/markdown": [
       "### File: the_chair_s1e3_transcript.txt\n",
       "\n",
       "**Sentence Number:** 150\n",
       "\n",
       "**Sentence:** Are we going to discuss the fact that Melville was a wife-beater?\n",
       "\n",
       "**Past References:** 1\n",
       "\n",
       "**Future References:** 0\n",
       "\n",
       "---"
      ],
      "text/plain": [
       "<IPython.core.display.Markdown object>"
      ]
     },
     "metadata": {},
     "output_type": "display_data"
    },
    {
     "data": {
      "text/markdown": [
       "### File: the_chair_s1e3_transcript.txt\n",
       "\n",
       "**Sentence Number:** 151\n",
       "\n",
       "**Sentence:** [students murmuring]\n",
       "\n",
       "It is true that some feminist scholars have posited that,\n",
       "\n",
       "but in the absence of definitive proof,\n",
       "\n",
       "well, I…\n",
       "\n",
       "**Past References:** 1\n",
       "\n",
       "**Future References:** 0\n",
       "\n",
       "---"
      ],
      "text/plain": [
       "<IPython.core.display.Markdown object>"
      ]
     },
     "metadata": {},
     "output_type": "display_data"
    },
    {
     "data": {
      "text/markdown": [
       "### File: the_chair_s1e3_transcript.txt\n",
       "\n",
       "**Sentence Number:** 157\n",
       "\n",
       "**Sentence:** But you just referred to Melville the human being.\n",
       "\n",
       "**Past References:** 1\n",
       "\n",
       "**Future References:** 0\n",
       "\n",
       "---"
      ],
      "text/plain": [
       "<IPython.core.display.Markdown object>"
      ]
     },
     "metadata": {},
     "output_type": "display_data"
    },
    {
     "data": {
      "text/markdown": [
       "### File: the_chair_s1e3_transcript.txt\n",
       "\n",
       "**Sentence Number:** 159\n",
       "\n",
       "**Sentence:** [students murmuring]\n",
       "\n",
       "I was only making the point that his, uh, his friendship with Hawthorne was, uh,\n",
       "\n",
       "was an important aspect of his growth as a writer.\n",
       "\n",
       "**Past References:** 1\n",
       "\n",
       "**Future References:** 0\n",
       "\n",
       "---"
      ],
      "text/plain": [
       "<IPython.core.display.Markdown object>"
      ]
     },
     "metadata": {},
     "output_type": "display_data"
    },
    {
     "data": {
      "text/markdown": [
       "### File: the_chair_s1e3_transcript.txt\n",
       "\n",
       "**Sentence Number:** 162\n",
       "\n",
       "**Sentence:** It was not until the 1920s\n",
       "\n",
       "that the novel took its rightful place as the…\n",
       "\n",
       "We’ll cover the wife-beating in my section.\n",
       "\n",
       "**Past References:** 1\n",
       "\n",
       "**Future References:** 0\n",
       "\n",
       "---"
      ],
      "text/plain": [
       "<IPython.core.display.Markdown object>"
      ]
     },
     "metadata": {},
     "output_type": "display_data"
    },
    {
     "data": {
      "text/markdown": [
       "### File: the_chair_s1e3_transcript.txt\n",
       "\n",
       "**Sentence Number:** 167\n",
       "\n",
       "**Sentence:** Who told you that?\n",
       "\n",
       "**Past References:** 1\n",
       "\n",
       "**Future References:** 0\n",
       "\n",
       "---"
      ],
      "text/plain": [
       "<IPython.core.display.Markdown object>"
      ]
     },
     "metadata": {},
     "output_type": "display_data"
    },
    {
     "data": {
      "text/markdown": [
       "### File: the_chair_s1e3_transcript.txt\n",
       "\n",
       "**Sentence Number:** 172\n",
       "\n",
       "**Sentence:** It’s gone way beyond just the students in our class.\n",
       "\n",
       "**Past References:** 1\n",
       "\n",
       "**Future References:** 0\n",
       "\n",
       "---"
      ],
      "text/plain": [
       "<IPython.core.display.Markdown object>"
      ]
     },
     "metadata": {},
     "output_type": "display_data"
    },
    {
     "data": {
      "text/markdown": [
       "### File: the_chair_s1e3_transcript.txt\n",
       "\n",
       "**Sentence Number:** 181\n",
       "\n",
       "**Sentence:** You tried tech support?\n",
       "\n",
       "**Past References:** 1\n",
       "\n",
       "**Future References:** 0\n",
       "\n",
       "---"
      ],
      "text/plain": [
       "<IPython.core.display.Markdown object>"
      ]
     },
     "metadata": {},
     "output_type": "display_data"
    },
    {
     "data": {
      "text/markdown": [
       "### File: the_chair_s1e3_transcript.txt\n",
       "\n",
       "**Sentence Number:** 182\n",
       "\n",
       "**Sentence:** I’ve already left 700 messages.\n",
       "\n",
       "**Past References:** 1\n",
       "\n",
       "**Future References:** 0\n",
       "\n",
       "---"
      ],
      "text/plain": [
       "<IPython.core.display.Markdown object>"
      ]
     },
     "metadata": {},
     "output_type": "display_data"
    },
    {
     "data": {
      "text/markdown": [
       "### File: the_chair_s1e3_transcript.txt\n",
       "\n",
       "**Sentence Number:** 186\n",
       "\n",
       "**Sentence:** I gotta go nudge Rentz.\n",
       "\n",
       "**Past References:** 1\n",
       "\n",
       "**Future References:** 0\n",
       "\n",
       "---"
      ],
      "text/plain": [
       "<IPython.core.display.Markdown object>"
      ]
     },
     "metadata": {},
     "output_type": "display_data"
    },
    {
     "data": {
      "text/markdown": [
       "### File: the_chair_s1e3_transcript.txt\n",
       "\n",
       "**Sentence Number:** 187\n",
       "\n",
       "**Sentence:** But I will bring it up to Larson tonight.\n",
       "\n",
       "**Past References:** 0\n",
       "\n",
       "**Future References:** 1\n",
       "\n",
       "---"
      ],
      "text/plain": [
       "<IPython.core.display.Markdown object>"
      ]
     },
     "metadata": {},
     "output_type": "display_data"
    },
    {
     "data": {
      "text/markdown": [
       "### File: the_chair_s1e3_transcript.txt\n",
       "\n",
       "**Sentence Number:** 200\n",
       "\n",
       "**Sentence:** And what did they say?\n",
       "\n",
       "**Past References:** 1\n",
       "\n",
       "**Future References:** 0\n",
       "\n",
       "---"
      ],
      "text/plain": [
       "<IPython.core.display.Markdown object>"
      ]
     },
     "metadata": {},
     "output_type": "display_data"
    },
    {
     "data": {
      "text/markdown": [
       "### File: the_chair_s1e3_transcript.txt\n",
       "\n",
       "**Sentence Number:** 203\n",
       "\n",
       "**Sentence:** Was he always in here?\n",
       "\n",
       "**Past References:** 1\n",
       "\n",
       "**Future References:** 0\n",
       "\n",
       "---"
      ],
      "text/plain": [
       "<IPython.core.display.Markdown object>"
      ]
     },
     "metadata": {},
     "output_type": "display_data"
    },
    {
     "data": {
      "text/markdown": [
       "### File: the_chair_s1e3_transcript.txt\n",
       "\n",
       "**Sentence Number:** 205\n",
       "\n",
       "**Sentence:** Oh, I haven’t had time to redecorate.\n",
       "\n",
       "**Past References:** 1\n",
       "\n",
       "**Future References:** 0\n",
       "\n",
       "---"
      ],
      "text/plain": [
       "<IPython.core.display.Markdown object>"
      ]
     },
     "metadata": {},
     "output_type": "display_data"
    },
    {
     "data": {
      "text/markdown": [
       "### File: the_chair_s1e3_transcript.txt\n",
       "\n",
       "**Sentence Number:** 206\n",
       "\n",
       "**Sentence:** I gave him a hand job in his car\n",
       "\n",
       "when I got tenure.\n",
       "\n",
       "**Past References:** 1\n",
       "\n",
       "**Future References:** 0\n",
       "\n",
       "---"
      ],
      "text/plain": [
       "<IPython.core.display.Markdown object>"
      ]
     },
     "metadata": {},
     "output_type": "display_data"
    },
    {
     "data": {
      "text/markdown": [
       "### File: the_chair_s1e3_transcript.txt\n",
       "\n",
       "**Sentence Number:** 210\n",
       "\n",
       "**Sentence:** Who looks like the guy I gave a hand job to.\n",
       "\n",
       "**Past References:** 1\n",
       "\n",
       "**Future References:** 0\n",
       "\n",
       "---"
      ],
      "text/plain": [
       "<IPython.core.display.Markdown object>"
      ]
     },
     "metadata": {},
     "output_type": "display_data"
    },
    {
     "data": {
      "text/markdown": [
       "### File: the_chair_s1e3_transcript.txt\n",
       "\n",
       "**Sentence Number:** 226\n",
       "\n",
       "**Sentence:** Now, if it were Elliot, or even you, I’d be worried.\n",
       "\n",
       "**Past References:** 1\n",
       "\n",
       "**Future References:** 0\n",
       "\n",
       "---"
      ],
      "text/plain": [
       "<IPython.core.display.Markdown object>"
      ]
     },
     "metadata": {},
     "output_type": "display_data"
    },
    {
     "data": {
      "text/markdown": [
       "### File: the_chair_s1e3_transcript.txt\n",
       "\n",
       "**Sentence Number:** 245\n",
       "\n",
       "**Sentence:** This is going to be a bloodbath.\n",
       "\n",
       "**Past References:** 0\n",
       "\n",
       "**Future References:** 1\n",
       "\n",
       "---"
      ],
      "text/plain": [
       "<IPython.core.display.Markdown object>"
      ]
     },
     "metadata": {},
     "output_type": "display_data"
    },
    {
     "data": {
      "text/markdown": [
       "### File: the_chair_s1e3_transcript.txt\n",
       "\n",
       "**Sentence Number:** 247\n",
       "\n",
       "**Sentence:** See, any so-called jokes related to Hitler are in their own special category.\n",
       "\n",
       "**Past References:** 1\n",
       "\n",
       "**Future References:** 0\n",
       "\n",
       "---"
      ],
      "text/plain": [
       "<IPython.core.display.Markdown object>"
      ]
     },
     "metadata": {},
     "output_type": "display_data"
    },
    {
     "data": {
      "text/markdown": [
       "### File: the_chair_s1e3_transcript.txt\n",
       "\n",
       "**Sentence Number:** 248\n",
       "\n",
       "**Sentence:** You know some kids put on Hitler mustaches and posted knockoffs of your meme?\n",
       "\n",
       "**Past References:** 1\n",
       "\n",
       "**Future References:** 0\n",
       "\n",
       "---"
      ],
      "text/plain": [
       "<IPython.core.display.Markdown object>"
      ]
     },
     "metadata": {},
     "output_type": "display_data"
    },
    {
     "data": {
      "text/markdown": [
       "### File: the_chair_s1e3_transcript.txt\n",
       "\n",
       "**Sentence Number:** 253\n",
       "\n",
       "**Sentence:** To be Jewish with all these militias?\n",
       "\n",
       "**Past References:** 0\n",
       "\n",
       "**Future References:** 1\n",
       "\n",
       "---"
      ],
      "text/plain": [
       "<IPython.core.display.Markdown object>"
      ]
     },
     "metadata": {},
     "output_type": "display_data"
    },
    {
     "data": {
      "text/markdown": [
       "### File: the_chair_s1e3_transcript.txt\n",
       "\n",
       "**Sentence Number:** 254\n",
       "\n",
       "**Sentence:** Last year, we had the largest number of anti-Semitic incidents in 40 years.\n",
       "\n",
       "**Past References:** 1\n",
       "\n",
       "**Future References:** 0\n",
       "\n",
       "---"
      ],
      "text/plain": [
       "<IPython.core.display.Markdown object>"
      ]
     },
     "metadata": {},
     "output_type": "display_data"
    },
    {
     "data": {
      "text/markdown": [
       "### File: the_chair_s1e3_transcript.txt\n",
       "\n",
       "**Sentence Number:** 255\n",
       "\n",
       "**Sentence:** Of course intent matters, but even if you meant no harm,\n",
       "\n",
       "if the impact of something that you did has…\n",
       "\n",
       "**Past References:** 1\n",
       "\n",
       "**Future References:** 0\n",
       "\n",
       "---"
      ],
      "text/plain": [
       "<IPython.core.display.Markdown object>"
      ]
     },
     "metadata": {},
     "output_type": "display_data"
    },
    {
     "data": {
      "text/markdown": [
       "### File: the_chair_s1e3_transcript.txt\n",
       "\n",
       "**Sentence Number:** 261\n",
       "\n",
       "**Sentence:** I was just, um, telling him the same thing.\n",
       "\n",
       "**Past References:** 1\n",
       "\n",
       "**Future References:** 0\n",
       "\n",
       "---"
      ],
      "text/plain": [
       "<IPython.core.display.Markdown object>"
      ]
     },
     "metadata": {},
     "output_type": "display_data"
    },
    {
     "data": {
      "text/markdown": [
       "### File: the_chair_s1e3_transcript.txt\n",
       "\n",
       "**Sentence Number:** 271\n",
       "\n",
       "**Sentence:** Uh, there’s something else I wanted to ask you about, but to be continued.\n",
       "\n",
       "**Past References:** 1\n",
       "\n",
       "**Future References:** 0\n",
       "\n",
       "---"
      ],
      "text/plain": [
       "<IPython.core.display.Markdown object>"
      ]
     },
     "metadata": {},
     "output_type": "display_data"
    },
    {
     "data": {
      "text/markdown": [
       "### File: the_chair_s1e3_transcript.txt\n",
       "\n",
       "**Sentence Number:** 277\n",
       "\n",
       "**Sentence:** She came barreling in here and she closed the door.\n",
       "\n",
       "**Past References:** 1\n",
       "\n",
       "**Future References:** 0\n",
       "\n",
       "---"
      ],
      "text/plain": [
       "<IPython.core.display.Markdown object>"
      ]
     },
     "metadata": {},
     "output_type": "display_data"
    },
    {
     "data": {
      "text/markdown": [
       "### File: the_chair_s1e3_transcript.txt\n",
       "\n",
       "**Sentence Number:** 278\n",
       "\n",
       "**Sentence:** Why didn’t you open it?\n",
       "\n",
       "**Past References:** 1\n",
       "\n",
       "**Future References:** 0\n",
       "\n",
       "---"
      ],
      "text/plain": [
       "<IPython.core.display.Markdown object>"
      ]
     },
     "metadata": {},
     "output_type": "display_data"
    },
    {
     "data": {
      "text/markdown": [
       "### File: the_chair_s1e3_transcript.txt\n",
       "\n",
       "**Sentence Number:** 280\n",
       "\n",
       "**Sentence:** Because she was accusing me of inciting the alt-right,\n",
       "\n",
       "**Past References:** 1\n",
       "\n",
       "**Future References:** 0\n",
       "\n",
       "---"
      ],
      "text/plain": [
       "<IPython.core.display.Markdown object>"
      ]
     },
     "metadata": {},
     "output_type": "display_data"
    },
    {
     "data": {
      "text/markdown": [
       "### File: the_chair_s1e3_transcript.txt\n",
       "\n",
       "**Sentence Number:** 281\n",
       "\n",
       "**Sentence:** and I didn’t wanna interrupt her in the middle of that.\n",
       "\n",
       "**Past References:** 1\n",
       "\n",
       "**Future References:** 0\n",
       "\n",
       "---"
      ],
      "text/plain": [
       "<IPython.core.display.Markdown object>"
      ]
     },
     "metadata": {},
     "output_type": "display_data"
    },
    {
     "data": {
      "text/markdown": [
       "### File: the_chair_s1e3_transcript.txt\n",
       "\n",
       "**Sentence Number:** 301\n",
       "\n",
       "**Sentence:** I’ve got this thing at Dean Larson’s.\n",
       "\n",
       "**Past References:** 1\n",
       "\n",
       "**Future References:** 0\n",
       "\n",
       "---"
      ],
      "text/plain": [
       "<IPython.core.display.Markdown object>"
      ]
     },
     "metadata": {},
     "output_type": "display_data"
    },
    {
     "data": {
      "text/markdown": [
       "### File: the_chair_s1e3_transcript.txt\n",
       "\n",
       "**Sentence Number:** 317\n",
       "\n",
       "**Sentence:** but your department will have to fill out the paperwork.\n",
       "\n",
       "**Past References:** 0\n",
       "\n",
       "**Future References:** 1\n",
       "\n",
       "---"
      ],
      "text/plain": [
       "<IPython.core.display.Markdown object>"
      ]
     },
     "metadata": {},
     "output_type": "display_data"
    },
    {
     "data": {
      "text/markdown": [
       "### File: the_chair_s1e3_transcript.txt\n",
       "\n",
       "**Sentence Number:** 318\n",
       "\n",
       "**Sentence:** [sighs]\n",
       "\n",
       "Have you talked to your chair?\n",
       "\n",
       "**Past References:** 1\n",
       "\n",
       "**Future References:** 0\n",
       "\n",
       "---"
      ],
      "text/plain": [
       "<IPython.core.display.Markdown object>"
      ]
     },
     "metadata": {},
     "output_type": "display_data"
    },
    {
     "data": {
      "text/markdown": [
       "### File: the_chair_s1e3_transcript.txt\n",
       "\n",
       "**Sentence Number:** 337\n",
       "\n",
       "**Sentence:** [whooshing]\n",
       "\n",
       "[gasps]\n",
       "\n",
       "I heard your internet is down.\n",
       "\n",
       "**Past References:** 1\n",
       "\n",
       "**Future References:** 0\n",
       "\n",
       "---"
      ],
      "text/plain": [
       "<IPython.core.display.Markdown object>"
      ]
     },
     "metadata": {},
     "output_type": "display_data"
    },
    {
     "data": {
      "text/markdown": [
       "### File: the_chair_s1e3_transcript.txt\n",
       "\n",
       "**Sentence Number:** 342\n",
       "\n",
       "**Sentence:** Where have you been all my life?\n",
       "\n",
       "**Past References:** 1\n",
       "\n",
       "**Future References:** 0\n",
       "\n",
       "---"
      ],
      "text/plain": [
       "<IPython.core.display.Markdown object>"
      ]
     },
     "metadata": {},
     "output_type": "display_data"
    },
    {
     "data": {
      "text/markdown": [
       "### File: the_chair_s1e3_transcript.txt\n",
       "\n",
       "**Sentence Number:** 346\n",
       "\n",
       "**Sentence:** Actually, have you ever heard of RateMyProfessors.com?\n",
       "\n",
       "**Past References:** 1\n",
       "\n",
       "**Future References:** 0\n",
       "\n",
       "---"
      ],
      "text/plain": [
       "<IPython.core.display.Markdown object>"
      ]
     },
     "metadata": {},
     "output_type": "display_data"
    },
    {
     "data": {
      "text/markdown": [
       "### File: the_chair_s1e3_transcript.txt\n",
       "\n",
       "**Sentence Number:** 350\n",
       "\n",
       "**Sentence:** I’m supposed to take in some of my students’ criticisms.\n",
       "\n",
       "**Past References:** 1\n",
       "\n",
       "**Future References:** 0\n",
       "\n",
       "---"
      ],
      "text/plain": [
       "<IPython.core.display.Markdown object>"
      ]
     },
     "metadata": {},
     "output_type": "display_data"
    },
    {
     "data": {
      "text/markdown": [
       "### File: the_chair_s1e3_transcript.txt\n",
       "\n",
       "**Sentence Number:** 406\n",
       "\n",
       "**Sentence:** This was posted yesterday.\n",
       "\n",
       "**Past References:** 1\n",
       "\n",
       "**Future References:** 0\n",
       "\n",
       "---"
      ],
      "text/plain": [
       "<IPython.core.display.Markdown object>"
      ]
     },
     "metadata": {},
     "output_type": "display_data"
    },
    {
     "data": {
      "text/markdown": [
       "### File: the_chair_s1e3_transcript.txt\n",
       "\n",
       "**Sentence Number:** 407\n",
       "\n",
       "**Sentence:** Oh, was it?\n",
       "\n",
       "**Past References:** 1\n",
       "\n",
       "**Future References:** 0\n",
       "\n",
       "---"
      ],
      "text/plain": [
       "<IPython.core.display.Markdown object>"
      ]
     },
     "metadata": {},
     "output_type": "display_data"
    },
    {
     "data": {
      "text/markdown": [
       "### File: the_chair_s1e3_transcript.txt\n",
       "\n",
       "**Sentence Number:** 408\n",
       "\n",
       "**Sentence:** I didn’t notice that.\n",
       "\n",
       "**Past References:** 1\n",
       "\n",
       "**Future References:** 0\n",
       "\n",
       "---"
      ],
      "text/plain": [
       "<IPython.core.display.Markdown object>"
      ]
     },
     "metadata": {},
     "output_type": "display_data"
    },
    {
     "data": {
      "text/markdown": [
       "### File: the_chair_s1e3_transcript.txt\n",
       "\n",
       "**Sentence Number:** 419\n",
       "\n",
       "**Sentence:** Oh, um, did you take a look at Yaz’s suggestions for external reviewers?\n",
       "\n",
       "**Past References:** 1\n",
       "\n",
       "**Future References:** 0\n",
       "\n",
       "---"
      ],
      "text/plain": [
       "<IPython.core.display.Markdown object>"
      ]
     },
     "metadata": {},
     "output_type": "display_data"
    },
    {
     "data": {
      "text/markdown": [
       "### File: the_chair_s1e3_transcript.txt\n",
       "\n",
       "**Sentence Number:** 426\n",
       "\n",
       "**Sentence:** I’ll send her work out to respected scholars\n",
       "\n",
       "who will review it objectively.\n",
       "\n",
       "**Past References:** 0\n",
       "\n",
       "**Future References:** 1\n",
       "\n",
       "---"
      ],
      "text/plain": [
       "<IPython.core.display.Markdown object>"
      ]
     },
     "metadata": {},
     "output_type": "display_data"
    },
    {
     "data": {
      "text/markdown": [
       "### File: the_chair_s1e3_transcript.txt\n",
       "\n",
       "**Sentence Number:** 429\n",
       "\n",
       "**Sentence:** [woman] When I found out the English department\n",
       "\n",
       "elected their first female chair,\n",
       "\n",
       "I did cartwheels.\n",
       "\n",
       "**Past References:** 1\n",
       "\n",
       "**Future References:** 0\n",
       "\n",
       "---"
      ],
      "text/plain": [
       "<IPython.core.display.Markdown object>"
      ]
     },
     "metadata": {},
     "output_type": "display_data"
    },
    {
     "data": {
      "text/markdown": [
       "### File: the_chair_s1e3_transcript.txt\n",
       "\n",
       "**Sentence Number:** 430\n",
       "\n",
       "**Sentence:** I was an English major, so I told Paul\n",
       "\n",
       "**Past References:** 1\n",
       "\n",
       "**Future References:** 0\n",
       "\n",
       "---"
      ],
      "text/plain": [
       "<IPython.core.display.Markdown object>"
      ]
     },
     "metadata": {},
     "output_type": "display_data"
    },
    {
     "data": {
      "text/markdown": [
       "### File: the_chair_s1e3_transcript.txt\n",
       "\n",
       "**Sentence Number:** 434\n",
       "\n",
       "**Sentence:** And say well done.\n",
       "\n",
       "**Past References:** 1\n",
       "\n",
       "**Future References:** 0\n",
       "\n",
       "---"
      ],
      "text/plain": [
       "<IPython.core.display.Markdown object>"
      ]
     },
     "metadata": {},
     "output_type": "display_data"
    },
    {
     "data": {
      "text/markdown": [
       "### File: the_chair_s1e3_transcript.txt\n",
       "\n",
       "**Sentence Number:** 435\n",
       "\n",
       "**Sentence:** [chuckles]\n",
       "\n",
       "I don’t know how competitive the election was, but thank you.\n",
       "\n",
       "**Past References:** 1\n",
       "\n",
       "**Future References:** 0\n",
       "\n",
       "---"
      ],
      "text/plain": [
       "<IPython.core.display.Markdown object>"
      ]
     },
     "metadata": {},
     "output_type": "display_data"
    },
    {
     "data": {
      "text/markdown": [
       "### File: the_chair_s1e3_transcript.txt\n",
       "\n",
       "**Sentence Number:** 440\n",
       "\n",
       "**Sentence:** No woman ever got anywhere by underselling herself.\n",
       "\n",
       "**Past References:** 1\n",
       "\n",
       "**Future References:** 0\n",
       "\n",
       "---"
      ],
      "text/plain": [
       "<IPython.core.display.Markdown object>"
      ]
     },
     "metadata": {},
     "output_type": "display_data"
    },
    {
     "data": {
      "text/markdown": [
       "### File: the_chair_s1e3_transcript.txt\n",
       "\n",
       "**Sentence Number:** 442\n",
       "\n",
       "**Sentence:** Now, I have been thinking about this clusterfuck.\n",
       "\n",
       "**Past References:** 1\n",
       "\n",
       "**Future References:** 0\n",
       "\n",
       "---"
      ],
      "text/plain": [
       "<IPython.core.display.Markdown object>"
      ]
     },
     "metadata": {},
     "output_type": "display_data"
    },
    {
     "data": {
      "text/markdown": [
       "### File: the_chair_s1e3_transcript.txt\n",
       "\n",
       "**Sentence Number:** 448\n",
       "\n",
       "**Sentence:** He is truly devastated.\n",
       "\n",
       "**Past References:** 1\n",
       "\n",
       "**Future References:** 0\n",
       "\n",
       "---"
      ],
      "text/plain": [
       "<IPython.core.display.Markdown object>"
      ]
     },
     "metadata": {},
     "output_type": "display_data"
    },
    {
     "data": {
      "text/markdown": [
       "### File: the_chair_s1e3_transcript.txt\n",
       "\n",
       "**Sentence Number:** 455\n",
       "\n",
       "**Sentence:** Mrs. Whittenden has a special visitor…\n",
       "\n",
       "I happened to run into such a person…\n",
       "\n",
       "You go.\n",
       "\n",
       "**Past References:** 1\n",
       "\n",
       "**Future References:** 0\n",
       "\n",
       "---"
      ],
      "text/plain": [
       "<IPython.core.display.Markdown object>"
      ]
     },
     "metadata": {},
     "output_type": "display_data"
    },
    {
     "data": {
      "text/markdown": [
       "### File: the_chair_s1e3_transcript.txt\n",
       "\n",
       "**Sentence Number:** 466\n",
       "\n",
       "**Sentence:** We started talking, and I thought,\n",
       "\n",
       "“Here’s the kind of person\n",
       "\n",
       "who can revitalize the study of literature.”\n",
       "\n",
       "**Past References:** 1\n",
       "\n",
       "**Future References:** 0\n",
       "\n",
       "---"
      ],
      "text/plain": [
       "<IPython.core.display.Markdown object>"
      ]
     },
     "metadata": {},
     "output_type": "display_data"
    },
    {
     "data": {
      "text/markdown": [
       "### File: the_chair_s1e3_transcript.txt\n",
       "\n",
       "**Sentence Number:** 468\n",
       "\n",
       "**Sentence:** And lo and behold,\n",
       "\n",
       "he agreed to give the Distinguished Lecture this year.\n",
       "\n",
       "**Past References:** 1\n",
       "\n",
       "**Future References:** 0\n",
       "\n",
       "---"
      ],
      "text/plain": [
       "<IPython.core.display.Markdown object>"
      ]
     },
     "metadata": {},
     "output_type": "display_data"
    },
    {
     "data": {
      "text/markdown": [
       "### File: the_chair_s1e3_transcript.txt\n",
       "\n",
       "**Sentence Number:** 471\n",
       "\n",
       "**Sentence:** I thought that, um…\n",
       "\n",
       "Historically, that’s been at the chair’s discretion.\n",
       "\n",
       "**Past References:** 1\n",
       "\n",
       "**Future References:** 0\n",
       "\n",
       "---"
      ],
      "text/plain": [
       "<IPython.core.display.Markdown object>"
      ]
     },
     "metadata": {},
     "output_type": "display_data"
    },
    {
     "data": {
      "text/markdown": [
       "### File: the_chair_s1e3_transcript.txt\n",
       "\n",
       "**Sentence Number:** 473\n",
       "\n",
       "**Sentence:** The funds are at the discretion of the trustee who endowed them.\n",
       "\n",
       "**Past References:** 1\n",
       "\n",
       "**Future References:** 0\n",
       "\n",
       "---"
      ],
      "text/plain": [
       "<IPython.core.display.Markdown object>"
      ]
     },
     "metadata": {},
     "output_type": "display_data"
    },
    {
     "data": {
      "text/markdown": [
       "### File: the_chair_s1e3_transcript.txt\n",
       "\n",
       "**Sentence Number:** 476\n",
       "\n",
       "**Sentence:** I already announced that Dr. McKay would be…\n",
       "\n",
       "Guess who it is.\n",
       "\n",
       "**Past References:** 1\n",
       "\n",
       "**Future References:** 0\n",
       "\n",
       "---"
      ],
      "text/plain": [
       "<IPython.core.display.Markdown object>"
      ]
     },
     "metadata": {},
     "output_type": "display_data"
    },
    {
     "data": {
      "text/markdown": [
       "### File: the_chair_s1e3_transcript.txt\n",
       "\n",
       "**Sentence Number:** 477\n",
       "\n",
       "**Sentence:** I don’t…\n",
       "\n",
       "**Past References:** 1\n",
       "\n",
       "**Future References:** 0\n",
       "\n",
       "---"
      ],
      "text/plain": [
       "<IPython.core.display.Markdown object>"
      ]
     },
     "metadata": {},
     "output_type": "display_data"
    },
    {
     "data": {
      "text/markdown": [
       "### File: the_chair_s1e3_transcript.txt\n",
       "\n",
       "**Sentence Number:** 479\n",
       "\n",
       "**Sentence:** You’ll be thrilled.\n",
       "\n",
       "**Past References:** 1\n",
       "\n",
       "**Future References:** 0\n",
       "\n",
       "---"
      ],
      "text/plain": [
       "<IPython.core.display.Markdown object>"
      ]
     },
     "metadata": {},
     "output_type": "display_data"
    },
    {
     "data": {
      "text/markdown": [
       "### File: the_chair_s1e3_transcript.txt\n",
       "\n",
       "**Sentence Number:** 501\n",
       "\n",
       "**Sentence:** and, uh, have meetings with selected English majors.\n",
       "\n",
       "**Past References:** 1\n",
       "\n",
       "**Future References:** 0\n",
       "\n",
       "---"
      ],
      "text/plain": [
       "<IPython.core.display.Markdown object>"
      ]
     },
     "metadata": {},
     "output_type": "display_data"
    },
    {
     "data": {
      "text/markdown": [
       "### File: the_chair_s1e3_transcript.txt\n",
       "\n",
       "**Sentence Number:** 506\n",
       "\n",
       "**Sentence:** [Bill] Ready, set, go.\n",
       "\n",
       "**Past References:** 1\n",
       "\n",
       "**Future References:** 0\n",
       "\n",
       "---"
      ],
      "text/plain": [
       "<IPython.core.display.Markdown object>"
      ]
     },
     "metadata": {},
     "output_type": "display_data"
    },
    {
     "data": {
      "text/markdown": [
       "### File: the_chair_s1e3_transcript.txt\n",
       "\n",
       "**Sentence Number:** 509\n",
       "\n",
       "**Sentence:** What’s it like to be you?\n",
       "\n",
       "**Past References:** 0\n",
       "\n",
       "**Future References:** 1\n",
       "\n",
       "---"
      ],
      "text/plain": [
       "<IPython.core.display.Markdown object>"
      ]
     },
     "metadata": {},
     "output_type": "display_data"
    },
    {
     "data": {
      "text/markdown": [
       "### File: the_chair_s1e3_transcript.txt\n",
       "\n",
       "**Sentence Number:** 512\n",
       "\n",
       "**Sentence:** I saw you crying…\n",
       "\n",
       "when your wife died.\n",
       "\n",
       "**Past References:** 1\n",
       "\n",
       "**Future References:** 0\n",
       "\n",
       "---"
      ],
      "text/plain": [
       "<IPython.core.display.Markdown object>"
      ]
     },
     "metadata": {},
     "output_type": "display_data"
    },
    {
     "data": {
      "text/markdown": [
       "### File: the_chair_s1e3_transcript.txt\n",
       "\n",
       "**Sentence Number:** 514\n",
       "\n",
       "**Sentence:** In the kitchen, and my mom was crying.\n",
       "\n",
       "**Past References:** 1\n",
       "\n",
       "**Future References:** 0\n",
       "\n",
       "---"
      ],
      "text/plain": [
       "<IPython.core.display.Markdown object>"
      ]
     },
     "metadata": {},
     "output_type": "display_data"
    },
    {
     "data": {
      "text/markdown": [
       "### File: the_chair_s1e3_transcript.txt\n",
       "\n",
       "**Sentence Number:** 518\n",
       "\n",
       "**Sentence:** Well, you know, that was a…\n",
       "\n",
       "**Past References:** 1\n",
       "\n",
       "**Future References:** 0\n",
       "\n",
       "---"
      ],
      "text/plain": [
       "<IPython.core.display.Markdown object>"
      ]
     },
     "metadata": {},
     "output_type": "display_data"
    },
    {
     "data": {
      "text/markdown": [
       "### File: the_chair_s1e3_transcript.txt\n",
       "\n",
       "**Sentence Number:** 519\n",
       "\n",
       "**Sentence:** That was…\n",
       "\n",
       "I don’t have a dad.\n",
       "\n",
       "**Past References:** 1\n",
       "\n",
       "**Future References:** 0\n",
       "\n",
       "---"
      ],
      "text/plain": [
       "<IPython.core.display.Markdown object>"
      ]
     },
     "metadata": {},
     "output_type": "display_data"
    },
    {
     "data": {
      "text/markdown": [
       "### File: the_chair_s1e3_transcript.txt\n",
       "\n",
       "**Sentence Number:** 545\n",
       "\n",
       "**Sentence:** And I’m gonna be married.\n",
       "\n",
       "**Past References:** 1\n",
       "\n",
       "**Future References:** 0\n",
       "\n",
       "---"
      ],
      "text/plain": [
       "<IPython.core.display.Markdown object>"
      ]
     },
     "metadata": {},
     "output_type": "display_data"
    },
    {
     "data": {
      "text/markdown": [
       "### File: the_chair_s1e3_transcript.txt\n",
       "\n",
       "**Sentence Number:** 553\n",
       "\n",
       "**Sentence:** Yeah, well, she had to wait a long time to get you.\n",
       "\n",
       "**Past References:** 1\n",
       "\n",
       "**Future References:** 0\n",
       "\n",
       "---"
      ],
      "text/plain": [
       "<IPython.core.display.Markdown object>"
      ]
     },
     "metadata": {},
     "output_type": "display_data"
    },
    {
     "data": {
      "text/markdown": [
       "### File: the_chair_s1e3_transcript.txt\n",
       "\n",
       "**Sentence Number:** 554\n",
       "\n",
       "**Sentence:** For two years, she had your car seat by the door,\n",
       "\n",
       "a whole set of clothes ready to go.\n",
       "\n",
       "**Past References:** 1\n",
       "\n",
       "**Future References:** 0\n",
       "\n",
       "---"
      ],
      "text/plain": [
       "<IPython.core.display.Markdown object>"
      ]
     },
     "metadata": {},
     "output_type": "display_data"
    },
    {
     "data": {
      "text/markdown": [
       "### File: the_chair_s1e3_transcript.txt\n",
       "\n",
       "**Sentence Number:** 556\n",
       "\n",
       "**Sentence:** She was waiting and waiting,\n",
       "\n",
       "**Past References:** 1\n",
       "\n",
       "**Future References:** 0\n",
       "\n",
       "---"
      ],
      "text/plain": [
       "<IPython.core.display.Markdown object>"
      ]
     },
     "metadata": {},
     "output_type": "display_data"
    },
    {
     "data": {
      "text/markdown": [
       "### File: the_chair_s1e3_transcript.txt\n",
       "\n",
       "**Sentence Number:** 558\n",
       "\n",
       "**Sentence:** and, you know, she had to jump through a lot of hoops.\n",
       "\n",
       "**Past References:** 1\n",
       "\n",
       "**Future References:** 0\n",
       "\n",
       "---"
      ],
      "text/plain": [
       "<IPython.core.display.Markdown object>"
      ]
     },
     "metadata": {},
     "output_type": "display_data"
    },
    {
     "data": {
      "text/markdown": [
       "### File: the_chair_s1e3_transcript.txt\n",
       "\n",
       "**Sentence Number:** 560\n",
       "\n",
       "**Sentence:** Today, my teacher said\n",
       "\n",
       "that I’m going to lead the class for Día de los Muertos.\n",
       "\n",
       "**Past References:** 1\n",
       "\n",
       "**Future References:** 0\n",
       "\n",
       "---"
      ],
      "text/plain": [
       "<IPython.core.display.Markdown object>"
      ]
     },
     "metadata": {},
     "output_type": "display_data"
    },
    {
     "data": {
      "text/markdown": [
       "### File: the_chair_s1e3_transcript.txt\n",
       "\n",
       "**Sentence Number:** 569\n",
       "\n",
       "**Sentence:** I just need to know what her favorite things were.\n",
       "\n",
       "**Past References:** 1\n",
       "\n",
       "**Future References:** 0\n",
       "\n",
       "---"
      ],
      "text/plain": [
       "<IPython.core.display.Markdown object>"
      ]
     },
     "metadata": {},
     "output_type": "display_data"
    },
    {
     "data": {
      "text/markdown": [
       "### File: the_chair_s1e3_transcript.txt\n",
       "\n",
       "**Sentence Number:** 571\n",
       "\n",
       "**Sentence:** Well, she was really good at piano.\n",
       "\n",
       "**Past References:** 1\n",
       "\n",
       "**Future References:** 0\n",
       "\n",
       "---"
      ],
      "text/plain": [
       "<IPython.core.display.Markdown object>"
      ]
     },
     "metadata": {},
     "output_type": "display_data"
    },
    {
     "data": {
      "text/markdown": [
       "### File: the_chair_s1e3_transcript.txt\n",
       "\n",
       "**Sentence Number:** 573\n",
       "\n",
       "**Sentence:** And, like, what were her favorite things to eat?\n",
       "\n",
       "**Past References:** 1\n",
       "\n",
       "**Future References:** 0\n",
       "\n",
       "---"
      ],
      "text/plain": [
       "<IPython.core.display.Markdown object>"
      ]
     },
     "metadata": {},
     "output_type": "display_data"
    },
    {
     "data": {
      "text/markdown": [
       "### File: the_chair_s1e3_transcript.txt\n",
       "\n",
       "**Sentence Number:** 576\n",
       "\n",
       "**Sentence:** Um, she really liked pizza.\n",
       "\n",
       "**Past References:** 1\n",
       "\n",
       "**Future References:** 0\n",
       "\n",
       "---"
      ],
      "text/plain": [
       "<IPython.core.display.Markdown object>"
      ]
     },
     "metadata": {},
     "output_type": "display_data"
    },
    {
     "data": {
      "text/markdown": [
       "### File: the_chair_s1e3_transcript.txt\n",
       "\n",
       "**Sentence Number:** 580\n",
       "\n",
       "**Sentence:** [flips page]\n",
       "\n",
       "I tried to warn you…\n",
       "\n",
       "You can’t just pretend he’s an academic.\n",
       "\n",
       "**Past References:** 1\n",
       "\n",
       "**Future References:** 0\n",
       "\n",
       "---"
      ],
      "text/plain": [
       "<IPython.core.display.Markdown object>"
      ]
     },
     "metadata": {},
     "output_type": "display_data"
    },
    {
     "data": {
      "text/markdown": [
       "### File: the_chair_s1e3_transcript.txt\n",
       "\n",
       "**Sentence Number:** 582\n",
       "\n",
       "**Sentence:** He almost got his PhD.\n",
       "\n",
       "**Past References:** 1\n",
       "\n",
       "**Future References:** 0\n",
       "\n",
       "---"
      ],
      "text/plain": [
       "<IPython.core.display.Markdown object>"
      ]
     },
     "metadata": {},
     "output_type": "display_data"
    },
    {
     "data": {
      "text/markdown": [
       "### File: the_chair_s1e3_transcript.txt\n",
       "\n",
       "**Sentence Number:** 617\n",
       "\n",
       "**Sentence:** You did all my dishes.\n",
       "\n",
       "**Past References:** 1\n",
       "\n",
       "**Future References:** 0\n",
       "\n",
       "---"
      ],
      "text/plain": [
       "<IPython.core.display.Markdown object>"
      ]
     },
     "metadata": {},
     "output_type": "display_data"
    },
    {
     "data": {
      "text/markdown": [
       "### File: the_chair_s1e3_transcript.txt\n",
       "\n",
       "**Sentence Number:** 630\n",
       "\n",
       "**Sentence:** I’m truly heartbroken to have offended anyone here.\n",
       "\n",
       "**Past References:** 1\n",
       "\n",
       "**Future References:** 0\n",
       "\n",
       "---"
      ],
      "text/plain": [
       "<IPython.core.display.Markdown object>"
      ]
     },
     "metadata": {},
     "output_type": "display_data"
    },
    {
     "data": {
      "text/markdown": [
       "### File: the_chair_s1e3_transcript.txt\n",
       "\n",
       "**Sentence Number:** 649\n",
       "\n",
       "**Sentence:** “David Duchovny wrote his thesis at Princeton on Beckett.”\n",
       "\n",
       "**Past References:** 1\n",
       "\n",
       "**Future References:** 0\n",
       "\n",
       "---"
      ],
      "text/plain": [
       "<IPython.core.display.Markdown object>"
      ]
     },
     "metadata": {},
     "output_type": "display_data"
    },
    {
     "data": {
      "text/markdown": [
       "### File: the_chair_s1e3_transcript.txt\n",
       "\n",
       "**Sentence Number:** 654\n",
       "\n",
       "**Sentence:** “He was Harold Bloom’s advisee at Yale.”\n",
       "\n",
       "**Past References:** 1\n",
       "\n",
       "**Future References:** 0\n",
       "\n",
       "---"
      ],
      "text/plain": [
       "<IPython.core.display.Markdown object>"
      ]
     },
     "metadata": {},
     "output_type": "display_data"
    },
    {
     "data": {
      "text/markdown": [
       "### File: the_chair_s1e3_transcript.txt\n",
       "\n",
       "**Sentence Number:** 686\n",
       "\n",
       "**Sentence:** It means a lot to me that you showed up for this.\n",
       "\n",
       "**Past References:** 1\n",
       "\n",
       "**Future References:** 0\n",
       "\n",
       "---"
      ],
      "text/plain": [
       "<IPython.core.display.Markdown object>"
      ]
     },
     "metadata": {},
     "output_type": "display_data"
    },
    {
     "data": {
      "text/markdown": [
       "### File: the_chair_s1e3_transcript.txt\n",
       "\n",
       "**Sentence Number:** 703\n",
       "\n",
       "**Sentence:** Agreed.\n",
       "\n",
       "**Past References:** 1\n",
       "\n",
       "**Future References:** 0\n",
       "\n",
       "---"
      ],
      "text/plain": [
       "<IPython.core.display.Markdown object>"
      ]
     },
     "metadata": {},
     "output_type": "display_data"
    },
    {
     "data": {
      "text/markdown": [
       "### File: the_chair_s1e3_transcript.txt\n",
       "\n",
       "**Sentence Number:** 711\n",
       "\n",
       "**Sentence:** One of the greatest gifts that American universities ever received\n",
       "\n",
       "was the influx of intellectuals who fled the Third Reich.\n",
       "\n",
       "**Past References:** 1\n",
       "\n",
       "**Future References:** 0\n",
       "\n",
       "---"
      ],
      "text/plain": [
       "<IPython.core.display.Markdown object>"
      ]
     },
     "metadata": {},
     "output_type": "display_data"
    },
    {
     "data": {
      "text/markdown": [
       "### File: the_chair_s1e3_transcript.txt\n",
       "\n",
       "**Sentence Number:** 714\n",
       "\n",
       "**Sentence:** Many of them wrote invaluable studies of the fascist mindset.\n",
       "\n",
       "**Past References:** 1\n",
       "\n",
       "**Future References:** 0\n",
       "\n",
       "---"
      ],
      "text/plain": [
       "<IPython.core.display.Markdown object>"
      ]
     },
     "metadata": {},
     "output_type": "display_data"
    },
    {
     "data": {
      "text/markdown": [
       "### File: the_chair_s1e3_transcript.txt\n",
       "\n",
       "**Sentence Number:** 716\n",
       "\n",
       "**Sentence:** I wouldn’t use the stories of Jewish refugees here, if I were you.\n",
       "\n",
       "**Past References:** 1\n",
       "\n",
       "**Future References:** 0\n",
       "\n",
       "---"
      ],
      "text/plain": [
       "<IPython.core.display.Markdown object>"
      ]
     },
     "metadata": {},
     "output_type": "display_data"
    },
    {
     "data": {
      "text/markdown": [
       "### File: the_chair_s1e3_transcript.txt\n",
       "\n",
       "**Sentence Number:** 717\n",
       "\n",
       "**Sentence:** [students murmuring]\n",
       "\n",
       "Not all of them were Jewish.\n",
       "\n",
       "**Past References:** 1\n",
       "\n",
       "**Future References:** 0\n",
       "\n",
       "---"
      ],
      "text/plain": [
       "<IPython.core.display.Markdown object>"
      ]
     },
     "metadata": {},
     "output_type": "display_data"
    },
    {
     "data": {
      "text/markdown": [
       "### File: the_chair_s1e3_transcript.txt\n",
       "\n",
       "**Sentence Number:** 718\n",
       "\n",
       "**Sentence:** Some of them were standing in solidarity.\n",
       "\n",
       "**Past References:** 1\n",
       "\n",
       "**Future References:** 0\n",
       "\n",
       "---"
      ],
      "text/plain": [
       "<IPython.core.display.Markdown object>"
      ]
     },
     "metadata": {},
     "output_type": "display_data"
    },
    {
     "data": {
      "text/markdown": [
       "### File: the_chair_s1e3_transcript.txt\n",
       "\n",
       "**Sentence Number:** 735\n",
       "\n",
       "**Sentence:** No, I want this to be a forum where everyone can voice their opinion.\n",
       "\n",
       "**Past References:** 0\n",
       "\n",
       "**Future References:** 1\n",
       "\n",
       "---"
      ],
      "text/plain": [
       "<IPython.core.display.Markdown object>"
      ]
     },
     "metadata": {},
     "output_type": "display_data"
    },
    {
     "data": {
      "text/markdown": [
       "### File: the_chair_s1e3_transcript.txt\n",
       "\n",
       "**Sentence Number:** 736\n",
       "\n",
       "**Sentence:** You’re a white tenured professor who writes op-eds for the New York Times.\n",
       "\n",
       "**Past References:** 1\n",
       "\n",
       "**Future References:** 0\n",
       "\n",
       "---"
      ],
      "text/plain": [
       "<IPython.core.display.Markdown object>"
      ]
     },
     "metadata": {},
     "output_type": "display_data"
    },
    {
     "data": {
      "text/markdown": [
       "### File: the_chair_s1e3_transcript.txt\n",
       "\n",
       "**Sentence Number:** 745\n",
       "\n",
       "**Sentence:** Someone drew a swastika in Brooks Hall yesterday.\n",
       "\n",
       "**Past References:** 1\n",
       "\n",
       "**Future References:** 0\n",
       "\n",
       "---"
      ],
      "text/plain": [
       "<IPython.core.display.Markdown object>"
      ]
     },
     "metadata": {},
     "output_type": "display_data"
    },
    {
     "data": {
      "text/markdown": [
       "### File: the_chair_s1e3_transcript.txt\n",
       "\n",
       "**Sentence Number:** 755\n",
       "\n",
       "**Sentence:** If you are suggesting that what I did\n",
       "\n",
       "is the same as propagating neo-Nazism, that’s inaccurate.\n",
       "\n",
       "**Past References:** 1\n",
       "\n",
       "**Future References:** 0\n",
       "\n",
       "---"
      ],
      "text/plain": [
       "<IPython.core.display.Markdown object>"
      ]
     },
     "metadata": {},
     "output_type": "display_data"
    },
    {
     "data": {
      "text/markdown": [
       "### File: the_chair_s1e3_transcript.txt\n",
       "\n",
       "**Sentence Number:** 756\n",
       "\n",
       "**Sentence:** That is a willful misrecognition of what was clearly…\n",
       "\n",
       "Are you saying we misrecognized a Nazi salute?\n",
       "\n",
       "**Past References:** 1\n",
       "\n",
       "**Future References:** 0\n",
       "\n",
       "---"
      ],
      "text/plain": [
       "<IPython.core.display.Markdown object>"
      ]
     },
     "metadata": {},
     "output_type": "display_data"
    },
    {
     "data": {
      "text/markdown": [
       "### File: the_chair_s1e3_transcript.txt\n",
       "\n",
       "**Sentence Number:** 760\n",
       "\n",
       "**Sentence:** I was trying to say…\n",
       "\n",
       "This is how it always goes.\n",
       "\n",
       "**Past References:** 1\n",
       "\n",
       "**Future References:** 0\n",
       "\n",
       "---"
      ],
      "text/plain": [
       "<IPython.core.display.Markdown object>"
      ]
     },
     "metadata": {},
     "output_type": "display_data"
    },
    {
     "data": {
      "text/markdown": [
       "### File: the_chair_s1e3_transcript.txt\n",
       "\n",
       "**Sentence Number:** 761\n",
       "\n",
       "**Sentence:** You do something that’s objectively fucked up,\n",
       "\n",
       "and then when we call you out on it, we get accused of getting it wrong.\n",
       "\n",
       "**Past References:** 1\n",
       "\n",
       "**Future References:** 0\n",
       "\n",
       "---"
      ],
      "text/plain": [
       "<IPython.core.display.Markdown object>"
      ]
     },
     "metadata": {},
     "output_type": "display_data"
    },
    {
     "data": {
      "text/markdown": [
       "### File: the_chair_s1e3_transcript.txt\n",
       "\n",
       "**Sentence Number:** 762\n",
       "\n",
       "**Sentence:** [students agreeing]\n",
       "\n",
       "I didn’t say anyone was overreacting.\n",
       "\n",
       "**Past References:** 1\n",
       "\n",
       "**Future References:** 0\n",
       "\n",
       "---"
      ],
      "text/plain": [
       "<IPython.core.display.Markdown object>"
      ]
     },
     "metadata": {},
     "output_type": "display_data"
    },
    {
     "data": {
      "text/markdown": [
       "### File: the_chair_s1e3_transcript.txt\n",
       "\n",
       "**Sentence Number:** 763\n",
       "\n",
       "**Sentence:** I was making the case…\n",
       "\n",
       "Are you going to apologize?\n",
       "\n",
       "**Past References:** 1\n",
       "\n",
       "**Future References:** 0\n",
       "\n",
       "---"
      ],
      "text/plain": [
       "<IPython.core.display.Markdown object>"
      ]
     },
     "metadata": {},
     "output_type": "display_data"
    },
    {
     "data": {
      "text/markdown": [
       "### File: the_chair_s1e3_transcript.txt\n",
       "\n",
       "**Sentence Number:** 776\n",
       "\n",
       "**Sentence:** I am sorry if I made anyone feel…\n",
       "\n",
       "[uproar]\n",
       "\n",
       "That’s not an apology.\n",
       "\n",
       "**Past References:** 1\n",
       "\n",
       "**Future References:** 0\n",
       "\n",
       "---"
      ],
      "text/plain": [
       "<IPython.core.display.Markdown object>"
      ]
     },
     "metadata": {},
     "output_type": "display_data"
    },
    {
     "data": {
      "text/markdown": [
       "### File: the_chair_s1e3_transcript.txt\n",
       "\n",
       "**Sentence Number:** 777\n",
       "\n",
       "**Sentence:** If I made you feel…\n",
       "\n",
       "You’re sorry about my feelings.\n",
       "\n",
       "**Past References:** 1\n",
       "\n",
       "**Future References:** 0\n",
       "\n",
       "---"
      ],
      "text/plain": [
       "<IPython.core.display.Markdown object>"
      ]
     },
     "metadata": {},
     "output_type": "display_data"
    },
    {
     "data": {
      "text/markdown": [
       "### File: the_chair_s1e3_transcript.txt\n",
       "\n",
       "**Sentence Number:** 785\n",
       "\n",
       "**Sentence:** I didn’t ask him to be here.\n",
       "\n",
       "**Past References:** 1\n",
       "\n",
       "**Future References:** 1\n",
       "\n",
       "---"
      ],
      "text/plain": [
       "<IPython.core.display.Markdown object>"
      ]
     },
     "metadata": {},
     "output_type": "display_data"
    },
    {
     "data": {
      "text/markdown": [
       "### File: the_chair_s1e3_transcript.txt\n",
       "\n",
       "**Sentence Number:** 787\n",
       "\n",
       "**Sentence:** [student 7] Why didn’t you show up to our town hall last week?\n",
       "\n",
       "**Past References:** 1\n",
       "\n",
       "**Future References:** 0\n",
       "\n",
       "---"
      ],
      "text/plain": [
       "<IPython.core.display.Markdown object>"
      ]
     },
     "metadata": {},
     "output_type": "display_data"
    },
    {
     "data": {
      "text/markdown": [
       "### File: the_chair_s1e3_transcript.txt\n",
       "\n",
       "**Sentence Number:** 789\n",
       "\n",
       "**Sentence:** We hosted a town hall on racial justice literally right here.\n",
       "\n",
       "**Past References:** 1\n",
       "\n",
       "**Future References:** 0\n",
       "\n",
       "---"
      ],
      "text/plain": [
       "<IPython.core.display.Markdown object>"
      ]
     },
     "metadata": {},
     "output_type": "display_data"
    },
    {
     "data": {
      "text/markdown": [
       "### File: the_chair_s1e3_transcript.txt\n",
       "\n",
       "**Sentence Number:** 791\n",
       "\n",
       "**Sentence:** Professor, did you call the police?\n",
       "\n",
       "**Past References:** 1\n",
       "\n",
       "**Future References:** 0\n",
       "\n",
       "---"
      ],
      "text/plain": [
       "<IPython.core.display.Markdown object>"
      ]
     },
     "metadata": {},
     "output_type": "display_data"
    },
    {
     "data": {
      "text/markdown": [
       "### File: the_chair_s1e3_transcript.txt\n",
       "\n",
       "**Sentence Number:** 794\n",
       "\n",
       "**Sentence:** You brought backup.\n",
       "\n",
       "**Past References:** 1\n",
       "\n",
       "**Future References:** 0\n",
       "\n",
       "---"
      ],
      "text/plain": [
       "<IPython.core.display.Markdown object>"
      ]
     },
     "metadata": {},
     "output_type": "display_data"
    },
    {
     "data": {
      "text/markdown": [
       "### File: the_chair_s1e3_transcript.txt\n",
       "\n",
       "**Sentence Number:** 795\n",
       "\n",
       "**Sentence:** I can’t believe you brought them.\n",
       "\n",
       "**Past References:** 1\n",
       "\n",
       "**Future References:** 0\n",
       "\n",
       "---"
      ],
      "text/plain": [
       "<IPython.core.display.Markdown object>"
      ]
     },
     "metadata": {},
     "output_type": "display_data"
    },
    {
     "data": {
      "text/markdown": [
       "### File: the_chair_s1e4_transcript.txt\n",
       "\n",
       "**Sentence Number:** 5\n",
       "\n",
       "**Sentence:** You’re not allowed on campus.\n",
       "\n",
       "**Past References:** 1\n",
       "\n",
       "**Future References:** 0\n",
       "\n",
       "---"
      ],
      "text/plain": [
       "<IPython.core.display.Markdown object>"
      ]
     },
     "metadata": {},
     "output_type": "display_data"
    },
    {
     "data": {
      "text/markdown": [
       "### File: the_chair_s1e4_transcript.txt\n",
       "\n",
       "**Sentence Number:** 8\n",
       "\n",
       "**Sentence:** They had to give something to the students,\n",
       "\n",
       "especially after the altercation with campus police.\n",
       "\n",
       "**Past References:** 1\n",
       "\n",
       "**Future References:** 0\n",
       "\n",
       "---"
      ],
      "text/plain": [
       "<IPython.core.display.Markdown object>"
      ]
     },
     "metadata": {},
     "output_type": "display_data"
    },
    {
     "data": {
      "text/markdown": [
       "### File: the_chair_s1e4_transcript.txt\n",
       "\n",
       "**Sentence Number:** 9\n",
       "\n",
       "**Sentence:** Larson asked them to clear the quad for a fucking donor event.\n",
       "\n",
       "**Past References:** 1\n",
       "\n",
       "**Future References:** 0\n",
       "\n",
       "---"
      ],
      "text/plain": [
       "<IPython.core.display.Markdown object>"
      ]
     },
     "metadata": {},
     "output_type": "display_data"
    },
    {
     "data": {
      "text/markdown": [
       "### File: the_chair_s1e4_transcript.txt\n",
       "\n",
       "**Sentence Number:** 10\n",
       "\n",
       "**Sentence:** Because of that windbag, I’m getting lumped in with campus police?\n",
       "\n",
       "**Past References:** 1\n",
       "\n",
       "**Future References:** 0\n",
       "\n",
       "---"
      ],
      "text/plain": [
       "<IPython.core.display.Markdown object>"
      ]
     },
     "metadata": {},
     "output_type": "display_data"
    },
    {
     "data": {
      "text/markdown": [
       "### File: the_chair_s1e4_transcript.txt\n",
       "\n",
       "**Sentence Number:** 13\n",
       "\n",
       "**Sentence:** Did you make that clear?\n",
       "\n",
       "**Past References:** 1\n",
       "\n",
       "**Future References:** 0\n",
       "\n",
       "---"
      ],
      "text/plain": [
       "<IPython.core.display.Markdown object>"
      ]
     },
     "metadata": {},
     "output_type": "display_data"
    },
    {
     "data": {
      "text/markdown": [
       "### File: the_chair_s1e4_transcript.txt\n",
       "\n",
       "**Sentence Number:** 14\n",
       "\n",
       "**Sentence:** Did you defend me?\n",
       "\n",
       "**Past References:** 1\n",
       "\n",
       "**Future References:** 0\n",
       "\n",
       "---"
      ],
      "text/plain": [
       "<IPython.core.display.Markdown object>"
      ]
     },
     "metadata": {},
     "output_type": "display_data"
    },
    {
     "data": {
      "text/markdown": [
       "### File: the_chair_s1e4_transcript.txt\n",
       "\n",
       "**Sentence Number:** 17\n",
       "\n",
       "**Sentence:** Do you know what I’ve been dealing with?\n",
       "\n",
       "**Past References:** 1\n",
       "\n",
       "**Future References:** 0\n",
       "\n",
       "---"
      ],
      "text/plain": [
       "<IPython.core.display.Markdown object>"
      ]
     },
     "metadata": {},
     "output_type": "display_data"
    },
    {
     "data": {
      "text/markdown": [
       "### File: the_chair_s1e4_transcript.txt\n",
       "\n",
       "**Sentence Number:** 28\n",
       "\n",
       "**Sentence:** but they’re putting together a disciplinary hearing,\n",
       "\n",
       "and you have to write an apology that can be disseminated.\n",
       "\n",
       "**Past References:** 1\n",
       "\n",
       "**Future References:** 0\n",
       "\n",
       "---"
      ],
      "text/plain": [
       "<IPython.core.display.Markdown object>"
      ]
     },
     "metadata": {},
     "output_type": "display_data"
    },
    {
     "data": {
      "text/markdown": [
       "### File: the_chair_s1e4_transcript.txt\n",
       "\n",
       "**Sentence Number:** 38\n",
       "\n",
       "**Sentence:** [classical music playing]\n",
       "\n",
       "You’re both suspended.\n",
       "\n",
       "**Past References:** 1\n",
       "\n",
       "**Future References:** 0\n",
       "\n",
       "---"
      ],
      "text/plain": [
       "<IPython.core.display.Markdown object>"
      ]
     },
     "metadata": {},
     "output_type": "display_data"
    },
    {
     "data": {
      "text/markdown": [
       "### File: the_chair_s1e4_transcript.txt\n",
       "\n",
       "**Sentence Number:** 41\n",
       "\n",
       "**Sentence:** [groans]\n",
       "\n",
       "Ju Ju, you will apologize to Adin.\n",
       "\n",
       "**Past References:** 0\n",
       "\n",
       "**Future References:** 1\n",
       "\n",
       "---"
      ],
      "text/plain": [
       "<IPython.core.display.Markdown object>"
      ]
     },
     "metadata": {},
     "output_type": "display_data"
    },
    {
     "data": {
      "text/markdown": [
       "### File: the_chair_s1e4_transcript.txt\n",
       "\n",
       "**Sentence Number:** 43\n",
       "\n",
       "**Sentence:** Bill, you will apologize… to everyone.\n",
       "\n",
       "**Past References:** 0\n",
       "\n",
       "**Future References:** 1\n",
       "\n",
       "---"
      ],
      "text/plain": [
       "<IPython.core.display.Markdown object>"
      ]
     },
     "metadata": {},
     "output_type": "display_data"
    },
    {
     "data": {
      "text/markdown": [
       "### File: the_chair_s1e4_transcript.txt\n",
       "\n",
       "**Sentence Number:** 48\n",
       "\n",
       "**Sentence:** For next time, everyone needs to come having finished “The Pardoner’s Tale.”\n",
       "\n",
       "**Past References:** 1\n",
       "\n",
       "**Future References:** 0\n",
       "\n",
       "---"
      ],
      "text/plain": [
       "<IPython.core.display.Markdown object>"
      ]
     },
     "metadata": {},
     "output_type": "display_data"
    },
    {
     "data": {
      "text/markdown": [
       "### File: the_chair_s1e4_transcript.txt\n",
       "\n",
       "**Sentence Number:** 53\n",
       "\n",
       "**Sentence:** I was able to do that thing we talked about.\n",
       "\n",
       "**Past References:** 1\n",
       "\n",
       "**Future References:** 0\n",
       "\n",
       "---"
      ],
      "text/plain": [
       "<IPython.core.display.Markdown object>"
      ]
     },
     "metadata": {},
     "output_type": "display_data"
    },
    {
     "data": {
      "text/markdown": [
       "### File: the_chair_s1e4_transcript.txt\n",
       "\n",
       "**Sentence Number:** 54\n",
       "\n",
       "**Sentence:** I didn’t think you were really…\n",
       "\n",
       "**Past References:** 1\n",
       "\n",
       "**Future References:** 0\n",
       "\n",
       "---"
      ],
      "text/plain": [
       "<IPython.core.display.Markdown object>"
      ]
     },
     "metadata": {},
     "output_type": "display_data"
    },
    {
     "data": {
      "text/markdown": [
       "### File: the_chair_s1e4_transcript.txt\n",
       "\n",
       "**Sentence Number:** 55\n",
       "\n",
       "**Sentence:** I was joking.\n",
       "\n",
       "**Past References:** 1\n",
       "\n",
       "**Future References:** 0\n",
       "\n",
       "---"
      ],
      "text/plain": [
       "<IPython.core.display.Markdown object>"
      ]
     },
     "metadata": {},
     "output_type": "display_data"
    },
    {
     "data": {
      "text/markdown": [
       "### File: the_chair_s1e4_transcript.txt\n",
       "\n",
       "**Sentence Number:** 56\n",
       "\n",
       "**Sentence:** I thought you were pretending to joke but were actually serious.\n",
       "\n",
       "**Past References:** 1\n",
       "\n",
       "**Future References:** 0\n",
       "\n",
       "---"
      ],
      "text/plain": [
       "<IPython.core.display.Markdown object>"
      ]
     },
     "metadata": {},
     "output_type": "display_data"
    },
    {
     "data": {
      "text/markdown": [
       "### File: the_chair_s1e4_transcript.txt\n",
       "\n",
       "**Sentence Number:** 58\n",
       "\n",
       "**Sentence:** I didn’t joke we should kill him.\n",
       "\n",
       "**Past References:** 1\n",
       "\n",
       "**Future References:** 0\n",
       "\n",
       "---"
      ],
      "text/plain": [
       "<IPython.core.display.Markdown object>"
      ]
     },
     "metadata": {},
     "output_type": "display_data"
    },
    {
     "data": {
      "text/markdown": [
       "### File: the_chair_s1e4_transcript.txt\n",
       "\n",
       "**Sentence Number:** 61\n",
       "\n",
       "**Sentence:** So you tracked him down?\n",
       "\n",
       "**Past References:** 1\n",
       "\n",
       "**Future References:** 0\n",
       "\n",
       "---"
      ],
      "text/plain": [
       "<IPython.core.display.Markdown object>"
      ]
     },
     "metadata": {},
     "output_type": "display_data"
    },
    {
     "data": {
      "text/markdown": [
       "### File: the_chair_s1e4_transcript.txt\n",
       "\n",
       "**Sentence Number:** 63\n",
       "\n",
       "**Sentence:** But I was able to hack into the Rate\n",
       "\n",
       "**Past References:** 1\n",
       "\n",
       "**Future References:** 0\n",
       "\n",
       "---"
      ],
      "text/plain": [
       "<IPython.core.display.Markdown object>"
      ]
     },
     "metadata": {},
     "output_type": "display_data"
    },
    {
     "data": {
      "text/markdown": [
       "### File: the_chair_s1e4_transcript.txt\n",
       "\n",
       "**Sentence Number:** 66\n",
       "\n",
       "**Sentence:** No, I can’t even be tangentially connected\n",
       "\n",
       "to anything that might seem improper conduct or illegal.\n",
       "\n",
       "**Past References:** 1\n",
       "\n",
       "**Future References:** 0\n",
       "\n",
       "---"
      ],
      "text/plain": [
       "<IPython.core.display.Markdown object>"
      ]
     },
     "metadata": {},
     "output_type": "display_data"
    },
    {
     "data": {
      "text/markdown": [
       "### File: the_chair_s1e4_transcript.txt\n",
       "\n",
       "**Sentence Number:** 74\n",
       "\n",
       "**Sentence:** It was posted twice from the Humanities Library,\n",
       "\n",
       "both times between 5:00 p.m. and 6:00 p.m.\n",
       "\n",
       "EffThisClass223?\n",
       "\n",
       "**Past References:** 1\n",
       "\n",
       "**Future References:** 0\n",
       "\n",
       "---"
      ],
      "text/plain": [
       "<IPython.core.display.Markdown object>"
      ]
     },
     "metadata": {},
     "output_type": "display_data"
    },
    {
     "data": {
      "text/markdown": [
       "### File: the_chair_s1e4_transcript.txt\n",
       "\n",
       "**Sentence Number:** 78\n",
       "\n",
       "**Sentence:** If he posts again, and, say, we were at the library…\n",
       "\n",
       "**Past References:** 1\n",
       "\n",
       "**Future References:** 0\n",
       "\n",
       "---"
      ],
      "text/plain": [
       "<IPython.core.display.Markdown object>"
      ]
     },
     "metadata": {},
     "output_type": "display_data"
    },
    {
     "data": {
      "text/markdown": [
       "### File: the_chair_s1e4_transcript.txt\n",
       "\n",
       "**Sentence Number:** 84\n",
       "\n",
       "**Sentence:** “Destroy him,” Joan said jokingly,\n",
       "\n",
       "when that’s exactly what she was planning to do.\n",
       "\n",
       "**Past References:** 1\n",
       "\n",
       "**Future References:** 0\n",
       "\n",
       "---"
      ],
      "text/plain": [
       "<IPython.core.display.Markdown object>"
      ]
     },
     "metadata": {},
     "output_type": "display_data"
    },
    {
     "data": {
      "text/markdown": [
       "### File: the_chair_s1e4_transcript.txt\n",
       "\n",
       "**Sentence Number:** 87\n",
       "\n",
       "**Sentence:** I left you a few messages.\n",
       "\n",
       "**Past References:** 1\n",
       "\n",
       "**Future References:** 0\n",
       "\n",
       "---"
      ],
      "text/plain": [
       "<IPython.core.display.Markdown object>"
      ]
     },
     "metadata": {},
     "output_type": "display_data"
    },
    {
     "data": {
      "text/markdown": [
       "### File: the_chair_s1e4_transcript.txt\n",
       "\n",
       "**Sentence Number:** 100\n",
       "\n",
       "**Sentence:** What made you pursue Bill Dobson as a mentor in the first place?\n",
       "\n",
       "**Past References:** 1\n",
       "\n",
       "**Future References:** 0\n",
       "\n",
       "---"
      ],
      "text/plain": [
       "<IPython.core.display.Markdown object>"
      ]
     },
     "metadata": {},
     "output_type": "display_data"
    },
    {
     "data": {
      "text/markdown": [
       "### File: the_chair_s1e4_transcript.txt\n",
       "\n",
       "**Sentence Number:** 104\n",
       "\n",
       "**Sentence:** The chair of my department gave me an earful\n",
       "\n",
       "about not talking to anyone about this.\n",
       "\n",
       "**Past References:** 1\n",
       "\n",
       "**Future References:** 0\n",
       "\n",
       "---"
      ],
      "text/plain": [
       "<IPython.core.display.Markdown object>"
      ]
     },
     "metadata": {},
     "output_type": "display_data"
    },
    {
     "data": {
      "text/markdown": [
       "### File: the_chair_s1e4_transcript.txt\n",
       "\n",
       "**Sentence Number:** 111\n",
       "\n",
       "**Sentence:** Because you don’t like ’em, or you never tried ’em?\n",
       "\n",
       "**Past References:** 1\n",
       "\n",
       "**Future References:** 0\n",
       "\n",
       "---"
      ],
      "text/plain": [
       "<IPython.core.display.Markdown object>"
      ]
     },
     "metadata": {},
     "output_type": "display_data"
    },
    {
     "data": {
      "text/markdown": [
       "### File: the_chair_s1e4_transcript.txt\n",
       "\n",
       "**Sentence Number:** 119\n",
       "\n",
       "**Sentence:** Uh, Professor Kim, you got a sec?\n",
       "\n",
       "**Past References:** 1\n",
       "\n",
       "**Future References:** 0\n",
       "\n",
       "---"
      ],
      "text/plain": [
       "<IPython.core.display.Markdown object>"
      ]
     },
     "metadata": {},
     "output_type": "display_data"
    },
    {
     "data": {
      "text/markdown": [
       "### File: the_chair_s1e4_transcript.txt\n",
       "\n",
       "**Sentence Number:** 128\n",
       "\n",
       "**Sentence:** What’s up?\n",
       "\n",
       "**Past References:** 1\n",
       "\n",
       "**Future References:** 0\n",
       "\n",
       "---"
      ],
      "text/plain": [
       "<IPython.core.display.Markdown object>"
      ]
     },
     "metadata": {},
     "output_type": "display_data"
    },
    {
     "data": {
      "text/markdown": [
       "### File: the_chair_s1e4_transcript.txt\n",
       "\n",
       "**Sentence Number:** 130\n",
       "\n",
       "**Sentence:** Poli Sci just denied tenure to the only person of color in their department.\n",
       "\n",
       "**Past References:** 1\n",
       "\n",
       "**Future References:** 0\n",
       "\n",
       "---"
      ],
      "text/plain": [
       "<IPython.core.display.Markdown object>"
      ]
     },
     "metadata": {},
     "output_type": "display_data"
    },
    {
     "data": {
      "text/markdown": [
       "### File: the_chair_s1e4_transcript.txt\n",
       "\n",
       "**Sentence Number:** 133\n",
       "\n",
       "**Sentence:** Black faculty are held to different standards.\n",
       "\n",
       "**Past References:** 1\n",
       "\n",
       "**Future References:** 0\n",
       "\n",
       "---"
      ],
      "text/plain": [
       "<IPython.core.display.Markdown object>"
      ]
     },
     "metadata": {},
     "output_type": "display_data"
    },
    {
     "data": {
      "text/markdown": [
       "### File: the_chair_s1e4_transcript.txt\n",
       "\n",
       "**Sentence Number:** 135\n",
       "\n",
       "**Sentence:** Their research isn’t considered rigorous.\n",
       "\n",
       "**Past References:** 1\n",
       "\n",
       "**Future References:** 0\n",
       "\n",
       "---"
      ],
      "text/plain": [
       "<IPython.core.display.Markdown object>"
      ]
     },
     "metadata": {},
     "output_type": "display_data"
    },
    {
     "data": {
      "text/markdown": [
       "### File: the_chair_s1e4_transcript.txt\n",
       "\n",
       "**Sentence Number:** 137\n",
       "\n",
       "**Sentence:** They’re assumed to be more disorganized, less collegial.\n",
       "\n",
       "**Past References:** 1\n",
       "\n",
       "**Future References:** 1\n",
       "\n",
       "---"
      ],
      "text/plain": [
       "<IPython.core.display.Markdown object>"
      ]
     },
     "metadata": {},
     "output_type": "display_data"
    },
    {
     "data": {
      "text/markdown": [
       "### File: the_chair_s1e4_transcript.txt\n",
       "\n",
       "**Sentence Number:** 140\n",
       "\n",
       "**Sentence:** They get invited less often to their colleagues’ houses for dinner.\n",
       "\n",
       "**Past References:** 1\n",
       "\n",
       "**Future References:** 0\n",
       "\n",
       "---"
      ],
      "text/plain": [
       "<IPython.core.display.Markdown object>"
      ]
     },
     "metadata": {},
     "output_type": "display_data"
    },
    {
     "data": {
      "text/markdown": [
       "### File: the_chair_s1e4_transcript.txt\n",
       "\n",
       "**Sentence Number:** 143\n",
       "\n",
       "**Sentence:** This is a letter signed by 320 students about the impact Professor McKay has had.\n",
       "\n",
       "**Past References:** 1\n",
       "\n",
       "**Future References:** 0\n",
       "\n",
       "---"
      ],
      "text/plain": [
       "<IPython.core.display.Markdown object>"
      ]
     },
     "metadata": {},
     "output_type": "display_data"
    },
    {
     "data": {
      "text/markdown": [
       "### File: the_chair_s1e4_transcript.txt\n",
       "\n",
       "**Sentence Number:** 145\n",
       "\n",
       "**Sentence:** The way she’s supported students of color.\n",
       "\n",
       "**Past References:** 1\n",
       "\n",
       "**Future References:** 0\n",
       "\n",
       "---"
      ],
      "text/plain": [
       "<IPython.core.display.Markdown object>"
      ]
     },
     "metadata": {},
     "output_type": "display_data"
    },
    {
     "data": {
      "text/markdown": [
       "### File: the_chair_s1e4_transcript.txt\n",
       "\n",
       "**Sentence Number:** 146\n",
       "\n",
       "**Sentence:** If she is denied tenure, we plan to take action.\n",
       "\n",
       "**Past References:** 1\n",
       "\n",
       "**Future References:** 0\n",
       "\n",
       "---"
      ],
      "text/plain": [
       "<IPython.core.display.Markdown object>"
      ]
     },
     "metadata": {},
     "output_type": "display_data"
    },
    {
     "data": {
      "text/markdown": [
       "### File: the_chair_s1e4_transcript.txt\n",
       "\n",
       "**Sentence Number:** 149\n",
       "\n",
       "**Sentence:** [Larson] I lost a little weight, so I had this taken in,\n",
       "\n",
       "but look what they did to the sleeves.\n",
       "\n",
       "**Past References:** 1\n",
       "\n",
       "**Future References:** 0\n",
       "\n",
       "---"
      ],
      "text/plain": [
       "<IPython.core.display.Markdown object>"
      ]
     },
     "metadata": {},
     "output_type": "display_data"
    },
    {
     "data": {
      "text/markdown": [
       "### File: the_chair_s1e4_transcript.txt\n",
       "\n",
       "**Sentence Number:** 150\n",
       "\n",
       "**Sentence:** I mean, this isn’t bell-shaped, this is oblong.\n",
       "\n",
       "**Past References:** 1\n",
       "\n",
       "**Future References:** 0\n",
       "\n",
       "---"
      ],
      "text/plain": [
       "<IPython.core.display.Markdown object>"
      ]
     },
     "metadata": {},
     "output_type": "display_data"
    },
    {
     "data": {
      "text/markdown": [
       "### File: the_chair_s1e4_transcript.txt\n",
       "\n",
       "**Sentence Number:** 168\n",
       "\n",
       "**Sentence:** The flipped classroom…\n",
       "\n",
       "**Past References:** 1\n",
       "\n",
       "**Future References:** 0\n",
       "\n",
       "---"
      ],
      "text/plain": [
       "<IPython.core.display.Markdown object>"
      ]
     },
     "metadata": {},
     "output_type": "display_data"
    },
    {
     "data": {
      "text/markdown": [
       "### File: the_chair_s1e4_transcript.txt\n",
       "\n",
       "**Sentence Number:** 169\n",
       "\n",
       "**Sentence:** Well, I believe a specimen of that will be on display in today’s seminar.\n",
       "\n",
       "**Past References:** 0\n",
       "\n",
       "**Future References:** 1\n",
       "\n",
       "---"
      ],
      "text/plain": [
       "<IPython.core.display.Markdown object>"
      ]
     },
     "metadata": {},
     "output_type": "display_data"
    },
    {
     "data": {
      "text/markdown": [
       "### File: the_chair_s1e4_transcript.txt\n",
       "\n",
       "**Sentence Number:** 174\n",
       "\n",
       "**Sentence:** That’s more than all of us put together.\n",
       "\n",
       "**Past References:** 1\n",
       "\n",
       "**Future References:** 0\n",
       "\n",
       "---"
      ],
      "text/plain": [
       "<IPython.core.display.Markdown object>"
      ]
     },
     "metadata": {},
     "output_type": "display_data"
    },
    {
     "data": {
      "text/markdown": [
       "### File: the_chair_s1e4_transcript.txt\n",
       "\n",
       "**Sentence Number:** 176\n",
       "\n",
       "**Sentence:** You know who judged himself by the number of his followers?\n",
       "\n",
       "**Past References:** 1\n",
       "\n",
       "**Future References:** 0\n",
       "\n",
       "---"
      ],
      "text/plain": [
       "<IPython.core.display.Markdown object>"
      ]
     },
     "metadata": {},
     "output_type": "display_data"
    },
    {
     "data": {
      "text/markdown": [
       "### File: the_chair_s1e4_transcript.txt\n",
       "\n",
       "**Sentence Number:** 181\n",
       "\n",
       "**Sentence:** Jesus only had 12 followers.\n",
       "\n",
       "**Past References:** 1\n",
       "\n",
       "**Future References:** 0\n",
       "\n",
       "---"
      ],
      "text/plain": [
       "<IPython.core.display.Markdown object>"
      ]
     },
     "metadata": {},
     "output_type": "display_data"
    },
    {
     "data": {
      "text/markdown": [
       "### File: the_chair_s1e4_transcript.txt\n",
       "\n",
       "**Sentence Number:** 183\n",
       "\n",
       "**Sentence:** Because of her, our students are excited\n",
       "\n",
       "about literature that was written 150 years ago.\n",
       "\n",
       "**Past References:** 1\n",
       "\n",
       "**Future References:** 0\n",
       "\n",
       "---"
      ],
      "text/plain": [
       "<IPython.core.display.Markdown object>"
      ]
     },
     "metadata": {},
     "output_type": "display_data"
    },
    {
     "data": {
      "text/markdown": [
       "### File: the_chair_s1e4_transcript.txt\n",
       "\n",
       "**Sentence Number:** 187\n",
       "\n",
       "**Sentence:** You sure settled into that role.\n",
       "\n",
       "**Past References:** 1\n",
       "\n",
       "**Future References:** 0\n",
       "\n",
       "---"
      ],
      "text/plain": [
       "<IPython.core.display.Markdown object>"
      ]
     },
     "metadata": {},
     "output_type": "display_data"
    },
    {
     "data": {
      "text/markdown": [
       "### File: the_chair_s1e4_transcript.txt\n",
       "\n",
       "**Sentence Number:** 194\n",
       "\n",
       "**Sentence:** [typing]\n",
       "\n",
       "You still got a top-notch rear end.\n",
       "\n",
       "**Past References:** 1\n",
       "\n",
       "**Future References:** 0\n",
       "\n",
       "---"
      ],
      "text/plain": [
       "<IPython.core.display.Markdown object>"
      ]
     },
     "metadata": {},
     "output_type": "display_data"
    },
    {
     "data": {
      "text/markdown": [
       "### File: the_chair_s1e4_transcript.txt\n",
       "\n",
       "**Sentence Number:** 209\n",
       "\n",
       "**Sentence:** [students laughing]\n",
       "\n",
       "“All the morning long, I squeezed that sperm\n",
       "\n",
       "till I myself almost melted into it.”\n",
       "\n",
       "**Past References:** 1\n",
       "\n",
       "**Future References:** 0\n",
       "\n",
       "---"
      ],
      "text/plain": [
       "<IPython.core.display.Markdown object>"
      ]
     },
     "metadata": {},
     "output_type": "display_data"
    },
    {
     "data": {
      "text/markdown": [
       "### File: the_chair_s1e4_transcript.txt\n",
       "\n",
       "**Sentence Number:** 212\n",
       "\n",
       "**Sentence:** [laughs]\n",
       "\n",
       "[student 4] “I squeezed that sperm\n",
       "\n",
       "till a strange sort of insanity came over me.”\n",
       "\n",
       "**Past References:** 1\n",
       "\n",
       "**Future References:** 0\n",
       "\n",
       "---"
      ],
      "text/plain": [
       "<IPython.core.display.Markdown object>"
      ]
     },
     "metadata": {},
     "output_type": "display_data"
    },
    {
     "data": {
      "text/markdown": [
       "### File: the_chair_s1e4_transcript.txt\n",
       "\n",
       "**Sentence Number:** 213\n",
       "\n",
       "**Sentence:** [students cheering, laughing]\n",
       "\n",
       "[student] ♪ Yeah ♪\n",
       "\n",
       "♪ Mates and harpooners All part of the crew ♪\n",
       "\n",
       "♪ Bulkington gone in a blaze of glory ♪\n",
       "\n",
       "♪\n",
       "\n",
       "**Past References:** 1\n",
       "\n",
       "**Future References:** 0\n",
       "\n",
       "---"
      ],
      "text/plain": [
       "<IPython.core.display.Markdown object>"
      ]
     },
     "metadata": {},
     "output_type": "display_data"
    },
    {
     "data": {
      "text/markdown": [
       "### File: the_chair_s1e4_transcript.txt\n",
       "\n",
       "**Sentence Number:** 220\n",
       "\n",
       "**Sentence:** A literary movement controlled by men ♪\n",
       "\n",
       "♪\n",
       "\n",
       "**Past References:** 1\n",
       "\n",
       "**Future References:** 0\n",
       "\n",
       "---"
      ],
      "text/plain": [
       "<IPython.core.display.Markdown object>"
      ]
     },
     "metadata": {},
     "output_type": "display_data"
    },
    {
     "data": {
      "text/markdown": [
       "### File: the_chair_s1e4_transcript.txt\n",
       "\n",
       "**Sentence Number:** 225\n",
       "\n",
       "**Sentence:** No women on board ♪\n",
       "\n",
       "[all applauding, cheering]\n",
       "\n",
       "“I am sorry I made you think I like Hitler,\n",
       "\n",
       "\n",
       "because I do not.”\n",
       "\n",
       "**Past References:** 1\n",
       "\n",
       "**Future References:** 0\n",
       "\n",
       "---"
      ],
      "text/plain": [
       "<IPython.core.display.Markdown object>"
      ]
     },
     "metadata": {},
     "output_type": "display_data"
    },
    {
     "data": {
      "text/markdown": [
       "### File: the_chair_s1e4_transcript.txt\n",
       "\n",
       "**Sentence Number:** 226\n",
       "\n",
       "**Sentence:** “I know he is the worst person who ever lived.”\n",
       "\n",
       "**Past References:** 1\n",
       "\n",
       "**Future References:** 0\n",
       "\n",
       "---"
      ],
      "text/plain": [
       "<IPython.core.display.Markdown object>"
      ]
     },
     "metadata": {},
     "output_type": "display_data"
    },
    {
     "data": {
      "text/markdown": [
       "### File: the_chair_s1e4_transcript.txt\n",
       "\n",
       "**Sentence Number:** 231\n",
       "\n",
       "**Sentence:** “I understand that biting is never allowed,\n",
       "\n",
       "even if the person asks.”\n",
       "\n",
       "**Past References:** 1\n",
       "\n",
       "**Future References:** 0\n",
       "\n",
       "---"
      ],
      "text/plain": [
       "<IPython.core.display.Markdown object>"
      ]
     },
     "metadata": {},
     "output_type": "display_data"
    },
    {
     "data": {
      "text/markdown": [
       "### File: the_chair_s1e4_transcript.txt\n",
       "\n",
       "**Sentence Number:** 232\n",
       "\n",
       "**Sentence:** “You are my friend, and we used to like playing together at recess.”\n",
       "\n",
       "**Past References:** 1\n",
       "\n",
       "**Future References:** 0\n",
       "\n",
       "---"
      ],
      "text/plain": [
       "<IPython.core.display.Markdown object>"
      ]
     },
     "metadata": {},
     "output_type": "display_data"
    },
    {
     "data": {
      "text/markdown": [
       "### File: the_chair_s1e4_transcript.txt\n",
       "\n",
       "**Sentence Number:** 235\n",
       "\n",
       "**Sentence:** “Signed, Ju-Hee Kim.”\n",
       "\n",
       "**Past References:** 1\n",
       "\n",
       "**Future References:** 0\n",
       "\n",
       "---"
      ],
      "text/plain": [
       "<IPython.core.display.Markdown object>"
      ]
     },
     "metadata": {},
     "output_type": "display_data"
    },
    {
     "data": {
      "text/markdown": [
       "### File: the_chair_s1e4_transcript.txt\n",
       "\n",
       "**Sentence Number:** 239\n",
       "\n",
       "**Sentence:** It was your grandmother’s name.\n",
       "\n",
       "**Past References:** 1\n",
       "\n",
       "**Future References:** 0\n",
       "\n",
       "---"
      ],
      "text/plain": [
       "<IPython.core.display.Markdown object>"
      ]
     },
     "metadata": {},
     "output_type": "display_data"
    },
    {
     "data": {
      "text/markdown": [
       "### File: the_chair_s1e4_transcript.txt\n",
       "\n",
       "**Sentence Number:** 247\n",
       "\n",
       "**Sentence:** Your mom named you after her mom.\n",
       "\n",
       "**Past References:** 1\n",
       "\n",
       "**Future References:** 0\n",
       "\n",
       "---"
      ],
      "text/plain": [
       "<IPython.core.display.Markdown object>"
      ]
     },
     "metadata": {},
     "output_type": "display_data"
    },
    {
     "data": {
      "text/markdown": [
       "### File: the_chair_s1e4_transcript.txt\n",
       "\n",
       "**Sentence Number:** 261\n",
       "\n",
       "**Sentence:** Whittenden picked this.\n",
       "\n",
       "**Past References:** 1\n",
       "\n",
       "**Future References:** 0\n",
       "\n",
       "---"
      ],
      "text/plain": [
       "<IPython.core.display.Markdown object>"
      ]
     },
     "metadata": {},
     "output_type": "display_data"
    },
    {
     "data": {
      "text/markdown": [
       "### File: the_chair_s1e4_transcript.txt\n",
       "\n",
       "**Sentence Number:** 266\n",
       "\n",
       "**Sentence:** And she thought that you should get started right away.\n",
       "\n",
       "**Past References:** 1\n",
       "\n",
       "**Future References:** 0\n",
       "\n",
       "---"
      ],
      "text/plain": [
       "<IPython.core.display.Markdown object>"
      ]
     },
     "metadata": {},
     "output_type": "display_data"
    },
    {
     "data": {
      "text/markdown": [
       "### File: the_chair_s1e4_transcript.txt\n",
       "\n",
       "**Sentence Number:** 271\n",
       "\n",
       "**Sentence:** And David has graciously agreed to take over Bill’s class.\n",
       "\n",
       "**Past References:** 1\n",
       "\n",
       "**Future References:** 0\n",
       "\n",
       "---"
      ],
      "text/plain": [
       "<IPython.core.display.Markdown object>"
      ]
     },
     "metadata": {},
     "output_type": "display_data"
    },
    {
     "data": {
      "text/markdown": [
       "### File: the_chair_s1e4_transcript.txt\n",
       "\n",
       "**Sentence Number:** 278\n",
       "\n",
       "**Sentence:** David will need Bill’s syllabus, lecture notes.\n",
       "\n",
       "**Past References:** 0\n",
       "\n",
       "**Future References:** 1\n",
       "\n",
       "---"
      ],
      "text/plain": [
       "<IPython.core.display.Markdown object>"
      ]
     },
     "metadata": {},
     "output_type": "display_data"
    },
    {
     "data": {
      "text/markdown": [
       "### File: the_chair_s1e4_transcript.txt\n",
       "\n",
       "**Sentence Number:** 281\n",
       "\n",
       "**Sentence:** He specifically asked for them so he could pick up where Bill left off.\n",
       "\n",
       "**Past References:** 1\n",
       "\n",
       "**Future References:** 0\n",
       "\n",
       "---"
      ],
      "text/plain": [
       "<IPython.core.display.Markdown object>"
      ]
     },
     "metadata": {},
     "output_type": "display_data"
    },
    {
     "data": {
      "text/markdown": [
       "### File: the_chair_s1e4_transcript.txt\n",
       "\n",
       "**Sentence Number:** 285\n",
       "\n",
       "**Sentence:** When you were on maternity leave, you passed on your class…\n",
       "\n",
       "That is different.\n",
       "\n",
       "**Past References:** 1\n",
       "\n",
       "**Future References:** 0\n",
       "\n",
       "---"
      ],
      "text/plain": [
       "<IPython.core.display.Markdown object>"
      ]
     },
     "metadata": {},
     "output_type": "display_data"
    },
    {
     "data": {
      "text/markdown": [
       "### File: the_chair_s1e4_transcript.txt\n",
       "\n",
       "**Sentence Number:** 288\n",
       "\n",
       "**Sentence:** David is willing to pinch hit for Bill.\n",
       "\n",
       "**Past References:** 1\n",
       "\n",
       "**Future References:** 0\n",
       "\n",
       "---"
      ],
      "text/plain": [
       "<IPython.core.display.Markdown object>"
      ]
     },
     "metadata": {},
     "output_type": "display_data"
    },
    {
     "data": {
      "text/markdown": [
       "### File: the_chair_s1e4_transcript.txt\n",
       "\n",
       "**Sentence Number:** 293\n",
       "\n",
       "**Sentence:** Bill was a popular teacher.\n",
       "\n",
       "**Past References:** 1\n",
       "\n",
       "**Future References:** 0\n",
       "\n",
       "---"
      ],
      "text/plain": [
       "<IPython.core.display.Markdown object>"
      ]
     },
     "metadata": {},
     "output_type": "display_data"
    },
    {
     "data": {
      "text/markdown": [
       "### File: the_chair_s1e4_transcript.txt\n",
       "\n",
       "**Sentence Number:** 295\n",
       "\n",
       "**Sentence:** But we need to be…\n",
       "\n",
       "Wait, “was”?\n",
       "\n",
       "**Past References:** 1\n",
       "\n",
       "**Future References:** 1\n",
       "\n",
       "---"
      ],
      "text/plain": [
       "<IPython.core.display.Markdown object>"
      ]
     },
     "metadata": {},
     "output_type": "display_data"
    },
    {
     "data": {
      "text/markdown": [
       "### File: the_chair_s1e4_transcript.txt\n",
       "\n",
       "**Sentence Number:** 314\n",
       "\n",
       "**Sentence:** I was gonna give her my Beckett and suicide lecture.\n",
       "\n",
       "**Past References:** 1\n",
       "\n",
       "**Future References:** 0\n",
       "\n",
       "---"
      ],
      "text/plain": [
       "<IPython.core.display.Markdown object>"
      ]
     },
     "metadata": {},
     "output_type": "display_data"
    },
    {
     "data": {
      "text/markdown": [
       "### File: the_chair_s1e4_transcript.txt\n",
       "\n",
       "**Sentence Number:** 321\n",
       "\n",
       "**Sentence:** This is called food.\n",
       "\n",
       "**Past References:** 1\n",
       "\n",
       "**Future References:** 0\n",
       "\n",
       "---"
      ],
      "text/plain": [
       "<IPython.core.display.Markdown object>"
      ]
     },
     "metadata": {},
     "output_type": "display_data"
    },
    {
     "data": {
      "text/markdown": [
       "### File: the_chair_s1e4_transcript.txt\n",
       "\n",
       "**Sentence Number:** 328\n",
       "\n",
       "**Sentence:** Your mom came home.\n",
       "\n",
       "**Past References:** 1\n",
       "\n",
       "**Future References:** 0\n",
       "\n",
       "---"
      ],
      "text/plain": [
       "<IPython.core.display.Markdown object>"
      ]
     },
     "metadata": {},
     "output_type": "display_data"
    },
    {
     "data": {
      "text/markdown": [
       "### File: the_chair_s1e4_transcript.txt\n",
       "\n",
       "**Sentence Number:** 329\n",
       "\n",
       "**Sentence:** I wanted her to eat.\n",
       "\n",
       "**Past References:** 1\n",
       "\n",
       "**Future References:** 0\n",
       "\n",
       "---"
      ],
      "text/plain": [
       "<IPython.core.display.Markdown object>"
      ]
     },
     "metadata": {},
     "output_type": "display_data"
    },
    {
     "data": {
      "text/markdown": [
       "### File: the_chair_s1e4_transcript.txt\n",
       "\n",
       "**Sentence Number:** 343\n",
       "\n",
       "**Sentence:** [grunts]\n",
       "\n",
       "I thought you were asleep.\n",
       "\n",
       "**Past References:** 1\n",
       "\n",
       "**Future References:** 0\n",
       "\n",
       "---"
      ],
      "text/plain": [
       "<IPython.core.display.Markdown object>"
      ]
     },
     "metadata": {},
     "output_type": "display_data"
    },
    {
     "data": {
      "text/markdown": [
       "### File: the_chair_s1e4_transcript.txt\n",
       "\n",
       "**Sentence Number:** 346\n",
       "\n",
       "**Sentence:** I was tricking you.\n",
       "\n",
       "**Past References:** 1\n",
       "\n",
       "**Future References:** 0\n",
       "\n",
       "---"
      ],
      "text/plain": [
       "<IPython.core.display.Markdown object>"
      ]
     },
     "metadata": {},
     "output_type": "display_data"
    },
    {
     "data": {
      "text/markdown": [
       "### File: the_chair_s1e4_transcript.txt\n",
       "\n",
       "**Sentence Number:** 358\n",
       "\n",
       "**Sentence:** They turned you down for tenure, and you were the best we had.\n",
       "\n",
       "**Past References:** 1\n",
       "\n",
       "**Future References:** 0\n",
       "\n",
       "---"
      ],
      "text/plain": [
       "<IPython.core.display.Markdown object>"
      ]
     },
     "metadata": {},
     "output_type": "display_data"
    },
    {
     "data": {
      "text/markdown": [
       "### File: the_chair_s1e4_transcript.txt\n",
       "\n",
       "**Sentence Number:** 359\n",
       "\n",
       "**Sentence:** Because I was expected to write a book when I was busy raising three kids.\n",
       "\n",
       "**Past References:** 1\n",
       "\n",
       "**Future References:** 0\n",
       "\n",
       "---"
      ],
      "text/plain": [
       "<IPython.core.display.Markdown object>"
      ]
     },
     "metadata": {},
     "output_type": "display_data"
    },
    {
     "data": {
      "text/markdown": [
       "### File: the_chair_s1e4_transcript.txt\n",
       "\n",
       "**Sentence Number:** 360\n",
       "\n",
       "**Sentence:** They should’ve stopped your tenure clock.\n",
       "\n",
       "**Past References:** 1\n",
       "\n",
       "**Future References:** 0\n",
       "\n",
       "---"
      ],
      "text/plain": [
       "<IPython.core.display.Markdown object>"
      ]
     },
     "metadata": {},
     "output_type": "display_data"
    },
    {
     "data": {
      "text/markdown": [
       "### File: the_chair_s1e4_transcript.txt\n",
       "\n",
       "**Sentence Number:** 364\n",
       "\n",
       "**Sentence:** Someone had to make dinner.\n",
       "\n",
       "**Past References:** 1\n",
       "\n",
       "**Future References:** 0\n",
       "\n",
       "---"
      ],
      "text/plain": [
       "<IPython.core.display.Markdown object>"
      ]
     },
     "metadata": {},
     "output_type": "display_data"
    },
    {
     "data": {
      "text/markdown": [
       "### File: the_chair_s1e4_transcript.txt\n",
       "\n",
       "**Sentence Number:** 367\n",
       "\n",
       "**Sentence:** I told you I’m not wearing those.\n",
       "\n",
       "**Past References:** 1\n",
       "\n",
       "**Future References:** 0\n",
       "\n",
       "---"
      ],
      "text/plain": [
       "<IPython.core.display.Markdown object>"
      ]
     },
     "metadata": {},
     "output_type": "display_data"
    },
    {
     "data": {
      "text/markdown": [
       "### File: the_chair_s1e4_transcript.txt\n",
       "\n",
       "**Sentence Number:** 371\n",
       "\n",
       "**Sentence:** [breathes deeply]\n",
       "\n",
       "I used to bestride the narrow world like a Colossus.\n",
       "\n",
       "**Past References:** 1\n",
       "\n",
       "**Future References:** 1\n",
       "\n",
       "---"
      ],
      "text/plain": [
       "<IPython.core.display.Markdown object>"
      ]
     },
     "metadata": {},
     "output_type": "display_data"
    },
    {
     "data": {
      "text/markdown": [
       "### File: the_chair_s1e4_transcript.txt\n",
       "\n",
       "**Sentence Number:** 373\n",
       "\n",
       "**Sentence:** Well, now you’re going to bestride it in Tranquility Briefs.\n",
       "\n",
       "**Past References:** 0\n",
       "\n",
       "**Future References:** 1\n",
       "\n",
       "---"
      ],
      "text/plain": [
       "<IPython.core.display.Markdown object>"
      ]
     },
     "metadata": {},
     "output_type": "display_data"
    },
    {
     "data": {
      "text/markdown": [
       "### File: the_chair_s1e4_transcript.txt\n",
       "\n",
       "**Sentence Number:** 381\n",
       "\n",
       "**Sentence:** [Bill] Who created La Calavera Catrina?\n",
       "\n",
       "**Past References:** 1\n",
       "\n",
       "**Future References:** 0\n",
       "\n",
       "---"
      ],
      "text/plain": [
       "<IPython.core.display.Markdown object>"
      ]
     },
     "metadata": {},
     "output_type": "display_data"
    },
    {
     "data": {
      "text/markdown": [
       "### File: the_chair_s1e4_transcript.txt\n",
       "\n",
       "**Sentence Number:** 385\n",
       "\n",
       "**Sentence:** [Bill] And whom was he making fun of?\n",
       "\n",
       "**Past References:** 1\n",
       "\n",
       "**Future References:** 0\n",
       "\n",
       "---"
      ],
      "text/plain": [
       "<IPython.core.display.Markdown object>"
      ]
     },
     "metadata": {},
     "output_type": "display_data"
    },
    {
     "data": {
      "text/markdown": [
       "### File: the_chair_s1e4_transcript.txt\n",
       "\n",
       "**Sentence Number:** 393\n",
       "\n",
       "**Sentence:** Posada was making fun of Mexican leader Porfirio Díaz\n",
       "\n",
       "because even though Díaz modernized Mexico,\n",
       "\n",
       "his reforms really only benefited the ruling class.\n",
       "\n",
       "**Past References:** 1\n",
       "\n",
       "**Future References:** 0\n",
       "\n",
       "---"
      ],
      "text/plain": [
       "<IPython.core.display.Markdown object>"
      ]
     },
     "metadata": {},
     "output_type": "display_data"
    },
    {
     "data": {
      "text/markdown": [
       "### File: the_chair_s1e4_transcript.txt\n",
       "\n",
       "**Sentence Number:** 407\n",
       "\n",
       "**Sentence:** so I’m all set up on the Wi-Fi.\n",
       "\n",
       "**Past References:** 1\n",
       "\n",
       "**Future References:** 0\n",
       "\n",
       "---"
      ],
      "text/plain": [
       "<IPython.core.display.Markdown object>"
      ]
     },
     "metadata": {},
     "output_type": "display_data"
    },
    {
     "data": {
      "text/markdown": [
       "### File: the_chair_s1e4_transcript.txt\n",
       "\n",
       "**Sentence Number:** 419\n",
       "\n",
       "**Sentence:** You’ll be surprised how fast you get used to it.\n",
       "\n",
       "**Past References:** 1\n",
       "\n",
       "**Future References:** 0\n",
       "\n",
       "---"
      ],
      "text/plain": [
       "<IPython.core.display.Markdown object>"
      ]
     },
     "metadata": {},
     "output_type": "display_data"
    },
    {
     "data": {
      "text/markdown": [
       "### File: the_chair_s1e4_transcript.txt\n",
       "\n",
       "**Sentence Number:** 421\n",
       "\n",
       "**Sentence:** Yeah, that’s how code was for me.\n",
       "\n",
       "**Past References:** 1\n",
       "\n",
       "**Future References:** 0\n",
       "\n",
       "---"
      ],
      "text/plain": [
       "<IPython.core.display.Markdown object>"
      ]
     },
     "metadata": {},
     "output_type": "display_data"
    },
    {
     "data": {
      "text/markdown": [
       "### File: the_chair_s1e4_transcript.txt\n",
       "\n",
       "**Sentence Number:** 450\n",
       "\n",
       "**Sentence:** Well, I can’t make copies, but I think I just unlocked my car.\n",
       "\n",
       "**Past References:** 1\n",
       "\n",
       "**Future References:** 0\n",
       "\n",
       "---"
      ],
      "text/plain": [
       "<IPython.core.display.Markdown object>"
      ]
     },
     "metadata": {},
     "output_type": "display_data"
    },
    {
     "data": {
      "text/markdown": [
       "### File: the_chair_s1e4_transcript.txt\n",
       "\n",
       "**Sentence Number:** 454\n",
       "\n",
       "**Sentence:** She’s got a mind of her own.\n",
       "\n",
       "**Past References:** 1\n",
       "\n",
       "**Future References:** 0\n",
       "\n",
       "---"
      ],
      "text/plain": [
       "<IPython.core.display.Markdown object>"
      ]
     },
     "metadata": {},
     "output_type": "display_data"
    },
    {
     "data": {
      "text/markdown": [
       "### File: the_chair_s1e4_transcript.txt\n",
       "\n",
       "**Sentence Number:** 466\n",
       "\n",
       "**Sentence:** When Melville died, the Times just published a tiny death notice?\n",
       "\n",
       "**Past References:** 1\n",
       "\n",
       "**Future References:** 0\n",
       "\n",
       "---"
      ],
      "text/plain": [
       "<IPython.core.display.Markdown object>"
      ]
     },
     "metadata": {},
     "output_type": "display_data"
    },
    {
     "data": {
      "text/markdown": [
       "### File: the_chair_s1e4_transcript.txt\n",
       "\n",
       "**Sentence Number:** 468\n",
       "\n",
       "**Sentence:** They actually misspelled the title of Moby-Dick.\n",
       "\n",
       "**Past References:** 1\n",
       "\n",
       "**Future References:** 0\n",
       "\n",
       "---"
      ],
      "text/plain": [
       "<IPython.core.display.Markdown object>"
      ]
     },
     "metadata": {},
     "output_type": "display_data"
    },
    {
     "data": {
      "text/markdown": [
       "### File: the_chair_s1e4_transcript.txt\n",
       "\n",
       "**Sentence Number:** 479\n",
       "\n",
       "**Sentence:** Oh, hey, you forgot your, uh…\n",
       "\n",
       "**Past References:** 1\n",
       "\n",
       "**Future References:** 0\n",
       "\n",
       "---"
      ],
      "text/plain": [
       "<IPython.core.display.Markdown object>"
      ]
     },
     "metadata": {},
     "output_type": "display_data"
    },
    {
     "data": {
      "text/markdown": [
       "### File: the_chair_s1e4_transcript.txt\n",
       "\n",
       "**Sentence Number:** 485\n",
       "\n",
       "**Sentence:** That was perfect!\n",
       "\n",
       "**Past References:** 1\n",
       "\n",
       "**Future References:** 0\n",
       "\n",
       "---"
      ],
      "text/plain": [
       "<IPython.core.display.Markdown object>"
      ]
     },
     "metadata": {},
     "output_type": "display_data"
    },
    {
     "data": {
      "text/markdown": [
       "### File: the_chair_s1e4_transcript.txt\n",
       "\n",
       "**Sentence Number:** 486\n",
       "\n",
       "**Sentence:** That was so awes-\n",
       "\n",
       "**Past References:** 1\n",
       "\n",
       "**Future References:** 0\n",
       "\n",
       "---"
      ],
      "text/plain": [
       "<IPython.core.display.Markdown object>"
      ]
     },
     "metadata": {},
     "output_type": "display_data"
    },
    {
     "data": {
      "text/markdown": [
       "### File: the_chair_s1e4_transcript.txt\n",
       "\n",
       "**Sentence Number:** 504\n",
       "\n",
       "**Sentence:** I’m not allowed to be on campus.\n",
       "\n",
       "**Past References:** 1\n",
       "\n",
       "**Future References:** 1\n",
       "\n",
       "---"
      ],
      "text/plain": [
       "<IPython.core.display.Markdown object>"
      ]
     },
     "metadata": {},
     "output_type": "display_data"
    },
    {
     "data": {
      "text/markdown": [
       "### File: the_chair_s1e4_transcript.txt\n",
       "\n",
       "**Sentence Number:** 530\n",
       "\n",
       "**Sentence:** Some poor schmuck asked a woman for a kiss and ends up making out with her butthole.\n",
       "\n",
       "**Past References:** 1\n",
       "\n",
       "**Future References:** 0\n",
       "\n",
       "---"
      ],
      "text/plain": [
       "<IPython.core.display.Markdown object>"
      ]
     },
     "metadata": {},
     "output_type": "display_data"
    },
    {
     "data": {
      "text/markdown": [
       "### File: the_chair_s1e4_transcript.txt\n",
       "\n",
       "**Sentence Number:** 541\n",
       "\n",
       "**Sentence:** But Chaucer has survived more than 600 years of literary criticism.\n",
       "\n",
       "**Past References:** 1\n",
       "\n",
       "**Future References:** 0\n",
       "\n",
       "---"
      ],
      "text/plain": [
       "<IPython.core.display.Markdown object>"
      ]
     },
     "metadata": {},
     "output_type": "display_data"
    },
    {
     "data": {
      "text/markdown": [
       "### File: the_chair_s1e4_transcript.txt\n",
       "\n",
       "**Sentence Number:** 553\n",
       "\n",
       "**Sentence:** He was making photocopies on letterhead.\n",
       "\n",
       "**Past References:** 1\n",
       "\n",
       "**Future References:** 0\n",
       "\n",
       "---"
      ],
      "text/plain": [
       "<IPython.core.display.Markdown object>"
      ]
     },
     "metadata": {},
     "output_type": "display_data"
    },
    {
     "data": {
      "text/markdown": [
       "### File: the_chair_s1e4_transcript.txt\n",
       "\n",
       "**Sentence Number:** 563\n",
       "\n",
       "**Sentence:** Yaz, if I haven’t made it clear that I want you to speak your mind, then…\n",
       "\n",
       "[sighs]\n",
       "\n",
       "**Past References:** 1\n",
       "\n",
       "**Future References:** 0\n",
       "\n",
       "---"
      ],
      "text/plain": [
       "<IPython.core.display.Markdown object>"
      ]
     },
     "metadata": {},
     "output_type": "display_data"
    },
    {
     "data": {
      "text/markdown": [
       "### File: the_chair_s1e4_transcript.txt\n",
       "\n",
       "**Sentence Number:** 573\n",
       "\n",
       "**Sentence:** I thought we moved beyond this bullshit.\n",
       "\n",
       "**Past References:** 1\n",
       "\n",
       "**Future References:** 0\n",
       "\n",
       "---"
      ],
      "text/plain": [
       "<IPython.core.display.Markdown object>"
      ]
     },
     "metadata": {},
     "output_type": "display_data"
    },
    {
     "data": {
      "text/markdown": [
       "### File: the_chair_s1e4_transcript.txt\n",
       "\n",
       "**Sentence Number:** 574\n",
       "\n",
       "**Sentence:** I am giving them David Duchovny, so they will give me you.\n",
       "\n",
       "**Past References:** 0\n",
       "\n",
       "**Future References:** 1\n",
       "\n",
       "---"
      ],
      "text/plain": [
       "<IPython.core.display.Markdown object>"
      ]
     },
     "metadata": {},
     "output_type": "display_data"
    },
    {
     "data": {
      "text/markdown": [
       "### File: the_chair_s1e4_transcript.txt\n",
       "\n",
       "**Sentence Number:** 576\n",
       "\n",
       "**Sentence:** I know…\n",
       "\n",
       "I shouldn’t be asked to stand out…\n",
       "\n",
       "I am trying.\n",
       "\n",
       "**Past References:** 1\n",
       "\n",
       "**Future References:** 0\n",
       "\n",
       "---"
      ],
      "text/plain": [
       "<IPython.core.display.Markdown object>"
      ]
     },
     "metadata": {},
     "output_type": "display_data"
    },
    {
     "data": {
      "text/markdown": [
       "### File: the_chair_s1e4_transcript.txt\n",
       "\n",
       "**Sentence Number:** 577\n",
       "\n",
       "**Sentence:** [breathes deeply]\n",
       "\n",
       "I don’t feel like I inherited an English Department.\n",
       "\n",
       "**Past References:** 1\n",
       "\n",
       "**Future References:** 0\n",
       "\n",
       "---"
      ],
      "text/plain": [
       "<IPython.core.display.Markdown object>"
      ]
     },
     "metadata": {},
     "output_type": "display_data"
    },
    {
     "data": {
      "text/markdown": [
       "### File: the_chair_s1e4_transcript.txt\n",
       "\n",
       "**Sentence Number:** 578\n",
       "\n",
       "**Sentence:** I feel like someone handed me a ticking time bomb\n",
       "\n",
       "because they wanted to make sure a woman was holding it when it explodes.\n",
       "\n",
       "**Past References:** 1\n",
       "\n",
       "**Future References:** 0\n",
       "\n",
       "---"
      ],
      "text/plain": [
       "<IPython.core.display.Markdown object>"
      ]
     },
     "metadata": {},
     "output_type": "display_data"
    },
    {
     "data": {
      "text/markdown": [
       "### File: the_chair_s1e4_transcript.txt\n",
       "\n",
       "**Sentence Number:** 580\n",
       "\n",
       "**Sentence:** Bill and I started teaching here around the same time.\n",
       "\n",
       "**Past References:** 1\n",
       "\n",
       "**Future References:** 0\n",
       "\n",
       "---"
      ],
      "text/plain": [
       "<IPython.core.display.Markdown object>"
      ]
     },
     "metadata": {},
     "output_type": "display_data"
    },
    {
     "data": {
      "text/markdown": [
       "### File: the_chair_s1e4_transcript.txt\n",
       "\n",
       "**Sentence Number:** 582\n",
       "\n",
       "**Sentence:** Whenever Elliot would bump into us,\n",
       "\n",
       "he would clap Bill on the back and invite him over for dinner,\n",
       "\n",
       "and I was like, “Um, hello?”\n",
       "\n",
       "**Past References:** 1\n",
       "\n",
       "**Future References:** 0\n",
       "\n",
       "---"
      ],
      "text/plain": [
       "<IPython.core.display.Markdown object>"
      ]
     },
     "metadata": {},
     "output_type": "display_data"
    },
    {
     "data": {
      "text/markdown": [
       "### File: the_chair_s1e4_transcript.txt\n",
       "\n",
       "**Sentence Number:** 586\n",
       "\n",
       "**Sentence:** He’s insecure because no one takes his classes anymore.\n",
       "\n",
       "**Past References:** 1\n",
       "\n",
       "**Future References:** 0\n",
       "\n",
       "---"
      ],
      "text/plain": [
       "<IPython.core.display.Markdown object>"
      ]
     },
     "metadata": {},
     "output_type": "display_data"
    },
    {
     "data": {
      "text/markdown": [
       "### File: the_chair_s1e4_transcript.txt\n",
       "\n",
       "**Sentence Number:** 592\n",
       "\n",
       "**Sentence:** He only got to rule the profession for the last 40 years.\n",
       "\n",
       "**Past References:** 1\n",
       "\n",
       "**Future References:** 0\n",
       "\n",
       "---"
      ],
      "text/plain": [
       "<IPython.core.display.Markdown object>"
      ]
     },
     "metadata": {},
     "output_type": "display_data"
    },
    {
     "data": {
      "text/markdown": [
       "### File: the_chair_s1e4_transcript.txt\n",
       "\n",
       "**Sentence Number:** 619\n",
       "\n",
       "**Sentence:** Oh my God, you scared me.\n",
       "\n",
       "**Past References:** 1\n",
       "\n",
       "**Future References:** 0\n",
       "\n",
       "---"
      ],
      "text/plain": [
       "<IPython.core.display.Markdown object>"
      ]
     },
     "metadata": {},
     "output_type": "display_data"
    },
    {
     "data": {
      "text/markdown": [
       "### File: the_chair_s1e4_transcript.txt\n",
       "\n",
       "**Sentence Number:** 621\n",
       "\n",
       "**Sentence:** Uh, I gotta…\n",
       "\n",
       "You’re not supposed to be on campus.\n",
       "\n",
       "**Past References:** 1\n",
       "\n",
       "**Future References:** 1\n",
       "\n",
       "---"
      ],
      "text/plain": [
       "<IPython.core.display.Markdown object>"
      ]
     },
     "metadata": {},
     "output_type": "display_data"
    },
    {
     "data": {
      "text/markdown": [
       "### File: the_chair_s1e4_transcript.txt\n",
       "\n",
       "**Sentence Number:** 627\n",
       "\n",
       "**Sentence:** Larson asked David Duchovny to teach your class.\n",
       "\n",
       "**Past References:** 1\n",
       "\n",
       "**Future References:** 0\n",
       "\n",
       "---"
      ],
      "text/plain": [
       "<IPython.core.display.Markdown object>"
      ]
     },
     "metadata": {},
     "output_type": "display_data"
    },
    {
     "data": {
      "text/markdown": [
       "### File: the_chair_s1e4_transcript.txt\n",
       "\n",
       "**Sentence Number:** 633\n",
       "\n",
       "**Sentence:** So you were gonna take ’em home and then what?\n",
       "\n",
       "**Past References:** 1\n",
       "\n",
       "**Future References:** 0\n",
       "\n",
       "---"
      ],
      "text/plain": [
       "<IPython.core.display.Markdown object>"
      ]
     },
     "metadata": {},
     "output_type": "display_data"
    },
    {
     "data": {
      "text/markdown": [
       "### File: the_chair_s1e4_transcript.txt\n",
       "\n",
       "**Sentence Number:** 635\n",
       "\n",
       "**Sentence:** I’m supposed to go to his house.\n",
       "\n",
       "**Past References:** 1\n",
       "\n",
       "**Future References:** 0\n",
       "\n",
       "---"
      ],
      "text/plain": [
       "<IPython.core.display.Markdown object>"
      ]
     },
     "metadata": {},
     "output_type": "display_data"
    },
    {
     "data": {
      "text/markdown": [
       "### File: the_chair_s1e4_transcript.txt\n",
       "\n",
       "**Sentence Number:** 639\n",
       "\n",
       "**Sentence:** You’re taking my stolen notes to David Duchovny’s house?\n",
       "\n",
       "**Past References:** 1\n",
       "\n",
       "**Future References:** 0\n",
       "\n",
       "---"
      ],
      "text/plain": [
       "<IPython.core.display.Markdown object>"
      ]
     },
     "metadata": {},
     "output_type": "display_data"
    },
    {
     "data": {
      "text/markdown": [
       "### File: the_chair_s1e4_transcript.txt\n",
       "\n",
       "**Sentence Number:** 645\n",
       "\n",
       "**Sentence:** The larger issue, the one you’re trying to blow by,\n",
       "\n",
       "is that you’re allowed everywhere except…\n",
       "\n",
       "[panting]\n",
       "\n",
       "Where’s Ju Ju?\n",
       "\n",
       "**Past References:** 1\n",
       "\n",
       "**Future References:** 0\n",
       "\n",
       "---"
      ],
      "text/plain": [
       "<IPython.core.display.Markdown object>"
      ]
     },
     "metadata": {},
     "output_type": "display_data"
    },
    {
     "data": {
      "text/markdown": [
       "### File: the_chair_s1e4_transcript.txt\n",
       "\n",
       "**Sentence Number:** 678\n",
       "\n",
       "**Sentence:** You scared your mama.\n",
       "\n",
       "**Past References:** 1\n",
       "\n",
       "**Future References:** 0\n",
       "\n",
       "---"
      ],
      "text/plain": [
       "<IPython.core.display.Markdown object>"
      ]
     },
     "metadata": {},
     "output_type": "display_data"
    },
    {
     "data": {
      "text/markdown": [
       "### File: the_chair_s1e4_transcript.txt\n",
       "\n",
       "**Sentence Number:** 681\n",
       "\n",
       "**Sentence:** Let’s…\n",
       "\n",
       "You scared your mama.\n",
       "\n",
       "**Past References:** 1\n",
       "\n",
       "**Future References:** 0\n",
       "\n",
       "---"
      ],
      "text/plain": [
       "<IPython.core.display.Markdown object>"
      ]
     },
     "metadata": {},
     "output_type": "display_data"
    },
    {
     "data": {
      "text/markdown": [
       "### File: the_chair_s1e4_transcript.txt\n",
       "\n",
       "**Sentence Number:** 690\n",
       "\n",
       "**Sentence:** No, we gotta leave.\n",
       "\n",
       "**Past References:** 1\n",
       "\n",
       "**Future References:** 0\n",
       "\n",
       "---"
      ],
      "text/plain": [
       "<IPython.core.display.Markdown object>"
      ]
     },
     "metadata": {},
     "output_type": "display_data"
    },
    {
     "data": {
      "text/markdown": [
       "### File: the_chair_s1e4_transcript.txt\n",
       "\n",
       "**Sentence Number:** 694\n",
       "\n",
       "**Sentence:** We have got to leave.\n",
       "\n",
       "**Past References:** 1\n",
       "\n",
       "**Future References:** 0\n",
       "\n",
       "---"
      ],
      "text/plain": [
       "<IPython.core.display.Markdown object>"
      ]
     },
     "metadata": {},
     "output_type": "display_data"
    },
    {
     "data": {
      "text/markdown": [
       "### File: the_chair_s1e6_transcript.txt\n",
       "\n",
       "**Sentence Number:** 1\n",
       "\n",
       "**Sentence:** When my mom was sick, I tried to start cooking, to help out.\n",
       "\n",
       "**Past References:** 1\n",
       "\n",
       "**Future References:** 0\n",
       "\n",
       "---"
      ],
      "text/plain": [
       "<IPython.core.display.Markdown object>"
      ]
     },
     "metadata": {},
     "output_type": "display_data"
    },
    {
     "data": {
      "text/markdown": [
       "### File: the_chair_s1e6_transcript.txt\n",
       "\n",
       "**Sentence Number:** 3\n",
       "\n",
       "**Sentence:** But she was always like, “No.\n",
       "\n",
       "**Past References:** 1\n",
       "\n",
       "**Future References:** 0\n",
       "\n",
       "---"
      ],
      "text/plain": [
       "<IPython.core.display.Markdown object>"
      ]
     },
     "metadata": {},
     "output_type": "display_data"
    },
    {
     "data": {
      "text/markdown": [
       "### File: the_chair_s1e6_transcript.txt\n",
       "\n",
       "**Sentence Number:** 6\n",
       "\n",
       "**Sentence:** She never wanted me to do anything homemaker-y.\n",
       "\n",
       "**Past References:** 1\n",
       "\n",
       "**Future References:** 0\n",
       "\n",
       "---"
      ],
      "text/plain": [
       "<IPython.core.display.Markdown object>"
      ]
     },
     "metadata": {},
     "output_type": "display_data"
    },
    {
     "data": {
      "text/markdown": [
       "### File: the_chair_s1e6_transcript.txt\n",
       "\n",
       "**Sentence Number:** 8\n",
       "\n",
       "**Sentence:** I wasn’t gonna be a housewife.\n",
       "\n",
       "**Past References:** 1\n",
       "\n",
       "**Future References:** 0\n",
       "\n",
       "---"
      ],
      "text/plain": [
       "<IPython.core.display.Markdown object>"
      ]
     },
     "metadata": {},
     "output_type": "display_data"
    },
    {
     "data": {
      "text/markdown": [
       "### File: the_chair_s1e6_transcript.txt\n",
       "\n",
       "**Sentence Number:** 9\n",
       "\n",
       "**Sentence:** I was gonna be a doctor.\n",
       "\n",
       "**Past References:** 1\n",
       "\n",
       "**Future References:** 0\n",
       "\n",
       "---"
      ],
      "text/plain": [
       "<IPython.core.display.Markdown object>"
      ]
     },
     "metadata": {},
     "output_type": "display_data"
    },
    {
     "data": {
      "text/markdown": [
       "### File: the_chair_s1e6_transcript.txt\n",
       "\n",
       "**Sentence Number:** 12\n",
       "\n",
       "**Sentence:** I got engaged when I was 36, and he wanted to start a family, but…\n",
       "\n",
       "**Past References:** 1\n",
       "\n",
       "**Future References:** 0\n",
       "\n",
       "---"
      ],
      "text/plain": [
       "<IPython.core.display.Markdown object>"
      ]
     },
     "metadata": {},
     "output_type": "display_data"
    },
    {
     "data": {
      "text/markdown": [
       "### File: the_chair_s1e6_transcript.txt\n",
       "\n",
       "**Sentence Number:** 14\n",
       "\n",
       "**Sentence:** but then he was offered a… a job at Michigan.\n",
       "\n",
       "**Past References:** 1\n",
       "\n",
       "**Future References:** 0\n",
       "\n",
       "---"
      ],
      "text/plain": [
       "<IPython.core.display.Markdown object>"
      ]
     },
     "metadata": {},
     "output_type": "display_data"
    },
    {
     "data": {
      "text/markdown": [
       "### File: the_chair_s1e6_transcript.txt\n",
       "\n",
       "**Sentence Number:** 15\n",
       "\n",
       "**Sentence:** They tried to negotiate a spousal hire for me, but…\n",
       "\n",
       "They offered a three-year instructor contract.\n",
       "\n",
       "**Past References:** 1\n",
       "\n",
       "**Future References:** 0\n",
       "\n",
       "---"
      ],
      "text/plain": [
       "<IPython.core.display.Markdown object>"
      ]
     },
     "metadata": {},
     "output_type": "display_data"
    },
    {
     "data": {
      "text/markdown": [
       "### File: the_chair_s1e6_transcript.txt\n",
       "\n",
       "**Sentence Number:** 17\n",
       "\n",
       "**Sentence:** [breathes deeply]\n",
       "\n",
       "We tried to make it work long-distance, but…\n",
       "\n",
       "**Past References:** 1\n",
       "\n",
       "**Future References:** 0\n",
       "\n",
       "---"
      ],
      "text/plain": [
       "<IPython.core.display.Markdown object>"
      ]
     },
     "metadata": {},
     "output_type": "display_data"
    },
    {
     "data": {
      "text/markdown": [
       "### File: the_chair_s1e6_transcript.txt\n",
       "\n",
       "**Sentence Number:** 18\n",
       "\n",
       "**Sentence:** [scoffs] When he told me he met someone else,\n",
       "\n",
       "I wasn’t even…\n",
       "\n",
       "[clicks tongue]\n",
       "\n",
       "**Past References:** 1\n",
       "\n",
       "**Future References:** 0\n",
       "\n",
       "---"
      ],
      "text/plain": [
       "<IPython.core.display.Markdown object>"
      ]
     },
     "metadata": {},
     "output_type": "display_data"
    },
    {
     "data": {
      "text/markdown": [
       "### File: the_chair_s1e6_transcript.txt\n",
       "\n",
       "**Sentence Number:** 19\n",
       "\n",
       "**Sentence:** I just buried myself in my work, and pretty soon,\n",
       "\n",
       "I had a half dozen R1 universities begging for me to apply.\n",
       "\n",
       "**Past References:** 1\n",
       "\n",
       "**Future References:** 0\n",
       "\n",
       "---"
      ],
      "text/plain": [
       "<IPython.core.display.Markdown object>"
      ]
     },
     "metadata": {},
     "output_type": "display_data"
    },
    {
     "data": {
      "text/markdown": [
       "### File: the_chair_s1e6_transcript.txt\n",
       "\n",
       "**Sentence Number:** 21\n",
       "\n",
       "**Sentence:** But Pembroke’s retention offer was…\n",
       "\n",
       "They gave me everything I wanted,\n",
       "\n",
       "**Past References:** 1\n",
       "\n",
       "**Future References:** 0\n",
       "\n",
       "---"
      ],
      "text/plain": [
       "<IPython.core.display.Markdown object>"
      ]
     },
     "metadata": {},
     "output_type": "display_data"
    },
    {
     "data": {
      "text/markdown": [
       "### File: the_chair_s1e6_transcript.txt\n",
       "\n",
       "**Sentence Number:** 23\n",
       "\n",
       "**Sentence:** so I stayed.\n",
       "\n",
       "**Past References:** 1\n",
       "\n",
       "**Future References:** 0\n",
       "\n",
       "---"
      ],
      "text/plain": [
       "<IPython.core.display.Markdown object>"
      ]
     },
     "metadata": {},
     "output_type": "display_data"
    },
    {
     "data": {
      "text/markdown": [
       "### File: the_chair_s1e6_transcript.txt\n",
       "\n",
       "**Sentence Number:** 26\n",
       "\n",
       "**Sentence:** [paper rustles]\n",
       "\n",
       "Ever been on the cover of a newspaper\n",
       "\n",
       "\n",
       "for having inflicted harm on a large group of people?\n",
       "\n",
       "**Past References:** 1\n",
       "\n",
       "**Future References:** 0\n",
       "\n",
       "---"
      ],
      "text/plain": [
       "<IPython.core.display.Markdown object>"
      ]
     },
     "metadata": {},
     "output_type": "display_data"
    },
    {
     "data": {
      "text/markdown": [
       "### File: the_chair_s1e6_transcript.txt\n",
       "\n",
       "**Sentence Number:** 31\n",
       "\n",
       "**Sentence:** And since this is your daughter’s session,\n",
       "\n",
       "I’m going to move on to her now if that’s\n",
       "\n",
       "**Past References:** 1\n",
       "\n",
       "**Future References:** 0\n",
       "\n",
       "---"
      ],
      "text/plain": [
       "<IPython.core.display.Markdown object>"
      ]
     },
     "metadata": {},
     "output_type": "display_data"
    },
    {
     "data": {
      "text/markdown": [
       "### File: the_chair_s1e6_transcript.txt\n",
       "\n",
       "**Sentence Number:** 51\n",
       "\n",
       "**Sentence:** He got all dressed up.\n",
       "\n",
       "**Past References:** 1\n",
       "\n",
       "**Future References:** 0\n",
       "\n",
       "---"
      ],
      "text/plain": [
       "<IPython.core.display.Markdown object>"
      ]
     },
     "metadata": {},
     "output_type": "display_data"
    },
    {
     "data": {
      "text/markdown": [
       "### File: the_chair_s1e6_transcript.txt\n",
       "\n",
       "**Sentence Number:** 61\n",
       "\n",
       "**Sentence:** There are some quotations, like this one from Audre Lorde,\n",
       "\n",
       "that are so well-known we assume\n",
       "\n",
       "**Past References:** 1\n",
       "\n",
       "**Future References:** 0\n",
       "\n",
       "---"
      ],
      "text/plain": [
       "<IPython.core.display.Markdown object>"
      ]
     },
     "metadata": {},
     "output_type": "display_data"
    },
    {
     "data": {
      "text/markdown": [
       "### File: the_chair_s1e6_transcript.txt\n",
       "\n",
       "**Sentence Number:** 64\n",
       "\n",
       "**Sentence:** But I’m curious to hear if reading the actual essay surprised you in any way.\n",
       "\n",
       "**Past References:** 1\n",
       "\n",
       "**Future References:** 0\n",
       "\n",
       "---"
      ],
      "text/plain": [
       "<IPython.core.display.Markdown object>"
      ]
     },
     "metadata": {},
     "output_type": "display_data"
    },
    {
     "data": {
      "text/markdown": [
       "### File: the_chair_s1e6_transcript.txt\n",
       "\n",
       "**Sentence Number:** 76\n",
       "\n",
       "**Sentence:** Some women in the academy pretend to be allies,\n",
       "\n",
       "**Past References:** 0\n",
       "\n",
       "**Future References:** 1\n",
       "\n",
       "---"
      ],
      "text/plain": [
       "<IPython.core.display.Markdown object>"
      ]
     },
     "metadata": {},
     "output_type": "display_data"
    },
    {
     "data": {
      "text/markdown": [
       "### File: the_chair_s1e6_transcript.txt\n",
       "\n",
       "**Sentence Number:** 105\n",
       "\n",
       "**Sentence:** I’m sorry, I was looking for the Ethics and Compliance office.\n",
       "\n",
       "**Past References:** 1\n",
       "\n",
       "**Future References:** 0\n",
       "\n",
       "---"
      ],
      "text/plain": [
       "<IPython.core.display.Markdown object>"
      ]
     },
     "metadata": {},
     "output_type": "display_data"
    },
    {
     "data": {
      "text/markdown": [
       "### File: the_chair_s1e6_transcript.txt\n",
       "\n",
       "**Sentence Number:** 107\n",
       "\n",
       "**Sentence:** We merged with Title IX.\n",
       "\n",
       "**Past References:** 1\n",
       "\n",
       "**Future References:** 0\n",
       "\n",
       "---"
      ],
      "text/plain": [
       "<IPython.core.display.Markdown object>"
      ]
     },
     "metadata": {},
     "output_type": "display_data"
    },
    {
     "data": {
      "text/markdown": [
       "### File: the_chair_s1e6_transcript.txt\n",
       "\n",
       "**Sentence Number:** 117\n",
       "\n",
       "**Sentence:** I started as an assistant professor here 32 years ago.\n",
       "\n",
       "**Past References:** 1\n",
       "\n",
       "**Future References:** 0\n",
       "\n",
       "---"
      ],
      "text/plain": [
       "<IPython.core.display.Markdown object>"
      ]
     },
     "metadata": {},
     "output_type": "display_data"
    },
    {
     "data": {
      "text/markdown": [
       "### File: the_chair_s1e6_transcript.txt\n",
       "\n",
       "**Sentence Number:** 119\n",
       "\n",
       "**Sentence:** They offered me $26,000.\n",
       "\n",
       "**Past References:** 1\n",
       "\n",
       "**Future References:** 0\n",
       "\n",
       "---"
      ],
      "text/plain": [
       "<IPython.core.display.Markdown object>"
      ]
     },
     "metadata": {},
     "output_type": "display_data"
    },
    {
     "data": {
      "text/markdown": [
       "### File: the_chair_s1e6_transcript.txt\n",
       "\n",
       "**Sentence Number:** 121\n",
       "\n",
       "**Sentence:** But I found out that John McHale,\n",
       "\n",
       "who… who started the same year I did and is still kicking around,\n",
       "\n",
       "got 16,000 more.\n",
       "\n",
       "**Past References:** 1\n",
       "\n",
       "**Future References:** 0\n",
       "\n",
       "---"
      ],
      "text/plain": [
       "<IPython.core.display.Markdown object>"
      ]
     },
     "metadata": {},
     "output_type": "display_data"
    },
    {
     "data": {
      "text/markdown": [
       "### File: the_chair_s1e6_transcript.txt\n",
       "\n",
       "**Sentence Number:** 124\n",
       "\n",
       "**Sentence:** I thought about saying something,\n",
       "\n",
       "**Past References:** 1\n",
       "\n",
       "**Future References:** 0\n",
       "\n",
       "---"
      ],
      "text/plain": [
       "<IPython.core.display.Markdown object>"
      ]
     },
     "metadata": {},
     "output_type": "display_data"
    },
    {
     "data": {
      "text/markdown": [
       "### File: the_chair_s1e6_transcript.txt\n",
       "\n",
       "**Sentence Number:** 125\n",
       "\n",
       "**Sentence:** but I didn’t wanna be that woman.\n",
       "\n",
       "**Past References:** 1\n",
       "\n",
       "**Future References:** 0\n",
       "\n",
       "---"
      ],
      "text/plain": [
       "<IPython.core.display.Markdown object>"
      ]
     },
     "metadata": {},
     "output_type": "display_data"
    },
    {
     "data": {
      "text/markdown": [
       "### File: the_chair_s1e6_transcript.txt\n",
       "\n",
       "**Sentence Number:** 126\n",
       "\n",
       "**Sentence:** I wrote a book on Chaucer\n",
       "\n",
       "that was the first feminist reading of “The Wife of Bath.”\n",
       "\n",
       "**Past References:** 1\n",
       "\n",
       "**Future References:** 0\n",
       "\n",
       "---"
      ],
      "text/plain": [
       "<IPython.core.display.Markdown object>"
      ]
     },
     "metadata": {},
     "output_type": "display_data"
    },
    {
     "data": {
      "text/markdown": [
       "### File: the_chair_s1e6_transcript.txt\n",
       "\n",
       "**Sentence Number:** 128\n",
       "\n",
       "**Sentence:** But here at the department,\n",
       "\n",
       "they’d ask for a volunteer to be on faculty governance,\n",
       "\n",
       "\n",
       "“Oh, let’s have Joan do it.”\n",
       "\n",
       "**Past References:** 0\n",
       "\n",
       "**Future References:** 1\n",
       "\n",
       "---"
      ],
      "text/plain": [
       "<IPython.core.display.Markdown object>"
      ]
     },
     "metadata": {},
     "output_type": "display_data"
    },
    {
     "data": {
      "text/markdown": [
       "### File: the_chair_s1e6_transcript.txt\n",
       "\n",
       "**Sentence Number:** 130\n",
       "\n",
       "**Sentence:** Or they needed someone to host the annual holiday party,\n",
       "\n",
       "“Joan won’t mind.\n",
       "\n",
       "**Past References:** 1\n",
       "\n",
       "**Future References:** 0\n",
       "\n",
       "---"
      ],
      "text/plain": [
       "<IPython.core.display.Markdown object>"
      ]
     },
     "metadata": {},
     "output_type": "display_data"
    },
    {
     "data": {
      "text/markdown": [
       "### File: the_chair_s1e6_transcript.txt\n",
       "\n",
       "**Sentence Number:** 133\n",
       "\n",
       "**Sentence:** It’s a well-documented fact that departmental service\n",
       "\n",
       "falls disproportionately on female faculty.\n",
       "\n",
       "**Past References:** 1\n",
       "\n",
       "**Future References:** 0\n",
       "\n",
       "---"
      ],
      "text/plain": [
       "<IPython.core.display.Markdown object>"
      ]
     },
     "metadata": {},
     "output_type": "display_data"
    },
    {
     "data": {
      "text/markdown": [
       "### File: the_chair_s1e6_transcript.txt\n",
       "\n",
       "**Sentence Number:** 134\n",
       "\n",
       "**Sentence:** [sighs]\n",
       "\n",
       "I, um…\n",
       "\n",
       "I let my research go, and I never went up for full professor.\n",
       "\n",
       "**Past References:** 1\n",
       "\n",
       "**Future References:** 0\n",
       "\n",
       "---"
      ],
      "text/plain": [
       "<IPython.core.display.Markdown object>"
      ]
     },
     "metadata": {},
     "output_type": "display_data"
    },
    {
     "data": {
      "text/markdown": [
       "### File: the_chair_s1e6_transcript.txt\n",
       "\n",
       "**Sentence Number:** 140\n",
       "\n",
       "**Sentence:** No one who worked at Pembroke in the ’80s is still around,\n",
       "\n",
       "who’d be accountable for this.\n",
       "\n",
       "**Past References:** 1\n",
       "\n",
       "**Future References:** 0\n",
       "\n",
       "---"
      ],
      "text/plain": [
       "<IPython.core.display.Markdown object>"
      ]
     },
     "metadata": {},
     "output_type": "display_data"
    },
    {
     "data": {
      "text/markdown": [
       "### File: the_chair_s1e6_transcript.txt\n",
       "\n",
       "**Sentence Number:** 142\n",
       "\n",
       "**Sentence:** And… our records go back, but I don’t know if they go back…\n",
       "\n",
       "I want someone to acknowledge what happened.\n",
       "\n",
       "**Past References:** 1\n",
       "\n",
       "**Future References:** 0\n",
       "\n",
       "---"
      ],
      "text/plain": [
       "<IPython.core.display.Markdown object>"
      ]
     },
     "metadata": {},
     "output_type": "display_data"
    },
    {
     "data": {
      "text/markdown": [
       "### File: the_chair_s1e6_transcript.txt\n",
       "\n",
       "**Sentence Number:** 146\n",
       "\n",
       "**Sentence:** Have you talked to your chair?\n",
       "\n",
       "**Past References:** 1\n",
       "\n",
       "**Future References:** 0\n",
       "\n",
       "---"
      ],
      "text/plain": [
       "<IPython.core.display.Markdown object>"
      ]
     },
     "metadata": {},
     "output_type": "display_data"
    },
    {
     "data": {
      "text/markdown": [
       "### File: the_chair_s1e6_transcript.txt\n",
       "\n",
       "**Sentence Number:** 154\n",
       "\n",
       "**Sentence:** I assume you’ve seen this?\n",
       "\n",
       "**Past References:** 1\n",
       "\n",
       "**Future References:** 0\n",
       "\n",
       "---"
      ],
      "text/plain": [
       "<IPython.core.display.Markdown object>"
      ]
     },
     "metadata": {},
     "output_type": "display_data"
    },
    {
     "data": {
      "text/markdown": [
       "### File: the_chair_s1e6_transcript.txt\n",
       "\n",
       "**Sentence Number:** 165\n",
       "\n",
       "**Sentence:** On notice that Ji-Yoon needs to be replaced.\n",
       "\n",
       "**Past References:** 1\n",
       "\n",
       "**Future References:** 0\n",
       "\n",
       "---"
      ],
      "text/plain": [
       "<IPython.core.display.Markdown object>"
      ]
     },
     "metadata": {},
     "output_type": "display_data"
    },
    {
     "data": {
      "text/markdown": [
       "### File: the_chair_s1e6_transcript.txt\n",
       "\n",
       "**Sentence Number:** 170\n",
       "\n",
       "**Sentence:** After the termination hearing,\n",
       "\n",
       "Ji-Yoon’s gonna recommend to the provost that Bill be dismissed,\n",
       "\n",
       "which will undo this perception\n",
       "\n",
       "that the department’s initial stance wasn’t strong enough.\n",
       "\n",
       "**Past References:** 1\n",
       "\n",
       "**Future References:** 1\n",
       "\n",
       "---"
      ],
      "text/plain": [
       "<IPython.core.display.Markdown object>"
      ]
     },
     "metadata": {},
     "output_type": "display_data"
    },
    {
     "data": {
      "text/markdown": [
       "### File: the_chair_s1e6_transcript.txt\n",
       "\n",
       "**Sentence Number:** 173\n",
       "\n",
       "**Sentence:** We will just wait and see how Bill’s hearing goes in the morning.\n",
       "\n",
       "**Past References:** 0\n",
       "\n",
       "**Future References:** 1\n",
       "\n",
       "---"
      ],
      "text/plain": [
       "<IPython.core.display.Markdown object>"
      ]
     },
     "metadata": {},
     "output_type": "display_data"
    },
    {
     "data": {
      "text/markdown": [
       "### File: the_chair_s1e6_transcript.txt\n",
       "\n",
       "**Sentence Number:** 176\n",
       "\n",
       "**Sentence:** [woman] They’ve got one thing working in their favor.\n",
       "\n",
       "**Past References:** 1\n",
       "\n",
       "**Future References:** 0\n",
       "\n",
       "---"
      ],
      "text/plain": [
       "<IPython.core.display.Markdown object>"
      ]
     },
     "metadata": {},
     "output_type": "display_data"
    },
    {
     "data": {
      "text/markdown": [
       "### File: the_chair_s1e6_transcript.txt\n",
       "\n",
       "**Sentence Number:** 178\n",
       "\n",
       "**Sentence:** You’ve become a scandalous figure.\n",
       "\n",
       "**Past References:** 1\n",
       "\n",
       "**Future References:** 0\n",
       "\n",
       "---"
      ],
      "text/plain": [
       "<IPython.core.display.Markdown object>"
      ]
     },
     "metadata": {},
     "output_type": "display_data"
    },
    {
     "data": {
      "text/markdown": [
       "### File: the_chair_s1e6_transcript.txt\n",
       "\n",
       "**Sentence Number:** 180\n",
       "\n",
       "**Sentence:** I’ve been there 25 years.\n",
       "\n",
       "**Past References:** 1\n",
       "\n",
       "**Future References:** 0\n",
       "\n",
       "---"
      ],
      "text/plain": [
       "<IPython.core.display.Markdown object>"
      ]
     },
     "metadata": {},
     "output_type": "display_data"
    },
    {
     "data": {
      "text/markdown": [
       "### File: the_chair_s1e6_transcript.txt\n",
       "\n",
       "**Sentence Number:** 183\n",
       "\n",
       "**Sentence:** The chair of my department, she’s got my back.\n",
       "\n",
       "**Past References:** 1\n",
       "\n",
       "**Future References:** 0\n",
       "\n",
       "---"
      ],
      "text/plain": [
       "<IPython.core.display.Markdown object>"
      ]
     },
     "metadata": {},
     "output_type": "display_data"
    },
    {
     "data": {
      "text/markdown": [
       "### File: the_chair_s1e6_transcript.txt\n",
       "\n",
       "**Sentence Number:** 185\n",
       "\n",
       "**Sentence:** She’s the one who sent you this?\n",
       "\n",
       "**Past References:** 1\n",
       "\n",
       "**Future References:** 0\n",
       "\n",
       "---"
      ],
      "text/plain": [
       "<IPython.core.display.Markdown object>"
      ]
     },
     "metadata": {},
     "output_type": "display_data"
    },
    {
     "data": {
      "text/markdown": [
       "### File: the_chair_s1e6_transcript.txt\n",
       "\n",
       "**Sentence Number:** 196\n",
       "\n",
       "**Sentence:** Will you be able to afford that without a salary?\n",
       "\n",
       "**Past References:** 0\n",
       "\n",
       "**Future References:** 1\n",
       "\n",
       "---"
      ],
      "text/plain": [
       "<IPython.core.display.Markdown object>"
      ]
     },
     "metadata": {},
     "output_type": "display_data"
    },
    {
     "data": {
      "text/markdown": [
       "### File: the_chair_s1e6_transcript.txt\n",
       "\n",
       "**Sentence Number:** 198\n",
       "\n",
       "**Sentence:** I can make sure you get what you’re owed.\n",
       "\n",
       "**Past References:** 1\n",
       "\n",
       "**Future References:** 0\n",
       "\n",
       "---"
      ],
      "text/plain": [
       "<IPython.core.display.Markdown object>"
      ]
     },
     "metadata": {},
     "output_type": "display_data"
    },
    {
     "data": {
      "text/markdown": [
       "### File: the_chair_s1e6_transcript.txt\n",
       "\n",
       "**Sentence Number:** 203\n",
       "\n",
       "**Sentence:** I’ve always wanted to see Hitler’s mountain retreat.\n",
       "\n",
       "**Past References:** 1\n",
       "\n",
       "**Future References:** 0\n",
       "\n",
       "---"
      ],
      "text/plain": [
       "<IPython.core.display.Markdown object>"
      ]
     },
     "metadata": {},
     "output_type": "display_data"
    },
    {
     "data": {
      "text/markdown": [
       "### File: the_chair_s1e6_transcript.txt\n",
       "\n",
       "**Sentence Number:** 204\n",
       "\n",
       "**Sentence:** I’m going to be very frank with you, Professor Dobson.\n",
       "\n",
       "**Past References:** 0\n",
       "\n",
       "**Future References:** 1\n",
       "\n",
       "---"
      ],
      "text/plain": [
       "<IPython.core.display.Markdown object>"
      ]
     },
     "metadata": {},
     "output_type": "display_data"
    },
    {
     "data": {
      "text/markdown": [
       "### File: the_chair_s1e6_transcript.txt\n",
       "\n",
       "**Sentence Number:** 205\n",
       "\n",
       "**Sentence:** Do with it what you will.\n",
       "\n",
       "**Past References:** 0\n",
       "\n",
       "**Future References:** 1\n",
       "\n",
       "---"
      ],
      "text/plain": [
       "<IPython.core.display.Markdown object>"
      ]
     },
     "metadata": {},
     "output_type": "display_data"
    },
    {
     "data": {
      "text/markdown": [
       "### File: the_chair_s1e6_transcript.txt\n",
       "\n",
       "**Sentence Number:** 207\n",
       "\n",
       "**Sentence:** Given that he’s tenured, here are the portions that apply.\n",
       "\n",
       "**Past References:** 1\n",
       "\n",
       "**Future References:** 0\n",
       "\n",
       "---"
      ],
      "text/plain": [
       "<IPython.core.display.Markdown object>"
      ]
     },
     "metadata": {},
     "output_type": "display_data"
    },
    {
     "data": {
      "text/markdown": [
       "### File: the_chair_s1e6_transcript.txt\n",
       "\n",
       "**Sentence Number:** 215\n",
       "\n",
       "**Sentence:** You’ll read from the affidavit alleging\n",
       "\n",
       "what took place in the classroom and town hall…\n",
       "\n",
       "**Past References:** 1\n",
       "\n",
       "**Future References:** 0\n",
       "\n",
       "---"
      ],
      "text/plain": [
       "<IPython.core.display.Markdown object>"
      ]
     },
     "metadata": {},
     "output_type": "display_data"
    },
    {
     "data": {
      "text/markdown": [
       "### File: the_chair_s1e6_transcript.txt\n",
       "\n",
       "**Sentence Number:** 218\n",
       "\n",
       "**Sentence:** It’d be better if Dean Larson, as the one presiding over the hearing,\n",
       "\n",
       "didn’t also have to present the evidence.\n",
       "\n",
       "**Past References:** 1\n",
       "\n",
       "**Future References:** 0\n",
       "\n",
       "---"
      ],
      "text/plain": [
       "<IPython.core.display.Markdown object>"
      ]
     },
     "metadata": {},
     "output_type": "display_data"
    },
    {
     "data": {
      "text/markdown": [
       "### File: the_chair_s1e6_transcript.txt\n",
       "\n",
       "**Sentence Number:** 219\n",
       "\n",
       "**Sentence:** Have you compiled the student complaints?\n",
       "\n",
       "**Past References:** 1\n",
       "\n",
       "**Future References:** 0\n",
       "\n",
       "---"
      ],
      "text/plain": [
       "<IPython.core.display.Markdown object>"
      ]
     },
     "metadata": {},
     "output_type": "display_data"
    },
    {
     "data": {
      "text/markdown": [
       "### File: the_chair_s1e6_transcript.txt\n",
       "\n",
       "**Sentence Number:** 220\n",
       "\n",
       "**Sentence:** I haven’t printed them out yet.\n",
       "\n",
       "**Past References:** 1\n",
       "\n",
       "**Future References:** 0\n",
       "\n",
       "---"
      ],
      "text/plain": [
       "<IPython.core.display.Markdown object>"
      ]
     },
     "metadata": {},
     "output_type": "display_data"
    },
    {
     "data": {
      "text/markdown": [
       "### File: the_chair_s1e6_transcript.txt\n",
       "\n",
       "**Sentence Number:** 224\n",
       "\n",
       "**Sentence:** Uh, but I’ve also received some strong endorsements of Bill,\n",
       "\n",
       "students who have been deeply impacted by his teaching over the years.\n",
       "\n",
       "**Past References:** 1\n",
       "\n",
       "**Future References:** 0\n",
       "\n",
       "---"
      ],
      "text/plain": [
       "<IPython.core.display.Markdown object>"
      ]
     },
     "metadata": {},
     "output_type": "display_data"
    },
    {
     "data": {
      "text/markdown": [
       "### File: the_chair_s1e6_transcript.txt\n",
       "\n",
       "**Sentence Number:** 226\n",
       "\n",
       "**Sentence:** This…\n",
       "\n",
       "This has become a…\n",
       "\n",
       "[smacking lips] …a serious reputational matter.\n",
       "\n",
       "**Past References:** 1\n",
       "\n",
       "**Future References:** 0\n",
       "\n",
       "---"
      ],
      "text/plain": [
       "<IPython.core.display.Markdown object>"
      ]
     },
     "metadata": {},
     "output_type": "display_data"
    },
    {
     "data": {
      "text/markdown": [
       "### File: the_chair_s1e6_transcript.txt\n",
       "\n",
       "**Sentence Number:** 228\n",
       "\n",
       "**Sentence:** What we are trying to do here is create a narrative\n",
       "\n",
       "that will allow you to realign with your students, regain their trust.\n",
       "\n",
       "**Past References:** 0\n",
       "\n",
       "**Future References:** 1\n",
       "\n",
       "---"
      ],
      "text/plain": [
       "<IPython.core.display.Markdown object>"
      ]
     },
     "metadata": {},
     "output_type": "display_data"
    },
    {
     "data": {
      "text/markdown": [
       "### File: the_chair_s1e6_transcript.txt\n",
       "\n",
       "**Sentence Number:** 230\n",
       "\n",
       "**Sentence:** Because right now, the perception is that you are defending your boyfriend\n",
       "\n",
       "who goose-stepped his way across a classroom.\n",
       "\n",
       "**Past References:** 1\n",
       "\n",
       "**Future References:** 0\n",
       "\n",
       "---"
      ],
      "text/plain": [
       "<IPython.core.display.Markdown object>"
      ]
     },
     "metadata": {},
     "output_type": "display_data"
    },
    {
     "data": {
      "text/markdown": [
       "### File: the_chair_s1e6_transcript.txt\n",
       "\n",
       "**Sentence Number:** 231\n",
       "\n",
       "**Sentence:** Have you seen Joan?\n",
       "\n",
       "**Past References:** 1\n",
       "\n",
       "**Future References:** 0\n",
       "\n",
       "---"
      ],
      "text/plain": [
       "<IPython.core.display.Markdown object>"
      ]
     },
     "metadata": {},
     "output_type": "display_data"
    },
    {
     "data": {
      "text/markdown": [
       "### File: the_chair_s1e6_transcript.txt\n",
       "\n",
       "**Sentence Number:** 232\n",
       "\n",
       "**Sentence:** I saw her in the lounge with everyone.\n",
       "\n",
       "**Past References:** 1\n",
       "\n",
       "**Future References:** 0\n",
       "\n",
       "---"
      ],
      "text/plain": [
       "<IPython.core.display.Markdown object>"
      ]
     },
     "metadata": {},
     "output_type": "display_data"
    },
    {
     "data": {
      "text/markdown": [
       "### File: the_chair_s1e6_transcript.txt\n",
       "\n",
       "**Sentence Number:** 236\n",
       "\n",
       "**Sentence:** They were in a meeting.\n",
       "\n",
       "**Past References:** 1\n",
       "\n",
       "**Future References:** 0\n",
       "\n",
       "---"
      ],
      "text/plain": [
       "<IPython.core.display.Markdown object>"
      ]
     },
     "metadata": {},
     "output_type": "display_data"
    },
    {
     "data": {
      "text/markdown": [
       "### File: the_chair_s1e6_transcript.txt\n",
       "\n",
       "**Sentence Number:** 239\n",
       "\n",
       "**Sentence:** Was it the whole department?\n",
       "\n",
       "**Past References:** 1\n",
       "\n",
       "**Future References:** 0\n",
       "\n",
       "---"
      ],
      "text/plain": [
       "<IPython.core.display.Markdown object>"
      ]
     },
     "metadata": {},
     "output_type": "display_data"
    },
    {
     "data": {
      "text/markdown": [
       "### File: the_chair_s1e6_transcript.txt\n",
       "\n",
       "**Sentence Number:** 240\n",
       "\n",
       "**Sentence:** Ji-Yoon, someone from the New York Times just called.\n",
       "\n",
       "**Past References:** 1\n",
       "\n",
       "**Future References:** 0\n",
       "\n",
       "---"
      ],
      "text/plain": [
       "<IPython.core.display.Markdown object>"
      ]
     },
     "metadata": {},
     "output_type": "display_data"
    },
    {
     "data": {
      "text/markdown": [
       "### File: the_chair_s1e6_transcript.txt\n",
       "\n",
       "**Sentence Number:** 252\n",
       "\n",
       "**Sentence:** The gag order that you placed…\n",
       "\n",
       "Stop saying gag order!\n",
       "\n",
       "**Past References:** 1\n",
       "\n",
       "**Future References:** 0\n",
       "\n",
       "---"
      ],
      "text/plain": [
       "<IPython.core.display.Markdown object>"
      ]
     },
     "metadata": {},
     "output_type": "display_data"
    },
    {
     "data": {
      "text/markdown": [
       "### File: the_chair_s1e6_transcript.txt\n",
       "\n",
       "**Sentence Number:** 257\n",
       "\n",
       "**Sentence:** If you see Joan, will you tell her I’m looking for her?\n",
       "\n",
       "**Past References:** 0\n",
       "\n",
       "**Future References:** 1\n",
       "\n",
       "---"
      ],
      "text/plain": [
       "<IPython.core.display.Markdown object>"
      ]
     },
     "metadata": {},
     "output_type": "display_data"
    },
    {
     "data": {
      "text/markdown": [
       "### File: the_chair_s1e6_transcript.txt\n",
       "\n",
       "**Sentence Number:** 260\n",
       "\n",
       "**Sentence:** Will do.\n",
       "\n",
       "**Past References:** 0\n",
       "\n",
       "**Future References:** 1\n",
       "\n",
       "---"
      ],
      "text/plain": [
       "<IPython.core.display.Markdown object>"
      ]
     },
     "metadata": {},
     "output_type": "display_data"
    },
    {
     "data": {
      "text/markdown": [
       "### File: the_chair_s1e6_transcript.txt\n",
       "\n",
       "**Sentence Number:** 261\n",
       "\n",
       "**Sentence:** I know that you didn’t mean it the way they construed it.\n",
       "\n",
       "**Past References:** 1\n",
       "\n",
       "**Future References:** 0\n",
       "\n",
       "---"
      ],
      "text/plain": [
       "<IPython.core.display.Markdown object>"
      ]
     },
     "metadata": {},
     "output_type": "display_data"
    },
    {
     "data": {
      "text/markdown": [
       "### File: the_chair_s1e6_transcript.txt\n",
       "\n",
       "**Sentence Number:** 264\n",
       "\n",
       "**Sentence:** I shouldn’t have said it.\n",
       "\n",
       "**Past References:** 1\n",
       "\n",
       "**Future References:** 0\n",
       "\n",
       "---"
      ],
      "text/plain": [
       "<IPython.core.display.Markdown object>"
      ]
     },
     "metadata": {},
     "output_type": "display_data"
    },
    {
     "data": {
      "text/markdown": [
       "### File: the_chair_s1e6_transcript.txt\n",
       "\n",
       "**Sentence Number:** 265\n",
       "\n",
       "**Sentence:** I wrote a statement in support of Bill.\n",
       "\n",
       "**Past References:** 1\n",
       "\n",
       "**Future References:** 0\n",
       "\n",
       "---"
      ],
      "text/plain": [
       "<IPython.core.display.Markdown object>"
      ]
     },
     "metadata": {},
     "output_type": "display_data"
    },
    {
     "data": {
      "text/markdown": [
       "### File: the_chair_s1e6_transcript.txt\n",
       "\n",
       "**Sentence Number:** 266\n",
       "\n",
       "**Sentence:** I wanted you to have it before tomorrow.\n",
       "\n",
       "**Past References:** 1\n",
       "\n",
       "**Future References:** 0\n",
       "\n",
       "---"
      ],
      "text/plain": [
       "<IPython.core.display.Markdown object>"
      ]
     },
     "metadata": {},
     "output_type": "display_data"
    },
    {
     "data": {
      "text/markdown": [
       "### File: the_chair_s1e6_transcript.txt\n",
       "\n",
       "**Sentence Number:** 268\n",
       "\n",
       "**Sentence:** I thought you were the committee.\n",
       "\n",
       "**Past References:** 1\n",
       "\n",
       "**Future References:** 0\n",
       "\n",
       "---"
      ],
      "text/plain": [
       "<IPython.core.display.Markdown object>"
      ]
     },
     "metadata": {},
     "output_type": "display_data"
    },
    {
     "data": {
      "text/markdown": [
       "### File: the_chair_s1e6_transcript.txt\n",
       "\n",
       "**Sentence Number:** 279\n",
       "\n",
       "**Sentence:** I sent him a paper my first semester to see if he’d give me some feedback.\n",
       "\n",
       "**Past References:** 1\n",
       "\n",
       "**Future References:** 0\n",
       "\n",
       "---"
      ],
      "text/plain": [
       "<IPython.core.display.Markdown object>"
      ]
     },
     "metadata": {},
     "output_type": "display_data"
    },
    {
     "data": {
      "text/markdown": [
       "### File: the_chair_s1e6_transcript.txt\n",
       "\n",
       "**Sentence Number:** 280\n",
       "\n",
       "**Sentence:** Never got a response.\n",
       "\n",
       "**Past References:** 1\n",
       "\n",
       "**Future References:** 0\n",
       "\n",
       "---"
      ],
      "text/plain": [
       "<IPython.core.display.Markdown object>"
      ]
     },
     "metadata": {},
     "output_type": "display_data"
    },
    {
     "data": {
      "text/markdown": [
       "### File: the_chair_s1e6_transcript.txt\n",
       "\n",
       "**Sentence Number:** 290\n",
       "\n",
       "**Sentence:** It will scare her.\n",
       "\n",
       "**Past References:** 0\n",
       "\n",
       "**Future References:** 1\n",
       "\n",
       "---"
      ],
      "text/plain": [
       "<IPython.core.display.Markdown object>"
      ]
     },
     "metadata": {},
     "output_type": "display_data"
    },
    {
     "data": {
      "text/markdown": [
       "### File: the_chair_s1e6_transcript.txt\n",
       "\n",
       "**Sentence Number:** 301\n",
       "\n",
       "**Sentence:** It took a lot to work up the courage, so I’m just…\n",
       "\n",
       "**Past References:** 1\n",
       "\n",
       "**Future References:** 0\n",
       "\n",
       "---"
      ],
      "text/plain": [
       "<IPython.core.display.Markdown object>"
      ]
     },
     "metadata": {},
     "output_type": "display_data"
    },
    {
     "data": {
      "text/markdown": [
       "### File: the_chair_s1e6_transcript.txt\n",
       "\n",
       "**Sentence Number:** 313\n",
       "\n",
       "**Sentence:** No, it’s gonna look like you didn’t leave.\n",
       "\n",
       "**Past References:** 1\n",
       "\n",
       "**Future References:** 0\n",
       "\n",
       "---"
      ],
      "text/plain": [
       "<IPython.core.display.Markdown object>"
      ]
     },
     "metadata": {},
     "output_type": "display_data"
    },
    {
     "data": {
      "text/markdown": [
       "### File: the_chair_s1e6_transcript.txt\n",
       "\n",
       "**Sentence Number:** 314\n",
       "\n",
       "**Sentence:** I just wanna ask you something, and I want you to be honest.\n",
       "\n",
       "**Past References:** 0\n",
       "\n",
       "**Future References:** 1\n",
       "\n",
       "---"
      ],
      "text/plain": [
       "<IPython.core.display.Markdown object>"
      ]
     },
     "metadata": {},
     "output_type": "display_data"
    },
    {
     "data": {
      "text/markdown": [
       "### File: the_chair_s1e6_transcript.txt\n",
       "\n",
       "**Sentence Number:** 316\n",
       "\n",
       "**Sentence:** If the answer is no, I will be… I will be totally fine.\n",
       "\n",
       "**Past References:** 0\n",
       "\n",
       "**Future References:** 1\n",
       "\n",
       "---"
      ],
      "text/plain": [
       "<IPython.core.display.Markdown object>"
      ]
     },
     "metadata": {},
     "output_type": "display_data"
    },
    {
     "data": {
      "text/markdown": [
       "### File: the_chair_s1e6_transcript.txt\n",
       "\n",
       "**Sentence Number:** 319\n",
       "\n",
       "**Sentence:** I’m old enough to be your dad.\n",
       "\n",
       "**Past References:** 0\n",
       "\n",
       "**Future References:** 1\n",
       "\n",
       "---"
      ],
      "text/plain": [
       "<IPython.core.display.Markdown object>"
      ]
     },
     "metadata": {},
     "output_type": "display_data"
    },
    {
     "data": {
      "text/markdown": [
       "### File: the_chair_s1e6_transcript.txt\n",
       "\n",
       "**Sentence Number:** 325\n",
       "\n",
       "**Sentence:** You think I came here to try to fuck you?\n",
       "\n",
       "**Past References:** 1\n",
       "\n",
       "**Future References:** 0\n",
       "\n",
       "---"
      ],
      "text/plain": [
       "<IPython.core.display.Markdown object>"
      ]
     },
     "metadata": {},
     "output_type": "display_data"
    },
    {
     "data": {
      "text/markdown": [
       "### File: the_chair_s1e6_transcript.txt\n",
       "\n",
       "**Sentence Number:** 347\n",
       "\n",
       "**Sentence:** I was just, um, wondering if you’d consider reading my first novel.\n",
       "\n",
       "**Past References:** 1\n",
       "\n",
       "**Future References:** 0\n",
       "\n",
       "---"
      ],
      "text/plain": [
       "<IPython.core.display.Markdown object>"
      ]
     },
     "metadata": {},
     "output_type": "display_data"
    },
    {
     "data": {
      "text/markdown": [
       "### File: the_chair_s1e6_transcript.txt\n",
       "\n",
       "**Sentence Number:** 350\n",
       "\n",
       "**Sentence:** I wasn’t sure if they’d broken ties with you over this whole thing.\n",
       "\n",
       "**Past References:** 1\n",
       "\n",
       "**Future References:** 0\n",
       "\n",
       "---"
      ],
      "text/plain": [
       "<IPython.core.display.Markdown object>"
      ]
     },
     "metadata": {},
     "output_type": "display_data"
    },
    {
     "data": {
      "text/markdown": [
       "### File: the_chair_s1e6_transcript.txt\n",
       "\n",
       "**Sentence Number:** 352\n",
       "\n",
       "**Sentence:** But…\n",
       "\n",
       "When did this… Is this today?\n",
       "\n",
       "**Past References:** 1\n",
       "\n",
       "**Future References:** 0\n",
       "\n",
       "---"
      ],
      "text/plain": [
       "<IPython.core.display.Markdown object>"
      ]
     },
     "metadata": {},
     "output_type": "display_data"
    },
    {
     "data": {
      "text/markdown": [
       "### File: the_chair_s1e6_transcript.txt\n",
       "\n",
       "**Sentence Number:** 358\n",
       "\n",
       "**Sentence:** I gotta go.\n",
       "\n",
       "**Past References:** 1\n",
       "\n",
       "**Future References:** 0\n",
       "\n",
       "---"
      ],
      "text/plain": [
       "<IPython.core.display.Markdown object>"
      ]
     },
     "metadata": {},
     "output_type": "display_data"
    },
    {
     "data": {
      "text/markdown": [
       "### File: the_chair_s1e6_transcript.txt\n",
       "\n",
       "**Sentence Number:** 367\n",
       "\n",
       "**Sentence:** I’d love to get your notes.\n",
       "\n",
       "**Past References:** 1\n",
       "\n",
       "**Future References:** 0\n",
       "\n",
       "---"
      ],
      "text/plain": [
       "<IPython.core.display.Markdown object>"
      ]
     },
     "metadata": {},
     "output_type": "display_data"
    },
    {
     "data": {
      "text/markdown": [
       "### File: the_chair_s1e6_transcript.txt\n",
       "\n",
       "**Sentence Number:** 370\n",
       "\n",
       "**Sentence:** Just… If anybody asks, we didn’t fuck, okay?\n",
       "\n",
       "**Past References:** 1\n",
       "\n",
       "**Future References:** 0\n",
       "\n",
       "---"
      ],
      "text/plain": [
       "<IPython.core.display.Markdown object>"
      ]
     },
     "metadata": {},
     "output_type": "display_data"
    },
    {
     "data": {
      "text/markdown": [
       "### File: the_chair_s1e6_transcript.txt\n",
       "\n",
       "**Sentence Number:** 380\n",
       "\n",
       "**Sentence:** Did you get taller again?\n",
       "\n",
       "**Past References:** 1\n",
       "\n",
       "**Future References:** 0\n",
       "\n",
       "---"
      ],
      "text/plain": [
       "<IPython.core.display.Markdown object>"
      ]
     },
     "metadata": {},
     "output_type": "display_data"
    },
    {
     "data": {
      "text/markdown": [
       "### File: the_chair_s1e6_transcript.txt\n",
       "\n",
       "**Sentence Number:** 397\n",
       "\n",
       "**Sentence:** No wonder nobody wanted to marry you!\n",
       "\n",
       "**Past References:** 1\n",
       "\n",
       "**Future References:** 0\n",
       "\n",
       "---"
      ],
      "text/plain": [
       "<IPython.core.display.Markdown object>"
      ]
     },
     "metadata": {},
     "output_type": "display_data"
    },
    {
     "data": {
      "text/markdown": [
       "### File: the_chair_s1e6_transcript.txt\n",
       "\n",
       "**Sentence Number:** 403\n",
       "\n",
       "**Sentence:** Hey, I saw the Daily.\n",
       "\n",
       "**Past References:** 1\n",
       "\n",
       "**Future References:** 0\n",
       "\n",
       "---"
      ],
      "text/plain": [
       "<IPython.core.display.Markdown object>"
      ]
     },
     "metadata": {},
     "output_type": "display_data"
    },
    {
     "data": {
      "text/markdown": [
       "### File: the_chair_s1e6_transcript.txt\n",
       "\n",
       "**Sentence Number:** 408\n",
       "\n",
       "**Sentence:** I’m literally being called Hitler,\n",
       "\n",
       "**Past References:** 1\n",
       "\n",
       "**Future References:** 0\n",
       "\n",
       "---"
      ],
      "text/plain": [
       "<IPython.core.display.Markdown object>"
      ]
     },
     "metadata": {},
     "output_type": "display_data"
    },
    {
     "data": {
      "text/markdown": [
       "### File: the_chair_s1e6_transcript.txt\n",
       "\n",
       "**Sentence Number:** 409\n",
       "\n",
       "**Sentence:** so I don’t think you get to be the face of totalitarianism.\n",
       "\n",
       "**Past References:** 0\n",
       "\n",
       "**Future References:** 1\n",
       "\n",
       "---"
      ],
      "text/plain": [
       "<IPython.core.display.Markdown object>"
      ]
     },
     "metadata": {},
     "output_type": "display_data"
    },
    {
     "data": {
      "text/markdown": [
       "### File: the_chair_s1e6_transcript.txt\n",
       "\n",
       "**Sentence Number:** 414\n",
       "\n",
       "**Sentence:** I’m just saying I know you were just trying to walk the line.\n",
       "\n",
       "**Past References:** 1\n",
       "\n",
       "**Future References:** 0\n",
       "\n",
       "---"
      ],
      "text/plain": [
       "<IPython.core.display.Markdown object>"
      ]
     },
     "metadata": {},
     "output_type": "display_data"
    },
    {
     "data": {
      "text/markdown": [
       "### File: the_chair_s1e6_transcript.txt\n",
       "\n",
       "**Sentence Number:** 415\n",
       "\n",
       "**Sentence:** Listen, you’re living proof this entire world hasn’t gone completely insane.\n",
       "\n",
       "**Past References:** 1\n",
       "\n",
       "**Future References:** 0\n",
       "\n",
       "---"
      ],
      "text/plain": [
       "<IPython.core.display.Markdown object>"
      ]
     },
     "metadata": {},
     "output_type": "display_data"
    },
    {
     "data": {
      "text/markdown": [
       "### File: the_chair_s1e6_transcript.txt\n",
       "\n",
       "**Sentence Number:** 419\n",
       "\n",
       "**Sentence:** I met with a lawyer.\n",
       "\n",
       "**Past References:** 1\n",
       "\n",
       "**Future References:** 0\n",
       "\n",
       "---"
      ],
      "text/plain": [
       "<IPython.core.display.Markdown object>"
      ]
     },
     "metadata": {},
     "output_type": "display_data"
    },
    {
     "data": {
      "text/markdown": [
       "### File: the_chair_s1e6_transcript.txt\n",
       "\n",
       "**Sentence Number:** 420\n",
       "\n",
       "**Sentence:** She had this whole plan\n",
       "\n",
       "about how I could get a settlement.\n",
       "\n",
       "**Past References:** 1\n",
       "\n",
       "**Future References:** 0\n",
       "\n",
       "---"
      ],
      "text/plain": [
       "<IPython.core.display.Markdown object>"
      ]
     },
     "metadata": {},
     "output_type": "display_data"
    },
    {
     "data": {
      "text/markdown": [
       "### File: the_chair_s1e6_transcript.txt\n",
       "\n",
       "**Sentence Number:** 423\n",
       "\n",
       "**Sentence:** So I played it out.\n",
       "\n",
       "**Past References:** 1\n",
       "\n",
       "**Future References:** 0\n",
       "\n",
       "---"
      ],
      "text/plain": [
       "<IPython.core.display.Markdown object>"
      ]
     },
     "metadata": {},
     "output_type": "display_data"
    },
    {
     "data": {
      "text/markdown": [
       "### File: the_chair_s1e6_transcript.txt\n",
       "\n",
       "**Sentence Number:** 428\n",
       "\n",
       "**Sentence:** It didn’t include you.\n",
       "\n",
       "**Past References:** 1\n",
       "\n",
       "**Future References:** 0\n",
       "\n",
       "---"
      ],
      "text/plain": [
       "<IPython.core.display.Markdown object>"
      ]
     },
     "metadata": {},
     "output_type": "display_data"
    },
    {
     "data": {
      "text/markdown": [
       "### File: the_chair_s1e6_transcript.txt\n",
       "\n",
       "**Sentence Number:** 430\n",
       "\n",
       "**Sentence:** And then I was like, “Why can’t it?”\n",
       "\n",
       "**Past References:** 1\n",
       "\n",
       "**Future References:** 0\n",
       "\n",
       "---"
      ],
      "text/plain": [
       "<IPython.core.display.Markdown object>"
      ]
     },
     "metadata": {},
     "output_type": "display_data"
    },
    {
     "data": {
      "text/markdown": [
       "### File: the_chair_s1e6_transcript.txt\n",
       "\n",
       "**Sentence Number:** 431\n",
       "\n",
       "**Sentence:** Don’t tell me you wanna stay at that shithole\n",
       "\n",
       "after the way they treated us.\n",
       "\n",
       "**Past References:** 1\n",
       "\n",
       "**Future References:** 0\n",
       "\n",
       "---"
      ],
      "text/plain": [
       "<IPython.core.display.Markdown object>"
      ]
     },
     "metadata": {},
     "output_type": "display_data"
    },
    {
     "data": {
      "text/markdown": [
       "### File: the_chair_s1e6_transcript.txt\n",
       "\n",
       "**Sentence Number:** 433\n",
       "\n",
       "**Sentence:** I have a lot invested here.\n",
       "\n",
       "**Past References:** 1\n",
       "\n",
       "**Future References:** 0\n",
       "\n",
       "---"
      ],
      "text/plain": [
       "<IPython.core.display.Markdown object>"
      ]
     },
     "metadata": {},
     "output_type": "display_data"
    },
    {
     "data": {
      "text/markdown": [
       "### File: the_chair_s1e6_transcript.txt\n",
       "\n",
       "**Sentence Number:** 439\n",
       "\n",
       "**Sentence:** [stuttering] It’s what you were born to do.\n",
       "\n",
       "**Past References:** 1\n",
       "\n",
       "**Future References:** 0\n",
       "\n",
       "---"
      ],
      "text/plain": [
       "<IPython.core.display.Markdown object>"
      ]
     },
     "metadata": {},
     "output_type": "display_data"
    },
    {
     "data": {
      "text/markdown": [
       "### File: the_chair_s1e6_transcript.txt\n",
       "\n",
       "**Sentence Number:** 447\n",
       "\n",
       "**Sentence:** I’ve waited so long for this.\n",
       "\n",
       "**Past References:** 1\n",
       "\n",
       "**Future References:** 0\n",
       "\n",
       "---"
      ],
      "text/plain": [
       "<IPython.core.display.Markdown object>"
      ]
     },
     "metadata": {},
     "output_type": "display_data"
    },
    {
     "data": {
      "text/markdown": [
       "### File: the_chair_s1e6_transcript.txt\n",
       "\n",
       "**Sentence Number:** 460\n",
       "\n",
       "**Sentence:** When… When were you gonna tell me?\n",
       "\n",
       "**Past References:** 1\n",
       "\n",
       "**Future References:** 0\n",
       "\n",
       "---"
      ],
      "text/plain": [
       "<IPython.core.display.Markdown object>"
      ]
     },
     "metadata": {},
     "output_type": "display_data"
    },
    {
     "data": {
      "text/markdown": [
       "### File: the_chair_s1e6_transcript.txt\n",
       "\n",
       "**Sentence Number:** 462\n",
       "\n",
       "**Sentence:** You didn’t return my calls.\n",
       "\n",
       "**Past References:** 1\n",
       "\n",
       "**Future References:** 0\n",
       "\n",
       "---"
      ],
      "text/plain": [
       "<IPython.core.display.Markdown object>"
      ]
     },
     "metadata": {},
     "output_type": "display_data"
    },
    {
     "data": {
      "text/markdown": [
       "### File: the_chair_s1e6_transcript.txt\n",
       "\n",
       "**Sentence Number:** 470\n",
       "\n",
       "**Sentence:** I am being seen as complicit.\n",
       "\n",
       "**Past References:** 1\n",
       "\n",
       "**Future References:** 0\n",
       "\n",
       "---"
      ],
      "text/plain": [
       "<IPython.core.display.Markdown object>"
      ]
     },
     "metadata": {},
     "output_type": "display_data"
    },
    {
     "data": {
      "text/markdown": [
       "### File: the_chair_s1e6_transcript.txt\n",
       "\n",
       "**Sentence Number:** 471\n",
       "\n",
       "**Sentence:** Who gives a fuck about how you’re seen?\n",
       "\n",
       "**Past References:** 1\n",
       "\n",
       "**Future References:** 0\n",
       "\n",
       "---"
      ],
      "text/plain": [
       "<IPython.core.display.Markdown object>"
      ]
     },
     "metadata": {},
     "output_type": "display_data"
    },
    {
     "data": {
      "text/markdown": [
       "### File: the_chair_s1e6_transcript.txt\n",
       "\n",
       "**Sentence Number:** 475\n",
       "\n",
       "**Sentence:** I’ve been hanging on by a fucking thread for a year and now you, you…\n",
       "\n",
       "You did this.\n",
       "\n",
       "**Past References:** 1\n",
       "\n",
       "**Future References:** 0\n",
       "\n",
       "---"
      ],
      "text/plain": [
       "<IPython.core.display.Markdown object>"
      ]
     },
     "metadata": {},
     "output_type": "display_data"
    },
    {
     "data": {
      "text/markdown": [
       "### File: the_chair_s1e6_transcript.txt\n",
       "\n",
       "**Sentence Number:** 477\n",
       "\n",
       "**Sentence:** You ignored all my advice that might’ve ended it,\n",
       "\n",
       "**Past References:** 1\n",
       "\n",
       "**Future References:** 0\n",
       "\n",
       "---"
      ],
      "text/plain": [
       "<IPython.core.display.Markdown object>"
      ]
     },
     "metadata": {},
     "output_type": "display_data"
    },
    {
     "data": {
      "text/markdown": [
       "### File: the_chair_s1e6_transcript.txt\n",
       "\n",
       "**Sentence Number:** 478\n",
       "\n",
       "**Sentence:** and you kept digging and digging until you buried the both of us.\n",
       "\n",
       "**Past References:** 1\n",
       "\n",
       "**Future References:** 0\n",
       "\n",
       "---"
      ],
      "text/plain": [
       "<IPython.core.display.Markdown object>"
      ]
     },
     "metadata": {},
     "output_type": "display_data"
    },
    {
     "data": {
      "text/markdown": [
       "### File: the_chair_s1e6_transcript.txt\n",
       "\n",
       "**Sentence Number:** 482\n",
       "\n",
       "**Sentence:** I never would’ve pegged you for a lackey of the dean.\n",
       "\n",
       "**Past References:** 1\n",
       "\n",
       "**Future References:** 0\n",
       "\n",
       "---"
      ],
      "text/plain": [
       "<IPython.core.display.Markdown object>"
      ]
     },
     "metadata": {},
     "output_type": "display_data"
    },
    {
     "data": {
      "text/markdown": [
       "### File: the_chair_s1e6_transcript.txt\n",
       "\n",
       "**Sentence Number:** 489\n",
       "\n",
       "**Sentence:** Because…\n",
       "\n",
       "I wanted to read novels and poems for as long as I could.\n",
       "\n",
       "**Past References:** 1\n",
       "\n",
       "**Future References:** 0\n",
       "\n",
       "---"
      ],
      "text/plain": [
       "<IPython.core.display.Markdown object>"
      ]
     },
     "metadata": {},
     "output_type": "display_data"
    },
    {
     "data": {
      "text/markdown": [
       "### File: the_chair_s1e6_transcript.txt\n",
       "\n",
       "**Sentence Number:** 508\n",
       "\n",
       "**Sentence:** We’re here to determine whether the behavior you exhibited\n",
       "\n",
       "constitutes… [clears throat]\n",
       "\n",
       "…conduct unbecoming,\n",
       "\n",
       "uh, as defined in the faculty handbook.\n",
       "\n",
       "**Past References:** 1\n",
       "\n",
       "**Future References:** 0\n",
       "\n",
       "---"
      ],
      "text/plain": [
       "<IPython.core.display.Markdown object>"
      ]
     },
     "metadata": {},
     "output_type": "display_data"
    },
    {
     "data": {
      "text/markdown": [
       "### File: the_chair_s1e6_transcript.txt\n",
       "\n",
       "**Sentence Number:** 509\n",
       "\n",
       "**Sentence:** Before we get to that, we want to give you a meaningful opportunity to be heard.\n",
       "\n",
       "**Past References:** 1\n",
       "\n",
       "**Future References:** 0\n",
       "\n",
       "---"
      ],
      "text/plain": [
       "<IPython.core.display.Markdown object>"
      ]
     },
     "metadata": {},
     "output_type": "display_data"
    },
    {
     "data": {
      "text/markdown": [
       "### File: the_chair_s1e6_transcript.txt\n",
       "\n",
       "**Sentence Number:** 524\n",
       "\n",
       "**Sentence:** I was…\n",
       "\n",
       "**Past References:** 1\n",
       "\n",
       "**Future References:** 0\n",
       "\n",
       "---"
      ],
      "text/plain": [
       "<IPython.core.display.Markdown object>"
      ]
     },
     "metadata": {},
     "output_type": "display_data"
    },
    {
     "data": {
      "text/markdown": [
       "### File: the_chair_s1e6_transcript.txt\n",
       "\n",
       "**Sentence Number:** 525\n",
       "\n",
       "**Sentence:** I was thinking this morning, uh…\n",
       "\n",
       "that to be an English teacher…\n",
       "\n",
       "you have to fall in love with stories,\n",
       "\n",
       "with literature.\n",
       "\n",
       "**Past References:** 1\n",
       "\n",
       "**Future References:** 1\n",
       "\n",
       "---"
      ],
      "text/plain": [
       "<IPython.core.display.Markdown object>"
      ]
     },
     "metadata": {},
     "output_type": "display_data"
    },
    {
     "data": {
      "text/markdown": [
       "### File: the_chair_s1e6_transcript.txt\n",
       "\n",
       "**Sentence Number:** 532\n",
       "\n",
       "**Sentence:** And…\n",
       "\n",
       "when you’re in the middle of a story, you’re in a state of possibility,\n",
       "\n",
       "as opposed to whatever state of oppressiveness\n",
       "\n",
       "you’re in in real life.\n",
       "\n",
       "**Past References:** 1\n",
       "\n",
       "**Future References:** 0\n",
       "\n",
       "---"
      ],
      "text/plain": [
       "<IPython.core.display.Markdown object>"
      ]
     },
     "metadata": {},
     "output_type": "display_data"
    },
    {
     "data": {
      "text/markdown": [
       "### File: the_chair_s1e6_transcript.txt\n",
       "\n",
       "**Sentence Number:** 537\n",
       "\n",
       "**Sentence:** Every time you read it,\n",
       "\n",
       "you learn something new and you feel transformed by it.\n",
       "\n",
       "**Past References:** 1\n",
       "\n",
       "**Future References:** 0\n",
       "\n",
       "---"
      ],
      "text/plain": [
       "<IPython.core.display.Markdown object>"
      ]
     },
     "metadata": {},
     "output_type": "display_data"
    },
    {
     "data": {
      "text/markdown": [
       "### File: the_chair_s1e6_transcript.txt\n",
       "\n",
       "**Sentence Number:** 545\n",
       "\n",
       "**Sentence:** When were you last in a classroom?\n",
       "\n",
       "**Past References:** 1\n",
       "\n",
       "**Future References:** 0\n",
       "\n",
       "---"
      ],
      "text/plain": [
       "<IPython.core.display.Markdown object>"
      ]
     },
     "metadata": {},
     "output_type": "display_data"
    },
    {
     "data": {
      "text/markdown": [
       "### File: the_chair_s1e6_transcript.txt\n",
       "\n",
       "**Sentence Number:** 546\n",
       "\n",
       "**Sentence:** Ji-Yoon…\n",
       "\n",
       "Or had a personal interaction with a student?\n",
       "\n",
       "**Past References:** 1\n",
       "\n",
       "**Future References:** 0\n",
       "\n",
       "---"
      ],
      "text/plain": [
       "<IPython.core.display.Markdown object>"
      ]
     },
     "metadata": {},
     "output_type": "display_data"
    },
    {
     "data": {
      "text/markdown": [
       "### File: the_chair_s1e6_transcript.txt\n",
       "\n",
       "**Sentence Number:** 555\n",
       "\n",
       "**Sentence:** Our job is…\n",
       "\n",
       "is not to… to trick them or manage them or… or make them fall in line.\n",
       "\n",
       "**Past References:** 0\n",
       "\n",
       "**Future References:** 1\n",
       "\n",
       "---"
      ],
      "text/plain": [
       "<IPython.core.display.Markdown object>"
      ]
     },
     "metadata": {},
     "output_type": "display_data"
    },
    {
     "data": {
      "text/markdown": [
       "### File: the_chair_s1e6_transcript.txt\n",
       "\n",
       "**Sentence Number:** 568\n",
       "\n",
       "**Sentence:** If you’re hoping that just by getting rid of him\n",
       "\n",
       "you’re gonna stop what’s going on outside,\n",
       "\n",
       "they’re gonna see right through that.\n",
       "\n",
       "**Past References:** 1\n",
       "\n",
       "**Future References:** 0\n",
       "\n",
       "---"
      ],
      "text/plain": [
       "<IPython.core.display.Markdown object>"
      ]
     },
     "metadata": {},
     "output_type": "display_data"
    },
    {
     "data": {
      "text/markdown": [
       "### File: the_chair_s1e6_transcript.txt\n",
       "\n",
       "**Sentence Number:** 570\n",
       "\n",
       "**Sentence:** What do you think is gonna happen when he’s fired and nothing else changes?\n",
       "\n",
       "**Past References:** 1\n",
       "\n",
       "**Future References:** 0\n",
       "\n",
       "---"
      ],
      "text/plain": [
       "<IPython.core.display.Markdown object>"
      ]
     },
     "metadata": {},
     "output_type": "display_data"
    },
    {
     "data": {
      "text/markdown": [
       "### File: the_chair_s1e6_transcript.txt\n",
       "\n",
       "**Sentence Number:** 573\n",
       "\n",
       "**Sentence:** According to the faculty handbook, this is supposed to be an impartial panel…\n",
       "\n",
       "**Past References:** 1\n",
       "\n",
       "**Future References:** 1\n",
       "\n",
       "---"
      ],
      "text/plain": [
       "<IPython.core.display.Markdown object>"
      ]
     },
     "metadata": {},
     "output_type": "display_data"
    },
    {
     "data": {
      "text/markdown": [
       "### File: the_chair_s1e6_transcript.txt\n",
       "\n",
       "**Sentence Number:** 577\n",
       "\n",
       "**Sentence:** Word is you put on some performance.\n",
       "\n",
       "**Past References:** 1\n",
       "\n",
       "**Future References:** 0\n",
       "\n",
       "---"
      ],
      "text/plain": [
       "<IPython.core.display.Markdown object>"
      ]
     },
     "metadata": {},
     "output_type": "display_data"
    },
    {
     "data": {
      "text/markdown": [
       "### File: the_chair_s1e6_transcript.txt\n",
       "\n",
       "**Sentence Number:** 582\n",
       "\n",
       "**Sentence:** He’s gone.\n",
       "\n",
       "**Past References:** 1\n",
       "\n",
       "**Future References:** 0\n",
       "\n",
       "---"
      ],
      "text/plain": [
       "<IPython.core.display.Markdown object>"
      ]
     },
     "metadata": {},
     "output_type": "display_data"
    },
    {
     "data": {
      "text/markdown": [
       "### File: the_chair_s1e6_transcript.txt\n",
       "\n",
       "**Sentence Number:** 586\n",
       "\n",
       "**Sentence:** They’ve decided it would be helpful in terms of optics to remove me,\n",
       "\n",
       "**Past References:** 1\n",
       "\n",
       "**Future References:** 0\n",
       "\n",
       "---"
      ],
      "text/plain": [
       "<IPython.core.display.Markdown object>"
      ]
     },
     "metadata": {},
     "output_type": "display_data"
    },
    {
     "data": {
      "text/markdown": [
       "### File: the_chair_s1e6_transcript.txt\n",
       "\n",
       "**Sentence Number:** 587\n",
       "\n",
       "**Sentence:** but they didn’t want another lawsuit on their hands,\n",
       "\n",
       "so you’re stuck with me for the time being.\n",
       "\n",
       "**Past References:** 1\n",
       "\n",
       "**Future References:** 0\n",
       "\n",
       "---"
      ],
      "text/plain": [
       "<IPython.core.display.Markdown object>"
      ]
     },
     "metadata": {},
     "output_type": "display_data"
    },
    {
     "data": {
      "text/markdown": [
       "### File: the_chair_s1e6_transcript.txt\n",
       "\n",
       "**Sentence Number:** 592\n",
       "\n",
       "**Sentence:** Is this about…\n",
       "\n",
       "That was Joan’s item as well.\n",
       "\n",
       "**Past References:** 1\n",
       "\n",
       "**Future References:** 0\n",
       "\n",
       "---"
      ],
      "text/plain": [
       "<IPython.core.display.Markdown object>"
      ]
     },
     "metadata": {},
     "output_type": "display_data"
    },
    {
     "data": {
      "text/markdown": [
       "### File: the_chair_s1e6_transcript.txt\n",
       "\n",
       "**Sentence Number:** 602\n",
       "\n",
       "**Sentence:** But we’ve come to believe that you’re not… you’re not the best person to manage us.\n",
       "\n",
       "**Past References:** 1\n",
       "\n",
       "**Future References:** 1\n",
       "\n",
       "---"
      ],
      "text/plain": [
       "<IPython.core.display.Markdown object>"
      ]
     },
     "metadata": {},
     "output_type": "display_data"
    },
    {
     "data": {
      "text/markdown": [
       "### File: the_chair_s1e6_transcript.txt\n",
       "\n",
       "**Sentence Number:** 624\n",
       "\n",
       "**Sentence:** The only reason we’re here is because you supported this.\n",
       "\n",
       "**Past References:** 1\n",
       "\n",
       "**Future References:** 0\n",
       "\n",
       "---"
      ],
      "text/plain": [
       "<IPython.core.display.Markdown object>"
      ]
     },
     "metadata": {},
     "output_type": "display_data"
    },
    {
     "data": {
      "text/markdown": [
       "### File: the_chair_s1e6_transcript.txt\n",
       "\n",
       "**Sentence Number:** 646\n",
       "\n",
       "**Sentence:** That was close, a real squeaker.\n",
       "\n",
       "**Past References:** 1\n",
       "\n",
       "**Future References:** 0\n",
       "\n",
       "---"
      ],
      "text/plain": [
       "<IPython.core.display.Markdown object>"
      ]
     },
     "metadata": {},
     "output_type": "display_data"
    },
    {
     "data": {
      "text/markdown": [
       "### File: the_chair_s1e6_transcript.txt\n",
       "\n",
       "**Sentence Number:** 648\n",
       "\n",
       "**Sentence:** [Rentz] I’d like to thank Ji-Yoon for her work,\n",
       "\n",
       "and I’d like to offer my services as interim chair.\n",
       "\n",
       "**Past References:** 1\n",
       "\n",
       "**Future References:** 0\n",
       "\n",
       "---"
      ],
      "text/plain": [
       "<IPython.core.display.Markdown object>"
      ]
     },
     "metadata": {},
     "output_type": "display_data"
    },
    {
     "data": {
      "text/markdown": [
       "### File: the_chair_s1e6_transcript.txt\n",
       "\n",
       "**Sentence Number:** 660\n",
       "\n",
       "**Sentence:** I’ve heard it in the chillest land\n",
       "\n",
       "**Past References:** 1\n",
       "\n",
       "**Future References:** 0\n",
       "\n",
       "---"
      ],
      "text/plain": [
       "<IPython.core.display.Markdown object>"
      ]
     },
     "metadata": {},
     "output_type": "display_data"
    },
    {
     "data": {
      "text/markdown": [
       "### File: the_chair_s1e6_transcript.txt\n",
       "\n",
       "**Sentence Number:** 662\n",
       "\n",
       "**Sentence:** It asked a crumb of me”\n",
       "\n",
       "**Past References:** 1\n",
       "\n",
       "**Future References:** 0\n",
       "\n",
       "---"
      ],
      "text/plain": [
       "<IPython.core.display.Markdown object>"
      ]
     },
     "metadata": {},
     "output_type": "display_data"
    },
    {
     "data": {
      "text/markdown": [
       "### File: the_chair_s1e6_transcript.txt\n",
       "\n",
       "**Sentence Number:** 663\n",
       "\n",
       "**Sentence:** So, what do you…\n",
       "\n",
       "What do you think she means when she says\n",
       "\n",
       "hope never asked a crumb of her?\n",
       "\n",
       "**Past References:** 1\n",
       "\n",
       "**Future References:** 0\n",
       "\n",
       "---"
      ],
      "text/plain": [
       "<IPython.core.display.Markdown object>"
      ]
     },
     "metadata": {},
     "output_type": "display_data"
    },
    {
     "data": {
      "text/markdown": [
       "### File: the_chair_s1e6_transcript.txt\n",
       "\n",
       "**Sentence Number:** 692\n",
       "\n",
       "**Sentence:** I mean, these dashes and gaps,\n",
       "\n",
       "it’s been a subject of scholarly debate for, like, a century.\n",
       "\n",
       "**Past References:** 1\n",
       "\n",
       "**Future References:** 0\n",
       "\n",
       "---"
      ],
      "text/plain": [
       "<IPython.core.display.Markdown object>"
      ]
     },
     "metadata": {},
     "output_type": "display_data"
    },
    {
     "data": {
      "text/markdown": [
       "### File: the_chair_s1e6_transcript.txt\n",
       "\n",
       "**Sentence Number:** 701\n",
       "\n",
       "**Sentence:** [laughs]\n",
       "\n",
       "Does it feel weird to be on campus?\n",
       "\n",
       "**Past References:** 0\n",
       "\n",
       "**Future References:** 1\n",
       "\n",
       "---"
      ],
      "text/plain": [
       "<IPython.core.display.Markdown object>"
      ]
     },
     "metadata": {},
     "output_type": "display_data"
    },
    {
     "data": {
      "text/markdown": [
       "### File: the_chair_s1e6_transcript.txt\n",
       "\n",
       "**Sentence Number:** 711\n",
       "\n",
       "**Sentence:** I turned down the settlement, and I’m fighting to get my job back.\n",
       "\n",
       "**Past References:** 1\n",
       "\n",
       "**Future References:** 0\n",
       "\n",
       "---"
      ],
      "text/plain": [
       "<IPython.core.display.Markdown object>"
      ]
     },
     "metadata": {},
     "output_type": "display_data"
    },
    {
     "data": {
      "text/markdown": [
       "### File: the_chair_s1e6_transcript.txt\n",
       "\n",
       "**Sentence Number:** 730\n",
       "\n",
       "**Sentence:** What happened to the last one?\n",
       "\n",
       "**Past References:** 1\n",
       "\n",
       "**Future References:** 0\n",
       "\n",
       "---"
      ],
      "text/plain": [
       "<IPython.core.display.Markdown object>"
      ]
     },
     "metadata": {},
     "output_type": "display_data"
    },
    {
     "data": {
      "text/markdown": [
       "### File: the_chair_s1e6_transcript.txt\n",
       "\n",
       "**Sentence Number:** 732\n",
       "\n",
       "**Sentence:** Ju Ju broke into her phone\n",
       "\n",
       "and emailed all her contacts something unmention…\n",
       "\n",
       "[laughs]\n",
       "\n",
       "**Past References:** 1\n",
       "\n",
       "**Future References:** 0\n",
       "\n",
       "---"
      ],
      "text/plain": [
       "<IPython.core.display.Markdown object>"
      ]
     },
     "metadata": {},
     "output_type": "display_data"
    },
    {
     "data": {
      "text/markdown": [
       "### File: the_chair_s1e6_transcript.txt\n",
       "\n",
       "**Sentence Number:** 756\n",
       "\n",
       "**Sentence:** No, I locked you in at 12.\n",
       "\n",
       "**Past References:** 1\n",
       "\n",
       "**Future References:** 0\n",
       "\n",
       "---"
      ],
      "text/plain": [
       "<IPython.core.display.Markdown object>"
      ]
     },
     "metadata": {},
     "output_type": "display_data"
    },
    {
     "data": {
      "text/markdown": [
       "### File: the_chair_s1e6_transcript.txt\n",
       "\n",
       "**Sentence Number:** 758\n",
       "\n",
       "**Sentence:** [Bill] You locked me in?\n",
       "\n",
       "**Past References:** 1\n",
       "\n",
       "**Future References:** 0\n",
       "\n",
       "---"
      ],
      "text/plain": [
       "<IPython.core.display.Markdown object>"
      ]
     },
     "metadata": {},
     "output_type": "display_data"
    },
    {
     "data": {
      "text/markdown": [
       "### File: the_chair_s1e1_transcript.txt\n",
       "\n",
       "**Sentence Number:** 28\n",
       "\n",
       "**Sentence:** In a couple of minutes, we’ll know if that was right.\n",
       "\n",
       "**Past References:** 1\n",
       "\n",
       "**Future References:** 0\n",
       "\n",
       "---"
      ],
      "text/plain": [
       "<IPython.core.display.Markdown object>"
      ]
     },
     "metadata": {},
     "output_type": "display_data"
    },
    {
     "data": {
      "text/markdown": [
       "### File: the_chair_s1e1_transcript.txt\n",
       "\n",
       "**Sentence Number:** 32\n",
       "\n",
       "**Sentence:** Maybe we could cut him some slack, given his situation.\n",
       "\n",
       "**Past References:** 1\n",
       "\n",
       "**Future References:** 0\n",
       "\n",
       "---"
      ],
      "text/plain": [
       "<IPython.core.display.Markdown object>"
      ]
     },
     "metadata": {},
     "output_type": "display_data"
    },
    {
     "data": {
      "text/markdown": [
       "### File: the_chair_s1e1_transcript.txt\n",
       "\n",
       "**Sentence Number:** 36\n",
       "\n",
       "**Sentence:** I’m gone now, and that’s the way it’s gonna be for the rest of your life.\n",
       "\n",
       "**Past References:** 1\n",
       "\n",
       "**Future References:** 0\n",
       "\n",
       "---"
      ],
      "text/plain": [
       "<IPython.core.display.Markdown object>"
      ]
     },
     "metadata": {},
     "output_type": "display_data"
    },
    {
     "data": {
      "text/markdown": [
       "### File: the_chair_s1e1_transcript.txt\n",
       "\n",
       "**Sentence Number:** 37\n",
       "\n",
       "**Sentence:** Um, you’re not… gone.\n",
       "\n",
       "**Past References:** 1\n",
       "\n",
       "**Future References:** 0\n",
       "\n",
       "---"
      ],
      "text/plain": [
       "<IPython.core.display.Markdown object>"
      ]
     },
     "metadata": {},
     "output_type": "display_data"
    },
    {
     "data": {
      "text/markdown": [
       "### File: the_chair_s1e1_transcript.txt\n",
       "\n",
       "**Sentence Number:** 41\n",
       "\n",
       "**Sentence:** And what happened, happened.\n",
       "\n",
       "**Past References:** 1\n",
       "\n",
       "**Future References:** 0\n",
       "\n",
       "---"
      ],
      "text/plain": [
       "<IPython.core.display.Markdown object>"
      ]
     },
     "metadata": {},
     "output_type": "display_data"
    },
    {
     "data": {
      "text/markdown": [
       "### File: the_chair_s1e1_transcript.txt\n",
       "\n",
       "**Sentence Number:** 43\n",
       "\n",
       "**Sentence:** The time when people were, like, leaving casseroles and whatever at the house, it’s over.\n",
       "\n",
       "**Past References:** 1\n",
       "\n",
       "**Future References:** 0\n",
       "\n",
       "---"
      ],
      "text/plain": [
       "<IPython.core.display.Markdown object>"
      ]
     },
     "metadata": {},
     "output_type": "display_data"
    },
    {
     "data": {
      "text/markdown": [
       "### File: the_chair_s1e1_transcript.txt\n",
       "\n",
       "**Sentence Number:** 46\n",
       "\n",
       "**Sentence:** Are you finished?\n",
       "\n",
       "**Past References:** 1\n",
       "\n",
       "**Future References:** 0\n",
       "\n",
       "---"
      ],
      "text/plain": [
       "<IPython.core.display.Markdown object>"
      ]
     },
     "metadata": {},
     "output_type": "display_data"
    },
    {
     "data": {
      "text/markdown": [
       "### File: the_chair_s1e1_transcript.txt\n",
       "\n",
       "**Sentence Number:** 48\n",
       "\n",
       "**Sentence:** Yes, I’m done.\n",
       "\n",
       "**Past References:** 1\n",
       "\n",
       "**Future References:** 0\n",
       "\n",
       "---"
      ],
      "text/plain": [
       "<IPython.core.display.Markdown object>"
      ]
     },
     "metadata": {},
     "output_type": "display_data"
    },
    {
     "data": {
      "text/markdown": [
       "### File: the_chair_s1e1_transcript.txt\n",
       "\n",
       "**Sentence Number:** 68\n",
       "\n",
       "**Sentence:** Our budget is being gutted.\n",
       "\n",
       "**Past References:** 1\n",
       "\n",
       "**Future References:** 0\n",
       "\n",
       "---"
      ],
      "text/plain": [
       "<IPython.core.display.Markdown object>"
      ]
     },
     "metadata": {},
     "output_type": "display_data"
    },
    {
     "data": {
      "text/markdown": [
       "### File: the_chair_s1e1_transcript.txt\n",
       "\n",
       "**Sentence Number:** 74\n",
       "\n",
       "**Sentence:** What we teach them cannot be quantified or put down on a résumé as a skill.\n",
       "\n",
       "**Past References:** 1\n",
       "\n",
       "**Future References:** 0\n",
       "\n",
       "---"
      ],
      "text/plain": [
       "<IPython.core.display.Markdown object>"
      ]
     },
     "metadata": {},
     "output_type": "display_data"
    },
    {
     "data": {
      "text/markdown": [
       "### File: the_chair_s1e1_transcript.txt\n",
       "\n",
       "**Sentence Number:** 78\n",
       "\n",
       "**Sentence:** Hey, I was thinking this morning about our tech-addled culture, and… and how our students are hyperconnected 24 hours a day, and I was reminded of something, um, Harold Bloom wrote.\n",
       "\n",
       "**Past References:** 1\n",
       "\n",
       "**Future References:** 0\n",
       "\n",
       "---"
      ],
      "text/plain": [
       "<IPython.core.display.Markdown object>"
      ]
     },
     "metadata": {},
     "output_type": "display_data"
    },
    {
     "data": {
      "text/markdown": [
       "### File: the_chair_s1e1_transcript.txt\n",
       "\n",
       "**Sentence Number:** 79\n",
       "\n",
       "**Sentence:** He said, “Information is endlessly available to us.\n",
       "\n",
       "**Past References:** 1\n",
       "\n",
       "**Future References:** 0\n",
       "\n",
       "---"
      ],
      "text/plain": [
       "<IPython.core.display.Markdown object>"
      ]
     },
     "metadata": {},
     "output_type": "display_data"
    },
    {
     "data": {
      "text/markdown": [
       "### File: the_chair_s1e1_transcript.txt\n",
       "\n",
       "**Sentence Number:** 80\n",
       "\n",
       "**Sentence:** Where shall wisdom be found?”\n",
       "\n",
       "**Past References:** 1\n",
       "\n",
       "**Future References:** 0\n",
       "\n",
       "---"
      ],
      "text/plain": [
       "<IPython.core.display.Markdown object>"
      ]
     },
     "metadata": {},
     "output_type": "display_data"
    },
    {
     "data": {
      "text/markdown": [
       "### File: the_chair_s1e1_transcript.txt\n",
       "\n",
       "**Sentence Number:** 81\n",
       "\n",
       "**Sentence:** [door opens]\n",
       "\n",
       "They moved my office to the basement under the gym.\n",
       "\n",
       "**Past References:** 1\n",
       "\n",
       "**Future References:** 0\n",
       "\n",
       "---"
      ],
      "text/plain": [
       "<IPython.core.display.Markdown object>"
      ]
     },
     "metadata": {},
     "output_type": "display_data"
    },
    {
     "data": {
      "text/markdown": [
       "### File: the_chair_s1e1_transcript.txt\n",
       "\n",
       "**Sentence Number:** 84\n",
       "\n",
       "**Sentence:** All my books, my… my stuff, my drawers, dumped into these open carts that are sitting on the floor of the basement over there right now.\n",
       "\n",
       "**Past References:** 1\n",
       "\n",
       "**Future References:** 0\n",
       "\n",
       "---"
      ],
      "text/plain": [
       "<IPython.core.display.Markdown object>"
      ]
     },
     "metadata": {},
     "output_type": "display_data"
    },
    {
     "data": {
      "text/markdown": [
       "### File: the_chair_s1e1_transcript.txt\n",
       "\n",
       "**Sentence Number:** 86\n",
       "\n",
       "**Sentence:** I heard a rumor.\n",
       "\n",
       "**Past References:** 1\n",
       "\n",
       "**Future References:** 0\n",
       "\n",
       "---"
      ],
      "text/plain": [
       "<IPython.core.display.Markdown object>"
      ]
     },
     "metadata": {},
     "output_type": "display_data"
    },
    {
     "data": {
      "text/markdown": [
       "### File: the_chair_s1e1_transcript.txt\n",
       "\n",
       "**Sentence Number:** 100\n",
       "\n",
       "**Sentence:** I will not allow this department to be ransacked.\n",
       "\n",
       "**Past References:** 1\n",
       "\n",
       "**Future References:** 1\n",
       "\n",
       "---"
      ],
      "text/plain": [
       "<IPython.core.display.Markdown object>"
      ]
     },
     "metadata": {},
     "output_type": "display_data"
    },
    {
     "data": {
      "text/markdown": [
       "### File: the_chair_s1e1_transcript.txt\n",
       "\n",
       "**Sentence Number:** 110\n",
       "\n",
       "**Sentence:** [Joan] I got it!\n",
       "\n",
       "**Past References:** 1\n",
       "\n",
       "**Future References:** 0\n",
       "\n",
       "---"
      ],
      "text/plain": [
       "<IPython.core.display.Markdown object>"
      ]
     },
     "metadata": {},
     "output_type": "display_data"
    },
    {
     "data": {
      "text/markdown": [
       "### File: the_chair_s1e1_transcript.txt\n",
       "\n",
       "**Sentence Number:** 111\n",
       "\n",
       "**Sentence:** [Larson]…we’ve been offering very generous retirement packages, and…\n",
       "\n",
       "**Past References:** 1\n",
       "\n",
       "**Future References:** 0\n",
       "\n",
       "---"
      ],
      "text/plain": [
       "<IPython.core.display.Markdown object>"
      ]
     },
     "metadata": {},
     "output_type": "display_data"
    },
    {
     "data": {
      "text/markdown": [
       "### File: the_chair_s1e1_transcript.txt\n",
       "\n",
       "**Sentence Number:** 113\n",
       "\n",
       "**Sentence:** I’ve got some ideas on how to increase enrollments.\n",
       "\n",
       "**Past References:** 1\n",
       "\n",
       "**Future References:** 0\n",
       "\n",
       "---"
      ],
      "text/plain": [
       "<IPython.core.display.Markdown object>"
      ]
     },
     "metadata": {},
     "output_type": "display_data"
    },
    {
     "data": {
      "text/markdown": [
       "### File: the_chair_s1e1_transcript.txt\n",
       "\n",
       "**Sentence Number:** 115\n",
       "\n",
       "**Sentence:** I wanted to talk to you about giving her the Distinguished Lectureship.\n",
       "\n",
       "**Past References:** 1\n",
       "\n",
       "**Future References:** 0\n",
       "\n",
       "---"
      ],
      "text/plain": [
       "<IPython.core.display.Markdown object>"
      ]
     },
     "metadata": {},
     "output_type": "display_data"
    },
    {
     "data": {
      "text/markdown": [
       "### File: the_chair_s1e1_transcript.txt\n",
       "\n",
       "**Sentence Number:** 117\n",
       "\n",
       "**Sentence:** Student enrollment was down before.\n",
       "\n",
       "**Past References:** 1\n",
       "\n",
       "**Future References:** 0\n",
       "\n",
       "---"
      ],
      "text/plain": [
       "<IPython.core.display.Markdown object>"
      ]
     },
     "metadata": {},
     "output_type": "display_data"
    },
    {
     "data": {
      "text/markdown": [
       "### File: the_chair_s1e1_transcript.txt\n",
       "\n",
       "**Sentence Number:** 119\n",
       "\n",
       "**Sentence:** Is that why you put Joan in the basement of the wellness center?\n",
       "\n",
       "**Past References:** 1\n",
       "\n",
       "**Future References:** 0\n",
       "\n",
       "---"
      ],
      "text/plain": [
       "<IPython.core.display.Markdown object>"
      ]
     },
     "metadata": {},
     "output_type": "display_data"
    },
    {
     "data": {
      "text/markdown": [
       "### File: the_chair_s1e1_transcript.txt\n",
       "\n",
       "**Sentence Number:** 123\n",
       "\n",
       "**Sentence:** I know you, um… I know you had big plans for this year.\n",
       "\n",
       "**Past References:** 1\n",
       "\n",
       "**Future References:** 0\n",
       "\n",
       "---"
      ],
      "text/plain": [
       "<IPython.core.display.Markdown object>"
      ]
     },
     "metadata": {},
     "output_type": "display_data"
    },
    {
     "data": {
      "text/markdown": [
       "### File: the_chair_s1e1_transcript.txt\n",
       "\n",
       "**Sentence Number:** 127\n",
       "\n",
       "**Sentence:** But you remember when I… when I called you, told you you had tenure?\n",
       "\n",
       "**Past References:** 1\n",
       "\n",
       "**Future References:** 0\n",
       "\n",
       "---"
      ],
      "text/plain": [
       "<IPython.core.display.Markdown object>"
      ]
     },
     "metadata": {},
     "output_type": "display_data"
    },
    {
     "data": {
      "text/markdown": [
       "### File: the_chair_s1e1_transcript.txt\n",
       "\n",
       "**Sentence Number:** 128\n",
       "\n",
       "**Sentence:** Remember what I said?\n",
       "\n",
       "**Past References:** 1\n",
       "\n",
       "**Future References:** 0\n",
       "\n",
       "---"
      ],
      "text/plain": [
       "<IPython.core.display.Markdown object>"
      ]
     },
     "metadata": {},
     "output_type": "display_data"
    },
    {
     "data": {
      "text/markdown": [
       "### File: the_chair_s1e1_transcript.txt\n",
       "\n",
       "**Sentence Number:** 143\n",
       "\n",
       "**Sentence:** Ji-Yoon just gave me the news.\n",
       "\n",
       "**Past References:** 1\n",
       "\n",
       "**Future References:** 0\n",
       "\n",
       "---"
      ],
      "text/plain": [
       "<IPython.core.display.Markdown object>"
      ]
     },
     "metadata": {},
     "output_type": "display_data"
    },
    {
     "data": {
      "text/markdown": [
       "### File: the_chair_s1e1_transcript.txt\n",
       "\n",
       "**Sentence Number:** 153\n",
       "\n",
       "**Sentence:** Maybe she thought that our content was different enough.\n",
       "\n",
       "**Past References:** 1\n",
       "\n",
       "**Future References:** 0\n",
       "\n",
       "---"
      ],
      "text/plain": [
       "<IPython.core.display.Markdown object>"
      ]
     },
     "metadata": {},
     "output_type": "display_data"
    },
    {
     "data": {
      "text/markdown": [
       "### File: the_chair_s1e1_transcript.txt\n",
       "\n",
       "**Sentence Number:** 160\n",
       "\n",
       "**Sentence:** Shoot, did I…\n",
       "\n",
       "[footsteps receding]\n",
       "\n",
       "**Past References:** 1\n",
       "\n",
       "**Future References:** 0\n",
       "\n",
       "---"
      ],
      "text/plain": [
       "<IPython.core.display.Markdown object>"
      ]
     },
     "metadata": {},
     "output_type": "display_data"
    },
    {
     "data": {
      "text/markdown": [
       "### File: the_chair_s1e1_transcript.txt\n",
       "\n",
       "**Sentence Number:** 164\n",
       "\n",
       "**Sentence:** What if we combined your sections?\n",
       "\n",
       "**Past References:** 1\n",
       "\n",
       "**Future References:** 0\n",
       "\n",
       "---"
      ],
      "text/plain": [
       "<IPython.core.display.Markdown object>"
      ]
     },
     "metadata": {},
     "output_type": "display_data"
    },
    {
     "data": {
      "text/markdown": [
       "### File: the_chair_s1e1_transcript.txt\n",
       "\n",
       "**Sentence Number:** 172\n",
       "\n",
       "**Sentence:** I already set my syllabus, so…\n",
       "\n",
       "Listen, when Bill was an undergrad, Elliot was the one who packed the halls here.\n",
       "\n",
       "**Past References:** 1\n",
       "\n",
       "**Future References:** 0\n",
       "\n",
       "---"
      ],
      "text/plain": [
       "<IPython.core.display.Markdown object>"
      ]
     },
     "metadata": {},
     "output_type": "display_data"
    },
    {
     "data": {
      "text/markdown": [
       "### File: the_chair_s1e1_transcript.txt\n",
       "\n",
       "**Sentence Number:** 174\n",
       "\n",
       "**Sentence:** Yeah, and he hasn’t updated those lectures in like 30 years.\n",
       "\n",
       "**Past References:** 1\n",
       "\n",
       "**Future References:** 0\n",
       "\n",
       "---"
      ],
      "text/plain": [
       "<IPython.core.display.Markdown object>"
      ]
     },
     "metadata": {},
     "output_type": "display_data"
    },
    {
     "data": {
      "text/markdown": [
       "### File: the_chair_s1e1_transcript.txt\n",
       "\n",
       "**Sentence Number:** 181\n",
       "\n",
       "**Sentence:** When I started, it was like,\n",
       "\n",
       "“Why’s some Asian lady teaching Emily Dickinson?”\n",
       "\n",
       "**Past References:** 1\n",
       "\n",
       "**Future References:** 0\n",
       "\n",
       "---"
      ],
      "text/plain": [
       "<IPython.core.display.Markdown object>"
      ]
     },
     "metadata": {},
     "output_type": "display_data"
    },
    {
     "data": {
      "text/markdown": [
       "### File: the_chair_s1e1_transcript.txt\n",
       "\n",
       "**Sentence Number:** 201\n",
       "\n",
       "**Sentence:** We’re playing catch up here since our lectures merged.\n",
       "\n",
       "**Past References:** 1\n",
       "\n",
       "**Future References:** 0\n",
       "\n",
       "---"
      ],
      "text/plain": [
       "<IPython.core.display.Markdown object>"
      ]
     },
     "metadata": {},
     "output_type": "display_data"
    },
    {
     "data": {
      "text/markdown": [
       "### File: the_chair_s1e1_transcript.txt\n",
       "\n",
       "**Sentence Number:** 205\n",
       "\n",
       "**Sentence:** Professor McKay, by the way, who has graciously agreed to join our class.\n",
       "\n",
       "**Past References:** 1\n",
       "\n",
       "**Future References:** 0\n",
       "\n",
       "---"
      ],
      "text/plain": [
       "<IPython.core.display.Markdown object>"
      ]
     },
     "metadata": {},
     "output_type": "display_data"
    },
    {
     "data": {
      "text/markdown": [
       "### File: the_chair_s1e1_transcript.txt\n",
       "\n",
       "**Sentence Number:** 214\n",
       "\n",
       "**Sentence:** Who popularized the phrase?\n",
       "\n",
       "**Past References:** 1\n",
       "\n",
       "**Future References:** 0\n",
       "\n",
       "---"
      ],
      "text/plain": [
       "<IPython.core.display.Markdown object>"
      ]
     },
     "metadata": {},
     "output_type": "display_data"
    },
    {
     "data": {
      "text/markdown": [
       "### File: the_chair_s1e1_transcript.txt\n",
       "\n",
       "**Sentence Number:** 218\n",
       "\n",
       "**Sentence:** Otherwise known as the father of modern English.\n",
       "\n",
       "**Past References:** 1\n",
       "\n",
       "**Future References:** 0\n",
       "\n",
       "---"
      ],
      "text/plain": [
       "<IPython.core.display.Markdown object>"
      ]
     },
     "metadata": {},
     "output_type": "display_data"
    },
    {
     "data": {
      "text/markdown": [
       "### File: the_chair_s1e1_transcript.txt\n",
       "\n",
       "**Sentence Number:** 219\n",
       "\n",
       "**Sentence:** You’ll be astonished how many images and idioms from our everyday speech come to us directly from the 14th century.\n",
       "\n",
       "**Past References:** 1\n",
       "\n",
       "**Future References:** 0\n",
       "\n",
       "---"
      ],
      "text/plain": [
       "<IPython.core.display.Markdown object>"
      ]
     },
     "metadata": {},
     "output_type": "display_data"
    },
    {
     "data": {
      "text/markdown": [
       "### File: the_chair_s1e1_transcript.txt\n",
       "\n",
       "**Sentence Number:** 227\n",
       "\n",
       "**Sentence:** It’s not about having a fixed analysis.\n",
       "\n",
       "**Past References:** 1\n",
       "\n",
       "**Future References:** 0\n",
       "\n",
       "---"
      ],
      "text/plain": [
       "<IPython.core.display.Markdown object>"
      ]
     },
     "metadata": {},
     "output_type": "display_data"
    },
    {
     "data": {
      "text/markdown": [
       "### File: the_chair_s1e1_transcript.txt\n",
       "\n",
       "**Sentence Number:** 247\n",
       "\n",
       "**Sentence:** Um, my brother told me you’re the reason to come here.\n",
       "\n",
       "**Past References:** 1\n",
       "\n",
       "**Future References:** 0\n",
       "\n",
       "---"
      ],
      "text/plain": [
       "<IPython.core.display.Markdown object>"
      ]
     },
     "metadata": {},
     "output_type": "display_data"
    },
    {
     "data": {
      "text/markdown": [
       "### File: the_chair_s1e1_transcript.txt\n",
       "\n",
       "**Sentence Number:** 255\n",
       "\n",
       "**Sentence:** “I shall wear the bottoms Of my trousers rolled”\n",
       "\n",
       "What?\n",
       "\n",
       "**Past References:** 1\n",
       "\n",
       "**Future References:** 0\n",
       "\n",
       "---"
      ],
      "text/plain": [
       "<IPython.core.display.Markdown object>"
      ]
     },
     "metadata": {},
     "output_type": "display_data"
    },
    {
     "data": {
      "text/markdown": [
       "### File: the_chair_s1e1_transcript.txt\n",
       "\n",
       "**Sentence Number:** 274\n",
       "\n",
       "**Sentence:** What’s the point in having a Title IX office if we don’t use it?\n",
       "\n",
       "**Past References:** 1\n",
       "\n",
       "**Future References:** 0\n",
       "\n",
       "---"
      ],
      "text/plain": [
       "<IPython.core.display.Markdown object>"
      ]
     },
     "metadata": {},
     "output_type": "display_data"
    },
    {
     "data": {
      "text/markdown": [
       "### File: the_chair_s1e1_transcript.txt\n",
       "\n",
       "**Sentence Number:** 277\n",
       "\n",
       "**Sentence:** It’ll be like it was my idea.\n",
       "\n",
       "**Past References:** 1\n",
       "\n",
       "**Future References:** 0\n",
       "\n",
       "---"
      ],
      "text/plain": [
       "<IPython.core.display.Markdown object>"
      ]
     },
     "metadata": {},
     "output_type": "display_data"
    },
    {
     "data": {
      "text/markdown": [
       "### File: the_chair_s1e1_transcript.txt\n",
       "\n",
       "**Sentence Number:** 282\n",
       "\n",
       "**Sentence:** I didn’t.\n",
       "\n",
       "**Past References:** 1\n",
       "\n",
       "**Future References:** 0\n",
       "\n",
       "---"
      ],
      "text/plain": [
       "<IPython.core.display.Markdown object>"
      ]
     },
     "metadata": {},
     "output_type": "display_data"
    },
    {
     "data": {
      "text/markdown": [
       "### File: the_chair_s1e1_transcript.txt\n",
       "\n",
       "**Sentence Number:** 285\n",
       "\n",
       "**Sentence:** Hey, uh… when’s the last time you checked out your student evals?\n",
       "\n",
       "1987.\n",
       "\n",
       "**Past References:** 1\n",
       "\n",
       "**Future References:** 0\n",
       "\n",
       "---"
      ],
      "text/plain": [
       "<IPython.core.display.Markdown object>"
      ]
     },
     "metadata": {},
     "output_type": "display_data"
    },
    {
     "data": {
      "text/markdown": [
       "### File: the_chair_s1e1_transcript.txt\n",
       "\n",
       "**Sentence Number:** 289\n",
       "\n",
       "**Sentence:** I’m not trying to be popular.\n",
       "\n",
       "**Past References:** 0\n",
       "\n",
       "**Future References:** 1\n",
       "\n",
       "---"
      ],
      "text/plain": [
       "<IPython.core.display.Markdown object>"
      ]
     },
     "metadata": {},
     "output_type": "display_data"
    },
    {
     "data": {
      "text/markdown": [
       "### File: the_chair_s1e1_transcript.txt\n",
       "\n",
       "**Sentence Number:** 298\n",
       "\n",
       "**Sentence:** Or what?\n",
       "\n",
       "Larson just painted a very ominous picture.\n",
       "\n",
       "**Past References:** 1\n",
       "\n",
       "**Future References:** 0\n",
       "\n",
       "---"
      ],
      "text/plain": [
       "<IPython.core.display.Markdown object>"
      ]
     },
     "metadata": {},
     "output_type": "display_data"
    },
    {
     "data": {
      "text/markdown": [
       "### File: the_chair_s1e1_transcript.txt\n",
       "\n",
       "**Sentence Number:** 318\n",
       "\n",
       "**Sentence:** Sharon died… so now there’s no guardrail.\n",
       "\n",
       "**Past References:** 1\n",
       "\n",
       "**Future References:** 0\n",
       "\n",
       "---"
      ],
      "text/plain": [
       "<IPython.core.display.Markdown object>"
      ]
     },
     "metadata": {},
     "output_type": "display_data"
    },
    {
     "data": {
      "text/markdown": [
       "### File: the_chair_s1e1_transcript.txt\n",
       "\n",
       "**Sentence Number:** 325\n",
       "\n",
       "**Sentence:** Where’s my dongle?\n",
       "\n",
       "**Past References:** 1\n",
       "\n",
       "**Future References:** 0\n",
       "\n",
       "---"
      ],
      "text/plain": [
       "<IPython.core.display.Markdown object>"
      ]
     },
     "metadata": {},
     "output_type": "display_data"
    },
    {
     "data": {
      "text/markdown": [
       "### File: the_chair_s1e1_transcript.txt\n",
       "\n",
       "**Sentence Number:** 329\n",
       "\n",
       "**Sentence:** I put it there.\n",
       "\n",
       "**Past References:** 1\n",
       "\n",
       "**Future References:** 0\n",
       "\n",
       "---"
      ],
      "text/plain": [
       "<IPython.core.display.Markdown object>"
      ]
     },
     "metadata": {},
     "output_type": "display_data"
    },
    {
     "data": {
      "text/markdown": [
       "### File: the_chair_s1e1_transcript.txt\n",
       "\n",
       "**Sentence Number:** 331\n",
       "\n",
       "**Sentence:** We are going to start with a few images I’ve assembled, if I can get this thing to cooperate.\n",
       "\n",
       "**Past References:** 1\n",
       "\n",
       "**Future References:** 0\n",
       "\n",
       "---"
      ],
      "text/plain": [
       "<IPython.core.display.Markdown object>"
      ]
     },
     "metadata": {},
     "output_type": "display_data"
    },
    {
     "data": {
      "text/markdown": [
       "### File: the_chair_s1e1_transcript.txt\n",
       "\n",
       "**Sentence Number:** 355\n",
       "\n",
       "**Sentence:** [softly] Which I will finish reading soon.\n",
       "\n",
       "**Past References:** 0\n",
       "\n",
       "**Future References:** 1\n",
       "\n",
       "---"
      ],
      "text/plain": [
       "<IPython.core.display.Markdown object>"
      ]
     },
     "metadata": {},
     "output_type": "display_data"
    },
    {
     "data": {
      "text/markdown": [
       "### File: the_chair_s1e1_transcript.txt\n",
       "\n",
       "**Sentence Number:** 362\n",
       "\n",
       "**Sentence:** Last semester “Call me Ishmael” tied with “From hell’s heart I stab at thee.”\n",
       "\n",
       "**Past References:** 1\n",
       "\n",
       "**Future References:** 0\n",
       "\n",
       "---"
      ],
      "text/plain": [
       "<IPython.core.display.Markdown object>"
      ]
     },
     "metadata": {},
     "output_type": "display_data"
    },
    {
     "data": {
      "text/markdown": [
       "### File: the_chair_s1e1_transcript.txt\n",
       "\n",
       "**Sentence Number:** 364\n",
       "\n",
       "**Sentence:** No, no, no, I want them to become absorbed in the story, in the beauty of the phrasing.\n",
       "\n",
       "**Past References:** 1\n",
       "\n",
       "**Future References:** 1\n",
       "\n",
       "---"
      ],
      "text/plain": [
       "<IPython.core.display.Markdown object>"
      ]
     },
     "metadata": {},
     "output_type": "display_data"
    },
    {
     "data": {
      "text/markdown": [
       "### File: the_chair_s1e1_transcript.txt\n",
       "\n",
       "**Sentence Number:** 373\n",
       "\n",
       "**Sentence:** You’re the Melville scholar, so… [chuckles]\n",
       "\n",
       "[creaking]\n",
       "\n",
       "[door opens]\n",
       "\n",
       "What happened to your chair?\n",
       "\n",
       "**Past References:** 1\n",
       "\n",
       "**Future References:** 0\n",
       "\n",
       "---"
      ],
      "text/plain": [
       "<IPython.core.display.Markdown object>"
      ]
     },
     "metadata": {},
     "output_type": "display_data"
    },
    {
     "data": {
      "text/markdown": [
       "### File: the_chair_s1e1_transcript.txt\n",
       "\n",
       "**Sentence Number:** 375\n",
       "\n",
       "**Sentence:** How did you get in here?\n",
       "\n",
       "**Past References:** 1\n",
       "\n",
       "**Future References:** 0\n",
       "\n",
       "---"
      ],
      "text/plain": [
       "<IPython.core.display.Markdown object>"
      ]
     },
     "metadata": {},
     "output_type": "display_data"
    },
    {
     "data": {
      "text/markdown": [
       "### File: the_chair_s1e1_transcript.txt\n",
       "\n",
       "**Sentence Number:** 378\n",
       "\n",
       "**Sentence:** How did you get in?\n",
       "\n",
       "**Past References:** 1\n",
       "\n",
       "**Future References:** 0\n",
       "\n",
       "---"
      ],
      "text/plain": [
       "<IPython.core.display.Markdown object>"
      ]
     },
     "metadata": {},
     "output_type": "display_data"
    },
    {
     "data": {
      "text/markdown": [
       "### File: the_chair_s1e1_transcript.txt\n",
       "\n",
       "**Sentence Number:** 414\n",
       "\n",
       "**Sentence:** I’m sorry I missed your first meeting.\n",
       "\n",
       "**Past References:** 1\n",
       "\n",
       "**Future References:** 0\n",
       "\n",
       "---"
      ],
      "text/plain": [
       "<IPython.core.display.Markdown object>"
      ]
     },
     "metadata": {},
     "output_type": "display_data"
    },
    {
     "data": {
      "text/markdown": [
       "### File: the_chair_s1e1_transcript.txt\n",
       "\n",
       "**Sentence Number:** 416\n",
       "\n",
       "**Sentence:** Well, I defended you against the hordes of actual attendees.\n",
       "\n",
       "**Past References:** 1\n",
       "\n",
       "**Future References:** 0\n",
       "\n",
       "---"
      ],
      "text/plain": [
       "<IPython.core.display.Markdown object>"
      ]
     },
     "metadata": {},
     "output_type": "display_data"
    },
    {
     "data": {
      "text/markdown": [
       "### File: the_chair_s1e1_transcript.txt\n",
       "\n",
       "**Sentence Number:** 419\n",
       "\n",
       "**Sentence:** How did… [sighs]\n",
       "\n",
       "**Past References:** 1\n",
       "\n",
       "**Future References:** 0\n",
       "\n",
       "---"
      ],
      "text/plain": [
       "<IPython.core.display.Markdown object>"
      ]
     },
     "metadata": {},
     "output_type": "display_data"
    },
    {
     "data": {
      "text/markdown": [
       "### File: the_chair_s1e1_transcript.txt\n",
       "\n",
       "**Sentence Number:** 420\n",
       "\n",
       "**Sentence:** No, really, how was it?\n",
       "\n",
       "**Past References:** 1\n",
       "\n",
       "**Future References:** 0\n",
       "\n",
       "---"
      ],
      "text/plain": [
       "<IPython.core.display.Markdown object>"
      ]
     },
     "metadata": {},
     "output_type": "display_data"
    },
    {
     "data": {
      "text/markdown": [
       "### File: the_chair_s1e1_transcript.txt\n",
       "\n",
       "**Sentence Number:** 421\n",
       "\n",
       "**Sentence:** Uh, she read me the riot act.\n",
       "\n",
       "**Past References:** 1\n",
       "\n",
       "**Future References:** 0\n",
       "\n",
       "---"
      ],
      "text/plain": [
       "<IPython.core.display.Markdown object>"
      ]
     },
     "metadata": {},
     "output_type": "display_data"
    },
    {
     "data": {
      "text/markdown": [
       "### File: the_chair_s1e1_transcript.txt\n",
       "\n",
       "**Sentence Number:** 427\n",
       "\n",
       "**Sentence:** I didn’t…\n",
       "\n",
       "**Past References:** 1\n",
       "\n",
       "**Future References:** 0\n",
       "\n",
       "---"
      ],
      "text/plain": [
       "<IPython.core.display.Markdown object>"
      ]
     },
     "metadata": {},
     "output_type": "display_data"
    },
    {
     "data": {
      "text/markdown": [
       "### File: the_chair_s1e1_transcript.txt\n",
       "\n",
       "**Sentence Number:** 428\n",
       "\n",
       "**Sentence:** I didn’t… I di…\n",
       "\n",
       "**Past References:** 1\n",
       "\n",
       "**Future References:** 0\n",
       "\n",
       "---"
      ],
      "text/plain": [
       "<IPython.core.display.Markdown object>"
      ]
     },
     "metadata": {},
     "output_type": "display_data"
    },
    {
     "data": {
      "text/markdown": [
       "### File: the_chair_s1e1_transcript.txt\n",
       "\n",
       "**Sentence Number:** 432\n",
       "\n",
       "**Sentence:** He said yes?\n",
       "\n",
       "**Past References:** 1\n",
       "\n",
       "**Future References:** 0\n",
       "\n",
       "---"
      ],
      "text/plain": [
       "<IPython.core.display.Markdown object>"
      ]
     },
     "metadata": {},
     "output_type": "display_data"
    },
    {
     "data": {
      "text/markdown": [
       "### File: the_chair_s1e1_transcript.txt\n",
       "\n",
       "**Sentence Number:** 436\n",
       "\n",
       "**Sentence:** He gave me a list of the three faculty members who are paid the highest and have the lowest enrollments.\n",
       "\n",
       "**Past References:** 1\n",
       "\n",
       "**Future References:** 0\n",
       "\n",
       "---"
      ],
      "text/plain": [
       "<IPython.core.display.Markdown object>"
      ]
     },
     "metadata": {},
     "output_type": "display_data"
    },
    {
     "data": {
      "text/markdown": [
       "### File: the_chair_s1e1_transcript.txt\n",
       "\n",
       "**Sentence Number:** 440\n",
       "\n",
       "**Sentence:** I hope you told him to fuck off.\n",
       "\n",
       "**Past References:** 1\n",
       "\n",
       "**Future References:** 0\n",
       "\n",
       "---"
      ],
      "text/plain": [
       "<IPython.core.display.Markdown object>"
      ]
     },
     "metadata": {},
     "output_type": "display_data"
    },
    {
     "data": {
      "text/markdown": [
       "### File: the_chair_s1e1_transcript.txt\n",
       "\n",
       "**Sentence Number:** 448\n",
       "\n",
       "**Sentence:** I feel like I arrived at the party after… after last call.\n",
       "\n",
       "**Past References:** 1\n",
       "\n",
       "**Future References:** 0\n",
       "\n",
       "---"
      ],
      "text/plain": [
       "<IPython.core.display.Markdown object>"
      ]
     },
     "metadata": {},
     "output_type": "display_data"
    },
    {
     "data": {
      "text/markdown": [
       "### File: the_chair_s1e1_transcript.txt\n",
       "\n",
       "**Sentence Number:** 458\n",
       "\n",
       "**Sentence:** I gotta… I gotta get some work done.\n",
       "\n",
       "**Past References:** 1\n",
       "\n",
       "**Future References:** 0\n",
       "\n",
       "---"
      ],
      "text/plain": [
       "<IPython.core.display.Markdown object>"
      ]
     },
     "metadata": {},
     "output_type": "display_data"
    },
    {
     "data": {
      "text/markdown": [
       "### File: the_chair_s1e1_transcript.txt\n",
       "\n",
       "**Sentence Number:** 462\n",
       "\n",
       "**Sentence:** My car’s impounded.\n",
       "\n",
       "**Past References:** 1\n",
       "\n",
       "**Future References:** 0\n",
       "\n",
       "---"
      ],
      "text/plain": [
       "<IPython.core.display.Markdown object>"
      ]
     },
     "metadata": {},
     "output_type": "display_data"
    },
    {
     "data": {
      "text/markdown": [
       "### File: the_chair_s1e1_transcript.txt\n",
       "\n",
       "**Sentence Number:** 468\n",
       "\n",
       "**Sentence:** Some flunky from the Dean of Students emailed me.\n",
       "\n",
       "**Past References:** 1\n",
       "\n",
       "**Future References:** 0\n",
       "\n",
       "---"
      ],
      "text/plain": [
       "<IPython.core.display.Markdown object>"
      ]
     },
     "metadata": {},
     "output_type": "display_data"
    },
    {
     "data": {
      "text/markdown": [
       "### File: the_chair_s1e1_transcript.txt\n",
       "\n",
       "**Sentence Number:** 470\n",
       "\n",
       "**Sentence:** You know that was Dafna Eisenstadt?\n",
       "\n",
       "**Past References:** 1\n",
       "\n",
       "**Future References:** 0\n",
       "\n",
       "---"
      ],
      "text/plain": [
       "<IPython.core.display.Markdown object>"
      ]
     },
     "metadata": {},
     "output_type": "display_data"
    },
    {
     "data": {
      "text/markdown": [
       "### File: the_chair_s1e1_transcript.txt\n",
       "\n",
       "**Sentence Number:** 494\n",
       "\n",
       "**Sentence:** Did she finish all her homework?\n",
       "\n",
       "**Past References:** 1\n",
       "\n",
       "**Future References:** 0\n",
       "\n",
       "---"
      ],
      "text/plain": [
       "<IPython.core.display.Markdown object>"
      ]
     },
     "metadata": {},
     "output_type": "display_data"
    },
    {
     "data": {
      "text/markdown": [
       "### File: the_chair_s1e1_transcript.txt\n",
       "\n",
       "**Sentence Number:** 499\n",
       "\n",
       "**Sentence:** [sighs] Appa…\n",
       "\n",
       "I told you to take this down.\n",
       "\n",
       "**Past References:** 1\n",
       "\n",
       "**Future References:** 0\n",
       "\n",
       "---"
      ],
      "text/plain": [
       "<IPython.core.display.Markdown object>"
      ]
     },
     "metadata": {},
     "output_type": "display_data"
    },
    {
     "data": {
      "text/markdown": [
       "### File: the_chair_s1e1_transcript.txt\n",
       "\n",
       "**Sentence Number:** 507\n",
       "\n",
       "**Sentence:** Ju Ju’s teacher told me she needs to see a psychiatrist as soon as possible.\n",
       "\n",
       "**Past References:** 1\n",
       "\n",
       "**Future References:** 0\n",
       "\n",
       "---"
      ],
      "text/plain": [
       "<IPython.core.display.Markdown object>"
      ]
     },
     "metadata": {},
     "output_type": "display_data"
    },
    {
     "data": {
      "text/markdown": [
       "### File: the_chair_s1e1_transcript.txt\n",
       "\n",
       "**Sentence Number:** 514\n",
       "\n",
       "**Sentence:** [in Korean] She drew this.\n",
       "\n",
       "**Past References:** 1\n",
       "\n",
       "**Future References:** 0\n",
       "\n",
       "---"
      ],
      "text/plain": [
       "<IPython.core.display.Markdown object>"
      ]
     },
     "metadata": {},
     "output_type": "display_data"
    },
    {
     "data": {
      "text/markdown": [
       "### File: the_chair_s1e1_transcript.txt\n",
       "\n",
       "**Sentence Number:** 516\n",
       "\n",
       "**Sentence:** They said in 17 years of teaching they have never seen anything this disturbing.\n",
       "\n",
       "**Past References:** 1\n",
       "\n",
       "**Future References:** 0\n",
       "\n",
       "---"
      ],
      "text/plain": [
       "<IPython.core.display.Markdown object>"
      ]
     },
     "metadata": {},
     "output_type": "display_data"
    },
    {
     "data": {
      "text/markdown": [
       "### File: the_chair_s1e1_transcript.txt\n",
       "\n",
       "**Sentence Number:** 520\n",
       "\n",
       "**Sentence:** How old were you when your mom died?\n",
       "\n",
       "**Past References:** 1\n",
       "\n",
       "**Future References:** 0\n",
       "\n",
       "---"
      ],
      "text/plain": [
       "<IPython.core.display.Markdown object>"
      ]
     },
     "metadata": {},
     "output_type": "display_data"
    },
    {
     "data": {
      "text/markdown": [
       "### File: the_chair_s1e1_transcript.txt\n",
       "\n",
       "**Sentence Number:** 530\n",
       "\n",
       "**Sentence:** Oh, I think I just hurt my shoulder.\n",
       "\n",
       "**Past References:** 1\n",
       "\n",
       "**Future References:** 0\n",
       "\n",
       "---"
      ],
      "text/plain": [
       "<IPython.core.display.Markdown object>"
      ]
     },
     "metadata": {},
     "output_type": "display_data"
    },
    {
     "data": {
      "text/markdown": [
       "### File: the_chair_s1e1_transcript.txt\n",
       "\n",
       "**Sentence Number:** 532\n",
       "\n",
       "**Sentence:** If something happened to you, who would take care of me?\n",
       "\n",
       "**Past References:** 1\n",
       "\n",
       "**Future References:** 0\n",
       "\n",
       "---"
      ],
      "text/plain": [
       "<IPython.core.display.Markdown object>"
      ]
     },
     "metadata": {},
     "output_type": "display_data"
    },
    {
     "data": {
      "text/markdown": [
       "### File: the_chair_s1e1_transcript.txt\n",
       "\n",
       "**Sentence Number:** 559\n",
       "\n",
       "**Sentence:** Did you lose your phone?\n",
       "\n",
       "**Past References:** 1\n",
       "\n",
       "**Future References:** 0\n",
       "\n",
       "---"
      ],
      "text/plain": [
       "<IPython.core.display.Markdown object>"
      ]
     },
     "metadata": {},
     "output_type": "display_data"
    },
    {
     "data": {
      "text/markdown": [
       "### File: the_chair_s1e1_transcript.txt\n",
       "\n",
       "**Sentence Number:** 577\n",
       "\n",
       "**Sentence:** First of all, I have to let you know that we are not a designated confidential resource here on campus.\n",
       "\n",
       "**Past References:** 1\n",
       "\n",
       "**Future References:** 0\n",
       "\n",
       "---"
      ],
      "text/plain": [
       "<IPython.core.display.Markdown object>"
      ]
     },
     "metadata": {},
     "output_type": "display_data"
    },
    {
     "data": {
      "text/markdown": [
       "### File: the_chair_s1e1_transcript.txt\n",
       "\n",
       "**Sentence Number:** 580\n",
       "\n",
       "**Sentence:** I’m not being stalked.\n",
       "\n",
       "**Past References:** 1\n",
       "\n",
       "**Future References:** 0\n",
       "\n",
       "---"
      ],
      "text/plain": [
       "<IPython.core.display.Markdown object>"
      ]
     },
     "metadata": {},
     "output_type": "display_data"
    },
    {
     "data": {
      "text/markdown": [
       "### File: the_chair_s1e1_transcript.txt\n",
       "\n",
       "**Sentence Number:** 588\n",
       "\n",
       "**Sentence:** How long have you been working here at Pembroke?\n",
       "\n",
       "**Past References:** 1\n",
       "\n",
       "**Future References:** 0\n",
       "\n",
       "---"
      ],
      "text/plain": [
       "<IPython.core.display.Markdown object>"
      ]
     },
     "metadata": {},
     "output_type": "display_data"
    },
    {
     "data": {
      "text/markdown": [
       "### File: the_chair_s1e1_transcript.txt\n",
       "\n",
       "**Sentence Number:** 598\n",
       "\n",
       "**Sentence:** Unfortunately, there isn’t going to be an investigator assigned to your case until I decide whether it rises to the level\n",
       "\n",
       "of a Title IX policy violation.\n",
       "\n",
       "**Past References:** 1\n",
       "\n",
       "**Future References:** 1\n",
       "\n",
       "---"
      ],
      "text/plain": [
       "<IPython.core.display.Markdown object>"
      ]
     },
     "metadata": {},
     "output_type": "display_data"
    },
    {
     "data": {
      "text/markdown": [
       "### File: the_chair_s1e1_transcript.txt\n",
       "\n",
       "**Sentence Number:** 600\n",
       "\n",
       "**Sentence:** They moved my office into some kind of subterranean shithole in the athletics building.\n",
       "\n",
       "**Past References:** 1\n",
       "\n",
       "**Future References:** 0\n",
       "\n",
       "---"
      ],
      "text/plain": [
       "<IPython.core.display.Markdown object>"
      ]
     },
     "metadata": {},
     "output_type": "display_data"
    },
    {
     "data": {
      "text/markdown": [
       "### File: the_chair_s1e1_transcript.txt\n",
       "\n",
       "**Sentence Number:** 601\n",
       "\n",
       "**Sentence:** Other instructors of my rank, all of whom are men, were not moved.\n",
       "\n",
       "**Past References:** 1\n",
       "\n",
       "**Future References:** 0\n",
       "\n",
       "---"
      ],
      "text/plain": [
       "<IPython.core.display.Markdown object>"
      ]
     },
     "metadata": {},
     "output_type": "display_data"
    },
    {
     "data": {
      "text/markdown": [
       "### File: the_chair_s1e1_transcript.txt\n",
       "\n",
       "**Sentence Number:** 604\n",
       "\n",
       "**Sentence:** Have you mentioned this to him?\n",
       "\n",
       "**Past References:** 1\n",
       "\n",
       "**Future References:** 0\n",
       "\n",
       "---"
      ],
      "text/plain": [
       "<IPython.core.display.Markdown object>"
      ]
     },
     "metadata": {},
     "output_type": "display_data"
    },
    {
     "data": {
      "text/markdown": [
       "### File: the_chair_s1e1_transcript.txt\n",
       "\n",
       "**Sentence Number:** 611\n",
       "\n",
       "**Sentence:** Uh, she was supposed to be here.\n",
       "\n",
       "**Past References:** 1\n",
       "\n",
       "**Future References:** 1\n",
       "\n",
       "---"
      ],
      "text/plain": [
       "<IPython.core.display.Markdown object>"
      ]
     },
     "metadata": {},
     "output_type": "display_data"
    },
    {
     "data": {
      "text/markdown": [
       "### File: the_chair_s1e1_transcript.txt\n",
       "\n",
       "**Sentence Number:** 614\n",
       "\n",
       "**Sentence:** This was her idea.\n",
       "\n",
       "**Past References:** 1\n",
       "\n",
       "**Future References:** 0\n",
       "\n",
       "---"
      ],
      "text/plain": [
       "<IPython.core.display.Markdown object>"
      ]
     },
     "metadata": {},
     "output_type": "display_data"
    },
    {
     "data": {
      "text/markdown": [
       "### File: the_chair_s1e1_transcript.txt\n",
       "\n",
       "**Sentence Number:** 615\n",
       "\n",
       "**Sentence:** I don’t know what happened.\n",
       "\n",
       "**Past References:** 1\n",
       "\n",
       "**Future References:** 0\n",
       "\n",
       "---"
      ],
      "text/plain": [
       "<IPython.core.display.Markdown object>"
      ]
     },
     "metadata": {},
     "output_type": "display_data"
    },
    {
     "data": {
      "text/markdown": [
       "### File: the_chair_s1e1_transcript.txt\n",
       "\n",
       "**Sentence Number:** 621\n",
       "\n",
       "**Sentence:** Truth is a very loaded word.\n",
       "\n",
       "**Past References:** 1\n",
       "\n",
       "**Future References:** 0\n",
       "\n",
       "---"
      ],
      "text/plain": [
       "<IPython.core.display.Markdown object>"
      ]
     },
     "metadata": {},
     "output_type": "display_data"
    },
    {
     "data": {
      "text/markdown": [
       "### File: the_chair_s1e1_transcript.txt\n",
       "\n",
       "**Sentence Number:** 625\n",
       "\n",
       "**Sentence:** If something’s true, there’s no moral weight applied to it.\n",
       "\n",
       "**Past References:** 1\n",
       "\n",
       "**Future References:** 0\n",
       "\n",
       "---"
      ],
      "text/plain": [
       "<IPython.core.display.Markdown object>"
      ]
     },
     "metadata": {},
     "output_type": "display_data"
    },
    {
     "data": {
      "text/markdown": [
       "### File: the_chair_s1e1_transcript.txt\n",
       "\n",
       "**Sentence Number:** 633\n",
       "\n",
       "**Sentence:** When I walked in.\n",
       "\n",
       "**Past References:** 1\n",
       "\n",
       "**Future References:** 0\n",
       "\n",
       "---"
      ],
      "text/plain": [
       "<IPython.core.display.Markdown object>"
      ]
     },
     "metadata": {},
     "output_type": "display_data"
    },
    {
     "data": {
      "text/markdown": [
       "### File: the_chair_s1e1_transcript.txt\n",
       "\n",
       "**Sentence Number:** 635\n",
       "\n",
       "**Sentence:** You are the first point of contact for people who are coming in here, some of whom need to report having been violated.\n",
       "\n",
       "**Past References:** 1\n",
       "\n",
       "**Future References:** 0\n",
       "\n",
       "---"
      ],
      "text/plain": [
       "<IPython.core.display.Markdown object>"
      ]
     },
     "metadata": {},
     "output_type": "display_data"
    },
    {
     "data": {
      "text/markdown": [
       "### File: the_chair_s1e1_transcript.txt\n",
       "\n",
       "**Sentence Number:** 636\n",
       "\n",
       "**Sentence:** Uh, and you… you… I understand you want to be body-positive.\n",
       "\n",
       "**Past References:** 0\n",
       "\n",
       "**Future References:** 1\n",
       "\n",
       "---"
      ],
      "text/plain": [
       "<IPython.core.display.Markdown object>"
      ]
     },
     "metadata": {},
     "output_type": "display_data"
    },
    {
     "data": {
      "text/markdown": [
       "### File: the_chair_s1e1_transcript.txt\n",
       "\n",
       "**Sentence Number:** 643\n",
       "\n",
       "**Sentence:** How did you get this job?\n",
       "\n",
       "**Past References:** 1\n",
       "\n",
       "**Future References:** 0\n",
       "\n",
       "---"
      ],
      "text/plain": [
       "<IPython.core.display.Markdown object>"
      ]
     },
     "metadata": {},
     "output_type": "display_data"
    },
    {
     "data": {
      "text/markdown": [
       "### File: the_chair_s1e1_transcript.txt\n",
       "\n",
       "**Sentence Number:** 645\n",
       "\n",
       "**Sentence:** I came from a non-profit where I helped place refugee immigrant children into foster families.\n",
       "\n",
       "**Past References:** 1\n",
       "\n",
       "**Future References:** 0\n",
       "\n",
       "---"
      ],
      "text/plain": [
       "<IPython.core.display.Markdown object>"
      ]
     },
     "metadata": {},
     "output_type": "display_data"
    },
    {
     "data": {
      "text/markdown": [
       "### File: the_chair_s1e1_transcript.txt\n",
       "\n",
       "**Sentence Number:** 647\n",
       "\n",
       "**Sentence:** Well, I hope they didn’t have to look at your fucking fanny while you did that.\n",
       "\n",
       "**Past References:** 1\n",
       "\n",
       "**Future References:** 0\n",
       "\n",
       "---"
      ],
      "text/plain": [
       "<IPython.core.display.Markdown object>"
      ]
     },
     "metadata": {},
     "output_type": "display_data"
    },
    {
     "data": {
      "text/markdown": [
       "### File: the_chair_s1e1_transcript.txt\n",
       "\n",
       "**Sentence Number:** 648\n",
       "\n",
       "**Sentence:** Lila mentioned there’s still some holes in your syllabus.\n",
       "\n",
       "**Past References:** 1\n",
       "\n",
       "**Future References:** 0\n",
       "\n",
       "---"
      ],
      "text/plain": [
       "<IPython.core.display.Markdown object>"
      ]
     },
     "metadata": {},
     "output_type": "display_data"
    },
    {
     "data": {
      "text/markdown": [
       "### File: the_chair_s1e1_transcript.txt\n",
       "\n",
       "**Sentence Number:** 661\n",
       "\n",
       "**Sentence:** That’s exactly what Doodles said.\n",
       "\n",
       "**Past References:** 1\n",
       "\n",
       "**Future References:** 0\n",
       "\n",
       "---"
      ],
      "text/plain": [
       "<IPython.core.display.Markdown object>"
      ]
     },
     "metadata": {},
     "output_type": "display_data"
    },
    {
     "data": {
      "text/markdown": [
       "### File: the_chair_s1e1_transcript.txt\n",
       "\n",
       "**Sentence Number:** 673\n",
       "\n",
       "**Sentence:** When I was chair, I didn’t ride your ass like this.\n",
       "\n",
       "**Past References:** 1\n",
       "\n",
       "**Future References:** 0\n",
       "\n",
       "---"
      ],
      "text/plain": [
       "<IPython.core.display.Markdown object>"
      ]
     },
     "metadata": {},
     "output_type": "display_data"
    },
    {
     "data": {
      "text/markdown": [
       "### File: the_chair_s1e1_transcript.txt\n",
       "\n",
       "**Sentence Number:** 674\n",
       "\n",
       "**Sentence:** When you were chair, I wasn’t fucking phoning it in.\n",
       "\n",
       "**Past References:** 1\n",
       "\n",
       "**Future References:** 0\n",
       "\n",
       "---"
      ],
      "text/plain": [
       "<IPython.core.display.Markdown object>"
      ]
     },
     "metadata": {},
     "output_type": "display_data"
    },
    {
     "data": {
      "text/markdown": [
       "### File: the_chair_s1e1_transcript.txt\n",
       "\n",
       "**Sentence Number:** 675\n",
       "\n",
       "**Sentence:** How many of you did the reading for today?\n",
       "\n",
       "**Past References:** 1\n",
       "\n",
       "**Future References:** 0\n",
       "\n",
       "---"
      ],
      "text/plain": [
       "<IPython.core.display.Markdown object>"
      ]
     },
     "metadata": {},
     "output_type": "display_data"
    },
    {
     "data": {
      "text/markdown": [
       "### File: the_chair_s1e1_transcript.txt\n",
       "\n",
       "**Sentence Number:** 682\n",
       "\n",
       "**Sentence:** [students laugh]\n",
       "\n",
       "Or stoned?\n",
       "\n",
       "**Past References:** 1\n",
       "\n",
       "**Future References:** 0\n",
       "\n",
       "---"
      ],
      "text/plain": [
       "<IPython.core.display.Markdown object>"
      ]
     },
     "metadata": {},
     "output_type": "display_data"
    },
    {
     "data": {
      "text/markdown": [
       "### File: the_chair_s1e1_transcript.txt\n",
       "\n",
       "**Sentence Number:** 687\n",
       "\n",
       "**Sentence:** [writing on chalkboard]\n",
       "\n",
       "All meaning is ascribed to the state.\n",
       "\n",
       "**Past References:** 1\n",
       "\n",
       "**Future References:** 1\n",
       "\n",
       "---"
      ],
      "text/plain": [
       "<IPython.core.display.Markdown object>"
      ]
     },
     "metadata": {},
     "output_type": "display_data"
    },
    {
     "data": {
      "text/markdown": [
       "### File: the_chair_s1e1_transcript.txt\n",
       "\n",
       "**Sentence Number:** 690\n",
       "\n",
       "**Sentence:** The idea that we exist in a purposeless universe came about after two World Wars, 85 million dead including the camps.\n",
       "\n",
       "**Past References:** 1\n",
       "\n",
       "**Future References:** 0\n",
       "\n",
       "---"
      ],
      "text/plain": [
       "<IPython.core.display.Markdown object>"
      ]
     },
     "metadata": {},
     "output_type": "display_data"
    },
    {
     "data": {
      "text/markdown": [
       "### File: the_chair_s1e1_transcript.txt\n",
       "\n",
       "**Sentence Number:** 692\n",
       "\n",
       "**Sentence:** [phone chimes]\n",
       "\n",
       "[student] They both fought in the resistance.\n",
       "\n",
       "**Past References:** 1\n",
       "\n",
       "**Future References:** 0\n",
       "\n",
       "---"
      ],
      "text/plain": [
       "<IPython.core.display.Markdown object>"
      ]
     },
     "metadata": {},
     "output_type": "display_data"
    },
    {
     "data": {
      "text/markdown": [
       "### File: the_chair_s1e1_transcript.txt\n",
       "\n",
       "**Sentence Number:** 696\n",
       "\n",
       "**Sentence:** For two people who were convinced that there’s no cure for being on this Earth, that there’s nothing to be done… they still tried.\n",
       "\n",
       "**Past References:** 1\n",
       "\n",
       "**Future References:** 0\n",
       "\n",
       "---"
      ],
      "text/plain": [
       "<IPython.core.display.Markdown object>"
      ]
     },
     "metadata": {},
     "output_type": "display_data"
    },
    {
     "data": {
      "text/markdown": [
       "### File: the_chair_s1e1_transcript.txt\n",
       "\n",
       "**Sentence Number:** 697\n",
       "\n",
       "**Sentence:** Cesare Pavese wrote that the only way to escape from the abyss is to look at it, measure it, sound its depths, and go down into it…\n",
       "\n",
       "**Past References:** 1\n",
       "\n",
       "**Future References:** 0\n",
       "\n",
       "---"
      ],
      "text/plain": [
       "<IPython.core.display.Markdown object>"
      ]
     },
     "metadata": {},
     "output_type": "display_data"
    }
   ],
   "source": [
    "display_sentences_in_markdown(chair_sentence_df)"
   ]
  },
  {
   "cell_type": "code",
   "execution_count": 120,
   "metadata": {},
   "outputs": [
    {
     "data": {
      "text/html": [
       "<div>\n",
       "<style scoped>\n",
       "    .dataframe tbody tr th:only-of-type {\n",
       "        vertical-align: middle;\n",
       "    }\n",
       "\n",
       "    .dataframe tbody tr th {\n",
       "        vertical-align: top;\n",
       "    }\n",
       "\n",
       "    .dataframe thead th {\n",
       "        text-align: right;\n",
       "    }\n",
       "</style>\n",
       "<table border=\"1\" class=\"dataframe\">\n",
       "  <thead>\n",
       "    <tr style=\"text-align: right;\">\n",
       "      <th></th>\n",
       "      <th>filename</th>\n",
       "      <th>past_tense</th>\n",
       "      <th>future_tense</th>\n",
       "    </tr>\n",
       "  </thead>\n",
       "  <tbody>\n",
       "    <tr>\n",
       "      <th>0</th>\n",
       "      <td>the_chair_s1e5_transcript.txt</td>\n",
       "      <td>122</td>\n",
       "      <td>3</td>\n",
       "    </tr>\n",
       "    <tr>\n",
       "      <th>1</th>\n",
       "      <td>the_chair_s1e2_transcript.txt</td>\n",
       "      <td>79</td>\n",
       "      <td>3</td>\n",
       "    </tr>\n",
       "    <tr>\n",
       "      <th>2</th>\n",
       "      <td>the_chair_s1e3_transcript.txt</td>\n",
       "      <td>119</td>\n",
       "      <td>8</td>\n",
       "    </tr>\n",
       "    <tr>\n",
       "      <th>3</th>\n",
       "      <td>the_chair_s1e4_transcript.txt</td>\n",
       "      <td>111</td>\n",
       "      <td>7</td>\n",
       "    </tr>\n",
       "    <tr>\n",
       "      <th>4</th>\n",
       "      <td>the_chair_s1e6_transcript.txt</td>\n",
       "      <td>124</td>\n",
       "      <td>16</td>\n",
       "    </tr>\n",
       "    <tr>\n",
       "      <th>5</th>\n",
       "      <td>the_chair_s1e1_transcript.txt</td>\n",
       "      <td>104</td>\n",
       "      <td>6</td>\n",
       "    </tr>\n",
       "  </tbody>\n",
       "</table>\n",
       "</div>"
      ],
      "text/plain": [
       "                        filename past_tense future_tense\n",
       "0  the_chair_s1e5_transcript.txt        122            3\n",
       "1  the_chair_s1e2_transcript.txt         79            3\n",
       "2  the_chair_s1e3_transcript.txt        119            8\n",
       "3  the_chair_s1e4_transcript.txt        111            7\n",
       "4  the_chair_s1e6_transcript.txt        124           16\n",
       "5  the_chair_s1e1_transcript.txt        104            6"
      ]
     },
     "execution_count": 120,
     "metadata": {},
     "output_type": "execute_result"
    }
   ],
   "source": [
    "chair_df_spacy # third try"
   ]
  },
  {
   "cell_type": "code",
   "execution_count": 103,
   "metadata": {},
   "outputs": [
    {
     "data": {
      "text/html": [
       "<div>\n",
       "<style scoped>\n",
       "    .dataframe tbody tr th:only-of-type {\n",
       "        vertical-align: middle;\n",
       "    }\n",
       "\n",
       "    .dataframe tbody tr th {\n",
       "        vertical-align: top;\n",
       "    }\n",
       "\n",
       "    .dataframe thead th {\n",
       "        text-align: right;\n",
       "    }\n",
       "</style>\n",
       "<table border=\"1\" class=\"dataframe\">\n",
       "  <thead>\n",
       "    <tr style=\"text-align: right;\">\n",
       "      <th></th>\n",
       "      <th>filename</th>\n",
       "      <th>past_tense</th>\n",
       "      <th>future_tense</th>\n",
       "    </tr>\n",
       "  </thead>\n",
       "  <tbody>\n",
       "    <tr>\n",
       "      <th>0</th>\n",
       "      <td>the_chair_s1e5_transcript.txt</td>\n",
       "      <td>3</td>\n",
       "      <td>4</td>\n",
       "    </tr>\n",
       "    <tr>\n",
       "      <th>1</th>\n",
       "      <td>the_chair_s1e2_transcript.txt</td>\n",
       "      <td>1</td>\n",
       "      <td>5</td>\n",
       "    </tr>\n",
       "    <tr>\n",
       "      <th>2</th>\n",
       "      <td>the_chair_s1e3_transcript.txt</td>\n",
       "      <td>2</td>\n",
       "      <td>10</td>\n",
       "    </tr>\n",
       "    <tr>\n",
       "      <th>3</th>\n",
       "      <td>the_chair_s1e4_transcript.txt</td>\n",
       "      <td>2</td>\n",
       "      <td>11</td>\n",
       "    </tr>\n",
       "    <tr>\n",
       "      <th>4</th>\n",
       "      <td>the_chair_s1e6_transcript.txt</td>\n",
       "      <td>3</td>\n",
       "      <td>20</td>\n",
       "    </tr>\n",
       "    <tr>\n",
       "      <th>5</th>\n",
       "      <td>the_chair_s1e1_transcript.txt</td>\n",
       "      <td>3</td>\n",
       "      <td>8</td>\n",
       "    </tr>\n",
       "  </tbody>\n",
       "</table>\n",
       "</div>"
      ],
      "text/plain": [
       "                        filename past_tense future_tense\n",
       "0  the_chair_s1e5_transcript.txt          3            4\n",
       "1  the_chair_s1e2_transcript.txt          1            5\n",
       "2  the_chair_s1e3_transcript.txt          2           10\n",
       "3  the_chair_s1e4_transcript.txt          2           11\n",
       "4  the_chair_s1e6_transcript.txt          3           20\n",
       "5  the_chair_s1e1_transcript.txt          3            8"
      ]
     },
     "execution_count": 103,
     "metadata": {},
     "output_type": "execute_result"
    }
   ],
   "source": [
    "chair_df_spacy"
   ]
  },
  {
   "cell_type": "code",
   "execution_count": 97,
   "metadata": {},
   "outputs": [
    {
     "data": {
      "text/html": [
       "<div>\n",
       "<style scoped>\n",
       "    .dataframe tbody tr th:only-of-type {\n",
       "        vertical-align: middle;\n",
       "    }\n",
       "\n",
       "    .dataframe tbody tr th {\n",
       "        vertical-align: top;\n",
       "    }\n",
       "\n",
       "    .dataframe thead th {\n",
       "        text-align: right;\n",
       "    }\n",
       "</style>\n",
       "<table border=\"1\" class=\"dataframe\">\n",
       "  <thead>\n",
       "    <tr style=\"text-align: right;\">\n",
       "      <th></th>\n",
       "      <th>filename</th>\n",
       "      <th>past_tense</th>\n",
       "      <th>future_tense</th>\n",
       "    </tr>\n",
       "  </thead>\n",
       "  <tbody>\n",
       "    <tr>\n",
       "      <th>0</th>\n",
       "      <td>the_chair_s1e5_transcript.txt</td>\n",
       "      <td>95</td>\n",
       "      <td>4</td>\n",
       "    </tr>\n",
       "    <tr>\n",
       "      <th>1</th>\n",
       "      <td>the_chair_s1e2_transcript.txt</td>\n",
       "      <td>64</td>\n",
       "      <td>5</td>\n",
       "    </tr>\n",
       "    <tr>\n",
       "      <th>2</th>\n",
       "      <td>the_chair_s1e3_transcript.txt</td>\n",
       "      <td>93</td>\n",
       "      <td>9</td>\n",
       "    </tr>\n",
       "    <tr>\n",
       "      <th>3</th>\n",
       "      <td>the_chair_s1e4_transcript.txt</td>\n",
       "      <td>80</td>\n",
       "      <td>9</td>\n",
       "    </tr>\n",
       "    <tr>\n",
       "      <th>4</th>\n",
       "      <td>the_chair_s1e6_transcript.txt</td>\n",
       "      <td>90</td>\n",
       "      <td>18</td>\n",
       "    </tr>\n",
       "    <tr>\n",
       "      <th>5</th>\n",
       "      <td>the_chair_s1e1_transcript.txt</td>\n",
       "      <td>80</td>\n",
       "      <td>7</td>\n",
       "    </tr>\n",
       "  </tbody>\n",
       "</table>\n",
       "</div>"
      ],
      "text/plain": [
       "                        filename past_tense future_tense\n",
       "0  the_chair_s1e5_transcript.txt         95            4\n",
       "1  the_chair_s1e2_transcript.txt         64            5\n",
       "2  the_chair_s1e3_transcript.txt         93            9\n",
       "3  the_chair_s1e4_transcript.txt         80            9\n",
       "4  the_chair_s1e6_transcript.txt         90           18\n",
       "5  the_chair_s1e1_transcript.txt         80            7"
      ]
     },
     "execution_count": 97,
     "metadata": {},
     "output_type": "execute_result"
    }
   ],
   "source": [
    "chair_df_spacy"
   ]
  },
  {
   "cell_type": "code",
   "execution_count": 56,
   "metadata": {},
   "outputs": [
    {
     "data": {
      "text/plain": [
       "{'had': 'Mood=Ind|Number=Sing|Person=1|Tense=Past|VerbForm=Fin',\n",
       " 'realized': 'Tense=Past|VerbForm=Part',\n",
       " 'was': 'Mood=Ind|Number=Sing|Person=3|Tense=Past|VerbForm=Fin',\n",
       " 'going': 'Tense=Pres|VerbForm=Part'}"
      ]
     },
     "execution_count": 56,
     "metadata": {},
     "output_type": "execute_result"
    }
   ],
   "source": [
    "doc = nlp('I hadn\\'t realized that it was going to be so important to you.')\n",
    "ddoc = doc.to_dict()[0]\n",
    "{x['text']: x['feats'] for x in ddoc if 'feats' in x and 'Tense' in x['feats']}"
   ]
  },
  {
   "cell_type": "code",
   "execution_count": 61,
   "metadata": {},
   "outputs": [
    {
     "data": {
      "text/plain": [
       "{'am': 'Mood=Ind|Number=Sing|Person=1|Tense=Pres|VerbForm=Fin',\n",
       " 'looking': 'Tense=Pres|VerbForm=Part'}"
      ]
     },
     "execution_count": 61,
     "metadata": {},
     "output_type": "execute_result"
    }
   ],
   "source": [
    "doc = nlp('I am looking forward to going skiing in the Alps.')\n",
    "ddoc = doc.to_dict()[0]\n",
    "{x['text']: x['feats'] for x in ddoc if 'feats' in x and 'Tense' in x['feats']}"
   ]
  },
  {
   "cell_type": "code",
   "execution_count": 68,
   "metadata": {},
   "outputs": [
    {
     "data": {
      "text/plain": [
       "{'liked': 'Tense=Past|VerbForm=Part'}"
      ]
     },
     "execution_count": 68,
     "metadata": {},
     "output_type": "execute_result"
    }
   ],
   "source": [
    "doc = nlp('I would have liked to do that tomorrow.')\n",
    "ddoc = doc.to_dict()[0]\n",
    "{x['text']: x['feats'] for x in ddoc if 'feats' in x and 'Tense' in x['feats']}"
   ]
  },
  {
   "cell_type": "code",
   "execution_count": 69,
   "metadata": {},
   "outputs": [
    {
     "data": {
      "text/plain": [
       "{}"
      ]
     },
     "execution_count": 69,
     "metadata": {},
     "output_type": "execute_result"
    }
   ],
   "source": [
    "doc = nlp('I will see you tomorrow.')\n",
    "ddoc = doc.to_dict()[0]\n",
    "{x['text']: x['feats'] for x in ddoc if 'feats' in x and 'Tense' in x['feats']}"
   ]
  },
  {
   "cell_type": "code",
   "execution_count": 66,
   "metadata": {},
   "outputs": [
    {
     "data": {
      "text/plain": [
       "{}"
      ]
     },
     "execution_count": 66,
     "metadata": {},
     "output_type": "execute_result"
    }
   ],
   "source": [
    "doc = nlp('I\\'ll look forward to going skiing in the Alps.')\n",
    "ddoc = doc.to_dict()[0]\n",
    "{x['text']: x['feats'] for x in ddoc if 'feats' in x and 'Tense' in x['feats']}"
   ]
  },
  {
   "cell_type": "code",
   "execution_count": 67,
   "metadata": {},
   "outputs": [
    {
     "data": {
      "text/plain": [
       "[{'id': 1,\n",
       "  'text': 'I',\n",
       "  'upos': 'PRON',\n",
       "  'xpos': 'PRP',\n",
       "  'feats': 'Case=Nom|Number=Sing|Person=1|PronType=Prs',\n",
       "  'start_char': 0,\n",
       "  'end_char': 1},\n",
       " {'id': 2,\n",
       "  'text': \"'ll\",\n",
       "  'upos': 'AUX',\n",
       "  'xpos': 'MD',\n",
       "  'feats': 'VerbForm=Fin',\n",
       "  'start_char': 1,\n",
       "  'end_char': 4},\n",
       " {'id': 3,\n",
       "  'text': 'look',\n",
       "  'upos': 'VERB',\n",
       "  'xpos': 'VB',\n",
       "  'feats': 'VerbForm=Inf',\n",
       "  'start_char': 5,\n",
       "  'end_char': 9},\n",
       " {'id': 4,\n",
       "  'text': 'forward',\n",
       "  'upos': 'ADV',\n",
       "  'xpos': 'RB',\n",
       "  'start_char': 10,\n",
       "  'end_char': 17},\n",
       " {'id': 5,\n",
       "  'text': 'to',\n",
       "  'upos': 'SCONJ',\n",
       "  'xpos': 'IN',\n",
       "  'start_char': 18,\n",
       "  'end_char': 20},\n",
       " {'id': 6,\n",
       "  'text': 'going',\n",
       "  'upos': 'VERB',\n",
       "  'xpos': 'VBG',\n",
       "  'feats': 'VerbForm=Ger',\n",
       "  'start_char': 21,\n",
       "  'end_char': 26},\n",
       " {'id': 7,\n",
       "  'text': 'skiing',\n",
       "  'upos': 'VERB',\n",
       "  'xpos': 'VBG',\n",
       "  'feats': 'VerbForm=Ger',\n",
       "  'start_char': 27,\n",
       "  'end_char': 33},\n",
       " {'id': 8,\n",
       "  'text': 'in',\n",
       "  'upos': 'ADP',\n",
       "  'xpos': 'IN',\n",
       "  'start_char': 34,\n",
       "  'end_char': 36},\n",
       " {'id': 9,\n",
       "  'text': 'the',\n",
       "  'upos': 'DET',\n",
       "  'xpos': 'DT',\n",
       "  'feats': 'Definite=Def|PronType=Art',\n",
       "  'start_char': 37,\n",
       "  'end_char': 40},\n",
       " {'id': 10,\n",
       "  'text': 'Alps',\n",
       "  'upos': 'PROPN',\n",
       "  'xpos': 'NNPS',\n",
       "  'feats': 'Number=Plur',\n",
       "  'start_char': 41,\n",
       "  'end_char': 45},\n",
       " {'id': 11,\n",
       "  'text': '.',\n",
       "  'upos': 'PUNCT',\n",
       "  'xpos': '.',\n",
       "  'start_char': 45,\n",
       "  'end_char': 46}]"
      ]
     },
     "execution_count": 67,
     "metadata": {},
     "output_type": "execute_result"
    }
   ],
   "source": [
    "ddoc"
   ]
  },
  {
   "attachments": {},
   "cell_type": "markdown",
   "metadata": {},
   "source": [
    "# Infer tense from text using NLTK's taggers"
   ]
  },
  {
   "attachments": {},
   "cell_type": "markdown",
   "metadata": {},
   "source": [
    "Single sentence tagging"
   ]
  },
  {
   "cell_type": "code",
   "execution_count": 4,
   "metadata": {},
   "outputs": [],
   "source": [
    "data_dir = str(Path.cwd().parent.joinpath('data'))\n",
    "tagger = os.path.join(data_dir, 'english-bidirectional-distsim.tagger')\n",
    "jar = os.path.join(data_dir, 'stanford-postagger.jar')\n",
    "\n",
    "stanford_tagger = StanfordPOSTagger(tagger, jar, encoding='utf8')\n",
    "\n",
    "def sentence_tense(x):\n",
    "  # source: https://stackoverflow.com/questions/30016904/determining-tense-of-a-sentence-python\n",
    "  def tense_detect(tagged_sentence):        \n",
    "    verb_tags = ['MD','MDF',\n",
    "                'BE','BEG','BEN','BED','BEDZ','BEZ','BEM','BER',\n",
    "                'DO','DOD','DOZ',\n",
    "                'HV','HVG','HVN','HVD','HVZ',\n",
    "                'VB','VBG','VBN','VBD','VBZ',\n",
    "                'SH',\n",
    "                'TO',                \n",
    "                'JJ']\n",
    "    \n",
    "    verb_phrase = []\n",
    "    for item in tagged_sentence:\n",
    "        if item[1] in verb_tags:\n",
    "            verb_phrase.append(item)\n",
    "\n",
    "    grammar = r'''\n",
    "            future perfect continuous passive:     {<MDF><HV><BEN><BEG><VBN|VBD>+}\n",
    "            conditional perfect continuous passive:{<MD><HV><BEN><BEG><VBN|VBD>+}\n",
    "            future continuous passive:             {<MDF><BE><BEG><VBN|VBD>+}   \n",
    "            conditional continuous passive:        {<MD><BE><BEG><VBN|VBD>+}    \n",
    "            future perfect continuous:             {<MDF><HV><BEN><VBG|HVG|BEG>+}   \n",
    "            conditional perfect continuous:        {<MD><HV><BEN><VBG|HVG|BEG>+}\n",
    "            past perfect continuous passive:       {<HVD><BEN><BEG><VBN|VBD>+}\n",
    "            present perfect continuous passive:    {<HV|HVZ><BEN><BEG><VBN|VBD>+}\n",
    "            future perfect passive:                {<MDF><HV><BEN><VBN|VBD>+}   \n",
    "            conditional perfect passive:           {<MD><HV><BEN><VBN|VBD>+}    \n",
    "            future continuous:                     {<MDF><BE><VBG|HVG|BEG>+ }   \n",
    "            conditional continuous:                {<MD><BE><VBG|HVG|BEG>+  }   \n",
    "            future indefinite passive:             {<MDF><BE><VBN|VBD>+ }\n",
    "            conditional indefinite passive:        {<MD><BE><VBN|VBD>+  }\n",
    "            future perfect:                        {<MDF><HV><HVN|BEN|VBN|VBD>+ }   \n",
    "            conditional perfect:                   {<MD><HV><HVN|BEN|VBN|VBD>+  }   \n",
    "            past continuous passive:               {<BED|BEDZ><BEG><VBN|VBD>+}  \n",
    "            past perfect continuous:               {<HVD><BEN><HVG|BEG|VBG>+}   \n",
    "            past perfect passive:                  {<HVD><BEN><VBN|VBD>+}\n",
    "            present continuous passive:            {<BEM|BER|BEZ><BEG><VBN|VBD>+}   \n",
    "            present perfect continuous:            {<HV|HVZ><BEN><VBG|BEG|HVG>+}    \n",
    "            present perfect passive:               {<HV|HVZ><BEN><VBN|VBD>+}\n",
    "            future indefinite:                     {<MDF><BE|DO|VB|HV>+ }       \n",
    "            conditional indefinite:                {<MD><BE|DO|VB|HV>+  }   \n",
    "            past continuous:                       {<BED|BEDZ><VBG|HVG|BEG>+}           \n",
    "            past perfect:                          {<HVD><BEN|VBN|HVD|HVN>+}\n",
    "            past indefinite passive:               {<BED|BEDZ><VBN|VBD>+}   \n",
    "            present indefinite passive:            {<BEM|BER|BEZ><VBN|VBD>+}            \n",
    "            present continuous:                    {<BEM|BER|BEZ><BEG|VBG|HVG>+}            \n",
    "            present perfect:                       {<HV|HVZ><BEN|HVD|VBN|VBD>+  }       \n",
    "            past indefinite:                       {<DOD><VB|HV|DO>|<BEDZ|BED|HVD|VBN|VBD>+}        \n",
    "            infinitive:                            {<TO><BE|HV|VB>+}\n",
    "            present indefinite:                    {<DO|DOZ><DO|HV|VB>+|<DO|HV|VB|BEZ|DOZ|BER|HVZ|BEM|VBZ>+}    \n",
    "            '''\n",
    "\n",
    "    if len(verb_phrase) > 0:\n",
    "      cp = nltk.RegexpParser(grammar)\n",
    "      result = cp.parse(verb_phrase)\n",
    "    else:\n",
    "      result = []\n",
    "    \n",
    "    tenses_set = set()\n",
    "    for node in result:\n",
    "      if type(node) is nltk.tree.Tree:\n",
    "        tenses_set.add(node.label())\n",
    "    \n",
    "    return tenses_set\n",
    "    \n",
    "  text = word_tokenize(x)\n",
    "  tagged = stanford_tagger.tag(x)\n",
    "  return tense_detect(tagged)"
   ]
  },
  {
   "attachments": {},
   "cell_type": "markdown",
   "metadata": {},
   "source": [
    "Document-level tagging"
   ]
  },
  {
   "cell_type": "code",
   "execution_count": 5,
   "metadata": {},
   "outputs": [],
   "source": [
    "def tag_document(x):\n",
    "  counts = {}\n",
    "  for s in tokenize.sent_tokenize(x):\n",
    "    if len(s) > 0:\n",
    "      for t in sentence_tense(s):\n",
    "        counts[t] = counts.get(t, 0) + 1\n",
    "    else:\n",
    "      pass\n",
    "  return counts"
   ]
  },
  {
   "attachments": {},
   "cell_type": "markdown",
   "metadata": {},
   "source": [
    "# Download datasets"
   ]
  },
  {
   "attachments": {},
   "cell_type": "markdown",
   "metadata": {},
   "source": [
    "## [Internet Movie Script Database (IMSDb)](https://imsdb.com/)"
   ]
  },
  {
   "cell_type": "code",
   "execution_count": 6,
   "metadata": {},
   "outputs": [],
   "source": [
    "imsdb_dir = str(Path.cwd().parent.joinpath('data').joinpath('imsdb'))\n",
    "if not os.path.exists(imsdb_dir):\n",
    "  os.makedirs(imsdb_dir)"
   ]
  },
  {
   "cell_type": "code",
   "execution_count": 7,
   "metadata": {},
   "outputs": [],
   "source": [
    "def get_imsdb():\n",
    "    ALL_URL = \"https://imsdb.com/all-scripts.html\"\n",
    "    BASE_URL = \"https://imsdb.com\"\n",
    "    SOURCE = \"imsdb\"\n",
    "\n",
    "    def get_script_from_url(script_url):\n",
    "        text = \"\"\n",
    "\n",
    "        try:\n",
    "            if script_url.endswith('.pdf'):\n",
    "                text = get_pdf_text(script_url, os.path.join(SOURCE, file_name))\n",
    "                return text\n",
    "\n",
    "            if script_url.endswith('.html'):\n",
    "                script_soup = get_soup(\n",
    "                    script_url)\n",
    "                if script_soup == None:\n",
    "                    return text\n",
    "                if len(script_soup.find_all('td', class_=\"scrtext\")) < 1:\n",
    "                    return \"\"\n",
    "                script_text = script_soup.find_all(\n",
    "                    'td', class_=\"scrtext\")[0].pre\n",
    "\n",
    "                if script_text:\n",
    "                    script_text = script_soup.find_all(\n",
    "                        'td', class_=\"scrtext\")[0].pre.pre\n",
    "                    if script_text:\n",
    "                        text = script_text.get_text()\n",
    "\n",
    "                    else:\n",
    "                        script_text = script_soup.find_all(\n",
    "                            'td', class_=\"scrtext\")[0].pre\n",
    "                        text = script_text.get_text()\n",
    "        except Exception as err:\n",
    "            # print(script_url)\n",
    "            # print(err)\n",
    "            text = \"\"\n",
    "\n",
    "        return text\n",
    "\n",
    "    def get_script_url(movie):\n",
    "        script_page_url = movie.contents[0].get('href')\n",
    "        name = movie.contents[0].text\n",
    "        movie_name = script_page_url.split(\"/\")[-1].strip('Script.html')\n",
    "\n",
    "        script_page_soup = get_soup(BASE_URL + urllib.parse.quote(script_page_url))\n",
    "        if script_page_soup == None:\n",
    "            return \"\", name\n",
    "        paras = script_page_soup.find_all('p', align=\"center\")\n",
    "        if len(paras) < 1:\n",
    "            return \"\", \"\"\n",
    "        script_url = paras[0].contents[0].get('href')\n",
    "\n",
    "        return script_url, name\n",
    "\n",
    "    soup = get_soup(ALL_URL)\n",
    "    movielist = soup.find_all('p')\n",
    "\n",
    "    for movie in tqdm(movielist, desc=SOURCE):\n",
    "        with warnings.catch_warnings():\n",
    "            warnings.simplefilter(\"ignore\")\n",
    "            script_url, name = get_script_url(movie)\n",
    "    \n",
    "        if script_url == \"\":\n",
    "            continue\n",
    "        \n",
    "        script_url = BASE_URL + urllib.parse.quote(script_url)\n",
    "        file_name = format_filename(name)\n",
    "\n",
    "        if os.path.exists(os.path.join(imsdb_dir, file_name + '.txt')):\n",
    "            continue\n",
    "        \n",
    "        with warnings.catch_warnings():\n",
    "            warnings.simplefilter(\"ignore\")\n",
    "            text = get_script_from_url(script_url)\n",
    "\n",
    "        if text == \"\" or name == \"\":\n",
    "            continue\n",
    "        \n",
    "        with open(os.path.join(imsdb_dir, file_name + '.txt'), 'w', errors=\"ignore\") as out:\n",
    "            out.write(text)"
   ]
  },
  {
   "cell_type": "code",
   "execution_count": 8,
   "metadata": {},
   "outputs": [
    {
     "name": "stdout",
     "output_type": "stream",
     "text": [
      "Found 1127 IMSDB scripts.\n"
     ]
    }
   ],
   "source": [
    "if os.path.exists(imsdb_dir):\n",
    "    fnames = [f for f in os.listdir(imsdb_dir) if f.endswith('.txt')]\n",
    "else:\n",
    "    fnames = []\n",
    "\n",
    "if len(fnames) < 1000:\n",
    "    get_imsdb()\n",
    "    fnames = [f for f in os.listdir(imsdb_dir) if f.endswith('.txt')]\n",
    "\n",
    "print(f'Found {len(fnames)} IMSDB scripts.')"
   ]
  },
  {
   "cell_type": "code",
   "execution_count": 19,
   "metadata": {},
   "outputs": [],
   "source": [
    "smuggle stanza"
   ]
  },
  {
   "cell_type": "code",
   "execution_count": 20,
   "metadata": {},
   "outputs": [
    {
     "data": {
      "text/plain": [
       "'1.5.0'"
      ]
     },
     "execution_count": 20,
     "metadata": {},
     "output_type": "execute_result"
    }
   ],
   "source": [
    "stanza.__version__"
   ]
  },
  {
   "cell_type": "markdown",
   "metadata": {},
   "source": [
    "Display a randomly chosen excerpt from a randomly chosen transcript"
   ]
  },
  {
   "cell_type": "code",
   "execution_count": 9,
   "metadata": {},
   "outputs": [
    {
     "data": {
      "text/markdown": [
       "**Excerpt from Lock-Stock-and-Two-Smoking-Barrels.txt:**\n",
       "\n",
       "Harry, that boy doesn't know his arsehole from his ear-hole, or you\n",
       "\n",
       "from a hoodwink. This bar is mine, and he has nothing to do with it.\n",
       "\n",
       "HATCHET\n",
       "\n",
       "What, and I care? Remember, you do have the luxurious advantage of\n",
       "\n",
       "being able to sustain your son's life.\n",
       "\n",
       "JD\n",
       "\n",
       "And you do have a reputation, so I'll choose my words carefully. But\n",
       "\n",
       "not to put too fine a point on it, fuck yourself, Harry!\n",
       "\n",
       "Barry pulls a kind of mock-scared face and clutches his heart.\n",
       "\n",
       "80"
      ],
      "text/plain": [
       "<IPython.core.display.Markdown object>"
      ]
     },
     "execution_count": 9,
     "metadata": {},
     "output_type": "execute_result"
    }
   ],
   "source": [
    "sample = np.random.choice(fnames)\n",
    "\n",
    "with open(os.path.join(imsdb_dir, sample), 'r') as f:\n",
    "    lines = f.readlines()\n",
    "    lines = [x.strip() for x in lines if len(x.strip()) > 0]\n",
    "\n",
    "    # choose a 10 line snippet at random\n",
    "    start = np.random.randint(0, len(lines) - 10)\n",
    "    snippet = lines[start:start+10]\n",
    "\n",
    "Markdown(f'**Excerpt from {sample}:**\\n\\n' + '\\n\\n'.join(snippet))"
   ]
  },
  {
   "cell_type": "code",
   "execution_count": 70,
   "metadata": {},
   "outputs": [],
   "source": [
    "# chatGPT's solution (after some tweaking)!\n",
    "\n",
    "def count_tenses_in_files(filepaths):\n",
    "    df = pd.DataFrame(columns=['filename', 'past_tense', 'future_tense'])\n",
    "\n",
    "    for filepath in filepaths:\n",
    "        with open(filepath, 'r', encoding='utf-8') as f:\n",
    "            text = f.read()\n",
    "\n",
    "        sentences = sent_tokenize(text)\n",
    "\n",
    "        past_count = 0\n",
    "        future_count = 0\n",
    "\n",
    "        for sentence in sentences:\n",
    "            # Expand contractions for better matching\n",
    "            sentence = re.sub(r\"won't\", \"will not\", sentence)\n",
    "            sentence = re.sub(r\"can't\", \"cannot\", sentence)\n",
    "            sentence = re.sub(r\"i'm\", \"i am\", sentence)\n",
    "            sentence = re.sub(r\"ain't\", \"is not\", sentence)\n",
    "            sentence = re.sub(r\"(\\w+)'ll\", \"\\\\1 will\", sentence)\n",
    "            sentence = re.sub(r\"(\\w+)n't\", \"\\\\1 not\", sentence)\n",
    "            sentence = re.sub(r\"(\\w+)'ve\", \"\\\\1 have\", sentence)\n",
    "            sentence = re.sub(r\"(\\w+)'s\", \"\\\\1 is\", sentence)\n",
    "            sentence = re.sub(r\"(\\w+)'re\", \"\\\\1 are\", sentence)\n",
    "\n",
    "            # Check for future tense patterns\n",
    "            if re.search(r'\\bwill\\b|\\bshall\\b|\\bam going to\\b|\\bwill have\\b|\\bshall have\\b|\\bwill be\\b|\\bshall be\\b|\\b(is|are) going to\\b|\\b(is|are|am) about to\\b|\\b(is|are|am) planning to\\b|\\b(is|are|am) looking forward to\\b', sentence, re.IGNORECASE):\n",
    "                future_count += 1\n",
    "\n",
    "            # Check for past tense patterns\n",
    "            if re.search(r'\\bwas\\b|\\bwere\\b|\\bhad\\b|\\bdid\\b|\\bhad been\\b|\\bwas going to\\b|\\bwere going to\\b|\\bwas supposed to\\b|\\bwere supposed to\\b|\\bwould have\\b|\\bshould have\\b|\\bcould have\\b|\\bmight have\\b|\\bwas planning to\\b|\\bwere planning to\\b|\\bwas looking forward to\\b|\\bwere looking forward to\\b', sentence, re.IGNORECASE):\n",
    "                past_count += 1\n",
    "\n",
    "        df = df.append({'filename': filepath, 'past_tense': past_count, 'future_tense': future_count}, ignore_index=True)\n",
    "\n",
    "    return df"
   ]
  },
  {
   "cell_type": "code",
   "execution_count": 10,
   "metadata": {},
   "outputs": [],
   "source": [
    "def add_dict(d1, d2):\n",
    "  for k in d2:\n",
    "    if k in d1:\n",
    "      d1[k] += d2[k]\n",
    "    else:\n",
    "      d1[k] = d2[k]\n",
    "  return d1"
   ]
  },
  {
   "cell_type": "markdown",
   "metadata": {},
   "source": [
    "Test run: validate against The Chair (Season 1, Episodes 1--6)"
   ]
  },
  {
   "cell_type": "code",
   "execution_count": 11,
   "metadata": {},
   "outputs": [],
   "source": [
    "demo_fname = lambda n: str(Path.cwd().parent.joinpath('data').joinpath('the_chair_s1e' + str(n) + '_transcript.txt'))\n",
    "ref_fname = str(Path.cwd().parent.joinpath('data').joinpath('the_chair_manual_reference_counts.csv'))\n",
    "\n",
    "def get_demo_tenses(fname):\n",
    "    text = open(fname, 'r').read()\n",
    "    tenses = pd.DataFrame.from_dict(tag_document(text), orient='index', columns=['count']).reset_index().rename(columns={'index': 'tense'})\n",
    "\n",
    "    mapping = {'present indefinite': 'Present',\n",
    "            'past indefinite': 'Past',\n",
    "            'conditional indefinite': 'Future',\n",
    "            'infinitive': 'Present'}\n",
    "\n",
    "    tenses['index'] = tenses['tense'].apply(lambda x: mapping[x] if x in mapping else x)\n",
    "    \n",
    "    # drop present tense\n",
    "    tenses = tenses.groupby('index').sum().reset_index().sort_values('count', ascending=False).set_index('index').loc[['Past', 'Future']]\n",
    "    tenses['proportion'] = tenses['count'] / tenses['count'].sum()\n",
    "\n",
    "    return tenses.drop('tense', axis=1).reset_index().rename(columns={'index': 'tense'})"
   ]
  },
  {
   "cell_type": "code",
   "execution_count": 12,
   "metadata": {},
   "outputs": [
    {
     "data": {
      "text/html": [
       "<div>\n",
       "<style scoped>\n",
       "    .dataframe tbody tr th:only-of-type {\n",
       "        vertical-align: middle;\n",
       "    }\n",
       "\n",
       "    .dataframe tbody tr th {\n",
       "        vertical-align: top;\n",
       "    }\n",
       "\n",
       "    .dataframe thead th {\n",
       "        text-align: right;\n",
       "    }\n",
       "</style>\n",
       "<table border=\"1\" class=\"dataframe\">\n",
       "  <thead>\n",
       "    <tr style=\"text-align: right;\">\n",
       "      <th></th>\n",
       "      <th>Episode</th>\n",
       "      <th>tense</th>\n",
       "      <th>proportion</th>\n",
       "    </tr>\n",
       "  </thead>\n",
       "  <tbody>\n",
       "    <tr>\n",
       "      <th>0</th>\n",
       "      <td>1</td>\n",
       "      <td>Past</td>\n",
       "      <td>0.769231</td>\n",
       "    </tr>\n",
       "    <tr>\n",
       "      <th>6</th>\n",
       "      <td>1</td>\n",
       "      <td>Future</td>\n",
       "      <td>0.230769</td>\n",
       "    </tr>\n",
       "    <tr>\n",
       "      <th>1</th>\n",
       "      <td>2</td>\n",
       "      <td>Past</td>\n",
       "      <td>0.681818</td>\n",
       "    </tr>\n",
       "    <tr>\n",
       "      <th>7</th>\n",
       "      <td>2</td>\n",
       "      <td>Future</td>\n",
       "      <td>0.318182</td>\n",
       "    </tr>\n",
       "    <tr>\n",
       "      <th>2</th>\n",
       "      <td>3</td>\n",
       "      <td>Past</td>\n",
       "      <td>0.565789</td>\n",
       "    </tr>\n",
       "    <tr>\n",
       "      <th>8</th>\n",
       "      <td>3</td>\n",
       "      <td>Future</td>\n",
       "      <td>0.434211</td>\n",
       "    </tr>\n",
       "    <tr>\n",
       "      <th>3</th>\n",
       "      <td>4</td>\n",
       "      <td>Past</td>\n",
       "      <td>0.596154</td>\n",
       "    </tr>\n",
       "    <tr>\n",
       "      <th>9</th>\n",
       "      <td>4</td>\n",
       "      <td>Future</td>\n",
       "      <td>0.403846</td>\n",
       "    </tr>\n",
       "    <tr>\n",
       "      <th>4</th>\n",
       "      <td>5</td>\n",
       "      <td>Past</td>\n",
       "      <td>0.765957</td>\n",
       "    </tr>\n",
       "    <tr>\n",
       "      <th>10</th>\n",
       "      <td>5</td>\n",
       "      <td>Future</td>\n",
       "      <td>0.234043</td>\n",
       "    </tr>\n",
       "    <tr>\n",
       "      <th>5</th>\n",
       "      <td>6</td>\n",
       "      <td>Past</td>\n",
       "      <td>0.692308</td>\n",
       "    </tr>\n",
       "    <tr>\n",
       "      <th>11</th>\n",
       "      <td>6</td>\n",
       "      <td>Future</td>\n",
       "      <td>0.307692</td>\n",
       "    </tr>\n",
       "  </tbody>\n",
       "</table>\n",
       "</div>"
      ],
      "text/plain": [
       "    Episode   tense  proportion\n",
       "0         1    Past    0.769231\n",
       "6         1  Future    0.230769\n",
       "1         2    Past    0.681818\n",
       "7         2  Future    0.318182\n",
       "2         3    Past    0.565789\n",
       "8         3  Future    0.434211\n",
       "3         4    Past    0.596154\n",
       "9         4  Future    0.403846\n",
       "4         5    Past    0.765957\n",
       "10        5  Future    0.234043\n",
       "5         6    Past    0.692308\n",
       "11        6  Future    0.307692"
      ]
     },
     "execution_count": 12,
     "metadata": {},
     "output_type": "execute_result"
    }
   ],
   "source": [
    "# fill in proportions for manual reference counts\n",
    "manual = pd.read_csv(ref_fname)\n",
    "manual['Total'] = manual['Past'] + manual['Future']\n",
    "\n",
    "# convert to proportions\n",
    "manual['Past'] = manual['Past'] / manual['Total']\n",
    "manual['Future'] = manual['Future'] / manual['Total']\n",
    "\n",
    "manual.reset_index(inplace=True)\n",
    "manual['Episode'] = manual['index'] + 1\n",
    "manual.drop(['index', 'Total'], axis=1, inplace=True)\n",
    "\n",
    "manual = manual.melt(var_name='tense', value_name='proportion', id_vars=['Episode'])\n",
    "manual.sort_values(['Episode'], inplace=True)\n",
    "manual\n"
   ]
  },
  {
   "cell_type": "code",
   "execution_count": 13,
   "metadata": {},
   "outputs": [
    {
     "name": "stdout",
     "output_type": "stream",
     "text": [
      "\n"
     ]
    },
    {
     "ename": "OSError",
     "evalue": "Java command failed : ['/Users/jmanning/opt/anaconda3/envs/prediction-retrodiction/bin/java', '-mx1000m', '-cp', '/Users/jmanning/prediction-retrodiction-paper/data/stanford-postagger.jar', 'edu.stanford.nlp.tagger.maxent.MaxentTagger', '-model', '/Users/jmanning/prediction-retrodiction-paper/data/english-bidirectional-distsim.tagger', '-textFile', '/var/folders/tp/qtzc39jx5w556wl5w3dj21wr0000gn/T/tmppp4qbrsh', '-tokenize', 'false', '-outputFormatOptions', 'keepEmptySentences', '-encoding', 'utf8']",
     "output_type": "error",
     "traceback": [
      "\u001b[0;31m---------------------------------------------------------------------------\u001b[0m",
      "\u001b[0;31mOSError\u001b[0m                                   Traceback (most recent call last)",
      "\u001b[1;32m/Users/jmanning/prediction-retrodiction-paper/code/meta-analysis.ipynb Cell 20\u001b[0m in \u001b[0;36m<cell line: 2>\u001b[0;34m()\u001b[0m\n\u001b[1;32m      <a href='vscode-notebook-cell:/Users/jmanning/prediction-retrodiction-paper/code/meta-analysis.ipynb#X43sZmlsZQ%3D%3D?line=0'>1</a>\u001b[0m episodes \u001b[39m=\u001b[39m np\u001b[39m.\u001b[39marange(\u001b[39m1\u001b[39m, \u001b[39m7\u001b[39m, dtype\u001b[39m=\u001b[39m\u001b[39mint\u001b[39m)\n\u001b[0;32m----> <a href='vscode-notebook-cell:/Users/jmanning/prediction-retrodiction-paper/code/meta-analysis.ipynb#X43sZmlsZQ%3D%3D?line=1'>2</a>\u001b[0m tenses \u001b[39m=\u001b[39m [get_demo_tenses(demo_fname(n)) \u001b[39mfor\u001b[39;00m n \u001b[39min\u001b[39;00m episodes]\n\u001b[1;32m      <a href='vscode-notebook-cell:/Users/jmanning/prediction-retrodiction-paper/code/meta-analysis.ipynb#X43sZmlsZQ%3D%3D?line=3'>4</a>\u001b[0m \u001b[39m# add episode labels\u001b[39;00m\n\u001b[1;32m      <a href='vscode-notebook-cell:/Users/jmanning/prediction-retrodiction-paper/code/meta-analysis.ipynb#X43sZmlsZQ%3D%3D?line=4'>5</a>\u001b[0m \u001b[39mfor\u001b[39;00m i, t \u001b[39min\u001b[39;00m \u001b[39menumerate\u001b[39m(tenses):\n",
      "\u001b[1;32m/Users/jmanning/prediction-retrodiction-paper/code/meta-analysis.ipynb Cell 20\u001b[0m in \u001b[0;36m<listcomp>\u001b[0;34m(.0)\u001b[0m\n\u001b[1;32m      <a href='vscode-notebook-cell:/Users/jmanning/prediction-retrodiction-paper/code/meta-analysis.ipynb#X43sZmlsZQ%3D%3D?line=0'>1</a>\u001b[0m episodes \u001b[39m=\u001b[39m np\u001b[39m.\u001b[39marange(\u001b[39m1\u001b[39m, \u001b[39m7\u001b[39m, dtype\u001b[39m=\u001b[39m\u001b[39mint\u001b[39m)\n\u001b[0;32m----> <a href='vscode-notebook-cell:/Users/jmanning/prediction-retrodiction-paper/code/meta-analysis.ipynb#X43sZmlsZQ%3D%3D?line=1'>2</a>\u001b[0m tenses \u001b[39m=\u001b[39m [get_demo_tenses(demo_fname(n)) \u001b[39mfor\u001b[39;00m n \u001b[39min\u001b[39;00m episodes]\n\u001b[1;32m      <a href='vscode-notebook-cell:/Users/jmanning/prediction-retrodiction-paper/code/meta-analysis.ipynb#X43sZmlsZQ%3D%3D?line=3'>4</a>\u001b[0m \u001b[39m# add episode labels\u001b[39;00m\n\u001b[1;32m      <a href='vscode-notebook-cell:/Users/jmanning/prediction-retrodiction-paper/code/meta-analysis.ipynb#X43sZmlsZQ%3D%3D?line=4'>5</a>\u001b[0m \u001b[39mfor\u001b[39;00m i, t \u001b[39min\u001b[39;00m \u001b[39menumerate\u001b[39m(tenses):\n",
      "\u001b[1;32m/Users/jmanning/prediction-retrodiction-paper/code/meta-analysis.ipynb Cell 20\u001b[0m in \u001b[0;36mget_demo_tenses\u001b[0;34m(fname)\u001b[0m\n\u001b[1;32m      <a href='vscode-notebook-cell:/Users/jmanning/prediction-retrodiction-paper/code/meta-analysis.ipynb#X43sZmlsZQ%3D%3D?line=3'>4</a>\u001b[0m \u001b[39mdef\u001b[39;00m \u001b[39mget_demo_tenses\u001b[39m(fname):\n\u001b[1;32m      <a href='vscode-notebook-cell:/Users/jmanning/prediction-retrodiction-paper/code/meta-analysis.ipynb#X43sZmlsZQ%3D%3D?line=4'>5</a>\u001b[0m     text \u001b[39m=\u001b[39m \u001b[39mopen\u001b[39m(fname, \u001b[39m'\u001b[39m\u001b[39mr\u001b[39m\u001b[39m'\u001b[39m)\u001b[39m.\u001b[39mread()\n\u001b[0;32m----> <a href='vscode-notebook-cell:/Users/jmanning/prediction-retrodiction-paper/code/meta-analysis.ipynb#X43sZmlsZQ%3D%3D?line=5'>6</a>\u001b[0m     tenses \u001b[39m=\u001b[39m pd\u001b[39m.\u001b[39mDataFrame\u001b[39m.\u001b[39mfrom_dict(tag_document(text), orient\u001b[39m=\u001b[39m\u001b[39m'\u001b[39m\u001b[39mindex\u001b[39m\u001b[39m'\u001b[39m, columns\u001b[39m=\u001b[39m[\u001b[39m'\u001b[39m\u001b[39mcount\u001b[39m\u001b[39m'\u001b[39m])\u001b[39m.\u001b[39mreset_index()\u001b[39m.\u001b[39mrename(columns\u001b[39m=\u001b[39m{\u001b[39m'\u001b[39m\u001b[39mindex\u001b[39m\u001b[39m'\u001b[39m: \u001b[39m'\u001b[39m\u001b[39mtense\u001b[39m\u001b[39m'\u001b[39m})\n\u001b[1;32m      <a href='vscode-notebook-cell:/Users/jmanning/prediction-retrodiction-paper/code/meta-analysis.ipynb#X43sZmlsZQ%3D%3D?line=7'>8</a>\u001b[0m     mapping \u001b[39m=\u001b[39m {\u001b[39m'\u001b[39m\u001b[39mpresent indefinite\u001b[39m\u001b[39m'\u001b[39m: \u001b[39m'\u001b[39m\u001b[39mPresent\u001b[39m\u001b[39m'\u001b[39m,\n\u001b[1;32m      <a href='vscode-notebook-cell:/Users/jmanning/prediction-retrodiction-paper/code/meta-analysis.ipynb#X43sZmlsZQ%3D%3D?line=8'>9</a>\u001b[0m             \u001b[39m'\u001b[39m\u001b[39mpast indefinite\u001b[39m\u001b[39m'\u001b[39m: \u001b[39m'\u001b[39m\u001b[39mPast\u001b[39m\u001b[39m'\u001b[39m,\n\u001b[1;32m     <a href='vscode-notebook-cell:/Users/jmanning/prediction-retrodiction-paper/code/meta-analysis.ipynb#X43sZmlsZQ%3D%3D?line=9'>10</a>\u001b[0m             \u001b[39m'\u001b[39m\u001b[39mconditional indefinite\u001b[39m\u001b[39m'\u001b[39m: \u001b[39m'\u001b[39m\u001b[39mFuture\u001b[39m\u001b[39m'\u001b[39m,\n\u001b[1;32m     <a href='vscode-notebook-cell:/Users/jmanning/prediction-retrodiction-paper/code/meta-analysis.ipynb#X43sZmlsZQ%3D%3D?line=10'>11</a>\u001b[0m             \u001b[39m'\u001b[39m\u001b[39minfinitive\u001b[39m\u001b[39m'\u001b[39m: \u001b[39m'\u001b[39m\u001b[39mPresent\u001b[39m\u001b[39m'\u001b[39m}\n\u001b[1;32m     <a href='vscode-notebook-cell:/Users/jmanning/prediction-retrodiction-paper/code/meta-analysis.ipynb#X43sZmlsZQ%3D%3D?line=12'>13</a>\u001b[0m     tenses[\u001b[39m'\u001b[39m\u001b[39mindex\u001b[39m\u001b[39m'\u001b[39m] \u001b[39m=\u001b[39m tenses[\u001b[39m'\u001b[39m\u001b[39mtense\u001b[39m\u001b[39m'\u001b[39m]\u001b[39m.\u001b[39mapply(\u001b[39mlambda\u001b[39;00m x: mapping[x] \u001b[39mif\u001b[39;00m x \u001b[39min\u001b[39;00m mapping \u001b[39melse\u001b[39;00m x)\n",
      "\u001b[1;32m/Users/jmanning/prediction-retrodiction-paper/code/meta-analysis.ipynb Cell 20\u001b[0m in \u001b[0;36mtag_document\u001b[0;34m(x)\u001b[0m\n\u001b[1;32m      <a href='vscode-notebook-cell:/Users/jmanning/prediction-retrodiction-paper/code/meta-analysis.ipynb#X43sZmlsZQ%3D%3D?line=2'>3</a>\u001b[0m \u001b[39mfor\u001b[39;00m s \u001b[39min\u001b[39;00m tokenize\u001b[39m.\u001b[39msent_tokenize(x):\n\u001b[1;32m      <a href='vscode-notebook-cell:/Users/jmanning/prediction-retrodiction-paper/code/meta-analysis.ipynb#X43sZmlsZQ%3D%3D?line=3'>4</a>\u001b[0m   \u001b[39mif\u001b[39;00m \u001b[39mlen\u001b[39m(s) \u001b[39m>\u001b[39m \u001b[39m0\u001b[39m:\n\u001b[0;32m----> <a href='vscode-notebook-cell:/Users/jmanning/prediction-retrodiction-paper/code/meta-analysis.ipynb#X43sZmlsZQ%3D%3D?line=4'>5</a>\u001b[0m     \u001b[39mfor\u001b[39;00m t \u001b[39min\u001b[39;00m sentence_tense(s):\n\u001b[1;32m      <a href='vscode-notebook-cell:/Users/jmanning/prediction-retrodiction-paper/code/meta-analysis.ipynb#X43sZmlsZQ%3D%3D?line=5'>6</a>\u001b[0m       counts[t] \u001b[39m=\u001b[39m counts\u001b[39m.\u001b[39mget(t, \u001b[39m0\u001b[39m) \u001b[39m+\u001b[39m \u001b[39m1\u001b[39m\n\u001b[1;32m      <a href='vscode-notebook-cell:/Users/jmanning/prediction-retrodiction-paper/code/meta-analysis.ipynb#X43sZmlsZQ%3D%3D?line=6'>7</a>\u001b[0m   \u001b[39melse\u001b[39;00m:\n",
      "\u001b[1;32m/Users/jmanning/prediction-retrodiction-paper/code/meta-analysis.ipynb Cell 20\u001b[0m in \u001b[0;36msentence_tense\u001b[0;34m(x)\u001b[0m\n\u001b[1;32m     <a href='vscode-notebook-cell:/Users/jmanning/prediction-retrodiction-paper/code/meta-analysis.ipynb#X43sZmlsZQ%3D%3D?line=70'>71</a>\u001b[0m   \u001b[39mreturn\u001b[39;00m tenses_set\n\u001b[1;32m     <a href='vscode-notebook-cell:/Users/jmanning/prediction-retrodiction-paper/code/meta-analysis.ipynb#X43sZmlsZQ%3D%3D?line=72'>73</a>\u001b[0m text \u001b[39m=\u001b[39m word_tokenize(x)\n\u001b[0;32m---> <a href='vscode-notebook-cell:/Users/jmanning/prediction-retrodiction-paper/code/meta-analysis.ipynb#X43sZmlsZQ%3D%3D?line=73'>74</a>\u001b[0m tagged \u001b[39m=\u001b[39m stanford_tagger\u001b[39m.\u001b[39;49mtag(x)\n\u001b[1;32m     <a href='vscode-notebook-cell:/Users/jmanning/prediction-retrodiction-paper/code/meta-analysis.ipynb#X43sZmlsZQ%3D%3D?line=74'>75</a>\u001b[0m \u001b[39mreturn\u001b[39;00m tense_detect(tagged)\n",
      "File \u001b[0;32m~/opt/anaconda3/envs/prediction-retrodiction/lib/python3.10/site-packages/nltk/tag/stanford.py:90\u001b[0m, in \u001b[0;36mStanfordTagger.tag\u001b[0;34m(self, tokens)\u001b[0m\n\u001b[1;32m     88\u001b[0m \u001b[39mdef\u001b[39;00m \u001b[39mtag\u001b[39m(\u001b[39mself\u001b[39m, tokens):\n\u001b[1;32m     89\u001b[0m     \u001b[39m# This function should return list of tuple rather than list of list\u001b[39;00m\n\u001b[0;32m---> 90\u001b[0m     \u001b[39mreturn\u001b[39;00m \u001b[39msum\u001b[39m(\u001b[39mself\u001b[39;49m\u001b[39m.\u001b[39;49mtag_sents([tokens]), [])\n",
      "File \u001b[0;32m~/opt/anaconda3/envs/prediction-retrodiction/lib/python3.10/site-packages/nltk/tag/stanford.py:112\u001b[0m, in \u001b[0;36mStanfordTagger.tag_sents\u001b[0;34m(self, sentences)\u001b[0m\n\u001b[1;32m    109\u001b[0m _input_fh\u001b[39m.\u001b[39mclose()\n\u001b[1;32m    111\u001b[0m \u001b[39m# Run the tagger and get the output\u001b[39;00m\n\u001b[0;32m--> 112\u001b[0m stanpos_output, _stderr \u001b[39m=\u001b[39m java(\n\u001b[1;32m    113\u001b[0m     cmd, classpath\u001b[39m=\u001b[39;49m\u001b[39mself\u001b[39;49m\u001b[39m.\u001b[39;49m_stanford_jar, stdout\u001b[39m=\u001b[39;49mPIPE, stderr\u001b[39m=\u001b[39;49mPIPE\n\u001b[1;32m    114\u001b[0m )\n\u001b[1;32m    115\u001b[0m stanpos_output \u001b[39m=\u001b[39m stanpos_output\u001b[39m.\u001b[39mdecode(encoding)\n\u001b[1;32m    117\u001b[0m \u001b[39m# Delete the temporary file\u001b[39;00m\n",
      "File \u001b[0;32m~/opt/anaconda3/envs/prediction-retrodiction/lib/python3.10/site-packages/nltk/internals.py:146\u001b[0m, in \u001b[0;36mjava\u001b[0;34m(cmd, classpath, stdin, stdout, stderr, blocking)\u001b[0m\n\u001b[1;32m    144\u001b[0m \u001b[39mif\u001b[39;00m p\u001b[39m.\u001b[39mreturncode \u001b[39m!=\u001b[39m \u001b[39m0\u001b[39m:\n\u001b[1;32m    145\u001b[0m     \u001b[39mprint\u001b[39m(_decode_stdoutdata(stderr))\n\u001b[0;32m--> 146\u001b[0m     \u001b[39mraise\u001b[39;00m \u001b[39mOSError\u001b[39;00m(\u001b[39m\"\u001b[39m\u001b[39mJava command failed : \u001b[39m\u001b[39m\"\u001b[39m \u001b[39m+\u001b[39m \u001b[39mstr\u001b[39m(cmd))\n\u001b[1;32m    148\u001b[0m \u001b[39mreturn\u001b[39;00m (stdout, stderr)\n",
      "\u001b[0;31mOSError\u001b[0m: Java command failed : ['/Users/jmanning/opt/anaconda3/envs/prediction-retrodiction/bin/java', '-mx1000m', '-cp', '/Users/jmanning/prediction-retrodiction-paper/data/stanford-postagger.jar', 'edu.stanford.nlp.tagger.maxent.MaxentTagger', '-model', '/Users/jmanning/prediction-retrodiction-paper/data/english-bidirectional-distsim.tagger', '-textFile', '/var/folders/tp/qtzc39jx5w556wl5w3dj21wr0000gn/T/tmppp4qbrsh', '-tokenize', 'false', '-outputFormatOptions', 'keepEmptySentences', '-encoding', 'utf8']"
     ]
    }
   ],
   "source": [
    "episodes = np.arange(1, 7, dtype=int)\n",
    "tenses = [get_demo_tenses(demo_fname(n)) for n in episodes]\n",
    "\n",
    "# add episode labels\n",
    "for i, t in enumerate(tenses):\n",
    "    t['episode'] = episodes[i]\n",
    "\n",
    "# combine into one dataframe\n",
    "tenses = pd.concat(tenses, ignore_index=True)\n",
    "\n",
    "sns.barplot(tenses, x='tense', y='proportion', hue='episode', palette='viridis')\n",
    "plt.xlabel('Tense', fontsize=14)\n",
    "plt.ylabel('Proportion of references', fontsize=14)\n",
    "plt.legend(title='Episode', loc='upper right')\n",
    "sns.despine(top=True, right=True)\n",
    "\n",
    "ax = plt.gca()\n",
    "\n",
    "# add manual reference counts as dotted lines\n",
    "for i, p in enumerate(ax.patches):\n",
    "    x = [p.get_x(), p.get_x() + p.get_width()]  # X-coordinate of the center of the bar\n",
    "    y = manual.iloc[i]['proportion']\n",
    "    ax.plot(x, [y, y], linestyle='dotted', linewidth=2, color='black')"
   ]
  },
  {
   "cell_type": "code",
   "execution_count": 18,
   "metadata": {},
   "outputs": [
    {
     "name": "stdout",
     "output_type": "stream",
     "text": [
      "/Users/jmanning/opt/anaconda3/envs/prediction-retrodiction/bin/java\n"
     ]
    },
    {
     "data": {
      "text/plain": [
       "0"
      ]
     },
     "execution_count": 18,
     "metadata": {},
     "output_type": "execute_result"
    }
   ],
   "source": [
    "os.system('which java')"
   ]
  },
  {
   "cell_type": "code",
   "execution_count": 201,
   "metadata": {},
   "outputs": [
    {
     "name": "stdout",
     "output_type": "stream",
     "text": [
      "\n"
     ]
    },
    {
     "ename": "OSError",
     "evalue": "Java command failed : ['/Users/jmanning/opt/anaconda3/envs/prediction-retrodiction/bin/java', '-mx1000m', '-cp', '/Users/jmanning/prediction-retrodiction-paper/data/stanford-postagger.jar', 'edu.stanford.nlp.tagger.maxent.MaxentTagger', '-model', '/Users/jmanning/prediction-retrodiction-paper/data/english-bidirectional-distsim.tagger', '-textFile', '/var/folders/tp/qtzc39jx5w556wl5w3dj21wr0000gn/T/tmpnv4bm30d', '-tokenize', 'false', '-outputFormatOptions', 'keepEmptySentences', '-encoding', 'utf8']",
     "output_type": "error",
     "traceback": [
      "\u001b[0;31m---------------------------------------------------------------------------\u001b[0m",
      "\u001b[0;31mOSError\u001b[0m                                   Traceback (most recent call last)",
      "\u001b[1;32m/Users/jmanning/prediction-retrodiction-paper/code/meta-analysis.ipynb Cell 22\u001b[0m in \u001b[0;36m<cell line: 1>\u001b[0;34m()\u001b[0m\n\u001b[0;32m----> <a href='vscode-notebook-cell:/Users/jmanning/prediction-retrodiction-paper/code/meta-analysis.ipynb#X53sZmlsZQ%3D%3D?line=0'>1</a>\u001b[0m stanford_tagger\u001b[39m.\u001b[39;49mtag(\u001b[39m'\u001b[39;49m\u001b[39mThis is a test\u001b[39;49m\u001b[39m'\u001b[39;49m\u001b[39m.\u001b[39;49msplit())\n",
      "File \u001b[0;32m~/opt/anaconda3/envs/prediction-retrodiction/lib/python3.10/site-packages/nltk/tag/stanford.py:90\u001b[0m, in \u001b[0;36mStanfordTagger.tag\u001b[0;34m(self, tokens)\u001b[0m\n\u001b[1;32m     88\u001b[0m \u001b[39mdef\u001b[39;00m \u001b[39mtag\u001b[39m(\u001b[39mself\u001b[39m, tokens):\n\u001b[1;32m     89\u001b[0m     \u001b[39m# This function should return list of tuple rather than list of list\u001b[39;00m\n\u001b[0;32m---> 90\u001b[0m     \u001b[39mreturn\u001b[39;00m \u001b[39msum\u001b[39m(\u001b[39mself\u001b[39;49m\u001b[39m.\u001b[39;49mtag_sents([tokens]), [])\n",
      "File \u001b[0;32m~/opt/anaconda3/envs/prediction-retrodiction/lib/python3.10/site-packages/nltk/tag/stanford.py:112\u001b[0m, in \u001b[0;36mStanfordTagger.tag_sents\u001b[0;34m(self, sentences)\u001b[0m\n\u001b[1;32m    109\u001b[0m _input_fh\u001b[39m.\u001b[39mclose()\n\u001b[1;32m    111\u001b[0m \u001b[39m# Run the tagger and get the output\u001b[39;00m\n\u001b[0;32m--> 112\u001b[0m stanpos_output, _stderr \u001b[39m=\u001b[39m java(\n\u001b[1;32m    113\u001b[0m     cmd, classpath\u001b[39m=\u001b[39;49m\u001b[39mself\u001b[39;49m\u001b[39m.\u001b[39;49m_stanford_jar, stdout\u001b[39m=\u001b[39;49mPIPE, stderr\u001b[39m=\u001b[39;49mPIPE\n\u001b[1;32m    114\u001b[0m )\n\u001b[1;32m    115\u001b[0m stanpos_output \u001b[39m=\u001b[39m stanpos_output\u001b[39m.\u001b[39mdecode(encoding)\n\u001b[1;32m    117\u001b[0m \u001b[39m# Delete the temporary file\u001b[39;00m\n",
      "File \u001b[0;32m~/opt/anaconda3/envs/prediction-retrodiction/lib/python3.10/site-packages/nltk/internals.py:146\u001b[0m, in \u001b[0;36mjava\u001b[0;34m(cmd, classpath, stdin, stdout, stderr, blocking)\u001b[0m\n\u001b[1;32m    144\u001b[0m \u001b[39mif\u001b[39;00m p\u001b[39m.\u001b[39mreturncode \u001b[39m!=\u001b[39m \u001b[39m0\u001b[39m:\n\u001b[1;32m    145\u001b[0m     \u001b[39mprint\u001b[39m(_decode_stdoutdata(stderr))\n\u001b[0;32m--> 146\u001b[0m     \u001b[39mraise\u001b[39;00m \u001b[39mOSError\u001b[39;00m(\u001b[39m\"\u001b[39m\u001b[39mJava command failed : \u001b[39m\u001b[39m\"\u001b[39m \u001b[39m+\u001b[39m \u001b[39mstr\u001b[39m(cmd))\n\u001b[1;32m    148\u001b[0m \u001b[39mreturn\u001b[39;00m (stdout, stderr)\n",
      "\u001b[0;31mOSError\u001b[0m: Java command failed : ['/Users/jmanning/opt/anaconda3/envs/prediction-retrodiction/bin/java', '-mx1000m', '-cp', '/Users/jmanning/prediction-retrodiction-paper/data/stanford-postagger.jar', 'edu.stanford.nlp.tagger.maxent.MaxentTagger', '-model', '/Users/jmanning/prediction-retrodiction-paper/data/english-bidirectional-distsim.tagger', '-textFile', '/var/folders/tp/qtzc39jx5w556wl5w3dj21wr0000gn/T/tmpnv4bm30d', '-tokenize', 'false', '-outputFormatOptions', 'keepEmptySentences', '-encoding', 'utf8']"
     ]
    }
   ],
   "source": [
    "stanford_tagger.tag('This is a test'.split())"
   ]
  },
  {
   "cell_type": "code",
   "execution_count": 10,
   "metadata": {},
   "outputs": [
    {
     "name": "stderr",
     "output_type": "stream",
     "text": [
      "100%|██████████| 1127/1127 [5:02:25<00:00, 16.10s/it]   \n"
     ]
    }
   ],
   "source": [
    "all_tenses = []\n",
    "for f in tqdm(fnames):\n",
    "  tenses = {}\n",
    "  dialogue = get_dialogue(os.path.join(imsdb_dir, f))\n",
    "\n",
    "  if dialogue is None:\n",
    "    continue\n",
    "\n",
    "  for d in dialogue['Character_dialogue'].values:\n",
    "    d = d.strip()\n",
    "    if len(d) > 0:\n",
    "      tenses = add_dict(tenses, tag_document(d))\n",
    "  \n",
    "  all_tenses.append((f[:-4], tenses))"
   ]
  },
  {
   "cell_type": "code",
   "execution_count": 11,
   "metadata": {},
   "outputs": [],
   "source": [
    "def tenses2df(all_tenses):\n",
    "    keys = set()\n",
    "    for t in all_tenses:\n",
    "        keys = keys.union(set(t[1].keys()))\n",
    "\n",
    "    df = pd.DataFrame(columns=list(keys), index=pd.Index([t[0] for t in all_tenses], name='Film'))\n",
    "    for m, t in all_tenses:\n",
    "        for k in t:\n",
    "            df.loc[m, k] = t[k]\n",
    "\n",
    "    df = df.fillna(0)\n",
    "    df['Total'] = df.sum(axis=1)\n",
    "\n",
    "    for k in keys:\n",
    "        df[k] = df[k] / df['Total']\n",
    "    df.drop('Total', axis=1, inplace=True)\n",
    "    return df.dropna(how='all', axis=0)"
   ]
  },
  {
   "cell_type": "code",
   "execution_count": 12,
   "metadata": {},
   "outputs": [
    {
     "data": {
      "text/html": [
       "<div>\n",
       "<style scoped>\n",
       "    .dataframe tbody tr th:only-of-type {\n",
       "        vertical-align: middle;\n",
       "    }\n",
       "\n",
       "    .dataframe tbody tr th {\n",
       "        vertical-align: top;\n",
       "    }\n",
       "\n",
       "    .dataframe thead th {\n",
       "        text-align: right;\n",
       "    }\n",
       "</style>\n",
       "<table border=\"1\" class=\"dataframe\">\n",
       "  <thead>\n",
       "    <tr style=\"text-align: right;\">\n",
       "      <th></th>\n",
       "      <th>conditional indefinite</th>\n",
       "      <th>present indefinite</th>\n",
       "      <th>past indefinite</th>\n",
       "      <th>infinitive</th>\n",
       "    </tr>\n",
       "    <tr>\n",
       "      <th>Film</th>\n",
       "      <th></th>\n",
       "      <th></th>\n",
       "      <th></th>\n",
       "      <th></th>\n",
       "    </tr>\n",
       "  </thead>\n",
       "  <tbody>\n",
       "    <tr>\n",
       "      <th>Midnight-Express</th>\n",
       "      <td>0.061722</td>\n",
       "      <td>0.542012</td>\n",
       "      <td>0.272303</td>\n",
       "      <td>0.123963</td>\n",
       "    </tr>\n",
       "    <tr>\n",
       "      <th>Big-Eyes</th>\n",
       "      <td>0.076048</td>\n",
       "      <td>0.555096</td>\n",
       "      <td>0.284532</td>\n",
       "      <td>0.084325</td>\n",
       "    </tr>\n",
       "    <tr>\n",
       "      <th>Warrior</th>\n",
       "      <td>0.069118</td>\n",
       "      <td>0.520588</td>\n",
       "      <td>0.272794</td>\n",
       "      <td>0.137500</td>\n",
       "    </tr>\n",
       "    <tr>\n",
       "      <th>Hellraiser-Hellseeker</th>\n",
       "      <td>0.088144</td>\n",
       "      <td>0.512725</td>\n",
       "      <td>0.278088</td>\n",
       "      <td>0.121043</td>\n",
       "    </tr>\n",
       "    <tr>\n",
       "      <th>Hannah-and-Her-Sisters</th>\n",
       "      <td>0.087430</td>\n",
       "      <td>0.511512</td>\n",
       "      <td>0.270068</td>\n",
       "      <td>0.130989</td>\n",
       "    </tr>\n",
       "    <tr>\n",
       "      <th>...</th>\n",
       "      <td>...</td>\n",
       "      <td>...</td>\n",
       "      <td>...</td>\n",
       "      <td>...</td>\n",
       "    </tr>\n",
       "    <tr>\n",
       "      <th>Smashed</th>\n",
       "      <td>0.125676</td>\n",
       "      <td>0.448649</td>\n",
       "      <td>0.283108</td>\n",
       "      <td>0.142568</td>\n",
       "    </tr>\n",
       "    <tr>\n",
       "      <th>Wild-Wild-West</th>\n",
       "      <td>0.093483</td>\n",
       "      <td>0.529380</td>\n",
       "      <td>0.240385</td>\n",
       "      <td>0.136752</td>\n",
       "    </tr>\n",
       "    <tr>\n",
       "      <th>Sessions-The</th>\n",
       "      <td>0.115983</td>\n",
       "      <td>0.505658</td>\n",
       "      <td>0.239745</td>\n",
       "      <td>0.138614</td>\n",
       "    </tr>\n",
       "    <tr>\n",
       "      <th>Silver-Linings-Playbook</th>\n",
       "      <td>0.107998</td>\n",
       "      <td>0.481406</td>\n",
       "      <td>0.280183</td>\n",
       "      <td>0.130413</td>\n",
       "    </tr>\n",
       "    <tr>\n",
       "      <th>Four-Rooms</th>\n",
       "      <td>0.090014</td>\n",
       "      <td>0.557900</td>\n",
       "      <td>0.218472</td>\n",
       "      <td>0.133615</td>\n",
       "    </tr>\n",
       "  </tbody>\n",
       "</table>\n",
       "<p>998 rows × 4 columns</p>\n",
       "</div>"
      ],
      "text/plain": [
       "                         conditional indefinite  present indefinite   \n",
       "Film                                                                  \n",
       "Midnight-Express                       0.061722            0.542012  \\\n",
       "Big-Eyes                               0.076048            0.555096   \n",
       "Warrior                                0.069118            0.520588   \n",
       "Hellraiser-Hellseeker                  0.088144            0.512725   \n",
       "Hannah-and-Her-Sisters                 0.087430            0.511512   \n",
       "...                                         ...                 ...   \n",
       "Smashed                                0.125676            0.448649   \n",
       "Wild-Wild-West                         0.093483            0.529380   \n",
       "Sessions-The                           0.115983            0.505658   \n",
       "Silver-Linings-Playbook                0.107998            0.481406   \n",
       "Four-Rooms                             0.090014            0.557900   \n",
       "\n",
       "                         past indefinite  infinitive  \n",
       "Film                                                  \n",
       "Midnight-Express                0.272303    0.123963  \n",
       "Big-Eyes                        0.284532    0.084325  \n",
       "Warrior                         0.272794    0.137500  \n",
       "Hellraiser-Hellseeker           0.278088    0.121043  \n",
       "Hannah-and-Her-Sisters          0.270068    0.130989  \n",
       "...                                  ...         ...  \n",
       "Smashed                         0.283108    0.142568  \n",
       "Wild-Wild-West                  0.240385    0.136752  \n",
       "Sessions-The                    0.239745    0.138614  \n",
       "Silver-Linings-Playbook         0.280183    0.130413  \n",
       "Four-Rooms                      0.218472    0.133615  \n",
       "\n",
       "[998 rows x 4 columns]"
      ]
     },
     "execution_count": 12,
     "metadata": {},
     "output_type": "execute_result"
    }
   ],
   "source": [
    "df = tenses2df(all_tenses)\n",
    "df"
   ]
  },
  {
   "cell_type": "code",
   "execution_count": 13,
   "metadata": {},
   "outputs": [
    {
     "data": {
      "text/plain": [
       "<Axes: xlabel='Proportion', ylabel='Tense'>"
      ]
     },
     "execution_count": 13,
     "metadata": {},
     "output_type": "execute_result"
    },
    {
     "data": {
      "image/png": "[encoded data removed]",
      "text/plain": [
       "<Figure size 432x288 with 1 Axes>"
      ]
     },
     "metadata": {
      "needs_background": "light"
     },
     "output_type": "display_data"
    }
   ],
   "source": [
    "sns.barplot(data=df.reset_index().melt(id_vars='Film', var_name='Tense', value_name='Proportion'), y='Tense', x='Proportion', orient='h')"
   ]
  }
 ],
 "metadata": {
  "kernelspec": {
   "display_name": "prediction-retrodiction",
   "language": "python",
   "name": "prediction-retrodiction"
  },
  "language_info": {
   "codemirror_mode": {
    "name": "ipython",
    "version": 3
   },
   "file_extension": ".py",
   "mimetype": "text/x-python",
   "name": "python",
   "nbconvert_exporter": "python",
   "pygments_lexer": "ipython3",
   "version": "3.10.11"
  },
  "orig_nbformat": 4
 },
 "nbformat": 4,
 "nbformat_minor": 2
}
