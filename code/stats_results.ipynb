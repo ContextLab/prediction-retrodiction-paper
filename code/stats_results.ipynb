{
 "cells": [
  {
   "cell_type": "code",
   "execution_count": 5,
   "metadata": {
    "vscode": {
     "languageId": "r"
    }
   },
   "outputs": [
    {
     "name": "stdout",
     "output_type": "stream",
     "text": [
      "\n",
      "The downloaded binary packages are in\n",
      "\t/var/folders/0g/q20l1c3x7lzg7f953lmgnqs00000gn/T//RtmpwDFP50/downloaded_packages\n"
     ]
    }
   ],
   "source": [
    "install.packages(c(\"tidyverse\", \"afex\", \"emmeans\", \"performance\", \"see\", \"patchwork\"))"
   ]
  },
  {
   "cell_type": "code",
   "execution_count": 25,
   "metadata": {
    "vscode": {
     "languageId": "r"
    }
   },
   "outputs": [
    {
     "name": "stderr",
     "output_type": "stream",
     "text": [
      "setting contr.sum globally: options(contrasts=c('contr.sum', 'contr.poly'))\n",
      "\n"
     ]
    }
   ],
   "source": [
    "library(\"tidyverse\")\n",
    "library('afex')\n",
    "library('emmeans')\n",
    "library(\"performance\")\n",
    "set_sum_contrasts()\n",
    "options(repr.matrix.max.rows=60, repr.matrix.max.cols=40)"
   ]
  },
  {
   "cell_type": "markdown",
   "metadata": {},
   "source": [
    "# figure 4"
   ]
  },
  {
   "cell_type": "markdown",
   "metadata": {},
   "source": [
    "## target event hit rate"
   ]
  },
  {
   "cell_type": "code",
   "execution_count": 2,
   "metadata": {
    "vscode": {
     "languageId": "r"
    }
   },
   "outputs": [],
   "source": [
    "pr_recall_hit_ac <- readRDS(\"../stats_models/main/pr_recall_hit_ac.rds\")\n",
    "p0r0_hit_ac <- readRDS(\"../stats_models/main/p0r0_hit_ac.rds\")\n",
    "cpr_hit_ac <- readRDS(\"../stats_models/main/cpr_hit_ac.rds\")\n",
    "recall_hit_ac <- readRDS(\"../stats_models/main/recall_hit_ac.rds\")"
   ]
  },
  {
   "cell_type": "code",
   "execution_count": 8,
   "metadata": {
    "vscode": {
     "languageId": "r"
    }
   },
   "outputs": [
    {
     "name": "stderr",
     "output_type": "stream",
     "text": [
      "NOTE: Results may be misleading due to involvement in interactions\n",
      "\n"
     ]
    },
    {
     "data": {
      "text/html": [
       "<dl>\n",
       "\t<dt>$emmeans</dt>\n",
       "\t\t<dd><table class=\"dataframe\">\n",
       "<caption>A summary_emm: 4 × 9</caption>\n",
       "<thead>\n",
       "\t<tr><th></th><th scope=col>cond_amount</th><th scope=col>prob</th><th scope=col>SE</th><th scope=col>df</th><th scope=col>asymp.LCL</th><th scope=col>asymp.UCL</th><th scope=col>null</th><th scope=col>z.ratio</th><th scope=col>p.value</th></tr>\n",
       "\t<tr><th></th><th scope=col>&lt;fct&gt;</th><th scope=col>&lt;dbl&gt;</th><th scope=col>&lt;dbl&gt;</th><th scope=col>&lt;dbl&gt;</th><th scope=col>&lt;dbl&gt;</th><th scope=col>&lt;dbl&gt;</th><th scope=col>&lt;dbl&gt;</th><th scope=col>&lt;dbl&gt;</th><th scope=col>&lt;dbl&gt;</th></tr>\n",
       "</thead>\n",
       "<tbody>\n",
       "\t<tr><th scope=row>1</th><td>p/r              </td><td>0.11657174</td><td>0.02707133</td><td>Inf</td><td>0.07306570</td><td>0.18092653</td><td>0.5</td><td>-7.704510</td><td>1.313459e-14</td></tr>\n",
       "\t<tr><th scope=row>2</th><td>p0/r0            </td><td>0.04737693</td><td>0.01452435</td><td>Inf</td><td>0.02578515</td><td>0.08546297</td><td>0.5</td><td>-9.325445</td><td>1.105192e-20</td></tr>\n",
       "\t<tr><th scope=row>3</th><td>p_r/r_p          </td><td>0.20244624</td><td>0.03837419</td><td>Inf</td><td>0.13741900</td><td>0.28797171</td><td>0.5</td><td>-5.768881</td><td>7.979950e-09</td></tr>\n",
       "\t<tr><th scope=row>4</th><td>p_recall/r_recall</td><td>0.74229230</td><td>0.02487941</td><td>Inf</td><td>0.69061749</td><td>0.78798575</td><td>0.5</td><td> 8.134182</td><td>4.147277e-16</td></tr>\n",
       "</tbody>\n",
       "</table>\n",
       "</dd>\n",
       "\t<dt>$contrasts</dt>\n",
       "\t\t<dd><table class=\"dataframe\">\n",
       "<caption>A summary_emm: 6 × 9</caption>\n",
       "<thead>\n",
       "\t<tr><th></th><th scope=col>contrast</th><th scope=col>odds.ratio</th><th scope=col>SE</th><th scope=col>df</th><th scope=col>asymp.LCL</th><th scope=col>asymp.UCL</th><th scope=col>null</th><th scope=col>z.ratio</th><th scope=col>p.value</th></tr>\n",
       "\t<tr><th></th><th scope=col>&lt;fct&gt;</th><th scope=col>&lt;dbl&gt;</th><th scope=col>&lt;dbl&gt;</th><th scope=col>&lt;dbl&gt;</th><th scope=col>&lt;dbl&gt;</th><th scope=col>&lt;dbl&gt;</th><th scope=col>&lt;dbl&gt;</th><th scope=col>&lt;dbl&gt;</th><th scope=col>&lt;dbl&gt;</th></tr>\n",
       "</thead>\n",
       "<tbody>\n",
       "\t<tr><th scope=row>1</th><td>(p/r) / (p0/r0)                </td><td>2.65323784</td><td>0.61017168</td><td>Inf</td><td>1.690531448</td><td>4.16417631</td><td>1</td><td>  4.243033</td><td>2.205194e-05</td></tr>\n",
       "\t<tr><th scope=row>2</th><td>(p/r) / (p_r/r_p)              </td><td>0.51984308</td><td>0.09168370</td><td>Inf</td><td>0.367915029</td><td>0.73450881</td><td>1</td><td> -3.709449</td><td>2.077105e-04</td></tr>\n",
       "\t<tr><th scope=row>3</th><td>(p/r) / (p_recall/r_recall)    </td><td>0.04581149</td><td>0.01331707</td><td>Inf</td><td>0.025914115</td><td>0.08098648</td><td>1</td><td>-10.606460</td><td>2.780861e-26</td></tr>\n",
       "\t<tr><th scope=row>4</th><td>(p0/r0) / (p_r/r_p)            </td><td>0.19592781</td><td>0.04993967</td><td>Inf</td><td>0.118887152</td><td>0.32289198</td><td>1</td><td> -6.394998</td><td>1.605497e-10</td></tr>\n",
       "\t<tr><th scope=row>5</th><td>(p0/r0) / (p_recall/r_recall)  </td><td>0.01726626</td><td>0.00588722</td><td>Inf</td><td>0.008850481</td><td>0.03368447</td><td>1</td><td>-11.904391</td><td>1.122806e-32</td></tr>\n",
       "\t<tr><th scope=row>6</th><td>(p_r/r_p) / (p_recall/r_recall)</td><td>0.08812562</td><td>0.02197450</td><td>Inf</td><td>0.054056934</td><td>0.14366565</td><td>1</td><td> -9.741128</td><td>2.013078e-22</td></tr>\n",
       "</tbody>\n",
       "</table>\n",
       "</dd>\n",
       "</dl>\n"
      ],
      "text/latex": [
       "\\begin{description}\n",
       "\\item[\\$emmeans] A summary\\_emm: 4 × 9\n",
       "\\begin{tabular}{r|lllllllll}\n",
       "  & cond\\_amount & prob & SE & df & asymp.LCL & asymp.UCL & null & z.ratio & p.value\\\\\n",
       "  & <fct> & <dbl> & <dbl> & <dbl> & <dbl> & <dbl> & <dbl> & <dbl> & <dbl>\\\\\n",
       "\\hline\n",
       "\t1 & p/r               & 0.11657174 & 0.02707133 & Inf & 0.07306570 & 0.18092653 & 0.5 & -7.704510 & 1.313459e-14\\\\\n",
       "\t2 & p0/r0             & 0.04737693 & 0.01452435 & Inf & 0.02578515 & 0.08546297 & 0.5 & -9.325445 & 1.105192e-20\\\\\n",
       "\t3 & p\\_r/r\\_p           & 0.20244624 & 0.03837419 & Inf & 0.13741900 & 0.28797171 & 0.5 & -5.768881 & 7.979950e-09\\\\\n",
       "\t4 & p\\_recall/r\\_recall & 0.74229230 & 0.02487941 & Inf & 0.69061749 & 0.78798575 & 0.5 &  8.134182 & 4.147277e-16\\\\\n",
       "\\end{tabular}\n",
       "\n",
       "\\item[\\$contrasts] A summary\\_emm: 6 × 9\n",
       "\\begin{tabular}{r|lllllllll}\n",
       "  & contrast & odds.ratio & SE & df & asymp.LCL & asymp.UCL & null & z.ratio & p.value\\\\\n",
       "  & <fct> & <dbl> & <dbl> & <dbl> & <dbl> & <dbl> & <dbl> & <dbl> & <dbl>\\\\\n",
       "\\hline\n",
       "\t1 & (p/r) / (p0/r0)                 & 2.65323784 & 0.61017168 & Inf & 1.690531448 & 4.16417631 & 1 &   4.243033 & 2.205194e-05\\\\\n",
       "\t2 & (p/r) / (p\\_r/r\\_p)               & 0.51984308 & 0.09168370 & Inf & 0.367915029 & 0.73450881 & 1 &  -3.709449 & 2.077105e-04\\\\\n",
       "\t3 & (p/r) / (p\\_recall/r\\_recall)     & 0.04581149 & 0.01331707 & Inf & 0.025914115 & 0.08098648 & 1 & -10.606460 & 2.780861e-26\\\\\n",
       "\t4 & (p0/r0) / (p\\_r/r\\_p)             & 0.19592781 & 0.04993967 & Inf & 0.118887152 & 0.32289198 & 1 &  -6.394998 & 1.605497e-10\\\\\n",
       "\t5 & (p0/r0) / (p\\_recall/r\\_recall)   & 0.01726626 & 0.00588722 & Inf & 0.008850481 & 0.03368447 & 1 & -11.904391 & 1.122806e-32\\\\\n",
       "\t6 & (p\\_r/r\\_p) / (p\\_recall/r\\_recall) & 0.08812562 & 0.02197450 & Inf & 0.054056934 & 0.14366565 & 1 &  -9.741128 & 2.013078e-22\\\\\n",
       "\\end{tabular}\n",
       "\n",
       "\\end{description}\n"
      ],
      "text/markdown": [
       "$emmeans\n",
       ":   \n",
       "A summary_emm: 4 × 9\n",
       "\n",
       "| <!--/--> | cond_amount &lt;fct&gt; | prob &lt;dbl&gt; | SE &lt;dbl&gt; | df &lt;dbl&gt; | asymp.LCL &lt;dbl&gt; | asymp.UCL &lt;dbl&gt; | null &lt;dbl&gt; | z.ratio &lt;dbl&gt; | p.value &lt;dbl&gt; |\n",
       "|---|---|---|---|---|---|---|---|---|---|\n",
       "| 1 | p/r               | 0.11657174 | 0.02707133 | Inf | 0.07306570 | 0.18092653 | 0.5 | -7.704510 | 1.313459e-14 |\n",
       "| 2 | p0/r0             | 0.04737693 | 0.01452435 | Inf | 0.02578515 | 0.08546297 | 0.5 | -9.325445 | 1.105192e-20 |\n",
       "| 3 | p_r/r_p           | 0.20244624 | 0.03837419 | Inf | 0.13741900 | 0.28797171 | 0.5 | -5.768881 | 7.979950e-09 |\n",
       "| 4 | p_recall/r_recall | 0.74229230 | 0.02487941 | Inf | 0.69061749 | 0.78798575 | 0.5 |  8.134182 | 4.147277e-16 |\n",
       "\n",
       "\n",
       "$contrasts\n",
       ":   \n",
       "A summary_emm: 6 × 9\n",
       "\n",
       "| <!--/--> | contrast &lt;fct&gt; | odds.ratio &lt;dbl&gt; | SE &lt;dbl&gt; | df &lt;dbl&gt; | asymp.LCL &lt;dbl&gt; | asymp.UCL &lt;dbl&gt; | null &lt;dbl&gt; | z.ratio &lt;dbl&gt; | p.value &lt;dbl&gt; |\n",
       "|---|---|---|---|---|---|---|---|---|---|\n",
       "| 1 | (p/r) / (p0/r0)                 | 2.65323784 | 0.61017168 | Inf | 1.690531448 | 4.16417631 | 1 |   4.243033 | 2.205194e-05 |\n",
       "| 2 | (p/r) / (p_r/r_p)               | 0.51984308 | 0.09168370 | Inf | 0.367915029 | 0.73450881 | 1 |  -3.709449 | 2.077105e-04 |\n",
       "| 3 | (p/r) / (p_recall/r_recall)     | 0.04581149 | 0.01331707 | Inf | 0.025914115 | 0.08098648 | 1 | -10.606460 | 2.780861e-26 |\n",
       "| 4 | (p0/r0) / (p_r/r_p)             | 0.19592781 | 0.04993967 | Inf | 0.118887152 | 0.32289198 | 1 |  -6.394998 | 1.605497e-10 |\n",
       "| 5 | (p0/r0) / (p_recall/r_recall)   | 0.01726626 | 0.00588722 | Inf | 0.008850481 | 0.03368447 | 1 | -11.904391 | 1.122806e-32 |\n",
       "| 6 | (p_r/r_p) / (p_recall/r_recall) | 0.08812562 | 0.02197450 | Inf | 0.054056934 | 0.14366565 | 1 |  -9.741128 | 2.013078e-22 |\n",
       "\n",
       "\n",
       "\n",
       "\n"
      ],
      "text/plain": [
       "$emmeans\n",
       " cond_amount         prob     SE  df asymp.LCL asymp.UCL null z.ratio p.value\n",
       " p/r               0.1166 0.0271 Inf    0.0731    0.1809  0.5  -7.705  <.0001\n",
       " p0/r0             0.0474 0.0145 Inf    0.0258    0.0855  0.5  -9.325  <.0001\n",
       " p_r/r_p           0.2024 0.0384 Inf    0.1374    0.2880  0.5  -5.769  <.0001\n",
       " p_recall/r_recall 0.7423 0.0249 Inf    0.6906    0.7880  0.5   8.134  <.0001\n",
       "\n",
       "Results are averaged over the levels of: cond_direction, story \n",
       "Confidence level used: 0.95 \n",
       "Intervals are back-transformed from the logit scale \n",
       "Tests are performed on the logit scale \n",
       "\n",
       "$contrasts\n",
       " contrast                        odds.ratio      SE  df asymp.LCL asymp.UCL\n",
       " (p/r) / (p0/r0)                     2.6532 0.61017 Inf   1.69053    4.1642\n",
       " (p/r) / (p_r/r_p)                   0.5198 0.09168 Inf   0.36791    0.7345\n",
       " (p/r) / (p_recall/r_recall)         0.0458 0.01332 Inf   0.02591    0.0810\n",
       " (p0/r0) / (p_r/r_p)                 0.1959 0.04994 Inf   0.11889    0.3229\n",
       " (p0/r0) / (p_recall/r_recall)       0.0173 0.00589 Inf   0.00885    0.0337\n",
       " (p_r/r_p) / (p_recall/r_recall)     0.0881 0.02197 Inf   0.05406    0.1437\n",
       " null z.ratio p.value\n",
       "    1   4.243  <.0001\n",
       "    1  -3.709  0.0002\n",
       "    1 -10.606  <.0001\n",
       "    1  -6.395  <.0001\n",
       "    1 -11.904  <.0001\n",
       "    1  -9.741  <.0001\n",
       "\n",
       "Results are averaged over the levels of: cond_direction, story \n",
       "Confidence level used: 0.95 \n",
       "Intervals are back-transformed from the log odds ratio scale \n",
       "Tests are performed on the log odds ratio scale \n"
      ]
     },
     "metadata": {},
     "output_type": "display_data"
    }
   ],
   "source": [
    "emmeans(pr_recall_hit_ac, pairwise ~ cond_amount, type='response', adjust='none') %>%\n",
    "     summary(infer = TRUE)"
   ]
  },
  {
   "cell_type": "code",
   "execution_count": 4,
   "metadata": {
    "vscode": {
     "languageId": "r"
    }
   },
   "outputs": [
    {
     "name": "stderr",
     "output_type": "stream",
     "text": [
      "NOTE: Results may be misleading due to involvement in interactions\n",
      "\n"
     ]
    },
    {
     "data": {
      "text/html": [
       "<dl>\n",
       "\t<dt>$emmeans</dt>\n",
       "\t\t<dd><table class=\"dataframe\">\n",
       "<caption>A summary_emm: 8 × 10</caption>\n",
       "<thead>\n",
       "\t<tr><th></th><th scope=col>cond_direction</th><th scope=col>cond_amount</th><th scope=col>prob</th><th scope=col>SE</th><th scope=col>df</th><th scope=col>asymp.LCL</th><th scope=col>asymp.UCL</th><th scope=col>null</th><th scope=col>z.ratio</th><th scope=col>p.value</th></tr>\n",
       "\t<tr><th></th><th scope=col>&lt;fct&gt;</th><th scope=col>&lt;fct&gt;</th><th scope=col>&lt;dbl&gt;</th><th scope=col>&lt;dbl&gt;</th><th scope=col>&lt;dbl&gt;</th><th scope=col>&lt;dbl&gt;</th><th scope=col>&lt;dbl&gt;</th><th scope=col>&lt;dbl&gt;</th><th scope=col>&lt;dbl&gt;</th><th scope=col>&lt;dbl&gt;</th></tr>\n",
       "</thead>\n",
       "<tbody>\n",
       "\t<tr><th scope=row>1</th><td>b</td><td>p/r              </td><td>0.15615812</td><td>0.03081755</td><td>Inf</td><td>0.10475524</td><td>0.22640529</td><td>0.5</td><td>-7.213854</td><td>5.439017e-13</td></tr>\n",
       "\t<tr><th scope=row>2</th><td>f</td><td>p/r              </td><td>0.08599787</td><td>0.03009659</td><td>Inf</td><td>0.04253445</td><td>0.16616625</td><td>0.5</td><td>-6.172699</td><td>6.713386e-10</td></tr>\n",
       "\t<tr><th scope=row>3</th><td>b</td><td>p0/r0            </td><td>0.05509448</td><td>0.02058234</td><td>Inf</td><td>0.02616201</td><td>0.11233248</td><td>0.5</td><td>-7.188383</td><td>6.556316e-13</td></tr>\n",
       "\t<tr><th scope=row>4</th><td>f</td><td>p0/r0            </td><td>0.04069389</td><td>0.01757505</td><td>Inf</td><td>0.01725043</td><td>0.09298277</td><td>0.5</td><td>-7.019323</td><td>2.229466e-12</td></tr>\n",
       "\t<tr><th scope=row>5</th><td>b</td><td>p_r/r_p          </td><td>0.21431976</td><td>0.04326764</td><td>Inf</td><td>0.14152258</td><td>0.31099740</td><td>0.5</td><td>-5.055697</td><td>4.288223e-07</td></tr>\n",
       "\t<tr><th scope=row>6</th><td>f</td><td>p_r/r_p          </td><td>0.19107054</td><td>0.04067711</td><td>Inf</td><td>0.12358789</td><td>0.28348210</td><td>0.5</td><td>-5.483292</td><td>4.174821e-08</td></tr>\n",
       "\t<tr><th scope=row>7</th><td>b</td><td>p_recall/r_recall</td><td>0.75019148</td><td>0.02791450</td><td>Inf</td><td>0.69161713</td><td>0.80084390</td><td>0.5</td><td> 7.382400</td><td>1.554615e-13</td></tr>\n",
       "\t<tr><th scope=row>8</th><td>f</td><td>p_recall/r_recall</td><td>0.73423183</td><td>0.02653646</td><td>Inf</td><td>0.67910572</td><td>0.78291511</td><td>0.5</td><td> 7.472615</td><td>7.861654e-14</td></tr>\n",
       "</tbody>\n",
       "</table>\n",
       "</dd>\n",
       "\t<dt>$contrasts</dt>\n",
       "\t\t<dd><table class=\"dataframe\">\n",
       "<caption>A summary_emm: 4 × 10</caption>\n",
       "<thead>\n",
       "\t<tr><th></th><th scope=col>contrast</th><th scope=col>cond_amount</th><th scope=col>odds.ratio</th><th scope=col>SE</th><th scope=col>df</th><th scope=col>asymp.LCL</th><th scope=col>asymp.UCL</th><th scope=col>null</th><th scope=col>z.ratio</th><th scope=col>p.value</th></tr>\n",
       "\t<tr><th></th><th scope=col>&lt;fct&gt;</th><th scope=col>&lt;fct&gt;</th><th scope=col>&lt;dbl&gt;</th><th scope=col>&lt;dbl&gt;</th><th scope=col>&lt;dbl&gt;</th><th scope=col>&lt;dbl&gt;</th><th scope=col>&lt;dbl&gt;</th><th scope=col>&lt;dbl&gt;</th><th scope=col>&lt;dbl&gt;</th><th scope=col>&lt;dbl&gt;</th></tr>\n",
       "</thead>\n",
       "<tbody>\n",
       "\t<tr><th scope=row>1</th><td>b / f</td><td>p/r              </td><td>1.966813</td><td>0.6987101</td><td>Inf</td><td>0.9803332</td><td>3.945957</td><td>1</td><td>1.9040519</td><td>0.05690342</td></tr>\n",
       "\t<tr><th scope=row>2</th><td>b / f</td><td>p0/r0            </td><td>1.374509</td><td>0.7575177</td><td>Inf</td><td>0.4666966</td><td>4.048188</td><td>1</td><td>0.5771839</td><td>0.56381520</td></tr>\n",
       "\t<tr><th scope=row>3</th><td>b / f</td><td>p_r/r_p          </td><td>1.154871</td><td>0.2439766</td><td>Inf</td><td>0.7633250</td><td>1.747258</td><td>1</td><td>0.6815729</td><td>0.49550906</td></tr>\n",
       "\t<tr><th scope=row>4</th><td>b / f</td><td>p_recall/r_recall</td><td>1.087013</td><td>0.1272327</td><td>Inf</td><td>0.8641780</td><td>1.367307</td><td>1</td><td>0.7128129</td><td>0.47596153</td></tr>\n",
       "</tbody>\n",
       "</table>\n",
       "</dd>\n",
       "</dl>\n"
      ],
      "text/latex": [
       "\\begin{description}\n",
       "\\item[\\$emmeans] A summary\\_emm: 8 × 10\n",
       "\\begin{tabular}{r|llllllllll}\n",
       "  & cond\\_direction & cond\\_amount & prob & SE & df & asymp.LCL & asymp.UCL & null & z.ratio & p.value\\\\\n",
       "  & <fct> & <fct> & <dbl> & <dbl> & <dbl> & <dbl> & <dbl> & <dbl> & <dbl> & <dbl>\\\\\n",
       "\\hline\n",
       "\t1 & b & p/r               & 0.15615812 & 0.03081755 & Inf & 0.10475524 & 0.22640529 & 0.5 & -7.213854 & 5.439017e-13\\\\\n",
       "\t2 & f & p/r               & 0.08599787 & 0.03009659 & Inf & 0.04253445 & 0.16616625 & 0.5 & -6.172699 & 6.713386e-10\\\\\n",
       "\t3 & b & p0/r0             & 0.05509448 & 0.02058234 & Inf & 0.02616201 & 0.11233248 & 0.5 & -7.188383 & 6.556316e-13\\\\\n",
       "\t4 & f & p0/r0             & 0.04069389 & 0.01757505 & Inf & 0.01725043 & 0.09298277 & 0.5 & -7.019323 & 2.229466e-12\\\\\n",
       "\t5 & b & p\\_r/r\\_p           & 0.21431976 & 0.04326764 & Inf & 0.14152258 & 0.31099740 & 0.5 & -5.055697 & 4.288223e-07\\\\\n",
       "\t6 & f & p\\_r/r\\_p           & 0.19107054 & 0.04067711 & Inf & 0.12358789 & 0.28348210 & 0.5 & -5.483292 & 4.174821e-08\\\\\n",
       "\t7 & b & p\\_recall/r\\_recall & 0.75019148 & 0.02791450 & Inf & 0.69161713 & 0.80084390 & 0.5 &  7.382400 & 1.554615e-13\\\\\n",
       "\t8 & f & p\\_recall/r\\_recall & 0.73423183 & 0.02653646 & Inf & 0.67910572 & 0.78291511 & 0.5 &  7.472615 & 7.861654e-14\\\\\n",
       "\\end{tabular}\n",
       "\n",
       "\\item[\\$contrasts] A summary\\_emm: 4 × 10\n",
       "\\begin{tabular}{r|llllllllll}\n",
       "  & contrast & cond\\_amount & odds.ratio & SE & df & asymp.LCL & asymp.UCL & null & z.ratio & p.value\\\\\n",
       "  & <fct> & <fct> & <dbl> & <dbl> & <dbl> & <dbl> & <dbl> & <dbl> & <dbl> & <dbl>\\\\\n",
       "\\hline\n",
       "\t1 & b / f & p/r               & 1.966813 & 0.6987101 & Inf & 0.9803332 & 3.945957 & 1 & 1.9040519 & 0.05690342\\\\\n",
       "\t2 & b / f & p0/r0             & 1.374509 & 0.7575177 & Inf & 0.4666966 & 4.048188 & 1 & 0.5771839 & 0.56381520\\\\\n",
       "\t3 & b / f & p\\_r/r\\_p           & 1.154871 & 0.2439766 & Inf & 0.7633250 & 1.747258 & 1 & 0.6815729 & 0.49550906\\\\\n",
       "\t4 & b / f & p\\_recall/r\\_recall & 1.087013 & 0.1272327 & Inf & 0.8641780 & 1.367307 & 1 & 0.7128129 & 0.47596153\\\\\n",
       "\\end{tabular}\n",
       "\n",
       "\\end{description}\n"
      ],
      "text/markdown": [
       "$emmeans\n",
       ":   \n",
       "A summary_emm: 8 × 10\n",
       "\n",
       "| <!--/--> | cond_direction &lt;fct&gt; | cond_amount &lt;fct&gt; | prob &lt;dbl&gt; | SE &lt;dbl&gt; | df &lt;dbl&gt; | asymp.LCL &lt;dbl&gt; | asymp.UCL &lt;dbl&gt; | null &lt;dbl&gt; | z.ratio &lt;dbl&gt; | p.value &lt;dbl&gt; |\n",
       "|---|---|---|---|---|---|---|---|---|---|---|\n",
       "| 1 | b | p/r               | 0.15615812 | 0.03081755 | Inf | 0.10475524 | 0.22640529 | 0.5 | -7.213854 | 5.439017e-13 |\n",
       "| 2 | f | p/r               | 0.08599787 | 0.03009659 | Inf | 0.04253445 | 0.16616625 | 0.5 | -6.172699 | 6.713386e-10 |\n",
       "| 3 | b | p0/r0             | 0.05509448 | 0.02058234 | Inf | 0.02616201 | 0.11233248 | 0.5 | -7.188383 | 6.556316e-13 |\n",
       "| 4 | f | p0/r0             | 0.04069389 | 0.01757505 | Inf | 0.01725043 | 0.09298277 | 0.5 | -7.019323 | 2.229466e-12 |\n",
       "| 5 | b | p_r/r_p           | 0.21431976 | 0.04326764 | Inf | 0.14152258 | 0.31099740 | 0.5 | -5.055697 | 4.288223e-07 |\n",
       "| 6 | f | p_r/r_p           | 0.19107054 | 0.04067711 | Inf | 0.12358789 | 0.28348210 | 0.5 | -5.483292 | 4.174821e-08 |\n",
       "| 7 | b | p_recall/r_recall | 0.75019148 | 0.02791450 | Inf | 0.69161713 | 0.80084390 | 0.5 |  7.382400 | 1.554615e-13 |\n",
       "| 8 | f | p_recall/r_recall | 0.73423183 | 0.02653646 | Inf | 0.67910572 | 0.78291511 | 0.5 |  7.472615 | 7.861654e-14 |\n",
       "\n",
       "\n",
       "$contrasts\n",
       ":   \n",
       "A summary_emm: 4 × 10\n",
       "\n",
       "| <!--/--> | contrast &lt;fct&gt; | cond_amount &lt;fct&gt; | odds.ratio &lt;dbl&gt; | SE &lt;dbl&gt; | df &lt;dbl&gt; | asymp.LCL &lt;dbl&gt; | asymp.UCL &lt;dbl&gt; | null &lt;dbl&gt; | z.ratio &lt;dbl&gt; | p.value &lt;dbl&gt; |\n",
       "|---|---|---|---|---|---|---|---|---|---|---|\n",
       "| 1 | b / f | p/r               | 1.966813 | 0.6987101 | Inf | 0.9803332 | 3.945957 | 1 | 1.9040519 | 0.05690342 |\n",
       "| 2 | b / f | p0/r0             | 1.374509 | 0.7575177 | Inf | 0.4666966 | 4.048188 | 1 | 0.5771839 | 0.56381520 |\n",
       "| 3 | b / f | p_r/r_p           | 1.154871 | 0.2439766 | Inf | 0.7633250 | 1.747258 | 1 | 0.6815729 | 0.49550906 |\n",
       "| 4 | b / f | p_recall/r_recall | 1.087013 | 0.1272327 | Inf | 0.8641780 | 1.367307 | 1 | 0.7128129 | 0.47596153 |\n",
       "\n",
       "\n",
       "\n",
       "\n"
      ],
      "text/plain": [
       "$emmeans\n",
       "cond_amount = p/r:\n",
       " cond_direction   prob     SE  df asymp.LCL asymp.UCL null z.ratio p.value\n",
       " b              0.1562 0.0308 Inf    0.1048     0.226  0.5  -7.214  <.0001\n",
       " f              0.0860 0.0301 Inf    0.0425     0.166  0.5  -6.173  <.0001\n",
       "\n",
       "cond_amount = p0/r0:\n",
       " cond_direction   prob     SE  df asymp.LCL asymp.UCL null z.ratio p.value\n",
       " b              0.0551 0.0206 Inf    0.0262     0.112  0.5  -7.188  <.0001\n",
       " f              0.0407 0.0176 Inf    0.0173     0.093  0.5  -7.019  <.0001\n",
       "\n",
       "cond_amount = p_r/r_p:\n",
       " cond_direction   prob     SE  df asymp.LCL asymp.UCL null z.ratio p.value\n",
       " b              0.2143 0.0433 Inf    0.1415     0.311  0.5  -5.056  <.0001\n",
       " f              0.1911 0.0407 Inf    0.1236     0.283  0.5  -5.483  <.0001\n",
       "\n",
       "cond_amount = p_recall/r_recall:\n",
       " cond_direction   prob     SE  df asymp.LCL asymp.UCL null z.ratio p.value\n",
       " b              0.7502 0.0279 Inf    0.6916     0.801  0.5   7.382  <.0001\n",
       " f              0.7342 0.0265 Inf    0.6791     0.783  0.5   7.473  <.0001\n",
       "\n",
       "Results are averaged over the levels of: story \n",
       "Confidence level used: 0.95 \n",
       "Intervals are back-transformed from the logit scale \n",
       "Tests are performed on the logit scale \n",
       "\n",
       "$contrasts\n",
       "cond_amount = p/r:\n",
       " contrast odds.ratio    SE  df asymp.LCL asymp.UCL null z.ratio p.value\n",
       " b / f          1.97 0.699 Inf     0.980      3.95    1   1.904  0.0569\n",
       "\n",
       "cond_amount = p0/r0:\n",
       " contrast odds.ratio    SE  df asymp.LCL asymp.UCL null z.ratio p.value\n",
       " b / f          1.37 0.758 Inf     0.467      4.05    1   0.577  0.5638\n",
       "\n",
       "cond_amount = p_r/r_p:\n",
       " contrast odds.ratio    SE  df asymp.LCL asymp.UCL null z.ratio p.value\n",
       " b / f          1.15 0.244 Inf     0.763      1.75    1   0.682  0.4955\n",
       "\n",
       "cond_amount = p_recall/r_recall:\n",
       " contrast odds.ratio    SE  df asymp.LCL asymp.UCL null z.ratio p.value\n",
       " b / f          1.09 0.127 Inf     0.864      1.37    1   0.713  0.4760\n",
       "\n",
       "Results are averaged over the levels of: story \n",
       "Confidence level used: 0.95 \n",
       "Intervals are back-transformed from the log odds ratio scale \n",
       "Tests are performed on the log odds ratio scale \n"
      ]
     },
     "metadata": {},
     "output_type": "display_data"
    }
   ],
   "source": [
    "emmeans(pr_recall_hit_ac, pairwise ~ cond_direction|cond_amount, type='response') %>%\n",
    "     summary(infer = TRUE)"
   ]
  },
  {
   "cell_type": "code",
   "execution_count": 9,
   "metadata": {
    "vscode": {
     "languageId": "r"
    }
   },
   "outputs": [
    {
     "name": "stderr",
     "output_type": "stream",
     "text": [
      "NOTE: Results may be misleading due to involvement in interactions\n",
      "\n"
     ]
    },
    {
     "data": {
      "text/html": [
       "<dl>\n",
       "\t<dt>$emmeans</dt>\n",
       "\t\t<dd><table class=\"dataframe\">\n",
       "<caption>A summary_emm: 2 x 9</caption>\n",
       "<thead>\n",
       "\t<tr><th></th><th scope=col>cond_direction</th><th scope=col>prob</th><th scope=col>SE</th><th scope=col>df</th><th scope=col>asymp.LCL</th><th scope=col>asymp.UCL</th><th scope=col>null</th><th scope=col>z.ratio</th><th scope=col>p.value</th></tr>\n",
       "\t<tr><th></th><th scope=col>&lt;fct&gt;</th><th scope=col>&lt;dbl&gt;</th><th scope=col>&lt;dbl&gt;</th><th scope=col>&lt;dbl&gt;</th><th scope=col>&lt;dbl&gt;</th><th scope=col>&lt;dbl&gt;</th><th scope=col>&lt;dbl&gt;</th><th scope=col>&lt;dbl&gt;</th><th scope=col>&lt;dbl&gt;</th></tr>\n",
       "</thead>\n",
       "<tbody>\n",
       "\t<tr><th scope=row>1</th><td>b</td><td>0.06869867</td><td>0.02200393</td><td>Inf</td><td>0.03623121</td><td>0.1264437</td><td>0.5</td><td>-7.579749</td><td>3.462245e-14</td></tr>\n",
       "\t<tr><th scope=row>2</th><td>f</td><td>0.05909828</td><td>0.01744293</td><td>Inf</td><td>0.03284823</td><td>0.1040684</td><td>0.5</td><td>-8.822847</td><td>1.115859e-18</td></tr>\n",
       "</tbody>\n",
       "</table>\n",
       "</dd>\n",
       "\t<dt>$contrasts</dt>\n",
       "\t\t<dd><table class=\"dataframe\">\n",
       "<caption>A summary_emm: 1 x 9</caption>\n",
       "<thead>\n",
       "\t<tr><th></th><th scope=col>contrast</th><th scope=col>odds.ratio</th><th scope=col>SE</th><th scope=col>df</th><th scope=col>asymp.LCL</th><th scope=col>asymp.UCL</th><th scope=col>null</th><th scope=col>z.ratio</th><th scope=col>p.value</th></tr>\n",
       "\t<tr><th></th><th scope=col>&lt;fct&gt;</th><th scope=col>&lt;dbl&gt;</th><th scope=col>&lt;dbl&gt;</th><th scope=col>&lt;dbl&gt;</th><th scope=col>&lt;dbl&gt;</th><th scope=col>&lt;dbl&gt;</th><th scope=col>&lt;dbl&gt;</th><th scope=col>&lt;dbl&gt;</th><th scope=col>&lt;dbl&gt;</th></tr>\n",
       "</thead>\n",
       "<tbody>\n",
       "\t<tr><th scope=row>1</th><td>b / f</td><td>1.174431</td><td>0.5450619</td><td>Inf</td><td>0.4729102</td><td>2.916596</td><td>1</td><td>0.3464367</td><td>0.7290145</td></tr>\n",
       "</tbody>\n",
       "</table>\n",
       "</dd>\n",
       "</dl>\n"
      ],
      "text/latex": [
       "\\begin{description}\n",
       "\\item[\\$emmeans] A summary\\_emm: 2 x 9\n",
       "\\begin{tabular}{r|lllllllll}\n",
       "  & cond\\_direction & prob & SE & df & asymp.LCL & asymp.UCL & null & z.ratio & p.value\\\\\n",
       "  & <fct> & <dbl> & <dbl> & <dbl> & <dbl> & <dbl> & <dbl> & <dbl> & <dbl>\\\\\n",
       "\\hline\n",
       "\t1 & b & 0.06869867 & 0.02200393 & Inf & 0.03623121 & 0.1264437 & 0.5 & -7.579749 & 3.462245e-14\\\\\n",
       "\t2 & f & 0.05909828 & 0.01744293 & Inf & 0.03284823 & 0.1040684 & 0.5 & -8.822847 & 1.115859e-18\\\\\n",
       "\\end{tabular}\n",
       "\n",
       "\\item[\\$contrasts] A summary\\_emm: 1 x 9\n",
       "\\begin{tabular}{r|lllllllll}\n",
       "  & contrast & odds.ratio & SE & df & asymp.LCL & asymp.UCL & null & z.ratio & p.value\\\\\n",
       "  & <fct> & <dbl> & <dbl> & <dbl> & <dbl> & <dbl> & <dbl> & <dbl> & <dbl>\\\\\n",
       "\\hline\n",
       "\t1 & b / f & 1.174431 & 0.5450619 & Inf & 0.4729102 & 2.916596 & 1 & 0.3464367 & 0.7290145\\\\\n",
       "\\end{tabular}\n",
       "\n",
       "\\end{description}\n"
      ],
      "text/markdown": [
       "$emmeans\n",
       ":   \n",
       "A summary_emm: 2 x 9\n",
       "\n",
       "| <!--/--> | cond_direction &lt;fct&gt; | prob &lt;dbl&gt; | SE &lt;dbl&gt; | df &lt;dbl&gt; | asymp.LCL &lt;dbl&gt; | asymp.UCL &lt;dbl&gt; | null &lt;dbl&gt; | z.ratio &lt;dbl&gt; | p.value &lt;dbl&gt; |\n",
       "|---|---|---|---|---|---|---|---|---|---|\n",
       "| 1 | b | 0.06869867 | 0.02200393 | Inf | 0.03623121 | 0.1264437 | 0.5 | -7.579749 | 3.462245e-14 |\n",
       "| 2 | f | 0.05909828 | 0.01744293 | Inf | 0.03284823 | 0.1040684 | 0.5 | -8.822847 | 1.115859e-18 |\n",
       "\n",
       "\n",
       "$contrasts\n",
       ":   \n",
       "A summary_emm: 1 x 9\n",
       "\n",
       "| <!--/--> | contrast &lt;fct&gt; | odds.ratio &lt;dbl&gt; | SE &lt;dbl&gt; | df &lt;dbl&gt; | asymp.LCL &lt;dbl&gt; | asymp.UCL &lt;dbl&gt; | null &lt;dbl&gt; | z.ratio &lt;dbl&gt; | p.value &lt;dbl&gt; |\n",
       "|---|---|---|---|---|---|---|---|---|---|\n",
       "| 1 | b / f | 1.174431 | 0.5450619 | Inf | 0.4729102 | 2.916596 | 1 | 0.3464367 | 0.7290145 |\n",
       "\n",
       "\n",
       "\n",
       "\n"
      ],
      "text/plain": [
       "$emmeans\n",
       " cond_direction   prob     SE  df asymp.LCL asymp.UCL null z.ratio p.value\n",
       " b              0.0687 0.0220 Inf    0.0362     0.126  0.5  -7.580  <.0001\n",
       " f              0.0591 0.0174 Inf    0.0328     0.104  0.5  -8.823  <.0001\n",
       "\n",
       "Results are averaged over the levels of: story \n",
       "Confidence level used: 0.95 \n",
       "Intervals are back-transformed from the logit scale \n",
       "Tests are performed on the logit scale \n",
       "\n",
       "$contrasts\n",
       " contrast odds.ratio    SE  df asymp.LCL asymp.UCL null z.ratio p.value\n",
       " b / f          1.17 0.545 Inf     0.473      2.92    1   0.346  0.7290\n",
       "\n",
       "Results are averaged over the levels of: story \n",
       "Confidence level used: 0.95 \n",
       "Intervals are back-transformed from the log odds ratio scale \n",
       "Tests are performed on the log odds ratio scale \n"
      ]
     },
     "metadata": {},
     "output_type": "display_data"
    }
   ],
   "source": [
    "emmeans(p0r0_hit_ac, pairwise ~ cond_direction, type='response') %>%\n",
    "     summary(infer = TRUE)"
   ]
  },
  {
   "cell_type": "code",
   "execution_count": 13,
   "metadata": {
    "vscode": {
     "languageId": "r"
    }
   },
   "outputs": [
    {
     "name": "stderr",
     "output_type": "stream",
     "text": [
      "NOTE: Results may be misleading due to involvement in interactions\n",
      "\n"
     ]
    },
    {
     "data": {
      "text/html": [
       "<dl>\n",
       "\t<dt>$emmeans</dt>\n",
       "\t\t<dd><table class=\"dataframe\">\n",
       "<caption>A summary_emm: 2 x 9</caption>\n",
       "<thead>\n",
       "\t<tr><th></th><th scope=col>cond_direction</th><th scope=col>prob</th><th scope=col>SE</th><th scope=col>df</th><th scope=col>asymp.LCL</th><th scope=col>asymp.UCL</th><th scope=col>null</th><th scope=col>z.ratio</th><th scope=col>p.value</th></tr>\n",
       "\t<tr><th></th><th scope=col>&lt;fct&gt;</th><th scope=col>&lt;dbl&gt;</th><th scope=col>&lt;dbl&gt;</th><th scope=col>&lt;dbl&gt;</th><th scope=col>&lt;dbl&gt;</th><th scope=col>&lt;dbl&gt;</th><th scope=col>&lt;dbl&gt;</th><th scope=col>&lt;dbl&gt;</th><th scope=col>&lt;dbl&gt;</th></tr>\n",
       "</thead>\n",
       "<tbody>\n",
       "\t<tr><th scope=row>1</th><td>b</td><td>0.1864612</td><td>0.02310737</td><td>Inf</td><td>0.14532720</td><td>0.2360226</td><td>0.5</td><td>-9.670950</td><td>4.006399e-22</td></tr>\n",
       "\t<tr><th scope=row>2</th><td>f</td><td>0.1060416</td><td>0.02803067</td><td>Inf</td><td>0.06230555</td><td>0.1747570</td><td>0.5</td><td>-7.209619</td><td>5.610875e-13</td></tr>\n",
       "</tbody>\n",
       "</table>\n",
       "</dd>\n",
       "\t<dt>$contrasts</dt>\n",
       "\t\t<dd><table class=\"dataframe\">\n",
       "<caption>A summary_emm: 1 x 9</caption>\n",
       "<thead>\n",
       "\t<tr><th></th><th scope=col>contrast</th><th scope=col>odds.ratio</th><th scope=col>SE</th><th scope=col>df</th><th scope=col>asymp.LCL</th><th scope=col>asymp.UCL</th><th scope=col>null</th><th scope=col>z.ratio</th><th scope=col>p.value</th></tr>\n",
       "\t<tr><th></th><th scope=col>&lt;fct&gt;</th><th scope=col>&lt;dbl&gt;</th><th scope=col>&lt;dbl&gt;</th><th scope=col>&lt;dbl&gt;</th><th scope=col>&lt;dbl&gt;</th><th scope=col>&lt;dbl&gt;</th><th scope=col>&lt;dbl&gt;</th><th scope=col>&lt;dbl&gt;</th><th scope=col>&lt;dbl&gt;</th></tr>\n",
       "</thead>\n",
       "<tbody>\n",
       "\t<tr><th scope=row>1</th><td>b / f</td><td>1.932196</td><td>0.5924278</td><td>Inf</td><td>1.059413</td><td>3.524007</td><td>1</td><td>2.148202</td><td>0.03169775</td></tr>\n",
       "</tbody>\n",
       "</table>\n",
       "</dd>\n",
       "</dl>\n"
      ],
      "text/latex": [
       "\\begin{description}\n",
       "\\item[\\$emmeans] A summary\\_emm: 2 x 9\n",
       "\\begin{tabular}{r|lllllllll}\n",
       "  & cond\\_direction & prob & SE & df & asymp.LCL & asymp.UCL & null & z.ratio & p.value\\\\\n",
       "  & <fct> & <dbl> & <dbl> & <dbl> & <dbl> & <dbl> & <dbl> & <dbl> & <dbl>\\\\\n",
       "\\hline\n",
       "\t1 & b & 0.1864612 & 0.02310737 & Inf & 0.14532720 & 0.2360226 & 0.5 & -9.670950 & 4.006399e-22\\\\\n",
       "\t2 & f & 0.1060416 & 0.02803067 & Inf & 0.06230555 & 0.1747570 & 0.5 & -7.209619 & 5.610875e-13\\\\\n",
       "\\end{tabular}\n",
       "\n",
       "\\item[\\$contrasts] A summary\\_emm: 1 x 9\n",
       "\\begin{tabular}{r|lllllllll}\n",
       "  & contrast & odds.ratio & SE & df & asymp.LCL & asymp.UCL & null & z.ratio & p.value\\\\\n",
       "  & <fct> & <dbl> & <dbl> & <dbl> & <dbl> & <dbl> & <dbl> & <dbl> & <dbl>\\\\\n",
       "\\hline\n",
       "\t1 & b / f & 1.932196 & 0.5924278 & Inf & 1.059413 & 3.524007 & 1 & 2.148202 & 0.03169775\\\\\n",
       "\\end{tabular}\n",
       "\n",
       "\\end{description}\n"
      ],
      "text/markdown": [
       "$emmeans\n",
       ":   \n",
       "A summary_emm: 2 x 9\n",
       "\n",
       "| <!--/--> | cond_direction &lt;fct&gt; | prob &lt;dbl&gt; | SE &lt;dbl&gt; | df &lt;dbl&gt; | asymp.LCL &lt;dbl&gt; | asymp.UCL &lt;dbl&gt; | null &lt;dbl&gt; | z.ratio &lt;dbl&gt; | p.value &lt;dbl&gt; |\n",
       "|---|---|---|---|---|---|---|---|---|---|\n",
       "| 1 | b | 0.1864612 | 0.02310737 | Inf | 0.14532720 | 0.2360226 | 0.5 | -9.670950 | 4.006399e-22 |\n",
       "| 2 | f | 0.1060416 | 0.02803067 | Inf | 0.06230555 | 0.1747570 | 0.5 | -7.209619 | 5.610875e-13 |\n",
       "\n",
       "\n",
       "$contrasts\n",
       ":   \n",
       "A summary_emm: 1 x 9\n",
       "\n",
       "| <!--/--> | contrast &lt;fct&gt; | odds.ratio &lt;dbl&gt; | SE &lt;dbl&gt; | df &lt;dbl&gt; | asymp.LCL &lt;dbl&gt; | asymp.UCL &lt;dbl&gt; | null &lt;dbl&gt; | z.ratio &lt;dbl&gt; | p.value &lt;dbl&gt; |\n",
       "|---|---|---|---|---|---|---|---|---|---|\n",
       "| 1 | b / f | 1.932196 | 0.5924278 | Inf | 1.059413 | 3.524007 | 1 | 2.148202 | 0.03169775 |\n",
       "\n",
       "\n",
       "\n",
       "\n"
      ],
      "text/plain": [
       "$emmeans\n",
       " cond_direction  prob     SE  df asymp.LCL asymp.UCL null z.ratio p.value\n",
       " b              0.186 0.0231 Inf    0.1453     0.236  0.5  -9.671  <.0001\n",
       " f              0.106 0.0280 Inf    0.0623     0.175  0.5  -7.210  <.0001\n",
       "\n",
       "Results are averaged over the levels of: story \n",
       "Confidence level used: 0.95 \n",
       "Intervals are back-transformed from the logit scale \n",
       "Tests are performed on the logit scale \n",
       "\n",
       "$contrasts\n",
       " contrast odds.ratio    SE  df asymp.LCL asymp.UCL null z.ratio p.value\n",
       " b / f          1.93 0.592 Inf      1.06      3.52    1   2.148  0.0317\n",
       "\n",
       "Results are averaged over the levels of: story \n",
       "Confidence level used: 0.95 \n",
       "Intervals are back-transformed from the log odds ratio scale \n",
       "Tests are performed on the log odds ratio scale \n"
      ]
     },
     "metadata": {},
     "output_type": "display_data"
    }
   ],
   "source": [
    "emmeans(cpr_hit_ac, pairwise ~ cond_direction, type='response') %>%\n",
    "     summary(infer = TRUE)"
   ]
  },
  {
   "cell_type": "code",
   "execution_count": 15,
   "metadata": {
    "vscode": {
     "languageId": "r"
    }
   },
   "outputs": [
    {
     "name": "stderr",
     "output_type": "stream",
     "text": [
      "NOTE: Results may be misleading due to involvement in interactions\n",
      "\n"
     ]
    },
    {
     "data": {
      "text/html": [
       "<dl>\n",
       "\t<dt>$emmeans</dt>\n",
       "\t\t<dd><table class=\"dataframe\">\n",
       "<caption>A summary_emm: 2 × 9</caption>\n",
       "<thead>\n",
       "\t<tr><th></th><th scope=col>cond_direction</th><th scope=col>prob</th><th scope=col>SE</th><th scope=col>df</th><th scope=col>asymp.LCL</th><th scope=col>asymp.UCL</th><th scope=col>null</th><th scope=col>z.ratio</th><th scope=col>p.value</th></tr>\n",
       "\t<tr><th></th><th scope=col>&lt;fct&gt;</th><th scope=col>&lt;dbl&gt;</th><th scope=col>&lt;dbl&gt;</th><th scope=col>&lt;dbl&gt;</th><th scope=col>&lt;dbl&gt;</th><th scope=col>&lt;dbl&gt;</th><th scope=col>&lt;dbl&gt;</th><th scope=col>&lt;dbl&gt;</th><th scope=col>&lt;dbl&gt;</th></tr>\n",
       "</thead>\n",
       "<tbody>\n",
       "\t<tr><th scope=row>1</th><td>b</td><td>0.7549192</td><td>0.02771247</td><td>Inf</td><td>0.6966618</td><td>0.8051179</td><td>0.5</td><td>7.510967</td><td>5.869233e-14</td></tr>\n",
       "\t<tr><th scope=row>2</th><td>f</td><td>0.7325941</td><td>0.02781334</td><td>Inf</td><td>0.6747074</td><td>0.7834854</td><td>0.5</td><td>7.098491</td><td>1.261262e-12</td></tr>\n",
       "</tbody>\n",
       "</table>\n",
       "</dd>\n",
       "\t<dt>$contrasts</dt>\n",
       "\t\t<dd><table class=\"dataframe\">\n",
       "<caption>A summary_emm: 1 × 9</caption>\n",
       "<thead>\n",
       "\t<tr><th></th><th scope=col>contrast</th><th scope=col>odds.ratio</th><th scope=col>SE</th><th scope=col>df</th><th scope=col>asymp.LCL</th><th scope=col>asymp.UCL</th><th scope=col>null</th><th scope=col>z.ratio</th><th scope=col>p.value</th></tr>\n",
       "\t<tr><th></th><th scope=col>&lt;fct&gt;</th><th scope=col>&lt;dbl&gt;</th><th scope=col>&lt;dbl&gt;</th><th scope=col>&lt;dbl&gt;</th><th scope=col>&lt;dbl&gt;</th><th scope=col>&lt;dbl&gt;</th><th scope=col>&lt;dbl&gt;</th><th scope=col>&lt;dbl&gt;</th><th scope=col>&lt;dbl&gt;</th></tr>\n",
       "</thead>\n",
       "<tbody>\n",
       "\t<tr><th scope=row>1</th><td>b / f</td><td>1.124343</td><td>0.123549</td><td>Inf</td><td>0.9064921</td><td>1.394548</td><td>1</td><td>1.066552</td><td>0.286174</td></tr>\n",
       "</tbody>\n",
       "</table>\n",
       "</dd>\n",
       "</dl>\n"
      ],
      "text/latex": [
       "\\begin{description}\n",
       "\\item[\\$emmeans] A summary\\_emm: 2 × 9\n",
       "\\begin{tabular}{r|lllllllll}\n",
       "  & cond\\_direction & prob & SE & df & asymp.LCL & asymp.UCL & null & z.ratio & p.value\\\\\n",
       "  & <fct> & <dbl> & <dbl> & <dbl> & <dbl> & <dbl> & <dbl> & <dbl> & <dbl>\\\\\n",
       "\\hline\n",
       "\t1 & b & 0.7549192 & 0.02771247 & Inf & 0.6966618 & 0.8051179 & 0.5 & 7.510967 & 5.869233e-14\\\\\n",
       "\t2 & f & 0.7325941 & 0.02781334 & Inf & 0.6747074 & 0.7834854 & 0.5 & 7.098491 & 1.261262e-12\\\\\n",
       "\\end{tabular}\n",
       "\n",
       "\\item[\\$contrasts] A summary\\_emm: 1 × 9\n",
       "\\begin{tabular}{r|lllllllll}\n",
       "  & contrast & odds.ratio & SE & df & asymp.LCL & asymp.UCL & null & z.ratio & p.value\\\\\n",
       "  & <fct> & <dbl> & <dbl> & <dbl> & <dbl> & <dbl> & <dbl> & <dbl> & <dbl>\\\\\n",
       "\\hline\n",
       "\t1 & b / f & 1.124343 & 0.123549 & Inf & 0.9064921 & 1.394548 & 1 & 1.066552 & 0.286174\\\\\n",
       "\\end{tabular}\n",
       "\n",
       "\\end{description}\n"
      ],
      "text/markdown": [
       "$emmeans\n",
       ":   \n",
       "A summary_emm: 2 × 9\n",
       "\n",
       "| <!--/--> | cond_direction &lt;fct&gt; | prob &lt;dbl&gt; | SE &lt;dbl&gt; | df &lt;dbl&gt; | asymp.LCL &lt;dbl&gt; | asymp.UCL &lt;dbl&gt; | null &lt;dbl&gt; | z.ratio &lt;dbl&gt; | p.value &lt;dbl&gt; |\n",
       "|---|---|---|---|---|---|---|---|---|---|\n",
       "| 1 | b | 0.7549192 | 0.02771247 | Inf | 0.6966618 | 0.8051179 | 0.5 | 7.510967 | 5.869233e-14 |\n",
       "| 2 | f | 0.7325941 | 0.02781334 | Inf | 0.6747074 | 0.7834854 | 0.5 | 7.098491 | 1.261262e-12 |\n",
       "\n",
       "\n",
       "$contrasts\n",
       ":   \n",
       "A summary_emm: 1 × 9\n",
       "\n",
       "| <!--/--> | contrast &lt;fct&gt; | odds.ratio &lt;dbl&gt; | SE &lt;dbl&gt; | df &lt;dbl&gt; | asymp.LCL &lt;dbl&gt; | asymp.UCL &lt;dbl&gt; | null &lt;dbl&gt; | z.ratio &lt;dbl&gt; | p.value &lt;dbl&gt; |\n",
       "|---|---|---|---|---|---|---|---|---|---|\n",
       "| 1 | b / f | 1.124343 | 0.123549 | Inf | 0.9064921 | 1.394548 | 1 | 1.066552 | 0.286174 |\n",
       "\n",
       "\n",
       "\n",
       "\n"
      ],
      "text/plain": [
       "$emmeans\n",
       " cond_direction  prob     SE  df asymp.LCL asymp.UCL null z.ratio p.value\n",
       " b              0.755 0.0277 Inf     0.697     0.805  0.5   7.511  <.0001\n",
       " f              0.733 0.0278 Inf     0.675     0.783  0.5   7.098  <.0001\n",
       "\n",
       "Results are averaged over the levels of: story \n",
       "Confidence level used: 0.95 \n",
       "Intervals are back-transformed from the logit scale \n",
       "Tests are performed on the logit scale \n",
       "\n",
       "$contrasts\n",
       " contrast odds.ratio    SE  df asymp.LCL asymp.UCL null z.ratio p.value\n",
       " b / f          1.12 0.124 Inf     0.906      1.39    1   1.067  0.2862\n",
       "\n",
       "Results are averaged over the levels of: story \n",
       "Confidence level used: 0.95 \n",
       "Intervals are back-transformed from the log odds ratio scale \n",
       "Tests are performed on the log odds ratio scale \n"
      ]
     },
     "metadata": {},
     "output_type": "display_data"
    }
   ],
   "source": [
    "emmeans(recall_hit_ac, pairwise ~ cond_direction, type='response') %>%\n",
    "     summary(infer = TRUE)"
   ]
  },
  {
   "cell_type": "markdown",
   "metadata": {},
   "source": [
    "## precision"
   ]
  },
  {
   "cell_type": "code",
   "execution_count": null,
   "metadata": {
    "vscode": {
     "languageId": "r"
    }
   },
   "outputs": [],
   "source": [
    "pr_simi_other <- readRDS(\"../stats_models/main/pr_simi_other.rds\")\n",
    "p0r0_simi_other <- readRDS(\"../stats_models/main/p0r0_simi_other.rds\")\n",
    "cpr_simi_other <- readRDS(\"../stats_models/main/cpr_simi_other.rds\")"
   ]
  },
  {
   "cell_type": "code",
   "execution_count": 16,
   "metadata": {
    "vscode": {
     "languageId": "r"
    }
   },
   "outputs": [
    {
     "name": "stderr",
     "output_type": "stream",
     "text": [
      "NOTE: Results may be misleading due to involvement in interactions\n"
     ]
    },
    {
     "data": {
      "text/html": [
       "<dl>\n",
       "\t<dt>$emmeans</dt>\n",
       "\t\t<dd><table>\n",
       "<caption>A summary_emm: 3 × 8</caption>\n",
       "<thead>\n",
       "\t<tr><th scope=col>cond_amount</th><th scope=col>emmean</th><th scope=col>SE</th><th scope=col>df</th><th scope=col>lower.CL</th><th scope=col>upper.CL</th><th scope=col>t.ratio</th><th scope=col>p.value</th></tr>\n",
       "\t<tr><th scope=col>&lt;fct&gt;</th><th scope=col>&lt;dbl&gt;</th><th scope=col>&lt;dbl&gt;</th><th scope=col>&lt;dbl&gt;</th><th scope=col>&lt;dbl&gt;</th><th scope=col>&lt;dbl&gt;</th><th scope=col>&lt;dbl&gt;</th><th scope=col>&lt;dbl&gt;</th></tr>\n",
       "</thead>\n",
       "<tbody>\n",
       "\t<tr><td>p/r    </td><td>0.8343113</td><td>0.02474493</td><td>20.16368</td><td>0.7827211</td><td>0.8859015</td><td>33.71646</td><td>3.283290e-19</td></tr>\n",
       "\t<tr><td>p0/r0  </td><td>0.7036123</td><td>0.02360142</td><td>22.60490</td><td>0.6547418</td><td>0.7524828</td><td>29.81229</td><td>1.199514e-19</td></tr>\n",
       "\t<tr><td>p_r/r_p</td><td>0.8634029</td><td>0.02430352</td><td>18.77075</td><td>0.8124930</td><td>0.9143128</td><td>35.52584</td><td>1.120368e-18</td></tr>\n",
       "</tbody>\n",
       "</table>\n",
       "</dd>\n",
       "\t<dt>$contrasts</dt>\n",
       "\t\t<dd><table>\n",
       "<caption>A summary_emm: 3 × 8</caption>\n",
       "<thead>\n",
       "\t<tr><th scope=col>contrast</th><th scope=col>estimate</th><th scope=col>SE</th><th scope=col>df</th><th scope=col>lower.CL</th><th scope=col>upper.CL</th><th scope=col>t.ratio</th><th scope=col>p.value</th></tr>\n",
       "\t<tr><th scope=col>&lt;fct&gt;</th><th scope=col>&lt;dbl&gt;</th><th scope=col>&lt;dbl&gt;</th><th scope=col>&lt;dbl&gt;</th><th scope=col>&lt;dbl&gt;</th><th scope=col>&lt;dbl&gt;</th><th scope=col>&lt;dbl&gt;</th><th scope=col>&lt;dbl&gt;</th></tr>\n",
       "</thead>\n",
       "<tbody>\n",
       "\t<tr><td>p/r - p0/r0    </td><td> 0.13069897</td><td>0.01386362</td><td>18.07609</td><td> 0.10158137</td><td> 0.159816571</td><td> 9.427478</td><td>2.113961e-08</td></tr>\n",
       "\t<tr><td>p/r - p_r/r_p  </td><td>-0.02909158</td><td>0.01431725</td><td>15.53218</td><td>-0.05951726</td><td> 0.001334106</td><td>-2.031925</td><td>5.963110e-02</td></tr>\n",
       "\t<tr><td>p0/r0 - p_r/r_p</td><td>-0.15979055</td><td>0.02009197</td><td>16.77019</td><td>-0.20222519</td><td>-0.117355909</td><td>-7.952957</td><td>4.342074e-07</td></tr>\n",
       "</tbody>\n",
       "</table>\n",
       "</dd>\n",
       "</dl>\n"
      ],
      "text/latex": [
       "\\begin{description}\n",
       "\\item[\\$emmeans] A summary_emm: 3 × 8\n",
       "\\begin{tabular}{r|llllllll}\n",
       " cond\\_amount & emmean & SE & df & lower.CL & upper.CL & t.ratio & p.value\\\\\n",
       " <fct> & <dbl> & <dbl> & <dbl> & <dbl> & <dbl> & <dbl> & <dbl>\\\\\n",
       "\\hline\n",
       "\t p/r     & 0.8343113 & 0.02474493 & 20.16368 & 0.7827211 & 0.8859015 & 33.71646 & 3.283290e-19\\\\\n",
       "\t p0/r0   & 0.7036123 & 0.02360142 & 22.60490 & 0.6547418 & 0.7524828 & 29.81229 & 1.199514e-19\\\\\n",
       "\t p\\_r/r\\_p & 0.8634029 & 0.02430352 & 18.77075 & 0.8124930 & 0.9143128 & 35.52584 & 1.120368e-18\\\\\n",
       "\\end{tabular}\n",
       "\n",
       "\\item[\\$contrasts] A summary_emm: 3 × 8\n",
       "\\begin{tabular}{r|llllllll}\n",
       " contrast & estimate & SE & df & lower.CL & upper.CL & t.ratio & p.value\\\\\n",
       " <fct> & <dbl> & <dbl> & <dbl> & <dbl> & <dbl> & <dbl> & <dbl>\\\\\n",
       "\\hline\n",
       "\t p/r - p0/r0     &  0.13069897 & 0.01386362 & 18.07609 &  0.10158137 &  0.159816571 &  9.427478 & 2.113961e-08\\\\\n",
       "\t p/r - p\\_r/r\\_p   & -0.02909158 & 0.01431725 & 15.53218 & -0.05951726 &  0.001334106 & -2.031925 & 5.963110e-02\\\\\n",
       "\t p0/r0 - p\\_r/r\\_p & -0.15979055 & 0.02009197 & 16.77019 & -0.20222519 & -0.117355909 & -7.952957 & 4.342074e-07\\\\\n",
       "\\end{tabular}\n",
       "\n",
       "\\end{description}\n"
      ],
      "text/markdown": [
       "$emmeans\n",
       ":   \n",
       "A summary_emm: 3 × 8\n",
       "\n",
       "| cond_amount &lt;fct&gt; | emmean &lt;dbl&gt; | SE &lt;dbl&gt; | df &lt;dbl&gt; | lower.CL &lt;dbl&gt; | upper.CL &lt;dbl&gt; | t.ratio &lt;dbl&gt; | p.value &lt;dbl&gt; |\n",
       "|---|---|---|---|---|---|---|---|\n",
       "| p/r     | 0.8343113 | 0.02474493 | 20.16368 | 0.7827211 | 0.8859015 | 33.71646 | 3.283290e-19 |\n",
       "| p0/r0   | 0.7036123 | 0.02360142 | 22.60490 | 0.6547418 | 0.7524828 | 29.81229 | 1.199514e-19 |\n",
       "| p_r/r_p | 0.8634029 | 0.02430352 | 18.77075 | 0.8124930 | 0.9143128 | 35.52584 | 1.120368e-18 |\n",
       "\n",
       "\n",
       "$contrasts\n",
       ":   \n",
       "A summary_emm: 3 × 8\n",
       "\n",
       "| contrast &lt;fct&gt; | estimate &lt;dbl&gt; | SE &lt;dbl&gt; | df &lt;dbl&gt; | lower.CL &lt;dbl&gt; | upper.CL &lt;dbl&gt; | t.ratio &lt;dbl&gt; | p.value &lt;dbl&gt; |\n",
       "|---|---|---|---|---|---|---|---|\n",
       "| p/r - p0/r0     |  0.13069897 | 0.01386362 | 18.07609 |  0.10158137 |  0.159816571 |  9.427478 | 2.113961e-08 |\n",
       "| p/r - p_r/r_p   | -0.02909158 | 0.01431725 | 15.53218 | -0.05951726 |  0.001334106 | -2.031925 | 5.963110e-02 |\n",
       "| p0/r0 - p_r/r_p | -0.15979055 | 0.02009197 | 16.77019 | -0.20222519 | -0.117355909 | -7.952957 | 4.342074e-07 |\n",
       "\n",
       "\n",
       "\n",
       "\n"
      ],
      "text/plain": [
       "$emmeans\n",
       " cond_amount emmean     SE   df lower.CL upper.CL t.ratio p.value\n",
       " p/r          0.834 0.0247 20.2    0.783    0.886 33.716  <.0001 \n",
       " p0/r0        0.704 0.0236 22.6    0.655    0.752 29.812  <.0001 \n",
       " p_r/r_p      0.863 0.0243 18.8    0.812    0.914 35.526  <.0001 \n",
       "\n",
       "Results are averaged over the levels of: cond_direction, story \n",
       "Degrees-of-freedom method: kenward-roger \n",
       "Confidence level used: 0.95 \n",
       "\n",
       "$contrasts\n",
       " contrast        estimate     SE   df lower.CL upper.CL t.ratio p.value\n",
       " p/r - p0/r0       0.1307 0.0139 18.1   0.1016  0.15982  9.427  <.0001 \n",
       " p/r - p_r/r_p    -0.0291 0.0143 15.5  -0.0595  0.00133 -2.032  0.0596 \n",
       " p0/r0 - p_r/r_p  -0.1598 0.0201 16.8  -0.2022 -0.11736 -7.953  <.0001 \n",
       "\n",
       "Results are averaged over the levels of: cond_direction, story \n",
       "Degrees-of-freedom method: kenward-roger \n",
       "Confidence level used: 0.95 \n"
      ]
     },
     "metadata": {},
     "output_type": "display_data"
    }
   ],
   "source": [
    "emmeans(pr_simi_other, pairwise ~ cond_amount, adjust='none') %>%\n",
    "     summary(infer = TRUE)"
   ]
  },
  {
   "cell_type": "code",
   "execution_count": 15,
   "metadata": {
    "vscode": {
     "languageId": "r"
    }
   },
   "outputs": [
    {
     "name": "stderr",
     "output_type": "stream",
     "text": [
      "NOTE: Results may be misleading due to involvement in interactions\n"
     ]
    },
    {
     "data": {
      "text/html": [
       "<dl>\n",
       "\t<dt>$emmeans</dt>\n",
       "\t\t<dd><table>\n",
       "<caption>A summary_emm: 6 × 9</caption>\n",
       "<thead>\n",
       "\t<tr><th scope=col>cond_direction</th><th scope=col>cond_amount</th><th scope=col>emmean</th><th scope=col>SE</th><th scope=col>df</th><th scope=col>lower.CL</th><th scope=col>upper.CL</th><th scope=col>t.ratio</th><th scope=col>p.value</th></tr>\n",
       "\t<tr><th scope=col>&lt;fct&gt;</th><th scope=col>&lt;fct&gt;</th><th scope=col>&lt;dbl&gt;</th><th scope=col>&lt;dbl&gt;</th><th scope=col>&lt;dbl&gt;</th><th scope=col>&lt;dbl&gt;</th><th scope=col>&lt;dbl&gt;</th><th scope=col>&lt;dbl&gt;</th><th scope=col>&lt;dbl&gt;</th></tr>\n",
       "</thead>\n",
       "<tbody>\n",
       "\t<tr><td>b</td><td>p/r    </td><td>0.8654618</td><td>0.02759576</td><td>20.07259</td><td>0.8079114</td><td>0.9230122</td><td>31.36213</td><td>1.576655e-18</td></tr>\n",
       "\t<tr><td>f</td><td>p/r    </td><td>0.8031609</td><td>0.02630596</td><td>19.04340</td><td>0.7481103</td><td>0.8582114</td><td>30.53152</td><td>1.222915e-17</td></tr>\n",
       "\t<tr><td>b</td><td>p0/r0  </td><td>0.7200383</td><td>0.03178375</td><td>24.20162</td><td>0.6544688</td><td>0.7856079</td><td>22.65429</td><td>8.344594e-18</td></tr>\n",
       "\t<tr><td>f</td><td>p0/r0  </td><td>0.6871863</td><td>0.02398012</td><td>20.60567</td><td>0.6372588</td><td>0.7371139</td><td>28.65650</td><td>4.409813e-18</td></tr>\n",
       "\t<tr><td>b</td><td>p_r/r_p</td><td>0.8699164</td><td>0.02658496</td><td>18.51780</td><td>0.8141753</td><td>0.9256576</td><td>32.72212</td><td>7.614650e-18</td></tr>\n",
       "\t<tr><td>f</td><td>p_r/r_p</td><td>0.8568893</td><td>0.02488264</td><td>18.68139</td><td>0.8047492</td><td>0.9090295</td><td>34.43723</td><td>2.302021e-18</td></tr>\n",
       "</tbody>\n",
       "</table>\n",
       "</dd>\n",
       "\t<dt>$contrasts</dt>\n",
       "\t\t<dd><table>\n",
       "<caption>A summary_emm: 3 × 9</caption>\n",
       "<thead>\n",
       "\t<tr><th scope=col>contrast</th><th scope=col>cond_amount</th><th scope=col>estimate</th><th scope=col>SE</th><th scope=col>df</th><th scope=col>lower.CL</th><th scope=col>upper.CL</th><th scope=col>t.ratio</th><th scope=col>p.value</th></tr>\n",
       "\t<tr><th scope=col>&lt;fct&gt;</th><th scope=col>&lt;fct&gt;</th><th scope=col>&lt;dbl&gt;</th><th scope=col>&lt;dbl&gt;</th><th scope=col>&lt;dbl&gt;</th><th scope=col>&lt;dbl&gt;</th><th scope=col>&lt;dbl&gt;</th><th scope=col>&lt;dbl&gt;</th><th scope=col>&lt;dbl&gt;</th></tr>\n",
       "</thead>\n",
       "<tbody>\n",
       "\t<tr><td>b - f</td><td>p/r    </td><td>0.06230090</td><td>0.02139656</td><td>18.60883</td><td> 0.01745360</td><td>0.10714821</td><td>2.9117258</td><td>0.009081147</td></tr>\n",
       "\t<tr><td>b - f</td><td>p0/r0  </td><td>0.03285199</td><td>0.03069850</td><td>24.47545</td><td>-0.03044153</td><td>0.09614551</td><td>1.0701497</td><td>0.294992367</td></tr>\n",
       "\t<tr><td>b - f</td><td>p_r/r_p</td><td>0.01302712</td><td>0.01700494</td><td>18.15378</td><td>-0.02267725</td><td>0.04873150</td><td>0.7660788</td><td>0.453476140</td></tr>\n",
       "</tbody>\n",
       "</table>\n",
       "</dd>\n",
       "</dl>\n"
      ],
      "text/latex": [
       "\\begin{description}\n",
       "\\item[\\$emmeans] A summary_emm: 6 × 9\n",
       "\\begin{tabular}{r|lllllllll}\n",
       " cond\\_direction & cond\\_amount & emmean & SE & df & lower.CL & upper.CL & t.ratio & p.value\\\\\n",
       " <fct> & <fct> & <dbl> & <dbl> & <dbl> & <dbl> & <dbl> & <dbl> & <dbl>\\\\\n",
       "\\hline\n",
       "\t b & p/r     & 0.8654618 & 0.02759576 & 20.07259 & 0.8079114 & 0.9230122 & 31.36213 & 1.576655e-18\\\\\n",
       "\t f & p/r     & 0.8031609 & 0.02630596 & 19.04340 & 0.7481103 & 0.8582114 & 30.53152 & 1.222915e-17\\\\\n",
       "\t b & p0/r0   & 0.7200383 & 0.03178375 & 24.20162 & 0.6544688 & 0.7856079 & 22.65429 & 8.344594e-18\\\\\n",
       "\t f & p0/r0   & 0.6871863 & 0.02398012 & 20.60567 & 0.6372588 & 0.7371139 & 28.65650 & 4.409813e-18\\\\\n",
       "\t b & p\\_r/r\\_p & 0.8699164 & 0.02658496 & 18.51780 & 0.8141753 & 0.9256576 & 32.72212 & 7.614650e-18\\\\\n",
       "\t f & p\\_r/r\\_p & 0.8568893 & 0.02488264 & 18.68139 & 0.8047492 & 0.9090295 & 34.43723 & 2.302021e-18\\\\\n",
       "\\end{tabular}\n",
       "\n",
       "\\item[\\$contrasts] A summary_emm: 3 × 9\n",
       "\\begin{tabular}{r|lllllllll}\n",
       " contrast & cond\\_amount & estimate & SE & df & lower.CL & upper.CL & t.ratio & p.value\\\\\n",
       " <fct> & <fct> & <dbl> & <dbl> & <dbl> & <dbl> & <dbl> & <dbl> & <dbl>\\\\\n",
       "\\hline\n",
       "\t b - f & p/r     & 0.06230090 & 0.02139656 & 18.60883 &  0.01745360 & 0.10714821 & 2.9117258 & 0.009081147\\\\\n",
       "\t b - f & p0/r0   & 0.03285199 & 0.03069850 & 24.47545 & -0.03044153 & 0.09614551 & 1.0701497 & 0.294992367\\\\\n",
       "\t b - f & p\\_r/r\\_p & 0.01302712 & 0.01700494 & 18.15378 & -0.02267725 & 0.04873150 & 0.7660788 & 0.453476140\\\\\n",
       "\\end{tabular}\n",
       "\n",
       "\\end{description}\n"
      ],
      "text/markdown": [
       "$emmeans\n",
       ":   \n",
       "A summary_emm: 6 × 9\n",
       "\n",
       "| cond_direction &lt;fct&gt; | cond_amount &lt;fct&gt; | emmean &lt;dbl&gt; | SE &lt;dbl&gt; | df &lt;dbl&gt; | lower.CL &lt;dbl&gt; | upper.CL &lt;dbl&gt; | t.ratio &lt;dbl&gt; | p.value &lt;dbl&gt; |\n",
       "|---|---|---|---|---|---|---|---|---|\n",
       "| b | p/r     | 0.8654618 | 0.02759576 | 20.07259 | 0.8079114 | 0.9230122 | 31.36213 | 1.576655e-18 |\n",
       "| f | p/r     | 0.8031609 | 0.02630596 | 19.04340 | 0.7481103 | 0.8582114 | 30.53152 | 1.222915e-17 |\n",
       "| b | p0/r0   | 0.7200383 | 0.03178375 | 24.20162 | 0.6544688 | 0.7856079 | 22.65429 | 8.344594e-18 |\n",
       "| f | p0/r0   | 0.6871863 | 0.02398012 | 20.60567 | 0.6372588 | 0.7371139 | 28.65650 | 4.409813e-18 |\n",
       "| b | p_r/r_p | 0.8699164 | 0.02658496 | 18.51780 | 0.8141753 | 0.9256576 | 32.72212 | 7.614650e-18 |\n",
       "| f | p_r/r_p | 0.8568893 | 0.02488264 | 18.68139 | 0.8047492 | 0.9090295 | 34.43723 | 2.302021e-18 |\n",
       "\n",
       "\n",
       "$contrasts\n",
       ":   \n",
       "A summary_emm: 3 × 9\n",
       "\n",
       "| contrast &lt;fct&gt; | cond_amount &lt;fct&gt; | estimate &lt;dbl&gt; | SE &lt;dbl&gt; | df &lt;dbl&gt; | lower.CL &lt;dbl&gt; | upper.CL &lt;dbl&gt; | t.ratio &lt;dbl&gt; | p.value &lt;dbl&gt; |\n",
       "|---|---|---|---|---|---|---|---|---|\n",
       "| b - f | p/r     | 0.06230090 | 0.02139656 | 18.60883 |  0.01745360 | 0.10714821 | 2.9117258 | 0.009081147 |\n",
       "| b - f | p0/r0   | 0.03285199 | 0.03069850 | 24.47545 | -0.03044153 | 0.09614551 | 1.0701497 | 0.294992367 |\n",
       "| b - f | p_r/r_p | 0.01302712 | 0.01700494 | 18.15378 | -0.02267725 | 0.04873150 | 0.7660788 | 0.453476140 |\n",
       "\n",
       "\n",
       "\n",
       "\n"
      ],
      "text/plain": [
       "$emmeans\n",
       "cond_amount = p/r:\n",
       " cond_direction emmean     SE   df lower.CL upper.CL t.ratio p.value\n",
       " b               0.865 0.0276 20.1    0.808    0.923 31.362  <.0001 \n",
       " f               0.803 0.0263 19.0    0.748    0.858 30.532  <.0001 \n",
       "\n",
       "cond_amount = p0/r0:\n",
       " cond_direction emmean     SE   df lower.CL upper.CL t.ratio p.value\n",
       " b               0.720 0.0318 24.2    0.654    0.786 22.654  <.0001 \n",
       " f               0.687 0.0240 20.6    0.637    0.737 28.657  <.0001 \n",
       "\n",
       "cond_amount = p_r/r_p:\n",
       " cond_direction emmean     SE   df lower.CL upper.CL t.ratio p.value\n",
       " b               0.870 0.0266 18.5    0.814    0.926 32.722  <.0001 \n",
       " f               0.857 0.0249 18.7    0.805    0.909 34.437  <.0001 \n",
       "\n",
       "Results are averaged over the levels of: story \n",
       "Degrees-of-freedom method: kenward-roger \n",
       "Confidence level used: 0.95 \n",
       "\n",
       "$contrasts\n",
       "cond_amount = p/r:\n",
       " contrast estimate     SE   df lower.CL upper.CL t.ratio p.value\n",
       " b - f      0.0623 0.0214 18.6   0.0175   0.1071 2.912   0.0091 \n",
       "\n",
       "cond_amount = p0/r0:\n",
       " contrast estimate     SE   df lower.CL upper.CL t.ratio p.value\n",
       " b - f      0.0329 0.0307 24.5  -0.0304   0.0961 1.070   0.2950 \n",
       "\n",
       "cond_amount = p_r/r_p:\n",
       " contrast estimate     SE   df lower.CL upper.CL t.ratio p.value\n",
       " b - f      0.0130 0.0170 18.1  -0.0227   0.0487 0.766   0.4535 \n",
       "\n",
       "Results are averaged over the levels of: story \n",
       "Degrees-of-freedom method: kenward-roger \n",
       "Confidence level used: 0.95 \n"
      ]
     },
     "metadata": {},
     "output_type": "display_data"
    }
   ],
   "source": [
    "summary(emmeans(pr_simi_other, pairwise ~ cond_direction|cond_amount), infer=TRUE)"
   ]
  },
  {
   "cell_type": "code",
   "execution_count": 18,
   "metadata": {
    "vscode": {
     "languageId": "r"
    }
   },
   "outputs": [
    {
     "name": "stderr",
     "output_type": "stream",
     "text": [
      "NOTE: Results may be misleading due to involvement in interactions\n",
      "\n"
     ]
    },
    {
     "data": {
      "text/html": [
       "<dl>\n",
       "\t<dt>$emmeans</dt>\n",
       "\t\t<dd><table class=\"dataframe\">\n",
       "<caption>A summary_emm: 2 × 8</caption>\n",
       "<thead>\n",
       "\t<tr><th></th><th scope=col>cond_direction</th><th scope=col>emmean</th><th scope=col>SE</th><th scope=col>df</th><th scope=col>lower.CL</th><th scope=col>upper.CL</th><th scope=col>t.ratio</th><th scope=col>p.value</th></tr>\n",
       "\t<tr><th></th><th scope=col>&lt;fct&gt;</th><th scope=col>&lt;dbl&gt;</th><th scope=col>&lt;dbl&gt;</th><th scope=col>&lt;dbl&gt;</th><th scope=col>&lt;dbl&gt;</th><th scope=col>&lt;dbl&gt;</th><th scope=col>&lt;dbl&gt;</th><th scope=col>&lt;dbl&gt;</th></tr>\n",
       "</thead>\n",
       "<tbody>\n",
       "\t<tr><th scope=row>1</th><td>b</td><td>0.7208481</td><td>0.03110128</td><td>23.01102</td><td>0.6565119</td><td>0.7851843</td><td>23.17744</td><td>1.876101e-17</td></tr>\n",
       "\t<tr><th scope=row>2</th><td>f</td><td>0.6877643</td><td>0.02234844</td><td>18.27165</td><td>0.6408619</td><td>0.7346666</td><td>30.77460</td><td>3.378169e-17</td></tr>\n",
       "</tbody>\n",
       "</table>\n",
       "</dd>\n",
       "\t<dt>$contrasts</dt>\n",
       "\t\t<dd><table class=\"dataframe\">\n",
       "<caption>A summary_emm: 1 × 8</caption>\n",
       "<thead>\n",
       "\t<tr><th></th><th scope=col>contrast</th><th scope=col>estimate</th><th scope=col>SE</th><th scope=col>df</th><th scope=col>lower.CL</th><th scope=col>upper.CL</th><th scope=col>t.ratio</th><th scope=col>p.value</th></tr>\n",
       "\t<tr><th></th><th scope=col>&lt;chr&gt;</th><th scope=col>&lt;dbl&gt;</th><th scope=col>&lt;dbl&gt;</th><th scope=col>&lt;dbl&gt;</th><th scope=col>&lt;dbl&gt;</th><th scope=col>&lt;dbl&gt;</th><th scope=col>&lt;dbl&gt;</th><th scope=col>&lt;dbl&gt;</th></tr>\n",
       "</thead>\n",
       "<tbody>\n",
       "\t<tr><th scope=row>1</th><td>b - f</td><td>0.03308385</td><td>0.03025934</td><td>20.9288</td><td>-0.02985692</td><td>0.09602462</td><td>1.093344</td><td>0.2866683</td></tr>\n",
       "</tbody>\n",
       "</table>\n",
       "</dd>\n",
       "</dl>\n"
      ],
      "text/latex": [
       "\\begin{description}\n",
       "\\item[\\$emmeans] A summary\\_emm: 2 × 8\n",
       "\\begin{tabular}{r|llllllll}\n",
       "  & cond\\_direction & emmean & SE & df & lower.CL & upper.CL & t.ratio & p.value\\\\\n",
       "  & <fct> & <dbl> & <dbl> & <dbl> & <dbl> & <dbl> & <dbl> & <dbl>\\\\\n",
       "\\hline\n",
       "\t1 & b & 0.7208481 & 0.03110128 & 23.01102 & 0.6565119 & 0.7851843 & 23.17744 & 1.876101e-17\\\\\n",
       "\t2 & f & 0.6877643 & 0.02234844 & 18.27165 & 0.6408619 & 0.7346666 & 30.77460 & 3.378169e-17\\\\\n",
       "\\end{tabular}\n",
       "\n",
       "\\item[\\$contrasts] A summary\\_emm: 1 × 8\n",
       "\\begin{tabular}{r|llllllll}\n",
       "  & contrast & estimate & SE & df & lower.CL & upper.CL & t.ratio & p.value\\\\\n",
       "  & <chr> & <dbl> & <dbl> & <dbl> & <dbl> & <dbl> & <dbl> & <dbl>\\\\\n",
       "\\hline\n",
       "\t1 & b - f & 0.03308385 & 0.03025934 & 20.9288 & -0.02985692 & 0.09602462 & 1.093344 & 0.2866683\\\\\n",
       "\\end{tabular}\n",
       "\n",
       "\\end{description}\n"
      ],
      "text/markdown": [
       "$emmeans\n",
       ":   \n",
       "A summary_emm: 2 × 8\n",
       "\n",
       "| <!--/--> | cond_direction &lt;fct&gt; | emmean &lt;dbl&gt; | SE &lt;dbl&gt; | df &lt;dbl&gt; | lower.CL &lt;dbl&gt; | upper.CL &lt;dbl&gt; | t.ratio &lt;dbl&gt; | p.value &lt;dbl&gt; |\n",
       "|---|---|---|---|---|---|---|---|---|\n",
       "| 1 | b | 0.7208481 | 0.03110128 | 23.01102 | 0.6565119 | 0.7851843 | 23.17744 | 1.876101e-17 |\n",
       "| 2 | f | 0.6877643 | 0.02234844 | 18.27165 | 0.6408619 | 0.7346666 | 30.77460 | 3.378169e-17 |\n",
       "\n",
       "\n",
       "$contrasts\n",
       ":   \n",
       "A summary_emm: 1 × 8\n",
       "\n",
       "| <!--/--> | contrast &lt;chr&gt; | estimate &lt;dbl&gt; | SE &lt;dbl&gt; | df &lt;dbl&gt; | lower.CL &lt;dbl&gt; | upper.CL &lt;dbl&gt; | t.ratio &lt;dbl&gt; | p.value &lt;dbl&gt; |\n",
       "|---|---|---|---|---|---|---|---|---|\n",
       "| 1 | b - f | 0.03308385 | 0.03025934 | 20.9288 | -0.02985692 | 0.09602462 | 1.093344 | 0.2866683 |\n",
       "\n",
       "\n",
       "\n",
       "\n"
      ],
      "text/plain": [
       "$emmeans\n",
       " cond_direction emmean     SE   df lower.CL upper.CL t.ratio p.value\n",
       " b               0.721 0.0311 23.0    0.657    0.785  23.177  <.0001\n",
       " f               0.688 0.0223 18.3    0.641    0.735  30.775  <.0001\n",
       "\n",
       "Results are averaged over the levels of: story \n",
       "Degrees-of-freedom method: kenward-roger \n",
       "Confidence level used: 0.95 \n",
       "\n",
       "$contrasts\n",
       " contrast estimate     SE   df lower.CL upper.CL t.ratio p.value\n",
       " b - f      0.0331 0.0303 20.9  -0.0299    0.096   1.093  0.2867\n",
       "\n",
       "Results are averaged over the levels of: story \n",
       "Degrees-of-freedom method: kenward-roger \n",
       "Confidence level used: 0.95 \n"
      ]
     },
     "metadata": {},
     "output_type": "display_data"
    }
   ],
   "source": [
    "emmeans(p0r0_simi_other, pairwise ~ cond_direction, adjust='none') %>%\n",
    "     summary(infer = TRUE)"
   ]
  },
  {
   "cell_type": "code",
   "execution_count": 19,
   "metadata": {
    "vscode": {
     "languageId": "r"
    }
   },
   "outputs": [
    {
     "name": "stderr",
     "output_type": "stream",
     "text": [
      "NOTE: Results may be misleading due to involvement in interactions\n",
      "\n"
     ]
    },
    {
     "data": {
      "text/html": [
       "<dl>\n",
       "\t<dt>$emmeans</dt>\n",
       "\t\t<dd><table class=\"dataframe\">\n",
       "<caption>A summary_emm: 2 × 8</caption>\n",
       "<thead>\n",
       "\t<tr><th></th><th scope=col>cond_direction</th><th scope=col>emmean</th><th scope=col>SE</th><th scope=col>df</th><th scope=col>lower.CL</th><th scope=col>upper.CL</th><th scope=col>t.ratio</th><th scope=col>p.value</th></tr>\n",
       "\t<tr><th></th><th scope=col>&lt;fct&gt;</th><th scope=col>&lt;dbl&gt;</th><th scope=col>&lt;dbl&gt;</th><th scope=col>&lt;dbl&gt;</th><th scope=col>&lt;dbl&gt;</th><th scope=col>&lt;dbl&gt;</th><th scope=col>&lt;dbl&gt;</th><th scope=col>&lt;dbl&gt;</th></tr>\n",
       "</thead>\n",
       "<tbody>\n",
       "\t<tr><th scope=row>1</th><td>b</td><td>0.8673054</td><td>0.02728444</td><td>19.72060</td><td>0.8103393</td><td>0.9242715</td><td>31.78755</td><td>2.055450e-18</td></tr>\n",
       "\t<tr><th scope=row>2</th><td>f</td><td>0.8047099</td><td>0.02601836</td><td>18.61832</td><td>0.7501772</td><td>0.8592426</td><td>30.92854</td><td>1.824222e-17</td></tr>\n",
       "</tbody>\n",
       "</table>\n",
       "</dd>\n",
       "\t<dt>$contrasts</dt>\n",
       "\t\t<dd><table class=\"dataframe\">\n",
       "<caption>A summary_emm: 1 × 8</caption>\n",
       "<thead>\n",
       "\t<tr><th></th><th scope=col>contrast</th><th scope=col>estimate</th><th scope=col>SE</th><th scope=col>df</th><th scope=col>lower.CL</th><th scope=col>upper.CL</th><th scope=col>t.ratio</th><th scope=col>p.value</th></tr>\n",
       "\t<tr><th></th><th scope=col>&lt;chr&gt;</th><th scope=col>&lt;dbl&gt;</th><th scope=col>&lt;dbl&gt;</th><th scope=col>&lt;dbl&gt;</th><th scope=col>&lt;dbl&gt;</th><th scope=col>&lt;dbl&gt;</th><th scope=col>&lt;dbl&gt;</th><th scope=col>&lt;dbl&gt;</th></tr>\n",
       "</thead>\n",
       "<tbody>\n",
       "\t<tr><th scope=row>1</th><td>b - f</td><td>0.06259553</td><td>0.02082052</td><td>20.76031</td><td>0.01926643</td><td>0.1059246</td><td>3.006435</td><td>0.006779998</td></tr>\n",
       "</tbody>\n",
       "</table>\n",
       "</dd>\n",
       "</dl>\n"
      ],
      "text/latex": [
       "\\begin{description}\n",
       "\\item[\\$emmeans] A summary\\_emm: 2 × 8\n",
       "\\begin{tabular}{r|llllllll}\n",
       "  & cond\\_direction & emmean & SE & df & lower.CL & upper.CL & t.ratio & p.value\\\\\n",
       "  & <fct> & <dbl> & <dbl> & <dbl> & <dbl> & <dbl> & <dbl> & <dbl>\\\\\n",
       "\\hline\n",
       "\t1 & b & 0.8673054 & 0.02728444 & 19.72060 & 0.8103393 & 0.9242715 & 31.78755 & 2.055450e-18\\\\\n",
       "\t2 & f & 0.8047099 & 0.02601836 & 18.61832 & 0.7501772 & 0.8592426 & 30.92854 & 1.824222e-17\\\\\n",
       "\\end{tabular}\n",
       "\n",
       "\\item[\\$contrasts] A summary\\_emm: 1 × 8\n",
       "\\begin{tabular}{r|llllllll}\n",
       "  & contrast & estimate & SE & df & lower.CL & upper.CL & t.ratio & p.value\\\\\n",
       "  & <chr> & <dbl> & <dbl> & <dbl> & <dbl> & <dbl> & <dbl> & <dbl>\\\\\n",
       "\\hline\n",
       "\t1 & b - f & 0.06259553 & 0.02082052 & 20.76031 & 0.01926643 & 0.1059246 & 3.006435 & 0.006779998\\\\\n",
       "\\end{tabular}\n",
       "\n",
       "\\end{description}\n"
      ],
      "text/markdown": [
       "$emmeans\n",
       ":   \n",
       "A summary_emm: 2 × 8\n",
       "\n",
       "| <!--/--> | cond_direction &lt;fct&gt; | emmean &lt;dbl&gt; | SE &lt;dbl&gt; | df &lt;dbl&gt; | lower.CL &lt;dbl&gt; | upper.CL &lt;dbl&gt; | t.ratio &lt;dbl&gt; | p.value &lt;dbl&gt; |\n",
       "|---|---|---|---|---|---|---|---|---|\n",
       "| 1 | b | 0.8673054 | 0.02728444 | 19.72060 | 0.8103393 | 0.9242715 | 31.78755 | 2.055450e-18 |\n",
       "| 2 | f | 0.8047099 | 0.02601836 | 18.61832 | 0.7501772 | 0.8592426 | 30.92854 | 1.824222e-17 |\n",
       "\n",
       "\n",
       "$contrasts\n",
       ":   \n",
       "A summary_emm: 1 × 8\n",
       "\n",
       "| <!--/--> | contrast &lt;chr&gt; | estimate &lt;dbl&gt; | SE &lt;dbl&gt; | df &lt;dbl&gt; | lower.CL &lt;dbl&gt; | upper.CL &lt;dbl&gt; | t.ratio &lt;dbl&gt; | p.value &lt;dbl&gt; |\n",
       "|---|---|---|---|---|---|---|---|---|\n",
       "| 1 | b - f | 0.06259553 | 0.02082052 | 20.76031 | 0.01926643 | 0.1059246 | 3.006435 | 0.006779998 |\n",
       "\n",
       "\n",
       "\n",
       "\n"
      ],
      "text/plain": [
       "$emmeans\n",
       " cond_direction emmean     SE   df lower.CL upper.CL t.ratio p.value\n",
       " b               0.867 0.0273 19.7     0.81    0.924  31.788  <.0001\n",
       " f               0.805 0.0260 18.6     0.75    0.859  30.929  <.0001\n",
       "\n",
       "Results are averaged over the levels of: story \n",
       "Degrees-of-freedom method: kenward-roger \n",
       "Confidence level used: 0.95 \n",
       "\n",
       "$contrasts\n",
       " contrast estimate     SE   df lower.CL upper.CL t.ratio p.value\n",
       " b - f      0.0626 0.0208 20.8   0.0193    0.106   3.006  0.0068\n",
       "\n",
       "Results are averaged over the levels of: story \n",
       "Degrees-of-freedom method: kenward-roger \n",
       "Confidence level used: 0.95 \n"
      ]
     },
     "metadata": {},
     "output_type": "display_data"
    }
   ],
   "source": [
    "emmeans(cpr_simi_other, pairwise ~ cond_direction, adjust='none') %>%\n",
    "     summary(infer = TRUE)"
   ]
  },
  {
   "cell_type": "markdown",
   "metadata": {},
   "source": [
    "## convergence"
   ]
  },
  {
   "cell_type": "code",
   "execution_count": 19,
   "metadata": {
    "vscode": {
     "languageId": "r"
    }
   },
   "outputs": [],
   "source": [
    "pr_recall_MD <- readRDS(\"../stats_models/main/pr_recall_MD.rds\")\n",
    "\n",
    "p0r0_MD <- readRDS(\"../stats_models/main/p0r0_MD.rds\")\n",
    "cpr_MD <- readRDS(\"../stats_models/main/cpr_MD.rds\")\n",
    "recall_MD <- readRDS(\"../stats_models/main/recall_MD.rds\")"
   ]
  },
  {
   "cell_type": "code",
   "execution_count": 3,
   "metadata": {
    "vscode": {
     "languageId": "r"
    }
   },
   "outputs": [
    {
     "name": "stderr",
     "output_type": "stream",
     "text": [
      "NOTE: Results may be misleading due to involvement in interactions\n"
     ]
    },
    {
     "data": {
      "text/html": [
       "<dl>\n",
       "\t<dt>$emmeans</dt>\n",
       "\t\t<dd><table>\n",
       "<caption>A summary_emm: 4 × 8</caption>\n",
       "<thead>\n",
       "\t<tr><th scope=col>cond_amount</th><th scope=col>emmean</th><th scope=col>SE</th><th scope=col>df</th><th scope=col>lower.CL</th><th scope=col>upper.CL</th><th scope=col>t.ratio</th><th scope=col>p.value</th></tr>\n",
       "\t<tr><th scope=col>&lt;fct&gt;</th><th scope=col>&lt;dbl&gt;</th><th scope=col>&lt;dbl&gt;</th><th scope=col>&lt;dbl&gt;</th><th scope=col>&lt;dbl&gt;</th><th scope=col>&lt;dbl&gt;</th><th scope=col>&lt;dbl&gt;</th><th scope=col>&lt;dbl&gt;</th></tr>\n",
       "</thead>\n",
       "<tbody>\n",
       "\t<tr><td>p/r              </td><td>0.9051715</td><td>0.02180915</td><td>18.97245</td><td>0.8595200</td><td>0.9508231</td><td>41.50420</td><td>4.360949e-20</td></tr>\n",
       "\t<tr><td>p0/r0            </td><td>0.7926853</td><td>0.02524209</td><td>18.62915</td><td>0.7397817</td><td>0.8455888</td><td>31.40332</td><td>1.358018e-17</td></tr>\n",
       "\t<tr><td>p_r/r_p          </td><td>0.9437376</td><td>0.01953355</td><td>18.27740</td><td>0.9027437</td><td>0.9847315</td><td>48.31367</td><td>9.715198e-21</td></tr>\n",
       "\t<tr><td>p_recall/r_recall</td><td>1.1074075</td><td>0.01907591</td><td>22.83931</td><td>1.0679306</td><td>1.1468844</td><td>58.05268</td><td>2.611592e-26</td></tr>\n",
       "</tbody>\n",
       "</table>\n",
       "</dd>\n",
       "\t<dt>$contrasts</dt>\n",
       "\t\t<dd><table>\n",
       "<caption>A summary_emm: 6 × 8</caption>\n",
       "<thead>\n",
       "\t<tr><th scope=col>contrast</th><th scope=col>estimate</th><th scope=col>SE</th><th scope=col>df</th><th scope=col>lower.CL</th><th scope=col>upper.CL</th><th scope=col>t.ratio</th><th scope=col>p.value</th></tr>\n",
       "\t<tr><th scope=col>&lt;fct&gt;</th><th scope=col>&lt;dbl&gt;</th><th scope=col>&lt;dbl&gt;</th><th scope=col>&lt;dbl&gt;</th><th scope=col>&lt;dbl&gt;</th><th scope=col>&lt;dbl&gt;</th><th scope=col>&lt;dbl&gt;</th><th scope=col>&lt;dbl&gt;</th></tr>\n",
       "</thead>\n",
       "<tbody>\n",
       "\t<tr><td>p/r - p0/r0                </td><td> 0.11248627</td><td>0.01810218</td><td>18.62277</td><td> 0.07454596</td><td> 0.150426582</td><td> 6.213963</td><td>6.257708e-06</td></tr>\n",
       "\t<tr><td>p/r - p_r/r_p              </td><td>-0.03856604</td><td>0.02297832</td><td>16.92878</td><td>-0.08706161</td><td> 0.009929521</td><td>-1.678366</td><td>1.116382e-01</td></tr>\n",
       "\t<tr><td>p/r - p_recall/r_recall    </td><td>-0.20223593</td><td>0.02222564</td><td>19.42813</td><td>-0.24868545</td><td>-0.155786404</td><td>-9.099216</td><td>1.941996e-08</td></tr>\n",
       "\t<tr><td>p0/r0 - p_r/r_p            </td><td>-0.15105231</td><td>0.02986811</td><td>17.05073</td><td>-0.21405424</td><td>-0.088050391</td><td>-5.057311</td><td>9.635165e-05</td></tr>\n",
       "\t<tr><td>p0/r0 - p_recall/r_recall  </td><td>-0.31472220</td><td>0.03280789</td><td>19.97945</td><td>-0.38316277</td><td>-0.246281626</td><td>-9.592882</td><td>6.396190e-09</td></tr>\n",
       "\t<tr><td>p_r/r_p - p_recall/r_recall</td><td>-0.16366988</td><td>0.02362950</td><td>18.34009</td><td>-0.21324772</td><td>-0.114092042</td><td>-6.926505</td><td>1.613866e-06</td></tr>\n",
       "</tbody>\n",
       "</table>\n",
       "</dd>\n",
       "</dl>\n"
      ],
      "text/latex": [
       "\\begin{description}\n",
       "\\item[\\$emmeans] A summary_emm: 4 × 8\n",
       "\\begin{tabular}{r|llllllll}\n",
       " cond\\_amount & emmean & SE & df & lower.CL & upper.CL & t.ratio & p.value\\\\\n",
       " <fct> & <dbl> & <dbl> & <dbl> & <dbl> & <dbl> & <dbl> & <dbl>\\\\\n",
       "\\hline\n",
       "\t p/r               & 0.9051715 & 0.02180915 & 18.97245 & 0.8595200 & 0.9508231 & 41.50420 & 4.360949e-20\\\\\n",
       "\t p0/r0             & 0.7926853 & 0.02524209 & 18.62915 & 0.7397817 & 0.8455888 & 31.40332 & 1.358018e-17\\\\\n",
       "\t p\\_r/r\\_p           & 0.9437376 & 0.01953355 & 18.27740 & 0.9027437 & 0.9847315 & 48.31367 & 9.715198e-21\\\\\n",
       "\t p\\_recall/r\\_recall & 1.1074075 & 0.01907591 & 22.83931 & 1.0679306 & 1.1468844 & 58.05268 & 2.611592e-26\\\\\n",
       "\\end{tabular}\n",
       "\n",
       "\\item[\\$contrasts] A summary_emm: 6 × 8\n",
       "\\begin{tabular}{r|llllllll}\n",
       " contrast & estimate & SE & df & lower.CL & upper.CL & t.ratio & p.value\\\\\n",
       " <fct> & <dbl> & <dbl> & <dbl> & <dbl> & <dbl> & <dbl> & <dbl>\\\\\n",
       "\\hline\n",
       "\t p/r - p0/r0                 &  0.11248627 & 0.01810218 & 18.62277 &  0.07454596 &  0.150426582 &  6.213963 & 6.257708e-06\\\\\n",
       "\t p/r - p\\_r/r\\_p               & -0.03856604 & 0.02297832 & 16.92878 & -0.08706161 &  0.009929521 & -1.678366 & 1.116382e-01\\\\\n",
       "\t p/r - p\\_recall/r\\_recall     & -0.20223593 & 0.02222564 & 19.42813 & -0.24868545 & -0.155786404 & -9.099216 & 1.941996e-08\\\\\n",
       "\t p0/r0 - p\\_r/r\\_p             & -0.15105231 & 0.02986811 & 17.05073 & -0.21405424 & -0.088050391 & -5.057311 & 9.635165e-05\\\\\n",
       "\t p0/r0 - p\\_recall/r\\_recall   & -0.31472220 & 0.03280789 & 19.97945 & -0.38316277 & -0.246281626 & -9.592882 & 6.396190e-09\\\\\n",
       "\t p\\_r/r\\_p - p\\_recall/r\\_recall & -0.16366988 & 0.02362950 & 18.34009 & -0.21324772 & -0.114092042 & -6.926505 & 1.613866e-06\\\\\n",
       "\\end{tabular}\n",
       "\n",
       "\\end{description}\n"
      ],
      "text/markdown": [
       "$emmeans\n",
       ":   \n",
       "A summary_emm: 4 × 8\n",
       "\n",
       "| cond_amount &lt;fct&gt; | emmean &lt;dbl&gt; | SE &lt;dbl&gt; | df &lt;dbl&gt; | lower.CL &lt;dbl&gt; | upper.CL &lt;dbl&gt; | t.ratio &lt;dbl&gt; | p.value &lt;dbl&gt; |\n",
       "|---|---|---|---|---|---|---|---|\n",
       "| p/r               | 0.9051715 | 0.02180915 | 18.97245 | 0.8595200 | 0.9508231 | 41.50420 | 4.360949e-20 |\n",
       "| p0/r0             | 0.7926853 | 0.02524209 | 18.62915 | 0.7397817 | 0.8455888 | 31.40332 | 1.358018e-17 |\n",
       "| p_r/r_p           | 0.9437376 | 0.01953355 | 18.27740 | 0.9027437 | 0.9847315 | 48.31367 | 9.715198e-21 |\n",
       "| p_recall/r_recall | 1.1074075 | 0.01907591 | 22.83931 | 1.0679306 | 1.1468844 | 58.05268 | 2.611592e-26 |\n",
       "\n",
       "\n",
       "$contrasts\n",
       ":   \n",
       "A summary_emm: 6 × 8\n",
       "\n",
       "| contrast &lt;fct&gt; | estimate &lt;dbl&gt; | SE &lt;dbl&gt; | df &lt;dbl&gt; | lower.CL &lt;dbl&gt; | upper.CL &lt;dbl&gt; | t.ratio &lt;dbl&gt; | p.value &lt;dbl&gt; |\n",
       "|---|---|---|---|---|---|---|---|\n",
       "| p/r - p0/r0                 |  0.11248627 | 0.01810218 | 18.62277 |  0.07454596 |  0.150426582 |  6.213963 | 6.257708e-06 |\n",
       "| p/r - p_r/r_p               | -0.03856604 | 0.02297832 | 16.92878 | -0.08706161 |  0.009929521 | -1.678366 | 1.116382e-01 |\n",
       "| p/r - p_recall/r_recall     | -0.20223593 | 0.02222564 | 19.42813 | -0.24868545 | -0.155786404 | -9.099216 | 1.941996e-08 |\n",
       "| p0/r0 - p_r/r_p             | -0.15105231 | 0.02986811 | 17.05073 | -0.21405424 | -0.088050391 | -5.057311 | 9.635165e-05 |\n",
       "| p0/r0 - p_recall/r_recall   | -0.31472220 | 0.03280789 | 19.97945 | -0.38316277 | -0.246281626 | -9.592882 | 6.396190e-09 |\n",
       "| p_r/r_p - p_recall/r_recall | -0.16366988 | 0.02362950 | 18.34009 | -0.21324772 | -0.114092042 | -6.926505 | 1.613866e-06 |\n",
       "\n",
       "\n",
       "\n",
       "\n"
      ],
      "text/plain": [
       "$emmeans\n",
       " cond_amount       emmean     SE   df lower.CL upper.CL t.ratio p.value\n",
       " p/r                0.905 0.0218 19.0    0.860    0.951 41.504  <.0001 \n",
       " p0/r0              0.793 0.0252 18.6    0.740    0.846 31.403  <.0001 \n",
       " p_r/r_p            0.944 0.0195 18.3    0.903    0.985 48.314  <.0001 \n",
       " p_recall/r_recall  1.107 0.0191 22.8    1.068    1.147 58.053  <.0001 \n",
       "\n",
       "Results are averaged over the levels of: cond_direction, story \n",
       "Degrees-of-freedom method: kenward-roger \n",
       "Confidence level used: 0.95 \n",
       "\n",
       "$contrasts\n",
       " contrast                    estimate     SE   df lower.CL upper.CL t.ratio\n",
       " p/r - p0/r0                   0.1125 0.0181 18.6   0.0745  0.15043  6.214 \n",
       " p/r - p_r/r_p                -0.0386 0.0230 16.9  -0.0871  0.00993 -1.678 \n",
       " p/r - p_recall/r_recall      -0.2022 0.0222 19.4  -0.2487 -0.15579 -9.099 \n",
       " p0/r0 - p_r/r_p              -0.1511 0.0299 17.1  -0.2141 -0.08805 -5.057 \n",
       " p0/r0 - p_recall/r_recall    -0.3147 0.0328 20.0  -0.3832 -0.24628 -9.593 \n",
       " p_r/r_p - p_recall/r_recall  -0.1637 0.0236 18.3  -0.2132 -0.11409 -6.927 \n",
       " p.value\n",
       " <.0001 \n",
       " 0.1116 \n",
       " <.0001 \n",
       " 0.0001 \n",
       " <.0001 \n",
       " <.0001 \n",
       "\n",
       "Results are averaged over the levels of: cond_direction, story \n",
       "Degrees-of-freedom method: kenward-roger \n",
       "Confidence level used: 0.95 \n"
      ]
     },
     "metadata": {},
     "output_type": "display_data"
    }
   ],
   "source": [
    "emmeans(pr_recall_MD, pairwise ~ cond_amount, adjust='none') %>%\n",
    "     summary(infer = TRUE)"
   ]
  },
  {
   "cell_type": "code",
   "execution_count": 25,
   "metadata": {
    "vscode": {
     "languageId": "r"
    }
   },
   "outputs": [
    {
     "name": "stderr",
     "output_type": "stream",
     "text": [
      "NOTE: Results may be misleading due to involvement in interactions\n"
     ]
    },
    {
     "data": {
      "text/html": [
       "<dl>\n",
       "\t<dt>$emmeans</dt>\n",
       "\t\t<dd><table>\n",
       "<caption>A summary_emm: 8 × 9</caption>\n",
       "<thead>\n",
       "\t<tr><th scope=col>cond_direction</th><th scope=col>cond_amount</th><th scope=col>emmean</th><th scope=col>SE</th><th scope=col>df</th><th scope=col>lower.CL</th><th scope=col>upper.CL</th><th scope=col>t.ratio</th><th scope=col>p.value</th></tr>\n",
       "\t<tr><th scope=col>&lt;fct&gt;</th><th scope=col>&lt;fct&gt;</th><th scope=col>&lt;dbl&gt;</th><th scope=col>&lt;dbl&gt;</th><th scope=col>&lt;dbl&gt;</th><th scope=col>&lt;dbl&gt;</th><th scope=col>&lt;dbl&gt;</th><th scope=col>&lt;dbl&gt;</th><th scope=col>&lt;dbl&gt;</th></tr>\n",
       "</thead>\n",
       "<tbody>\n",
       "\t<tr><td>b</td><td>p/r              </td><td>0.9217544</td><td>0.02696964</td><td>18.06411</td><td>0.8651077</td><td>0.9784011</td><td>34.17748</td><td>7.183167e-18</td></tr>\n",
       "\t<tr><td>f</td><td>p/r              </td><td>0.8885887</td><td>0.02559919</td><td>18.27222</td><td>0.8348642</td><td>0.9423132</td><td>34.71160</td><td>3.875279e-18</td></tr>\n",
       "\t<tr><td>b</td><td>p0/r0            </td><td>0.8098479</td><td>0.03504497</td><td>19.37184</td><td>0.7365931</td><td>0.8831027</td><td>23.10882</td><td>1.440170e-15</td></tr>\n",
       "\t<tr><td>f</td><td>p0/r0            </td><td>0.7755227</td><td>0.02882527</td><td>17.20937</td><td>0.7147630</td><td>0.8362824</td><td>26.90426</td><td>1.665570e-15</td></tr>\n",
       "\t<tr><td>b</td><td>p_r/r_p          </td><td>0.9401923</td><td>0.02764376</td><td>16.46306</td><td>0.8817238</td><td>0.9986607</td><td>34.01101</td><td>1.091200e-16</td></tr>\n",
       "\t<tr><td>f</td><td>p_r/r_p          </td><td>0.9472829</td><td>0.02361140</td><td>18.02774</td><td>0.8976827</td><td>0.9968831</td><td>40.11973</td><td>4.390283e-19</td></tr>\n",
       "\t<tr><td>b</td><td>p_recall/r_recall</td><td>1.1237154</td><td>0.02303367</td><td>22.95122</td><td>1.0760610</td><td>1.1713698</td><td>48.78578</td><td>1.092913e-24</td></tr>\n",
       "\t<tr><td>f</td><td>p_recall/r_recall</td><td>1.0910995</td><td>0.01938662</td><td>23.12118</td><td>1.0510069</td><td>1.1311922</td><td>56.28106</td><td>3.009511e-26</td></tr>\n",
       "</tbody>\n",
       "</table>\n",
       "</dd>\n",
       "\t<dt>$contrasts</dt>\n",
       "\t\t<dd><table>\n",
       "<caption>A summary_emm: 4 × 9</caption>\n",
       "<thead>\n",
       "\t<tr><th scope=col>contrast</th><th scope=col>cond_amount</th><th scope=col>estimate</th><th scope=col>SE</th><th scope=col>df</th><th scope=col>lower.CL</th><th scope=col>upper.CL</th><th scope=col>t.ratio</th><th scope=col>p.value</th></tr>\n",
       "\t<tr><th scope=col>&lt;fct&gt;</th><th scope=col>&lt;fct&gt;</th><th scope=col>&lt;dbl&gt;</th><th scope=col>&lt;dbl&gt;</th><th scope=col>&lt;dbl&gt;</th><th scope=col>&lt;dbl&gt;</th><th scope=col>&lt;dbl&gt;</th><th scope=col>&lt;dbl&gt;</th><th scope=col>&lt;dbl&gt;</th></tr>\n",
       "</thead>\n",
       "<tbody>\n",
       "\t<tr><td>b - f</td><td>p/r              </td><td> 0.033165656</td><td>0.02937351</td><td>17.33545</td><td>-0.028715815</td><td>0.09504713</td><td> 1.1291007</td><td>0.27423832</td></tr>\n",
       "\t<tr><td>b - f</td><td>p0/r0            </td><td> 0.034325196</td><td>0.03961618</td><td>19.06791</td><td>-0.048572430</td><td>0.11722282</td><td> 0.8664439</td><td>0.39701877</td></tr>\n",
       "\t<tr><td>b - f</td><td>p_r/r_p          </td><td>-0.007090649</td><td>0.03342324</td><td>16.11298</td><td>-0.077904388</td><td>0.06372309</td><td>-0.2121473</td><td>0.83465249</td></tr>\n",
       "\t<tr><td>b - f</td><td>p_recall/r_recall</td><td> 0.032615855</td><td>0.01890029</td><td>24.30640</td><td>-0.006366415</td><td>0.07159813</td><td> 1.7256804</td><td>0.09709805</td></tr>\n",
       "</tbody>\n",
       "</table>\n",
       "</dd>\n",
       "</dl>\n"
      ],
      "text/latex": [
       "\\begin{description}\n",
       "\\item[\\$emmeans] A summary_emm: 8 × 9\n",
       "\\begin{tabular}{r|lllllllll}\n",
       " cond\\_direction & cond\\_amount & emmean & SE & df & lower.CL & upper.CL & t.ratio & p.value\\\\\n",
       " <fct> & <fct> & <dbl> & <dbl> & <dbl> & <dbl> & <dbl> & <dbl> & <dbl>\\\\\n",
       "\\hline\n",
       "\t b & p/r               & 0.9217544 & 0.02696964 & 18.06411 & 0.8651077 & 0.9784011 & 34.17748 & 7.183167e-18\\\\\n",
       "\t f & p/r               & 0.8885887 & 0.02559919 & 18.27222 & 0.8348642 & 0.9423132 & 34.71160 & 3.875279e-18\\\\\n",
       "\t b & p0/r0             & 0.8098479 & 0.03504497 & 19.37184 & 0.7365931 & 0.8831027 & 23.10882 & 1.440170e-15\\\\\n",
       "\t f & p0/r0             & 0.7755227 & 0.02882527 & 17.20937 & 0.7147630 & 0.8362824 & 26.90426 & 1.665570e-15\\\\\n",
       "\t b & p\\_r/r\\_p           & 0.9401923 & 0.02764376 & 16.46306 & 0.8817238 & 0.9986607 & 34.01101 & 1.091200e-16\\\\\n",
       "\t f & p\\_r/r\\_p           & 0.9472829 & 0.02361140 & 18.02774 & 0.8976827 & 0.9968831 & 40.11973 & 4.390283e-19\\\\\n",
       "\t b & p\\_recall/r\\_recall & 1.1237154 & 0.02303367 & 22.95122 & 1.0760610 & 1.1713698 & 48.78578 & 1.092913e-24\\\\\n",
       "\t f & p\\_recall/r\\_recall & 1.0910995 & 0.01938662 & 23.12118 & 1.0510069 & 1.1311922 & 56.28106 & 3.009511e-26\\\\\n",
       "\\end{tabular}\n",
       "\n",
       "\\item[\\$contrasts] A summary_emm: 4 × 9\n",
       "\\begin{tabular}{r|lllllllll}\n",
       " contrast & cond\\_amount & estimate & SE & df & lower.CL & upper.CL & t.ratio & p.value\\\\\n",
       " <fct> & <fct> & <dbl> & <dbl> & <dbl> & <dbl> & <dbl> & <dbl> & <dbl>\\\\\n",
       "\\hline\n",
       "\t b - f & p/r               &  0.033165656 & 0.02937351 & 17.33545 & -0.028715815 & 0.09504713 &  1.1291007 & 0.27423832\\\\\n",
       "\t b - f & p0/r0             &  0.034325196 & 0.03961618 & 19.06791 & -0.048572430 & 0.11722282 &  0.8664439 & 0.39701877\\\\\n",
       "\t b - f & p\\_r/r\\_p           & -0.007090649 & 0.03342324 & 16.11298 & -0.077904388 & 0.06372309 & -0.2121473 & 0.83465249\\\\\n",
       "\t b - f & p\\_recall/r\\_recall &  0.032615855 & 0.01890029 & 24.30640 & -0.006366415 & 0.07159813 &  1.7256804 & 0.09709805\\\\\n",
       "\\end{tabular}\n",
       "\n",
       "\\end{description}\n"
      ],
      "text/markdown": [
       "$emmeans\n",
       ":   \n",
       "A summary_emm: 8 × 9\n",
       "\n",
       "| cond_direction &lt;fct&gt; | cond_amount &lt;fct&gt; | emmean &lt;dbl&gt; | SE &lt;dbl&gt; | df &lt;dbl&gt; | lower.CL &lt;dbl&gt; | upper.CL &lt;dbl&gt; | t.ratio &lt;dbl&gt; | p.value &lt;dbl&gt; |\n",
       "|---|---|---|---|---|---|---|---|---|\n",
       "| b | p/r               | 0.9217544 | 0.02696964 | 18.06411 | 0.8651077 | 0.9784011 | 34.17748 | 7.183167e-18 |\n",
       "| f | p/r               | 0.8885887 | 0.02559919 | 18.27222 | 0.8348642 | 0.9423132 | 34.71160 | 3.875279e-18 |\n",
       "| b | p0/r0             | 0.8098479 | 0.03504497 | 19.37184 | 0.7365931 | 0.8831027 | 23.10882 | 1.440170e-15 |\n",
       "| f | p0/r0             | 0.7755227 | 0.02882527 | 17.20937 | 0.7147630 | 0.8362824 | 26.90426 | 1.665570e-15 |\n",
       "| b | p_r/r_p           | 0.9401923 | 0.02764376 | 16.46306 | 0.8817238 | 0.9986607 | 34.01101 | 1.091200e-16 |\n",
       "| f | p_r/r_p           | 0.9472829 | 0.02361140 | 18.02774 | 0.8976827 | 0.9968831 | 40.11973 | 4.390283e-19 |\n",
       "| b | p_recall/r_recall | 1.1237154 | 0.02303367 | 22.95122 | 1.0760610 | 1.1713698 | 48.78578 | 1.092913e-24 |\n",
       "| f | p_recall/r_recall | 1.0910995 | 0.01938662 | 23.12118 | 1.0510069 | 1.1311922 | 56.28106 | 3.009511e-26 |\n",
       "\n",
       "\n",
       "$contrasts\n",
       ":   \n",
       "A summary_emm: 4 × 9\n",
       "\n",
       "| contrast &lt;fct&gt; | cond_amount &lt;fct&gt; | estimate &lt;dbl&gt; | SE &lt;dbl&gt; | df &lt;dbl&gt; | lower.CL &lt;dbl&gt; | upper.CL &lt;dbl&gt; | t.ratio &lt;dbl&gt; | p.value &lt;dbl&gt; |\n",
       "|---|---|---|---|---|---|---|---|---|\n",
       "| b - f | p/r               |  0.033165656 | 0.02937351 | 17.33545 | -0.028715815 | 0.09504713 |  1.1291007 | 0.27423832 |\n",
       "| b - f | p0/r0             |  0.034325196 | 0.03961618 | 19.06791 | -0.048572430 | 0.11722282 |  0.8664439 | 0.39701877 |\n",
       "| b - f | p_r/r_p           | -0.007090649 | 0.03342324 | 16.11298 | -0.077904388 | 0.06372309 | -0.2121473 | 0.83465249 |\n",
       "| b - f | p_recall/r_recall |  0.032615855 | 0.01890029 | 24.30640 | -0.006366415 | 0.07159813 |  1.7256804 | 0.09709805 |\n",
       "\n",
       "\n",
       "\n",
       "\n"
      ],
      "text/plain": [
       "$emmeans\n",
       "cond_amount = p/r:\n",
       " cond_direction emmean     SE   df lower.CL upper.CL t.ratio p.value\n",
       " b               0.922 0.0270 18.1    0.865    0.978 34.177  <.0001 \n",
       " f               0.889 0.0256 18.3    0.835    0.942 34.712  <.0001 \n",
       "\n",
       "cond_amount = p0/r0:\n",
       " cond_direction emmean     SE   df lower.CL upper.CL t.ratio p.value\n",
       " b               0.810 0.0350 19.4    0.737    0.883 23.109  <.0001 \n",
       " f               0.776 0.0288 17.2    0.715    0.836 26.904  <.0001 \n",
       "\n",
       "cond_amount = p_r/r_p:\n",
       " cond_direction emmean     SE   df lower.CL upper.CL t.ratio p.value\n",
       " b               0.940 0.0276 16.5    0.882    0.999 34.011  <.0001 \n",
       " f               0.947 0.0236 18.0    0.898    0.997 40.120  <.0001 \n",
       "\n",
       "cond_amount = p_recall/r_recall:\n",
       " cond_direction emmean     SE   df lower.CL upper.CL t.ratio p.value\n",
       " b               1.124 0.0230 22.9    1.076    1.171 48.786  <.0001 \n",
       " f               1.091 0.0194 23.1    1.051    1.131 56.281  <.0001 \n",
       "\n",
       "Results are averaged over the levels of: story \n",
       "Degrees-of-freedom method: kenward-roger \n",
       "Confidence level used: 0.95 \n",
       "\n",
       "$contrasts\n",
       "cond_amount = p/r:\n",
       " contrast estimate     SE   df lower.CL upper.CL t.ratio p.value\n",
       " b - f     0.03317 0.0294 17.3 -0.02872   0.0950  1.129  0.2742 \n",
       "\n",
       "cond_amount = p0/r0:\n",
       " contrast estimate     SE   df lower.CL upper.CL t.ratio p.value\n",
       " b - f     0.03433 0.0396 19.1 -0.04857   0.1172  0.866  0.3970 \n",
       "\n",
       "cond_amount = p_r/r_p:\n",
       " contrast estimate     SE   df lower.CL upper.CL t.ratio p.value\n",
       " b - f    -0.00709 0.0334 16.1 -0.07790   0.0637 -0.212  0.8347 \n",
       "\n",
       "cond_amount = p_recall/r_recall:\n",
       " contrast estimate     SE   df lower.CL upper.CL t.ratio p.value\n",
       " b - f     0.03262 0.0189 24.3 -0.00637   0.0716  1.726  0.0971 \n",
       "\n",
       "Results are averaged over the levels of: story \n",
       "Degrees-of-freedom method: kenward-roger \n",
       "Confidence level used: 0.95 \n"
      ]
     },
     "metadata": {},
     "output_type": "display_data"
    }
   ],
   "source": [
    "emmeans(pr_recall_MD, pairwise ~ cond_direction|cond_amount) %>%\n",
    "     summary(infer = TRUE)"
   ]
  },
  {
   "cell_type": "code",
   "execution_count": 23,
   "metadata": {
    "vscode": {
     "languageId": "r"
    }
   },
   "outputs": [
    {
     "name": "stderr",
     "output_type": "stream",
     "text": [
      "NOTE: Results may be misleading due to involvement in interactions\n",
      "\n"
     ]
    },
    {
     "data": {
      "text/html": [
       "<dl>\n",
       "\t<dt>$emmeans</dt>\n",
       "\t\t<dd><table class=\"dataframe\">\n",
       "<caption>A summary_emm: 2 × 8</caption>\n",
       "<thead>\n",
       "\t<tr><th></th><th scope=col>cond_direction</th><th scope=col>emmean</th><th scope=col>SE</th><th scope=col>df</th><th scope=col>lower.CL</th><th scope=col>upper.CL</th><th scope=col>t.ratio</th><th scope=col>p.value</th></tr>\n",
       "\t<tr><th></th><th scope=col>&lt;fct&gt;</th><th scope=col>&lt;dbl&gt;</th><th scope=col>&lt;dbl&gt;</th><th scope=col>&lt;dbl&gt;</th><th scope=col>&lt;dbl&gt;</th><th scope=col>&lt;dbl&gt;</th><th scope=col>&lt;dbl&gt;</th><th scope=col>&lt;dbl&gt;</th></tr>\n",
       "</thead>\n",
       "<tbody>\n",
       "\t<tr><th scope=row>1</th><td>b</td><td>0.8057566</td><td>0.03443622</td><td>17.70548</td><td>0.7333224</td><td>0.8781908</td><td>23.39852</td><td>9.175466e-15</td></tr>\n",
       "\t<tr><th scope=row>2</th><td>f</td><td>0.7765235</td><td>0.02782171</td><td>16.11014</td><td>0.7175769</td><td>0.8354701</td><td>27.91071</td><td>4.525802e-15</td></tr>\n",
       "</tbody>\n",
       "</table>\n",
       "</dd>\n",
       "\t<dt>$contrasts</dt>\n",
       "\t\t<dd><table class=\"dataframe\">\n",
       "<caption>A summary_emm: 1 × 8</caption>\n",
       "<thead>\n",
       "\t<tr><th></th><th scope=col>contrast</th><th scope=col>estimate</th><th scope=col>SE</th><th scope=col>df</th><th scope=col>lower.CL</th><th scope=col>upper.CL</th><th scope=col>t.ratio</th><th scope=col>p.value</th></tr>\n",
       "\t<tr><th></th><th scope=col>&lt;chr&gt;</th><th scope=col>&lt;dbl&gt;</th><th scope=col>&lt;dbl&gt;</th><th scope=col>&lt;dbl&gt;</th><th scope=col>&lt;dbl&gt;</th><th scope=col>&lt;dbl&gt;</th><th scope=col>&lt;dbl&gt;</th><th scope=col>&lt;dbl&gt;</th></tr>\n",
       "</thead>\n",
       "<tbody>\n",
       "\t<tr><th scope=row>1</th><td>b - f</td><td>0.02923308</td><td>0.03909667</td><td>17.93158</td><td>-0.05292844</td><td>0.1113946</td><td>0.7477128</td><td>0.4643271</td></tr>\n",
       "</tbody>\n",
       "</table>\n",
       "</dd>\n",
       "</dl>\n"
      ],
      "text/latex": [
       "\\begin{description}\n",
       "\\item[\\$emmeans] A summary\\_emm: 2 × 8\n",
       "\\begin{tabular}{r|llllllll}\n",
       "  & cond\\_direction & emmean & SE & df & lower.CL & upper.CL & t.ratio & p.value\\\\\n",
       "  & <fct> & <dbl> & <dbl> & <dbl> & <dbl> & <dbl> & <dbl> & <dbl>\\\\\n",
       "\\hline\n",
       "\t1 & b & 0.8057566 & 0.03443622 & 17.70548 & 0.7333224 & 0.8781908 & 23.39852 & 9.175466e-15\\\\\n",
       "\t2 & f & 0.7765235 & 0.02782171 & 16.11014 & 0.7175769 & 0.8354701 & 27.91071 & 4.525802e-15\\\\\n",
       "\\end{tabular}\n",
       "\n",
       "\\item[\\$contrasts] A summary\\_emm: 1 × 8\n",
       "\\begin{tabular}{r|llllllll}\n",
       "  & contrast & estimate & SE & df & lower.CL & upper.CL & t.ratio & p.value\\\\\n",
       "  & <chr> & <dbl> & <dbl> & <dbl> & <dbl> & <dbl> & <dbl> & <dbl>\\\\\n",
       "\\hline\n",
       "\t1 & b - f & 0.02923308 & 0.03909667 & 17.93158 & -0.05292844 & 0.1113946 & 0.7477128 & 0.4643271\\\\\n",
       "\\end{tabular}\n",
       "\n",
       "\\end{description}\n"
      ],
      "text/markdown": [
       "$emmeans\n",
       ":   \n",
       "A summary_emm: 2 × 8\n",
       "\n",
       "| <!--/--> | cond_direction &lt;fct&gt; | emmean &lt;dbl&gt; | SE &lt;dbl&gt; | df &lt;dbl&gt; | lower.CL &lt;dbl&gt; | upper.CL &lt;dbl&gt; | t.ratio &lt;dbl&gt; | p.value &lt;dbl&gt; |\n",
       "|---|---|---|---|---|---|---|---|---|\n",
       "| 1 | b | 0.8057566 | 0.03443622 | 17.70548 | 0.7333224 | 0.8781908 | 23.39852 | 9.175466e-15 |\n",
       "| 2 | f | 0.7765235 | 0.02782171 | 16.11014 | 0.7175769 | 0.8354701 | 27.91071 | 4.525802e-15 |\n",
       "\n",
       "\n",
       "$contrasts\n",
       ":   \n",
       "A summary_emm: 1 × 8\n",
       "\n",
       "| <!--/--> | contrast &lt;chr&gt; | estimate &lt;dbl&gt; | SE &lt;dbl&gt; | df &lt;dbl&gt; | lower.CL &lt;dbl&gt; | upper.CL &lt;dbl&gt; | t.ratio &lt;dbl&gt; | p.value &lt;dbl&gt; |\n",
       "|---|---|---|---|---|---|---|---|---|\n",
       "| 1 | b - f | 0.02923308 | 0.03909667 | 17.93158 | -0.05292844 | 0.1113946 | 0.7477128 | 0.4643271 |\n",
       "\n",
       "\n",
       "\n",
       "\n"
      ],
      "text/plain": [
       "$emmeans\n",
       " cond_direction emmean     SE   df lower.CL upper.CL t.ratio p.value\n",
       " b               0.806 0.0344 17.7    0.733    0.878  23.399  <.0001\n",
       " f               0.777 0.0278 16.1    0.718    0.835  27.911  <.0001\n",
       "\n",
       "Results are averaged over the levels of: story \n",
       "Degrees-of-freedom method: kenward-roger \n",
       "Confidence level used: 0.95 \n",
       "\n",
       "$contrasts\n",
       " contrast estimate     SE   df lower.CL upper.CL t.ratio p.value\n",
       " b - f      0.0292 0.0391 17.9  -0.0529    0.111   0.748  0.4643\n",
       "\n",
       "Results are averaged over the levels of: story \n",
       "Degrees-of-freedom method: kenward-roger \n",
       "Confidence level used: 0.95 \n"
      ]
     },
     "metadata": {},
     "output_type": "display_data"
    }
   ],
   "source": [
    "emmeans(p0r0_MD, pairwise ~ cond_direction, adjust='none') %>%\n",
    "     summary(infer = TRUE)"
   ]
  },
  {
   "cell_type": "code",
   "execution_count": 24,
   "metadata": {
    "vscode": {
     "languageId": "r"
    }
   },
   "outputs": [
    {
     "name": "stderr",
     "output_type": "stream",
     "text": [
      "NOTE: Results may be misleading due to involvement in interactions\n",
      "\n"
     ]
    },
    {
     "data": {
      "text/html": [
       "<dl>\n",
       "\t<dt>$emmeans</dt>\n",
       "\t\t<dd><table class=\"dataframe\">\n",
       "<caption>A summary_emm: 2 × 8</caption>\n",
       "<thead>\n",
       "\t<tr><th></th><th scope=col>cond_direction</th><th scope=col>emmean</th><th scope=col>SE</th><th scope=col>df</th><th scope=col>lower.CL</th><th scope=col>upper.CL</th><th scope=col>t.ratio</th><th scope=col>p.value</th></tr>\n",
       "\t<tr><th></th><th scope=col>&lt;fct&gt;</th><th scope=col>&lt;dbl&gt;</th><th scope=col>&lt;dbl&gt;</th><th scope=col>&lt;dbl&gt;</th><th scope=col>&lt;dbl&gt;</th><th scope=col>&lt;dbl&gt;</th><th scope=col>&lt;dbl&gt;</th><th scope=col>&lt;dbl&gt;</th></tr>\n",
       "</thead>\n",
       "<tbody>\n",
       "\t<tr><th scope=row>1</th><td>b</td><td>0.9312347</td><td>0.02647272</td><td>17.11548</td><td>0.8754109</td><td>0.9870586</td><td>35.17715</td><td>2.091955e-17</td></tr>\n",
       "\t<tr><th scope=row>2</th><td>f</td><td>0.8938604</td><td>0.02557548</td><td>17.13891</td><td>0.8399341</td><td>0.9477866</td><td>34.94989</td><td>2.244166e-17</td></tr>\n",
       "</tbody>\n",
       "</table>\n",
       "</dd>\n",
       "\t<dt>$contrasts</dt>\n",
       "\t\t<dd><table class=\"dataframe\">\n",
       "<caption>A summary_emm: 1 × 8</caption>\n",
       "<thead>\n",
       "\t<tr><th></th><th scope=col>contrast</th><th scope=col>estimate</th><th scope=col>SE</th><th scope=col>df</th><th scope=col>lower.CL</th><th scope=col>upper.CL</th><th scope=col>t.ratio</th><th scope=col>p.value</th></tr>\n",
       "\t<tr><th></th><th scope=col>&lt;chr&gt;</th><th scope=col>&lt;dbl&gt;</th><th scope=col>&lt;dbl&gt;</th><th scope=col>&lt;dbl&gt;</th><th scope=col>&lt;dbl&gt;</th><th scope=col>&lt;dbl&gt;</th><th scope=col>&lt;dbl&gt;</th><th scope=col>&lt;dbl&gt;</th></tr>\n",
       "</thead>\n",
       "<tbody>\n",
       "\t<tr><th scope=row>1</th><td>b - f</td><td>0.03737436</td><td>0.02564136</td><td>17.42211</td><td>-0.01662451</td><td>0.09137322</td><td>1.457581</td><td>0.162746</td></tr>\n",
       "</tbody>\n",
       "</table>\n",
       "</dd>\n",
       "</dl>\n"
      ],
      "text/latex": [
       "\\begin{description}\n",
       "\\item[\\$emmeans] A summary\\_emm: 2 × 8\n",
       "\\begin{tabular}{r|llllllll}\n",
       "  & cond\\_direction & emmean & SE & df & lower.CL & upper.CL & t.ratio & p.value\\\\\n",
       "  & <fct> & <dbl> & <dbl> & <dbl> & <dbl> & <dbl> & <dbl> & <dbl>\\\\\n",
       "\\hline\n",
       "\t1 & b & 0.9312347 & 0.02647272 & 17.11548 & 0.8754109 & 0.9870586 & 35.17715 & 2.091955e-17\\\\\n",
       "\t2 & f & 0.8938604 & 0.02557548 & 17.13891 & 0.8399341 & 0.9477866 & 34.94989 & 2.244166e-17\\\\\n",
       "\\end{tabular}\n",
       "\n",
       "\\item[\\$contrasts] A summary\\_emm: 1 × 8\n",
       "\\begin{tabular}{r|llllllll}\n",
       "  & contrast & estimate & SE & df & lower.CL & upper.CL & t.ratio & p.value\\\\\n",
       "  & <chr> & <dbl> & <dbl> & <dbl> & <dbl> & <dbl> & <dbl> & <dbl>\\\\\n",
       "\\hline\n",
       "\t1 & b - f & 0.03737436 & 0.02564136 & 17.42211 & -0.01662451 & 0.09137322 & 1.457581 & 0.162746\\\\\n",
       "\\end{tabular}\n",
       "\n",
       "\\end{description}\n"
      ],
      "text/markdown": [
       "$emmeans\n",
       ":   \n",
       "A summary_emm: 2 × 8\n",
       "\n",
       "| <!--/--> | cond_direction &lt;fct&gt; | emmean &lt;dbl&gt; | SE &lt;dbl&gt; | df &lt;dbl&gt; | lower.CL &lt;dbl&gt; | upper.CL &lt;dbl&gt; | t.ratio &lt;dbl&gt; | p.value &lt;dbl&gt; |\n",
       "|---|---|---|---|---|---|---|---|---|\n",
       "| 1 | b | 0.9312347 | 0.02647272 | 17.11548 | 0.8754109 | 0.9870586 | 35.17715 | 2.091955e-17 |\n",
       "| 2 | f | 0.8938604 | 0.02557548 | 17.13891 | 0.8399341 | 0.9477866 | 34.94989 | 2.244166e-17 |\n",
       "\n",
       "\n",
       "$contrasts\n",
       ":   \n",
       "A summary_emm: 1 × 8\n",
       "\n",
       "| <!--/--> | contrast &lt;chr&gt; | estimate &lt;dbl&gt; | SE &lt;dbl&gt; | df &lt;dbl&gt; | lower.CL &lt;dbl&gt; | upper.CL &lt;dbl&gt; | t.ratio &lt;dbl&gt; | p.value &lt;dbl&gt; |\n",
       "|---|---|---|---|---|---|---|---|---|\n",
       "| 1 | b - f | 0.03737436 | 0.02564136 | 17.42211 | -0.01662451 | 0.09137322 | 1.457581 | 0.162746 |\n",
       "\n",
       "\n",
       "\n",
       "\n"
      ],
      "text/plain": [
       "$emmeans\n",
       " cond_direction emmean     SE   df lower.CL upper.CL t.ratio p.value\n",
       " b               0.931 0.0265 17.1    0.875    0.987  35.177  <.0001\n",
       " f               0.894 0.0256 17.1    0.840    0.948  34.950  <.0001\n",
       "\n",
       "Results are averaged over the levels of: story \n",
       "Degrees-of-freedom method: kenward-roger \n",
       "Confidence level used: 0.95 \n",
       "\n",
       "$contrasts\n",
       " contrast estimate     SE   df lower.CL upper.CL t.ratio p.value\n",
       " b - f      0.0374 0.0256 17.4  -0.0166   0.0914   1.458  0.1627\n",
       "\n",
       "Results are averaged over the levels of: story \n",
       "Degrees-of-freedom method: kenward-roger \n",
       "Confidence level used: 0.95 \n"
      ]
     },
     "metadata": {},
     "output_type": "display_data"
    }
   ],
   "source": [
    "emmeans(cpr_MD, pairwise ~ cond_direction, adjust='none') %>%\n",
    "     summary(infer = TRUE)"
   ]
  },
  {
   "cell_type": "code",
   "execution_count": 26,
   "metadata": {
    "vscode": {
     "languageId": "r"
    }
   },
   "outputs": [
    {
     "name": "stderr",
     "output_type": "stream",
     "text": [
      "NOTE: Results may be misleading due to involvement in interactions\n",
      "\n"
     ]
    },
    {
     "data": {
      "text/html": [
       "<dl>\n",
       "\t<dt>$emmeans</dt>\n",
       "\t\t<dd><table class=\"dataframe\">\n",
       "<caption>A summary_emm: 2 × 8</caption>\n",
       "<thead>\n",
       "\t<tr><th></th><th scope=col>cond_direction</th><th scope=col>emmean</th><th scope=col>SE</th><th scope=col>df</th><th scope=col>lower.CL</th><th scope=col>upper.CL</th><th scope=col>t.ratio</th><th scope=col>p.value</th></tr>\n",
       "\t<tr><th></th><th scope=col>&lt;fct&gt;</th><th scope=col>&lt;dbl&gt;</th><th scope=col>&lt;dbl&gt;</th><th scope=col>&lt;dbl&gt;</th><th scope=col>&lt;dbl&gt;</th><th scope=col>&lt;dbl&gt;</th><th scope=col>&lt;dbl&gt;</th><th scope=col>&lt;dbl&gt;</th></tr>\n",
       "</thead>\n",
       "<tbody>\n",
       "\t<tr><th scope=row>1</th><td>b</td><td>1.122530</td><td>0.02293771</td><td>22.1328</td><td>1.074977</td><td>1.170083</td><td>48.93819</td><td>4.679595e-24</td></tr>\n",
       "\t<tr><th scope=row>2</th><td>f</td><td>1.089303</td><td>0.01970967</td><td>22.6418</td><td>1.048495</td><td>1.130112</td><td>55.26747</td><td>1.177663e-25</td></tr>\n",
       "</tbody>\n",
       "</table>\n",
       "</dd>\n",
       "\t<dt>$contrasts</dt>\n",
       "\t\t<dd><table class=\"dataframe\">\n",
       "<caption>A summary_emm: 1 × 8</caption>\n",
       "<thead>\n",
       "\t<tr><th></th><th scope=col>contrast</th><th scope=col>estimate</th><th scope=col>SE</th><th scope=col>df</th><th scope=col>lower.CL</th><th scope=col>upper.CL</th><th scope=col>t.ratio</th><th scope=col>p.value</th></tr>\n",
       "\t<tr><th></th><th scope=col>&lt;chr&gt;</th><th scope=col>&lt;dbl&gt;</th><th scope=col>&lt;dbl&gt;</th><th scope=col>&lt;dbl&gt;</th><th scope=col>&lt;dbl&gt;</th><th scope=col>&lt;dbl&gt;</th><th scope=col>&lt;dbl&gt;</th><th scope=col>&lt;dbl&gt;</th></tr>\n",
       "</thead>\n",
       "<tbody>\n",
       "\t<tr><th scope=row>1</th><td>b - f</td><td>0.03322654</td><td>0.01762147</td><td>19.33061</td><td>-0.003612967</td><td>0.07006605</td><td>1.885572</td><td>0.07447302</td></tr>\n",
       "</tbody>\n",
       "</table>\n",
       "</dd>\n",
       "</dl>\n"
      ],
      "text/latex": [
       "\\begin{description}\n",
       "\\item[\\$emmeans] A summary\\_emm: 2 × 8\n",
       "\\begin{tabular}{r|llllllll}\n",
       "  & cond\\_direction & emmean & SE & df & lower.CL & upper.CL & t.ratio & p.value\\\\\n",
       "  & <fct> & <dbl> & <dbl> & <dbl> & <dbl> & <dbl> & <dbl> & <dbl>\\\\\n",
       "\\hline\n",
       "\t1 & b & 1.122530 & 0.02293771 & 22.1328 & 1.074977 & 1.170083 & 48.93819 & 4.679595e-24\\\\\n",
       "\t2 & f & 1.089303 & 0.01970967 & 22.6418 & 1.048495 & 1.130112 & 55.26747 & 1.177663e-25\\\\\n",
       "\\end{tabular}\n",
       "\n",
       "\\item[\\$contrasts] A summary\\_emm: 1 × 8\n",
       "\\begin{tabular}{r|llllllll}\n",
       "  & contrast & estimate & SE & df & lower.CL & upper.CL & t.ratio & p.value\\\\\n",
       "  & <chr> & <dbl> & <dbl> & <dbl> & <dbl> & <dbl> & <dbl> & <dbl>\\\\\n",
       "\\hline\n",
       "\t1 & b - f & 0.03322654 & 0.01762147 & 19.33061 & -0.003612967 & 0.07006605 & 1.885572 & 0.07447302\\\\\n",
       "\\end{tabular}\n",
       "\n",
       "\\end{description}\n"
      ],
      "text/markdown": [
       "$emmeans\n",
       ":   \n",
       "A summary_emm: 2 × 8\n",
       "\n",
       "| <!--/--> | cond_direction &lt;fct&gt; | emmean &lt;dbl&gt; | SE &lt;dbl&gt; | df &lt;dbl&gt; | lower.CL &lt;dbl&gt; | upper.CL &lt;dbl&gt; | t.ratio &lt;dbl&gt; | p.value &lt;dbl&gt; |\n",
       "|---|---|---|---|---|---|---|---|---|\n",
       "| 1 | b | 1.122530 | 0.02293771 | 22.1328 | 1.074977 | 1.170083 | 48.93819 | 4.679595e-24 |\n",
       "| 2 | f | 1.089303 | 0.01970967 | 22.6418 | 1.048495 | 1.130112 | 55.26747 | 1.177663e-25 |\n",
       "\n",
       "\n",
       "$contrasts\n",
       ":   \n",
       "A summary_emm: 1 × 8\n",
       "\n",
       "| <!--/--> | contrast &lt;chr&gt; | estimate &lt;dbl&gt; | SE &lt;dbl&gt; | df &lt;dbl&gt; | lower.CL &lt;dbl&gt; | upper.CL &lt;dbl&gt; | t.ratio &lt;dbl&gt; | p.value &lt;dbl&gt; |\n",
       "|---|---|---|---|---|---|---|---|---|\n",
       "| 1 | b - f | 0.03322654 | 0.01762147 | 19.33061 | -0.003612967 | 0.07006605 | 1.885572 | 0.07447302 |\n",
       "\n",
       "\n",
       "\n",
       "\n"
      ],
      "text/plain": [
       "$emmeans\n",
       " cond_direction emmean     SE   df lower.CL upper.CL t.ratio p.value\n",
       " b                1.12 0.0229 22.1     1.07     1.17  48.938  <.0001\n",
       " f                1.09 0.0197 22.6     1.05     1.13  55.267  <.0001\n",
       "\n",
       "Results are averaged over the levels of: story \n",
       "Degrees-of-freedom method: kenward-roger \n",
       "Confidence level used: 0.95 \n",
       "\n",
       "$contrasts\n",
       " contrast estimate     SE   df lower.CL upper.CL t.ratio p.value\n",
       " b - f      0.0332 0.0176 19.3 -0.00361   0.0701   1.886  0.0745\n",
       "\n",
       "Results are averaged over the levels of: story \n",
       "Degrees-of-freedom method: kenward-roger \n",
       "Confidence level used: 0.95 \n"
      ]
     },
     "metadata": {},
     "output_type": "display_data"
    }
   ],
   "source": [
    "emmeans(recall_MD, pairwise ~ cond_direction, adjust='none') %>%\n",
    "     summary(infer = TRUE)"
   ]
  },
  {
   "cell_type": "markdown",
   "metadata": {},
   "source": [
    "# figure 5"
   ]
  },
  {
   "cell_type": "markdown",
   "metadata": {},
   "source": [
    "## stacked bar plot"
   ]
  },
  {
   "cell_type": "code",
   "execution_count": 27,
   "metadata": {
    "vscode": {
     "languageId": "r"
    }
   },
   "outputs": [],
   "source": [
    "p0r0_hit_econd_total <- readRDS(\"../stats_models/main/p0r0_hit_econd_total.rds\")\n",
    "p0r0_hit_econd <- readRDS(\"../stats_models/main/p0r0_hit_econd.rds\") \n",
    "p0r0_hit_econd_bin <- readRDS(\"../stats_models/main/p0r0_hit_econd_bin.rds\")"
   ]
  },
  {
   "cell_type": "code",
   "execution_count": 5,
   "metadata": {
    "vscode": {
     "languageId": "r"
    }
   },
   "outputs": [
    {
     "name": "stderr",
     "output_type": "stream",
     "text": [
      "NOTE: Results may be misleading due to involvement in interactions\n",
      "\n"
     ]
    },
    {
     "data": {
      "text/html": [
       "<dl>\n",
       "\t<dt>$emmeans</dt>\n",
       "\t\t<dd><table class=\"dataframe\">\n",
       "<caption>A summary_emm: 2 × 9</caption>\n",
       "<thead>\n",
       "\t<tr><th></th><th scope=col>cond_direction</th><th scope=col>rate</th><th scope=col>SE</th><th scope=col>df</th><th scope=col>asymp.LCL</th><th scope=col>asymp.UCL</th><th scope=col>null</th><th scope=col>z.ratio</th><th scope=col>p.value</th></tr>\n",
       "\t<tr><th></th><th scope=col>&lt;fct&gt;</th><th scope=col>&lt;dbl&gt;</th><th scope=col>&lt;dbl&gt;</th><th scope=col>&lt;dbl&gt;</th><th scope=col>&lt;dbl&gt;</th><th scope=col>&lt;dbl&gt;</th><th scope=col>&lt;dbl&gt;</th><th scope=col>&lt;dbl&gt;</th><th scope=col>&lt;dbl&gt;</th></tr>\n",
       "</thead>\n",
       "<tbody>\n",
       "\t<tr><th scope=row>1</th><td>b</td><td>5.548491</td><td>0.3079676</td><td>Inf</td><td>4.976559</td><td>6.186152</td><td>1</td><td>30.87170</td><td>2.865403e-209</td></tr>\n",
       "\t<tr><th scope=row>2</th><td>f</td><td>5.302147</td><td>0.2587890</td><td>Inf</td><td>4.818436</td><td>5.834418</td><td>1</td><td>34.17679</td><td>5.350628e-256</td></tr>\n",
       "</tbody>\n",
       "</table>\n",
       "</dd>\n",
       "\t<dt>$contrasts</dt>\n",
       "\t\t<dd><table class=\"dataframe\">\n",
       "<caption>A summary_emm: 1 × 9</caption>\n",
       "<thead>\n",
       "\t<tr><th></th><th scope=col>contrast</th><th scope=col>ratio</th><th scope=col>SE</th><th scope=col>df</th><th scope=col>asymp.LCL</th><th scope=col>asymp.UCL</th><th scope=col>null</th><th scope=col>z.ratio</th><th scope=col>p.value</th></tr>\n",
       "\t<tr><th></th><th scope=col>&lt;fct&gt;</th><th scope=col>&lt;dbl&gt;</th><th scope=col>&lt;dbl&gt;</th><th scope=col>&lt;dbl&gt;</th><th scope=col>&lt;dbl&gt;</th><th scope=col>&lt;dbl&gt;</th><th scope=col>&lt;dbl&gt;</th><th scope=col>&lt;dbl&gt;</th><th scope=col>&lt;dbl&gt;</th></tr>\n",
       "</thead>\n",
       "<tbody>\n",
       "\t<tr><th scope=row>1</th><td>b / f</td><td>1.046461</td><td>0.06344291</td><td>Inf</td><td>0.9292188</td><td>1.178496</td><td>1</td><td>0.7490831</td><td>0.4538071</td></tr>\n",
       "</tbody>\n",
       "</table>\n",
       "</dd>\n",
       "</dl>\n"
      ],
      "text/latex": [
       "\\begin{description}\n",
       "\\item[\\$emmeans] A summary\\_emm: 2 × 9\n",
       "\\begin{tabular}{r|lllllllll}\n",
       "  & cond\\_direction & rate & SE & df & asymp.LCL & asymp.UCL & null & z.ratio & p.value\\\\\n",
       "  & <fct> & <dbl> & <dbl> & <dbl> & <dbl> & <dbl> & <dbl> & <dbl> & <dbl>\\\\\n",
       "\\hline\n",
       "\t1 & b & 5.548491 & 0.3079676 & Inf & 4.976559 & 6.186152 & 1 & 30.87170 & 2.865403e-209\\\\\n",
       "\t2 & f & 5.302147 & 0.2587890 & Inf & 4.818436 & 5.834418 & 1 & 34.17679 & 5.350628e-256\\\\\n",
       "\\end{tabular}\n",
       "\n",
       "\\item[\\$contrasts] A summary\\_emm: 1 × 9\n",
       "\\begin{tabular}{r|lllllllll}\n",
       "  & contrast & ratio & SE & df & asymp.LCL & asymp.UCL & null & z.ratio & p.value\\\\\n",
       "  & <fct> & <dbl> & <dbl> & <dbl> & <dbl> & <dbl> & <dbl> & <dbl> & <dbl>\\\\\n",
       "\\hline\n",
       "\t1 & b / f & 1.046461 & 0.06344291 & Inf & 0.9292188 & 1.178496 & 1 & 0.7490831 & 0.4538071\\\\\n",
       "\\end{tabular}\n",
       "\n",
       "\\end{description}\n"
      ],
      "text/markdown": [
       "$emmeans\n",
       ":   \n",
       "A summary_emm: 2 × 9\n",
       "\n",
       "| <!--/--> | cond_direction &lt;fct&gt; | rate &lt;dbl&gt; | SE &lt;dbl&gt; | df &lt;dbl&gt; | asymp.LCL &lt;dbl&gt; | asymp.UCL &lt;dbl&gt; | null &lt;dbl&gt; | z.ratio &lt;dbl&gt; | p.value &lt;dbl&gt; |\n",
       "|---|---|---|---|---|---|---|---|---|---|\n",
       "| 1 | b | 5.548491 | 0.3079676 | Inf | 4.976559 | 6.186152 | 1 | 30.87170 | 2.865403e-209 |\n",
       "| 2 | f | 5.302147 | 0.2587890 | Inf | 4.818436 | 5.834418 | 1 | 34.17679 | 5.350628e-256 |\n",
       "\n",
       "\n",
       "$contrasts\n",
       ":   \n",
       "A summary_emm: 1 × 9\n",
       "\n",
       "| <!--/--> | contrast &lt;fct&gt; | ratio &lt;dbl&gt; | SE &lt;dbl&gt; | df &lt;dbl&gt; | asymp.LCL &lt;dbl&gt; | asymp.UCL &lt;dbl&gt; | null &lt;dbl&gt; | z.ratio &lt;dbl&gt; | p.value &lt;dbl&gt; |\n",
       "|---|---|---|---|---|---|---|---|---|---|\n",
       "| 1 | b / f | 1.046461 | 0.06344291 | Inf | 0.9292188 | 1.178496 | 1 | 0.7490831 | 0.4538071 |\n",
       "\n",
       "\n",
       "\n",
       "\n"
      ],
      "text/plain": [
       "$emmeans\n",
       " cond_direction rate    SE  df asymp.LCL asymp.UCL null z.ratio p.value\n",
       " b              5.55 0.308 Inf      4.98      6.19    1  30.872  <.0001\n",
       " f              5.30 0.259 Inf      4.82      5.83    1  34.177  <.0001\n",
       "\n",
       "Results are averaged over the levels of: story \n",
       "Confidence level used: 0.95 \n",
       "Intervals are back-transformed from the log scale \n",
       "Tests are performed on the log scale \n",
       "\n",
       "$contrasts\n",
       " contrast ratio     SE  df asymp.LCL asymp.UCL null z.ratio p.value\n",
       " b / f     1.05 0.0634 Inf     0.929      1.18    1   0.749  0.4538\n",
       "\n",
       "Results are averaged over the levels of: story \n",
       "Confidence level used: 0.95 \n",
       "Intervals are back-transformed from the log scale \n",
       "Tests are performed on the log scale \n"
      ]
     },
     "metadata": {},
     "output_type": "display_data"
    }
   ],
   "source": [
    "emmeans(p0r0_hit_econd_total, pairwise ~ cond_direction, type='response') %>%\n",
    "      summary(infer = TRUE)"
   ]
  },
  {
   "cell_type": "code",
   "execution_count": 28,
   "metadata": {
    "vscode": {
     "languageId": "r"
    }
   },
   "outputs": [
    {
     "name": "stderr",
     "output_type": "stream",
     "text": [
      "NOTE: Results may be misleading due to involvement in interactions\n",
      "\n"
     ]
    },
    {
     "data": {
      "text/html": [
       "<dl>\n",
       "\t<dt>$emmeans</dt>\n",
       "\t\t<dd><table class=\"dataframe\">\n",
       "<caption>A summary_emm: 4 x 10</caption>\n",
       "<thead>\n",
       "\t<tr><th></th><th scope=col>cond_direction</th><th scope=col>e_cond_bin</th><th scope=col>rate</th><th scope=col>SE</th><th scope=col>df</th><th scope=col>asymp.LCL</th><th scope=col>asymp.UCL</th><th scope=col>null</th><th scope=col>z.ratio</th><th scope=col>p.value</th></tr>\n",
       "\t<tr><th></th><th scope=col>&lt;fct&gt;</th><th scope=col>&lt;fct&gt;</th><th scope=col>&lt;dbl&gt;</th><th scope=col>&lt;dbl&gt;</th><th scope=col>&lt;dbl&gt;</th><th scope=col>&lt;dbl&gt;</th><th scope=col>&lt;dbl&gt;</th><th scope=col>&lt;dbl&gt;</th><th scope=col>&lt;dbl&gt;</th><th scope=col>&lt;dbl&gt;</th></tr>\n",
       "</thead>\n",
       "<tbody>\n",
       "\t<tr><th scope=row>1</th><td>b</td><td>e_match  </td><td>3.612472</td><td>0.4451227</td><td>Inf</td><td>2.8374022</td><td>4.599262</td><td>1</td><td>10.4237140</td><td>1.932559e-25</td></tr>\n",
       "\t<tr><th scope=row>2</th><td>f</td><td>e_match  </td><td>2.239529</td><td>0.2710971</td><td>Inf</td><td>1.7665172</td><td>2.839196</td><td>1</td><td> 6.6605457</td><td>2.728127e-11</td></tr>\n",
       "\t<tr><th scope=row>3</th><td>b</td><td>e_unmatch</td><td>0.815789</td><td>0.1662488</td><td>Inf</td><td>0.5471575</td><td>1.216307</td><td>1</td><td>-0.9990704</td><td>3.177606e-01</td></tr>\n",
       "\t<tr><th scope=row>4</th><td>f</td><td>e_unmatch</td><td>2.402091</td><td>0.2557111</td><td>Inf</td><td>1.9497370</td><td>2.959395</td><td>1</td><td> 8.2321313</td><td>1.839116e-16</td></tr>\n",
       "</tbody>\n",
       "</table>\n",
       "</dd>\n",
       "\t<dt>$contrasts</dt>\n",
       "\t\t<dd><table class=\"dataframe\">\n",
       "<caption>A summary_emm: 2 x 10</caption>\n",
       "<thead>\n",
       "\t<tr><th></th><th scope=col>contrast</th><th scope=col>e_cond_bin</th><th scope=col>ratio</th><th scope=col>SE</th><th scope=col>df</th><th scope=col>asymp.LCL</th><th scope=col>asymp.UCL</th><th scope=col>null</th><th scope=col>z.ratio</th><th scope=col>p.value</th></tr>\n",
       "\t<tr><th></th><th scope=col>&lt;fct&gt;</th><th scope=col>&lt;fct&gt;</th><th scope=col>&lt;dbl&gt;</th><th scope=col>&lt;dbl&gt;</th><th scope=col>&lt;dbl&gt;</th><th scope=col>&lt;dbl&gt;</th><th scope=col>&lt;dbl&gt;</th><th scope=col>&lt;dbl&gt;</th><th scope=col>&lt;dbl&gt;</th><th scope=col>&lt;dbl&gt;</th></tr>\n",
       "</thead>\n",
       "<tbody>\n",
       "\t<tr><th scope=row>1</th><td>b / f</td><td>e_match  </td><td>1.6130502</td><td>0.2754613</td><td>Inf</td><td>1.1542179</td><td>2.254281</td><td>1</td><td> 2.799822</td><td>5.113077e-03</td></tr>\n",
       "\t<tr><th scope=row>2</th><td>b / f</td><td>e_unmatch</td><td>0.3396162</td><td>0.0726539</td><td>Inf</td><td>0.2233013</td><td>0.516518</td><td>1</td><td>-5.048109</td><td>4.462046e-07</td></tr>\n",
       "</tbody>\n",
       "</table>\n",
       "</dd>\n",
       "</dl>\n"
      ],
      "text/latex": [
       "\\begin{description}\n",
       "\\item[\\$emmeans] A summary\\_emm: 4 x 10\n",
       "\\begin{tabular}{r|llllllllll}\n",
       "  & cond\\_direction & e\\_cond\\_bin & rate & SE & df & asymp.LCL & asymp.UCL & null & z.ratio & p.value\\\\\n",
       "  & <fct> & <fct> & <dbl> & <dbl> & <dbl> & <dbl> & <dbl> & <dbl> & <dbl> & <dbl>\\\\\n",
       "\\hline\n",
       "\t1 & b & e\\_match   & 3.612472 & 0.4451227 & Inf & 2.8374022 & 4.599262 & 1 & 10.4237140 & 1.932559e-25\\\\\n",
       "\t2 & f & e\\_match   & 2.239529 & 0.2710971 & Inf & 1.7665172 & 2.839196 & 1 &  6.6605457 & 2.728127e-11\\\\\n",
       "\t3 & b & e\\_unmatch & 0.815789 & 0.1662488 & Inf & 0.5471575 & 1.216307 & 1 & -0.9990704 & 3.177606e-01\\\\\n",
       "\t4 & f & e\\_unmatch & 2.402091 & 0.2557111 & Inf & 1.9497370 & 2.959395 & 1 &  8.2321313 & 1.839116e-16\\\\\n",
       "\\end{tabular}\n",
       "\n",
       "\\item[\\$contrasts] A summary\\_emm: 2 x 10\n",
       "\\begin{tabular}{r|llllllllll}\n",
       "  & contrast & e\\_cond\\_bin & ratio & SE & df & asymp.LCL & asymp.UCL & null & z.ratio & p.value\\\\\n",
       "  & <fct> & <fct> & <dbl> & <dbl> & <dbl> & <dbl> & <dbl> & <dbl> & <dbl> & <dbl>\\\\\n",
       "\\hline\n",
       "\t1 & b / f & e\\_match   & 1.6130502 & 0.2754613 & Inf & 1.1542179 & 2.254281 & 1 &  2.799822 & 5.113077e-03\\\\\n",
       "\t2 & b / f & e\\_unmatch & 0.3396162 & 0.0726539 & Inf & 0.2233013 & 0.516518 & 1 & -5.048109 & 4.462046e-07\\\\\n",
       "\\end{tabular}\n",
       "\n",
       "\\end{description}\n"
      ],
      "text/markdown": [
       "$emmeans\n",
       ":   \n",
       "A summary_emm: 4 x 10\n",
       "\n",
       "| <!--/--> | cond_direction &lt;fct&gt; | e_cond_bin &lt;fct&gt; | rate &lt;dbl&gt; | SE &lt;dbl&gt; | df &lt;dbl&gt; | asymp.LCL &lt;dbl&gt; | asymp.UCL &lt;dbl&gt; | null &lt;dbl&gt; | z.ratio &lt;dbl&gt; | p.value &lt;dbl&gt; |\n",
       "|---|---|---|---|---|---|---|---|---|---|---|\n",
       "| 1 | b | e_match   | 3.612472 | 0.4451227 | Inf | 2.8374022 | 4.599262 | 1 | 10.4237140 | 1.932559e-25 |\n",
       "| 2 | f | e_match   | 2.239529 | 0.2710971 | Inf | 1.7665172 | 2.839196 | 1 |  6.6605457 | 2.728127e-11 |\n",
       "| 3 | b | e_unmatch | 0.815789 | 0.1662488 | Inf | 0.5471575 | 1.216307 | 1 | -0.9990704 | 3.177606e-01 |\n",
       "| 4 | f | e_unmatch | 2.402091 | 0.2557111 | Inf | 1.9497370 | 2.959395 | 1 |  8.2321313 | 1.839116e-16 |\n",
       "\n",
       "\n",
       "$contrasts\n",
       ":   \n",
       "A summary_emm: 2 x 10\n",
       "\n",
       "| <!--/--> | contrast &lt;fct&gt; | e_cond_bin &lt;fct&gt; | ratio &lt;dbl&gt; | SE &lt;dbl&gt; | df &lt;dbl&gt; | asymp.LCL &lt;dbl&gt; | asymp.UCL &lt;dbl&gt; | null &lt;dbl&gt; | z.ratio &lt;dbl&gt; | p.value &lt;dbl&gt; |\n",
       "|---|---|---|---|---|---|---|---|---|---|---|\n",
       "| 1 | b / f | e_match   | 1.6130502 | 0.2754613 | Inf | 1.1542179 | 2.254281 | 1 |  2.799822 | 5.113077e-03 |\n",
       "| 2 | b / f | e_unmatch | 0.3396162 | 0.0726539 | Inf | 0.2233013 | 0.516518 | 1 | -5.048109 | 4.462046e-07 |\n",
       "\n",
       "\n",
       "\n",
       "\n"
      ],
      "text/plain": [
       "$emmeans\n",
       "e_cond_bin = e_match:\n",
       " cond_direction  rate    SE  df asymp.LCL asymp.UCL null z.ratio p.value\n",
       " b              3.612 0.445 Inf     2.837      4.60    1  10.424  <.0001\n",
       " f              2.240 0.271 Inf     1.767      2.84    1   6.661  <.0001\n",
       "\n",
       "e_cond_bin = e_unmatch:\n",
       " cond_direction  rate    SE  df asymp.LCL asymp.UCL null z.ratio p.value\n",
       " b              0.816 0.166 Inf     0.547      1.22    1  -0.999  0.3178\n",
       " f              2.402 0.256 Inf     1.950      2.96    1   8.232  <.0001\n",
       "\n",
       "Results are averaged over the levels of: story \n",
       "Confidence level used: 0.95 \n",
       "Intervals are back-transformed from the log scale \n",
       "Tests are performed on the log scale \n",
       "\n",
       "$contrasts\n",
       "e_cond_bin = e_match:\n",
       " contrast ratio     SE  df asymp.LCL asymp.UCL null z.ratio p.value\n",
       " b / f     1.61 0.2755 Inf     1.154     2.254    1   2.800  0.0051\n",
       "\n",
       "e_cond_bin = e_unmatch:\n",
       " contrast ratio     SE  df asymp.LCL asymp.UCL null z.ratio p.value\n",
       " b / f     0.34 0.0727 Inf     0.223     0.517    1  -5.048  <.0001\n",
       "\n",
       "Results are averaged over the levels of: story \n",
       "Confidence level used: 0.95 \n",
       "Intervals are back-transformed from the log scale \n",
       "Tests are performed on the log scale \n"
      ]
     },
     "metadata": {},
     "output_type": "display_data"
    }
   ],
   "source": [
    "emmeans(p0r0_hit_econd_bin, pairwise ~ cond_direction|e_cond_bin, type='response') %>%\n",
    "      summary(infer = TRUE)"
   ]
  },
  {
   "cell_type": "code",
   "execution_count": 7,
   "metadata": {
    "vscode": {
     "languageId": "r"
    }
   },
   "outputs": [
    {
     "name": "stderr",
     "output_type": "stream",
     "text": [
      "NOTE: Results may be misleading due to involvement in interactions\n",
      "\n"
     ]
    },
    {
     "data": {
      "text/html": [
       "<dl>\n",
       "\t<dt>$emmeans</dt>\n",
       "\t\t<dd><table class=\"dataframe\">\n",
       "<caption>A summary_emm: 8 × 10</caption>\n",
       "<thead>\n",
       "\t<tr><th></th><th scope=col>cond_direction</th><th scope=col>e_cond</th><th scope=col>rate</th><th scope=col>SE</th><th scope=col>df</th><th scope=col>asymp.LCL</th><th scope=col>asymp.UCL</th><th scope=col>null</th><th scope=col>z.ratio</th><th scope=col>p.value</th></tr>\n",
       "\t<tr><th></th><th scope=col>&lt;fct&gt;</th><th scope=col>&lt;fct&gt;</th><th scope=col>&lt;dbl&gt;</th><th scope=col>&lt;dbl&gt;</th><th scope=col>&lt;dbl&gt;</th><th scope=col>&lt;dbl&gt;</th><th scope=col>&lt;dbl&gt;</th><th scope=col>&lt;dbl&gt;</th><th scope=col>&lt;dbl&gt;</th><th scope=col>&lt;dbl&gt;</th></tr>\n",
       "</thead>\n",
       "<tbody>\n",
       "\t<tr><th scope=row>1</th><td>b</td><td>e_ahead  </td><td>1.2778231</td><td>0.33970280</td><td>Inf</td><td>0.75889746</td><td>2.1515842</td><td>1</td><td> 0.9221838</td><td>3.564327e-01</td></tr>\n",
       "\t<tr><th scope=row>2</th><td>f</td><td>e_ahead  </td><td>0.1404366</td><td>0.07264011</td><td>Inf</td><td>0.05095663</td><td>0.3870436</td><td>1</td><td>-3.7951061</td><td>1.475803e-04</td></tr>\n",
       "\t<tr><th scope=row>3</th><td>b</td><td>e_gap    </td><td>0.1539631</td><td>0.07165678</td><td>Inf</td><td>0.06183789</td><td>0.3833354</td><td>1</td><td>-4.0201571</td><td>5.815936e-05</td></tr>\n",
       "\t<tr><th scope=row>4</th><td>f</td><td>e_gap    </td><td>0.2063058</td><td>0.10498220</td><td>Inf</td><td>0.07609620</td><td>0.5593193</td><td>1</td><td>-3.1017846</td><td>1.923579e-03</td></tr>\n",
       "\t<tr><th scope=row>5</th><td>b</td><td>e_target </td><td>0.4737506</td><td>0.17672540</td><td>Inf</td><td>0.22804580</td><td>0.9841866</td><td>1</td><td>-2.0026939</td><td>4.521016e-02</td></tr>\n",
       "\t<tr><th scope=row>6</th><td>f</td><td>e_target </td><td>0.5173416</td><td>0.23615539</td><td>Inf</td><td>0.21145700</td><td>1.2657057</td><td>1</td><td>-1.4437738</td><td>1.488026e-01</td></tr>\n",
       "\t<tr><th scope=row>7</th><td>b</td><td>e_unmatch</td><td>0.8510905</td><td>0.17657801</td><td>Inf</td><td>0.56672803</td><td>1.2781352</td><td>1</td><td>-0.7771473</td><td>4.370718e-01</td></tr>\n",
       "\t<tr><th scope=row>8</th><td>f</td><td>e_unmatch</td><td>2.3648893</td><td>0.27277568</td><td>Inf</td><td>1.88638297</td><td>2.9647752</td><td>1</td><td> 7.4623004</td><td>8.502478e-14</td></tr>\n",
       "</tbody>\n",
       "</table>\n",
       "</dd>\n",
       "\t<dt>$contrasts</dt>\n",
       "\t\t<dd><table class=\"dataframe\">\n",
       "<caption>A summary_emm: 4 × 10</caption>\n",
       "<thead>\n",
       "\t<tr><th></th><th scope=col>contrast</th><th scope=col>e_cond</th><th scope=col>ratio</th><th scope=col>SE</th><th scope=col>df</th><th scope=col>asymp.LCL</th><th scope=col>asymp.UCL</th><th scope=col>null</th><th scope=col>z.ratio</th><th scope=col>p.value</th></tr>\n",
       "\t<tr><th></th><th scope=col>&lt;fct&gt;</th><th scope=col>&lt;fct&gt;</th><th scope=col>&lt;dbl&gt;</th><th scope=col>&lt;dbl&gt;</th><th scope=col>&lt;dbl&gt;</th><th scope=col>&lt;dbl&gt;</th><th scope=col>&lt;dbl&gt;</th><th scope=col>&lt;dbl&gt;</th><th scope=col>&lt;dbl&gt;</th><th scope=col>&lt;dbl&gt;</th></tr>\n",
       "</thead>\n",
       "<tbody>\n",
       "\t<tr><th scope=row>1</th><td>b / f</td><td>e_ahead  </td><td>9.0989319</td><td>5.28260370</td><td>Inf</td><td>2.9161166</td><td>28.3906894</td><td>1</td><td> 3.8034029</td><td>1.427219e-04</td></tr>\n",
       "\t<tr><th scope=row>2</th><td>b / f</td><td>e_gap    </td><td>0.7462862</td><td>0.59844970</td><td>Inf</td><td>0.1549971</td><td> 3.5932474</td><td>1</td><td>-0.3649392</td><td>7.151568e-01</td></tr>\n",
       "\t<tr><th scope=row>3</th><td>b / f</td><td>e_target </td><td>0.9157404</td><td>0.52906730</td><td>Inf</td><td>0.2951157</td><td> 2.8415315</td><td>1</td><td>-0.1523542</td><td>8.789076e-01</td></tr>\n",
       "\t<tr><th scope=row>4</th><td>b / f</td><td>e_unmatch</td><td>0.3598860</td><td>0.08115001</td><td>Inf</td><td>0.2313285</td><td> 0.5598875</td><td>1</td><td>-4.5322477</td><td>5.835937e-06</td></tr>\n",
       "</tbody>\n",
       "</table>\n",
       "</dd>\n",
       "</dl>\n"
      ],
      "text/latex": [
       "\\begin{description}\n",
       "\\item[\\$emmeans] A summary\\_emm: 8 × 10\n",
       "\\begin{tabular}{r|llllllllll}\n",
       "  & cond\\_direction & e\\_cond & rate & SE & df & asymp.LCL & asymp.UCL & null & z.ratio & p.value\\\\\n",
       "  & <fct> & <fct> & <dbl> & <dbl> & <dbl> & <dbl> & <dbl> & <dbl> & <dbl> & <dbl>\\\\\n",
       "\\hline\n",
       "\t1 & b & e\\_ahead   & 1.2778231 & 0.33970280 & Inf & 0.75889746 & 2.1515842 & 1 &  0.9221838 & 3.564327e-01\\\\\n",
       "\t2 & f & e\\_ahead   & 0.1404366 & 0.07264011 & Inf & 0.05095663 & 0.3870436 & 1 & -3.7951061 & 1.475803e-04\\\\\n",
       "\t3 & b & e\\_gap     & 0.1539631 & 0.07165678 & Inf & 0.06183789 & 0.3833354 & 1 & -4.0201571 & 5.815936e-05\\\\\n",
       "\t4 & f & e\\_gap     & 0.2063058 & 0.10498220 & Inf & 0.07609620 & 0.5593193 & 1 & -3.1017846 & 1.923579e-03\\\\\n",
       "\t5 & b & e\\_target  & 0.4737506 & 0.17672540 & Inf & 0.22804580 & 0.9841866 & 1 & -2.0026939 & 4.521016e-02\\\\\n",
       "\t6 & f & e\\_target  & 0.5173416 & 0.23615539 & Inf & 0.21145700 & 1.2657057 & 1 & -1.4437738 & 1.488026e-01\\\\\n",
       "\t7 & b & e\\_unmatch & 0.8510905 & 0.17657801 & Inf & 0.56672803 & 1.2781352 & 1 & -0.7771473 & 4.370718e-01\\\\\n",
       "\t8 & f & e\\_unmatch & 2.3648893 & 0.27277568 & Inf & 1.88638297 & 2.9647752 & 1 &  7.4623004 & 8.502478e-14\\\\\n",
       "\\end{tabular}\n",
       "\n",
       "\\item[\\$contrasts] A summary\\_emm: 4 × 10\n",
       "\\begin{tabular}{r|llllllllll}\n",
       "  & contrast & e\\_cond & ratio & SE & df & asymp.LCL & asymp.UCL & null & z.ratio & p.value\\\\\n",
       "  & <fct> & <fct> & <dbl> & <dbl> & <dbl> & <dbl> & <dbl> & <dbl> & <dbl> & <dbl>\\\\\n",
       "\\hline\n",
       "\t1 & b / f & e\\_ahead   & 9.0989319 & 5.28260370 & Inf & 2.9161166 & 28.3906894 & 1 &  3.8034029 & 1.427219e-04\\\\\n",
       "\t2 & b / f & e\\_gap     & 0.7462862 & 0.59844970 & Inf & 0.1549971 &  3.5932474 & 1 & -0.3649392 & 7.151568e-01\\\\\n",
       "\t3 & b / f & e\\_target  & 0.9157404 & 0.52906730 & Inf & 0.2951157 &  2.8415315 & 1 & -0.1523542 & 8.789076e-01\\\\\n",
       "\t4 & b / f & e\\_unmatch & 0.3598860 & 0.08115001 & Inf & 0.2313285 &  0.5598875 & 1 & -4.5322477 & 5.835937e-06\\\\\n",
       "\\end{tabular}\n",
       "\n",
       "\\end{description}\n"
      ],
      "text/markdown": [
       "$emmeans\n",
       ":   \n",
       "A summary_emm: 8 × 10\n",
       "\n",
       "| <!--/--> | cond_direction &lt;fct&gt; | e_cond &lt;fct&gt; | rate &lt;dbl&gt; | SE &lt;dbl&gt; | df &lt;dbl&gt; | asymp.LCL &lt;dbl&gt; | asymp.UCL &lt;dbl&gt; | null &lt;dbl&gt; | z.ratio &lt;dbl&gt; | p.value &lt;dbl&gt; |\n",
       "|---|---|---|---|---|---|---|---|---|---|---|\n",
       "| 1 | b | e_ahead   | 1.2778231 | 0.33970280 | Inf | 0.75889746 | 2.1515842 | 1 |  0.9221838 | 3.564327e-01 |\n",
       "| 2 | f | e_ahead   | 0.1404366 | 0.07264011 | Inf | 0.05095663 | 0.3870436 | 1 | -3.7951061 | 1.475803e-04 |\n",
       "| 3 | b | e_gap     | 0.1539631 | 0.07165678 | Inf | 0.06183789 | 0.3833354 | 1 | -4.0201571 | 5.815936e-05 |\n",
       "| 4 | f | e_gap     | 0.2063058 | 0.10498220 | Inf | 0.07609620 | 0.5593193 | 1 | -3.1017846 | 1.923579e-03 |\n",
       "| 5 | b | e_target  | 0.4737506 | 0.17672540 | Inf | 0.22804580 | 0.9841866 | 1 | -2.0026939 | 4.521016e-02 |\n",
       "| 6 | f | e_target  | 0.5173416 | 0.23615539 | Inf | 0.21145700 | 1.2657057 | 1 | -1.4437738 | 1.488026e-01 |\n",
       "| 7 | b | e_unmatch | 0.8510905 | 0.17657801 | Inf | 0.56672803 | 1.2781352 | 1 | -0.7771473 | 4.370718e-01 |\n",
       "| 8 | f | e_unmatch | 2.3648893 | 0.27277568 | Inf | 1.88638297 | 2.9647752 | 1 |  7.4623004 | 8.502478e-14 |\n",
       "\n",
       "\n",
       "$contrasts\n",
       ":   \n",
       "A summary_emm: 4 × 10\n",
       "\n",
       "| <!--/--> | contrast &lt;fct&gt; | e_cond &lt;fct&gt; | ratio &lt;dbl&gt; | SE &lt;dbl&gt; | df &lt;dbl&gt; | asymp.LCL &lt;dbl&gt; | asymp.UCL &lt;dbl&gt; | null &lt;dbl&gt; | z.ratio &lt;dbl&gt; | p.value &lt;dbl&gt; |\n",
       "|---|---|---|---|---|---|---|---|---|---|---|\n",
       "| 1 | b / f | e_ahead   | 9.0989319 | 5.28260370 | Inf | 2.9161166 | 28.3906894 | 1 |  3.8034029 | 1.427219e-04 |\n",
       "| 2 | b / f | e_gap     | 0.7462862 | 0.59844970 | Inf | 0.1549971 |  3.5932474 | 1 | -0.3649392 | 7.151568e-01 |\n",
       "| 3 | b / f | e_target  | 0.9157404 | 0.52906730 | Inf | 0.2951157 |  2.8415315 | 1 | -0.1523542 | 8.789076e-01 |\n",
       "| 4 | b / f | e_unmatch | 0.3598860 | 0.08115001 | Inf | 0.2313285 |  0.5598875 | 1 | -4.5322477 | 5.835937e-06 |\n",
       "\n",
       "\n",
       "\n",
       "\n"
      ],
      "text/plain": [
       "$emmeans\n",
       "e_cond = e_ahead:\n",
       " cond_direction  rate     SE  df asymp.LCL asymp.UCL null z.ratio p.value\n",
       " b              1.278 0.3397 Inf    0.7589     2.152    1   0.922  0.3564\n",
       " f              0.140 0.0726 Inf    0.0510     0.387    1  -3.795  0.0001\n",
       "\n",
       "e_cond = e_gap:\n",
       " cond_direction  rate     SE  df asymp.LCL asymp.UCL null z.ratio p.value\n",
       " b              0.154 0.0717 Inf    0.0618     0.383    1  -4.020  0.0001\n",
       " f              0.206 0.1050 Inf    0.0761     0.559    1  -3.102  0.0019\n",
       "\n",
       "e_cond = e_target:\n",
       " cond_direction  rate     SE  df asymp.LCL asymp.UCL null z.ratio p.value\n",
       " b              0.474 0.1767 Inf    0.2280     0.984    1  -2.003  0.0452\n",
       " f              0.517 0.2362 Inf    0.2115     1.266    1  -1.444  0.1488\n",
       "\n",
       "e_cond = e_unmatch:\n",
       " cond_direction  rate     SE  df asymp.LCL asymp.UCL null z.ratio p.value\n",
       " b              0.851 0.1766 Inf    0.5667     1.278    1  -0.777  0.4371\n",
       " f              2.365 0.2728 Inf    1.8864     2.965    1   7.462  <.0001\n",
       "\n",
       "Results are averaged over the levels of: story \n",
       "Confidence level used: 0.95 \n",
       "Intervals are back-transformed from the log scale \n",
       "Tests are performed on the log scale \n",
       "\n",
       "$contrasts\n",
       "e_cond = e_ahead:\n",
       " contrast ratio     SE  df asymp.LCL asymp.UCL null z.ratio p.value\n",
       " b / f    9.099 5.2826 Inf     2.916     28.39    1   3.803  0.0001\n",
       "\n",
       "e_cond = e_gap:\n",
       " contrast ratio     SE  df asymp.LCL asymp.UCL null z.ratio p.value\n",
       " b / f    0.746 0.5985 Inf     0.155      3.59    1  -0.365  0.7152\n",
       "\n",
       "e_cond = e_target:\n",
       " contrast ratio     SE  df asymp.LCL asymp.UCL null z.ratio p.value\n",
       " b / f    0.916 0.5291 Inf     0.295      2.84    1  -0.152  0.8789\n",
       "\n",
       "e_cond = e_unmatch:\n",
       " contrast ratio     SE  df asymp.LCL asymp.UCL null z.ratio p.value\n",
       " b / f    0.360 0.0811 Inf     0.231      0.56    1  -4.532  <.0001\n",
       "\n",
       "Results are averaged over the levels of: story \n",
       "Confidence level used: 0.95 \n",
       "Intervals are back-transformed from the log scale \n",
       "Tests are performed on the log scale \n"
      ]
     },
     "metadata": {},
     "output_type": "display_data"
    }
   ],
   "source": [
    "emmeans(p0r0_hit_econd, pairwise ~ cond_direction|e_cond, type='response') %>%\n",
    "      summary(infer = TRUE)"
   ]
  },
  {
   "cell_type": "markdown",
   "metadata": {},
   "source": [
    "## lag plot"
   ]
  },
  {
   "cell_type": "code",
   "execution_count": 21,
   "metadata": {
    "vscode": {
     "languageId": "r"
    }
   },
   "outputs": [],
   "source": [
    "p0_r0_hit_refer_step_2 <- readRDS(\"../stats_models/main/p0_r0_hit_refer_step_2.rds\")"
   ]
  },
  {
   "cell_type": "code",
   "execution_count": 55,
   "metadata": {
    "vscode": {
     "languageId": "r"
    }
   },
   "outputs": [
    {
     "name": "stderr",
     "output_type": "stream",
     "text": [
      "NOTE: Results may be misleading due to involvement in interactions\n",
      "\n"
     ]
    },
    {
     "data": {
      "text/html": [
       "<dl>\n",
       "\t<dt>$emmeans</dt>\n",
       "\t\t<dd><table class=\"dataframe\">\n",
       "<caption>A summary_emm: 2 × 9</caption>\n",
       "<thead>\n",
       "\t<tr><th></th><th scope=col>condition</th><th scope=col>rate</th><th scope=col>SE</th><th scope=col>df</th><th scope=col>asymp.LCL</th><th scope=col>asymp.UCL</th><th scope=col>null</th><th scope=col>z.ratio</th><th scope=col>p.value</th></tr>\n",
       "\t<tr><th></th><th scope=col>&lt;fct&gt;</th><th scope=col>&lt;dbl&gt;</th><th scope=col>&lt;dbl&gt;</th><th scope=col>&lt;dbl&gt;</th><th scope=col>&lt;dbl&gt;</th><th scope=col>&lt;dbl&gt;</th><th scope=col>&lt;dbl&gt;</th><th scope=col>&lt;dbl&gt;</th><th scope=col>&lt;dbl&gt;</th></tr>\n",
       "</thead>\n",
       "<tbody>\n",
       "\t<tr><th scope=row>1</th><td>p0</td><td>0.0002156574</td><td>0.0002138324</td><td>Inf</td><td>3.088635e-05</td><td>0.001505783</td><td>1</td><td>-8.513871</td><td>1.682205e-17</td></tr>\n",
       "\t<tr><th scope=row>2</th><td>r0</td><td>0.0073985766</td><td>0.0039255817</td><td>Inf</td><td>2.615246e-03</td><td>0.020930705</td><td>1</td><td>-9.247261</td><td>2.303197e-20</td></tr>\n",
       "</tbody>\n",
       "</table>\n",
       "</dd>\n",
       "\t<dt>$contrasts</dt>\n",
       "\t\t<dd><table class=\"dataframe\">\n",
       "<caption>A summary_emm: 1 × 9</caption>\n",
       "<thead>\n",
       "\t<tr><th></th><th scope=col>contrast</th><th scope=col>ratio</th><th scope=col>SE</th><th scope=col>df</th><th scope=col>asymp.LCL</th><th scope=col>asymp.UCL</th><th scope=col>null</th><th scope=col>z.ratio</th><th scope=col>p.value</th></tr>\n",
       "\t<tr><th></th><th scope=col>&lt;fct&gt;</th><th scope=col>&lt;dbl&gt;</th><th scope=col>&lt;dbl&gt;</th><th scope=col>&lt;dbl&gt;</th><th scope=col>&lt;dbl&gt;</th><th scope=col>&lt;dbl&gt;</th><th scope=col>&lt;dbl&gt;</th><th scope=col>&lt;dbl&gt;</th><th scope=col>&lt;dbl&gt;</th></tr>\n",
       "</thead>\n",
       "<tbody>\n",
       "\t<tr><th scope=row>1</th><td>p0 / r0</td><td>0.0291485</td><td>0.03139181</td><td>Inf</td><td>0.003531059</td><td>0.2406177</td><td>1</td><td>-3.28271</td><td>0.001028145</td></tr>\n",
       "</tbody>\n",
       "</table>\n",
       "</dd>\n",
       "</dl>\n"
      ],
      "text/latex": [
       "\\begin{description}\n",
       "\\item[\\$emmeans] A summary\\_emm: 2 × 9\n",
       "\\begin{tabular}{r|lllllllll}\n",
       "  & condition & rate & SE & df & asymp.LCL & asymp.UCL & null & z.ratio & p.value\\\\\n",
       "  & <fct> & <dbl> & <dbl> & <dbl> & <dbl> & <dbl> & <dbl> & <dbl> & <dbl>\\\\\n",
       "\\hline\n",
       "\t1 & p0 & 0.0002156574 & 0.0002138324 & Inf & 3.088635e-05 & 0.001505783 & 1 & -8.513871 & 1.682205e-17\\\\\n",
       "\t2 & r0 & 0.0073985766 & 0.0039255817 & Inf & 2.615246e-03 & 0.020930705 & 1 & -9.247261 & 2.303197e-20\\\\\n",
       "\\end{tabular}\n",
       "\n",
       "\\item[\\$contrasts] A summary\\_emm: 1 × 9\n",
       "\\begin{tabular}{r|lllllllll}\n",
       "  & contrast & ratio & SE & df & asymp.LCL & asymp.UCL & null & z.ratio & p.value\\\\\n",
       "  & <fct> & <dbl> & <dbl> & <dbl> & <dbl> & <dbl> & <dbl> & <dbl> & <dbl>\\\\\n",
       "\\hline\n",
       "\t1 & p0 / r0 & 0.0291485 & 0.03139181 & Inf & 0.003531059 & 0.2406177 & 1 & -3.28271 & 0.001028145\\\\\n",
       "\\end{tabular}\n",
       "\n",
       "\\end{description}\n"
      ],
      "text/markdown": [
       "$emmeans\n",
       ":   \n",
       "A summary_emm: 2 × 9\n",
       "\n",
       "| <!--/--> | condition &lt;fct&gt; | rate &lt;dbl&gt; | SE &lt;dbl&gt; | df &lt;dbl&gt; | asymp.LCL &lt;dbl&gt; | asymp.UCL &lt;dbl&gt; | null &lt;dbl&gt; | z.ratio &lt;dbl&gt; | p.value &lt;dbl&gt; |\n",
       "|---|---|---|---|---|---|---|---|---|---|\n",
       "| 1 | p0 | 0.0002156574 | 0.0002138324 | Inf | 3.088635e-05 | 0.001505783 | 1 | -8.513871 | 1.682205e-17 |\n",
       "| 2 | r0 | 0.0073985766 | 0.0039255817 | Inf | 2.615246e-03 | 0.020930705 | 1 | -9.247261 | 2.303197e-20 |\n",
       "\n",
       "\n",
       "$contrasts\n",
       ":   \n",
       "A summary_emm: 1 × 9\n",
       "\n",
       "| <!--/--> | contrast &lt;fct&gt; | ratio &lt;dbl&gt; | SE &lt;dbl&gt; | df &lt;dbl&gt; | asymp.LCL &lt;dbl&gt; | asymp.UCL &lt;dbl&gt; | null &lt;dbl&gt; | z.ratio &lt;dbl&gt; | p.value &lt;dbl&gt; |\n",
       "|---|---|---|---|---|---|---|---|---|---|\n",
       "| 1 | p0 / r0 | 0.0291485 | 0.03139181 | Inf | 0.003531059 | 0.2406177 | 1 | -3.28271 | 0.001028145 |\n",
       "\n",
       "\n",
       "\n",
       "\n"
      ],
      "text/plain": [
       "$emmeans\n",
       " condition     rate       SE  df asymp.LCL asymp.UCL null z.ratio p.value\n",
       " p0        0.000216 0.000214 Inf  3.09e-05   0.00151    1  -8.514  <.0001\n",
       " r0        0.007399 0.003926 Inf  2.62e-03   0.02093    1  -9.247  <.0001\n",
       "\n",
       "Results are averaged over the levels of: main_or_gap, story \n",
       "Confidence level used: 0.95 \n",
       "Intervals are back-transformed from the log scale \n",
       "Tests are performed on the log scale \n",
       "\n",
       "$contrasts\n",
       " contrast  ratio     SE  df asymp.LCL asymp.UCL null z.ratio p.value\n",
       " p0 / r0  0.0291 0.0314 Inf   0.00353     0.241    1  -3.283  0.0010\n",
       "\n",
       "Results are averaged over the levels of: main_or_gap, story \n",
       "Confidence level used: 0.95 \n",
       "Intervals are back-transformed from the log scale \n",
       "Tests are performed on the log scale \n"
      ]
     },
     "metadata": {},
     "output_type": "display_data"
    }
   ],
   "source": [
    "emmeans(p0_r0_hit_refer_step_2, pairwise ~ condition, type='response') %>% summary(infer = TRUE)"
   ]
  },
  {
   "cell_type": "code",
   "execution_count": 56,
   "metadata": {
    "vscode": {
     "languageId": "r"
    }
   },
   "outputs": [
    {
     "name": "stderr",
     "output_type": "stream",
     "text": [
      "NOTE: Results may be misleading due to involvement in interactions\n",
      "\n"
     ]
    },
    {
     "data": {
      "text/html": [
       "<dl>\n",
       "\t<dt>$emmeans</dt>\n",
       "\t\t<dd><table class=\"dataframe\">\n",
       "<caption>A summary_emm: 4 × 10</caption>\n",
       "<thead>\n",
       "\t<tr><th></th><th scope=col>condition</th><th scope=col>main_or_gap</th><th scope=col>rate</th><th scope=col>SE</th><th scope=col>df</th><th scope=col>asymp.LCL</th><th scope=col>asymp.UCL</th><th scope=col>null</th><th scope=col>z.ratio</th><th scope=col>p.value</th></tr>\n",
       "\t<tr><th></th><th scope=col>&lt;fct&gt;</th><th scope=col>&lt;fct&gt;</th><th scope=col>&lt;dbl&gt;</th><th scope=col>&lt;dbl&gt;</th><th scope=col>&lt;dbl&gt;</th><th scope=col>&lt;dbl&gt;</th><th scope=col>&lt;dbl&gt;</th><th scope=col>&lt;dbl&gt;</th><th scope=col>&lt;dbl&gt;</th><th scope=col>&lt;dbl&gt;</th></tr>\n",
       "</thead>\n",
       "<tbody>\n",
       "\t<tr><th scope=row>1</th><td>p0</td><td>gap </td><td>6.322415e-05</td><td>0.0001038541</td><td>Inf</td><td>2.527381e-06</td><td>0.001581595</td><td>1</td><td>-5.886172</td><td>3.952435e-09</td></tr>\n",
       "\t<tr><th scope=row>2</th><td>r0</td><td>gap </td><td>1.565363e-03</td><td>0.0015111884</td><td>Inf</td><td>2.359785e-04</td><td>0.010383838</td><td>1</td><td>-6.691210</td><td>2.213326e-11</td></tr>\n",
       "\t<tr><th scope=row>3</th><td>p0</td><td>main</td><td>7.356070e-04</td><td>0.0007400276</td><td>Inf</td><td>1.024069e-04</td><td>0.005283998</td><td>1</td><td>-7.171717</td><td>7.406315e-13</td></tr>\n",
       "\t<tr><th scope=row>4</th><td>r0</td><td>main</td><td>3.496884e-02</td><td>0.0129841380</td><td>Inf</td><td>1.688982e-02</td><td>0.072399807</td><td>1</td><td>-9.031091</td><td>1.699685e-19</td></tr>\n",
       "</tbody>\n",
       "</table>\n",
       "</dd>\n",
       "\t<dt>$contrasts</dt>\n",
       "\t\t<dd><table class=\"dataframe\">\n",
       "<caption>A summary_emm: 2 × 10</caption>\n",
       "<thead>\n",
       "\t<tr><th></th><th scope=col>contrast</th><th scope=col>main_or_gap</th><th scope=col>ratio</th><th scope=col>SE</th><th scope=col>df</th><th scope=col>asymp.LCL</th><th scope=col>asymp.UCL</th><th scope=col>null</th><th scope=col>z.ratio</th><th scope=col>p.value</th></tr>\n",
       "\t<tr><th></th><th scope=col>&lt;fct&gt;</th><th scope=col>&lt;fct&gt;</th><th scope=col>&lt;dbl&gt;</th><th scope=col>&lt;dbl&gt;</th><th scope=col>&lt;dbl&gt;</th><th scope=col>&lt;dbl&gt;</th><th scope=col>&lt;dbl&gt;</th><th scope=col>&lt;dbl&gt;</th><th scope=col>&lt;dbl&gt;</th><th scope=col>&lt;dbl&gt;</th></tr>\n",
       "</thead>\n",
       "<tbody>\n",
       "\t<tr><th scope=row>1</th><td>p0 / r0</td><td>gap </td><td>0.04038944</td><td>0.07570135</td><td>Inf</td><td>0.001025352</td><td>1.5909721</td><td>1</td><td>-1.712219</td><td>0.0868563578</td></tr>\n",
       "\t<tr><th scope=row>2</th><td>p0 / r0</td><td>main</td><td>0.02103607</td><td>0.02174760</td><td>Inf</td><td>0.002773140</td><td>0.1595723</td><td>1</td><td>-3.735177</td><td>0.0001875834</td></tr>\n",
       "</tbody>\n",
       "</table>\n",
       "</dd>\n",
       "</dl>\n"
      ],
      "text/latex": [
       "\\begin{description}\n",
       "\\item[\\$emmeans] A summary\\_emm: 4 × 10\n",
       "\\begin{tabular}{r|llllllllll}\n",
       "  & condition & main\\_or\\_gap & rate & SE & df & asymp.LCL & asymp.UCL & null & z.ratio & p.value\\\\\n",
       "  & <fct> & <fct> & <dbl> & <dbl> & <dbl> & <dbl> & <dbl> & <dbl> & <dbl> & <dbl>\\\\\n",
       "\\hline\n",
       "\t1 & p0 & gap  & 6.322415e-05 & 0.0001038541 & Inf & 2.527381e-06 & 0.001581595 & 1 & -5.886172 & 3.952435e-09\\\\\n",
       "\t2 & r0 & gap  & 1.565363e-03 & 0.0015111884 & Inf & 2.359785e-04 & 0.010383838 & 1 & -6.691210 & 2.213326e-11\\\\\n",
       "\t3 & p0 & main & 7.356070e-04 & 0.0007400276 & Inf & 1.024069e-04 & 0.005283998 & 1 & -7.171717 & 7.406315e-13\\\\\n",
       "\t4 & r0 & main & 3.496884e-02 & 0.0129841380 & Inf & 1.688982e-02 & 0.072399807 & 1 & -9.031091 & 1.699685e-19\\\\\n",
       "\\end{tabular}\n",
       "\n",
       "\\item[\\$contrasts] A summary\\_emm: 2 × 10\n",
       "\\begin{tabular}{r|llllllllll}\n",
       "  & contrast & main\\_or\\_gap & ratio & SE & df & asymp.LCL & asymp.UCL & null & z.ratio & p.value\\\\\n",
       "  & <fct> & <fct> & <dbl> & <dbl> & <dbl> & <dbl> & <dbl> & <dbl> & <dbl> & <dbl>\\\\\n",
       "\\hline\n",
       "\t1 & p0 / r0 & gap  & 0.04038944 & 0.07570135 & Inf & 0.001025352 & 1.5909721 & 1 & -1.712219 & 0.0868563578\\\\\n",
       "\t2 & p0 / r0 & main & 0.02103607 & 0.02174760 & Inf & 0.002773140 & 0.1595723 & 1 & -3.735177 & 0.0001875834\\\\\n",
       "\\end{tabular}\n",
       "\n",
       "\\end{description}\n"
      ],
      "text/markdown": [
       "$emmeans\n",
       ":   \n",
       "A summary_emm: 4 × 10\n",
       "\n",
       "| <!--/--> | condition &lt;fct&gt; | main_or_gap &lt;fct&gt; | rate &lt;dbl&gt; | SE &lt;dbl&gt; | df &lt;dbl&gt; | asymp.LCL &lt;dbl&gt; | asymp.UCL &lt;dbl&gt; | null &lt;dbl&gt; | z.ratio &lt;dbl&gt; | p.value &lt;dbl&gt; |\n",
       "|---|---|---|---|---|---|---|---|---|---|---|\n",
       "| 1 | p0 | gap  | 6.322415e-05 | 0.0001038541 | Inf | 2.527381e-06 | 0.001581595 | 1 | -5.886172 | 3.952435e-09 |\n",
       "| 2 | r0 | gap  | 1.565363e-03 | 0.0015111884 | Inf | 2.359785e-04 | 0.010383838 | 1 | -6.691210 | 2.213326e-11 |\n",
       "| 3 | p0 | main | 7.356070e-04 | 0.0007400276 | Inf | 1.024069e-04 | 0.005283998 | 1 | -7.171717 | 7.406315e-13 |\n",
       "| 4 | r0 | main | 3.496884e-02 | 0.0129841380 | Inf | 1.688982e-02 | 0.072399807 | 1 | -9.031091 | 1.699685e-19 |\n",
       "\n",
       "\n",
       "$contrasts\n",
       ":   \n",
       "A summary_emm: 2 × 10\n",
       "\n",
       "| <!--/--> | contrast &lt;fct&gt; | main_or_gap &lt;fct&gt; | ratio &lt;dbl&gt; | SE &lt;dbl&gt; | df &lt;dbl&gt; | asymp.LCL &lt;dbl&gt; | asymp.UCL &lt;dbl&gt; | null &lt;dbl&gt; | z.ratio &lt;dbl&gt; | p.value &lt;dbl&gt; |\n",
       "|---|---|---|---|---|---|---|---|---|---|---|\n",
       "| 1 | p0 / r0 | gap  | 0.04038944 | 0.07570135 | Inf | 0.001025352 | 1.5909721 | 1 | -1.712219 | 0.0868563578 |\n",
       "| 2 | p0 / r0 | main | 0.02103607 | 0.02174760 | Inf | 0.002773140 | 0.1595723 | 1 | -3.735177 | 0.0001875834 |\n",
       "\n",
       "\n",
       "\n",
       "\n"
      ],
      "text/plain": [
       "$emmeans\n",
       "main_or_gap = gap:\n",
       " condition     rate       SE  df asymp.LCL asymp.UCL null z.ratio p.value\n",
       " p0        6.32e-05 0.000104 Inf  2.53e-06   0.00158    1  -5.886  <.0001\n",
       " r0        1.57e-03 0.001511 Inf  2.36e-04   0.01038    1  -6.691  <.0001\n",
       "\n",
       "main_or_gap = main:\n",
       " condition     rate       SE  df asymp.LCL asymp.UCL null z.ratio p.value\n",
       " p0        7.36e-04 0.000740 Inf  1.02e-04   0.00528    1  -7.172  <.0001\n",
       " r0        3.50e-02 0.012984 Inf  1.69e-02   0.07240    1  -9.031  <.0001\n",
       "\n",
       "Results are averaged over the levels of: story \n",
       "Confidence level used: 0.95 \n",
       "Intervals are back-transformed from the log scale \n",
       "Tests are performed on the log scale \n",
       "\n",
       "$contrasts\n",
       "main_or_gap = gap:\n",
       " contrast  ratio     SE  df asymp.LCL asymp.UCL null z.ratio p.value\n",
       " p0 / r0  0.0404 0.0757 Inf   0.00103      1.59    1  -1.712  0.0869\n",
       "\n",
       "main_or_gap = main:\n",
       " contrast  ratio     SE  df asymp.LCL asymp.UCL null z.ratio p.value\n",
       " p0 / r0  0.0210 0.0217 Inf   0.00277      0.16    1  -3.735  0.0002\n",
       "\n",
       "Results are averaged over the levels of: story \n",
       "Confidence level used: 0.95 \n",
       "Intervals are back-transformed from the log scale \n",
       "Tests are performed on the log scale \n"
      ]
     },
     "metadata": {},
     "output_type": "display_data"
    }
   ],
   "source": [
    "emmeans(p0_r0_hit_refer_step_2, pairwise ~ condition|main_or_gap, type='response') %>% summary(infer = TRUE)"
   ]
  },
  {
   "cell_type": "markdown",
   "metadata": {},
   "source": [
    "# figure 6"
   ]
  },
  {
   "cell_type": "code",
   "execution_count": 6,
   "metadata": {
    "vscode": {
     "languageId": "r"
    }
   },
   "outputs": [],
   "source": [
    "p0_r0_seg_seg_type_1 <- readRDS(\"../stats_models/main/p0_r0_seg_seg_type_1.rds\")"
   ]
  },
  {
   "cell_type": "code",
   "execution_count": null,
   "metadata": {
    "vscode": {
     "languageId": "r"
    }
   },
   "outputs": [
    {
     "name": "stderr",
     "output_type": "stream",
     "text": [
      "NOTE: Results may be misleading due to involvement in interactions\n",
      "\n"
     ]
    },
    {
     "data": {
      "text/html": [
       "<dl>\n",
       "\t<dt>$emmeans</dt>\n",
       "\t\t<dd><table class=\"dataframe\">\n",
       "<caption>A summary_emm: 4 × 10</caption>\n",
       "<thead>\n",
       "\t<tr><th></th><th scope=col>refer_type_merge</th><th scope=col>condition</th><th scope=col>prob</th><th scope=col>SE</th><th scope=col>df</th><th scope=col>asymp.LCL</th><th scope=col>asymp.UCL</th><th scope=col>null</th><th scope=col>z.ratio</th><th scope=col>p.value</th></tr>\n",
       "\t<tr><th></th><th scope=col>&lt;fct&gt;</th><th scope=col>&lt;fct&gt;</th><th scope=col>&lt;dbl&gt;</th><th scope=col>&lt;dbl&gt;</th><th scope=col>&lt;dbl&gt;</th><th scope=col>&lt;dbl&gt;</th><th scope=col>&lt;dbl&gt;</th><th scope=col>&lt;dbl&gt;</th><th scope=col>&lt;dbl&gt;</th><th scope=col>&lt;dbl&gt;</th></tr>\n",
       "</thead>\n",
       "<tbody>\n",
       "\t<tr><th scope=row>1</th><td>none    </td><td>p0</td><td>0.001751498</td><td>0.0005624073</td><td>Inf</td><td>0.0009331779</td><td>0.003285057</td><td>0.5</td><td>-19.72719</td><td> 1.259715e-86</td></tr>\n",
       "\t<tr><th scope=row>2</th><td>referred</td><td>p0</td><td>0.014333274</td><td>0.0058815149</td><td>Inf</td><td>0.0063895504</td><td>0.031836489</td><td>0.5</td><td>-10.16254</td><td> 2.913978e-24</td></tr>\n",
       "\t<tr><th scope=row>3</th><td>none    </td><td>r0</td><td>0.003491541</td><td>0.0008846552</td><td>Inf</td><td>0.0021241605</td><td>0.005734086</td><td>0.5</td><td>-22.23686</td><td>1.511836e-109</td></tr>\n",
       "\t<tr><th scope=row>4</th><td>referred</td><td>r0</td><td>0.042609884</td><td>0.0120696962</td><td>Inf</td><td>0.0243157655</td><td>0.073629033</td><td>0.5</td><td>-10.51865</td><td> 7.088300e-26</td></tr>\n",
       "</tbody>\n",
       "</table>\n",
       "</dd>\n",
       "\t<dt>$contrasts</dt>\n",
       "\t\t<dd><table class=\"dataframe\">\n",
       "<caption>A summary_emm: 2 × 10</caption>\n",
       "<thead>\n",
       "\t<tr><th></th><th scope=col>contrast</th><th scope=col>condition</th><th scope=col>odds.ratio</th><th scope=col>SE</th><th scope=col>df</th><th scope=col>asymp.LCL</th><th scope=col>asymp.UCL</th><th scope=col>null</th><th scope=col>z.ratio</th><th scope=col>p.value</th></tr>\n",
       "\t<tr><th></th><th scope=col>&lt;fct&gt;</th><th scope=col>&lt;fct&gt;</th><th scope=col>&lt;dbl&gt;</th><th scope=col>&lt;dbl&gt;</th><th scope=col>&lt;dbl&gt;</th><th scope=col>&lt;dbl&gt;</th><th scope=col>&lt;dbl&gt;</th><th scope=col>&lt;dbl&gt;</th><th scope=col>&lt;dbl&gt;</th><th scope=col>&lt;dbl&gt;</th></tr>\n",
       "</thead>\n",
       "<tbody>\n",
       "\t<tr><th scope=row>1</th><td>none / referred</td><td>p0</td><td>0.12065786</td><td>0.03734902</td><td>Inf</td><td>0.06577647</td><td>0.2213302</td><td>1</td><td> -6.831955</td><td>8.376512e-12</td></tr>\n",
       "\t<tr><th scope=row>2</th><td>none / referred</td><td>r0</td><td>0.07872539</td><td>0.01828744</td><td>Inf</td><td>0.04993278</td><td>0.1241206</td><td>1</td><td>-10.942120</td><td>7.248458e-28</td></tr>\n",
       "</tbody>\n",
       "</table>\n",
       "</dd>\n",
       "</dl>\n"
      ],
      "text/latex": [
       "\\begin{description}\n",
       "\\item[\\$emmeans] A summary\\_emm: 4 × 10\n",
       "\\begin{tabular}{r|llllllllll}\n",
       "  & refer\\_type\\_merge & condition & prob & SE & df & asymp.LCL & asymp.UCL & null & z.ratio & p.value\\\\\n",
       "  & <fct> & <fct> & <dbl> & <dbl> & <dbl> & <dbl> & <dbl> & <dbl> & <dbl> & <dbl>\\\\\n",
       "\\hline\n",
       "\t1 & none     & p0 & 0.001751498 & 0.0005624073 & Inf & 0.0009331779 & 0.003285057 & 0.5 & -19.72719 &  1.259715e-86\\\\\n",
       "\t2 & referred & p0 & 0.014333274 & 0.0058815149 & Inf & 0.0063895504 & 0.031836489 & 0.5 & -10.16254 &  2.913978e-24\\\\\n",
       "\t3 & none     & r0 & 0.003491541 & 0.0008846552 & Inf & 0.0021241605 & 0.005734086 & 0.5 & -22.23686 & 1.511836e-109\\\\\n",
       "\t4 & referred & r0 & 0.042609884 & 0.0120696962 & Inf & 0.0243157655 & 0.073629033 & 0.5 & -10.51865 &  7.088300e-26\\\\\n",
       "\\end{tabular}\n",
       "\n",
       "\\item[\\$contrasts] A summary\\_emm: 2 × 10\n",
       "\\begin{tabular}{r|llllllllll}\n",
       "  & contrast & condition & odds.ratio & SE & df & asymp.LCL & asymp.UCL & null & z.ratio & p.value\\\\\n",
       "  & <fct> & <fct> & <dbl> & <dbl> & <dbl> & <dbl> & <dbl> & <dbl> & <dbl> & <dbl>\\\\\n",
       "\\hline\n",
       "\t1 & none / referred & p0 & 0.12065786 & 0.03734902 & Inf & 0.06577647 & 0.2213302 & 1 &  -6.831955 & 8.376512e-12\\\\\n",
       "\t2 & none / referred & r0 & 0.07872539 & 0.01828744 & Inf & 0.04993278 & 0.1241206 & 1 & -10.942120 & 7.248458e-28\\\\\n",
       "\\end{tabular}\n",
       "\n",
       "\\end{description}\n"
      ],
      "text/markdown": [
       "$emmeans\n",
       ":   \n",
       "A summary_emm: 4 × 10\n",
       "\n",
       "| <!--/--> | refer_type_merge &lt;fct&gt; | condition &lt;fct&gt; | prob &lt;dbl&gt; | SE &lt;dbl&gt; | df &lt;dbl&gt; | asymp.LCL &lt;dbl&gt; | asymp.UCL &lt;dbl&gt; | null &lt;dbl&gt; | z.ratio &lt;dbl&gt; | p.value &lt;dbl&gt; |\n",
       "|---|---|---|---|---|---|---|---|---|---|---|\n",
       "| 1 | none     | p0 | 0.001751498 | 0.0005624073 | Inf | 0.0009331779 | 0.003285057 | 0.5 | -19.72719 |  1.259715e-86 |\n",
       "| 2 | referred | p0 | 0.014333274 | 0.0058815149 | Inf | 0.0063895504 | 0.031836489 | 0.5 | -10.16254 |  2.913978e-24 |\n",
       "| 3 | none     | r0 | 0.003491541 | 0.0008846552 | Inf | 0.0021241605 | 0.005734086 | 0.5 | -22.23686 | 1.511836e-109 |\n",
       "| 4 | referred | r0 | 0.042609884 | 0.0120696962 | Inf | 0.0243157655 | 0.073629033 | 0.5 | -10.51865 |  7.088300e-26 |\n",
       "\n",
       "\n",
       "$contrasts\n",
       ":   \n",
       "A summary_emm: 2 × 10\n",
       "\n",
       "| <!--/--> | contrast &lt;fct&gt; | condition &lt;fct&gt; | odds.ratio &lt;dbl&gt; | SE &lt;dbl&gt; | df &lt;dbl&gt; | asymp.LCL &lt;dbl&gt; | asymp.UCL &lt;dbl&gt; | null &lt;dbl&gt; | z.ratio &lt;dbl&gt; | p.value &lt;dbl&gt; |\n",
       "|---|---|---|---|---|---|---|---|---|---|---|\n",
       "| 1 | none / referred | p0 | 0.12065786 | 0.03734902 | Inf | 0.06577647 | 0.2213302 | 1 |  -6.831955 | 8.376512e-12 |\n",
       "| 2 | none / referred | r0 | 0.07872539 | 0.01828744 | Inf | 0.04993278 | 0.1241206 | 1 | -10.942120 | 7.248458e-28 |\n",
       "\n",
       "\n",
       "\n",
       "\n"
      ],
      "text/plain": [
       "$emmeans\n",
       "condition = p0:\n",
       " refer_type_merge    prob       SE  df asymp.LCL asymp.UCL null z.ratio p.value\n",
       " none             0.00175 0.000562 Inf  0.000933   0.00329  0.5 -19.727  <.0001\n",
       " referred         0.01433 0.005882 Inf  0.006390   0.03184  0.5 -10.163  <.0001\n",
       "\n",
       "condition = r0:\n",
       " refer_type_merge    prob       SE  df asymp.LCL asymp.UCL null z.ratio p.value\n",
       " none             0.00349 0.000885 Inf  0.002124   0.00573  0.5 -22.237  <.0001\n",
       " referred         0.04261 0.012070 Inf  0.024316   0.07363  0.5 -10.519  <.0001\n",
       "\n",
       "Results are averaged over the levels of: main_or_gap \n",
       "Confidence level used: 0.95 \n",
       "Intervals are back-transformed from the logit scale \n",
       "Tests are performed on the logit scale \n",
       "\n",
       "$contrasts\n",
       "condition = p0:\n",
       " contrast        odds.ratio     SE  df asymp.LCL asymp.UCL null z.ratio p.value\n",
       " none / referred     0.1207 0.0373 Inf    0.0658     0.221    1  -6.832  <.0001\n",
       "\n",
       "condition = r0:\n",
       " contrast        odds.ratio     SE  df asymp.LCL asymp.UCL null z.ratio p.value\n",
       " none / referred     0.0787 0.0183 Inf    0.0499     0.124    1 -10.942  <.0001\n",
       "\n",
       "Results are averaged over the levels of: main_or_gap \n",
       "Confidence level used: 0.95 \n",
       "Intervals are back-transformed from the log odds ratio scale \n",
       "Tests are performed on the log odds ratio scale \n"
      ]
     },
     "metadata": {},
     "output_type": "display_data"
    }
   ],
   "source": [
    "emmeans(p0_r0_seg_seg_type_1, pairwise ~ refer_type_merge|condition, \n",
    "              type='response') %>% summary(infer = TRUE)"
   ]
  },
  {
   "cell_type": "code",
   "execution_count": null,
   "metadata": {
    "vscode": {
     "languageId": "r"
    }
   },
   "outputs": [
    {
     "name": "stderr",
     "output_type": "stream",
     "text": [
      "NOTE: Results may be misleading due to involvement in interactions\n",
      "\n"
     ]
    },
    {
     "data": {
      "text/html": [
       "<dl>\n",
       "\t<dt>$emmeans</dt>\n",
       "\t\t<dd><table class=\"dataframe\">\n",
       "<caption>A summary_emm: 4 × 10</caption>\n",
       "<thead>\n",
       "\t<tr><th></th><th scope=col>condition</th><th scope=col>refer_type_merge</th><th scope=col>prob</th><th scope=col>SE</th><th scope=col>df</th><th scope=col>asymp.LCL</th><th scope=col>asymp.UCL</th><th scope=col>null</th><th scope=col>z.ratio</th><th scope=col>p.value</th></tr>\n",
       "\t<tr><th></th><th scope=col>&lt;fct&gt;</th><th scope=col>&lt;fct&gt;</th><th scope=col>&lt;dbl&gt;</th><th scope=col>&lt;dbl&gt;</th><th scope=col>&lt;dbl&gt;</th><th scope=col>&lt;dbl&gt;</th><th scope=col>&lt;dbl&gt;</th><th scope=col>&lt;dbl&gt;</th><th scope=col>&lt;dbl&gt;</th><th scope=col>&lt;dbl&gt;</th></tr>\n",
       "</thead>\n",
       "<tbody>\n",
       "\t<tr><th scope=row>1</th><td>p0</td><td>none    </td><td>0.001751498</td><td>0.0005624073</td><td>Inf</td><td>0.0009331779</td><td>0.003285057</td><td>0.5</td><td>-19.72719</td><td> 1.259715e-86</td></tr>\n",
       "\t<tr><th scope=row>2</th><td>r0</td><td>none    </td><td>0.003491541</td><td>0.0008846552</td><td>Inf</td><td>0.0021241605</td><td>0.005734086</td><td>0.5</td><td>-22.23686</td><td>1.511836e-109</td></tr>\n",
       "\t<tr><th scope=row>3</th><td>p0</td><td>referred</td><td>0.014333274</td><td>0.0058815149</td><td>Inf</td><td>0.0063895504</td><td>0.031836489</td><td>0.5</td><td>-10.16254</td><td> 2.913978e-24</td></tr>\n",
       "\t<tr><th scope=row>4</th><td>r0</td><td>referred</td><td>0.042609884</td><td>0.0120696962</td><td>Inf</td><td>0.0243157655</td><td>0.073629033</td><td>0.5</td><td>-10.51865</td><td> 7.088300e-26</td></tr>\n",
       "</tbody>\n",
       "</table>\n",
       "</dd>\n",
       "\t<dt>$contrasts</dt>\n",
       "\t\t<dd><table class=\"dataframe\">\n",
       "<caption>A summary_emm: 2 × 10</caption>\n",
       "<thead>\n",
       "\t<tr><th></th><th scope=col>contrast</th><th scope=col>refer_type_merge</th><th scope=col>odds.ratio</th><th scope=col>SE</th><th scope=col>df</th><th scope=col>asymp.LCL</th><th scope=col>asymp.UCL</th><th scope=col>null</th><th scope=col>z.ratio</th><th scope=col>p.value</th></tr>\n",
       "\t<tr><th></th><th scope=col>&lt;fct&gt;</th><th scope=col>&lt;fct&gt;</th><th scope=col>&lt;dbl&gt;</th><th scope=col>&lt;dbl&gt;</th><th scope=col>&lt;dbl&gt;</th><th scope=col>&lt;dbl&gt;</th><th scope=col>&lt;dbl&gt;</th><th scope=col>&lt;dbl&gt;</th><th scope=col>&lt;dbl&gt;</th><th scope=col>&lt;dbl&gt;</th></tr>\n",
       "</thead>\n",
       "<tbody>\n",
       "\t<tr><th scope=row>1</th><td>p0 / r0</td><td>none    </td><td>0.5007659</td><td>0.1441701</td><td>Inf</td><td>0.2848226</td><td>0.8804303</td><td>1</td><td>-2.402287</td><td>0.016292917</td></tr>\n",
       "\t<tr><th scope=row>2</th><td>p0 / r0</td><td>referred</td><td>0.3267337</td><td>0.1267371</td><td>Inf</td><td>0.1527638</td><td>0.6988234</td><td>1</td><td>-2.883824</td><td>0.003928782</td></tr>\n",
       "</tbody>\n",
       "</table>\n",
       "</dd>\n",
       "</dl>\n"
      ],
      "text/latex": [
       "\\begin{description}\n",
       "\\item[\\$emmeans] A summary\\_emm: 4 × 10\n",
       "\\begin{tabular}{r|llllllllll}\n",
       "  & condition & refer\\_type\\_merge & prob & SE & df & asymp.LCL & asymp.UCL & null & z.ratio & p.value\\\\\n",
       "  & <fct> & <fct> & <dbl> & <dbl> & <dbl> & <dbl> & <dbl> & <dbl> & <dbl> & <dbl>\\\\\n",
       "\\hline\n",
       "\t1 & p0 & none     & 0.001751498 & 0.0005624073 & Inf & 0.0009331779 & 0.003285057 & 0.5 & -19.72719 &  1.259715e-86\\\\\n",
       "\t2 & r0 & none     & 0.003491541 & 0.0008846552 & Inf & 0.0021241605 & 0.005734086 & 0.5 & -22.23686 & 1.511836e-109\\\\\n",
       "\t3 & p0 & referred & 0.014333274 & 0.0058815149 & Inf & 0.0063895504 & 0.031836489 & 0.5 & -10.16254 &  2.913978e-24\\\\\n",
       "\t4 & r0 & referred & 0.042609884 & 0.0120696962 & Inf & 0.0243157655 & 0.073629033 & 0.5 & -10.51865 &  7.088300e-26\\\\\n",
       "\\end{tabular}\n",
       "\n",
       "\\item[\\$contrasts] A summary\\_emm: 2 × 10\n",
       "\\begin{tabular}{r|llllllllll}\n",
       "  & contrast & refer\\_type\\_merge & odds.ratio & SE & df & asymp.LCL & asymp.UCL & null & z.ratio & p.value\\\\\n",
       "  & <fct> & <fct> & <dbl> & <dbl> & <dbl> & <dbl> & <dbl> & <dbl> & <dbl> & <dbl>\\\\\n",
       "\\hline\n",
       "\t1 & p0 / r0 & none     & 0.5007659 & 0.1441701 & Inf & 0.2848226 & 0.8804303 & 1 & -2.402287 & 0.016292917\\\\\n",
       "\t2 & p0 / r0 & referred & 0.3267337 & 0.1267371 & Inf & 0.1527638 & 0.6988234 & 1 & -2.883824 & 0.003928782\\\\\n",
       "\\end{tabular}\n",
       "\n",
       "\\end{description}\n"
      ],
      "text/markdown": [
       "$emmeans\n",
       ":   \n",
       "A summary_emm: 4 × 10\n",
       "\n",
       "| <!--/--> | condition &lt;fct&gt; | refer_type_merge &lt;fct&gt; | prob &lt;dbl&gt; | SE &lt;dbl&gt; | df &lt;dbl&gt; | asymp.LCL &lt;dbl&gt; | asymp.UCL &lt;dbl&gt; | null &lt;dbl&gt; | z.ratio &lt;dbl&gt; | p.value &lt;dbl&gt; |\n",
       "|---|---|---|---|---|---|---|---|---|---|---|\n",
       "| 1 | p0 | none     | 0.001751498 | 0.0005624073 | Inf | 0.0009331779 | 0.003285057 | 0.5 | -19.72719 |  1.259715e-86 |\n",
       "| 2 | r0 | none     | 0.003491541 | 0.0008846552 | Inf | 0.0021241605 | 0.005734086 | 0.5 | -22.23686 | 1.511836e-109 |\n",
       "| 3 | p0 | referred | 0.014333274 | 0.0058815149 | Inf | 0.0063895504 | 0.031836489 | 0.5 | -10.16254 |  2.913978e-24 |\n",
       "| 4 | r0 | referred | 0.042609884 | 0.0120696962 | Inf | 0.0243157655 | 0.073629033 | 0.5 | -10.51865 |  7.088300e-26 |\n",
       "\n",
       "\n",
       "$contrasts\n",
       ":   \n",
       "A summary_emm: 2 × 10\n",
       "\n",
       "| <!--/--> | contrast &lt;fct&gt; | refer_type_merge &lt;fct&gt; | odds.ratio &lt;dbl&gt; | SE &lt;dbl&gt; | df &lt;dbl&gt; | asymp.LCL &lt;dbl&gt; | asymp.UCL &lt;dbl&gt; | null &lt;dbl&gt; | z.ratio &lt;dbl&gt; | p.value &lt;dbl&gt; |\n",
       "|---|---|---|---|---|---|---|---|---|---|---|\n",
       "| 1 | p0 / r0 | none     | 0.5007659 | 0.1441701 | Inf | 0.2848226 | 0.8804303 | 1 | -2.402287 | 0.016292917 |\n",
       "| 2 | p0 / r0 | referred | 0.3267337 | 0.1267371 | Inf | 0.1527638 | 0.6988234 | 1 | -2.883824 | 0.003928782 |\n",
       "\n",
       "\n",
       "\n",
       "\n"
      ],
      "text/plain": [
       "$emmeans\n",
       "refer_type_merge = none:\n",
       " condition    prob       SE  df asymp.LCL asymp.UCL null z.ratio p.value\n",
       " p0        0.00175 0.000562 Inf  0.000933   0.00329  0.5 -19.727  <.0001\n",
       " r0        0.00349 0.000885 Inf  0.002124   0.00573  0.5 -22.237  <.0001\n",
       "\n",
       "refer_type_merge = referred:\n",
       " condition    prob       SE  df asymp.LCL asymp.UCL null z.ratio p.value\n",
       " p0        0.01433 0.005882 Inf  0.006390   0.03184  0.5 -10.163  <.0001\n",
       " r0        0.04261 0.012070 Inf  0.024316   0.07363  0.5 -10.519  <.0001\n",
       "\n",
       "Results are averaged over the levels of: main_or_gap \n",
       "Confidence level used: 0.95 \n",
       "Intervals are back-transformed from the logit scale \n",
       "Tests are performed on the logit scale \n",
       "\n",
       "$contrasts\n",
       "refer_type_merge = none:\n",
       " contrast odds.ratio    SE  df asymp.LCL asymp.UCL null z.ratio p.value\n",
       " p0 / r0       0.501 0.144 Inf     0.285     0.880    1  -2.402  0.0163\n",
       "\n",
       "refer_type_merge = referred:\n",
       " contrast odds.ratio    SE  df asymp.LCL asymp.UCL null z.ratio p.value\n",
       " p0 / r0       0.327 0.127 Inf     0.153     0.699    1  -2.884  0.0039\n",
       "\n",
       "Results are averaged over the levels of: main_or_gap \n",
       "Confidence level used: 0.95 \n",
       "Intervals are back-transformed from the log odds ratio scale \n",
       "Tests are performed on the log odds ratio scale \n"
      ]
     },
     "metadata": {},
     "output_type": "display_data"
    }
   ],
   "source": [
    "emmeans(p0_r0_seg_seg_type_1, pairwise ~ condition|refer_type_merge, type='response') %>% summary(infer = TRUE)"
   ]
  },
  {
   "cell_type": "code",
   "execution_count": 7,
   "metadata": {
    "vscode": {
     "languageId": "r"
    }
   },
   "outputs": [
    {
     "data": {
      "text/html": [
       "<dl>\n",
       "\t<dt>$emmeans</dt>\n",
       "\t\t<dd><table class=\"dataframe\">\n",
       "<caption>A summary_emm: 8 x 11</caption>\n",
       "<thead>\n",
       "\t<tr><th></th><th scope=col>condition</th><th scope=col>refer_type_merge</th><th scope=col>main_or_gap</th><th scope=col>prob</th><th scope=col>SE</th><th scope=col>df</th><th scope=col>asymp.LCL</th><th scope=col>asymp.UCL</th><th scope=col>null</th><th scope=col>z.ratio</th><th scope=col>p.value</th></tr>\n",
       "\t<tr><th></th><th scope=col>&lt;fct&gt;</th><th scope=col>&lt;fct&gt;</th><th scope=col>&lt;fct&gt;</th><th scope=col>&lt;dbl&gt;</th><th scope=col>&lt;dbl&gt;</th><th scope=col>&lt;dbl&gt;</th><th scope=col>&lt;dbl&gt;</th><th scope=col>&lt;dbl&gt;</th><th scope=col>&lt;dbl&gt;</th><th scope=col>&lt;dbl&gt;</th><th scope=col>&lt;dbl&gt;</th></tr>\n",
       "</thead>\n",
       "<tbody>\n",
       "\t<tr><th scope=row>1</th><td>p0</td><td>none    </td><td>gap </td><td>0.001393328</td><td>0.0006096988</td><td>Inf</td><td>0.0005907582</td><td>0.003282640</td><td>0.5</td><td>-15.003967</td><td>6.915926e-51</td></tr>\n",
       "\t<tr><th scope=row>2</th><td>r0</td><td>none    </td><td>gap </td><td>0.002095019</td><td>0.0007499479</td><td>Inf</td><td>0.0010382594</td><td>0.004222822</td><td>0.5</td><td>-17.189228</td><td>3.197635e-66</td></tr>\n",
       "\t<tr><th scope=row>3</th><td>p0</td><td>referred</td><td>gap </td><td>0.002879104</td><td>0.0016166704</td><td>Inf</td><td>0.0009566393</td><td>0.008631578</td><td>0.5</td><td>-10.383552</td><td>2.946072e-25</td></tr>\n",
       "\t<tr><th scope=row>4</th><td>r0</td><td>referred</td><td>gap </td><td>0.014664164</td><td>0.0056101156</td><td>Inf</td><td>0.0069051080</td><td>0.030870807</td><td>0.5</td><td>-10.836816</td><td>2.303479e-27</td></tr>\n",
       "\t<tr><th scope=row>5</th><td>p0</td><td>none    </td><td>main</td><td>0.002201536</td><td>0.0007590461</td><td>Inf</td><td>0.0011196224</td><td>0.004324400</td><td>0.5</td><td>-17.700932</td><td>4.124268e-70</td></tr>\n",
       "\t<tr><th scope=row>6</th><td>r0</td><td>none    </td><td>main</td><td>0.005813550</td><td>0.0016018015</td><td>Inf</td><td>0.0033853127</td><td>0.009966112</td><td>0.5</td><td>-18.552829</td><td>7.737061e-77</td></tr>\n",
       "\t<tr><th scope=row>7</th><td>p0</td><td>referred</td><td>main</td><td>0.068237972</td><td>0.0306871018</td><td>Inf</td><td>0.0276514429</td><td>0.158675513</td><td>0.5</td><td> -5.416185</td><td>6.088407e-08</td></tr>\n",
       "\t<tr><th scope=row>8</th><td>r0</td><td>referred</td><td>main</td><td>0.117463390</td><td>0.0365025933</td><td>Inf</td><td>0.0625725593</td><td>0.209733162</td><td>0.5</td><td> -5.727263</td><td>1.020637e-08</td></tr>\n",
       "</tbody>\n",
       "</table>\n",
       "</dd>\n",
       "\t<dt>$contrasts</dt>\n",
       "\t\t<dd><table class=\"dataframe\">\n",
       "<caption>A summary_emm: 4 x 11</caption>\n",
       "<thead>\n",
       "\t<tr><th></th><th scope=col>contrast</th><th scope=col>refer_type_merge</th><th scope=col>main_or_gap</th><th scope=col>odds.ratio</th><th scope=col>SE</th><th scope=col>df</th><th scope=col>asymp.LCL</th><th scope=col>asymp.UCL</th><th scope=col>null</th><th scope=col>z.ratio</th><th scope=col>p.value</th></tr>\n",
       "\t<tr><th></th><th scope=col>&lt;fct&gt;</th><th scope=col>&lt;fct&gt;</th><th scope=col>&lt;fct&gt;</th><th scope=col>&lt;dbl&gt;</th><th scope=col>&lt;dbl&gt;</th><th scope=col>&lt;dbl&gt;</th><th scope=col>&lt;dbl&gt;</th><th scope=col>&lt;dbl&gt;</th><th scope=col>&lt;dbl&gt;</th><th scope=col>&lt;dbl&gt;</th><th scope=col>&lt;dbl&gt;</th></tr>\n",
       "</thead>\n",
       "<tbody>\n",
       "\t<tr><th scope=row>1</th><td>p0 / r0</td><td>none    </td><td>gap </td><td>0.6645995</td><td>0.2972769</td><td>Inf</td><td>0.27657663</td><td>1.5969985</td><td>1</td><td>-0.9134105</td><td>0.361026679</td></tr>\n",
       "\t<tr><th scope=row>2</th><td>p0 / r0</td><td>referred</td><td>gap </td><td>0.1940155</td><td>0.1080177</td><td>Inf</td><td>0.06515266</td><td>0.5777512</td><td>1</td><td>-2.9453514</td><td>0.003225880</td></tr>\n",
       "\t<tr><th scope=row>3</th><td>p0 / r0</td><td>none    </td><td>main</td><td>0.3773197</td><td>0.1419214</td><td>Inf</td><td>0.18052883</td><td>0.7886282</td><td>1</td><td>-2.5912882</td><td>0.009561738</td></tr>\n",
       "\t<tr><th scope=row>4</th><td>p0 / r0</td><td>referred</td><td>main</td><td>0.5502389</td><td>0.2950189</td><td>Inf</td><td>0.19238302</td><td>1.5737505</td><td>1</td><td>-1.1142141</td><td>0.265187366</td></tr>\n",
       "</tbody>\n",
       "</table>\n",
       "</dd>\n",
       "</dl>\n"
      ],
      "text/latex": [
       "\\begin{description}\n",
       "\\item[\\$emmeans] A summary\\_emm: 8 x 11\n",
       "\\begin{tabular}{r|lllllllllll}\n",
       "  & condition & refer\\_type\\_merge & main\\_or\\_gap & prob & SE & df & asymp.LCL & asymp.UCL & null & z.ratio & p.value\\\\\n",
       "  & <fct> & <fct> & <fct> & <dbl> & <dbl> & <dbl> & <dbl> & <dbl> & <dbl> & <dbl> & <dbl>\\\\\n",
       "\\hline\n",
       "\t1 & p0 & none     & gap  & 0.001393328 & 0.0006096988 & Inf & 0.0005907582 & 0.003282640 & 0.5 & -15.003967 & 6.915926e-51\\\\\n",
       "\t2 & r0 & none     & gap  & 0.002095019 & 0.0007499479 & Inf & 0.0010382594 & 0.004222822 & 0.5 & -17.189228 & 3.197635e-66\\\\\n",
       "\t3 & p0 & referred & gap  & 0.002879104 & 0.0016166704 & Inf & 0.0009566393 & 0.008631578 & 0.5 & -10.383552 & 2.946072e-25\\\\\n",
       "\t4 & r0 & referred & gap  & 0.014664164 & 0.0056101156 & Inf & 0.0069051080 & 0.030870807 & 0.5 & -10.836816 & 2.303479e-27\\\\\n",
       "\t5 & p0 & none     & main & 0.002201536 & 0.0007590461 & Inf & 0.0011196224 & 0.004324400 & 0.5 & -17.700932 & 4.124268e-70\\\\\n",
       "\t6 & r0 & none     & main & 0.005813550 & 0.0016018015 & Inf & 0.0033853127 & 0.009966112 & 0.5 & -18.552829 & 7.737061e-77\\\\\n",
       "\t7 & p0 & referred & main & 0.068237972 & 0.0306871018 & Inf & 0.0276514429 & 0.158675513 & 0.5 &  -5.416185 & 6.088407e-08\\\\\n",
       "\t8 & r0 & referred & main & 0.117463390 & 0.0365025933 & Inf & 0.0625725593 & 0.209733162 & 0.5 &  -5.727263 & 1.020637e-08\\\\\n",
       "\\end{tabular}\n",
       "\n",
       "\\item[\\$contrasts] A summary\\_emm: 4 x 11\n",
       "\\begin{tabular}{r|lllllllllll}\n",
       "  & contrast & refer\\_type\\_merge & main\\_or\\_gap & odds.ratio & SE & df & asymp.LCL & asymp.UCL & null & z.ratio & p.value\\\\\n",
       "  & <fct> & <fct> & <fct> & <dbl> & <dbl> & <dbl> & <dbl> & <dbl> & <dbl> & <dbl> & <dbl>\\\\\n",
       "\\hline\n",
       "\t1 & p0 / r0 & none     & gap  & 0.6645995 & 0.2972769 & Inf & 0.27657663 & 1.5969985 & 1 & -0.9134105 & 0.361026679\\\\\n",
       "\t2 & p0 / r0 & referred & gap  & 0.1940155 & 0.1080177 & Inf & 0.06515266 & 0.5777512 & 1 & -2.9453514 & 0.003225880\\\\\n",
       "\t3 & p0 / r0 & none     & main & 0.3773197 & 0.1419214 & Inf & 0.18052883 & 0.7886282 & 1 & -2.5912882 & 0.009561738\\\\\n",
       "\t4 & p0 / r0 & referred & main & 0.5502389 & 0.2950189 & Inf & 0.19238302 & 1.5737505 & 1 & -1.1142141 & 0.265187366\\\\\n",
       "\\end{tabular}\n",
       "\n",
       "\\end{description}\n"
      ],
      "text/markdown": [
       "$emmeans\n",
       ":   \n",
       "A summary_emm: 8 x 11\n",
       "\n",
       "| <!--/--> | condition &lt;fct&gt; | refer_type_merge &lt;fct&gt; | main_or_gap &lt;fct&gt; | prob &lt;dbl&gt; | SE &lt;dbl&gt; | df &lt;dbl&gt; | asymp.LCL &lt;dbl&gt; | asymp.UCL &lt;dbl&gt; | null &lt;dbl&gt; | z.ratio &lt;dbl&gt; | p.value &lt;dbl&gt; |\n",
       "|---|---|---|---|---|---|---|---|---|---|---|---|\n",
       "| 1 | p0 | none     | gap  | 0.001393328 | 0.0006096988 | Inf | 0.0005907582 | 0.003282640 | 0.5 | -15.003967 | 6.915926e-51 |\n",
       "| 2 | r0 | none     | gap  | 0.002095019 | 0.0007499479 | Inf | 0.0010382594 | 0.004222822 | 0.5 | -17.189228 | 3.197635e-66 |\n",
       "| 3 | p0 | referred | gap  | 0.002879104 | 0.0016166704 | Inf | 0.0009566393 | 0.008631578 | 0.5 | -10.383552 | 2.946072e-25 |\n",
       "| 4 | r0 | referred | gap  | 0.014664164 | 0.0056101156 | Inf | 0.0069051080 | 0.030870807 | 0.5 | -10.836816 | 2.303479e-27 |\n",
       "| 5 | p0 | none     | main | 0.002201536 | 0.0007590461 | Inf | 0.0011196224 | 0.004324400 | 0.5 | -17.700932 | 4.124268e-70 |\n",
       "| 6 | r0 | none     | main | 0.005813550 | 0.0016018015 | Inf | 0.0033853127 | 0.009966112 | 0.5 | -18.552829 | 7.737061e-77 |\n",
       "| 7 | p0 | referred | main | 0.068237972 | 0.0306871018 | Inf | 0.0276514429 | 0.158675513 | 0.5 |  -5.416185 | 6.088407e-08 |\n",
       "| 8 | r0 | referred | main | 0.117463390 | 0.0365025933 | Inf | 0.0625725593 | 0.209733162 | 0.5 |  -5.727263 | 1.020637e-08 |\n",
       "\n",
       "\n",
       "$contrasts\n",
       ":   \n",
       "A summary_emm: 4 x 11\n",
       "\n",
       "| <!--/--> | contrast &lt;fct&gt; | refer_type_merge &lt;fct&gt; | main_or_gap &lt;fct&gt; | odds.ratio &lt;dbl&gt; | SE &lt;dbl&gt; | df &lt;dbl&gt; | asymp.LCL &lt;dbl&gt; | asymp.UCL &lt;dbl&gt; | null &lt;dbl&gt; | z.ratio &lt;dbl&gt; | p.value &lt;dbl&gt; |\n",
       "|---|---|---|---|---|---|---|---|---|---|---|---|\n",
       "| 1 | p0 / r0 | none     | gap  | 0.6645995 | 0.2972769 | Inf | 0.27657663 | 1.5969985 | 1 | -0.9134105 | 0.361026679 |\n",
       "| 2 | p0 / r0 | referred | gap  | 0.1940155 | 0.1080177 | Inf | 0.06515266 | 0.5777512 | 1 | -2.9453514 | 0.003225880 |\n",
       "| 3 | p0 / r0 | none     | main | 0.3773197 | 0.1419214 | Inf | 0.18052883 | 0.7886282 | 1 | -2.5912882 | 0.009561738 |\n",
       "| 4 | p0 / r0 | referred | main | 0.5502389 | 0.2950189 | Inf | 0.19238302 | 1.5737505 | 1 | -1.1142141 | 0.265187366 |\n",
       "\n",
       "\n",
       "\n",
       "\n"
      ],
      "text/plain": [
       "$emmeans\n",
       "refer_type_merge = none, main_or_gap = gap:\n",
       " condition    prob       SE  df asymp.LCL asymp.UCL null z.ratio p.value\n",
       " p0        0.00139 0.000610 Inf  0.000591   0.00328  0.5 -15.004  <.0001\n",
       " r0        0.00210 0.000750 Inf  0.001038   0.00422  0.5 -17.189  <.0001\n",
       "\n",
       "refer_type_merge = referred, main_or_gap = gap:\n",
       " condition    prob       SE  df asymp.LCL asymp.UCL null z.ratio p.value\n",
       " p0        0.00288 0.001617 Inf  0.000957   0.00863  0.5 -10.384  <.0001\n",
       " r0        0.01466 0.005610 Inf  0.006905   0.03087  0.5 -10.837  <.0001\n",
       "\n",
       "refer_type_merge = none, main_or_gap = main:\n",
       " condition    prob       SE  df asymp.LCL asymp.UCL null z.ratio p.value\n",
       " p0        0.00220 0.000759 Inf  0.001120   0.00432  0.5 -17.701  <.0001\n",
       " r0        0.00581 0.001602 Inf  0.003385   0.00997  0.5 -18.553  <.0001\n",
       "\n",
       "refer_type_merge = referred, main_or_gap = main:\n",
       " condition    prob       SE  df asymp.LCL asymp.UCL null z.ratio p.value\n",
       " p0        0.06824 0.030687 Inf  0.027651   0.15868  0.5  -5.416  <.0001\n",
       " r0        0.11746 0.036503 Inf  0.062573   0.20973  0.5  -5.727  <.0001\n",
       "\n",
       "Confidence level used: 0.95 \n",
       "Intervals are back-transformed from the logit scale \n",
       "Tests are performed on the logit scale \n",
       "\n",
       "$contrasts\n",
       "refer_type_merge = none, main_or_gap = gap:\n",
       " contrast odds.ratio    SE  df asymp.LCL asymp.UCL null z.ratio p.value\n",
       " p0 / r0       0.665 0.297 Inf    0.2766     1.597    1  -0.913  0.3610\n",
       "\n",
       "refer_type_merge = referred, main_or_gap = gap:\n",
       " contrast odds.ratio    SE  df asymp.LCL asymp.UCL null z.ratio p.value\n",
       " p0 / r0       0.194 0.108 Inf    0.0652     0.578    1  -2.945  0.0032\n",
       "\n",
       "refer_type_merge = none, main_or_gap = main:\n",
       " contrast odds.ratio    SE  df asymp.LCL asymp.UCL null z.ratio p.value\n",
       " p0 / r0       0.377 0.142 Inf    0.1805     0.789    1  -2.591  0.0096\n",
       "\n",
       "refer_type_merge = referred, main_or_gap = main:\n",
       " contrast odds.ratio    SE  df asymp.LCL asymp.UCL null z.ratio p.value\n",
       " p0 / r0       0.550 0.295 Inf    0.1924     1.574    1  -1.114  0.2652\n",
       "\n",
       "Confidence level used: 0.95 \n",
       "Intervals are back-transformed from the log odds ratio scale \n",
       "Tests are performed on the log odds ratio scale \n"
      ]
     },
     "metadata": {},
     "output_type": "display_data"
    }
   ],
   "source": [
    "emmeans(p0_r0_seg_seg_type_1, pairwise ~ condition|refer_type_merge*main_or_gap, \n",
    "              type='response') %>% summary(infer = TRUE)"
   ]
  },
  {
   "cell_type": "code",
   "execution_count": 2,
   "metadata": {
    "vscode": {
     "languageId": "r"
    }
   },
   "outputs": [
    {
     "data": {
      "text/html": [
       "1.50427514997623"
      ],
      "text/latex": [
       "1.50427514997623"
      ],
      "text/markdown": [
       "1.50427514997623"
      ],
      "text/plain": [
       "[1] 1.504275"
      ]
     },
     "metadata": {},
     "output_type": "display_data"
    }
   ],
   "source": [
    "1/\t0.6647720"
   ]
  },
  {
   "cell_type": "markdown",
   "metadata": {},
   "source": [
    "# figure 7"
   ]
  },
  {
   "cell_type": "code",
   "execution_count": 8,
   "metadata": {
    "vscode": {
     "languageId": "r"
    }
   },
   "outputs": [],
   "source": [
    "p0_r0_seg_seg_boost_type_tri_1 <- readRDS(\"../stats_models/main/p0_r0_seg_seg_boost_type_tri_1.rds\")"
   ]
  },
  {
   "cell_type": "code",
   "execution_count": 9,
   "metadata": {
    "vscode": {
     "languageId": "r"
    }
   },
   "outputs": [
    {
     "name": "stderr",
     "output_type": "stream",
     "text": [
      "NOTE: Results may be misleading due to involvement in interactions\n",
      "\n"
     ]
    },
    {
     "data": {
      "text/html": [
       "<dl>\n",
       "\t<dt>$emmeans</dt>\n",
       "\t\t<dd><table class=\"dataframe\">\n",
       "<caption>A summary_emm: 6 × 10</caption>\n",
       "<thead>\n",
       "\t<tr><th></th><th scope=col>refer_boost_type_tri</th><th scope=col>condition</th><th scope=col>prob</th><th scope=col>SE</th><th scope=col>df</th><th scope=col>asymp.LCL</th><th scope=col>asymp.UCL</th><th scope=col>null</th><th scope=col>z.ratio</th><th scope=col>p.value</th></tr>\n",
       "\t<tr><th></th><th scope=col>&lt;fct&gt;</th><th scope=col>&lt;fct&gt;</th><th scope=col>&lt;dbl&gt;</th><th scope=col>&lt;dbl&gt;</th><th scope=col>&lt;dbl&gt;</th><th scope=col>&lt;dbl&gt;</th><th scope=col>&lt;dbl&gt;</th><th scope=col>&lt;dbl&gt;</th><th scope=col>&lt;dbl&gt;</th><th scope=col>&lt;dbl&gt;</th></tr>\n",
       "</thead>\n",
       "<tbody>\n",
       "\t<tr><th scope=row>1</th><td>neighbor</td><td>p0</td><td>0.0032243363</td><td>0.0012795354</td><td>Inf</td><td>0.0014801945</td><td>0.007009208</td><td>0.5</td><td>-14.402168</td><td>5.014522e-47</td></tr>\n",
       "\t<tr><th scope=row>2</th><td>none    </td><td>p0</td><td>0.0010380305</td><td>0.0004520125</td><td>Inf</td><td>0.0004420043</td><td>0.002435817</td><td>0.5</td><td>-15.758936</td><td>5.962849e-56</td></tr>\n",
       "\t<tr><th scope=row>3</th><td>referred</td><td>p0</td><td>0.0269361177</td><td>0.0115334839</td><td>Inf</td><td>0.0115502771</td><td>0.061541031</td><td>0.5</td><td> -8.151640</td><td>3.590212e-16</td></tr>\n",
       "\t<tr><th scope=row>4</th><td>neighbor</td><td>r0</td><td>0.0055327276</td><td>0.0015423576</td><td>Inf</td><td>0.0032014499</td><td>0.009545372</td><td>0.5</td><td>-18.519948</td><td>1.425752e-76</td></tr>\n",
       "\t<tr><th scope=row>5</th><td>none    </td><td>r0</td><td>0.0007776417</td><td>0.0006189710</td><td>Inf</td><td>0.0001633043</td><td>0.003694526</td><td>0.5</td><td> -8.986517</td><td>2.551883e-19</td></tr>\n",
       "\t<tr><th scope=row>6</th><td>referred</td><td>r0</td><td>0.0614651228</td><td>0.0178477402</td><td>Inf</td><td>0.0344815674</td><td>0.107219756</td><td>0.5</td><td> -8.810446</td><td>1.246487e-18</td></tr>\n",
       "</tbody>\n",
       "</table>\n",
       "</dd>\n",
       "\t<dt>$contrasts</dt>\n",
       "\t\t<dd><table class=\"dataframe\">\n",
       "<caption>A summary_emm: 6 × 10</caption>\n",
       "<thead>\n",
       "\t<tr><th></th><th scope=col>contrast</th><th scope=col>condition</th><th scope=col>odds.ratio</th><th scope=col>SE</th><th scope=col>df</th><th scope=col>asymp.LCL</th><th scope=col>asymp.UCL</th><th scope=col>null</th><th scope=col>z.ratio</th><th scope=col>p.value</th></tr>\n",
       "\t<tr><th></th><th scope=col>&lt;fct&gt;</th><th scope=col>&lt;fct&gt;</th><th scope=col>&lt;dbl&gt;</th><th scope=col>&lt;dbl&gt;</th><th scope=col>&lt;dbl&gt;</th><th scope=col>&lt;dbl&gt;</th><th scope=col>&lt;dbl&gt;</th><th scope=col>&lt;dbl&gt;</th><th scope=col>&lt;dbl&gt;</th><th scope=col>&lt;dbl&gt;</th></tr>\n",
       "</thead>\n",
       "<tbody>\n",
       "\t<tr><th scope=row>1</th><td>neighbor / none    </td><td>p0</td><td>3.11301891</td><td>1.540343691</td><td>Inf</td><td>1.18032400</td><td> 8.21036151</td><td>1</td><td>  2.295022</td><td>2.173187e-02</td></tr>\n",
       "\t<tr><th scope=row>2</th><td>neighbor / referred</td><td>p0</td><td>0.11685553</td><td>0.036592873</td><td>Inf</td><td>0.06325555</td><td> 0.21587376</td><td>1</td><td> -6.855636</td><td>7.099592e-12</td></tr>\n",
       "\t<tr><th scope=row>3</th><td>none / referred    </td><td>p0</td><td>0.03753769</td><td>0.019968058</td><td>Inf</td><td>0.01323346</td><td> 0.10647842</td><td>1</td><td> -6.170558</td><td>6.804920e-10</td></tr>\n",
       "\t<tr><th scope=row>4</th><td>neighbor / none    </td><td>r0</td><td>7.14877130</td><td>5.853898740</td><td>Inf</td><td>1.43618324</td><td>35.58385140</td><td>1</td><td>  2.402024</td><td>1.630462e-02</td></tr>\n",
       "\t<tr><th scope=row>5</th><td>neighbor / referred</td><td>r0</td><td>0.08495138</td><td>0.020549215</td><td>Inf</td><td>0.05287740</td><td> 0.13648058</td><td>1</td><td>-10.193217</td><td>2.126110e-24</td></tr>\n",
       "\t<tr><th scope=row>6</th><td>none / referred    </td><td>r0</td><td>0.01188335</td><td>0.009875273</td><td>Inf</td><td>0.00233118</td><td> 0.06057623</td><td>1</td><td> -5.333964</td><td>9.609133e-08</td></tr>\n",
       "</tbody>\n",
       "</table>\n",
       "</dd>\n",
       "</dl>\n"
      ],
      "text/latex": [
       "\\begin{description}\n",
       "\\item[\\$emmeans] A summary\\_emm: 6 × 10\n",
       "\\begin{tabular}{r|llllllllll}\n",
       "  & refer\\_boost\\_type\\_tri & condition & prob & SE & df & asymp.LCL & asymp.UCL & null & z.ratio & p.value\\\\\n",
       "  & <fct> & <fct> & <dbl> & <dbl> & <dbl> & <dbl> & <dbl> & <dbl> & <dbl> & <dbl>\\\\\n",
       "\\hline\n",
       "\t1 & neighbor & p0 & 0.0032243363 & 0.0012795354 & Inf & 0.0014801945 & 0.007009208 & 0.5 & -14.402168 & 5.014522e-47\\\\\n",
       "\t2 & none     & p0 & 0.0010380305 & 0.0004520125 & Inf & 0.0004420043 & 0.002435817 & 0.5 & -15.758936 & 5.962849e-56\\\\\n",
       "\t3 & referred & p0 & 0.0269361177 & 0.0115334839 & Inf & 0.0115502771 & 0.061541031 & 0.5 &  -8.151640 & 3.590212e-16\\\\\n",
       "\t4 & neighbor & r0 & 0.0055327276 & 0.0015423576 & Inf & 0.0032014499 & 0.009545372 & 0.5 & -18.519948 & 1.425752e-76\\\\\n",
       "\t5 & none     & r0 & 0.0007776417 & 0.0006189710 & Inf & 0.0001633043 & 0.003694526 & 0.5 &  -8.986517 & 2.551883e-19\\\\\n",
       "\t6 & referred & r0 & 0.0614651228 & 0.0178477402 & Inf & 0.0344815674 & 0.107219756 & 0.5 &  -8.810446 & 1.246487e-18\\\\\n",
       "\\end{tabular}\n",
       "\n",
       "\\item[\\$contrasts] A summary\\_emm: 6 × 10\n",
       "\\begin{tabular}{r|llllllllll}\n",
       "  & contrast & condition & odds.ratio & SE & df & asymp.LCL & asymp.UCL & null & z.ratio & p.value\\\\\n",
       "  & <fct> & <fct> & <dbl> & <dbl> & <dbl> & <dbl> & <dbl> & <dbl> & <dbl> & <dbl>\\\\\n",
       "\\hline\n",
       "\t1 & neighbor / none     & p0 & 3.11301891 & 1.540343691 & Inf & 1.18032400 &  8.21036151 & 1 &   2.295022 & 2.173187e-02\\\\\n",
       "\t2 & neighbor / referred & p0 & 0.11685553 & 0.036592873 & Inf & 0.06325555 &  0.21587376 & 1 &  -6.855636 & 7.099592e-12\\\\\n",
       "\t3 & none / referred     & p0 & 0.03753769 & 0.019968058 & Inf & 0.01323346 &  0.10647842 & 1 &  -6.170558 & 6.804920e-10\\\\\n",
       "\t4 & neighbor / none     & r0 & 7.14877130 & 5.853898740 & Inf & 1.43618324 & 35.58385140 & 1 &   2.402024 & 1.630462e-02\\\\\n",
       "\t5 & neighbor / referred & r0 & 0.08495138 & 0.020549215 & Inf & 0.05287740 &  0.13648058 & 1 & -10.193217 & 2.126110e-24\\\\\n",
       "\t6 & none / referred     & r0 & 0.01188335 & 0.009875273 & Inf & 0.00233118 &  0.06057623 & 1 &  -5.333964 & 9.609133e-08\\\\\n",
       "\\end{tabular}\n",
       "\n",
       "\\end{description}\n"
      ],
      "text/markdown": [
       "$emmeans\n",
       ":   \n",
       "A summary_emm: 6 × 10\n",
       "\n",
       "| <!--/--> | refer_boost_type_tri &lt;fct&gt; | condition &lt;fct&gt; | prob &lt;dbl&gt; | SE &lt;dbl&gt; | df &lt;dbl&gt; | asymp.LCL &lt;dbl&gt; | asymp.UCL &lt;dbl&gt; | null &lt;dbl&gt; | z.ratio &lt;dbl&gt; | p.value &lt;dbl&gt; |\n",
       "|---|---|---|---|---|---|---|---|---|---|---|\n",
       "| 1 | neighbor | p0 | 0.0032243363 | 0.0012795354 | Inf | 0.0014801945 | 0.007009208 | 0.5 | -14.402168 | 5.014522e-47 |\n",
       "| 2 | none     | p0 | 0.0010380305 | 0.0004520125 | Inf | 0.0004420043 | 0.002435817 | 0.5 | -15.758936 | 5.962849e-56 |\n",
       "| 3 | referred | p0 | 0.0269361177 | 0.0115334839 | Inf | 0.0115502771 | 0.061541031 | 0.5 |  -8.151640 | 3.590212e-16 |\n",
       "| 4 | neighbor | r0 | 0.0055327276 | 0.0015423576 | Inf | 0.0032014499 | 0.009545372 | 0.5 | -18.519948 | 1.425752e-76 |\n",
       "| 5 | none     | r0 | 0.0007776417 | 0.0006189710 | Inf | 0.0001633043 | 0.003694526 | 0.5 |  -8.986517 | 2.551883e-19 |\n",
       "| 6 | referred | r0 | 0.0614651228 | 0.0178477402 | Inf | 0.0344815674 | 0.107219756 | 0.5 |  -8.810446 | 1.246487e-18 |\n",
       "\n",
       "\n",
       "$contrasts\n",
       ":   \n",
       "A summary_emm: 6 × 10\n",
       "\n",
       "| <!--/--> | contrast &lt;fct&gt; | condition &lt;fct&gt; | odds.ratio &lt;dbl&gt; | SE &lt;dbl&gt; | df &lt;dbl&gt; | asymp.LCL &lt;dbl&gt; | asymp.UCL &lt;dbl&gt; | null &lt;dbl&gt; | z.ratio &lt;dbl&gt; | p.value &lt;dbl&gt; |\n",
       "|---|---|---|---|---|---|---|---|---|---|---|\n",
       "| 1 | neighbor / none     | p0 | 3.11301891 | 1.540343691 | Inf | 1.18032400 |  8.21036151 | 1 |   2.295022 | 2.173187e-02 |\n",
       "| 2 | neighbor / referred | p0 | 0.11685553 | 0.036592873 | Inf | 0.06325555 |  0.21587376 | 1 |  -6.855636 | 7.099592e-12 |\n",
       "| 3 | none / referred     | p0 | 0.03753769 | 0.019968058 | Inf | 0.01323346 |  0.10647842 | 1 |  -6.170558 | 6.804920e-10 |\n",
       "| 4 | neighbor / none     | r0 | 7.14877130 | 5.853898740 | Inf | 1.43618324 | 35.58385140 | 1 |   2.402024 | 1.630462e-02 |\n",
       "| 5 | neighbor / referred | r0 | 0.08495138 | 0.020549215 | Inf | 0.05287740 |  0.13648058 | 1 | -10.193217 | 2.126110e-24 |\n",
       "| 6 | none / referred     | r0 | 0.01188335 | 0.009875273 | Inf | 0.00233118 |  0.06057623 | 1 |  -5.333964 | 9.609133e-08 |\n",
       "\n",
       "\n",
       "\n",
       "\n"
      ],
      "text/plain": [
       "$emmeans\n",
       "condition = p0:\n",
       " refer_boost_type_tri     prob       SE  df asymp.LCL asymp.UCL null z.ratio\n",
       " neighbor             0.003224 0.001280 Inf  0.001480   0.00701  0.5 -14.402\n",
       " none                 0.001038 0.000452 Inf  0.000442   0.00244  0.5 -15.759\n",
       " referred             0.026936 0.011533 Inf  0.011550   0.06154  0.5  -8.152\n",
       " p.value\n",
       "  <.0001\n",
       "  <.0001\n",
       "  <.0001\n",
       "\n",
       "condition = r0:\n",
       " refer_boost_type_tri     prob       SE  df asymp.LCL asymp.UCL null z.ratio\n",
       " neighbor             0.005533 0.001542 Inf  0.003201   0.00955  0.5 -18.520\n",
       " none                 0.000778 0.000619 Inf  0.000163   0.00369  0.5  -8.987\n",
       " referred             0.061465 0.017848 Inf  0.034482   0.10722  0.5  -8.810\n",
       " p.value\n",
       "  <.0001\n",
       "  <.0001\n",
       "  <.0001\n",
       "\n",
       "Results are averaged over the levels of: main_or_gap \n",
       "Confidence level used: 0.95 \n",
       "Intervals are back-transformed from the logit scale \n",
       "Tests are performed on the logit scale \n",
       "\n",
       "$contrasts\n",
       "condition = p0:\n",
       " contrast            odds.ratio      SE  df asymp.LCL asymp.UCL null z.ratio\n",
       " neighbor / none         3.1130 1.54034 Inf   1.18032    8.2104    1   2.295\n",
       " neighbor / referred     0.1169 0.03659 Inf   0.06326    0.2159    1  -6.856\n",
       " none / referred         0.0375 0.01997 Inf   0.01323    0.1065    1  -6.171\n",
       " p.value\n",
       "  0.0217\n",
       "  <.0001\n",
       "  <.0001\n",
       "\n",
       "condition = r0:\n",
       " contrast            odds.ratio      SE  df asymp.LCL asymp.UCL null z.ratio\n",
       " neighbor / none         7.1488 5.85390 Inf   1.43618   35.5838    1   2.402\n",
       " neighbor / referred     0.0850 0.02055 Inf   0.05288    0.1365    1 -10.193\n",
       " none / referred         0.0119 0.00988 Inf   0.00233    0.0606    1  -5.334\n",
       " p.value\n",
       "  0.0163\n",
       "  <.0001\n",
       "  <.0001\n",
       "\n",
       "Results are averaged over the levels of: main_or_gap \n",
       "Confidence level used: 0.95 \n",
       "Intervals are back-transformed from the log odds ratio scale \n",
       "Tests are performed on the log odds ratio scale \n"
      ]
     },
     "metadata": {},
     "output_type": "display_data"
    }
   ],
   "source": [
    "emmeans(p0_r0_seg_seg_boost_type_tri_1, pairwise ~ refer_boost_type_tri|condition, \n",
    "              type='response', adjust='none') %>% summary(infer = TRUE)"
   ]
  },
  {
   "cell_type": "code",
   "execution_count": 10,
   "metadata": {
    "vscode": {
     "languageId": "r"
    }
   },
   "outputs": [
    {
     "name": "stderr",
     "output_type": "stream",
     "text": [
      "NOTE: Results may be misleading due to involvement in interactions\n",
      "\n"
     ]
    },
    {
     "data": {
      "text/html": [
       "<dl>\n",
       "\t<dt>$emmeans</dt>\n",
       "\t\t<dd><table class=\"dataframe\">\n",
       "<caption>A summary_emm: 6 × 10</caption>\n",
       "<thead>\n",
       "\t<tr><th></th><th scope=col>condition</th><th scope=col>refer_boost_type_tri</th><th scope=col>prob</th><th scope=col>SE</th><th scope=col>df</th><th scope=col>asymp.LCL</th><th scope=col>asymp.UCL</th><th scope=col>null</th><th scope=col>z.ratio</th><th scope=col>p.value</th></tr>\n",
       "\t<tr><th></th><th scope=col>&lt;fct&gt;</th><th scope=col>&lt;fct&gt;</th><th scope=col>&lt;dbl&gt;</th><th scope=col>&lt;dbl&gt;</th><th scope=col>&lt;dbl&gt;</th><th scope=col>&lt;dbl&gt;</th><th scope=col>&lt;dbl&gt;</th><th scope=col>&lt;dbl&gt;</th><th scope=col>&lt;dbl&gt;</th><th scope=col>&lt;dbl&gt;</th></tr>\n",
       "</thead>\n",
       "<tbody>\n",
       "\t<tr><th scope=row>1</th><td>p0</td><td>neighbor</td><td>0.0032243363</td><td>0.0012795354</td><td>Inf</td><td>0.0014801945</td><td>0.007009208</td><td>0.5</td><td>-14.402168</td><td>5.014522e-47</td></tr>\n",
       "\t<tr><th scope=row>2</th><td>r0</td><td>neighbor</td><td>0.0055327276</td><td>0.0015423576</td><td>Inf</td><td>0.0032014499</td><td>0.009545372</td><td>0.5</td><td>-18.519948</td><td>1.425752e-76</td></tr>\n",
       "\t<tr><th scope=row>3</th><td>p0</td><td>none    </td><td>0.0010380305</td><td>0.0004520125</td><td>Inf</td><td>0.0004420043</td><td>0.002435817</td><td>0.5</td><td>-15.758936</td><td>5.962849e-56</td></tr>\n",
       "\t<tr><th scope=row>4</th><td>r0</td><td>none    </td><td>0.0007776417</td><td>0.0006189710</td><td>Inf</td><td>0.0001633043</td><td>0.003694526</td><td>0.5</td><td> -8.986517</td><td>2.551883e-19</td></tr>\n",
       "\t<tr><th scope=row>5</th><td>p0</td><td>referred</td><td>0.0269361177</td><td>0.0115334839</td><td>Inf</td><td>0.0115502771</td><td>0.061541031</td><td>0.5</td><td> -8.151640</td><td>3.590212e-16</td></tr>\n",
       "\t<tr><th scope=row>6</th><td>r0</td><td>referred</td><td>0.0614651228</td><td>0.0178477402</td><td>Inf</td><td>0.0344815674</td><td>0.107219756</td><td>0.5</td><td> -8.810446</td><td>1.246487e-18</td></tr>\n",
       "</tbody>\n",
       "</table>\n",
       "</dd>\n",
       "\t<dt>$contrasts</dt>\n",
       "\t\t<dd><table class=\"dataframe\">\n",
       "<caption>A summary_emm: 3 × 10</caption>\n",
       "<thead>\n",
       "\t<tr><th></th><th scope=col>contrast</th><th scope=col>refer_boost_type_tri</th><th scope=col>odds.ratio</th><th scope=col>SE</th><th scope=col>df</th><th scope=col>asymp.LCL</th><th scope=col>asymp.UCL</th><th scope=col>null</th><th scope=col>z.ratio</th><th scope=col>p.value</th></tr>\n",
       "\t<tr><th></th><th scope=col>&lt;fct&gt;</th><th scope=col>&lt;fct&gt;</th><th scope=col>&lt;dbl&gt;</th><th scope=col>&lt;dbl&gt;</th><th scope=col>&lt;dbl&gt;</th><th scope=col>&lt;dbl&gt;</th><th scope=col>&lt;dbl&gt;</th><th scope=col>&lt;dbl&gt;</th><th scope=col>&lt;dbl&gt;</th><th scope=col>&lt;dbl&gt;</th></tr>\n",
       "</thead>\n",
       "<tbody>\n",
       "\t<tr><th scope=row>1</th><td>p0 / r0</td><td>neighbor</td><td>0.5814256</td><td>0.2309912</td><td>Inf</td><td>0.2668857</td><td>1.2666686</td><td>1</td><td>-1.3649483</td><td>0.17226929</td></tr>\n",
       "\t<tr><th scope=row>2</th><td>p0 / r0</td><td>none    </td><td>1.3351921</td><td>1.1578544</td><td>Inf</td><td>0.2440042</td><td>7.3061786</td><td>1</td><td> 0.3333501</td><td>0.73887000</td></tr>\n",
       "\t<tr><th scope=row>3</th><td>p0 / r0</td><td>referred</td><td>0.4226835</td><td>0.1782247</td><td>Inf</td><td>0.1849719</td><td>0.9658835</td><td>1</td><td>-2.0422882</td><td>0.04112296</td></tr>\n",
       "</tbody>\n",
       "</table>\n",
       "</dd>\n",
       "</dl>\n"
      ],
      "text/latex": [
       "\\begin{description}\n",
       "\\item[\\$emmeans] A summary\\_emm: 6 × 10\n",
       "\\begin{tabular}{r|llllllllll}\n",
       "  & condition & refer\\_boost\\_type\\_tri & prob & SE & df & asymp.LCL & asymp.UCL & null & z.ratio & p.value\\\\\n",
       "  & <fct> & <fct> & <dbl> & <dbl> & <dbl> & <dbl> & <dbl> & <dbl> & <dbl> & <dbl>\\\\\n",
       "\\hline\n",
       "\t1 & p0 & neighbor & 0.0032243363 & 0.0012795354 & Inf & 0.0014801945 & 0.007009208 & 0.5 & -14.402168 & 5.014522e-47\\\\\n",
       "\t2 & r0 & neighbor & 0.0055327276 & 0.0015423576 & Inf & 0.0032014499 & 0.009545372 & 0.5 & -18.519948 & 1.425752e-76\\\\\n",
       "\t3 & p0 & none     & 0.0010380305 & 0.0004520125 & Inf & 0.0004420043 & 0.002435817 & 0.5 & -15.758936 & 5.962849e-56\\\\\n",
       "\t4 & r0 & none     & 0.0007776417 & 0.0006189710 & Inf & 0.0001633043 & 0.003694526 & 0.5 &  -8.986517 & 2.551883e-19\\\\\n",
       "\t5 & p0 & referred & 0.0269361177 & 0.0115334839 & Inf & 0.0115502771 & 0.061541031 & 0.5 &  -8.151640 & 3.590212e-16\\\\\n",
       "\t6 & r0 & referred & 0.0614651228 & 0.0178477402 & Inf & 0.0344815674 & 0.107219756 & 0.5 &  -8.810446 & 1.246487e-18\\\\\n",
       "\\end{tabular}\n",
       "\n",
       "\\item[\\$contrasts] A summary\\_emm: 3 × 10\n",
       "\\begin{tabular}{r|llllllllll}\n",
       "  & contrast & refer\\_boost\\_type\\_tri & odds.ratio & SE & df & asymp.LCL & asymp.UCL & null & z.ratio & p.value\\\\\n",
       "  & <fct> & <fct> & <dbl> & <dbl> & <dbl> & <dbl> & <dbl> & <dbl> & <dbl> & <dbl>\\\\\n",
       "\\hline\n",
       "\t1 & p0 / r0 & neighbor & 0.5814256 & 0.2309912 & Inf & 0.2668857 & 1.2666686 & 1 & -1.3649483 & 0.17226929\\\\\n",
       "\t2 & p0 / r0 & none     & 1.3351921 & 1.1578544 & Inf & 0.2440042 & 7.3061786 & 1 &  0.3333501 & 0.73887000\\\\\n",
       "\t3 & p0 / r0 & referred & 0.4226835 & 0.1782247 & Inf & 0.1849719 & 0.9658835 & 1 & -2.0422882 & 0.04112296\\\\\n",
       "\\end{tabular}\n",
       "\n",
       "\\end{description}\n"
      ],
      "text/markdown": [
       "$emmeans\n",
       ":   \n",
       "A summary_emm: 6 × 10\n",
       "\n",
       "| <!--/--> | condition &lt;fct&gt; | refer_boost_type_tri &lt;fct&gt; | prob &lt;dbl&gt; | SE &lt;dbl&gt; | df &lt;dbl&gt; | asymp.LCL &lt;dbl&gt; | asymp.UCL &lt;dbl&gt; | null &lt;dbl&gt; | z.ratio &lt;dbl&gt; | p.value &lt;dbl&gt; |\n",
       "|---|---|---|---|---|---|---|---|---|---|---|\n",
       "| 1 | p0 | neighbor | 0.0032243363 | 0.0012795354 | Inf | 0.0014801945 | 0.007009208 | 0.5 | -14.402168 | 5.014522e-47 |\n",
       "| 2 | r0 | neighbor | 0.0055327276 | 0.0015423576 | Inf | 0.0032014499 | 0.009545372 | 0.5 | -18.519948 | 1.425752e-76 |\n",
       "| 3 | p0 | none     | 0.0010380305 | 0.0004520125 | Inf | 0.0004420043 | 0.002435817 | 0.5 | -15.758936 | 5.962849e-56 |\n",
       "| 4 | r0 | none     | 0.0007776417 | 0.0006189710 | Inf | 0.0001633043 | 0.003694526 | 0.5 |  -8.986517 | 2.551883e-19 |\n",
       "| 5 | p0 | referred | 0.0269361177 | 0.0115334839 | Inf | 0.0115502771 | 0.061541031 | 0.5 |  -8.151640 | 3.590212e-16 |\n",
       "| 6 | r0 | referred | 0.0614651228 | 0.0178477402 | Inf | 0.0344815674 | 0.107219756 | 0.5 |  -8.810446 | 1.246487e-18 |\n",
       "\n",
       "\n",
       "$contrasts\n",
       ":   \n",
       "A summary_emm: 3 × 10\n",
       "\n",
       "| <!--/--> | contrast &lt;fct&gt; | refer_boost_type_tri &lt;fct&gt; | odds.ratio &lt;dbl&gt; | SE &lt;dbl&gt; | df &lt;dbl&gt; | asymp.LCL &lt;dbl&gt; | asymp.UCL &lt;dbl&gt; | null &lt;dbl&gt; | z.ratio &lt;dbl&gt; | p.value &lt;dbl&gt; |\n",
       "|---|---|---|---|---|---|---|---|---|---|---|\n",
       "| 1 | p0 / r0 | neighbor | 0.5814256 | 0.2309912 | Inf | 0.2668857 | 1.2666686 | 1 | -1.3649483 | 0.17226929 |\n",
       "| 2 | p0 / r0 | none     | 1.3351921 | 1.1578544 | Inf | 0.2440042 | 7.3061786 | 1 |  0.3333501 | 0.73887000 |\n",
       "| 3 | p0 / r0 | referred | 0.4226835 | 0.1782247 | Inf | 0.1849719 | 0.9658835 | 1 | -2.0422882 | 0.04112296 |\n",
       "\n",
       "\n",
       "\n",
       "\n"
      ],
      "text/plain": [
       "$emmeans\n",
       "refer_boost_type_tri = neighbor:\n",
       " condition     prob       SE  df asymp.LCL asymp.UCL null z.ratio p.value\n",
       " p0        0.003224 0.001280 Inf  0.001480   0.00701  0.5 -14.402  <.0001\n",
       " r0        0.005533 0.001542 Inf  0.003201   0.00955  0.5 -18.520  <.0001\n",
       "\n",
       "refer_boost_type_tri = none:\n",
       " condition     prob       SE  df asymp.LCL asymp.UCL null z.ratio p.value\n",
       " p0        0.001038 0.000452 Inf  0.000442   0.00244  0.5 -15.759  <.0001\n",
       " r0        0.000778 0.000619 Inf  0.000163   0.00369  0.5  -8.987  <.0001\n",
       "\n",
       "refer_boost_type_tri = referred:\n",
       " condition     prob       SE  df asymp.LCL asymp.UCL null z.ratio p.value\n",
       " p0        0.026936 0.011533 Inf  0.011550   0.06154  0.5  -8.152  <.0001\n",
       " r0        0.061465 0.017848 Inf  0.034482   0.10722  0.5  -8.810  <.0001\n",
       "\n",
       "Results are averaged over the levels of: main_or_gap \n",
       "Confidence level used: 0.95 \n",
       "Intervals are back-transformed from the logit scale \n",
       "Tests are performed on the logit scale \n",
       "\n",
       "$contrasts\n",
       "refer_boost_type_tri = neighbor:\n",
       " contrast odds.ratio    SE  df asymp.LCL asymp.UCL null z.ratio p.value\n",
       " p0 / r0       0.581 0.231 Inf     0.267     1.267    1  -1.365  0.1723\n",
       "\n",
       "refer_boost_type_tri = none:\n",
       " contrast odds.ratio    SE  df asymp.LCL asymp.UCL null z.ratio p.value\n",
       " p0 / r0       1.335 1.158 Inf     0.244     7.306    1   0.333  0.7389\n",
       "\n",
       "refer_boost_type_tri = referred:\n",
       " contrast odds.ratio    SE  df asymp.LCL asymp.UCL null z.ratio p.value\n",
       " p0 / r0       0.423 0.178 Inf     0.185     0.966    1  -2.042  0.0411\n",
       "\n",
       "Results are averaged over the levels of: main_or_gap \n",
       "Confidence level used: 0.95 \n",
       "Intervals are back-transformed from the log odds ratio scale \n",
       "Tests are performed on the log odds ratio scale \n"
      ]
     },
     "metadata": {},
     "output_type": "display_data"
    }
   ],
   "source": [
    "emmeans(p0_r0_seg_seg_boost_type_tri_1, pairwise ~ condition|refer_boost_type_tri, \n",
    "              type='response') %>% summary(infer = TRUE)"
   ]
  },
  {
   "cell_type": "markdown",
   "metadata": {},
   "source": [
    "## figure 8"
   ]
  },
  {
   "cell_type": "code",
   "execution_count": 10,
   "metadata": {
    "vscode": {
     "languageId": "r"
    }
   },
   "outputs": [],
   "source": [
    "p0_r0_seg_seg_rr_type_1 <- readRDS(\"../stats_models/main/p0_r0_seg_seg_rr_type_1.rds\")"
   ]
  },
  {
   "cell_type": "code",
   "execution_count": 12,
   "metadata": {
    "vscode": {
     "languageId": "r"
    }
   },
   "outputs": [
    {
     "data": {
      "text/html": [
       "<dl>\n",
       "\t<dt>$emmeans</dt>\n",
       "\t\t<dd><table class=\"dataframe\">\n",
       "<caption>A summary_emm: 6 x 10</caption>\n",
       "<thead>\n",
       "\t<tr><th></th><th scope=col>rr_type</th><th scope=col>condition</th><th scope=col>prob</th><th scope=col>SE</th><th scope=col>df</th><th scope=col>asymp.LCL</th><th scope=col>asymp.UCL</th><th scope=col>null</th><th scope=col>z.ratio</th><th scope=col>p.value</th></tr>\n",
       "\t<tr><th></th><th scope=col>&lt;fct&gt;</th><th scope=col>&lt;fct&gt;</th><th scope=col>&lt;dbl&gt;</th><th scope=col>&lt;dbl&gt;</th><th scope=col>&lt;dbl&gt;</th><th scope=col>&lt;dbl&gt;</th><th scope=col>&lt;dbl&gt;</th><th scope=col>&lt;dbl&gt;</th><th scope=col>&lt;dbl&gt;</th><th scope=col>&lt;dbl&gt;</th></tr>\n",
       "</thead>\n",
       "<tbody>\n",
       "\t<tr><th scope=row>1</th><td>none     </td><td>p0</td><td>0.001546039</td><td>0.0006347525</td><td>Inf</td><td>0.0006911557</td><td>0.003454664</td><td>0.5</td><td>-15.735581</td><td>8.626179e-56</td></tr>\n",
       "\t<tr><th scope=row>2</th><td>referred </td><td>p0</td><td>0.077880851</td><td>0.0378107128</td><td>Inf</td><td>0.0292152929</td><td>0.191610978</td><td>0.5</td><td> -4.694210</td><td>2.676394e-06</td></tr>\n",
       "\t<tr><th scope=row>3</th><td>referring</td><td>p0</td><td>0.003588410</td><td>0.0022525799</td><td>Inf</td><td>0.0010465330</td><td>0.012228559</td><td>0.5</td><td> -8.930898</td><td>4.225629e-19</td></tr>\n",
       "\t<tr><th scope=row>4</th><td>none     </td><td>r0</td><td>0.005198362</td><td>0.0016208004</td><td>Inf</td><td>0.0028191653</td><td>0.009566189</td><td>0.5</td><td>-16.764094</td><td>4.467711e-63</td></tr>\n",
       "\t<tr><th scope=row>5</th><td>referred </td><td>r0</td><td>0.108587851</td><td>0.0371265372</td><td>Inf</td><td>0.0543208013</td><td>0.205298991</td><td>0.5</td><td> -5.488813</td><td>4.046426e-08</td></tr>\n",
       "\t<tr><th scope=row>6</th><td>referring</td><td>r0</td><td>0.001935823</td><td>0.0019112643</td><td>Inf</td><td>0.0002789674</td><td>0.013302220</td><td>0.5</td><td> -6.313289</td><td>2.731661e-10</td></tr>\n",
       "</tbody>\n",
       "</table>\n",
       "</dd>\n",
       "\t<dt>$contrasts</dt>\n",
       "\t\t<dd><table class=\"dataframe\">\n",
       "<caption>A summary_emm: 6 x 10</caption>\n",
       "<thead>\n",
       "\t<tr><th></th><th scope=col>contrast</th><th scope=col>condition</th><th scope=col>odds.ratio</th><th scope=col>SE</th><th scope=col>df</th><th scope=col>asymp.LCL</th><th scope=col>asymp.UCL</th><th scope=col>null</th><th scope=col>z.ratio</th><th scope=col>p.value</th></tr>\n",
       "\t<tr><th></th><th scope=col>&lt;fct&gt;</th><th scope=col>&lt;fct&gt;</th><th scope=col>&lt;dbl&gt;</th><th scope=col>&lt;dbl&gt;</th><th scope=col>&lt;dbl&gt;</th><th scope=col>&lt;dbl&gt;</th><th scope=col>&lt;dbl&gt;</th><th scope=col>&lt;dbl&gt;</th><th scope=col>&lt;dbl&gt;</th><th scope=col>&lt;dbl&gt;</th></tr>\n",
       "</thead>\n",
       "<tbody>\n",
       "\t<tr><th scope=row>1</th><td>none / referred     </td><td>p0</td><td> 0.01833364</td><td> 0.008101282</td><td>Inf</td><td>0.007711153</td><td>  0.04358914</td><td>1</td><td>-9.049995</td><td>1.429747e-19</td></tr>\n",
       "\t<tr><th scope=row>2</th><td>none / referring    </td><td>p0</td><td> 0.42996113</td><td> 0.237713924</td><td>Inf</td><td>0.145486535</td><td>  1.27067825</td><td>1</td><td>-1.526680</td><td>1.268405e-01</td></tr>\n",
       "\t<tr><th scope=row>3</th><td>referred / referring</td><td>p0</td><td>23.45202750</td><td>15.405713489</td><td>Inf</td><td>6.471773656</td><td> 84.98405893</td><td>1</td><td> 4.802773</td><td>1.564836e-06</td></tr>\n",
       "\t<tr><th scope=row>4</th><td>none / referred     </td><td>r0</td><td> 0.04289704</td><td> 0.014337030</td><td>Inf</td><td>0.022281231</td><td>  0.08258773</td><td>1</td><td>-9.421808</td><td>4.433856e-21</td></tr>\n",
       "\t<tr><th scope=row>5</th><td>none / referring    </td><td>r0</td><td> 2.69415641</td><td> 2.493637174</td><td>Inf</td><td>0.439110718</td><td> 16.52995129</td><td>1</td><td> 1.070781</td><td>2.842681e-01</td></tr>\n",
       "\t<tr><th scope=row>6</th><td>referred / referring</td><td>r0</td><td>62.80517555</td><td>63.057239456</td><td>Inf</td><td>8.777637806</td><td>449.37945297</td><td>1</td><td> 4.123488</td><td>3.731776e-05</td></tr>\n",
       "</tbody>\n",
       "</table>\n",
       "</dd>\n",
       "</dl>\n"
      ],
      "text/latex": [
       "\\begin{description}\n",
       "\\item[\\$emmeans] A summary\\_emm: 6 x 10\n",
       "\\begin{tabular}{r|llllllllll}\n",
       "  & rr\\_type & condition & prob & SE & df & asymp.LCL & asymp.UCL & null & z.ratio & p.value\\\\\n",
       "  & <fct> & <fct> & <dbl> & <dbl> & <dbl> & <dbl> & <dbl> & <dbl> & <dbl> & <dbl>\\\\\n",
       "\\hline\n",
       "\t1 & none      & p0 & 0.001546039 & 0.0006347525 & Inf & 0.0006911557 & 0.003454664 & 0.5 & -15.735581 & 8.626179e-56\\\\\n",
       "\t2 & referred  & p0 & 0.077880851 & 0.0378107128 & Inf & 0.0292152929 & 0.191610978 & 0.5 &  -4.694210 & 2.676394e-06\\\\\n",
       "\t3 & referring & p0 & 0.003588410 & 0.0022525799 & Inf & 0.0010465330 & 0.012228559 & 0.5 &  -8.930898 & 4.225629e-19\\\\\n",
       "\t4 & none      & r0 & 0.005198362 & 0.0016208004 & Inf & 0.0028191653 & 0.009566189 & 0.5 & -16.764094 & 4.467711e-63\\\\\n",
       "\t5 & referred  & r0 & 0.108587851 & 0.0371265372 & Inf & 0.0543208013 & 0.205298991 & 0.5 &  -5.488813 & 4.046426e-08\\\\\n",
       "\t6 & referring & r0 & 0.001935823 & 0.0019112643 & Inf & 0.0002789674 & 0.013302220 & 0.5 &  -6.313289 & 2.731661e-10\\\\\n",
       "\\end{tabular}\n",
       "\n",
       "\\item[\\$contrasts] A summary\\_emm: 6 x 10\n",
       "\\begin{tabular}{r|llllllllll}\n",
       "  & contrast & condition & odds.ratio & SE & df & asymp.LCL & asymp.UCL & null & z.ratio & p.value\\\\\n",
       "  & <fct> & <fct> & <dbl> & <dbl> & <dbl> & <dbl> & <dbl> & <dbl> & <dbl> & <dbl>\\\\\n",
       "\\hline\n",
       "\t1 & none / referred      & p0 &  0.01833364 &  0.008101282 & Inf & 0.007711153 &   0.04358914 & 1 & -9.049995 & 1.429747e-19\\\\\n",
       "\t2 & none / referring     & p0 &  0.42996113 &  0.237713924 & Inf & 0.145486535 &   1.27067825 & 1 & -1.526680 & 1.268405e-01\\\\\n",
       "\t3 & referred / referring & p0 & 23.45202750 & 15.405713489 & Inf & 6.471773656 &  84.98405893 & 1 &  4.802773 & 1.564836e-06\\\\\n",
       "\t4 & none / referred      & r0 &  0.04289704 &  0.014337030 & Inf & 0.022281231 &   0.08258773 & 1 & -9.421808 & 4.433856e-21\\\\\n",
       "\t5 & none / referring     & r0 &  2.69415641 &  2.493637174 & Inf & 0.439110718 &  16.52995129 & 1 &  1.070781 & 2.842681e-01\\\\\n",
       "\t6 & referred / referring & r0 & 62.80517555 & 63.057239456 & Inf & 8.777637806 & 449.37945297 & 1 &  4.123488 & 3.731776e-05\\\\\n",
       "\\end{tabular}\n",
       "\n",
       "\\end{description}\n"
      ],
      "text/markdown": [
       "$emmeans\n",
       ":   \n",
       "A summary_emm: 6 x 10\n",
       "\n",
       "| <!--/--> | rr_type &lt;fct&gt; | condition &lt;fct&gt; | prob &lt;dbl&gt; | SE &lt;dbl&gt; | df &lt;dbl&gt; | asymp.LCL &lt;dbl&gt; | asymp.UCL &lt;dbl&gt; | null &lt;dbl&gt; | z.ratio &lt;dbl&gt; | p.value &lt;dbl&gt; |\n",
       "|---|---|---|---|---|---|---|---|---|---|---|\n",
       "| 1 | none      | p0 | 0.001546039 | 0.0006347525 | Inf | 0.0006911557 | 0.003454664 | 0.5 | -15.735581 | 8.626179e-56 |\n",
       "| 2 | referred  | p0 | 0.077880851 | 0.0378107128 | Inf | 0.0292152929 | 0.191610978 | 0.5 |  -4.694210 | 2.676394e-06 |\n",
       "| 3 | referring | p0 | 0.003588410 | 0.0022525799 | Inf | 0.0010465330 | 0.012228559 | 0.5 |  -8.930898 | 4.225629e-19 |\n",
       "| 4 | none      | r0 | 0.005198362 | 0.0016208004 | Inf | 0.0028191653 | 0.009566189 | 0.5 | -16.764094 | 4.467711e-63 |\n",
       "| 5 | referred  | r0 | 0.108587851 | 0.0371265372 | Inf | 0.0543208013 | 0.205298991 | 0.5 |  -5.488813 | 4.046426e-08 |\n",
       "| 6 | referring | r0 | 0.001935823 | 0.0019112643 | Inf | 0.0002789674 | 0.013302220 | 0.5 |  -6.313289 | 2.731661e-10 |\n",
       "\n",
       "\n",
       "$contrasts\n",
       ":   \n",
       "A summary_emm: 6 x 10\n",
       "\n",
       "| <!--/--> | contrast &lt;fct&gt; | condition &lt;fct&gt; | odds.ratio &lt;dbl&gt; | SE &lt;dbl&gt; | df &lt;dbl&gt; | asymp.LCL &lt;dbl&gt; | asymp.UCL &lt;dbl&gt; | null &lt;dbl&gt; | z.ratio &lt;dbl&gt; | p.value &lt;dbl&gt; |\n",
       "|---|---|---|---|---|---|---|---|---|---|---|\n",
       "| 1 | none / referred      | p0 |  0.01833364 |  0.008101282 | Inf | 0.007711153 |   0.04358914 | 1 | -9.049995 | 1.429747e-19 |\n",
       "| 2 | none / referring     | p0 |  0.42996113 |  0.237713924 | Inf | 0.145486535 |   1.27067825 | 1 | -1.526680 | 1.268405e-01 |\n",
       "| 3 | referred / referring | p0 | 23.45202750 | 15.405713489 | Inf | 6.471773656 |  84.98405893 | 1 |  4.802773 | 1.564836e-06 |\n",
       "| 4 | none / referred      | r0 |  0.04289704 |  0.014337030 | Inf | 0.022281231 |   0.08258773 | 1 | -9.421808 | 4.433856e-21 |\n",
       "| 5 | none / referring     | r0 |  2.69415641 |  2.493637174 | Inf | 0.439110718 |  16.52995129 | 1 |  1.070781 | 2.842681e-01 |\n",
       "| 6 | referred / referring | r0 | 62.80517555 | 63.057239456 | Inf | 8.777637806 | 449.37945297 | 1 |  4.123488 | 3.731776e-05 |\n",
       "\n",
       "\n",
       "\n",
       "\n"
      ],
      "text/plain": [
       "$emmeans\n",
       "condition = p0:\n",
       " rr_type      prob       SE  df asymp.LCL asymp.UCL null z.ratio p.value\n",
       " none      0.00155 0.000635 Inf  0.000691   0.00345  0.5 -15.736  <.0001\n",
       " referred  0.07788 0.037811 Inf  0.029215   0.19161  0.5  -4.694  <.0001\n",
       " referring 0.00359 0.002253 Inf  0.001047   0.01223  0.5  -8.931  <.0001\n",
       "\n",
       "condition = r0:\n",
       " rr_type      prob       SE  df asymp.LCL asymp.UCL null z.ratio p.value\n",
       " none      0.00520 0.001621 Inf  0.002819   0.00957  0.5 -16.764  <.0001\n",
       " referred  0.10859 0.037127 Inf  0.054321   0.20530  0.5  -5.489  <.0001\n",
       " referring 0.00194 0.001911 Inf  0.000279   0.01330  0.5  -6.313  <.0001\n",
       "\n",
       "Confidence level used: 0.95 \n",
       "Intervals are back-transformed from the logit scale \n",
       "Tests are performed on the logit scale \n",
       "\n",
       "$contrasts\n",
       "condition = p0:\n",
       " contrast             odds.ratio      SE  df asymp.LCL asymp.UCL null z.ratio\n",
       " none / referred          0.0183  0.0081 Inf   0.00771    0.0436    1  -9.050\n",
       " none / referring         0.4300  0.2377 Inf   0.14549    1.2707    1  -1.527\n",
       " referred / referring    23.4520 15.4057 Inf   6.47177   84.9841    1   4.803\n",
       " p.value\n",
       "  <.0001\n",
       "  0.1268\n",
       "  <.0001\n",
       "\n",
       "condition = r0:\n",
       " contrast             odds.ratio      SE  df asymp.LCL asymp.UCL null z.ratio\n",
       " none / referred          0.0429  0.0143 Inf   0.02228    0.0826    1  -9.422\n",
       " none / referring         2.6942  2.4936 Inf   0.43911   16.5300    1   1.071\n",
       " referred / referring    62.8052 63.0572 Inf   8.77764  449.3795    1   4.123\n",
       " p.value\n",
       "  <.0001\n",
       "  0.2843\n",
       "  <.0001\n",
       "\n",
       "Confidence level used: 0.95 \n",
       "Intervals are back-transformed from the log odds ratio scale \n",
       "Tests are performed on the log odds ratio scale \n"
      ]
     },
     "metadata": {},
     "output_type": "display_data"
    }
   ],
   "source": [
    "emmeans(p0_r0_seg_seg_rr_type_1, pairwise ~ rr_type|condition, \n",
    "              type='response', adjust='none') %>% summary(infer = TRUE)"
   ]
  },
  {
   "cell_type": "code",
   "execution_count": 24,
   "metadata": {
    "vscode": {
     "languageId": "r"
    }
   },
   "outputs": [
    {
     "data": {
      "text/html": [
       "6.87348832660012"
      ],
      "text/latex": [
       "6.87348832660012"
      ],
      "text/markdown": [
       "6.87348832660012"
      ],
      "text/plain": [
       "[1] 6.873488"
      ]
     },
     "metadata": {},
     "output_type": "display_data"
    }
   ],
   "source": [
    "1/0.145486535"
   ]
  }
 ],
 "metadata": {
  "interpreter": {
   "hash": "173ed6709bddaf01d536de92c1f0563b6cc14ff0514f5f446f45ae7c7254209a"
  },
  "kernelspec": {
   "display_name": "R",
   "language": "R",
   "name": "ir"
  },
  "language_info": {
   "codemirror_mode": "r",
   "file_extension": ".r",
   "mimetype": "text/x-r-source",
   "name": "R",
   "pygments_lexer": "r",
   "version": "4.4.0"
  },
  "orig_nbformat": 4
 },
 "nbformat": 4,
 "nbformat_minor": 2
}
