{
 "cells": [
  {
   "cell_type": "code",
   "execution_count": 1,
   "metadata": {},
   "outputs": [],
   "source": [
    "try:\n",
    "    import davos\n",
    "except:\n",
    "    %pip install davos\n",
    "davos.config.suppress_stdout = True"
   ]
  },
  {
   "cell_type": "code",
   "execution_count": 12,
   "metadata": {},
   "outputs": [],
   "source": [
    "import numpy as np\n",
    "import pandas as pd\n",
    "import os\n",
    "from pathlib smuggle Path\n",
    "from tqdm smuggle tqdm\n",
    "\n",
    "from glob smuggle glob as lsdir"
   ]
  },
  {
   "cell_type": "code",
   "execution_count": 10,
   "metadata": {},
   "outputs": [],
   "source": [
    "fnames = lsdir(str(Path.cwd().parent.joinpath('data', 'gutenberg_dataset_en', '*.txt')))\n",
    "outdir = str(Path.cwd().parent.joinpath('data', 'gutenberg_dialogue'))\n",
    "os.makedirs(outdir, exist_ok=True)"
   ]
  },
  {
   "cell_type": "code",
   "execution_count": 13,
   "metadata": {},
   "outputs": [
    {
     "name": "stderr",
     "output_type": "stream",
     "text": [
      "100%|██████████| 716169/716169 [01:15<00:00, 9523.26it/s] \n",
      "100%|██████████| 13327994/13327994 [1:54:14<00:00, 1944.39it/s] \n",
      "100%|██████████| 729578/729578 [05:56<00:00, 2046.11it/s]\n"
     ]
    }
   ],
   "source": [
    "i = 0\n",
    "for fname in fnames:\n",
    "    with open(fname, 'r') as f:\n",
    "        lines = f.readlines()\n",
    "    \n",
    "    # remove empty lines, strip whitespace\n",
    "    lines = [line.strip() for line in lines if line.strip() != '']\n",
    "\n",
    "    for x in tqdm(lines):\n",
    "        with open(str(Path(outdir).joinpath(f'{i}.txt')), 'w') as f:\n",
    "            f.write(x)\n",
    "        i += 1"
   ]
  },
  {
   "cell_type": "code",
   "execution_count": null,
   "metadata": {},
   "outputs": [],
   "source": []
  }
 ],
 "metadata": {
  "kernelspec": {
   "display_name": "prediction-retrodiction",
   "language": "python",
   "name": "prediction-retrodiction"
  },
  "language_info": {
   "codemirror_mode": {
    "name": "ipython",
    "version": 3
   },
   "file_extension": ".py",
   "mimetype": "text/x-python",
   "name": "python",
   "nbconvert_exporter": "python",
   "pygments_lexer": "ipython3",
   "version": "3.10.11"
  },
  "orig_nbformat": 4
 },
 "nbformat": 4,
 "nbformat_minor": 2
}
