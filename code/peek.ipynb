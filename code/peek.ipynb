{
 "cells": [
  {
   "cell_type": "code",
   "execution_count": 1,
   "metadata": {},
   "outputs": [],
   "source": [
    "try:\n",
    "    import davos\n",
    "except:\n",
    "    %pip install davos\n",
    "davos.config.suppress_stdout = True"
   ]
  },
  {
   "cell_type": "code",
   "execution_count": 2,
   "metadata": {},
   "outputs": [],
   "source": [
    "from tqdm smuggle tqdm                                      # pip: tqdm==4.65.0\n",
    "smuggle pandas as pd                                        # pip: pandas==2.0.1\n",
    "smuggle numpy as np                                         # pip: numpy==1.25.2\n",
    "smuggle seaborn as sns                                      # pip: seaborn==0.12.2\n",
    "from matplotlib smuggle pyplot as plt                       # pip: matplotlib==3.7.1\n",
    "from IPython.display import Markdown\n",
    "smuggle openpyxl                                           # pip: openpyxl==3.1.2\n",
    "smuggle os\n",
    "smuggle pickle\n",
    "from glob smuggle glob as lsdir\n",
    "from pathlib smuggle Path"
   ]
  },
  {
   "cell_type": "code",
   "execution_count": 3,
   "metadata": {},
   "outputs": [
    {
     "data": {
      "text/html": [
       "<div>\n",
       "<style scoped>\n",
       "    .dataframe tbody tr th:only-of-type {\n",
       "        vertical-align: middle;\n",
       "    }\n",
       "\n",
       "    .dataframe tbody tr th {\n",
       "        vertical-align: top;\n",
       "    }\n",
       "\n",
       "    .dataframe thead th {\n",
       "        text-align: right;\n",
       "    }\n",
       "</style>\n",
       "<table border=\"1\" class=\"dataframe\">\n",
       "  <thead>\n",
       "    <tr style=\"text-align: right;\">\n",
       "      <th></th>\n",
       "      <th>Dataset</th>\n",
       "      <th>Short name</th>\n",
       "      <th>Data URL</th>\n",
       "      <th>Source URL</th>\n",
       "      <th>Description</th>\n",
       "      <th>Category</th>\n",
       "    </tr>\n",
       "  </thead>\n",
       "  <tbody>\n",
       "    <tr>\n",
       "      <th>0</th>\n",
       "      <td>Internet Movie Script Database</td>\n",
       "      <td>IMSDb</td>\n",
       "      <td>https://www.dropbox.com/scl/fi/ct39vqqq9sjqyyh...</td>\n",
       "      <td>https://imsdb.com</td>\n",
       "      <td>A collection of scripts from roughly 1000 popu...</td>\n",
       "      <td>Film</td>\n",
       "    </tr>\n",
       "    <tr>\n",
       "      <th>1</th>\n",
       "      <td>Movie Dialogues Dataset</td>\n",
       "      <td>Movies</td>\n",
       "      <td>https://www.dropbox.com/s/881yuhil48v6q1n/movi...</td>\n",
       "      <td>https://convokit.cornell.edu/documentation/mov...</td>\n",
       "      <td>A large collection of fictional conversations ...</td>\n",
       "      <td>Film</td>\n",
       "    </tr>\n",
       "    <tr>\n",
       "      <th>2</th>\n",
       "      <td>Switchboard Dialog Act Corpus</td>\n",
       "      <td>Switchboard</td>\n",
       "      <td>https://www.dropbox.com/s/qvx4211u41l2ex4/swit...</td>\n",
       "      <td>https://convokit.cornell.edu/documentation/swi...</td>\n",
       "      <td>A collection of five-minute telephone conversa...</td>\n",
       "      <td>Speech</td>\n",
       "    </tr>\n",
       "    <tr>\n",
       "      <th>3</th>\n",
       "      <td>Supreme Court Corpus</td>\n",
       "      <td>SCOTUS</td>\n",
       "      <td>https://www.dropbox.com/s/icxk3ubo2u2brzq/supr...</td>\n",
       "      <td>https://convokit.cornell.edu/documentation/sup...</td>\n",
       "      <td>A collection of cases from the U.S. Supreme Co...</td>\n",
       "      <td>Speech</td>\n",
       "    </tr>\n",
       "    <tr>\n",
       "      <th>4</th>\n",
       "      <td>Tennis Interviews</td>\n",
       "      <td>Tennis</td>\n",
       "      <td>https://www.dropbox.com/s/q7bfirllnu32mao/tenn...</td>\n",
       "      <td>https://convokit.cornell.edu/documentation/ten...</td>\n",
       "      <td>Transcripts for tennis singles post-match pres...</td>\n",
       "      <td>Speech</td>\n",
       "    </tr>\n",
       "    <tr>\n",
       "      <th>5</th>\n",
       "      <td>Persuasion for Good Corpus</td>\n",
       "      <td>PfG</td>\n",
       "      <td>https://www.dropbox.com/scl/fi/ei7uxv9husg9noj...</td>\n",
       "      <td>https://convokit.cornell.edu/documentation/per...</td>\n",
       "      <td>A collection of online conversations generated...</td>\n",
       "      <td>Speech</td>\n",
       "    </tr>\n",
       "    <tr>\n",
       "      <th>6</th>\n",
       "      <td>Intelligence Squared Debates Corpus</td>\n",
       "      <td>IQ2</td>\n",
       "      <td>https://www.dropbox.com/scl/fi/srg1j0m4rhgoqhl...</td>\n",
       "      <td>https://convokit.cornell.edu/documentation/iq2...</td>\n",
       "      <td>This dataset contains transcripts of debates h...</td>\n",
       "      <td>Speech</td>\n",
       "    </tr>\n",
       "    <tr>\n",
       "      <th>7</th>\n",
       "      <td>Group Affect and Performance Corpus</td>\n",
       "      <td>GAP</td>\n",
       "      <td>https://www.dropbox.com/scl/fi/j1zh1pey7m8kcyr...</td>\n",
       "      <td>https://convokit.cornell.edu/documentation/gap...</td>\n",
       "      <td>Group members completed a Winter Survival Task...</td>\n",
       "      <td>Speech</td>\n",
       "    </tr>\n",
       "    <tr>\n",
       "      <th>8</th>\n",
       "      <td>The Chair</td>\n",
       "      <td>Chair</td>\n",
       "      <td>https://www.dropbox.com/scl/fi/9cpj3t1n1ktxghu...</td>\n",
       "      <td>https://scrapsfromtheloft.com/?s=THE+CHAIR</td>\n",
       "      <td>Scraped transcripts from The Chair, Season 1.</td>\n",
       "      <td>Television</td>\n",
       "    </tr>\n",
       "    <tr>\n",
       "      <th>9</th>\n",
       "      <td>Friends Corpus</td>\n",
       "      <td>Friends</td>\n",
       "      <td>https://www.dropbox.com/s/nfaa6ap0ws1rqjy/frie...</td>\n",
       "      <td>https://convokit.cornell.edu/documentation/fri...</td>\n",
       "      <td>A collection of all the conversations that occ...</td>\n",
       "      <td>Television</td>\n",
       "    </tr>\n",
       "    <tr>\n",
       "      <th>10</th>\n",
       "      <td>Gutenberg Dialogue Dataset</td>\n",
       "      <td>Gutenberg</td>\n",
       "      <td>https://www.dropbox.com/s/84rid3cboynutmr/gute...</td>\n",
       "      <td>https://github.com/ricsinaruto/gutenberg-dialog</td>\n",
       "      <td>Dialogues extracted from the Project Gutenberg...</td>\n",
       "      <td>Text</td>\n",
       "    </tr>\n",
       "    <tr>\n",
       "      <th>11</th>\n",
       "      <td>Reddit Corpus</td>\n",
       "      <td>Reddit</td>\n",
       "      <td>https://www.dropbox.com/s/k7cun7f6x2guwva/redd...</td>\n",
       "      <td>https://convokit.cornell.edu/documentation/sub...</td>\n",
       "      <td>A collection of Corpuses of Reddit data built ...</td>\n",
       "      <td>Text</td>\n",
       "    </tr>\n",
       "  </tbody>\n",
       "</table>\n",
       "</div>"
      ],
      "text/plain": [
       "                                Dataset   Short name   \n",
       "0        Internet Movie Script Database        IMSDb  \\\n",
       "1               Movie Dialogues Dataset       Movies   \n",
       "2         Switchboard Dialog Act Corpus  Switchboard   \n",
       "3                  Supreme Court Corpus       SCOTUS   \n",
       "4                     Tennis Interviews       Tennis   \n",
       "5            Persuasion for Good Corpus          PfG   \n",
       "6   Intelligence Squared Debates Corpus          IQ2   \n",
       "7   Group Affect and Performance Corpus          GAP   \n",
       "8                             The Chair        Chair   \n",
       "9                        Friends Corpus      Friends   \n",
       "10           Gutenberg Dialogue Dataset    Gutenberg   \n",
       "11                        Reddit Corpus       Reddit   \n",
       "\n",
       "                                             Data URL   \n",
       "0   https://www.dropbox.com/scl/fi/ct39vqqq9sjqyyh...  \\\n",
       "1   https://www.dropbox.com/s/881yuhil48v6q1n/movi...   \n",
       "2   https://www.dropbox.com/s/qvx4211u41l2ex4/swit...   \n",
       "3   https://www.dropbox.com/s/icxk3ubo2u2brzq/supr...   \n",
       "4   https://www.dropbox.com/s/q7bfirllnu32mao/tenn...   \n",
       "5   https://www.dropbox.com/scl/fi/ei7uxv9husg9noj...   \n",
       "6   https://www.dropbox.com/scl/fi/srg1j0m4rhgoqhl...   \n",
       "7   https://www.dropbox.com/scl/fi/j1zh1pey7m8kcyr...   \n",
       "8   https://www.dropbox.com/scl/fi/9cpj3t1n1ktxghu...   \n",
       "9   https://www.dropbox.com/s/nfaa6ap0ws1rqjy/frie...   \n",
       "10  https://www.dropbox.com/s/84rid3cboynutmr/gute...   \n",
       "11  https://www.dropbox.com/s/k7cun7f6x2guwva/redd...   \n",
       "\n",
       "                                           Source URL   \n",
       "0                                   https://imsdb.com  \\\n",
       "1   https://convokit.cornell.edu/documentation/mov...   \n",
       "2   https://convokit.cornell.edu/documentation/swi...   \n",
       "3   https://convokit.cornell.edu/documentation/sup...   \n",
       "4   https://convokit.cornell.edu/documentation/ten...   \n",
       "5   https://convokit.cornell.edu/documentation/per...   \n",
       "6   https://convokit.cornell.edu/documentation/iq2...   \n",
       "7   https://convokit.cornell.edu/documentation/gap...   \n",
       "8          https://scrapsfromtheloft.com/?s=THE+CHAIR   \n",
       "9   https://convokit.cornell.edu/documentation/fri...   \n",
       "10    https://github.com/ricsinaruto/gutenberg-dialog   \n",
       "11  https://convokit.cornell.edu/documentation/sub...   \n",
       "\n",
       "                                          Description    Category  \n",
       "0   A collection of scripts from roughly 1000 popu...        Film  \n",
       "1   A large collection of fictional conversations ...        Film  \n",
       "2   A collection of five-minute telephone conversa...      Speech  \n",
       "3   A collection of cases from the U.S. Supreme Co...      Speech  \n",
       "4   Transcripts for tennis singles post-match pres...      Speech  \n",
       "5   A collection of online conversations generated...      Speech  \n",
       "6   This dataset contains transcripts of debates h...      Speech  \n",
       "7   Group members completed a Winter Survival Task...      Speech  \n",
       "8       Scraped transcripts from The Chair, Season 1.  Television  \n",
       "9   A collection of all the conversations that occ...  Television  \n",
       "10  Dialogues extracted from the Project Gutenberg...        Text  \n",
       "11  A collection of Corpuses of Reddit data built ...        Text  "
      ]
     },
     "execution_count": 3,
     "metadata": {},
     "output_type": "execute_result"
    }
   ],
   "source": [
    "data_list = Path.cwd().parent.joinpath('data', 'metaanalysis-datasets.xlsx')\n",
    "data = pd.read_excel(data_list)\n",
    "data"
   ]
  },
  {
   "cell_type": "code",
   "execution_count": 25,
   "metadata": {},
   "outputs": [
    {
     "name": "stderr",
     "output_type": "stream",
     "text": [
      "12it [04:02, 20.18s/it]\n"
     ]
    }
   ],
   "source": [
    "datadir = Path.cwd().parent.joinpath('data')\n",
    "\n",
    "all_results = []\n",
    "for i, row in tqdm(data.iterrows()):\n",
    "    results_fname = datadir.joinpath(row['Short name'].lower() + '_results.pkl')\n",
    "    if results_fname.exists():\n",
    "        with open(results_fname, 'rb') as f:\n",
    "            results, _ = pickle.load(f)\n",
    "        \n",
    "        results = results.reset_index().rename(columns={\"index\": \"filename\"}).melt(id_vars=[\"filename\"], var_name=\"tense\", value_name=\"count\")\n",
    "        results['proportion'] = results['count'] / results.groupby('filename')['count'].transform('sum')\n",
    "        results['Dataset'] = row['Short name']\n",
    "\n",
    "        all_results.append(results)"
   ]
  },
  {
   "cell_type": "code",
   "execution_count": 31,
   "metadata": {},
   "outputs": [
    {
     "data": {
      "image/png": "[encoded data removed]",
      "text/plain": [
       "<Figure size 432x288 with 1 Axes>"
      ]
     },
     "metadata": {
      "needs_background": "light"
     },
     "output_type": "display_data"
    }
   ],
   "source": [
    "sns.barplot(pd.concat(all_results), x='tense', y='proportion', hue='Dataset', palette='Spectral')\n",
    "plt.xlabel('Tense', fontsize=14)\n",
    "plt.ylabel('Proportion of references', fontsize=14)\n",
    "plt.legend(loc='lower left', title='Dataset', frameon=True, ncol=2, fontsize=8, facecolor='white', framealpha=0.75)\n",
    "sns.despine(top=True, right=True)\n",
    "plt.tight_layout()\n",
    "\n",
    "plt.savefig('meta-analysis.pdf', bbox_inches='tight')"
   ]
  },
  {
   "cell_type": "code",
   "execution_count": 32,
   "metadata": {},
   "outputs": [],
   "source": [
    "def get_folder_name(url):\n",
    "    return [s for s in url.split('/') if '.zip' in s][0].split('?')[0][:-4]"
   ]
  },
  {
   "cell_type": "code",
   "execution_count": 34,
   "metadata": {},
   "outputs": [
    {
     "name": "stderr",
     "output_type": "stream",
     "text": [
      "100%|██████████| 1091/1091 [00:01<00:00, 864.50it/s]\n",
      "100%|██████████| 304713/304713 [00:17<00:00, 17048.45it/s]\n",
      "100%|██████████| 122646/122646 [00:16<00:00, 7625.85it/s]\n",
      " 57%|█████▋    | 975418/1700789 [04:16<03:11, 3789.07it/s]"
     ]
    }
   ],
   "source": [
    "for i, row in data.iterrows():    \n",
    "    folder = datadir.joinpath(get_folder_name(row['Data URL']))\n",
    "    docs = lsdir(str(folder.joinpath('*.txt')))\n",
    "    n_words = 0\n",
    "    for doc in tqdm(docs):\n",
    "        with open(doc, 'r') as f:\n",
    "            text = f.read()\n",
    "\n",
    "        # count words and add to total\n",
    "        n_words += len(text.split())\n",
    "    data.loc[i, 'Number of words'] = n_words\n"
   ]
  },
  {
   "cell_type": "code",
   "execution_count": null,
   "metadata": {},
   "outputs": [],
   "source": [
    "data"
   ]
  },
  {
   "cell_type": "code",
   "execution_count": null,
   "metadata": {},
   "outputs": [],
   "source": []
  }
 ],
 "metadata": {
  "kernelspec": {
   "display_name": "prediction-retrodiction",
   "language": "python",
   "name": "prediction-retrodiction"
  },
  "language_info": {
   "codemirror_mode": {
    "name": "ipython",
    "version": 3
   },
   "file_extension": ".py",
   "mimetype": "text/x-python",
   "name": "python",
   "nbconvert_exporter": "python",
   "pygments_lexer": "ipython3",
   "version": "3.10.11"
  },
  "orig_nbformat": 4
 },
 "nbformat": 4,
 "nbformat_minor": 2
}
